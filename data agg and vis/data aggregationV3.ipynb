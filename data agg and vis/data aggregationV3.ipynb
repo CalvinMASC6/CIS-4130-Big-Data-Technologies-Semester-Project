{
 "cells": [
  {
   "cell_type": "code",
   "execution_count": 1,
   "id": "21e5a25b",
   "metadata": {},
   "outputs": [],
   "source": [
    "from pyspark.sql import SparkSession\n",
    "from pyspark import SparkContext\n",
    "from google.cloud import storage\n",
    "from pyspark.sql.functions import col, mean, stddev, expr, date_format, count, avg\n",
    "from pyspark.sql import DataFrame"
   ]
  },
  {
   "cell_type": "code",
   "execution_count": null,
   "id": "f0bbaa9e",
   "metadata": {},
   "outputs": [],
   "source": [
    "# Create SparkContext\n",
    "sc = SparkContext.getOrCreate()\n",
    "\n",
    "# Set the log level to ERROR to suppress INFO messages\n",
    "sc.setLogLevel(\"ERROR\")"
   ]
  },
  {
   "cell_type": "code",
   "execution_count": 2,
   "id": "eb127c56",
   "metadata": {},
   "outputs": [
    {
     "data": {
      "text/html": [
       "<style>pre {white-space: pre !important}</style>"
      ],
      "text/plain": [
       "<IPython.core.display.HTML object>"
      ]
     },
     "metadata": {},
     "output_type": "display_data"
    }
   ],
   "source": [
    "#fix the formating of the shows, so they don't overlap.\n",
    "def hscroll(activate=True):\n",
    "  \"\"\"activate/deactivate horizontal scrolling for wide output cells\"\"\"\n",
    "  from IPython.display import display, HTML\n",
    "  style = ('pre-wrap','pre')[activate] # select white-space style\n",
    "  display(HTML(\"<style>pre {white-space: %s !important}</style>\" % style))\n",
    "hscroll()"
   ]
  },
  {
   "cell_type": "code",
   "execution_count": 3,
   "id": "047a50b1",
   "metadata": {},
   "outputs": [],
   "source": [
    "#removes rows were outliers are present in the selected column\n",
    "def remove_outliers_in_columns(df, column_name, threshold=2):\n",
    "    # Calculate mean and standard deviation\n",
    "    mean_val = df.select(mean(col(column_name))).collect()[0][0]\n",
    "    std_val = df.select(stddev(col(column_name))).collect()[0][0]\n",
    "\n",
    "    # Calculate lower and upper bounds\n",
    "    lower_bound = mean_val - threshold * std_val\n",
    "    upper_bound = mean_val + threshold * std_val\n",
    "\n",
    "    # Filter out rows outside the threshold\n",
    "    filtered_df = df.filter((col(column_name) >= lower_bound) & (col(column_name) <= upper_bound))\n",
    "\n",
    "    return filtered_df"
   ]
  },
  {
   "cell_type": "code",
   "execution_count": 5,
   "id": "3728f2a7",
   "metadata": {
    "scrolled": true
   },
   "outputs": [
    {
     "name": "stderr",
     "output_type": "stream",
     "text": [
      "                                                                                \r"
     ]
    },
    {
     "name": "stdout",
     "output_type": "stream",
     "text": [
      "Skipping file cleaned/\n",
      "Skipping file cleaned/yellow_tripdata_2011-01.parquet/\n",
      "Skipping file cleaned/yellow_tripdata_2011-01.parquet/_SUCCESS\n",
      "Processing cleaned/yellow_tripdata_2011-01.parquet/part-00000-82638fd0-5f42-4b31-9403-86fe7109d9be-c000.snappy.parquet:\n"
     ]
    },
    {
     "name": "stderr",
     "output_type": "stream",
     "text": [
      "                                                                                \r"
     ]
    },
    {
     "name": "stdout",
     "output_type": "stream",
     "text": [
      "Saved gs://my-bigdata-project-cm/aggregated/part-00000-82638fd0-5f42-4b31-9403-86fe7109d9be-c000.snappy.parquet\n",
      "Processing cleaned/yellow_tripdata_2011-01.parquet/part-00001-82638fd0-5f42-4b31-9403-86fe7109d9be-c000.snappy.parquet:\n"
     ]
    },
    {
     "name": "stderr",
     "output_type": "stream",
     "text": [
      "                                                                                \r"
     ]
    },
    {
     "name": "stdout",
     "output_type": "stream",
     "text": [
      "Saved gs://my-bigdata-project-cm/aggregated/part-00001-82638fd0-5f42-4b31-9403-86fe7109d9be-c000.snappy.parquet\n",
      "Processing cleaned/yellow_tripdata_2011-01.parquet/part-00002-82638fd0-5f42-4b31-9403-86fe7109d9be-c000.snappy.parquet:\n"
     ]
    },
    {
     "name": "stderr",
     "output_type": "stream",
     "text": [
      "                                                                                \r"
     ]
    },
    {
     "name": "stdout",
     "output_type": "stream",
     "text": [
      "Saved gs://my-bigdata-project-cm/aggregated/part-00002-82638fd0-5f42-4b31-9403-86fe7109d9be-c000.snappy.parquet\n",
      "Processing cleaned/yellow_tripdata_2011-01.parquet/part-00003-82638fd0-5f42-4b31-9403-86fe7109d9be-c000.snappy.parquet:\n"
     ]
    },
    {
     "name": "stderr",
     "output_type": "stream",
     "text": [
      "                                                                                \r"
     ]
    },
    {
     "name": "stdout",
     "output_type": "stream",
     "text": [
      "Saved gs://my-bigdata-project-cm/aggregated/part-00003-82638fd0-5f42-4b31-9403-86fe7109d9be-c000.snappy.parquet\n",
      "Processing cleaned/yellow_tripdata_2011-01.parquet/part-00004-82638fd0-5f42-4b31-9403-86fe7109d9be-c000.snappy.parquet:\n"
     ]
    },
    {
     "name": "stderr",
     "output_type": "stream",
     "text": [
      "                                                                                \r"
     ]
    },
    {
     "name": "stdout",
     "output_type": "stream",
     "text": [
      "Saved gs://my-bigdata-project-cm/aggregated/part-00004-82638fd0-5f42-4b31-9403-86fe7109d9be-c000.snappy.parquet\n",
      "Processing cleaned/yellow_tripdata_2011-01.parquet/part-00005-82638fd0-5f42-4b31-9403-86fe7109d9be-c000.snappy.parquet:\n"
     ]
    },
    {
     "name": "stderr",
     "output_type": "stream",
     "text": [
      "                                                                                \r"
     ]
    },
    {
     "name": "stdout",
     "output_type": "stream",
     "text": [
      "Saved gs://my-bigdata-project-cm/aggregated/part-00005-82638fd0-5f42-4b31-9403-86fe7109d9be-c000.snappy.parquet\n",
      "Processing cleaned/yellow_tripdata_2011-01.parquet/part-00006-82638fd0-5f42-4b31-9403-86fe7109d9be-c000.snappy.parquet:\n"
     ]
    },
    {
     "name": "stderr",
     "output_type": "stream",
     "text": [
      "                                                                                \r"
     ]
    },
    {
     "name": "stdout",
     "output_type": "stream",
     "text": [
      "Saved gs://my-bigdata-project-cm/aggregated/part-00006-82638fd0-5f42-4b31-9403-86fe7109d9be-c000.snappy.parquet\n",
      "Processing cleaned/yellow_tripdata_2011-01.parquet/part-00007-82638fd0-5f42-4b31-9403-86fe7109d9be-c000.snappy.parquet:\n"
     ]
    },
    {
     "name": "stderr",
     "output_type": "stream",
     "text": [
      "                                                                                \r"
     ]
    },
    {
     "name": "stdout",
     "output_type": "stream",
     "text": [
      "Saved gs://my-bigdata-project-cm/aggregated/part-00007-82638fd0-5f42-4b31-9403-86fe7109d9be-c000.snappy.parquet\n",
      "Processing cleaned/yellow_tripdata_2011-01.parquet/part-00008-82638fd0-5f42-4b31-9403-86fe7109d9be-c000.snappy.parquet:\n"
     ]
    },
    {
     "name": "stderr",
     "output_type": "stream",
     "text": [
      "                                                                                \r"
     ]
    },
    {
     "name": "stdout",
     "output_type": "stream",
     "text": [
      "Saved gs://my-bigdata-project-cm/aggregated/part-00008-82638fd0-5f42-4b31-9403-86fe7109d9be-c000.snappy.parquet\n",
      "Processing cleaned/yellow_tripdata_2011-01.parquet/part-00009-82638fd0-5f42-4b31-9403-86fe7109d9be-c000.snappy.parquet:\n"
     ]
    },
    {
     "name": "stderr",
     "output_type": "stream",
     "text": [
      "                                                                                \r"
     ]
    },
    {
     "name": "stdout",
     "output_type": "stream",
     "text": [
      "Saved gs://my-bigdata-project-cm/aggregated/part-00009-82638fd0-5f42-4b31-9403-86fe7109d9be-c000.snappy.parquet\n",
      "Processing cleaned/yellow_tripdata_2011-01.parquet/part-00010-82638fd0-5f42-4b31-9403-86fe7109d9be-c000.snappy.parquet:\n"
     ]
    },
    {
     "name": "stderr",
     "output_type": "stream",
     "text": [
      "                                                                                \r"
     ]
    },
    {
     "name": "stdout",
     "output_type": "stream",
     "text": [
      "Saved gs://my-bigdata-project-cm/aggregated/part-00010-82638fd0-5f42-4b31-9403-86fe7109d9be-c000.snappy.parquet\n",
      "Processing cleaned/yellow_tripdata_2011-01.parquet/part-00011-82638fd0-5f42-4b31-9403-86fe7109d9be-c000.snappy.parquet:\n"
     ]
    },
    {
     "name": "stderr",
     "output_type": "stream",
     "text": [
      "                                                                                \r"
     ]
    },
    {
     "name": "stdout",
     "output_type": "stream",
     "text": [
      "Saved gs://my-bigdata-project-cm/aggregated/part-00011-82638fd0-5f42-4b31-9403-86fe7109d9be-c000.snappy.parquet\n",
      "Skipping file cleaned/yellow_tripdata_2011-02.parquet/\n",
      "Skipping file cleaned/yellow_tripdata_2011-02.parquet/_SUCCESS\n",
      "Processing cleaned/yellow_tripdata_2011-02.parquet/part-00000-7ff5aa79-bb5c-4f73-aae0-c50bb951ea56-c000.snappy.parquet:\n"
     ]
    },
    {
     "name": "stderr",
     "output_type": "stream",
     "text": [
      "                                                                                \r"
     ]
    },
    {
     "name": "stdout",
     "output_type": "stream",
     "text": [
      "Saved gs://my-bigdata-project-cm/aggregated/part-00000-7ff5aa79-bb5c-4f73-aae0-c50bb951ea56-c000.snappy.parquet\n",
      "Processing cleaned/yellow_tripdata_2011-02.parquet/part-00001-7ff5aa79-bb5c-4f73-aae0-c50bb951ea56-c000.snappy.parquet:\n"
     ]
    },
    {
     "name": "stderr",
     "output_type": "stream",
     "text": [
      "                                                                                \r"
     ]
    },
    {
     "name": "stdout",
     "output_type": "stream",
     "text": [
      "Saved gs://my-bigdata-project-cm/aggregated/part-00001-7ff5aa79-bb5c-4f73-aae0-c50bb951ea56-c000.snappy.parquet\n",
      "Processing cleaned/yellow_tripdata_2011-02.parquet/part-00002-7ff5aa79-bb5c-4f73-aae0-c50bb951ea56-c000.snappy.parquet:\n"
     ]
    },
    {
     "name": "stderr",
     "output_type": "stream",
     "text": [
      "                                                                                \r"
     ]
    },
    {
     "name": "stdout",
     "output_type": "stream",
     "text": [
      "Saved gs://my-bigdata-project-cm/aggregated/part-00002-7ff5aa79-bb5c-4f73-aae0-c50bb951ea56-c000.snappy.parquet\n",
      "Processing cleaned/yellow_tripdata_2011-02.parquet/part-00003-7ff5aa79-bb5c-4f73-aae0-c50bb951ea56-c000.snappy.parquet:\n"
     ]
    },
    {
     "name": "stderr",
     "output_type": "stream",
     "text": [
      "                                                                                \r"
     ]
    },
    {
     "name": "stdout",
     "output_type": "stream",
     "text": [
      "Saved gs://my-bigdata-project-cm/aggregated/part-00003-7ff5aa79-bb5c-4f73-aae0-c50bb951ea56-c000.snappy.parquet\n",
      "Processing cleaned/yellow_tripdata_2011-02.parquet/part-00004-7ff5aa79-bb5c-4f73-aae0-c50bb951ea56-c000.snappy.parquet:\n"
     ]
    },
    {
     "name": "stderr",
     "output_type": "stream",
     "text": [
      "                                                                                \r"
     ]
    },
    {
     "name": "stdout",
     "output_type": "stream",
     "text": [
      "Saved gs://my-bigdata-project-cm/aggregated/part-00004-7ff5aa79-bb5c-4f73-aae0-c50bb951ea56-c000.snappy.parquet\n",
      "Processing cleaned/yellow_tripdata_2011-02.parquet/part-00005-7ff5aa79-bb5c-4f73-aae0-c50bb951ea56-c000.snappy.parquet:\n"
     ]
    },
    {
     "name": "stderr",
     "output_type": "stream",
     "text": [
      "                                                                                \r"
     ]
    },
    {
     "name": "stdout",
     "output_type": "stream",
     "text": [
      "Saved gs://my-bigdata-project-cm/aggregated/part-00005-7ff5aa79-bb5c-4f73-aae0-c50bb951ea56-c000.snappy.parquet\n",
      "Processing cleaned/yellow_tripdata_2011-02.parquet/part-00006-7ff5aa79-bb5c-4f73-aae0-c50bb951ea56-c000.snappy.parquet:\n"
     ]
    },
    {
     "name": "stderr",
     "output_type": "stream",
     "text": [
      "                                                                                \r"
     ]
    },
    {
     "name": "stdout",
     "output_type": "stream",
     "text": [
      "Saved gs://my-bigdata-project-cm/aggregated/part-00006-7ff5aa79-bb5c-4f73-aae0-c50bb951ea56-c000.snappy.parquet\n",
      "Processing cleaned/yellow_tripdata_2011-02.parquet/part-00007-7ff5aa79-bb5c-4f73-aae0-c50bb951ea56-c000.snappy.parquet:\n"
     ]
    },
    {
     "name": "stderr",
     "output_type": "stream",
     "text": [
      "                                                                                \r"
     ]
    },
    {
     "name": "stdout",
     "output_type": "stream",
     "text": [
      "Saved gs://my-bigdata-project-cm/aggregated/part-00007-7ff5aa79-bb5c-4f73-aae0-c50bb951ea56-c000.snappy.parquet\n",
      "Processing cleaned/yellow_tripdata_2011-02.parquet/part-00008-7ff5aa79-bb5c-4f73-aae0-c50bb951ea56-c000.snappy.parquet:\n"
     ]
    },
    {
     "name": "stderr",
     "output_type": "stream",
     "text": [
      "                                                                                \r"
     ]
    },
    {
     "name": "stdout",
     "output_type": "stream",
     "text": [
      "Saved gs://my-bigdata-project-cm/aggregated/part-00008-7ff5aa79-bb5c-4f73-aae0-c50bb951ea56-c000.snappy.parquet\n",
      "Processing cleaned/yellow_tripdata_2011-02.parquet/part-00009-7ff5aa79-bb5c-4f73-aae0-c50bb951ea56-c000.snappy.parquet:\n"
     ]
    },
    {
     "name": "stderr",
     "output_type": "stream",
     "text": [
      "                                                                                \r"
     ]
    },
    {
     "name": "stdout",
     "output_type": "stream",
     "text": [
      "Saved gs://my-bigdata-project-cm/aggregated/part-00009-7ff5aa79-bb5c-4f73-aae0-c50bb951ea56-c000.snappy.parquet\n",
      "Processing cleaned/yellow_tripdata_2011-02.parquet/part-00010-7ff5aa79-bb5c-4f73-aae0-c50bb951ea56-c000.snappy.parquet:\n"
     ]
    },
    {
     "name": "stderr",
     "output_type": "stream",
     "text": [
      "                                                                                \r"
     ]
    },
    {
     "name": "stdout",
     "output_type": "stream",
     "text": [
      "Saved gs://my-bigdata-project-cm/aggregated/part-00010-7ff5aa79-bb5c-4f73-aae0-c50bb951ea56-c000.snappy.parquet\n",
      "Processing cleaned/yellow_tripdata_2011-02.parquet/part-00011-7ff5aa79-bb5c-4f73-aae0-c50bb951ea56-c000.snappy.parquet:\n"
     ]
    },
    {
     "name": "stderr",
     "output_type": "stream",
     "text": [
      "                                                                                \r"
     ]
    },
    {
     "name": "stdout",
     "output_type": "stream",
     "text": [
      "Saved gs://my-bigdata-project-cm/aggregated/part-00011-7ff5aa79-bb5c-4f73-aae0-c50bb951ea56-c000.snappy.parquet\n",
      "Skipping file cleaned/yellow_tripdata_2011-03.parquet/\n",
      "Skipping file cleaned/yellow_tripdata_2011-03.parquet/_SUCCESS\n",
      "Processing cleaned/yellow_tripdata_2011-03.parquet/part-00000-f4ab5883-a956-42c2-85f3-c9b843e6e17c-c000.snappy.parquet:\n"
     ]
    },
    {
     "name": "stderr",
     "output_type": "stream",
     "text": [
      "                                                                                \r"
     ]
    },
    {
     "name": "stdout",
     "output_type": "stream",
     "text": [
      "Saved gs://my-bigdata-project-cm/aggregated/part-00000-f4ab5883-a956-42c2-85f3-c9b843e6e17c-c000.snappy.parquet\n",
      "Processing cleaned/yellow_tripdata_2011-03.parquet/part-00001-f4ab5883-a956-42c2-85f3-c9b843e6e17c-c000.snappy.parquet:\n"
     ]
    },
    {
     "name": "stderr",
     "output_type": "stream",
     "text": [
      "                                                                                \r"
     ]
    },
    {
     "name": "stdout",
     "output_type": "stream",
     "text": [
      "Saved gs://my-bigdata-project-cm/aggregated/part-00001-f4ab5883-a956-42c2-85f3-c9b843e6e17c-c000.snappy.parquet\n",
      "Processing cleaned/yellow_tripdata_2011-03.parquet/part-00002-f4ab5883-a956-42c2-85f3-c9b843e6e17c-c000.snappy.parquet:\n"
     ]
    },
    {
     "name": "stderr",
     "output_type": "stream",
     "text": [
      "                                                                                \r"
     ]
    },
    {
     "name": "stdout",
     "output_type": "stream",
     "text": [
      "Saved gs://my-bigdata-project-cm/aggregated/part-00002-f4ab5883-a956-42c2-85f3-c9b843e6e17c-c000.snappy.parquet\n",
      "Processing cleaned/yellow_tripdata_2011-03.parquet/part-00003-f4ab5883-a956-42c2-85f3-c9b843e6e17c-c000.snappy.parquet:\n"
     ]
    },
    {
     "name": "stderr",
     "output_type": "stream",
     "text": [
      "                                                                                \r"
     ]
    },
    {
     "name": "stdout",
     "output_type": "stream",
     "text": [
      "Saved gs://my-bigdata-project-cm/aggregated/part-00003-f4ab5883-a956-42c2-85f3-c9b843e6e17c-c000.snappy.parquet\n",
      "Processing cleaned/yellow_tripdata_2011-03.parquet/part-00004-f4ab5883-a956-42c2-85f3-c9b843e6e17c-c000.snappy.parquet:\n"
     ]
    },
    {
     "name": "stderr",
     "output_type": "stream",
     "text": [
      "                                                                                \r"
     ]
    },
    {
     "name": "stdout",
     "output_type": "stream",
     "text": [
      "Saved gs://my-bigdata-project-cm/aggregated/part-00004-f4ab5883-a956-42c2-85f3-c9b843e6e17c-c000.snappy.parquet\n",
      "Processing cleaned/yellow_tripdata_2011-03.parquet/part-00005-f4ab5883-a956-42c2-85f3-c9b843e6e17c-c000.snappy.parquet:\n"
     ]
    },
    {
     "name": "stderr",
     "output_type": "stream",
     "text": [
      "                                                                                \r"
     ]
    },
    {
     "name": "stdout",
     "output_type": "stream",
     "text": [
      "Saved gs://my-bigdata-project-cm/aggregated/part-00005-f4ab5883-a956-42c2-85f3-c9b843e6e17c-c000.snappy.parquet\n",
      "Processing cleaned/yellow_tripdata_2011-03.parquet/part-00006-f4ab5883-a956-42c2-85f3-c9b843e6e17c-c000.snappy.parquet:\n"
     ]
    },
    {
     "name": "stderr",
     "output_type": "stream",
     "text": [
      "                                                                                \r"
     ]
    },
    {
     "name": "stdout",
     "output_type": "stream",
     "text": [
      "Saved gs://my-bigdata-project-cm/aggregated/part-00006-f4ab5883-a956-42c2-85f3-c9b843e6e17c-c000.snappy.parquet\n",
      "Processing cleaned/yellow_tripdata_2011-03.parquet/part-00007-f4ab5883-a956-42c2-85f3-c9b843e6e17c-c000.snappy.parquet:\n"
     ]
    },
    {
     "name": "stderr",
     "output_type": "stream",
     "text": [
      "                                                                                \r"
     ]
    },
    {
     "name": "stdout",
     "output_type": "stream",
     "text": [
      "Saved gs://my-bigdata-project-cm/aggregated/part-00007-f4ab5883-a956-42c2-85f3-c9b843e6e17c-c000.snappy.parquet\n",
      "Processing cleaned/yellow_tripdata_2011-03.parquet/part-00008-f4ab5883-a956-42c2-85f3-c9b843e6e17c-c000.snappy.parquet:\n"
     ]
    },
    {
     "name": "stderr",
     "output_type": "stream",
     "text": [
      "                                                                                \r"
     ]
    },
    {
     "name": "stdout",
     "output_type": "stream",
     "text": [
      "Saved gs://my-bigdata-project-cm/aggregated/part-00008-f4ab5883-a956-42c2-85f3-c9b843e6e17c-c000.snappy.parquet\n",
      "Processing cleaned/yellow_tripdata_2011-03.parquet/part-00009-f4ab5883-a956-42c2-85f3-c9b843e6e17c-c000.snappy.parquet:\n"
     ]
    },
    {
     "name": "stderr",
     "output_type": "stream",
     "text": [
      "                                                                                \r"
     ]
    },
    {
     "name": "stdout",
     "output_type": "stream",
     "text": [
      "Saved gs://my-bigdata-project-cm/aggregated/part-00009-f4ab5883-a956-42c2-85f3-c9b843e6e17c-c000.snappy.parquet\n",
      "Processing cleaned/yellow_tripdata_2011-03.parquet/part-00010-f4ab5883-a956-42c2-85f3-c9b843e6e17c-c000.snappy.parquet:\n"
     ]
    },
    {
     "name": "stderr",
     "output_type": "stream",
     "text": [
      "                                                                                \r"
     ]
    },
    {
     "name": "stdout",
     "output_type": "stream",
     "text": [
      "Saved gs://my-bigdata-project-cm/aggregated/part-00010-f4ab5883-a956-42c2-85f3-c9b843e6e17c-c000.snappy.parquet\n",
      "Processing cleaned/yellow_tripdata_2011-03.parquet/part-00011-f4ab5883-a956-42c2-85f3-c9b843e6e17c-c000.snappy.parquet:\n"
     ]
    },
    {
     "name": "stderr",
     "output_type": "stream",
     "text": [
      "                                                                                \r"
     ]
    },
    {
     "name": "stdout",
     "output_type": "stream",
     "text": [
      "Saved gs://my-bigdata-project-cm/aggregated/part-00011-f4ab5883-a956-42c2-85f3-c9b843e6e17c-c000.snappy.parquet\n",
      "Processing cleaned/yellow_tripdata_2011-03.parquet/part-00012-f4ab5883-a956-42c2-85f3-c9b843e6e17c-c000.snappy.parquet:\n"
     ]
    },
    {
     "name": "stderr",
     "output_type": "stream",
     "text": [
      "                                                                                \r"
     ]
    },
    {
     "name": "stdout",
     "output_type": "stream",
     "text": [
      "Saved gs://my-bigdata-project-cm/aggregated/part-00012-f4ab5883-a956-42c2-85f3-c9b843e6e17c-c000.snappy.parquet\n",
      "Processing cleaned/yellow_tripdata_2011-03.parquet/part-00013-f4ab5883-a956-42c2-85f3-c9b843e6e17c-c000.snappy.parquet:\n"
     ]
    },
    {
     "name": "stderr",
     "output_type": "stream",
     "text": [
      "                                                                                \r"
     ]
    },
    {
     "name": "stdout",
     "output_type": "stream",
     "text": [
      "Saved gs://my-bigdata-project-cm/aggregated/part-00013-f4ab5883-a956-42c2-85f3-c9b843e6e17c-c000.snappy.parquet\n",
      "Skipping file cleaned/yellow_tripdata_2011-04.parquet/\n",
      "Skipping file cleaned/yellow_tripdata_2011-04.parquet/_SUCCESS\n",
      "Processing cleaned/yellow_tripdata_2011-04.parquet/part-00000-5cd26aba-aa0b-4a2f-9243-00b931da53aa-c000.snappy.parquet:\n"
     ]
    },
    {
     "name": "stderr",
     "output_type": "stream",
     "text": [
      "                                                                                \r"
     ]
    },
    {
     "name": "stdout",
     "output_type": "stream",
     "text": [
      "Saved gs://my-bigdata-project-cm/aggregated/part-00000-5cd26aba-aa0b-4a2f-9243-00b931da53aa-c000.snappy.parquet\n",
      "Processing cleaned/yellow_tripdata_2011-04.parquet/part-00001-5cd26aba-aa0b-4a2f-9243-00b931da53aa-c000.snappy.parquet:\n"
     ]
    },
    {
     "name": "stderr",
     "output_type": "stream",
     "text": [
      "                                                                                \r"
     ]
    },
    {
     "name": "stdout",
     "output_type": "stream",
     "text": [
      "Saved gs://my-bigdata-project-cm/aggregated/part-00001-5cd26aba-aa0b-4a2f-9243-00b931da53aa-c000.snappy.parquet\n",
      "Processing cleaned/yellow_tripdata_2011-04.parquet/part-00002-5cd26aba-aa0b-4a2f-9243-00b931da53aa-c000.snappy.parquet:\n"
     ]
    },
    {
     "name": "stderr",
     "output_type": "stream",
     "text": [
      "                                                                                \r"
     ]
    },
    {
     "name": "stdout",
     "output_type": "stream",
     "text": [
      "Saved gs://my-bigdata-project-cm/aggregated/part-00002-5cd26aba-aa0b-4a2f-9243-00b931da53aa-c000.snappy.parquet\n",
      "Processing cleaned/yellow_tripdata_2011-04.parquet/part-00003-5cd26aba-aa0b-4a2f-9243-00b931da53aa-c000.snappy.parquet:\n"
     ]
    },
    {
     "name": "stderr",
     "output_type": "stream",
     "text": [
      "                                                                                \r"
     ]
    },
    {
     "name": "stdout",
     "output_type": "stream",
     "text": [
      "Saved gs://my-bigdata-project-cm/aggregated/part-00003-5cd26aba-aa0b-4a2f-9243-00b931da53aa-c000.snappy.parquet\n",
      "Processing cleaned/yellow_tripdata_2011-04.parquet/part-00004-5cd26aba-aa0b-4a2f-9243-00b931da53aa-c000.snappy.parquet:\n"
     ]
    },
    {
     "name": "stderr",
     "output_type": "stream",
     "text": [
      "                                                                                \r"
     ]
    },
    {
     "name": "stdout",
     "output_type": "stream",
     "text": [
      "Saved gs://my-bigdata-project-cm/aggregated/part-00004-5cd26aba-aa0b-4a2f-9243-00b931da53aa-c000.snappy.parquet\n",
      "Processing cleaned/yellow_tripdata_2011-04.parquet/part-00005-5cd26aba-aa0b-4a2f-9243-00b931da53aa-c000.snappy.parquet:\n"
     ]
    },
    {
     "name": "stderr",
     "output_type": "stream",
     "text": [
      "                                                                                \r"
     ]
    },
    {
     "name": "stdout",
     "output_type": "stream",
     "text": [
      "Saved gs://my-bigdata-project-cm/aggregated/part-00005-5cd26aba-aa0b-4a2f-9243-00b931da53aa-c000.snappy.parquet\n",
      "Processing cleaned/yellow_tripdata_2011-04.parquet/part-00006-5cd26aba-aa0b-4a2f-9243-00b931da53aa-c000.snappy.parquet:\n"
     ]
    },
    {
     "name": "stderr",
     "output_type": "stream",
     "text": [
      "                                                                                \r"
     ]
    },
    {
     "name": "stdout",
     "output_type": "stream",
     "text": [
      "Saved gs://my-bigdata-project-cm/aggregated/part-00006-5cd26aba-aa0b-4a2f-9243-00b931da53aa-c000.snappy.parquet\n",
      "Processing cleaned/yellow_tripdata_2011-04.parquet/part-00007-5cd26aba-aa0b-4a2f-9243-00b931da53aa-c000.snappy.parquet:\n"
     ]
    },
    {
     "name": "stderr",
     "output_type": "stream",
     "text": [
      "                                                                                \r"
     ]
    },
    {
     "name": "stdout",
     "output_type": "stream",
     "text": [
      "Saved gs://my-bigdata-project-cm/aggregated/part-00007-5cd26aba-aa0b-4a2f-9243-00b931da53aa-c000.snappy.parquet\n",
      "Processing cleaned/yellow_tripdata_2011-04.parquet/part-00008-5cd26aba-aa0b-4a2f-9243-00b931da53aa-c000.snappy.parquet:\n"
     ]
    },
    {
     "name": "stderr",
     "output_type": "stream",
     "text": [
      "                                                                                \r"
     ]
    },
    {
     "name": "stdout",
     "output_type": "stream",
     "text": [
      "Saved gs://my-bigdata-project-cm/aggregated/part-00008-5cd26aba-aa0b-4a2f-9243-00b931da53aa-c000.snappy.parquet\n",
      "Processing cleaned/yellow_tripdata_2011-04.parquet/part-00009-5cd26aba-aa0b-4a2f-9243-00b931da53aa-c000.snappy.parquet:\n"
     ]
    },
    {
     "name": "stderr",
     "output_type": "stream",
     "text": [
      "                                                                                \r"
     ]
    },
    {
     "name": "stdout",
     "output_type": "stream",
     "text": [
      "Saved gs://my-bigdata-project-cm/aggregated/part-00009-5cd26aba-aa0b-4a2f-9243-00b931da53aa-c000.snappy.parquet\n",
      "Processing cleaned/yellow_tripdata_2011-04.parquet/part-00010-5cd26aba-aa0b-4a2f-9243-00b931da53aa-c000.snappy.parquet:\n"
     ]
    },
    {
     "name": "stderr",
     "output_type": "stream",
     "text": [
      "                                                                                \r"
     ]
    },
    {
     "name": "stdout",
     "output_type": "stream",
     "text": [
      "Saved gs://my-bigdata-project-cm/aggregated/part-00010-5cd26aba-aa0b-4a2f-9243-00b931da53aa-c000.snappy.parquet\n",
      "Processing cleaned/yellow_tripdata_2011-04.parquet/part-00011-5cd26aba-aa0b-4a2f-9243-00b931da53aa-c000.snappy.parquet:\n"
     ]
    },
    {
     "name": "stderr",
     "output_type": "stream",
     "text": [
      "                                                                                \r"
     ]
    },
    {
     "name": "stdout",
     "output_type": "stream",
     "text": [
      "Saved gs://my-bigdata-project-cm/aggregated/part-00011-5cd26aba-aa0b-4a2f-9243-00b931da53aa-c000.snappy.parquet\n",
      "Processing cleaned/yellow_tripdata_2011-04.parquet/part-00012-5cd26aba-aa0b-4a2f-9243-00b931da53aa-c000.snappy.parquet:\n"
     ]
    },
    {
     "name": "stderr",
     "output_type": "stream",
     "text": [
      "                                                                                \r"
     ]
    },
    {
     "name": "stdout",
     "output_type": "stream",
     "text": [
      "Saved gs://my-bigdata-project-cm/aggregated/part-00012-5cd26aba-aa0b-4a2f-9243-00b931da53aa-c000.snappy.parquet\n",
      "Skipping file cleaned/yellow_tripdata_2011-05.parquet/\n",
      "Skipping file cleaned/yellow_tripdata_2011-05.parquet/_SUCCESS\n",
      "Processing cleaned/yellow_tripdata_2011-05.parquet/part-00000-2ea20e22-be97-4b6a-ad12-73e3ac894b9a-c000.snappy.parquet:\n"
     ]
    },
    {
     "name": "stderr",
     "output_type": "stream",
     "text": [
      "                                                                                \r"
     ]
    },
    {
     "name": "stdout",
     "output_type": "stream",
     "text": [
      "Saved gs://my-bigdata-project-cm/aggregated/part-00000-2ea20e22-be97-4b6a-ad12-73e3ac894b9a-c000.snappy.parquet\n",
      "Processing cleaned/yellow_tripdata_2011-05.parquet/part-00001-2ea20e22-be97-4b6a-ad12-73e3ac894b9a-c000.snappy.parquet:\n"
     ]
    },
    {
     "name": "stderr",
     "output_type": "stream",
     "text": [
      "                                                                                \r"
     ]
    },
    {
     "name": "stdout",
     "output_type": "stream",
     "text": [
      "Saved gs://my-bigdata-project-cm/aggregated/part-00001-2ea20e22-be97-4b6a-ad12-73e3ac894b9a-c000.snappy.parquet\n",
      "Processing cleaned/yellow_tripdata_2011-05.parquet/part-00002-2ea20e22-be97-4b6a-ad12-73e3ac894b9a-c000.snappy.parquet:\n"
     ]
    },
    {
     "name": "stderr",
     "output_type": "stream",
     "text": [
      "                                                                                \r"
     ]
    },
    {
     "name": "stdout",
     "output_type": "stream",
     "text": [
      "Saved gs://my-bigdata-project-cm/aggregated/part-00002-2ea20e22-be97-4b6a-ad12-73e3ac894b9a-c000.snappy.parquet\n",
      "Processing cleaned/yellow_tripdata_2011-05.parquet/part-00003-2ea20e22-be97-4b6a-ad12-73e3ac894b9a-c000.snappy.parquet:\n"
     ]
    },
    {
     "name": "stderr",
     "output_type": "stream",
     "text": [
      "                                                                                \r"
     ]
    },
    {
     "name": "stdout",
     "output_type": "stream",
     "text": [
      "Saved gs://my-bigdata-project-cm/aggregated/part-00003-2ea20e22-be97-4b6a-ad12-73e3ac894b9a-c000.snappy.parquet\n",
      "Processing cleaned/yellow_tripdata_2011-05.parquet/part-00004-2ea20e22-be97-4b6a-ad12-73e3ac894b9a-c000.snappy.parquet:\n"
     ]
    },
    {
     "name": "stderr",
     "output_type": "stream",
     "text": [
      "                                                                                \r"
     ]
    },
    {
     "name": "stdout",
     "output_type": "stream",
     "text": [
      "Saved gs://my-bigdata-project-cm/aggregated/part-00004-2ea20e22-be97-4b6a-ad12-73e3ac894b9a-c000.snappy.parquet\n",
      "Processing cleaned/yellow_tripdata_2011-05.parquet/part-00005-2ea20e22-be97-4b6a-ad12-73e3ac894b9a-c000.snappy.parquet:\n"
     ]
    },
    {
     "name": "stderr",
     "output_type": "stream",
     "text": [
      "                                                                                \r"
     ]
    },
    {
     "name": "stdout",
     "output_type": "stream",
     "text": [
      "Saved gs://my-bigdata-project-cm/aggregated/part-00005-2ea20e22-be97-4b6a-ad12-73e3ac894b9a-c000.snappy.parquet\n",
      "Processing cleaned/yellow_tripdata_2011-05.parquet/part-00006-2ea20e22-be97-4b6a-ad12-73e3ac894b9a-c000.snappy.parquet:\n"
     ]
    },
    {
     "name": "stderr",
     "output_type": "stream",
     "text": [
      "                                                                                \r"
     ]
    },
    {
     "name": "stdout",
     "output_type": "stream",
     "text": [
      "Saved gs://my-bigdata-project-cm/aggregated/part-00006-2ea20e22-be97-4b6a-ad12-73e3ac894b9a-c000.snappy.parquet\n",
      "Processing cleaned/yellow_tripdata_2011-05.parquet/part-00007-2ea20e22-be97-4b6a-ad12-73e3ac894b9a-c000.snappy.parquet:\n"
     ]
    },
    {
     "name": "stderr",
     "output_type": "stream",
     "text": [
      "                                                                                \r"
     ]
    },
    {
     "name": "stdout",
     "output_type": "stream",
     "text": [
      "Saved gs://my-bigdata-project-cm/aggregated/part-00007-2ea20e22-be97-4b6a-ad12-73e3ac894b9a-c000.snappy.parquet\n",
      "Processing cleaned/yellow_tripdata_2011-05.parquet/part-00008-2ea20e22-be97-4b6a-ad12-73e3ac894b9a-c000.snappy.parquet:\n"
     ]
    },
    {
     "name": "stderr",
     "output_type": "stream",
     "text": [
      "                                                                                \r"
     ]
    },
    {
     "name": "stdout",
     "output_type": "stream",
     "text": [
      "Saved gs://my-bigdata-project-cm/aggregated/part-00008-2ea20e22-be97-4b6a-ad12-73e3ac894b9a-c000.snappy.parquet\n",
      "Processing cleaned/yellow_tripdata_2011-05.parquet/part-00009-2ea20e22-be97-4b6a-ad12-73e3ac894b9a-c000.snappy.parquet:\n"
     ]
    },
    {
     "name": "stderr",
     "output_type": "stream",
     "text": [
      "                                                                                \r"
     ]
    },
    {
     "name": "stdout",
     "output_type": "stream",
     "text": [
      "Saved gs://my-bigdata-project-cm/aggregated/part-00009-2ea20e22-be97-4b6a-ad12-73e3ac894b9a-c000.snappy.parquet\n",
      "Processing cleaned/yellow_tripdata_2011-05.parquet/part-00010-2ea20e22-be97-4b6a-ad12-73e3ac894b9a-c000.snappy.parquet:\n"
     ]
    },
    {
     "name": "stderr",
     "output_type": "stream",
     "text": [
      "                                                                                \r"
     ]
    },
    {
     "name": "stdout",
     "output_type": "stream",
     "text": [
      "Saved gs://my-bigdata-project-cm/aggregated/part-00010-2ea20e22-be97-4b6a-ad12-73e3ac894b9a-c000.snappy.parquet\n",
      "Processing cleaned/yellow_tripdata_2011-05.parquet/part-00011-2ea20e22-be97-4b6a-ad12-73e3ac894b9a-c000.snappy.parquet:\n"
     ]
    },
    {
     "name": "stderr",
     "output_type": "stream",
     "text": [
      "                                                                                \r"
     ]
    },
    {
     "name": "stdout",
     "output_type": "stream",
     "text": [
      "Saved gs://my-bigdata-project-cm/aggregated/part-00011-2ea20e22-be97-4b6a-ad12-73e3ac894b9a-c000.snappy.parquet\n",
      "Processing cleaned/yellow_tripdata_2011-05.parquet/part-00012-2ea20e22-be97-4b6a-ad12-73e3ac894b9a-c000.snappy.parquet:\n"
     ]
    },
    {
     "name": "stderr",
     "output_type": "stream",
     "text": [
      "                                                                                \r"
     ]
    },
    {
     "name": "stdout",
     "output_type": "stream",
     "text": [
      "Saved gs://my-bigdata-project-cm/aggregated/part-00012-2ea20e22-be97-4b6a-ad12-73e3ac894b9a-c000.snappy.parquet\n",
      "Skipping file cleaned/yellow_tripdata_2011-06.parquet/\n",
      "Skipping file cleaned/yellow_tripdata_2011-06.parquet/_SUCCESS\n",
      "Processing cleaned/yellow_tripdata_2011-06.parquet/part-00000-0cf911f9-a5c1-4dd3-8d54-d036925959ab-c000.snappy.parquet:\n"
     ]
    },
    {
     "name": "stderr",
     "output_type": "stream",
     "text": [
      "                                                                                \r"
     ]
    },
    {
     "name": "stdout",
     "output_type": "stream",
     "text": [
      "Saved gs://my-bigdata-project-cm/aggregated/part-00000-0cf911f9-a5c1-4dd3-8d54-d036925959ab-c000.snappy.parquet\n",
      "Processing cleaned/yellow_tripdata_2011-06.parquet/part-00001-0cf911f9-a5c1-4dd3-8d54-d036925959ab-c000.snappy.parquet:\n"
     ]
    },
    {
     "name": "stderr",
     "output_type": "stream",
     "text": [
      "                                                                                \r"
     ]
    },
    {
     "name": "stdout",
     "output_type": "stream",
     "text": [
      "Saved gs://my-bigdata-project-cm/aggregated/part-00001-0cf911f9-a5c1-4dd3-8d54-d036925959ab-c000.snappy.parquet\n",
      "Processing cleaned/yellow_tripdata_2011-06.parquet/part-00002-0cf911f9-a5c1-4dd3-8d54-d036925959ab-c000.snappy.parquet:\n"
     ]
    },
    {
     "name": "stderr",
     "output_type": "stream",
     "text": [
      "                                                                                \r"
     ]
    },
    {
     "name": "stdout",
     "output_type": "stream",
     "text": [
      "Saved gs://my-bigdata-project-cm/aggregated/part-00002-0cf911f9-a5c1-4dd3-8d54-d036925959ab-c000.snappy.parquet\n",
      "Processing cleaned/yellow_tripdata_2011-06.parquet/part-00003-0cf911f9-a5c1-4dd3-8d54-d036925959ab-c000.snappy.parquet:\n"
     ]
    },
    {
     "name": "stderr",
     "output_type": "stream",
     "text": [
      "                                                                                \r"
     ]
    },
    {
     "name": "stdout",
     "output_type": "stream",
     "text": [
      "Saved gs://my-bigdata-project-cm/aggregated/part-00003-0cf911f9-a5c1-4dd3-8d54-d036925959ab-c000.snappy.parquet\n",
      "Processing cleaned/yellow_tripdata_2011-06.parquet/part-00004-0cf911f9-a5c1-4dd3-8d54-d036925959ab-c000.snappy.parquet:\n"
     ]
    },
    {
     "name": "stderr",
     "output_type": "stream",
     "text": [
      "                                                                                \r"
     ]
    },
    {
     "name": "stdout",
     "output_type": "stream",
     "text": [
      "Saved gs://my-bigdata-project-cm/aggregated/part-00004-0cf911f9-a5c1-4dd3-8d54-d036925959ab-c000.snappy.parquet\n",
      "Processing cleaned/yellow_tripdata_2011-06.parquet/part-00005-0cf911f9-a5c1-4dd3-8d54-d036925959ab-c000.snappy.parquet:\n"
     ]
    },
    {
     "name": "stderr",
     "output_type": "stream",
     "text": [
      "                                                                                \r"
     ]
    },
    {
     "name": "stdout",
     "output_type": "stream",
     "text": [
      "Saved gs://my-bigdata-project-cm/aggregated/part-00005-0cf911f9-a5c1-4dd3-8d54-d036925959ab-c000.snappy.parquet\n",
      "Processing cleaned/yellow_tripdata_2011-06.parquet/part-00006-0cf911f9-a5c1-4dd3-8d54-d036925959ab-c000.snappy.parquet:\n"
     ]
    },
    {
     "name": "stderr",
     "output_type": "stream",
     "text": [
      "                                                                                \r"
     ]
    },
    {
     "name": "stdout",
     "output_type": "stream",
     "text": [
      "Saved gs://my-bigdata-project-cm/aggregated/part-00006-0cf911f9-a5c1-4dd3-8d54-d036925959ab-c000.snappy.parquet\n",
      "Processing cleaned/yellow_tripdata_2011-06.parquet/part-00007-0cf911f9-a5c1-4dd3-8d54-d036925959ab-c000.snappy.parquet:\n"
     ]
    },
    {
     "name": "stderr",
     "output_type": "stream",
     "text": [
      "                                                                                \r"
     ]
    },
    {
     "name": "stdout",
     "output_type": "stream",
     "text": [
      "Saved gs://my-bigdata-project-cm/aggregated/part-00007-0cf911f9-a5c1-4dd3-8d54-d036925959ab-c000.snappy.parquet\n",
      "Processing cleaned/yellow_tripdata_2011-06.parquet/part-00008-0cf911f9-a5c1-4dd3-8d54-d036925959ab-c000.snappy.parquet:\n"
     ]
    },
    {
     "name": "stderr",
     "output_type": "stream",
     "text": [
      "                                                                                \r"
     ]
    },
    {
     "name": "stdout",
     "output_type": "stream",
     "text": [
      "Saved gs://my-bigdata-project-cm/aggregated/part-00008-0cf911f9-a5c1-4dd3-8d54-d036925959ab-c000.snappy.parquet\n",
      "Processing cleaned/yellow_tripdata_2011-06.parquet/part-00009-0cf911f9-a5c1-4dd3-8d54-d036925959ab-c000.snappy.parquet:\n"
     ]
    },
    {
     "name": "stderr",
     "output_type": "stream",
     "text": [
      "                                                                                \r"
     ]
    },
    {
     "name": "stdout",
     "output_type": "stream",
     "text": [
      "Saved gs://my-bigdata-project-cm/aggregated/part-00009-0cf911f9-a5c1-4dd3-8d54-d036925959ab-c000.snappy.parquet\n",
      "Processing cleaned/yellow_tripdata_2011-06.parquet/part-00010-0cf911f9-a5c1-4dd3-8d54-d036925959ab-c000.snappy.parquet:\n"
     ]
    },
    {
     "name": "stderr",
     "output_type": "stream",
     "text": [
      "                                                                                \r"
     ]
    },
    {
     "name": "stdout",
     "output_type": "stream",
     "text": [
      "Saved gs://my-bigdata-project-cm/aggregated/part-00010-0cf911f9-a5c1-4dd3-8d54-d036925959ab-c000.snappy.parquet\n",
      "Processing cleaned/yellow_tripdata_2011-06.parquet/part-00011-0cf911f9-a5c1-4dd3-8d54-d036925959ab-c000.snappy.parquet:\n"
     ]
    },
    {
     "name": "stderr",
     "output_type": "stream",
     "text": [
      "                                                                                \r"
     ]
    },
    {
     "name": "stdout",
     "output_type": "stream",
     "text": [
      "Saved gs://my-bigdata-project-cm/aggregated/part-00011-0cf911f9-a5c1-4dd3-8d54-d036925959ab-c000.snappy.parquet\n",
      "Processing cleaned/yellow_tripdata_2011-06.parquet/part-00012-0cf911f9-a5c1-4dd3-8d54-d036925959ab-c000.snappy.parquet:\n"
     ]
    },
    {
     "name": "stderr",
     "output_type": "stream",
     "text": [
      "                                                                                \r"
     ]
    },
    {
     "name": "stdout",
     "output_type": "stream",
     "text": [
      "Saved gs://my-bigdata-project-cm/aggregated/part-00012-0cf911f9-a5c1-4dd3-8d54-d036925959ab-c000.snappy.parquet\n",
      "Skipping file cleaned/yellow_tripdata_2011-07.parquet/\n",
      "Skipping file cleaned/yellow_tripdata_2011-07.parquet/_SUCCESS\n",
      "Processing cleaned/yellow_tripdata_2011-07.parquet/part-00000-8f3f005b-4e0a-4fe5-828f-ac6e22c33c31-c000.snappy.parquet:\n"
     ]
    },
    {
     "name": "stderr",
     "output_type": "stream",
     "text": [
      "                                                                                \r"
     ]
    },
    {
     "name": "stdout",
     "output_type": "stream",
     "text": [
      "Saved gs://my-bigdata-project-cm/aggregated/part-00000-8f3f005b-4e0a-4fe5-828f-ac6e22c33c31-c000.snappy.parquet\n",
      "Processing cleaned/yellow_tripdata_2011-07.parquet/part-00001-8f3f005b-4e0a-4fe5-828f-ac6e22c33c31-c000.snappy.parquet:\n"
     ]
    },
    {
     "name": "stderr",
     "output_type": "stream",
     "text": [
      "                                                                                \r"
     ]
    },
    {
     "name": "stdout",
     "output_type": "stream",
     "text": [
      "Saved gs://my-bigdata-project-cm/aggregated/part-00001-8f3f005b-4e0a-4fe5-828f-ac6e22c33c31-c000.snappy.parquet\n",
      "Processing cleaned/yellow_tripdata_2011-07.parquet/part-00002-8f3f005b-4e0a-4fe5-828f-ac6e22c33c31-c000.snappy.parquet:\n"
     ]
    },
    {
     "name": "stderr",
     "output_type": "stream",
     "text": [
      "                                                                                \r"
     ]
    },
    {
     "name": "stdout",
     "output_type": "stream",
     "text": [
      "Saved gs://my-bigdata-project-cm/aggregated/part-00002-8f3f005b-4e0a-4fe5-828f-ac6e22c33c31-c000.snappy.parquet\n",
      "Processing cleaned/yellow_tripdata_2011-07.parquet/part-00003-8f3f005b-4e0a-4fe5-828f-ac6e22c33c31-c000.snappy.parquet:\n"
     ]
    },
    {
     "name": "stderr",
     "output_type": "stream",
     "text": [
      "                                                                                \r"
     ]
    },
    {
     "name": "stdout",
     "output_type": "stream",
     "text": [
      "Saved gs://my-bigdata-project-cm/aggregated/part-00003-8f3f005b-4e0a-4fe5-828f-ac6e22c33c31-c000.snappy.parquet\n",
      "Processing cleaned/yellow_tripdata_2011-07.parquet/part-00004-8f3f005b-4e0a-4fe5-828f-ac6e22c33c31-c000.snappy.parquet:\n"
     ]
    },
    {
     "name": "stderr",
     "output_type": "stream",
     "text": [
      "                                                                                \r"
     ]
    },
    {
     "name": "stdout",
     "output_type": "stream",
     "text": [
      "Saved gs://my-bigdata-project-cm/aggregated/part-00004-8f3f005b-4e0a-4fe5-828f-ac6e22c33c31-c000.snappy.parquet\n",
      "Processing cleaned/yellow_tripdata_2011-07.parquet/part-00005-8f3f005b-4e0a-4fe5-828f-ac6e22c33c31-c000.snappy.parquet:\n"
     ]
    },
    {
     "name": "stderr",
     "output_type": "stream",
     "text": [
      "                                                                                \r"
     ]
    },
    {
     "name": "stdout",
     "output_type": "stream",
     "text": [
      "Saved gs://my-bigdata-project-cm/aggregated/part-00005-8f3f005b-4e0a-4fe5-828f-ac6e22c33c31-c000.snappy.parquet\n",
      "Processing cleaned/yellow_tripdata_2011-07.parquet/part-00006-8f3f005b-4e0a-4fe5-828f-ac6e22c33c31-c000.snappy.parquet:\n"
     ]
    },
    {
     "name": "stderr",
     "output_type": "stream",
     "text": [
      "                                                                                \r"
     ]
    },
    {
     "name": "stdout",
     "output_type": "stream",
     "text": [
      "Saved gs://my-bigdata-project-cm/aggregated/part-00006-8f3f005b-4e0a-4fe5-828f-ac6e22c33c31-c000.snappy.parquet\n",
      "Processing cleaned/yellow_tripdata_2011-07.parquet/part-00007-8f3f005b-4e0a-4fe5-828f-ac6e22c33c31-c000.snappy.parquet:\n"
     ]
    },
    {
     "name": "stderr",
     "output_type": "stream",
     "text": [
      "                                                                                \r"
     ]
    },
    {
     "name": "stdout",
     "output_type": "stream",
     "text": [
      "Saved gs://my-bigdata-project-cm/aggregated/part-00007-8f3f005b-4e0a-4fe5-828f-ac6e22c33c31-c000.snappy.parquet\n",
      "Processing cleaned/yellow_tripdata_2011-07.parquet/part-00008-8f3f005b-4e0a-4fe5-828f-ac6e22c33c31-c000.snappy.parquet:\n"
     ]
    },
    {
     "name": "stderr",
     "output_type": "stream",
     "text": [
      "                                                                                \r"
     ]
    },
    {
     "name": "stdout",
     "output_type": "stream",
     "text": [
      "Saved gs://my-bigdata-project-cm/aggregated/part-00008-8f3f005b-4e0a-4fe5-828f-ac6e22c33c31-c000.snappy.parquet\n",
      "Processing cleaned/yellow_tripdata_2011-07.parquet/part-00009-8f3f005b-4e0a-4fe5-828f-ac6e22c33c31-c000.snappy.parquet:\n"
     ]
    },
    {
     "name": "stderr",
     "output_type": "stream",
     "text": [
      "                                                                                \r"
     ]
    },
    {
     "name": "stdout",
     "output_type": "stream",
     "text": [
      "Saved gs://my-bigdata-project-cm/aggregated/part-00009-8f3f005b-4e0a-4fe5-828f-ac6e22c33c31-c000.snappy.parquet\n",
      "Processing cleaned/yellow_tripdata_2011-07.parquet/part-00010-8f3f005b-4e0a-4fe5-828f-ac6e22c33c31-c000.snappy.parquet:\n"
     ]
    },
    {
     "name": "stderr",
     "output_type": "stream",
     "text": [
      "                                                                                \r"
     ]
    },
    {
     "name": "stdout",
     "output_type": "stream",
     "text": [
      "Saved gs://my-bigdata-project-cm/aggregated/part-00010-8f3f005b-4e0a-4fe5-828f-ac6e22c33c31-c000.snappy.parquet\n",
      "Processing cleaned/yellow_tripdata_2011-07.parquet/part-00011-8f3f005b-4e0a-4fe5-828f-ac6e22c33c31-c000.snappy.parquet:\n"
     ]
    },
    {
     "name": "stderr",
     "output_type": "stream",
     "text": [
      "                                                                                \r"
     ]
    },
    {
     "name": "stdout",
     "output_type": "stream",
     "text": [
      "Saved gs://my-bigdata-project-cm/aggregated/part-00011-8f3f005b-4e0a-4fe5-828f-ac6e22c33c31-c000.snappy.parquet\n",
      "Processing cleaned/yellow_tripdata_2011-07.parquet/part-00012-8f3f005b-4e0a-4fe5-828f-ac6e22c33c31-c000.snappy.parquet:\n"
     ]
    },
    {
     "name": "stderr",
     "output_type": "stream",
     "text": [
      "                                                                                \r"
     ]
    },
    {
     "name": "stdout",
     "output_type": "stream",
     "text": [
      "Saved gs://my-bigdata-project-cm/aggregated/part-00012-8f3f005b-4e0a-4fe5-828f-ac6e22c33c31-c000.snappy.parquet\n",
      "Skipping file cleaned/yellow_tripdata_2011-08.parquet/\n",
      "Skipping file cleaned/yellow_tripdata_2011-08.parquet/_SUCCESS\n",
      "Processing cleaned/yellow_tripdata_2011-08.parquet/part-00000-d437d2c2-e8c2-4476-b70f-177cf8f3893c-c000.snappy.parquet:\n"
     ]
    },
    {
     "name": "stderr",
     "output_type": "stream",
     "text": [
      "                                                                                \r"
     ]
    },
    {
     "name": "stdout",
     "output_type": "stream",
     "text": [
      "Saved gs://my-bigdata-project-cm/aggregated/part-00000-d437d2c2-e8c2-4476-b70f-177cf8f3893c-c000.snappy.parquet\n",
      "Processing cleaned/yellow_tripdata_2011-08.parquet/part-00001-d437d2c2-e8c2-4476-b70f-177cf8f3893c-c000.snappy.parquet:\n"
     ]
    },
    {
     "name": "stderr",
     "output_type": "stream",
     "text": [
      "                                                                                \r"
     ]
    },
    {
     "name": "stdout",
     "output_type": "stream",
     "text": [
      "Saved gs://my-bigdata-project-cm/aggregated/part-00001-d437d2c2-e8c2-4476-b70f-177cf8f3893c-c000.snappy.parquet\n",
      "Processing cleaned/yellow_tripdata_2011-08.parquet/part-00002-d437d2c2-e8c2-4476-b70f-177cf8f3893c-c000.snappy.parquet:\n"
     ]
    },
    {
     "name": "stderr",
     "output_type": "stream",
     "text": [
      "                                                                                \r"
     ]
    },
    {
     "name": "stdout",
     "output_type": "stream",
     "text": [
      "Saved gs://my-bigdata-project-cm/aggregated/part-00002-d437d2c2-e8c2-4476-b70f-177cf8f3893c-c000.snappy.parquet\n",
      "Processing cleaned/yellow_tripdata_2011-08.parquet/part-00003-d437d2c2-e8c2-4476-b70f-177cf8f3893c-c000.snappy.parquet:\n"
     ]
    },
    {
     "name": "stderr",
     "output_type": "stream",
     "text": [
      "                                                                                \r"
     ]
    },
    {
     "name": "stdout",
     "output_type": "stream",
     "text": [
      "Saved gs://my-bigdata-project-cm/aggregated/part-00003-d437d2c2-e8c2-4476-b70f-177cf8f3893c-c000.snappy.parquet\n",
      "Processing cleaned/yellow_tripdata_2011-08.parquet/part-00004-d437d2c2-e8c2-4476-b70f-177cf8f3893c-c000.snappy.parquet:\n"
     ]
    },
    {
     "name": "stderr",
     "output_type": "stream",
     "text": [
      "                                                                                \r"
     ]
    },
    {
     "name": "stdout",
     "output_type": "stream",
     "text": [
      "Saved gs://my-bigdata-project-cm/aggregated/part-00004-d437d2c2-e8c2-4476-b70f-177cf8f3893c-c000.snappy.parquet\n",
      "Processing cleaned/yellow_tripdata_2011-08.parquet/part-00005-d437d2c2-e8c2-4476-b70f-177cf8f3893c-c000.snappy.parquet:\n"
     ]
    },
    {
     "name": "stderr",
     "output_type": "stream",
     "text": [
      "                                                                                \r"
     ]
    },
    {
     "name": "stdout",
     "output_type": "stream",
     "text": [
      "Saved gs://my-bigdata-project-cm/aggregated/part-00005-d437d2c2-e8c2-4476-b70f-177cf8f3893c-c000.snappy.parquet\n",
      "Processing cleaned/yellow_tripdata_2011-08.parquet/part-00006-d437d2c2-e8c2-4476-b70f-177cf8f3893c-c000.snappy.parquet:\n"
     ]
    },
    {
     "name": "stderr",
     "output_type": "stream",
     "text": [
      "                                                                                \r"
     ]
    },
    {
     "name": "stdout",
     "output_type": "stream",
     "text": [
      "Saved gs://my-bigdata-project-cm/aggregated/part-00006-d437d2c2-e8c2-4476-b70f-177cf8f3893c-c000.snappy.parquet\n",
      "Processing cleaned/yellow_tripdata_2011-08.parquet/part-00007-d437d2c2-e8c2-4476-b70f-177cf8f3893c-c000.snappy.parquet:\n"
     ]
    },
    {
     "name": "stderr",
     "output_type": "stream",
     "text": [
      "                                                                                \r"
     ]
    },
    {
     "name": "stdout",
     "output_type": "stream",
     "text": [
      "Saved gs://my-bigdata-project-cm/aggregated/part-00007-d437d2c2-e8c2-4476-b70f-177cf8f3893c-c000.snappy.parquet\n",
      "Processing cleaned/yellow_tripdata_2011-08.parquet/part-00008-d437d2c2-e8c2-4476-b70f-177cf8f3893c-c000.snappy.parquet:\n"
     ]
    },
    {
     "name": "stderr",
     "output_type": "stream",
     "text": [
      "                                                                                \r"
     ]
    },
    {
     "name": "stdout",
     "output_type": "stream",
     "text": [
      "Saved gs://my-bigdata-project-cm/aggregated/part-00008-d437d2c2-e8c2-4476-b70f-177cf8f3893c-c000.snappy.parquet\n",
      "Processing cleaned/yellow_tripdata_2011-08.parquet/part-00009-d437d2c2-e8c2-4476-b70f-177cf8f3893c-c000.snappy.parquet:\n"
     ]
    },
    {
     "name": "stderr",
     "output_type": "stream",
     "text": [
      "                                                                                \r"
     ]
    },
    {
     "name": "stdout",
     "output_type": "stream",
     "text": [
      "Saved gs://my-bigdata-project-cm/aggregated/part-00009-d437d2c2-e8c2-4476-b70f-177cf8f3893c-c000.snappy.parquet\n",
      "Processing cleaned/yellow_tripdata_2011-08.parquet/part-00010-d437d2c2-e8c2-4476-b70f-177cf8f3893c-c000.snappy.parquet:\n"
     ]
    },
    {
     "name": "stderr",
     "output_type": "stream",
     "text": [
      "                                                                                \r"
     ]
    },
    {
     "name": "stdout",
     "output_type": "stream",
     "text": [
      "Saved gs://my-bigdata-project-cm/aggregated/part-00010-d437d2c2-e8c2-4476-b70f-177cf8f3893c-c000.snappy.parquet\n",
      "Processing cleaned/yellow_tripdata_2011-08.parquet/part-00011-d437d2c2-e8c2-4476-b70f-177cf8f3893c-c000.snappy.parquet:\n"
     ]
    },
    {
     "name": "stderr",
     "output_type": "stream",
     "text": [
      "                                                                                \r"
     ]
    },
    {
     "name": "stdout",
     "output_type": "stream",
     "text": [
      "Saved gs://my-bigdata-project-cm/aggregated/part-00011-d437d2c2-e8c2-4476-b70f-177cf8f3893c-c000.snappy.parquet\n",
      "Skipping file cleaned/yellow_tripdata_2011-09.parquet/\n",
      "Skipping file cleaned/yellow_tripdata_2011-09.parquet/_SUCCESS\n",
      "Processing cleaned/yellow_tripdata_2011-09.parquet/part-00000-cfb31fc4-f1b4-4e3e-89fb-84df6c5bcdbd-c000.snappy.parquet:\n"
     ]
    },
    {
     "name": "stderr",
     "output_type": "stream",
     "text": [
      "                                                                                \r"
     ]
    },
    {
     "name": "stdout",
     "output_type": "stream",
     "text": [
      "Saved gs://my-bigdata-project-cm/aggregated/part-00000-cfb31fc4-f1b4-4e3e-89fb-84df6c5bcdbd-c000.snappy.parquet\n",
      "Processing cleaned/yellow_tripdata_2011-09.parquet/part-00001-cfb31fc4-f1b4-4e3e-89fb-84df6c5bcdbd-c000.snappy.parquet:\n"
     ]
    },
    {
     "name": "stderr",
     "output_type": "stream",
     "text": [
      "                                                                                \r"
     ]
    },
    {
     "name": "stdout",
     "output_type": "stream",
     "text": [
      "Saved gs://my-bigdata-project-cm/aggregated/part-00001-cfb31fc4-f1b4-4e3e-89fb-84df6c5bcdbd-c000.snappy.parquet\n",
      "Processing cleaned/yellow_tripdata_2011-09.parquet/part-00002-cfb31fc4-f1b4-4e3e-89fb-84df6c5bcdbd-c000.snappy.parquet:\n"
     ]
    },
    {
     "name": "stderr",
     "output_type": "stream",
     "text": [
      "                                                                                \r"
     ]
    },
    {
     "name": "stdout",
     "output_type": "stream",
     "text": [
      "Saved gs://my-bigdata-project-cm/aggregated/part-00002-cfb31fc4-f1b4-4e3e-89fb-84df6c5bcdbd-c000.snappy.parquet\n",
      "Processing cleaned/yellow_tripdata_2011-09.parquet/part-00003-cfb31fc4-f1b4-4e3e-89fb-84df6c5bcdbd-c000.snappy.parquet:\n"
     ]
    },
    {
     "name": "stderr",
     "output_type": "stream",
     "text": [
      "                                                                                \r"
     ]
    },
    {
     "name": "stdout",
     "output_type": "stream",
     "text": [
      "Saved gs://my-bigdata-project-cm/aggregated/part-00003-cfb31fc4-f1b4-4e3e-89fb-84df6c5bcdbd-c000.snappy.parquet\n",
      "Processing cleaned/yellow_tripdata_2011-09.parquet/part-00004-cfb31fc4-f1b4-4e3e-89fb-84df6c5bcdbd-c000.snappy.parquet:\n"
     ]
    },
    {
     "name": "stderr",
     "output_type": "stream",
     "text": [
      "                                                                                \r"
     ]
    },
    {
     "name": "stdout",
     "output_type": "stream",
     "text": [
      "Saved gs://my-bigdata-project-cm/aggregated/part-00004-cfb31fc4-f1b4-4e3e-89fb-84df6c5bcdbd-c000.snappy.parquet\n",
      "Processing cleaned/yellow_tripdata_2011-09.parquet/part-00005-cfb31fc4-f1b4-4e3e-89fb-84df6c5bcdbd-c000.snappy.parquet:\n"
     ]
    },
    {
     "name": "stderr",
     "output_type": "stream",
     "text": [
      "                                                                                \r"
     ]
    },
    {
     "name": "stdout",
     "output_type": "stream",
     "text": [
      "Saved gs://my-bigdata-project-cm/aggregated/part-00005-cfb31fc4-f1b4-4e3e-89fb-84df6c5bcdbd-c000.snappy.parquet\n",
      "Processing cleaned/yellow_tripdata_2011-09.parquet/part-00006-cfb31fc4-f1b4-4e3e-89fb-84df6c5bcdbd-c000.snappy.parquet:\n"
     ]
    },
    {
     "name": "stderr",
     "output_type": "stream",
     "text": [
      "                                                                                \r"
     ]
    },
    {
     "name": "stdout",
     "output_type": "stream",
     "text": [
      "Saved gs://my-bigdata-project-cm/aggregated/part-00006-cfb31fc4-f1b4-4e3e-89fb-84df6c5bcdbd-c000.snappy.parquet\n",
      "Processing cleaned/yellow_tripdata_2011-09.parquet/part-00007-cfb31fc4-f1b4-4e3e-89fb-84df6c5bcdbd-c000.snappy.parquet:\n"
     ]
    },
    {
     "name": "stderr",
     "output_type": "stream",
     "text": [
      "                                                                                \r"
     ]
    },
    {
     "name": "stdout",
     "output_type": "stream",
     "text": [
      "Saved gs://my-bigdata-project-cm/aggregated/part-00007-cfb31fc4-f1b4-4e3e-89fb-84df6c5bcdbd-c000.snappy.parquet\n",
      "Processing cleaned/yellow_tripdata_2011-09.parquet/part-00008-cfb31fc4-f1b4-4e3e-89fb-84df6c5bcdbd-c000.snappy.parquet:\n"
     ]
    },
    {
     "name": "stderr",
     "output_type": "stream",
     "text": [
      "                                                                                \r"
     ]
    },
    {
     "name": "stdout",
     "output_type": "stream",
     "text": [
      "Saved gs://my-bigdata-project-cm/aggregated/part-00008-cfb31fc4-f1b4-4e3e-89fb-84df6c5bcdbd-c000.snappy.parquet\n",
      "Processing cleaned/yellow_tripdata_2011-09.parquet/part-00009-cfb31fc4-f1b4-4e3e-89fb-84df6c5bcdbd-c000.snappy.parquet:\n"
     ]
    },
    {
     "name": "stderr",
     "output_type": "stream",
     "text": [
      "                                                                                \r"
     ]
    },
    {
     "name": "stdout",
     "output_type": "stream",
     "text": [
      "Saved gs://my-bigdata-project-cm/aggregated/part-00009-cfb31fc4-f1b4-4e3e-89fb-84df6c5bcdbd-c000.snappy.parquet\n",
      "Processing cleaned/yellow_tripdata_2011-09.parquet/part-00010-cfb31fc4-f1b4-4e3e-89fb-84df6c5bcdbd-c000.snappy.parquet:\n"
     ]
    },
    {
     "name": "stderr",
     "output_type": "stream",
     "text": [
      "                                                                                \r"
     ]
    },
    {
     "name": "stdout",
     "output_type": "stream",
     "text": [
      "Saved gs://my-bigdata-project-cm/aggregated/part-00010-cfb31fc4-f1b4-4e3e-89fb-84df6c5bcdbd-c000.snappy.parquet\n",
      "Processing cleaned/yellow_tripdata_2011-09.parquet/part-00011-cfb31fc4-f1b4-4e3e-89fb-84df6c5bcdbd-c000.snappy.parquet:\n"
     ]
    },
    {
     "name": "stderr",
     "output_type": "stream",
     "text": [
      "                                                                                \r"
     ]
    },
    {
     "name": "stdout",
     "output_type": "stream",
     "text": [
      "Saved gs://my-bigdata-project-cm/aggregated/part-00011-cfb31fc4-f1b4-4e3e-89fb-84df6c5bcdbd-c000.snappy.parquet\n",
      "Processing cleaned/yellow_tripdata_2011-09.parquet/part-00012-cfb31fc4-f1b4-4e3e-89fb-84df6c5bcdbd-c000.snappy.parquet:\n"
     ]
    },
    {
     "name": "stderr",
     "output_type": "stream",
     "text": [
      "                                                                                \r"
     ]
    },
    {
     "name": "stdout",
     "output_type": "stream",
     "text": [
      "Saved gs://my-bigdata-project-cm/aggregated/part-00012-cfb31fc4-f1b4-4e3e-89fb-84df6c5bcdbd-c000.snappy.parquet\n",
      "Skipping file cleaned/yellow_tripdata_2011-10.parquet/\n",
      "Skipping file cleaned/yellow_tripdata_2011-10.parquet/_SUCCESS\n",
      "Processing cleaned/yellow_tripdata_2011-10.parquet/part-00000-591f12ce-9998-477d-9fd4-5a9ceec08060-c000.snappy.parquet:\n"
     ]
    },
    {
     "name": "stderr",
     "output_type": "stream",
     "text": [
      "                                                                                \r"
     ]
    },
    {
     "name": "stdout",
     "output_type": "stream",
     "text": [
      "Saved gs://my-bigdata-project-cm/aggregated/part-00000-591f12ce-9998-477d-9fd4-5a9ceec08060-c000.snappy.parquet\n",
      "Processing cleaned/yellow_tripdata_2011-10.parquet/part-00001-591f12ce-9998-477d-9fd4-5a9ceec08060-c000.snappy.parquet:\n"
     ]
    },
    {
     "name": "stderr",
     "output_type": "stream",
     "text": [
      "                                                                                \r"
     ]
    },
    {
     "name": "stdout",
     "output_type": "stream",
     "text": [
      "Saved gs://my-bigdata-project-cm/aggregated/part-00001-591f12ce-9998-477d-9fd4-5a9ceec08060-c000.snappy.parquet\n",
      "Processing cleaned/yellow_tripdata_2011-10.parquet/part-00002-591f12ce-9998-477d-9fd4-5a9ceec08060-c000.snappy.parquet:\n"
     ]
    },
    {
     "name": "stderr",
     "output_type": "stream",
     "text": [
      "                                                                                \r"
     ]
    },
    {
     "name": "stdout",
     "output_type": "stream",
     "text": [
      "Saved gs://my-bigdata-project-cm/aggregated/part-00002-591f12ce-9998-477d-9fd4-5a9ceec08060-c000.snappy.parquet\n",
      "Processing cleaned/yellow_tripdata_2011-10.parquet/part-00003-591f12ce-9998-477d-9fd4-5a9ceec08060-c000.snappy.parquet:\n"
     ]
    },
    {
     "name": "stderr",
     "output_type": "stream",
     "text": [
      "                                                                                \r"
     ]
    },
    {
     "name": "stdout",
     "output_type": "stream",
     "text": [
      "Saved gs://my-bigdata-project-cm/aggregated/part-00003-591f12ce-9998-477d-9fd4-5a9ceec08060-c000.snappy.parquet\n",
      "Processing cleaned/yellow_tripdata_2011-10.parquet/part-00004-591f12ce-9998-477d-9fd4-5a9ceec08060-c000.snappy.parquet:\n"
     ]
    },
    {
     "name": "stderr",
     "output_type": "stream",
     "text": [
      "                                                                                \r"
     ]
    },
    {
     "name": "stdout",
     "output_type": "stream",
     "text": [
      "Saved gs://my-bigdata-project-cm/aggregated/part-00004-591f12ce-9998-477d-9fd4-5a9ceec08060-c000.snappy.parquet\n",
      "Processing cleaned/yellow_tripdata_2011-10.parquet/part-00005-591f12ce-9998-477d-9fd4-5a9ceec08060-c000.snappy.parquet:\n"
     ]
    },
    {
     "name": "stderr",
     "output_type": "stream",
     "text": [
      "                                                                                \r"
     ]
    },
    {
     "name": "stdout",
     "output_type": "stream",
     "text": [
      "Saved gs://my-bigdata-project-cm/aggregated/part-00005-591f12ce-9998-477d-9fd4-5a9ceec08060-c000.snappy.parquet\n",
      "Processing cleaned/yellow_tripdata_2011-10.parquet/part-00006-591f12ce-9998-477d-9fd4-5a9ceec08060-c000.snappy.parquet:\n"
     ]
    },
    {
     "name": "stderr",
     "output_type": "stream",
     "text": [
      "                                                                                \r"
     ]
    },
    {
     "name": "stdout",
     "output_type": "stream",
     "text": [
      "Saved gs://my-bigdata-project-cm/aggregated/part-00006-591f12ce-9998-477d-9fd4-5a9ceec08060-c000.snappy.parquet\n",
      "Processing cleaned/yellow_tripdata_2011-10.parquet/part-00007-591f12ce-9998-477d-9fd4-5a9ceec08060-c000.snappy.parquet:\n"
     ]
    },
    {
     "name": "stderr",
     "output_type": "stream",
     "text": [
      "                                                                                \r"
     ]
    },
    {
     "name": "stdout",
     "output_type": "stream",
     "text": [
      "Saved gs://my-bigdata-project-cm/aggregated/part-00007-591f12ce-9998-477d-9fd4-5a9ceec08060-c000.snappy.parquet\n",
      "Processing cleaned/yellow_tripdata_2011-10.parquet/part-00008-591f12ce-9998-477d-9fd4-5a9ceec08060-c000.snappy.parquet:\n"
     ]
    },
    {
     "name": "stderr",
     "output_type": "stream",
     "text": [
      "                                                                                \r"
     ]
    },
    {
     "name": "stdout",
     "output_type": "stream",
     "text": [
      "Saved gs://my-bigdata-project-cm/aggregated/part-00008-591f12ce-9998-477d-9fd4-5a9ceec08060-c000.snappy.parquet\n",
      "Processing cleaned/yellow_tripdata_2011-10.parquet/part-00009-591f12ce-9998-477d-9fd4-5a9ceec08060-c000.snappy.parquet:\n"
     ]
    },
    {
     "name": "stderr",
     "output_type": "stream",
     "text": [
      "                                                                                \r"
     ]
    },
    {
     "name": "stdout",
     "output_type": "stream",
     "text": [
      "Saved gs://my-bigdata-project-cm/aggregated/part-00009-591f12ce-9998-477d-9fd4-5a9ceec08060-c000.snappy.parquet\n",
      "Processing cleaned/yellow_tripdata_2011-10.parquet/part-00010-591f12ce-9998-477d-9fd4-5a9ceec08060-c000.snappy.parquet:\n"
     ]
    },
    {
     "name": "stderr",
     "output_type": "stream",
     "text": [
      "                                                                                \r"
     ]
    },
    {
     "name": "stdout",
     "output_type": "stream",
     "text": [
      "Saved gs://my-bigdata-project-cm/aggregated/part-00010-591f12ce-9998-477d-9fd4-5a9ceec08060-c000.snappy.parquet\n",
      "Processing cleaned/yellow_tripdata_2011-10.parquet/part-00011-591f12ce-9998-477d-9fd4-5a9ceec08060-c000.snappy.parquet:\n"
     ]
    },
    {
     "name": "stderr",
     "output_type": "stream",
     "text": [
      "                                                                                \r"
     ]
    },
    {
     "name": "stdout",
     "output_type": "stream",
     "text": [
      "Saved gs://my-bigdata-project-cm/aggregated/part-00011-591f12ce-9998-477d-9fd4-5a9ceec08060-c000.snappy.parquet\n",
      "Processing cleaned/yellow_tripdata_2011-10.parquet/part-00012-591f12ce-9998-477d-9fd4-5a9ceec08060-c000.snappy.parquet:\n"
     ]
    },
    {
     "name": "stderr",
     "output_type": "stream",
     "text": [
      "                                                                                \r"
     ]
    },
    {
     "name": "stdout",
     "output_type": "stream",
     "text": [
      "Saved gs://my-bigdata-project-cm/aggregated/part-00012-591f12ce-9998-477d-9fd4-5a9ceec08060-c000.snappy.parquet\n",
      "Skipping file cleaned/yellow_tripdata_2011-11.parquet/\n",
      "Skipping file cleaned/yellow_tripdata_2011-11.parquet/_SUCCESS\n",
      "Processing cleaned/yellow_tripdata_2011-11.parquet/part-00000-41dc76d5-56c4-4605-8117-aebc85bcbf42-c000.snappy.parquet:\n"
     ]
    },
    {
     "name": "stderr",
     "output_type": "stream",
     "text": [
      "                                                                                \r"
     ]
    },
    {
     "name": "stdout",
     "output_type": "stream",
     "text": [
      "Saved gs://my-bigdata-project-cm/aggregated/part-00000-41dc76d5-56c4-4605-8117-aebc85bcbf42-c000.snappy.parquet\n",
      "Processing cleaned/yellow_tripdata_2011-11.parquet/part-00001-41dc76d5-56c4-4605-8117-aebc85bcbf42-c000.snappy.parquet:\n"
     ]
    },
    {
     "name": "stderr",
     "output_type": "stream",
     "text": [
      "                                                                                \r"
     ]
    },
    {
     "name": "stdout",
     "output_type": "stream",
     "text": [
      "Saved gs://my-bigdata-project-cm/aggregated/part-00001-41dc76d5-56c4-4605-8117-aebc85bcbf42-c000.snappy.parquet\n",
      "Processing cleaned/yellow_tripdata_2011-11.parquet/part-00002-41dc76d5-56c4-4605-8117-aebc85bcbf42-c000.snappy.parquet:\n"
     ]
    },
    {
     "name": "stderr",
     "output_type": "stream",
     "text": [
      "                                                                                \r"
     ]
    },
    {
     "name": "stdout",
     "output_type": "stream",
     "text": [
      "Saved gs://my-bigdata-project-cm/aggregated/part-00002-41dc76d5-56c4-4605-8117-aebc85bcbf42-c000.snappy.parquet\n",
      "Processing cleaned/yellow_tripdata_2011-11.parquet/part-00003-41dc76d5-56c4-4605-8117-aebc85bcbf42-c000.snappy.parquet:\n"
     ]
    },
    {
     "name": "stderr",
     "output_type": "stream",
     "text": [
      "                                                                                \r"
     ]
    },
    {
     "name": "stdout",
     "output_type": "stream",
     "text": [
      "Saved gs://my-bigdata-project-cm/aggregated/part-00003-41dc76d5-56c4-4605-8117-aebc85bcbf42-c000.snappy.parquet\n",
      "Processing cleaned/yellow_tripdata_2011-11.parquet/part-00004-41dc76d5-56c4-4605-8117-aebc85bcbf42-c000.snappy.parquet:\n"
     ]
    },
    {
     "name": "stderr",
     "output_type": "stream",
     "text": [
      "                                                                                \r"
     ]
    },
    {
     "name": "stdout",
     "output_type": "stream",
     "text": [
      "Saved gs://my-bigdata-project-cm/aggregated/part-00004-41dc76d5-56c4-4605-8117-aebc85bcbf42-c000.snappy.parquet\n",
      "Processing cleaned/yellow_tripdata_2011-11.parquet/part-00005-41dc76d5-56c4-4605-8117-aebc85bcbf42-c000.snappy.parquet:\n"
     ]
    },
    {
     "name": "stderr",
     "output_type": "stream",
     "text": [
      "                                                                                \r"
     ]
    },
    {
     "name": "stdout",
     "output_type": "stream",
     "text": [
      "Saved gs://my-bigdata-project-cm/aggregated/part-00005-41dc76d5-56c4-4605-8117-aebc85bcbf42-c000.snappy.parquet\n",
      "Processing cleaned/yellow_tripdata_2011-11.parquet/part-00006-41dc76d5-56c4-4605-8117-aebc85bcbf42-c000.snappy.parquet:\n"
     ]
    },
    {
     "name": "stderr",
     "output_type": "stream",
     "text": [
      "                                                                                \r"
     ]
    },
    {
     "name": "stdout",
     "output_type": "stream",
     "text": [
      "Saved gs://my-bigdata-project-cm/aggregated/part-00006-41dc76d5-56c4-4605-8117-aebc85bcbf42-c000.snappy.parquet\n",
      "Processing cleaned/yellow_tripdata_2011-11.parquet/part-00007-41dc76d5-56c4-4605-8117-aebc85bcbf42-c000.snappy.parquet:\n"
     ]
    },
    {
     "name": "stderr",
     "output_type": "stream",
     "text": [
      "                                                                                \r"
     ]
    },
    {
     "name": "stdout",
     "output_type": "stream",
     "text": [
      "Saved gs://my-bigdata-project-cm/aggregated/part-00007-41dc76d5-56c4-4605-8117-aebc85bcbf42-c000.snappy.parquet\n",
      "Processing cleaned/yellow_tripdata_2011-11.parquet/part-00008-41dc76d5-56c4-4605-8117-aebc85bcbf42-c000.snappy.parquet:\n"
     ]
    },
    {
     "name": "stderr",
     "output_type": "stream",
     "text": [
      "                                                                                \r"
     ]
    },
    {
     "name": "stdout",
     "output_type": "stream",
     "text": [
      "Saved gs://my-bigdata-project-cm/aggregated/part-00008-41dc76d5-56c4-4605-8117-aebc85bcbf42-c000.snappy.parquet\n",
      "Processing cleaned/yellow_tripdata_2011-11.parquet/part-00009-41dc76d5-56c4-4605-8117-aebc85bcbf42-c000.snappy.parquet:\n"
     ]
    },
    {
     "name": "stderr",
     "output_type": "stream",
     "text": [
      "                                                                                \r"
     ]
    },
    {
     "name": "stdout",
     "output_type": "stream",
     "text": [
      "Saved gs://my-bigdata-project-cm/aggregated/part-00009-41dc76d5-56c4-4605-8117-aebc85bcbf42-c000.snappy.parquet\n",
      "Processing cleaned/yellow_tripdata_2011-11.parquet/part-00010-41dc76d5-56c4-4605-8117-aebc85bcbf42-c000.snappy.parquet:\n"
     ]
    },
    {
     "name": "stderr",
     "output_type": "stream",
     "text": [
      "                                                                                \r"
     ]
    },
    {
     "name": "stdout",
     "output_type": "stream",
     "text": [
      "Saved gs://my-bigdata-project-cm/aggregated/part-00010-41dc76d5-56c4-4605-8117-aebc85bcbf42-c000.snappy.parquet\n",
      "Processing cleaned/yellow_tripdata_2011-11.parquet/part-00011-41dc76d5-56c4-4605-8117-aebc85bcbf42-c000.snappy.parquet:\n"
     ]
    },
    {
     "name": "stderr",
     "output_type": "stream",
     "text": [
      "                                                                                \r"
     ]
    },
    {
     "name": "stdout",
     "output_type": "stream",
     "text": [
      "Saved gs://my-bigdata-project-cm/aggregated/part-00011-41dc76d5-56c4-4605-8117-aebc85bcbf42-c000.snappy.parquet\n",
      "Processing cleaned/yellow_tripdata_2011-11.parquet/part-00012-41dc76d5-56c4-4605-8117-aebc85bcbf42-c000.snappy.parquet:\n"
     ]
    },
    {
     "name": "stderr",
     "output_type": "stream",
     "text": [
      "                                                                                \r"
     ]
    },
    {
     "name": "stdout",
     "output_type": "stream",
     "text": [
      "Saved gs://my-bigdata-project-cm/aggregated/part-00012-41dc76d5-56c4-4605-8117-aebc85bcbf42-c000.snappy.parquet\n",
      "Skipping file cleaned/yellow_tripdata_2011-12.parquet/\n",
      "Skipping file cleaned/yellow_tripdata_2011-12.parquet/_SUCCESS\n",
      "Processing cleaned/yellow_tripdata_2011-12.parquet/part-00000-6175222a-a1f4-47b8-a89c-34e1b1d332ac-c000.snappy.parquet:\n"
     ]
    },
    {
     "name": "stderr",
     "output_type": "stream",
     "text": [
      "                                                                                \r"
     ]
    },
    {
     "name": "stdout",
     "output_type": "stream",
     "text": [
      "Saved gs://my-bigdata-project-cm/aggregated/part-00000-6175222a-a1f4-47b8-a89c-34e1b1d332ac-c000.snappy.parquet\n",
      "Processing cleaned/yellow_tripdata_2011-12.parquet/part-00001-6175222a-a1f4-47b8-a89c-34e1b1d332ac-c000.snappy.parquet:\n"
     ]
    },
    {
     "name": "stderr",
     "output_type": "stream",
     "text": [
      "                                                                                \r"
     ]
    },
    {
     "name": "stdout",
     "output_type": "stream",
     "text": [
      "Saved gs://my-bigdata-project-cm/aggregated/part-00001-6175222a-a1f4-47b8-a89c-34e1b1d332ac-c000.snappy.parquet\n",
      "Processing cleaned/yellow_tripdata_2011-12.parquet/part-00002-6175222a-a1f4-47b8-a89c-34e1b1d332ac-c000.snappy.parquet:\n"
     ]
    },
    {
     "name": "stderr",
     "output_type": "stream",
     "text": [
      "                                                                                \r"
     ]
    },
    {
     "name": "stdout",
     "output_type": "stream",
     "text": [
      "Saved gs://my-bigdata-project-cm/aggregated/part-00002-6175222a-a1f4-47b8-a89c-34e1b1d332ac-c000.snappy.parquet\n",
      "Processing cleaned/yellow_tripdata_2011-12.parquet/part-00003-6175222a-a1f4-47b8-a89c-34e1b1d332ac-c000.snappy.parquet:\n"
     ]
    },
    {
     "name": "stderr",
     "output_type": "stream",
     "text": [
      "                                                                                \r"
     ]
    },
    {
     "name": "stdout",
     "output_type": "stream",
     "text": [
      "Saved gs://my-bigdata-project-cm/aggregated/part-00003-6175222a-a1f4-47b8-a89c-34e1b1d332ac-c000.snappy.parquet\n",
      "Processing cleaned/yellow_tripdata_2011-12.parquet/part-00004-6175222a-a1f4-47b8-a89c-34e1b1d332ac-c000.snappy.parquet:\n"
     ]
    },
    {
     "name": "stderr",
     "output_type": "stream",
     "text": [
      "                                                                                \r"
     ]
    },
    {
     "name": "stdout",
     "output_type": "stream",
     "text": [
      "Saved gs://my-bigdata-project-cm/aggregated/part-00004-6175222a-a1f4-47b8-a89c-34e1b1d332ac-c000.snappy.parquet\n",
      "Processing cleaned/yellow_tripdata_2011-12.parquet/part-00005-6175222a-a1f4-47b8-a89c-34e1b1d332ac-c000.snappy.parquet:\n"
     ]
    },
    {
     "name": "stderr",
     "output_type": "stream",
     "text": [
      "                                                                                \r"
     ]
    },
    {
     "name": "stdout",
     "output_type": "stream",
     "text": [
      "Saved gs://my-bigdata-project-cm/aggregated/part-00005-6175222a-a1f4-47b8-a89c-34e1b1d332ac-c000.snappy.parquet\n",
      "Processing cleaned/yellow_tripdata_2011-12.parquet/part-00006-6175222a-a1f4-47b8-a89c-34e1b1d332ac-c000.snappy.parquet:\n"
     ]
    },
    {
     "name": "stderr",
     "output_type": "stream",
     "text": [
      "                                                                                \r"
     ]
    },
    {
     "name": "stdout",
     "output_type": "stream",
     "text": [
      "Saved gs://my-bigdata-project-cm/aggregated/part-00006-6175222a-a1f4-47b8-a89c-34e1b1d332ac-c000.snappy.parquet\n",
      "Processing cleaned/yellow_tripdata_2011-12.parquet/part-00007-6175222a-a1f4-47b8-a89c-34e1b1d332ac-c000.snappy.parquet:\n"
     ]
    },
    {
     "name": "stderr",
     "output_type": "stream",
     "text": [
      "                                                                                \r"
     ]
    },
    {
     "name": "stdout",
     "output_type": "stream",
     "text": [
      "Saved gs://my-bigdata-project-cm/aggregated/part-00007-6175222a-a1f4-47b8-a89c-34e1b1d332ac-c000.snappy.parquet\n",
      "Processing cleaned/yellow_tripdata_2011-12.parquet/part-00008-6175222a-a1f4-47b8-a89c-34e1b1d332ac-c000.snappy.parquet:\n"
     ]
    },
    {
     "name": "stderr",
     "output_type": "stream",
     "text": [
      "                                                                                \r"
     ]
    },
    {
     "name": "stdout",
     "output_type": "stream",
     "text": [
      "Saved gs://my-bigdata-project-cm/aggregated/part-00008-6175222a-a1f4-47b8-a89c-34e1b1d332ac-c000.snappy.parquet\n",
      "Processing cleaned/yellow_tripdata_2011-12.parquet/part-00009-6175222a-a1f4-47b8-a89c-34e1b1d332ac-c000.snappy.parquet:\n"
     ]
    },
    {
     "name": "stderr",
     "output_type": "stream",
     "text": [
      "                                                                                \r"
     ]
    },
    {
     "name": "stdout",
     "output_type": "stream",
     "text": [
      "Saved gs://my-bigdata-project-cm/aggregated/part-00009-6175222a-a1f4-47b8-a89c-34e1b1d332ac-c000.snappy.parquet\n",
      "Processing cleaned/yellow_tripdata_2011-12.parquet/part-00010-6175222a-a1f4-47b8-a89c-34e1b1d332ac-c000.snappy.parquet:\n"
     ]
    },
    {
     "name": "stderr",
     "output_type": "stream",
     "text": [
      "                                                                                \r"
     ]
    },
    {
     "name": "stdout",
     "output_type": "stream",
     "text": [
      "Saved gs://my-bigdata-project-cm/aggregated/part-00010-6175222a-a1f4-47b8-a89c-34e1b1d332ac-c000.snappy.parquet\n",
      "Processing cleaned/yellow_tripdata_2011-12.parquet/part-00011-6175222a-a1f4-47b8-a89c-34e1b1d332ac-c000.snappy.parquet:\n"
     ]
    },
    {
     "name": "stderr",
     "output_type": "stream",
     "text": [
      "                                                                                \r"
     ]
    },
    {
     "name": "stdout",
     "output_type": "stream",
     "text": [
      "Saved gs://my-bigdata-project-cm/aggregated/part-00011-6175222a-a1f4-47b8-a89c-34e1b1d332ac-c000.snappy.parquet\n",
      "Processing cleaned/yellow_tripdata_2011-12.parquet/part-00012-6175222a-a1f4-47b8-a89c-34e1b1d332ac-c000.snappy.parquet:\n"
     ]
    },
    {
     "name": "stderr",
     "output_type": "stream",
     "text": [
      "                                                                                \r"
     ]
    },
    {
     "name": "stdout",
     "output_type": "stream",
     "text": [
      "Saved gs://my-bigdata-project-cm/aggregated/part-00012-6175222a-a1f4-47b8-a89c-34e1b1d332ac-c000.snappy.parquet\n",
      "Skipping file cleaned/yellow_tripdata_2012-01.parquet/\n",
      "Skipping file cleaned/yellow_tripdata_2012-01.parquet/_SUCCESS\n",
      "Processing cleaned/yellow_tripdata_2012-01.parquet/part-00000-307e5cd1-3dba-4e96-95a0-a9255b242061-c000.snappy.parquet:\n"
     ]
    },
    {
     "name": "stderr",
     "output_type": "stream",
     "text": [
      "                                                                                \r"
     ]
    },
    {
     "name": "stdout",
     "output_type": "stream",
     "text": [
      "Saved gs://my-bigdata-project-cm/aggregated/part-00000-307e5cd1-3dba-4e96-95a0-a9255b242061-c000.snappy.parquet\n",
      "Processing cleaned/yellow_tripdata_2012-01.parquet/part-00001-307e5cd1-3dba-4e96-95a0-a9255b242061-c000.snappy.parquet:\n"
     ]
    },
    {
     "name": "stderr",
     "output_type": "stream",
     "text": [
      "                                                                                \r"
     ]
    },
    {
     "name": "stdout",
     "output_type": "stream",
     "text": [
      "Saved gs://my-bigdata-project-cm/aggregated/part-00001-307e5cd1-3dba-4e96-95a0-a9255b242061-c000.snappy.parquet\n",
      "Processing cleaned/yellow_tripdata_2012-01.parquet/part-00002-307e5cd1-3dba-4e96-95a0-a9255b242061-c000.snappy.parquet:\n"
     ]
    },
    {
     "name": "stderr",
     "output_type": "stream",
     "text": [
      "                                                                                \r"
     ]
    },
    {
     "name": "stdout",
     "output_type": "stream",
     "text": [
      "Saved gs://my-bigdata-project-cm/aggregated/part-00002-307e5cd1-3dba-4e96-95a0-a9255b242061-c000.snappy.parquet\n",
      "Processing cleaned/yellow_tripdata_2012-01.parquet/part-00003-307e5cd1-3dba-4e96-95a0-a9255b242061-c000.snappy.parquet:\n"
     ]
    },
    {
     "name": "stderr",
     "output_type": "stream",
     "text": [
      "                                                                                \r"
     ]
    },
    {
     "name": "stdout",
     "output_type": "stream",
     "text": [
      "Saved gs://my-bigdata-project-cm/aggregated/part-00003-307e5cd1-3dba-4e96-95a0-a9255b242061-c000.snappy.parquet\n",
      "Processing cleaned/yellow_tripdata_2012-01.parquet/part-00004-307e5cd1-3dba-4e96-95a0-a9255b242061-c000.snappy.parquet:\n"
     ]
    },
    {
     "name": "stderr",
     "output_type": "stream",
     "text": [
      "                                                                                \r"
     ]
    },
    {
     "name": "stdout",
     "output_type": "stream",
     "text": [
      "Saved gs://my-bigdata-project-cm/aggregated/part-00004-307e5cd1-3dba-4e96-95a0-a9255b242061-c000.snappy.parquet\n",
      "Processing cleaned/yellow_tripdata_2012-01.parquet/part-00005-307e5cd1-3dba-4e96-95a0-a9255b242061-c000.snappy.parquet:\n"
     ]
    },
    {
     "name": "stderr",
     "output_type": "stream",
     "text": [
      "                                                                                \r"
     ]
    },
    {
     "name": "stdout",
     "output_type": "stream",
     "text": [
      "Saved gs://my-bigdata-project-cm/aggregated/part-00005-307e5cd1-3dba-4e96-95a0-a9255b242061-c000.snappy.parquet\n",
      "Processing cleaned/yellow_tripdata_2012-01.parquet/part-00006-307e5cd1-3dba-4e96-95a0-a9255b242061-c000.snappy.parquet:\n"
     ]
    },
    {
     "name": "stderr",
     "output_type": "stream",
     "text": [
      "                                                                                \r"
     ]
    },
    {
     "name": "stdout",
     "output_type": "stream",
     "text": [
      "Saved gs://my-bigdata-project-cm/aggregated/part-00006-307e5cd1-3dba-4e96-95a0-a9255b242061-c000.snappy.parquet\n",
      "Processing cleaned/yellow_tripdata_2012-01.parquet/part-00007-307e5cd1-3dba-4e96-95a0-a9255b242061-c000.snappy.parquet:\n"
     ]
    },
    {
     "name": "stderr",
     "output_type": "stream",
     "text": [
      "                                                                                \r"
     ]
    },
    {
     "name": "stdout",
     "output_type": "stream",
     "text": [
      "Saved gs://my-bigdata-project-cm/aggregated/part-00007-307e5cd1-3dba-4e96-95a0-a9255b242061-c000.snappy.parquet\n",
      "Processing cleaned/yellow_tripdata_2012-01.parquet/part-00008-307e5cd1-3dba-4e96-95a0-a9255b242061-c000.snappy.parquet:\n"
     ]
    },
    {
     "name": "stderr",
     "output_type": "stream",
     "text": [
      "                                                                                \r"
     ]
    },
    {
     "name": "stdout",
     "output_type": "stream",
     "text": [
      "Saved gs://my-bigdata-project-cm/aggregated/part-00008-307e5cd1-3dba-4e96-95a0-a9255b242061-c000.snappy.parquet\n",
      "Processing cleaned/yellow_tripdata_2012-01.parquet/part-00009-307e5cd1-3dba-4e96-95a0-a9255b242061-c000.snappy.parquet:\n"
     ]
    },
    {
     "name": "stderr",
     "output_type": "stream",
     "text": [
      "                                                                                \r"
     ]
    },
    {
     "name": "stdout",
     "output_type": "stream",
     "text": [
      "Saved gs://my-bigdata-project-cm/aggregated/part-00009-307e5cd1-3dba-4e96-95a0-a9255b242061-c000.snappy.parquet\n",
      "Processing cleaned/yellow_tripdata_2012-01.parquet/part-00010-307e5cd1-3dba-4e96-95a0-a9255b242061-c000.snappy.parquet:\n"
     ]
    },
    {
     "name": "stderr",
     "output_type": "stream",
     "text": [
      "                                                                                \r"
     ]
    },
    {
     "name": "stdout",
     "output_type": "stream",
     "text": [
      "Saved gs://my-bigdata-project-cm/aggregated/part-00010-307e5cd1-3dba-4e96-95a0-a9255b242061-c000.snappy.parquet\n",
      "Processing cleaned/yellow_tripdata_2012-01.parquet/part-00011-307e5cd1-3dba-4e96-95a0-a9255b242061-c000.snappy.parquet:\n"
     ]
    },
    {
     "name": "stderr",
     "output_type": "stream",
     "text": [
      "                                                                                \r"
     ]
    },
    {
     "name": "stdout",
     "output_type": "stream",
     "text": [
      "Saved gs://my-bigdata-project-cm/aggregated/part-00011-307e5cd1-3dba-4e96-95a0-a9255b242061-c000.snappy.parquet\n",
      "Skipping file cleaned/yellow_tripdata_2012-02.parquet/\n",
      "Skipping file cleaned/yellow_tripdata_2012-02.parquet/_SUCCESS\n",
      "Processing cleaned/yellow_tripdata_2012-02.parquet/part-00000-2fcf1c38-5082-4ffd-be97-ef34d5354fda-c000.snappy.parquet:\n"
     ]
    },
    {
     "name": "stderr",
     "output_type": "stream",
     "text": [
      "                                                                                \r"
     ]
    },
    {
     "name": "stdout",
     "output_type": "stream",
     "text": [
      "Saved gs://my-bigdata-project-cm/aggregated/part-00000-2fcf1c38-5082-4ffd-be97-ef34d5354fda-c000.snappy.parquet\n",
      "Processing cleaned/yellow_tripdata_2012-02.parquet/part-00001-2fcf1c38-5082-4ffd-be97-ef34d5354fda-c000.snappy.parquet:\n"
     ]
    },
    {
     "name": "stderr",
     "output_type": "stream",
     "text": [
      "                                                                                \r"
     ]
    },
    {
     "name": "stdout",
     "output_type": "stream",
     "text": [
      "Saved gs://my-bigdata-project-cm/aggregated/part-00001-2fcf1c38-5082-4ffd-be97-ef34d5354fda-c000.snappy.parquet\n",
      "Processing cleaned/yellow_tripdata_2012-02.parquet/part-00002-2fcf1c38-5082-4ffd-be97-ef34d5354fda-c000.snappy.parquet:\n"
     ]
    },
    {
     "name": "stderr",
     "output_type": "stream",
     "text": [
      "                                                                                \r"
     ]
    },
    {
     "name": "stdout",
     "output_type": "stream",
     "text": [
      "Saved gs://my-bigdata-project-cm/aggregated/part-00002-2fcf1c38-5082-4ffd-be97-ef34d5354fda-c000.snappy.parquet\n",
      "Processing cleaned/yellow_tripdata_2012-02.parquet/part-00003-2fcf1c38-5082-4ffd-be97-ef34d5354fda-c000.snappy.parquet:\n"
     ]
    },
    {
     "name": "stderr",
     "output_type": "stream",
     "text": [
      "                                                                                \r"
     ]
    },
    {
     "name": "stdout",
     "output_type": "stream",
     "text": [
      "Saved gs://my-bigdata-project-cm/aggregated/part-00003-2fcf1c38-5082-4ffd-be97-ef34d5354fda-c000.snappy.parquet\n",
      "Processing cleaned/yellow_tripdata_2012-02.parquet/part-00004-2fcf1c38-5082-4ffd-be97-ef34d5354fda-c000.snappy.parquet:\n"
     ]
    },
    {
     "name": "stderr",
     "output_type": "stream",
     "text": [
      "                                                                                \r"
     ]
    },
    {
     "name": "stdout",
     "output_type": "stream",
     "text": [
      "Saved gs://my-bigdata-project-cm/aggregated/part-00004-2fcf1c38-5082-4ffd-be97-ef34d5354fda-c000.snappy.parquet\n",
      "Processing cleaned/yellow_tripdata_2012-02.parquet/part-00005-2fcf1c38-5082-4ffd-be97-ef34d5354fda-c000.snappy.parquet:\n"
     ]
    },
    {
     "name": "stderr",
     "output_type": "stream",
     "text": [
      "                                                                                \r"
     ]
    },
    {
     "name": "stdout",
     "output_type": "stream",
     "text": [
      "Saved gs://my-bigdata-project-cm/aggregated/part-00005-2fcf1c38-5082-4ffd-be97-ef34d5354fda-c000.snappy.parquet\n",
      "Processing cleaned/yellow_tripdata_2012-02.parquet/part-00006-2fcf1c38-5082-4ffd-be97-ef34d5354fda-c000.snappy.parquet:\n"
     ]
    },
    {
     "name": "stderr",
     "output_type": "stream",
     "text": [
      "                                                                                \r"
     ]
    },
    {
     "name": "stdout",
     "output_type": "stream",
     "text": [
      "Saved gs://my-bigdata-project-cm/aggregated/part-00006-2fcf1c38-5082-4ffd-be97-ef34d5354fda-c000.snappy.parquet\n",
      "Processing cleaned/yellow_tripdata_2012-02.parquet/part-00007-2fcf1c38-5082-4ffd-be97-ef34d5354fda-c000.snappy.parquet:\n"
     ]
    },
    {
     "name": "stderr",
     "output_type": "stream",
     "text": [
      "                                                                                \r"
     ]
    },
    {
     "name": "stdout",
     "output_type": "stream",
     "text": [
      "Saved gs://my-bigdata-project-cm/aggregated/part-00007-2fcf1c38-5082-4ffd-be97-ef34d5354fda-c000.snappy.parquet\n",
      "Processing cleaned/yellow_tripdata_2012-02.parquet/part-00008-2fcf1c38-5082-4ffd-be97-ef34d5354fda-c000.snappy.parquet:\n"
     ]
    },
    {
     "name": "stderr",
     "output_type": "stream",
     "text": [
      "                                                                                \r"
     ]
    },
    {
     "name": "stdout",
     "output_type": "stream",
     "text": [
      "Saved gs://my-bigdata-project-cm/aggregated/part-00008-2fcf1c38-5082-4ffd-be97-ef34d5354fda-c000.snappy.parquet\n",
      "Processing cleaned/yellow_tripdata_2012-02.parquet/part-00009-2fcf1c38-5082-4ffd-be97-ef34d5354fda-c000.snappy.parquet:\n"
     ]
    },
    {
     "name": "stderr",
     "output_type": "stream",
     "text": [
      "                                                                                \r"
     ]
    },
    {
     "name": "stdout",
     "output_type": "stream",
     "text": [
      "Saved gs://my-bigdata-project-cm/aggregated/part-00009-2fcf1c38-5082-4ffd-be97-ef34d5354fda-c000.snappy.parquet\n",
      "Processing cleaned/yellow_tripdata_2012-02.parquet/part-00010-2fcf1c38-5082-4ffd-be97-ef34d5354fda-c000.snappy.parquet:\n"
     ]
    },
    {
     "name": "stderr",
     "output_type": "stream",
     "text": [
      "                                                                                \r"
     ]
    },
    {
     "name": "stdout",
     "output_type": "stream",
     "text": [
      "Saved gs://my-bigdata-project-cm/aggregated/part-00010-2fcf1c38-5082-4ffd-be97-ef34d5354fda-c000.snappy.parquet\n",
      "Processing cleaned/yellow_tripdata_2012-02.parquet/part-00011-2fcf1c38-5082-4ffd-be97-ef34d5354fda-c000.snappy.parquet:\n"
     ]
    },
    {
     "name": "stderr",
     "output_type": "stream",
     "text": [
      "                                                                                \r"
     ]
    },
    {
     "name": "stdout",
     "output_type": "stream",
     "text": [
      "Saved gs://my-bigdata-project-cm/aggregated/part-00011-2fcf1c38-5082-4ffd-be97-ef34d5354fda-c000.snappy.parquet\n",
      "Skipping file cleaned/yellow_tripdata_2012-03.parquet/\n",
      "Skipping file cleaned/yellow_tripdata_2012-03.parquet/_SUCCESS\n",
      "Processing cleaned/yellow_tripdata_2012-03.parquet/part-00000-3f111ea1-668d-41a0-8b43-e2bb20c58ee1-c000.snappy.parquet:\n"
     ]
    },
    {
     "name": "stderr",
     "output_type": "stream",
     "text": [
      "                                                                                \r"
     ]
    },
    {
     "name": "stdout",
     "output_type": "stream",
     "text": [
      "Saved gs://my-bigdata-project-cm/aggregated/part-00001-3f111ea1-668d-41a0-8b43-e2bb20c58ee1-c000.snappy.parquet\n",
      "Processing cleaned/yellow_tripdata_2012-03.parquet/part-00002-3f111ea1-668d-41a0-8b43-e2bb20c58ee1-c000.snappy.parquet:\n"
     ]
    },
    {
     "name": "stderr",
     "output_type": "stream",
     "text": [
      "                                                                                \r"
     ]
    },
    {
     "name": "stdout",
     "output_type": "stream",
     "text": [
      "Saved gs://my-bigdata-project-cm/aggregated/part-00002-3f111ea1-668d-41a0-8b43-e2bb20c58ee1-c000.snappy.parquet\n",
      "Processing cleaned/yellow_tripdata_2012-03.parquet/part-00003-3f111ea1-668d-41a0-8b43-e2bb20c58ee1-c000.snappy.parquet:\n"
     ]
    },
    {
     "name": "stderr",
     "output_type": "stream",
     "text": [
      "                                                                                \r"
     ]
    },
    {
     "name": "stdout",
     "output_type": "stream",
     "text": [
      "Saved gs://my-bigdata-project-cm/aggregated/part-00003-3f111ea1-668d-41a0-8b43-e2bb20c58ee1-c000.snappy.parquet\n",
      "Processing cleaned/yellow_tripdata_2012-03.parquet/part-00004-3f111ea1-668d-41a0-8b43-e2bb20c58ee1-c000.snappy.parquet:\n"
     ]
    },
    {
     "name": "stderr",
     "output_type": "stream",
     "text": [
      "                                                                                \r"
     ]
    },
    {
     "name": "stdout",
     "output_type": "stream",
     "text": [
      "Saved gs://my-bigdata-project-cm/aggregated/part-00004-3f111ea1-668d-41a0-8b43-e2bb20c58ee1-c000.snappy.parquet\n",
      "Processing cleaned/yellow_tripdata_2012-03.parquet/part-00005-3f111ea1-668d-41a0-8b43-e2bb20c58ee1-c000.snappy.parquet:\n"
     ]
    },
    {
     "name": "stderr",
     "output_type": "stream",
     "text": [
      "                                                                                \r"
     ]
    },
    {
     "name": "stdout",
     "output_type": "stream",
     "text": [
      "Saved gs://my-bigdata-project-cm/aggregated/part-00005-3f111ea1-668d-41a0-8b43-e2bb20c58ee1-c000.snappy.parquet\n",
      "Processing cleaned/yellow_tripdata_2012-03.parquet/part-00006-3f111ea1-668d-41a0-8b43-e2bb20c58ee1-c000.snappy.parquet:\n"
     ]
    },
    {
     "name": "stderr",
     "output_type": "stream",
     "text": [
      "                                                                                \r"
     ]
    },
    {
     "name": "stdout",
     "output_type": "stream",
     "text": [
      "Saved gs://my-bigdata-project-cm/aggregated/part-00006-3f111ea1-668d-41a0-8b43-e2bb20c58ee1-c000.snappy.parquet\n",
      "Processing cleaned/yellow_tripdata_2012-03.parquet/part-00007-3f111ea1-668d-41a0-8b43-e2bb20c58ee1-c000.snappy.parquet:\n"
     ]
    },
    {
     "name": "stderr",
     "output_type": "stream",
     "text": [
      "                                                                                \r"
     ]
    },
    {
     "name": "stdout",
     "output_type": "stream",
     "text": [
      "Saved gs://my-bigdata-project-cm/aggregated/part-00007-3f111ea1-668d-41a0-8b43-e2bb20c58ee1-c000.snappy.parquet\n",
      "Processing cleaned/yellow_tripdata_2012-03.parquet/part-00008-3f111ea1-668d-41a0-8b43-e2bb20c58ee1-c000.snappy.parquet:\n"
     ]
    },
    {
     "name": "stderr",
     "output_type": "stream",
     "text": [
      "                                                                                \r"
     ]
    },
    {
     "name": "stdout",
     "output_type": "stream",
     "text": [
      "Saved gs://my-bigdata-project-cm/aggregated/part-00008-3f111ea1-668d-41a0-8b43-e2bb20c58ee1-c000.snappy.parquet\n",
      "Processing cleaned/yellow_tripdata_2012-03.parquet/part-00009-3f111ea1-668d-41a0-8b43-e2bb20c58ee1-c000.snappy.parquet:\n"
     ]
    },
    {
     "name": "stderr",
     "output_type": "stream",
     "text": [
      "                                                                                \r"
     ]
    },
    {
     "name": "stdout",
     "output_type": "stream",
     "text": [
      "Saved gs://my-bigdata-project-cm/aggregated/part-00009-3f111ea1-668d-41a0-8b43-e2bb20c58ee1-c000.snappy.parquet\n",
      "Processing cleaned/yellow_tripdata_2012-03.parquet/part-00010-3f111ea1-668d-41a0-8b43-e2bb20c58ee1-c000.snappy.parquet:\n"
     ]
    },
    {
     "name": "stderr",
     "output_type": "stream",
     "text": [
      "                                                                                \r"
     ]
    },
    {
     "name": "stdout",
     "output_type": "stream",
     "text": [
      "Saved gs://my-bigdata-project-cm/aggregated/part-00010-3f111ea1-668d-41a0-8b43-e2bb20c58ee1-c000.snappy.parquet\n",
      "Processing cleaned/yellow_tripdata_2012-03.parquet/part-00011-3f111ea1-668d-41a0-8b43-e2bb20c58ee1-c000.snappy.parquet:\n"
     ]
    },
    {
     "name": "stderr",
     "output_type": "stream",
     "text": [
      "                                                                                \r"
     ]
    },
    {
     "name": "stdout",
     "output_type": "stream",
     "text": [
      "Saved gs://my-bigdata-project-cm/aggregated/part-00011-3f111ea1-668d-41a0-8b43-e2bb20c58ee1-c000.snappy.parquet\n",
      "Processing cleaned/yellow_tripdata_2012-03.parquet/part-00012-3f111ea1-668d-41a0-8b43-e2bb20c58ee1-c000.snappy.parquet:\n"
     ]
    },
    {
     "name": "stderr",
     "output_type": "stream",
     "text": [
      "                                                                                \r"
     ]
    },
    {
     "name": "stdout",
     "output_type": "stream",
     "text": [
      "Saved gs://my-bigdata-project-cm/aggregated/part-00012-3f111ea1-668d-41a0-8b43-e2bb20c58ee1-c000.snappy.parquet\n",
      "Processing cleaned/yellow_tripdata_2012-03.parquet/part-00013-3f111ea1-668d-41a0-8b43-e2bb20c58ee1-c000.snappy.parquet:\n"
     ]
    },
    {
     "name": "stderr",
     "output_type": "stream",
     "text": [
      "                                                                                \r"
     ]
    },
    {
     "name": "stdout",
     "output_type": "stream",
     "text": [
      "Saved gs://my-bigdata-project-cm/aggregated/part-00013-3f111ea1-668d-41a0-8b43-e2bb20c58ee1-c000.snappy.parquet\n",
      "Skipping file cleaned/yellow_tripdata_2012-04.parquet/\n",
      "Skipping file cleaned/yellow_tripdata_2012-04.parquet/_SUCCESS\n",
      "Processing cleaned/yellow_tripdata_2012-04.parquet/part-00000-ee46dae1-0e0b-4fff-a4d7-d3c8b39bb77d-c000.snappy.parquet:\n"
     ]
    },
    {
     "name": "stderr",
     "output_type": "stream",
     "text": [
      "                                                                                \r"
     ]
    },
    {
     "name": "stdout",
     "output_type": "stream",
     "text": [
      "Saved gs://my-bigdata-project-cm/aggregated/part-00000-ee46dae1-0e0b-4fff-a4d7-d3c8b39bb77d-c000.snappy.parquet\n",
      "Processing cleaned/yellow_tripdata_2012-04.parquet/part-00001-ee46dae1-0e0b-4fff-a4d7-d3c8b39bb77d-c000.snappy.parquet:\n"
     ]
    },
    {
     "name": "stderr",
     "output_type": "stream",
     "text": [
      "                                                                                \r"
     ]
    },
    {
     "name": "stdout",
     "output_type": "stream",
     "text": [
      "Saved gs://my-bigdata-project-cm/aggregated/part-00001-ee46dae1-0e0b-4fff-a4d7-d3c8b39bb77d-c000.snappy.parquet\n",
      "Processing cleaned/yellow_tripdata_2012-04.parquet/part-00002-ee46dae1-0e0b-4fff-a4d7-d3c8b39bb77d-c000.snappy.parquet:\n"
     ]
    },
    {
     "name": "stderr",
     "output_type": "stream",
     "text": [
      "                                                                                \r"
     ]
    },
    {
     "name": "stdout",
     "output_type": "stream",
     "text": [
      "Saved gs://my-bigdata-project-cm/aggregated/part-00002-ee46dae1-0e0b-4fff-a4d7-d3c8b39bb77d-c000.snappy.parquet\n",
      "Processing cleaned/yellow_tripdata_2012-04.parquet/part-00003-ee46dae1-0e0b-4fff-a4d7-d3c8b39bb77d-c000.snappy.parquet:\n"
     ]
    },
    {
     "name": "stderr",
     "output_type": "stream",
     "text": [
      "                                                                                \r"
     ]
    },
    {
     "name": "stdout",
     "output_type": "stream",
     "text": [
      "Saved gs://my-bigdata-project-cm/aggregated/part-00003-ee46dae1-0e0b-4fff-a4d7-d3c8b39bb77d-c000.snappy.parquet\n",
      "Processing cleaned/yellow_tripdata_2012-04.parquet/part-00004-ee46dae1-0e0b-4fff-a4d7-d3c8b39bb77d-c000.snappy.parquet:\n"
     ]
    },
    {
     "name": "stderr",
     "output_type": "stream",
     "text": [
      "                                                                                \r"
     ]
    },
    {
     "name": "stdout",
     "output_type": "stream",
     "text": [
      "Saved gs://my-bigdata-project-cm/aggregated/part-00004-ee46dae1-0e0b-4fff-a4d7-d3c8b39bb77d-c000.snappy.parquet\n",
      "Processing cleaned/yellow_tripdata_2012-04.parquet/part-00005-ee46dae1-0e0b-4fff-a4d7-d3c8b39bb77d-c000.snappy.parquet:\n"
     ]
    },
    {
     "name": "stderr",
     "output_type": "stream",
     "text": [
      "                                                                                \r"
     ]
    },
    {
     "name": "stdout",
     "output_type": "stream",
     "text": [
      "Saved gs://my-bigdata-project-cm/aggregated/part-00005-ee46dae1-0e0b-4fff-a4d7-d3c8b39bb77d-c000.snappy.parquet\n",
      "Processing cleaned/yellow_tripdata_2012-04.parquet/part-00006-ee46dae1-0e0b-4fff-a4d7-d3c8b39bb77d-c000.snappy.parquet:\n"
     ]
    },
    {
     "name": "stderr",
     "output_type": "stream",
     "text": [
      "                                                                                \r"
     ]
    },
    {
     "name": "stdout",
     "output_type": "stream",
     "text": [
      "Saved gs://my-bigdata-project-cm/aggregated/part-00006-ee46dae1-0e0b-4fff-a4d7-d3c8b39bb77d-c000.snappy.parquet\n",
      "Processing cleaned/yellow_tripdata_2012-04.parquet/part-00007-ee46dae1-0e0b-4fff-a4d7-d3c8b39bb77d-c000.snappy.parquet:\n"
     ]
    },
    {
     "name": "stderr",
     "output_type": "stream",
     "text": [
      "                                                                                \r"
     ]
    },
    {
     "name": "stdout",
     "output_type": "stream",
     "text": [
      "Saved gs://my-bigdata-project-cm/aggregated/part-00007-ee46dae1-0e0b-4fff-a4d7-d3c8b39bb77d-c000.snappy.parquet\n",
      "Processing cleaned/yellow_tripdata_2012-04.parquet/part-00008-ee46dae1-0e0b-4fff-a4d7-d3c8b39bb77d-c000.snappy.parquet:\n"
     ]
    },
    {
     "name": "stderr",
     "output_type": "stream",
     "text": [
      "                                                                                \r"
     ]
    },
    {
     "name": "stdout",
     "output_type": "stream",
     "text": [
      "Saved gs://my-bigdata-project-cm/aggregated/part-00008-ee46dae1-0e0b-4fff-a4d7-d3c8b39bb77d-c000.snappy.parquet\n",
      "Processing cleaned/yellow_tripdata_2012-04.parquet/part-00009-ee46dae1-0e0b-4fff-a4d7-d3c8b39bb77d-c000.snappy.parquet:\n"
     ]
    },
    {
     "name": "stderr",
     "output_type": "stream",
     "text": [
      "                                                                                \r"
     ]
    },
    {
     "name": "stdout",
     "output_type": "stream",
     "text": [
      "Saved gs://my-bigdata-project-cm/aggregated/part-00009-ee46dae1-0e0b-4fff-a4d7-d3c8b39bb77d-c000.snappy.parquet\n",
      "Processing cleaned/yellow_tripdata_2012-04.parquet/part-00010-ee46dae1-0e0b-4fff-a4d7-d3c8b39bb77d-c000.snappy.parquet:\n"
     ]
    },
    {
     "name": "stderr",
     "output_type": "stream",
     "text": [
      "                                                                                \r"
     ]
    },
    {
     "name": "stdout",
     "output_type": "stream",
     "text": [
      "Saved gs://my-bigdata-project-cm/aggregated/part-00010-ee46dae1-0e0b-4fff-a4d7-d3c8b39bb77d-c000.snappy.parquet\n",
      "Processing cleaned/yellow_tripdata_2012-04.parquet/part-00011-ee46dae1-0e0b-4fff-a4d7-d3c8b39bb77d-c000.snappy.parquet:\n"
     ]
    },
    {
     "name": "stderr",
     "output_type": "stream",
     "text": [
      "                                                                                \r"
     ]
    },
    {
     "name": "stdout",
     "output_type": "stream",
     "text": [
      "Saved gs://my-bigdata-project-cm/aggregated/part-00011-ee46dae1-0e0b-4fff-a4d7-d3c8b39bb77d-c000.snappy.parquet\n",
      "Skipping file cleaned/yellow_tripdata_2012-05.parquet/\n",
      "Skipping file cleaned/yellow_tripdata_2012-05.parquet/_SUCCESS\n",
      "Processing cleaned/yellow_tripdata_2012-05.parquet/part-00000-fd9b0a04-fcc2-4cf9-853f-6f6eee5eebf2-c000.snappy.parquet:\n"
     ]
    },
    {
     "name": "stderr",
     "output_type": "stream",
     "text": [
      "                                                                                \r"
     ]
    },
    {
     "name": "stdout",
     "output_type": "stream",
     "text": [
      "Saved gs://my-bigdata-project-cm/aggregated/part-00000-fd9b0a04-fcc2-4cf9-853f-6f6eee5eebf2-c000.snappy.parquet\n",
      "Processing cleaned/yellow_tripdata_2012-05.parquet/part-00001-fd9b0a04-fcc2-4cf9-853f-6f6eee5eebf2-c000.snappy.parquet:\n"
     ]
    },
    {
     "name": "stderr",
     "output_type": "stream",
     "text": [
      "                                                                                \r"
     ]
    },
    {
     "name": "stdout",
     "output_type": "stream",
     "text": [
      "Saved gs://my-bigdata-project-cm/aggregated/part-00001-fd9b0a04-fcc2-4cf9-853f-6f6eee5eebf2-c000.snappy.parquet\n",
      "Processing cleaned/yellow_tripdata_2012-05.parquet/part-00002-fd9b0a04-fcc2-4cf9-853f-6f6eee5eebf2-c000.snappy.parquet:\n"
     ]
    },
    {
     "name": "stderr",
     "output_type": "stream",
     "text": [
      "                                                                                \r"
     ]
    },
    {
     "name": "stdout",
     "output_type": "stream",
     "text": [
      "Saved gs://my-bigdata-project-cm/aggregated/part-00002-fd9b0a04-fcc2-4cf9-853f-6f6eee5eebf2-c000.snappy.parquet\n",
      "Processing cleaned/yellow_tripdata_2012-05.parquet/part-00003-fd9b0a04-fcc2-4cf9-853f-6f6eee5eebf2-c000.snappy.parquet:\n"
     ]
    },
    {
     "name": "stderr",
     "output_type": "stream",
     "text": [
      "                                                                                \r"
     ]
    },
    {
     "name": "stdout",
     "output_type": "stream",
     "text": [
      "Saved gs://my-bigdata-project-cm/aggregated/part-00003-fd9b0a04-fcc2-4cf9-853f-6f6eee5eebf2-c000.snappy.parquet\n",
      "Processing cleaned/yellow_tripdata_2012-05.parquet/part-00004-fd9b0a04-fcc2-4cf9-853f-6f6eee5eebf2-c000.snappy.parquet:\n"
     ]
    },
    {
     "name": "stderr",
     "output_type": "stream",
     "text": [
      "                                                                                \r"
     ]
    },
    {
     "name": "stdout",
     "output_type": "stream",
     "text": [
      "Saved gs://my-bigdata-project-cm/aggregated/part-00004-fd9b0a04-fcc2-4cf9-853f-6f6eee5eebf2-c000.snappy.parquet\n",
      "Processing cleaned/yellow_tripdata_2012-05.parquet/part-00005-fd9b0a04-fcc2-4cf9-853f-6f6eee5eebf2-c000.snappy.parquet:\n"
     ]
    },
    {
     "name": "stderr",
     "output_type": "stream",
     "text": [
      "                                                                                \r"
     ]
    },
    {
     "name": "stdout",
     "output_type": "stream",
     "text": [
      "Saved gs://my-bigdata-project-cm/aggregated/part-00005-fd9b0a04-fcc2-4cf9-853f-6f6eee5eebf2-c000.snappy.parquet\n",
      "Processing cleaned/yellow_tripdata_2012-05.parquet/part-00006-fd9b0a04-fcc2-4cf9-853f-6f6eee5eebf2-c000.snappy.parquet:\n"
     ]
    },
    {
     "name": "stderr",
     "output_type": "stream",
     "text": [
      "                                                                                \r"
     ]
    },
    {
     "name": "stdout",
     "output_type": "stream",
     "text": [
      "Saved gs://my-bigdata-project-cm/aggregated/part-00006-fd9b0a04-fcc2-4cf9-853f-6f6eee5eebf2-c000.snappy.parquet\n",
      "Processing cleaned/yellow_tripdata_2012-05.parquet/part-00007-fd9b0a04-fcc2-4cf9-853f-6f6eee5eebf2-c000.snappy.parquet:\n"
     ]
    },
    {
     "name": "stderr",
     "output_type": "stream",
     "text": [
      "                                                                                \r"
     ]
    },
    {
     "name": "stdout",
     "output_type": "stream",
     "text": [
      "Saved gs://my-bigdata-project-cm/aggregated/part-00007-fd9b0a04-fcc2-4cf9-853f-6f6eee5eebf2-c000.snappy.parquet\n",
      "Processing cleaned/yellow_tripdata_2012-05.parquet/part-00008-fd9b0a04-fcc2-4cf9-853f-6f6eee5eebf2-c000.snappy.parquet:\n"
     ]
    },
    {
     "name": "stderr",
     "output_type": "stream",
     "text": [
      "                                                                                \r"
     ]
    },
    {
     "name": "stdout",
     "output_type": "stream",
     "text": [
      "Saved gs://my-bigdata-project-cm/aggregated/part-00008-fd9b0a04-fcc2-4cf9-853f-6f6eee5eebf2-c000.snappy.parquet\n",
      "Processing cleaned/yellow_tripdata_2012-05.parquet/part-00009-fd9b0a04-fcc2-4cf9-853f-6f6eee5eebf2-c000.snappy.parquet:\n"
     ]
    },
    {
     "name": "stderr",
     "output_type": "stream",
     "text": [
      "                                                                                \r"
     ]
    },
    {
     "name": "stdout",
     "output_type": "stream",
     "text": [
      "Saved gs://my-bigdata-project-cm/aggregated/part-00009-fd9b0a04-fcc2-4cf9-853f-6f6eee5eebf2-c000.snappy.parquet\n",
      "Processing cleaned/yellow_tripdata_2012-05.parquet/part-00010-fd9b0a04-fcc2-4cf9-853f-6f6eee5eebf2-c000.snappy.parquet:\n"
     ]
    },
    {
     "name": "stderr",
     "output_type": "stream",
     "text": [
      "                                                                                \r"
     ]
    },
    {
     "name": "stdout",
     "output_type": "stream",
     "text": [
      "Saved gs://my-bigdata-project-cm/aggregated/part-00010-fd9b0a04-fcc2-4cf9-853f-6f6eee5eebf2-c000.snappy.parquet\n",
      "Processing cleaned/yellow_tripdata_2012-05.parquet/part-00011-fd9b0a04-fcc2-4cf9-853f-6f6eee5eebf2-c000.snappy.parquet:\n"
     ]
    },
    {
     "name": "stderr",
     "output_type": "stream",
     "text": [
      "                                                                                \r"
     ]
    },
    {
     "name": "stdout",
     "output_type": "stream",
     "text": [
      "Saved gs://my-bigdata-project-cm/aggregated/part-00011-fd9b0a04-fcc2-4cf9-853f-6f6eee5eebf2-c000.snappy.parquet\n",
      "Skipping file cleaned/yellow_tripdata_2012-06.parquet/\n",
      "Skipping file cleaned/yellow_tripdata_2012-06.parquet/_SUCCESS\n",
      "Processing cleaned/yellow_tripdata_2012-06.parquet/part-00000-a25814f5-900f-4dc5-a66f-616724a2a75f-c000.snappy.parquet:\n"
     ]
    },
    {
     "name": "stderr",
     "output_type": "stream",
     "text": [
      "                                                                                \r"
     ]
    },
    {
     "name": "stdout",
     "output_type": "stream",
     "text": [
      "Saved gs://my-bigdata-project-cm/aggregated/part-00000-a25814f5-900f-4dc5-a66f-616724a2a75f-c000.snappy.parquet\n",
      "Processing cleaned/yellow_tripdata_2012-06.parquet/part-00001-a25814f5-900f-4dc5-a66f-616724a2a75f-c000.snappy.parquet:\n"
     ]
    },
    {
     "name": "stderr",
     "output_type": "stream",
     "text": [
      "                                                                                \r"
     ]
    },
    {
     "name": "stdout",
     "output_type": "stream",
     "text": [
      "Saved gs://my-bigdata-project-cm/aggregated/part-00001-a25814f5-900f-4dc5-a66f-616724a2a75f-c000.snappy.parquet\n",
      "Processing cleaned/yellow_tripdata_2012-06.parquet/part-00002-a25814f5-900f-4dc5-a66f-616724a2a75f-c000.snappy.parquet:\n"
     ]
    },
    {
     "name": "stderr",
     "output_type": "stream",
     "text": [
      "                                                                                \r"
     ]
    },
    {
     "name": "stdout",
     "output_type": "stream",
     "text": [
      "Saved gs://my-bigdata-project-cm/aggregated/part-00002-a25814f5-900f-4dc5-a66f-616724a2a75f-c000.snappy.parquet\n",
      "Processing cleaned/yellow_tripdata_2012-06.parquet/part-00003-a25814f5-900f-4dc5-a66f-616724a2a75f-c000.snappy.parquet:\n"
     ]
    },
    {
     "name": "stderr",
     "output_type": "stream",
     "text": [
      "                                                                                \r"
     ]
    },
    {
     "name": "stdout",
     "output_type": "stream",
     "text": [
      "Saved gs://my-bigdata-project-cm/aggregated/part-00004-a25814f5-900f-4dc5-a66f-616724a2a75f-c000.snappy.parquet\n",
      "Processing cleaned/yellow_tripdata_2012-06.parquet/part-00005-a25814f5-900f-4dc5-a66f-616724a2a75f-c000.snappy.parquet:\n"
     ]
    },
    {
     "name": "stderr",
     "output_type": "stream",
     "text": [
      "                                                                                \r"
     ]
    },
    {
     "name": "stdout",
     "output_type": "stream",
     "text": [
      "Saved gs://my-bigdata-project-cm/aggregated/part-00005-a25814f5-900f-4dc5-a66f-616724a2a75f-c000.snappy.parquet\n",
      "Processing cleaned/yellow_tripdata_2012-06.parquet/part-00006-a25814f5-900f-4dc5-a66f-616724a2a75f-c000.snappy.parquet:\n"
     ]
    },
    {
     "name": "stderr",
     "output_type": "stream",
     "text": [
      "                                                                                \r"
     ]
    },
    {
     "name": "stdout",
     "output_type": "stream",
     "text": [
      "Saved gs://my-bigdata-project-cm/aggregated/part-00006-a25814f5-900f-4dc5-a66f-616724a2a75f-c000.snappy.parquet\n",
      "Processing cleaned/yellow_tripdata_2012-06.parquet/part-00007-a25814f5-900f-4dc5-a66f-616724a2a75f-c000.snappy.parquet:\n"
     ]
    },
    {
     "name": "stderr",
     "output_type": "stream",
     "text": [
      "                                                                                \r"
     ]
    },
    {
     "name": "stdout",
     "output_type": "stream",
     "text": [
      "Saved gs://my-bigdata-project-cm/aggregated/part-00007-a25814f5-900f-4dc5-a66f-616724a2a75f-c000.snappy.parquet\n",
      "Processing cleaned/yellow_tripdata_2012-06.parquet/part-00008-a25814f5-900f-4dc5-a66f-616724a2a75f-c000.snappy.parquet:\n"
     ]
    },
    {
     "name": "stderr",
     "output_type": "stream",
     "text": [
      "                                                                                \r"
     ]
    },
    {
     "name": "stdout",
     "output_type": "stream",
     "text": [
      "Saved gs://my-bigdata-project-cm/aggregated/part-00008-a25814f5-900f-4dc5-a66f-616724a2a75f-c000.snappy.parquet\n",
      "Processing cleaned/yellow_tripdata_2012-06.parquet/part-00009-a25814f5-900f-4dc5-a66f-616724a2a75f-c000.snappy.parquet:\n"
     ]
    },
    {
     "name": "stderr",
     "output_type": "stream",
     "text": [
      "                                                                                \r"
     ]
    },
    {
     "name": "stdout",
     "output_type": "stream",
     "text": [
      "Saved gs://my-bigdata-project-cm/aggregated/part-00009-a25814f5-900f-4dc5-a66f-616724a2a75f-c000.snappy.parquet\n",
      "Processing cleaned/yellow_tripdata_2012-06.parquet/part-00010-a25814f5-900f-4dc5-a66f-616724a2a75f-c000.snappy.parquet:\n"
     ]
    },
    {
     "name": "stderr",
     "output_type": "stream",
     "text": [
      "                                                                                \r"
     ]
    },
    {
     "name": "stdout",
     "output_type": "stream",
     "text": [
      "Saved gs://my-bigdata-project-cm/aggregated/part-00010-a25814f5-900f-4dc5-a66f-616724a2a75f-c000.snappy.parquet\n",
      "Processing cleaned/yellow_tripdata_2012-06.parquet/part-00011-a25814f5-900f-4dc5-a66f-616724a2a75f-c000.snappy.parquet:\n"
     ]
    },
    {
     "name": "stderr",
     "output_type": "stream",
     "text": [
      "                                                                                \r"
     ]
    },
    {
     "name": "stdout",
     "output_type": "stream",
     "text": [
      "Saved gs://my-bigdata-project-cm/aggregated/part-00011-a25814f5-900f-4dc5-a66f-616724a2a75f-c000.snappy.parquet\n",
      "Processing cleaned/yellow_tripdata_2012-06.parquet/part-00012-a25814f5-900f-4dc5-a66f-616724a2a75f-c000.snappy.parquet:\n"
     ]
    },
    {
     "name": "stderr",
     "output_type": "stream",
     "text": [
      "                                                                                \r"
     ]
    },
    {
     "name": "stdout",
     "output_type": "stream",
     "text": [
      "Saved gs://my-bigdata-project-cm/aggregated/part-00012-a25814f5-900f-4dc5-a66f-616724a2a75f-c000.snappy.parquet\n",
      "Skipping file cleaned/yellow_tripdata_2012-07.parquet/\n",
      "Skipping file cleaned/yellow_tripdata_2012-07.parquet/_SUCCESS\n",
      "Processing cleaned/yellow_tripdata_2012-07.parquet/part-00000-f80d5915-19d9-4b0b-9cb7-ac27899e12ed-c000.snappy.parquet:\n"
     ]
    },
    {
     "name": "stderr",
     "output_type": "stream",
     "text": [
      "                                                                                \r"
     ]
    },
    {
     "name": "stdout",
     "output_type": "stream",
     "text": [
      "Saved gs://my-bigdata-project-cm/aggregated/part-00000-f80d5915-19d9-4b0b-9cb7-ac27899e12ed-c000.snappy.parquet\n",
      "Processing cleaned/yellow_tripdata_2012-07.parquet/part-00001-f80d5915-19d9-4b0b-9cb7-ac27899e12ed-c000.snappy.parquet:\n"
     ]
    },
    {
     "name": "stderr",
     "output_type": "stream",
     "text": [
      "                                                                                \r"
     ]
    },
    {
     "name": "stdout",
     "output_type": "stream",
     "text": [
      "Saved gs://my-bigdata-project-cm/aggregated/part-00001-f80d5915-19d9-4b0b-9cb7-ac27899e12ed-c000.snappy.parquet\n",
      "Processing cleaned/yellow_tripdata_2012-07.parquet/part-00002-f80d5915-19d9-4b0b-9cb7-ac27899e12ed-c000.snappy.parquet:\n"
     ]
    },
    {
     "name": "stderr",
     "output_type": "stream",
     "text": [
      "                                                                                \r"
     ]
    },
    {
     "name": "stdout",
     "output_type": "stream",
     "text": [
      "Saved gs://my-bigdata-project-cm/aggregated/part-00002-f80d5915-19d9-4b0b-9cb7-ac27899e12ed-c000.snappy.parquet\n",
      "Processing cleaned/yellow_tripdata_2012-07.parquet/part-00003-f80d5915-19d9-4b0b-9cb7-ac27899e12ed-c000.snappy.parquet:\n"
     ]
    },
    {
     "name": "stderr",
     "output_type": "stream",
     "text": [
      "                                                                                \r"
     ]
    },
    {
     "name": "stdout",
     "output_type": "stream",
     "text": [
      "Saved gs://my-bigdata-project-cm/aggregated/part-00003-f80d5915-19d9-4b0b-9cb7-ac27899e12ed-c000.snappy.parquet\n",
      "Processing cleaned/yellow_tripdata_2012-07.parquet/part-00004-f80d5915-19d9-4b0b-9cb7-ac27899e12ed-c000.snappy.parquet:\n"
     ]
    },
    {
     "name": "stderr",
     "output_type": "stream",
     "text": [
      "                                                                                \r"
     ]
    },
    {
     "name": "stdout",
     "output_type": "stream",
     "text": [
      "Saved gs://my-bigdata-project-cm/aggregated/part-00004-f80d5915-19d9-4b0b-9cb7-ac27899e12ed-c000.snappy.parquet\n",
      "Processing cleaned/yellow_tripdata_2012-07.parquet/part-00005-f80d5915-19d9-4b0b-9cb7-ac27899e12ed-c000.snappy.parquet:\n"
     ]
    },
    {
     "name": "stderr",
     "output_type": "stream",
     "text": [
      "                                                                                \r"
     ]
    },
    {
     "name": "stdout",
     "output_type": "stream",
     "text": [
      "Saved gs://my-bigdata-project-cm/aggregated/part-00005-f80d5915-19d9-4b0b-9cb7-ac27899e12ed-c000.snappy.parquet\n",
      "Processing cleaned/yellow_tripdata_2012-07.parquet/part-00006-f80d5915-19d9-4b0b-9cb7-ac27899e12ed-c000.snappy.parquet:\n"
     ]
    },
    {
     "name": "stderr",
     "output_type": "stream",
     "text": [
      "                                                                                \r"
     ]
    },
    {
     "name": "stdout",
     "output_type": "stream",
     "text": [
      "Saved gs://my-bigdata-project-cm/aggregated/part-00006-f80d5915-19d9-4b0b-9cb7-ac27899e12ed-c000.snappy.parquet\n",
      "Processing cleaned/yellow_tripdata_2012-07.parquet/part-00007-f80d5915-19d9-4b0b-9cb7-ac27899e12ed-c000.snappy.parquet:\n"
     ]
    },
    {
     "name": "stderr",
     "output_type": "stream",
     "text": [
      "                                                                                \r"
     ]
    },
    {
     "name": "stdout",
     "output_type": "stream",
     "text": [
      "Saved gs://my-bigdata-project-cm/aggregated/part-00007-f80d5915-19d9-4b0b-9cb7-ac27899e12ed-c000.snappy.parquet\n",
      "Processing cleaned/yellow_tripdata_2012-07.parquet/part-00008-f80d5915-19d9-4b0b-9cb7-ac27899e12ed-c000.snappy.parquet:\n"
     ]
    },
    {
     "name": "stderr",
     "output_type": "stream",
     "text": [
      "                                                                                \r"
     ]
    },
    {
     "name": "stdout",
     "output_type": "stream",
     "text": [
      "Saved gs://my-bigdata-project-cm/aggregated/part-00008-f80d5915-19d9-4b0b-9cb7-ac27899e12ed-c000.snappy.parquet\n",
      "Processing cleaned/yellow_tripdata_2012-07.parquet/part-00009-f80d5915-19d9-4b0b-9cb7-ac27899e12ed-c000.snappy.parquet:\n"
     ]
    },
    {
     "name": "stderr",
     "output_type": "stream",
     "text": [
      "                                                                                \r"
     ]
    },
    {
     "name": "stdout",
     "output_type": "stream",
     "text": [
      "Saved gs://my-bigdata-project-cm/aggregated/part-00009-f80d5915-19d9-4b0b-9cb7-ac27899e12ed-c000.snappy.parquet\n",
      "Processing cleaned/yellow_tripdata_2012-07.parquet/part-00010-f80d5915-19d9-4b0b-9cb7-ac27899e12ed-c000.snappy.parquet:\n"
     ]
    },
    {
     "name": "stderr",
     "output_type": "stream",
     "text": [
      "                                                                                \r"
     ]
    },
    {
     "name": "stdout",
     "output_type": "stream",
     "text": [
      "Saved gs://my-bigdata-project-cm/aggregated/part-00010-f80d5915-19d9-4b0b-9cb7-ac27899e12ed-c000.snappy.parquet\n",
      "Processing cleaned/yellow_tripdata_2012-07.parquet/part-00011-f80d5915-19d9-4b0b-9cb7-ac27899e12ed-c000.snappy.parquet:\n"
     ]
    },
    {
     "name": "stderr",
     "output_type": "stream",
     "text": [
      "                                                                                \r"
     ]
    },
    {
     "name": "stdout",
     "output_type": "stream",
     "text": [
      "Saved gs://my-bigdata-project-cm/aggregated/part-00011-f80d5915-19d9-4b0b-9cb7-ac27899e12ed-c000.snappy.parquet\n",
      "Processing cleaned/yellow_tripdata_2012-07.parquet/part-00012-f80d5915-19d9-4b0b-9cb7-ac27899e12ed-c000.snappy.parquet:\n"
     ]
    },
    {
     "name": "stderr",
     "output_type": "stream",
     "text": [
      "                                                                                \r"
     ]
    },
    {
     "name": "stdout",
     "output_type": "stream",
     "text": [
      "Saved gs://my-bigdata-project-cm/aggregated/part-00012-f80d5915-19d9-4b0b-9cb7-ac27899e12ed-c000.snappy.parquet\n",
      "Skipping file cleaned/yellow_tripdata_2012-08.parquet/\n",
      "Skipping file cleaned/yellow_tripdata_2012-08.parquet/_SUCCESS\n",
      "Processing cleaned/yellow_tripdata_2012-08.parquet/part-00000-462da38f-dd94-472f-989f-27fa8c4c61a5-c000.snappy.parquet:\n"
     ]
    },
    {
     "name": "stderr",
     "output_type": "stream",
     "text": [
      "                                                                                \r"
     ]
    },
    {
     "name": "stdout",
     "output_type": "stream",
     "text": [
      "Saved gs://my-bigdata-project-cm/aggregated/part-00000-462da38f-dd94-472f-989f-27fa8c4c61a5-c000.snappy.parquet\n",
      "Processing cleaned/yellow_tripdata_2012-08.parquet/part-00001-462da38f-dd94-472f-989f-27fa8c4c61a5-c000.snappy.parquet:\n"
     ]
    },
    {
     "name": "stderr",
     "output_type": "stream",
     "text": [
      "                                                                                \r"
     ]
    },
    {
     "name": "stdout",
     "output_type": "stream",
     "text": [
      "Saved gs://my-bigdata-project-cm/aggregated/part-00001-462da38f-dd94-472f-989f-27fa8c4c61a5-c000.snappy.parquet\n",
      "Processing cleaned/yellow_tripdata_2012-08.parquet/part-00002-462da38f-dd94-472f-989f-27fa8c4c61a5-c000.snappy.parquet:\n"
     ]
    },
    {
     "name": "stderr",
     "output_type": "stream",
     "text": [
      "                                                                                \r"
     ]
    },
    {
     "name": "stdout",
     "output_type": "stream",
     "text": [
      "Saved gs://my-bigdata-project-cm/aggregated/part-00002-462da38f-dd94-472f-989f-27fa8c4c61a5-c000.snappy.parquet\n",
      "Processing cleaned/yellow_tripdata_2012-08.parquet/part-00003-462da38f-dd94-472f-989f-27fa8c4c61a5-c000.snappy.parquet:\n"
     ]
    },
    {
     "name": "stderr",
     "output_type": "stream",
     "text": [
      "                                                                                \r"
     ]
    },
    {
     "name": "stdout",
     "output_type": "stream",
     "text": [
      "Saved gs://my-bigdata-project-cm/aggregated/part-00003-462da38f-dd94-472f-989f-27fa8c4c61a5-c000.snappy.parquet\n",
      "Processing cleaned/yellow_tripdata_2012-08.parquet/part-00004-462da38f-dd94-472f-989f-27fa8c4c61a5-c000.snappy.parquet:\n"
     ]
    },
    {
     "name": "stderr",
     "output_type": "stream",
     "text": [
      "                                                                                \r"
     ]
    },
    {
     "name": "stdout",
     "output_type": "stream",
     "text": [
      "Saved gs://my-bigdata-project-cm/aggregated/part-00004-462da38f-dd94-472f-989f-27fa8c4c61a5-c000.snappy.parquet\n",
      "Processing cleaned/yellow_tripdata_2012-08.parquet/part-00005-462da38f-dd94-472f-989f-27fa8c4c61a5-c000.snappy.parquet:\n"
     ]
    },
    {
     "name": "stderr",
     "output_type": "stream",
     "text": [
      "                                                                                \r"
     ]
    },
    {
     "name": "stdout",
     "output_type": "stream",
     "text": [
      "Saved gs://my-bigdata-project-cm/aggregated/part-00005-462da38f-dd94-472f-989f-27fa8c4c61a5-c000.snappy.parquet\n",
      "Processing cleaned/yellow_tripdata_2012-08.parquet/part-00006-462da38f-dd94-472f-989f-27fa8c4c61a5-c000.snappy.parquet:\n"
     ]
    },
    {
     "name": "stderr",
     "output_type": "stream",
     "text": [
      "                                                                                \r"
     ]
    },
    {
     "name": "stdout",
     "output_type": "stream",
     "text": [
      "Saved gs://my-bigdata-project-cm/aggregated/part-00006-462da38f-dd94-472f-989f-27fa8c4c61a5-c000.snappy.parquet\n",
      "Processing cleaned/yellow_tripdata_2012-08.parquet/part-00007-462da38f-dd94-472f-989f-27fa8c4c61a5-c000.snappy.parquet:\n"
     ]
    },
    {
     "name": "stderr",
     "output_type": "stream",
     "text": [
      "                                                                                \r"
     ]
    },
    {
     "name": "stdout",
     "output_type": "stream",
     "text": [
      "Saved gs://my-bigdata-project-cm/aggregated/part-00007-462da38f-dd94-472f-989f-27fa8c4c61a5-c000.snappy.parquet\n",
      "Processing cleaned/yellow_tripdata_2012-08.parquet/part-00008-462da38f-dd94-472f-989f-27fa8c4c61a5-c000.snappy.parquet:\n"
     ]
    },
    {
     "name": "stderr",
     "output_type": "stream",
     "text": [
      "                                                                                \r"
     ]
    },
    {
     "name": "stdout",
     "output_type": "stream",
     "text": [
      "Saved gs://my-bigdata-project-cm/aggregated/part-00008-462da38f-dd94-472f-989f-27fa8c4c61a5-c000.snappy.parquet\n",
      "Processing cleaned/yellow_tripdata_2012-08.parquet/part-00009-462da38f-dd94-472f-989f-27fa8c4c61a5-c000.snappy.parquet:\n"
     ]
    },
    {
     "name": "stderr",
     "output_type": "stream",
     "text": [
      "                                                                                \r"
     ]
    },
    {
     "name": "stdout",
     "output_type": "stream",
     "text": [
      "Saved gs://my-bigdata-project-cm/aggregated/part-00009-462da38f-dd94-472f-989f-27fa8c4c61a5-c000.snappy.parquet\n",
      "Processing cleaned/yellow_tripdata_2012-08.parquet/part-00010-462da38f-dd94-472f-989f-27fa8c4c61a5-c000.snappy.parquet:\n"
     ]
    },
    {
     "name": "stderr",
     "output_type": "stream",
     "text": [
      "                                                                                \r"
     ]
    },
    {
     "name": "stdout",
     "output_type": "stream",
     "text": [
      "Saved gs://my-bigdata-project-cm/aggregated/part-00010-462da38f-dd94-472f-989f-27fa8c4c61a5-c000.snappy.parquet\n",
      "Processing cleaned/yellow_tripdata_2012-08.parquet/part-00011-462da38f-dd94-472f-989f-27fa8c4c61a5-c000.snappy.parquet:\n"
     ]
    },
    {
     "name": "stderr",
     "output_type": "stream",
     "text": [
      "                                                                                \r"
     ]
    },
    {
     "name": "stdout",
     "output_type": "stream",
     "text": [
      "Saved gs://my-bigdata-project-cm/aggregated/part-00011-462da38f-dd94-472f-989f-27fa8c4c61a5-c000.snappy.parquet\n",
      "Processing cleaned/yellow_tripdata_2012-08.parquet/part-00012-462da38f-dd94-472f-989f-27fa8c4c61a5-c000.snappy.parquet:\n"
     ]
    },
    {
     "name": "stderr",
     "output_type": "stream",
     "text": [
      "                                                                                \r"
     ]
    },
    {
     "name": "stdout",
     "output_type": "stream",
     "text": [
      "Saved gs://my-bigdata-project-cm/aggregated/part-00012-462da38f-dd94-472f-989f-27fa8c4c61a5-c000.snappy.parquet\n",
      "Skipping file cleaned/yellow_tripdata_2012-09.parquet/\n",
      "Skipping file cleaned/yellow_tripdata_2012-09.parquet/_SUCCESS\n",
      "Processing cleaned/yellow_tripdata_2012-09.parquet/part-00000-4df86025-c47d-45bf-ad04-4cd093df7771-c000.snappy.parquet:\n"
     ]
    },
    {
     "name": "stderr",
     "output_type": "stream",
     "text": [
      "                                                                                \r"
     ]
    },
    {
     "name": "stdout",
     "output_type": "stream",
     "text": [
      "Saved gs://my-bigdata-project-cm/aggregated/part-00000-4df86025-c47d-45bf-ad04-4cd093df7771-c000.snappy.parquet\n",
      "Processing cleaned/yellow_tripdata_2012-09.parquet/part-00001-4df86025-c47d-45bf-ad04-4cd093df7771-c000.snappy.parquet:\n"
     ]
    },
    {
     "name": "stderr",
     "output_type": "stream",
     "text": [
      "                                                                                \r"
     ]
    },
    {
     "name": "stdout",
     "output_type": "stream",
     "text": [
      "Saved gs://my-bigdata-project-cm/aggregated/part-00001-4df86025-c47d-45bf-ad04-4cd093df7771-c000.snappy.parquet\n",
      "Processing cleaned/yellow_tripdata_2012-09.parquet/part-00002-4df86025-c47d-45bf-ad04-4cd093df7771-c000.snappy.parquet:\n"
     ]
    },
    {
     "name": "stderr",
     "output_type": "stream",
     "text": [
      "                                                                                \r"
     ]
    },
    {
     "name": "stdout",
     "output_type": "stream",
     "text": [
      "Saved gs://my-bigdata-project-cm/aggregated/part-00002-4df86025-c47d-45bf-ad04-4cd093df7771-c000.snappy.parquet\n",
      "Processing cleaned/yellow_tripdata_2012-09.parquet/part-00003-4df86025-c47d-45bf-ad04-4cd093df7771-c000.snappy.parquet:\n"
     ]
    },
    {
     "name": "stderr",
     "output_type": "stream",
     "text": [
      "                                                                                \r"
     ]
    },
    {
     "name": "stdout",
     "output_type": "stream",
     "text": [
      "Saved gs://my-bigdata-project-cm/aggregated/part-00003-4df86025-c47d-45bf-ad04-4cd093df7771-c000.snappy.parquet\n",
      "Processing cleaned/yellow_tripdata_2012-09.parquet/part-00004-4df86025-c47d-45bf-ad04-4cd093df7771-c000.snappy.parquet:\n"
     ]
    },
    {
     "name": "stderr",
     "output_type": "stream",
     "text": [
      "                                                                                \r"
     ]
    },
    {
     "name": "stdout",
     "output_type": "stream",
     "text": [
      "Saved gs://my-bigdata-project-cm/aggregated/part-00004-4df86025-c47d-45bf-ad04-4cd093df7771-c000.snappy.parquet\n",
      "Processing cleaned/yellow_tripdata_2012-09.parquet/part-00005-4df86025-c47d-45bf-ad04-4cd093df7771-c000.snappy.parquet:\n"
     ]
    },
    {
     "name": "stderr",
     "output_type": "stream",
     "text": [
      "                                                                                \r"
     ]
    },
    {
     "name": "stdout",
     "output_type": "stream",
     "text": [
      "Saved gs://my-bigdata-project-cm/aggregated/part-00005-4df86025-c47d-45bf-ad04-4cd093df7771-c000.snappy.parquet\n",
      "Processing cleaned/yellow_tripdata_2012-09.parquet/part-00006-4df86025-c47d-45bf-ad04-4cd093df7771-c000.snappy.parquet:\n"
     ]
    },
    {
     "name": "stderr",
     "output_type": "stream",
     "text": [
      "                                                                                \r"
     ]
    },
    {
     "name": "stdout",
     "output_type": "stream",
     "text": [
      "Saved gs://my-bigdata-project-cm/aggregated/part-00006-4df86025-c47d-45bf-ad04-4cd093df7771-c000.snappy.parquet\n",
      "Processing cleaned/yellow_tripdata_2012-09.parquet/part-00007-4df86025-c47d-45bf-ad04-4cd093df7771-c000.snappy.parquet:\n"
     ]
    },
    {
     "name": "stderr",
     "output_type": "stream",
     "text": [
      "                                                                                \r"
     ]
    },
    {
     "name": "stdout",
     "output_type": "stream",
     "text": [
      "Saved gs://my-bigdata-project-cm/aggregated/part-00007-4df86025-c47d-45bf-ad04-4cd093df7771-c000.snappy.parquet\n",
      "Processing cleaned/yellow_tripdata_2012-09.parquet/part-00008-4df86025-c47d-45bf-ad04-4cd093df7771-c000.snappy.parquet:\n"
     ]
    },
    {
     "name": "stderr",
     "output_type": "stream",
     "text": [
      "                                                                                \r"
     ]
    },
    {
     "name": "stdout",
     "output_type": "stream",
     "text": [
      "Saved gs://my-bigdata-project-cm/aggregated/part-00008-4df86025-c47d-45bf-ad04-4cd093df7771-c000.snappy.parquet\n",
      "Processing cleaned/yellow_tripdata_2012-09.parquet/part-00009-4df86025-c47d-45bf-ad04-4cd093df7771-c000.snappy.parquet:\n"
     ]
    },
    {
     "name": "stderr",
     "output_type": "stream",
     "text": [
      "                                                                                \r"
     ]
    },
    {
     "name": "stdout",
     "output_type": "stream",
     "text": [
      "Saved gs://my-bigdata-project-cm/aggregated/part-00009-4df86025-c47d-45bf-ad04-4cd093df7771-c000.snappy.parquet\n",
      "Processing cleaned/yellow_tripdata_2012-09.parquet/part-00010-4df86025-c47d-45bf-ad04-4cd093df7771-c000.snappy.parquet:\n"
     ]
    },
    {
     "name": "stderr",
     "output_type": "stream",
     "text": [
      "                                                                                \r"
     ]
    },
    {
     "name": "stdout",
     "output_type": "stream",
     "text": [
      "Saved gs://my-bigdata-project-cm/aggregated/part-00010-4df86025-c47d-45bf-ad04-4cd093df7771-c000.snappy.parquet\n",
      "Processing cleaned/yellow_tripdata_2012-09.parquet/part-00011-4df86025-c47d-45bf-ad04-4cd093df7771-c000.snappy.parquet:\n"
     ]
    },
    {
     "name": "stderr",
     "output_type": "stream",
     "text": [
      "                                                                                \r"
     ]
    },
    {
     "name": "stdout",
     "output_type": "stream",
     "text": [
      "Saved gs://my-bigdata-project-cm/aggregated/part-00011-4df86025-c47d-45bf-ad04-4cd093df7771-c000.snappy.parquet\n",
      "Skipping file cleaned/yellow_tripdata_2012-10.parquet/\n",
      "Skipping file cleaned/yellow_tripdata_2012-10.parquet/_SUCCESS\n",
      "Processing cleaned/yellow_tripdata_2012-10.parquet/part-00000-d7d262ad-7828-4e4c-890c-1eb2dee67bdc-c000.snappy.parquet:\n"
     ]
    },
    {
     "name": "stderr",
     "output_type": "stream",
     "text": [
      "                                                                                \r"
     ]
    },
    {
     "name": "stdout",
     "output_type": "stream",
     "text": [
      "Saved gs://my-bigdata-project-cm/aggregated/part-00000-d7d262ad-7828-4e4c-890c-1eb2dee67bdc-c000.snappy.parquet\n",
      "Processing cleaned/yellow_tripdata_2012-10.parquet/part-00001-d7d262ad-7828-4e4c-890c-1eb2dee67bdc-c000.snappy.parquet:\n"
     ]
    },
    {
     "name": "stderr",
     "output_type": "stream",
     "text": [
      "                                                                                \r"
     ]
    },
    {
     "name": "stdout",
     "output_type": "stream",
     "text": [
      "Saved gs://my-bigdata-project-cm/aggregated/part-00001-d7d262ad-7828-4e4c-890c-1eb2dee67bdc-c000.snappy.parquet\n",
      "Processing cleaned/yellow_tripdata_2012-10.parquet/part-00002-d7d262ad-7828-4e4c-890c-1eb2dee67bdc-c000.snappy.parquet:\n"
     ]
    },
    {
     "name": "stderr",
     "output_type": "stream",
     "text": [
      "                                                                                \r"
     ]
    },
    {
     "name": "stdout",
     "output_type": "stream",
     "text": [
      "Saved gs://my-bigdata-project-cm/aggregated/part-00002-d7d262ad-7828-4e4c-890c-1eb2dee67bdc-c000.snappy.parquet\n",
      "Processing cleaned/yellow_tripdata_2012-10.parquet/part-00003-d7d262ad-7828-4e4c-890c-1eb2dee67bdc-c000.snappy.parquet:\n"
     ]
    },
    {
     "name": "stderr",
     "output_type": "stream",
     "text": [
      "                                                                                \r"
     ]
    },
    {
     "name": "stdout",
     "output_type": "stream",
     "text": [
      "Saved gs://my-bigdata-project-cm/aggregated/part-00003-d7d262ad-7828-4e4c-890c-1eb2dee67bdc-c000.snappy.parquet\n",
      "Processing cleaned/yellow_tripdata_2012-10.parquet/part-00004-d7d262ad-7828-4e4c-890c-1eb2dee67bdc-c000.snappy.parquet:\n"
     ]
    },
    {
     "name": "stderr",
     "output_type": "stream",
     "text": [
      "                                                                                \r"
     ]
    },
    {
     "name": "stdout",
     "output_type": "stream",
     "text": [
      "Saved gs://my-bigdata-project-cm/aggregated/part-00004-d7d262ad-7828-4e4c-890c-1eb2dee67bdc-c000.snappy.parquet\n",
      "Processing cleaned/yellow_tripdata_2012-10.parquet/part-00005-d7d262ad-7828-4e4c-890c-1eb2dee67bdc-c000.snappy.parquet:\n"
     ]
    },
    {
     "name": "stderr",
     "output_type": "stream",
     "text": [
      "                                                                                \r"
     ]
    },
    {
     "name": "stdout",
     "output_type": "stream",
     "text": [
      "Saved gs://my-bigdata-project-cm/aggregated/part-00005-d7d262ad-7828-4e4c-890c-1eb2dee67bdc-c000.snappy.parquet\n",
      "Processing cleaned/yellow_tripdata_2012-10.parquet/part-00006-d7d262ad-7828-4e4c-890c-1eb2dee67bdc-c000.snappy.parquet:\n"
     ]
    },
    {
     "name": "stderr",
     "output_type": "stream",
     "text": [
      "                                                                                \r"
     ]
    },
    {
     "name": "stdout",
     "output_type": "stream",
     "text": [
      "Saved gs://my-bigdata-project-cm/aggregated/part-00006-d7d262ad-7828-4e4c-890c-1eb2dee67bdc-c000.snappy.parquet\n",
      "Processing cleaned/yellow_tripdata_2012-10.parquet/part-00007-d7d262ad-7828-4e4c-890c-1eb2dee67bdc-c000.snappy.parquet:\n"
     ]
    },
    {
     "name": "stderr",
     "output_type": "stream",
     "text": [
      "                                                                                \r"
     ]
    },
    {
     "name": "stdout",
     "output_type": "stream",
     "text": [
      "Saved gs://my-bigdata-project-cm/aggregated/part-00007-d7d262ad-7828-4e4c-890c-1eb2dee67bdc-c000.snappy.parquet\n",
      "Processing cleaned/yellow_tripdata_2012-10.parquet/part-00008-d7d262ad-7828-4e4c-890c-1eb2dee67bdc-c000.snappy.parquet:\n"
     ]
    },
    {
     "name": "stderr",
     "output_type": "stream",
     "text": [
      "                                                                                \r"
     ]
    },
    {
     "name": "stdout",
     "output_type": "stream",
     "text": [
      "Saved gs://my-bigdata-project-cm/aggregated/part-00008-d7d262ad-7828-4e4c-890c-1eb2dee67bdc-c000.snappy.parquet\n",
      "Processing cleaned/yellow_tripdata_2012-10.parquet/part-00009-d7d262ad-7828-4e4c-890c-1eb2dee67bdc-c000.snappy.parquet:\n"
     ]
    },
    {
     "name": "stderr",
     "output_type": "stream",
     "text": [
      "                                                                                \r"
     ]
    },
    {
     "name": "stdout",
     "output_type": "stream",
     "text": [
      "Saved gs://my-bigdata-project-cm/aggregated/part-00009-d7d262ad-7828-4e4c-890c-1eb2dee67bdc-c000.snappy.parquet\n",
      "Processing cleaned/yellow_tripdata_2012-10.parquet/part-00010-d7d262ad-7828-4e4c-890c-1eb2dee67bdc-c000.snappy.parquet:\n"
     ]
    },
    {
     "name": "stderr",
     "output_type": "stream",
     "text": [
      "                                                                                \r"
     ]
    },
    {
     "name": "stdout",
     "output_type": "stream",
     "text": [
      "Saved gs://my-bigdata-project-cm/aggregated/part-00010-d7d262ad-7828-4e4c-890c-1eb2dee67bdc-c000.snappy.parquet\n",
      "Processing cleaned/yellow_tripdata_2012-10.parquet/part-00011-d7d262ad-7828-4e4c-890c-1eb2dee67bdc-c000.snappy.parquet:\n"
     ]
    },
    {
     "name": "stderr",
     "output_type": "stream",
     "text": [
      "                                                                                \r"
     ]
    },
    {
     "name": "stdout",
     "output_type": "stream",
     "text": [
      "Saved gs://my-bigdata-project-cm/aggregated/part-00011-d7d262ad-7828-4e4c-890c-1eb2dee67bdc-c000.snappy.parquet\n",
      "Skipping file cleaned/yellow_tripdata_2012-11.parquet/\n",
      "Skipping file cleaned/yellow_tripdata_2012-11.parquet/_SUCCESS\n",
      "Processing cleaned/yellow_tripdata_2012-11.parquet/part-00000-d0a11793-b365-4ef1-a412-8bbf65340e13-c000.snappy.parquet:\n"
     ]
    },
    {
     "name": "stderr",
     "output_type": "stream",
     "text": [
      "                                                                                \r"
     ]
    },
    {
     "name": "stdout",
     "output_type": "stream",
     "text": [
      "Saved gs://my-bigdata-project-cm/aggregated/part-00000-d0a11793-b365-4ef1-a412-8bbf65340e13-c000.snappy.parquet\n",
      "Processing cleaned/yellow_tripdata_2012-11.parquet/part-00001-d0a11793-b365-4ef1-a412-8bbf65340e13-c000.snappy.parquet:\n"
     ]
    },
    {
     "name": "stderr",
     "output_type": "stream",
     "text": [
      "                                                                                \r"
     ]
    },
    {
     "name": "stdout",
     "output_type": "stream",
     "text": [
      "Saved gs://my-bigdata-project-cm/aggregated/part-00001-d0a11793-b365-4ef1-a412-8bbf65340e13-c000.snappy.parquet\n",
      "Processing cleaned/yellow_tripdata_2012-11.parquet/part-00002-d0a11793-b365-4ef1-a412-8bbf65340e13-c000.snappy.parquet:\n"
     ]
    },
    {
     "name": "stderr",
     "output_type": "stream",
     "text": [
      "                                                                                \r"
     ]
    },
    {
     "name": "stdout",
     "output_type": "stream",
     "text": [
      "Saved gs://my-bigdata-project-cm/aggregated/part-00002-d0a11793-b365-4ef1-a412-8bbf65340e13-c000.snappy.parquet\n",
      "Processing cleaned/yellow_tripdata_2012-11.parquet/part-00003-d0a11793-b365-4ef1-a412-8bbf65340e13-c000.snappy.parquet:\n"
     ]
    },
    {
     "name": "stderr",
     "output_type": "stream",
     "text": [
      "                                                                                \r"
     ]
    },
    {
     "name": "stdout",
     "output_type": "stream",
     "text": [
      "Saved gs://my-bigdata-project-cm/aggregated/part-00003-d0a11793-b365-4ef1-a412-8bbf65340e13-c000.snappy.parquet\n",
      "Processing cleaned/yellow_tripdata_2012-11.parquet/part-00004-d0a11793-b365-4ef1-a412-8bbf65340e13-c000.snappy.parquet:\n"
     ]
    },
    {
     "name": "stderr",
     "output_type": "stream",
     "text": [
      "                                                                                \r"
     ]
    },
    {
     "name": "stdout",
     "output_type": "stream",
     "text": [
      "Saved gs://my-bigdata-project-cm/aggregated/part-00004-d0a11793-b365-4ef1-a412-8bbf65340e13-c000.snappy.parquet\n",
      "Processing cleaned/yellow_tripdata_2012-11.parquet/part-00005-d0a11793-b365-4ef1-a412-8bbf65340e13-c000.snappy.parquet:\n"
     ]
    },
    {
     "name": "stderr",
     "output_type": "stream",
     "text": [
      "                                                                                \r"
     ]
    },
    {
     "name": "stdout",
     "output_type": "stream",
     "text": [
      "Saved gs://my-bigdata-project-cm/aggregated/part-00005-d0a11793-b365-4ef1-a412-8bbf65340e13-c000.snappy.parquet\n",
      "Processing cleaned/yellow_tripdata_2012-11.parquet/part-00006-d0a11793-b365-4ef1-a412-8bbf65340e13-c000.snappy.parquet:\n"
     ]
    },
    {
     "name": "stderr",
     "output_type": "stream",
     "text": [
      "                                                                                \r"
     ]
    },
    {
     "name": "stdout",
     "output_type": "stream",
     "text": [
      "Saved gs://my-bigdata-project-cm/aggregated/part-00006-d0a11793-b365-4ef1-a412-8bbf65340e13-c000.snappy.parquet\n",
      "Processing cleaned/yellow_tripdata_2012-11.parquet/part-00007-d0a11793-b365-4ef1-a412-8bbf65340e13-c000.snappy.parquet:\n"
     ]
    },
    {
     "name": "stderr",
     "output_type": "stream",
     "text": [
      "                                                                                \r"
     ]
    },
    {
     "name": "stdout",
     "output_type": "stream",
     "text": [
      "Saved gs://my-bigdata-project-cm/aggregated/part-00008-d0a11793-b365-4ef1-a412-8bbf65340e13-c000.snappy.parquet\n",
      "Processing cleaned/yellow_tripdata_2012-11.parquet/part-00009-d0a11793-b365-4ef1-a412-8bbf65340e13-c000.snappy.parquet:\n"
     ]
    },
    {
     "name": "stderr",
     "output_type": "stream",
     "text": [
      "                                                                                \r"
     ]
    },
    {
     "name": "stdout",
     "output_type": "stream",
     "text": [
      "Saved gs://my-bigdata-project-cm/aggregated/part-00009-d0a11793-b365-4ef1-a412-8bbf65340e13-c000.snappy.parquet\n",
      "Processing cleaned/yellow_tripdata_2012-11.parquet/part-00010-d0a11793-b365-4ef1-a412-8bbf65340e13-c000.snappy.parquet:\n"
     ]
    },
    {
     "name": "stderr",
     "output_type": "stream",
     "text": [
      "                                                                                \r"
     ]
    },
    {
     "name": "stdout",
     "output_type": "stream",
     "text": [
      "Saved gs://my-bigdata-project-cm/aggregated/part-00010-d0a11793-b365-4ef1-a412-8bbf65340e13-c000.snappy.parquet\n",
      "Skipping file cleaned/yellow_tripdata_2012-12.parquet/\n",
      "Skipping file cleaned/yellow_tripdata_2012-12.parquet/_SUCCESS\n",
      "Processing cleaned/yellow_tripdata_2012-12.parquet/part-00000-3d27005b-019f-4e9f-b037-c23950982591-c000.snappy.parquet:\n"
     ]
    },
    {
     "name": "stderr",
     "output_type": "stream",
     "text": [
      "                                                                                \r"
     ]
    },
    {
     "name": "stdout",
     "output_type": "stream",
     "text": [
      "Saved gs://my-bigdata-project-cm/aggregated/part-00000-3d27005b-019f-4e9f-b037-c23950982591-c000.snappy.parquet\n",
      "Processing cleaned/yellow_tripdata_2012-12.parquet/part-00001-3d27005b-019f-4e9f-b037-c23950982591-c000.snappy.parquet:\n"
     ]
    },
    {
     "name": "stderr",
     "output_type": "stream",
     "text": [
      "                                                                                \r"
     ]
    },
    {
     "name": "stdout",
     "output_type": "stream",
     "text": [
      "Saved gs://my-bigdata-project-cm/aggregated/part-00001-3d27005b-019f-4e9f-b037-c23950982591-c000.snappy.parquet\n",
      "Processing cleaned/yellow_tripdata_2012-12.parquet/part-00002-3d27005b-019f-4e9f-b037-c23950982591-c000.snappy.parquet:\n"
     ]
    },
    {
     "name": "stderr",
     "output_type": "stream",
     "text": [
      "                                                                                \r"
     ]
    },
    {
     "name": "stdout",
     "output_type": "stream",
     "text": [
      "Saved gs://my-bigdata-project-cm/aggregated/part-00002-3d27005b-019f-4e9f-b037-c23950982591-c000.snappy.parquet\n",
      "Processing cleaned/yellow_tripdata_2012-12.parquet/part-00003-3d27005b-019f-4e9f-b037-c23950982591-c000.snappy.parquet:\n"
     ]
    },
    {
     "name": "stderr",
     "output_type": "stream",
     "text": [
      "                                                                                \r"
     ]
    },
    {
     "name": "stdout",
     "output_type": "stream",
     "text": [
      "Saved gs://my-bigdata-project-cm/aggregated/part-00003-3d27005b-019f-4e9f-b037-c23950982591-c000.snappy.parquet\n",
      "Processing cleaned/yellow_tripdata_2012-12.parquet/part-00004-3d27005b-019f-4e9f-b037-c23950982591-c000.snappy.parquet:\n"
     ]
    },
    {
     "name": "stderr",
     "output_type": "stream",
     "text": [
      "                                                                                \r"
     ]
    },
    {
     "name": "stdout",
     "output_type": "stream",
     "text": [
      "Saved gs://my-bigdata-project-cm/aggregated/part-00004-3d27005b-019f-4e9f-b037-c23950982591-c000.snappy.parquet\n",
      "Processing cleaned/yellow_tripdata_2012-12.parquet/part-00005-3d27005b-019f-4e9f-b037-c23950982591-c000.snappy.parquet:\n"
     ]
    },
    {
     "name": "stderr",
     "output_type": "stream",
     "text": [
      "                                                                                \r"
     ]
    },
    {
     "name": "stdout",
     "output_type": "stream",
     "text": [
      "Saved gs://my-bigdata-project-cm/aggregated/part-00005-3d27005b-019f-4e9f-b037-c23950982591-c000.snappy.parquet\n",
      "Processing cleaned/yellow_tripdata_2012-12.parquet/part-00006-3d27005b-019f-4e9f-b037-c23950982591-c000.snappy.parquet:\n"
     ]
    },
    {
     "name": "stderr",
     "output_type": "stream",
     "text": [
      "                                                                                \r"
     ]
    },
    {
     "name": "stdout",
     "output_type": "stream",
     "text": [
      "Saved gs://my-bigdata-project-cm/aggregated/part-00006-3d27005b-019f-4e9f-b037-c23950982591-c000.snappy.parquet\n",
      "Processing cleaned/yellow_tripdata_2012-12.parquet/part-00007-3d27005b-019f-4e9f-b037-c23950982591-c000.snappy.parquet:\n"
     ]
    },
    {
     "name": "stderr",
     "output_type": "stream",
     "text": [
      "                                                                                \r"
     ]
    },
    {
     "name": "stdout",
     "output_type": "stream",
     "text": [
      "Saved gs://my-bigdata-project-cm/aggregated/part-00007-3d27005b-019f-4e9f-b037-c23950982591-c000.snappy.parquet\n",
      "Processing cleaned/yellow_tripdata_2012-12.parquet/part-00008-3d27005b-019f-4e9f-b037-c23950982591-c000.snappy.parquet:\n"
     ]
    },
    {
     "name": "stderr",
     "output_type": "stream",
     "text": [
      "                                                                                \r"
     ]
    },
    {
     "name": "stdout",
     "output_type": "stream",
     "text": [
      "Saved gs://my-bigdata-project-cm/aggregated/part-00008-3d27005b-019f-4e9f-b037-c23950982591-c000.snappy.parquet\n",
      "Processing cleaned/yellow_tripdata_2012-12.parquet/part-00009-3d27005b-019f-4e9f-b037-c23950982591-c000.snappy.parquet:\n"
     ]
    },
    {
     "name": "stderr",
     "output_type": "stream",
     "text": [
      "                                                                                \r"
     ]
    },
    {
     "name": "stdout",
     "output_type": "stream",
     "text": [
      "Saved gs://my-bigdata-project-cm/aggregated/part-00009-3d27005b-019f-4e9f-b037-c23950982591-c000.snappy.parquet\n",
      "Processing cleaned/yellow_tripdata_2012-12.parquet/part-00010-3d27005b-019f-4e9f-b037-c23950982591-c000.snappy.parquet:\n"
     ]
    },
    {
     "name": "stderr",
     "output_type": "stream",
     "text": [
      "                                                                                \r"
     ]
    },
    {
     "name": "stdout",
     "output_type": "stream",
     "text": [
      "Saved gs://my-bigdata-project-cm/aggregated/part-00010-3d27005b-019f-4e9f-b037-c23950982591-c000.snappy.parquet\n",
      "Processing cleaned/yellow_tripdata_2012-12.parquet/part-00011-3d27005b-019f-4e9f-b037-c23950982591-c000.snappy.parquet:\n"
     ]
    },
    {
     "name": "stderr",
     "output_type": "stream",
     "text": [
      "                                                                                \r"
     ]
    },
    {
     "name": "stdout",
     "output_type": "stream",
     "text": [
      "Saved gs://my-bigdata-project-cm/aggregated/part-00011-3d27005b-019f-4e9f-b037-c23950982591-c000.snappy.parquet\n",
      "Skipping file cleaned/yellow_tripdata_2013-01.parquet/\n",
      "Skipping file cleaned/yellow_tripdata_2013-01.parquet/_SUCCESS\n",
      "Processing cleaned/yellow_tripdata_2013-01.parquet/part-00000-e01fef4b-54cf-4ddd-be9e-97457502d3ec-c000.snappy.parquet:\n"
     ]
    },
    {
     "name": "stderr",
     "output_type": "stream",
     "text": [
      "                                                                                \r"
     ]
    },
    {
     "name": "stdout",
     "output_type": "stream",
     "text": [
      "Saved gs://my-bigdata-project-cm/aggregated/part-00000-e01fef4b-54cf-4ddd-be9e-97457502d3ec-c000.snappy.parquet\n",
      "Processing cleaned/yellow_tripdata_2013-01.parquet/part-00001-e01fef4b-54cf-4ddd-be9e-97457502d3ec-c000.snappy.parquet:\n"
     ]
    },
    {
     "name": "stderr",
     "output_type": "stream",
     "text": [
      "                                                                                \r"
     ]
    },
    {
     "name": "stdout",
     "output_type": "stream",
     "text": [
      "Saved gs://my-bigdata-project-cm/aggregated/part-00001-e01fef4b-54cf-4ddd-be9e-97457502d3ec-c000.snappy.parquet\n",
      "Processing cleaned/yellow_tripdata_2013-01.parquet/part-00002-e01fef4b-54cf-4ddd-be9e-97457502d3ec-c000.snappy.parquet:\n"
     ]
    },
    {
     "name": "stderr",
     "output_type": "stream",
     "text": [
      "                                                                                \r"
     ]
    },
    {
     "name": "stdout",
     "output_type": "stream",
     "text": [
      "Saved gs://my-bigdata-project-cm/aggregated/part-00002-e01fef4b-54cf-4ddd-be9e-97457502d3ec-c000.snappy.parquet\n",
      "Processing cleaned/yellow_tripdata_2013-01.parquet/part-00003-e01fef4b-54cf-4ddd-be9e-97457502d3ec-c000.snappy.parquet:\n"
     ]
    },
    {
     "name": "stderr",
     "output_type": "stream",
     "text": [
      "                                                                                \r"
     ]
    },
    {
     "name": "stdout",
     "output_type": "stream",
     "text": [
      "Saved gs://my-bigdata-project-cm/aggregated/part-00003-e01fef4b-54cf-4ddd-be9e-97457502d3ec-c000.snappy.parquet\n",
      "Processing cleaned/yellow_tripdata_2013-01.parquet/part-00004-e01fef4b-54cf-4ddd-be9e-97457502d3ec-c000.snappy.parquet:\n"
     ]
    },
    {
     "name": "stderr",
     "output_type": "stream",
     "text": [
      "                                                                                \r"
     ]
    },
    {
     "name": "stdout",
     "output_type": "stream",
     "text": [
      "Saved gs://my-bigdata-project-cm/aggregated/part-00004-e01fef4b-54cf-4ddd-be9e-97457502d3ec-c000.snappy.parquet\n",
      "Processing cleaned/yellow_tripdata_2013-01.parquet/part-00005-e01fef4b-54cf-4ddd-be9e-97457502d3ec-c000.snappy.parquet:\n"
     ]
    },
    {
     "name": "stderr",
     "output_type": "stream",
     "text": [
      "                                                                                \r"
     ]
    },
    {
     "name": "stdout",
     "output_type": "stream",
     "text": [
      "Saved gs://my-bigdata-project-cm/aggregated/part-00005-e01fef4b-54cf-4ddd-be9e-97457502d3ec-c000.snappy.parquet\n",
      "Processing cleaned/yellow_tripdata_2013-01.parquet/part-00006-e01fef4b-54cf-4ddd-be9e-97457502d3ec-c000.snappy.parquet:\n"
     ]
    },
    {
     "name": "stderr",
     "output_type": "stream",
     "text": [
      "                                                                                \r"
     ]
    },
    {
     "name": "stdout",
     "output_type": "stream",
     "text": [
      "Saved gs://my-bigdata-project-cm/aggregated/part-00006-e01fef4b-54cf-4ddd-be9e-97457502d3ec-c000.snappy.parquet\n",
      "Processing cleaned/yellow_tripdata_2013-01.parquet/part-00007-e01fef4b-54cf-4ddd-be9e-97457502d3ec-c000.snappy.parquet:\n"
     ]
    },
    {
     "name": "stderr",
     "output_type": "stream",
     "text": [
      "                                                                                \r"
     ]
    },
    {
     "name": "stdout",
     "output_type": "stream",
     "text": [
      "Saved gs://my-bigdata-project-cm/aggregated/part-00007-e01fef4b-54cf-4ddd-be9e-97457502d3ec-c000.snappy.parquet\n",
      "Processing cleaned/yellow_tripdata_2013-01.parquet/part-00008-e01fef4b-54cf-4ddd-be9e-97457502d3ec-c000.snappy.parquet:\n"
     ]
    },
    {
     "name": "stderr",
     "output_type": "stream",
     "text": [
      "                                                                                \r"
     ]
    },
    {
     "name": "stdout",
     "output_type": "stream",
     "text": [
      "Saved gs://my-bigdata-project-cm/aggregated/part-00008-e01fef4b-54cf-4ddd-be9e-97457502d3ec-c000.snappy.parquet\n",
      "Processing cleaned/yellow_tripdata_2013-01.parquet/part-00009-e01fef4b-54cf-4ddd-be9e-97457502d3ec-c000.snappy.parquet:\n"
     ]
    },
    {
     "name": "stderr",
     "output_type": "stream",
     "text": [
      "                                                                                \r"
     ]
    },
    {
     "name": "stdout",
     "output_type": "stream",
     "text": [
      "Saved gs://my-bigdata-project-cm/aggregated/part-00009-e01fef4b-54cf-4ddd-be9e-97457502d3ec-c000.snappy.parquet\n",
      "Processing cleaned/yellow_tripdata_2013-01.parquet/part-00010-e01fef4b-54cf-4ddd-be9e-97457502d3ec-c000.snappy.parquet:\n"
     ]
    },
    {
     "name": "stderr",
     "output_type": "stream",
     "text": [
      "                                                                                \r"
     ]
    },
    {
     "name": "stdout",
     "output_type": "stream",
     "text": [
      "Saved gs://my-bigdata-project-cm/aggregated/part-00010-e01fef4b-54cf-4ddd-be9e-97457502d3ec-c000.snappy.parquet\n",
      "Processing cleaned/yellow_tripdata_2013-01.parquet/part-00011-e01fef4b-54cf-4ddd-be9e-97457502d3ec-c000.snappy.parquet:\n"
     ]
    },
    {
     "name": "stderr",
     "output_type": "stream",
     "text": [
      "                                                                                \r"
     ]
    },
    {
     "name": "stdout",
     "output_type": "stream",
     "text": [
      "Saved gs://my-bigdata-project-cm/aggregated/part-00011-e01fef4b-54cf-4ddd-be9e-97457502d3ec-c000.snappy.parquet\n",
      "Skipping file cleaned/yellow_tripdata_2013-02.parquet/\n",
      "Skipping file cleaned/yellow_tripdata_2013-02.parquet/_SUCCESS\n",
      "Processing cleaned/yellow_tripdata_2013-02.parquet/part-00000-1bd3fa96-898c-41b3-b687-c5309a25fc08-c000.snappy.parquet:\n"
     ]
    },
    {
     "name": "stderr",
     "output_type": "stream",
     "text": [
      "                                                                                \r"
     ]
    },
    {
     "name": "stdout",
     "output_type": "stream",
     "text": [
      "Saved gs://my-bigdata-project-cm/aggregated/part-00000-1bd3fa96-898c-41b3-b687-c5309a25fc08-c000.snappy.parquet\n",
      "Processing cleaned/yellow_tripdata_2013-02.parquet/part-00001-1bd3fa96-898c-41b3-b687-c5309a25fc08-c000.snappy.parquet:\n"
     ]
    },
    {
     "name": "stderr",
     "output_type": "stream",
     "text": [
      "                                                                                \r"
     ]
    },
    {
     "name": "stdout",
     "output_type": "stream",
     "text": [
      "Saved gs://my-bigdata-project-cm/aggregated/part-00001-1bd3fa96-898c-41b3-b687-c5309a25fc08-c000.snappy.parquet\n",
      "Processing cleaned/yellow_tripdata_2013-02.parquet/part-00002-1bd3fa96-898c-41b3-b687-c5309a25fc08-c000.snappy.parquet:\n"
     ]
    },
    {
     "name": "stderr",
     "output_type": "stream",
     "text": [
      "                                                                                \r"
     ]
    },
    {
     "name": "stdout",
     "output_type": "stream",
     "text": [
      "Saved gs://my-bigdata-project-cm/aggregated/part-00002-1bd3fa96-898c-41b3-b687-c5309a25fc08-c000.snappy.parquet\n",
      "Processing cleaned/yellow_tripdata_2013-02.parquet/part-00003-1bd3fa96-898c-41b3-b687-c5309a25fc08-c000.snappy.parquet:\n"
     ]
    },
    {
     "name": "stderr",
     "output_type": "stream",
     "text": [
      "                                                                                \r"
     ]
    },
    {
     "name": "stdout",
     "output_type": "stream",
     "text": [
      "Saved gs://my-bigdata-project-cm/aggregated/part-00003-1bd3fa96-898c-41b3-b687-c5309a25fc08-c000.snappy.parquet\n",
      "Processing cleaned/yellow_tripdata_2013-02.parquet/part-00004-1bd3fa96-898c-41b3-b687-c5309a25fc08-c000.snappy.parquet:\n"
     ]
    },
    {
     "name": "stderr",
     "output_type": "stream",
     "text": [
      "                                                                                \r"
     ]
    },
    {
     "name": "stdout",
     "output_type": "stream",
     "text": [
      "Saved gs://my-bigdata-project-cm/aggregated/part-00004-1bd3fa96-898c-41b3-b687-c5309a25fc08-c000.snappy.parquet\n",
      "Processing cleaned/yellow_tripdata_2013-02.parquet/part-00005-1bd3fa96-898c-41b3-b687-c5309a25fc08-c000.snappy.parquet:\n"
     ]
    },
    {
     "name": "stderr",
     "output_type": "stream",
     "text": [
      "                                                                                \r"
     ]
    },
    {
     "name": "stdout",
     "output_type": "stream",
     "text": [
      "Saved gs://my-bigdata-project-cm/aggregated/part-00005-1bd3fa96-898c-41b3-b687-c5309a25fc08-c000.snappy.parquet\n",
      "Processing cleaned/yellow_tripdata_2013-02.parquet/part-00006-1bd3fa96-898c-41b3-b687-c5309a25fc08-c000.snappy.parquet:\n"
     ]
    },
    {
     "name": "stderr",
     "output_type": "stream",
     "text": [
      "                                                                                \r"
     ]
    },
    {
     "name": "stdout",
     "output_type": "stream",
     "text": [
      "Saved gs://my-bigdata-project-cm/aggregated/part-00006-1bd3fa96-898c-41b3-b687-c5309a25fc08-c000.snappy.parquet\n",
      "Processing cleaned/yellow_tripdata_2013-02.parquet/part-00007-1bd3fa96-898c-41b3-b687-c5309a25fc08-c000.snappy.parquet:\n"
     ]
    },
    {
     "name": "stderr",
     "output_type": "stream",
     "text": [
      "                                                                                \r"
     ]
    },
    {
     "name": "stdout",
     "output_type": "stream",
     "text": [
      "Saved gs://my-bigdata-project-cm/aggregated/part-00007-1bd3fa96-898c-41b3-b687-c5309a25fc08-c000.snappy.parquet\n",
      "Processing cleaned/yellow_tripdata_2013-02.parquet/part-00008-1bd3fa96-898c-41b3-b687-c5309a25fc08-c000.snappy.parquet:\n"
     ]
    },
    {
     "name": "stderr",
     "output_type": "stream",
     "text": [
      "                                                                                \r"
     ]
    },
    {
     "name": "stdout",
     "output_type": "stream",
     "text": [
      "Saved gs://my-bigdata-project-cm/aggregated/part-00008-1bd3fa96-898c-41b3-b687-c5309a25fc08-c000.snappy.parquet\n",
      "Processing cleaned/yellow_tripdata_2013-02.parquet/part-00009-1bd3fa96-898c-41b3-b687-c5309a25fc08-c000.snappy.parquet:\n"
     ]
    },
    {
     "name": "stderr",
     "output_type": "stream",
     "text": [
      "                                                                                \r"
     ]
    },
    {
     "name": "stdout",
     "output_type": "stream",
     "text": [
      "Saved gs://my-bigdata-project-cm/aggregated/part-00009-1bd3fa96-898c-41b3-b687-c5309a25fc08-c000.snappy.parquet\n",
      "Processing cleaned/yellow_tripdata_2013-02.parquet/part-00010-1bd3fa96-898c-41b3-b687-c5309a25fc08-c000.snappy.parquet:\n"
     ]
    },
    {
     "name": "stderr",
     "output_type": "stream",
     "text": [
      "                                                                                \r"
     ]
    },
    {
     "name": "stdout",
     "output_type": "stream",
     "text": [
      "Saved gs://my-bigdata-project-cm/aggregated/part-00010-1bd3fa96-898c-41b3-b687-c5309a25fc08-c000.snappy.parquet\n",
      "Processing cleaned/yellow_tripdata_2013-02.parquet/part-00011-1bd3fa96-898c-41b3-b687-c5309a25fc08-c000.snappy.parquet:\n"
     ]
    },
    {
     "name": "stderr",
     "output_type": "stream",
     "text": [
      "                                                                                \r"
     ]
    },
    {
     "name": "stdout",
     "output_type": "stream",
     "text": [
      "Saved gs://my-bigdata-project-cm/aggregated/part-00011-1bd3fa96-898c-41b3-b687-c5309a25fc08-c000.snappy.parquet\n",
      "Processing cleaned/yellow_tripdata_2013-02.parquet/part-00012-1bd3fa96-898c-41b3-b687-c5309a25fc08-c000.snappy.parquet:\n"
     ]
    },
    {
     "name": "stderr",
     "output_type": "stream",
     "text": [
      "                                                                                \r"
     ]
    },
    {
     "name": "stdout",
     "output_type": "stream",
     "text": [
      "Saved gs://my-bigdata-project-cm/aggregated/part-00012-1bd3fa96-898c-41b3-b687-c5309a25fc08-c000.snappy.parquet\n",
      "Skipping file cleaned/yellow_tripdata_2013-03.parquet/\n",
      "Skipping file cleaned/yellow_tripdata_2013-03.parquet/_SUCCESS\n",
      "Processing cleaned/yellow_tripdata_2013-03.parquet/part-00000-c9a242a3-a5f3-4119-a756-534b79572d19-c000.snappy.parquet:\n"
     ]
    },
    {
     "name": "stderr",
     "output_type": "stream",
     "text": [
      "                                                                                \r"
     ]
    },
    {
     "name": "stdout",
     "output_type": "stream",
     "text": [
      "Saved gs://my-bigdata-project-cm/aggregated/part-00000-c9a242a3-a5f3-4119-a756-534b79572d19-c000.snappy.parquet\n",
      "Processing cleaned/yellow_tripdata_2013-03.parquet/part-00001-c9a242a3-a5f3-4119-a756-534b79572d19-c000.snappy.parquet:\n"
     ]
    },
    {
     "name": "stderr",
     "output_type": "stream",
     "text": [
      "                                                                                \r"
     ]
    },
    {
     "name": "stdout",
     "output_type": "stream",
     "text": [
      "Saved gs://my-bigdata-project-cm/aggregated/part-00001-c9a242a3-a5f3-4119-a756-534b79572d19-c000.snappy.parquet\n",
      "Processing cleaned/yellow_tripdata_2013-03.parquet/part-00002-c9a242a3-a5f3-4119-a756-534b79572d19-c000.snappy.parquet:\n"
     ]
    },
    {
     "name": "stderr",
     "output_type": "stream",
     "text": [
      "                                                                                \r"
     ]
    },
    {
     "name": "stdout",
     "output_type": "stream",
     "text": [
      "Saved gs://my-bigdata-project-cm/aggregated/part-00002-c9a242a3-a5f3-4119-a756-534b79572d19-c000.snappy.parquet\n",
      "Processing cleaned/yellow_tripdata_2013-03.parquet/part-00003-c9a242a3-a5f3-4119-a756-534b79572d19-c000.snappy.parquet:\n"
     ]
    },
    {
     "name": "stderr",
     "output_type": "stream",
     "text": [
      "                                                                                \r"
     ]
    },
    {
     "name": "stdout",
     "output_type": "stream",
     "text": [
      "Saved gs://my-bigdata-project-cm/aggregated/part-00003-c9a242a3-a5f3-4119-a756-534b79572d19-c000.snappy.parquet\n",
      "Processing cleaned/yellow_tripdata_2013-03.parquet/part-00004-c9a242a3-a5f3-4119-a756-534b79572d19-c000.snappy.parquet:\n"
     ]
    },
    {
     "name": "stderr",
     "output_type": "stream",
     "text": [
      "                                                                                \r"
     ]
    },
    {
     "name": "stdout",
     "output_type": "stream",
     "text": [
      "Saved gs://my-bigdata-project-cm/aggregated/part-00004-c9a242a3-a5f3-4119-a756-534b79572d19-c000.snappy.parquet\n",
      "Processing cleaned/yellow_tripdata_2013-03.parquet/part-00005-c9a242a3-a5f3-4119-a756-534b79572d19-c000.snappy.parquet:\n"
     ]
    },
    {
     "name": "stderr",
     "output_type": "stream",
     "text": [
      "                                                                                \r"
     ]
    },
    {
     "name": "stdout",
     "output_type": "stream",
     "text": [
      "Saved gs://my-bigdata-project-cm/aggregated/part-00005-c9a242a3-a5f3-4119-a756-534b79572d19-c000.snappy.parquet\n",
      "Processing cleaned/yellow_tripdata_2013-03.parquet/part-00006-c9a242a3-a5f3-4119-a756-534b79572d19-c000.snappy.parquet:\n"
     ]
    },
    {
     "name": "stderr",
     "output_type": "stream",
     "text": [
      "                                                                                \r"
     ]
    },
    {
     "name": "stdout",
     "output_type": "stream",
     "text": [
      "Saved gs://my-bigdata-project-cm/aggregated/part-00006-c9a242a3-a5f3-4119-a756-534b79572d19-c000.snappy.parquet\n",
      "Processing cleaned/yellow_tripdata_2013-03.parquet/part-00007-c9a242a3-a5f3-4119-a756-534b79572d19-c000.snappy.parquet:\n"
     ]
    },
    {
     "name": "stderr",
     "output_type": "stream",
     "text": [
      "                                                                                \r"
     ]
    },
    {
     "name": "stdout",
     "output_type": "stream",
     "text": [
      "Saved gs://my-bigdata-project-cm/aggregated/part-00007-c9a242a3-a5f3-4119-a756-534b79572d19-c000.snappy.parquet\n",
      "Processing cleaned/yellow_tripdata_2013-03.parquet/part-00008-c9a242a3-a5f3-4119-a756-534b79572d19-c000.snappy.parquet:\n"
     ]
    },
    {
     "name": "stderr",
     "output_type": "stream",
     "text": [
      "                                                                                \r"
     ]
    },
    {
     "name": "stdout",
     "output_type": "stream",
     "text": [
      "Saved gs://my-bigdata-project-cm/aggregated/part-00008-c9a242a3-a5f3-4119-a756-534b79572d19-c000.snappy.parquet\n",
      "Processing cleaned/yellow_tripdata_2013-03.parquet/part-00009-c9a242a3-a5f3-4119-a756-534b79572d19-c000.snappy.parquet:\n"
     ]
    },
    {
     "name": "stderr",
     "output_type": "stream",
     "text": [
      "                                                                                \r"
     ]
    },
    {
     "name": "stdout",
     "output_type": "stream",
     "text": [
      "Saved gs://my-bigdata-project-cm/aggregated/part-00009-c9a242a3-a5f3-4119-a756-534b79572d19-c000.snappy.parquet\n",
      "Processing cleaned/yellow_tripdata_2013-03.parquet/part-00010-c9a242a3-a5f3-4119-a756-534b79572d19-c000.snappy.parquet:\n"
     ]
    },
    {
     "name": "stderr",
     "output_type": "stream",
     "text": [
      "                                                                                \r"
     ]
    },
    {
     "name": "stdout",
     "output_type": "stream",
     "text": [
      "Saved gs://my-bigdata-project-cm/aggregated/part-00010-c9a242a3-a5f3-4119-a756-534b79572d19-c000.snappy.parquet\n",
      "Processing cleaned/yellow_tripdata_2013-03.parquet/part-00011-c9a242a3-a5f3-4119-a756-534b79572d19-c000.snappy.parquet:\n"
     ]
    },
    {
     "name": "stderr",
     "output_type": "stream",
     "text": [
      "                                                                                \r"
     ]
    },
    {
     "name": "stdout",
     "output_type": "stream",
     "text": [
      "Saved gs://my-bigdata-project-cm/aggregated/part-00011-c9a242a3-a5f3-4119-a756-534b79572d19-c000.snappy.parquet\n",
      "Processing cleaned/yellow_tripdata_2013-03.parquet/part-00012-c9a242a3-a5f3-4119-a756-534b79572d19-c000.snappy.parquet:\n"
     ]
    },
    {
     "name": "stderr",
     "output_type": "stream",
     "text": [
      "                                                                                \r"
     ]
    },
    {
     "name": "stdout",
     "output_type": "stream",
     "text": [
      "Saved gs://my-bigdata-project-cm/aggregated/part-00012-c9a242a3-a5f3-4119-a756-534b79572d19-c000.snappy.parquet\n",
      "Skipping file cleaned/yellow_tripdata_2013-04.parquet/\n",
      "Skipping file cleaned/yellow_tripdata_2013-04.parquet/_SUCCESS\n",
      "Processing cleaned/yellow_tripdata_2013-04.parquet/part-00000-f4dadc5a-926f-431a-b658-218f2fb9c911-c000.snappy.parquet:\n"
     ]
    },
    {
     "name": "stderr",
     "output_type": "stream",
     "text": [
      "                                                                                \r"
     ]
    },
    {
     "name": "stdout",
     "output_type": "stream",
     "text": [
      "Saved gs://my-bigdata-project-cm/aggregated/part-00000-f4dadc5a-926f-431a-b658-218f2fb9c911-c000.snappy.parquet\n",
      "Processing cleaned/yellow_tripdata_2013-04.parquet/part-00001-f4dadc5a-926f-431a-b658-218f2fb9c911-c000.snappy.parquet:\n"
     ]
    },
    {
     "name": "stderr",
     "output_type": "stream",
     "text": [
      "                                                                                \r"
     ]
    },
    {
     "name": "stdout",
     "output_type": "stream",
     "text": [
      "Saved gs://my-bigdata-project-cm/aggregated/part-00001-f4dadc5a-926f-431a-b658-218f2fb9c911-c000.snappy.parquet\n",
      "Processing cleaned/yellow_tripdata_2013-04.parquet/part-00002-f4dadc5a-926f-431a-b658-218f2fb9c911-c000.snappy.parquet:\n"
     ]
    },
    {
     "name": "stderr",
     "output_type": "stream",
     "text": [
      "                                                                                \r"
     ]
    },
    {
     "name": "stdout",
     "output_type": "stream",
     "text": [
      "Saved gs://my-bigdata-project-cm/aggregated/part-00002-f4dadc5a-926f-431a-b658-218f2fb9c911-c000.snappy.parquet\n",
      "Processing cleaned/yellow_tripdata_2013-04.parquet/part-00003-f4dadc5a-926f-431a-b658-218f2fb9c911-c000.snappy.parquet:\n"
     ]
    },
    {
     "name": "stderr",
     "output_type": "stream",
     "text": [
      "                                                                                \r"
     ]
    },
    {
     "name": "stdout",
     "output_type": "stream",
     "text": [
      "Saved gs://my-bigdata-project-cm/aggregated/part-00003-f4dadc5a-926f-431a-b658-218f2fb9c911-c000.snappy.parquet\n",
      "Processing cleaned/yellow_tripdata_2013-04.parquet/part-00004-f4dadc5a-926f-431a-b658-218f2fb9c911-c000.snappy.parquet:\n"
     ]
    },
    {
     "name": "stderr",
     "output_type": "stream",
     "text": [
      "                                                                                \r"
     ]
    },
    {
     "name": "stdout",
     "output_type": "stream",
     "text": [
      "Saved gs://my-bigdata-project-cm/aggregated/part-00004-f4dadc5a-926f-431a-b658-218f2fb9c911-c000.snappy.parquet\n",
      "Processing cleaned/yellow_tripdata_2013-04.parquet/part-00005-f4dadc5a-926f-431a-b658-218f2fb9c911-c000.snappy.parquet:\n"
     ]
    },
    {
     "name": "stderr",
     "output_type": "stream",
     "text": [
      "                                                                                \r"
     ]
    },
    {
     "name": "stdout",
     "output_type": "stream",
     "text": [
      "Saved gs://my-bigdata-project-cm/aggregated/part-00005-f4dadc5a-926f-431a-b658-218f2fb9c911-c000.snappy.parquet\n",
      "Processing cleaned/yellow_tripdata_2013-04.parquet/part-00006-f4dadc5a-926f-431a-b658-218f2fb9c911-c000.snappy.parquet:\n"
     ]
    },
    {
     "name": "stderr",
     "output_type": "stream",
     "text": [
      "                                                                                \r"
     ]
    },
    {
     "name": "stdout",
     "output_type": "stream",
     "text": [
      "Saved gs://my-bigdata-project-cm/aggregated/part-00006-f4dadc5a-926f-431a-b658-218f2fb9c911-c000.snappy.parquet\n",
      "Processing cleaned/yellow_tripdata_2013-04.parquet/part-00007-f4dadc5a-926f-431a-b658-218f2fb9c911-c000.snappy.parquet:\n"
     ]
    },
    {
     "name": "stderr",
     "output_type": "stream",
     "text": [
      "                                                                                \r"
     ]
    },
    {
     "name": "stdout",
     "output_type": "stream",
     "text": [
      "Saved gs://my-bigdata-project-cm/aggregated/part-00007-f4dadc5a-926f-431a-b658-218f2fb9c911-c000.snappy.parquet\n",
      "Processing cleaned/yellow_tripdata_2013-04.parquet/part-00008-f4dadc5a-926f-431a-b658-218f2fb9c911-c000.snappy.parquet:\n"
     ]
    },
    {
     "name": "stderr",
     "output_type": "stream",
     "text": [
      "                                                                                \r"
     ]
    },
    {
     "name": "stdout",
     "output_type": "stream",
     "text": [
      "Saved gs://my-bigdata-project-cm/aggregated/part-00008-f4dadc5a-926f-431a-b658-218f2fb9c911-c000.snappy.parquet\n",
      "Processing cleaned/yellow_tripdata_2013-04.parquet/part-00009-f4dadc5a-926f-431a-b658-218f2fb9c911-c000.snappy.parquet:\n"
     ]
    },
    {
     "name": "stderr",
     "output_type": "stream",
     "text": [
      "                                                                                \r"
     ]
    },
    {
     "name": "stdout",
     "output_type": "stream",
     "text": [
      "Saved gs://my-bigdata-project-cm/aggregated/part-00009-f4dadc5a-926f-431a-b658-218f2fb9c911-c000.snappy.parquet\n",
      "Processing cleaned/yellow_tripdata_2013-04.parquet/part-00010-f4dadc5a-926f-431a-b658-218f2fb9c911-c000.snappy.parquet:\n"
     ]
    },
    {
     "name": "stderr",
     "output_type": "stream",
     "text": [
      "                                                                                \r"
     ]
    },
    {
     "name": "stdout",
     "output_type": "stream",
     "text": [
      "Saved gs://my-bigdata-project-cm/aggregated/part-00010-f4dadc5a-926f-431a-b658-218f2fb9c911-c000.snappy.parquet\n",
      "Processing cleaned/yellow_tripdata_2013-04.parquet/part-00011-f4dadc5a-926f-431a-b658-218f2fb9c911-c000.snappy.parquet:\n"
     ]
    },
    {
     "name": "stderr",
     "output_type": "stream",
     "text": [
      "                                                                                \r"
     ]
    },
    {
     "name": "stdout",
     "output_type": "stream",
     "text": [
      "Saved gs://my-bigdata-project-cm/aggregated/part-00011-f4dadc5a-926f-431a-b658-218f2fb9c911-c000.snappy.parquet\n",
      "Skipping file cleaned/yellow_tripdata_2013-05.parquet/\n",
      "Skipping file cleaned/yellow_tripdata_2013-05.parquet/_SUCCESS\n",
      "Processing cleaned/yellow_tripdata_2013-05.parquet/part-00000-ae652b74-04cf-44dd-a3ac-8ffa9b231219-c000.snappy.parquet:\n"
     ]
    },
    {
     "name": "stderr",
     "output_type": "stream",
     "text": [
      "                                                                                \r"
     ]
    },
    {
     "name": "stdout",
     "output_type": "stream",
     "text": [
      "Saved gs://my-bigdata-project-cm/aggregated/part-00000-ae652b74-04cf-44dd-a3ac-8ffa9b231219-c000.snappy.parquet\n",
      "Processing cleaned/yellow_tripdata_2013-05.parquet/part-00001-ae652b74-04cf-44dd-a3ac-8ffa9b231219-c000.snappy.parquet:\n"
     ]
    },
    {
     "name": "stderr",
     "output_type": "stream",
     "text": [
      "                                                                                \r"
     ]
    },
    {
     "name": "stdout",
     "output_type": "stream",
     "text": [
      "Saved gs://my-bigdata-project-cm/aggregated/part-00001-ae652b74-04cf-44dd-a3ac-8ffa9b231219-c000.snappy.parquet\n",
      "Processing cleaned/yellow_tripdata_2013-05.parquet/part-00002-ae652b74-04cf-44dd-a3ac-8ffa9b231219-c000.snappy.parquet:\n"
     ]
    },
    {
     "name": "stderr",
     "output_type": "stream",
     "text": [
      "                                                                                \r"
     ]
    },
    {
     "name": "stdout",
     "output_type": "stream",
     "text": [
      "Saved gs://my-bigdata-project-cm/aggregated/part-00002-ae652b74-04cf-44dd-a3ac-8ffa9b231219-c000.snappy.parquet\n",
      "Processing cleaned/yellow_tripdata_2013-05.parquet/part-00003-ae652b74-04cf-44dd-a3ac-8ffa9b231219-c000.snappy.parquet:\n"
     ]
    },
    {
     "name": "stderr",
     "output_type": "stream",
     "text": [
      "                                                                                \r"
     ]
    },
    {
     "name": "stdout",
     "output_type": "stream",
     "text": [
      "Saved gs://my-bigdata-project-cm/aggregated/part-00003-ae652b74-04cf-44dd-a3ac-8ffa9b231219-c000.snappy.parquet\n",
      "Processing cleaned/yellow_tripdata_2013-05.parquet/part-00004-ae652b74-04cf-44dd-a3ac-8ffa9b231219-c000.snappy.parquet:\n"
     ]
    },
    {
     "name": "stderr",
     "output_type": "stream",
     "text": [
      "                                                                                \r"
     ]
    },
    {
     "name": "stdout",
     "output_type": "stream",
     "text": [
      "Saved gs://my-bigdata-project-cm/aggregated/part-00004-ae652b74-04cf-44dd-a3ac-8ffa9b231219-c000.snappy.parquet\n",
      "Processing cleaned/yellow_tripdata_2013-05.parquet/part-00005-ae652b74-04cf-44dd-a3ac-8ffa9b231219-c000.snappy.parquet:\n"
     ]
    },
    {
     "name": "stderr",
     "output_type": "stream",
     "text": [
      "                                                                                \r"
     ]
    },
    {
     "name": "stdout",
     "output_type": "stream",
     "text": [
      "Saved gs://my-bigdata-project-cm/aggregated/part-00005-ae652b74-04cf-44dd-a3ac-8ffa9b231219-c000.snappy.parquet\n",
      "Processing cleaned/yellow_tripdata_2013-05.parquet/part-00006-ae652b74-04cf-44dd-a3ac-8ffa9b231219-c000.snappy.parquet:\n"
     ]
    },
    {
     "name": "stderr",
     "output_type": "stream",
     "text": [
      "                                                                                \r"
     ]
    },
    {
     "name": "stdout",
     "output_type": "stream",
     "text": [
      "Saved gs://my-bigdata-project-cm/aggregated/part-00006-ae652b74-04cf-44dd-a3ac-8ffa9b231219-c000.snappy.parquet\n",
      "Processing cleaned/yellow_tripdata_2013-05.parquet/part-00007-ae652b74-04cf-44dd-a3ac-8ffa9b231219-c000.snappy.parquet:\n"
     ]
    },
    {
     "name": "stderr",
     "output_type": "stream",
     "text": [
      "                                                                                \r"
     ]
    },
    {
     "name": "stdout",
     "output_type": "stream",
     "text": [
      "Saved gs://my-bigdata-project-cm/aggregated/part-00007-ae652b74-04cf-44dd-a3ac-8ffa9b231219-c000.snappy.parquet\n",
      "Processing cleaned/yellow_tripdata_2013-05.parquet/part-00008-ae652b74-04cf-44dd-a3ac-8ffa9b231219-c000.snappy.parquet:\n"
     ]
    },
    {
     "name": "stderr",
     "output_type": "stream",
     "text": [
      "                                                                                \r"
     ]
    },
    {
     "name": "stdout",
     "output_type": "stream",
     "text": [
      "Saved gs://my-bigdata-project-cm/aggregated/part-00008-ae652b74-04cf-44dd-a3ac-8ffa9b231219-c000.snappy.parquet\n",
      "Processing cleaned/yellow_tripdata_2013-05.parquet/part-00009-ae652b74-04cf-44dd-a3ac-8ffa9b231219-c000.snappy.parquet:\n"
     ]
    },
    {
     "name": "stderr",
     "output_type": "stream",
     "text": [
      "                                                                                \r"
     ]
    },
    {
     "name": "stdout",
     "output_type": "stream",
     "text": [
      "Saved gs://my-bigdata-project-cm/aggregated/part-00009-ae652b74-04cf-44dd-a3ac-8ffa9b231219-c000.snappy.parquet\n",
      "Processing cleaned/yellow_tripdata_2013-05.parquet/part-00010-ae652b74-04cf-44dd-a3ac-8ffa9b231219-c000.snappy.parquet:\n"
     ]
    },
    {
     "name": "stderr",
     "output_type": "stream",
     "text": [
      "                                                                                \r"
     ]
    },
    {
     "name": "stdout",
     "output_type": "stream",
     "text": [
      "Saved gs://my-bigdata-project-cm/aggregated/part-00010-ae652b74-04cf-44dd-a3ac-8ffa9b231219-c000.snappy.parquet\n",
      "Processing cleaned/yellow_tripdata_2013-05.parquet/part-00011-ae652b74-04cf-44dd-a3ac-8ffa9b231219-c000.snappy.parquet:\n"
     ]
    },
    {
     "name": "stderr",
     "output_type": "stream",
     "text": [
      "                                                                                \r"
     ]
    },
    {
     "name": "stdout",
     "output_type": "stream",
     "text": [
      "Saved gs://my-bigdata-project-cm/aggregated/part-00011-ae652b74-04cf-44dd-a3ac-8ffa9b231219-c000.snappy.parquet\n",
      "Processing cleaned/yellow_tripdata_2013-05.parquet/part-00012-ae652b74-04cf-44dd-a3ac-8ffa9b231219-c000.snappy.parquet:\n"
     ]
    },
    {
     "name": "stderr",
     "output_type": "stream",
     "text": [
      "                                                                                \r"
     ]
    },
    {
     "name": "stdout",
     "output_type": "stream",
     "text": [
      "Saved gs://my-bigdata-project-cm/aggregated/part-00012-ae652b74-04cf-44dd-a3ac-8ffa9b231219-c000.snappy.parquet\n",
      "Skipping file cleaned/yellow_tripdata_2013-06.parquet/\n",
      "Skipping file cleaned/yellow_tripdata_2013-06.parquet/_SUCCESS\n",
      "Processing cleaned/yellow_tripdata_2013-06.parquet/part-00000-46806c41-417a-416a-b813-fb88281ee300-c000.snappy.parquet:\n"
     ]
    },
    {
     "name": "stderr",
     "output_type": "stream",
     "text": [
      "                                                                                \r"
     ]
    },
    {
     "name": "stdout",
     "output_type": "stream",
     "text": [
      "Saved gs://my-bigdata-project-cm/aggregated/part-00000-46806c41-417a-416a-b813-fb88281ee300-c000.snappy.parquet\n",
      "Processing cleaned/yellow_tripdata_2013-06.parquet/part-00001-46806c41-417a-416a-b813-fb88281ee300-c000.snappy.parquet:\n"
     ]
    },
    {
     "name": "stderr",
     "output_type": "stream",
     "text": [
      "                                                                                \r"
     ]
    },
    {
     "name": "stdout",
     "output_type": "stream",
     "text": [
      "Saved gs://my-bigdata-project-cm/aggregated/part-00001-46806c41-417a-416a-b813-fb88281ee300-c000.snappy.parquet\n",
      "Processing cleaned/yellow_tripdata_2013-06.parquet/part-00002-46806c41-417a-416a-b813-fb88281ee300-c000.snappy.parquet:\n"
     ]
    },
    {
     "name": "stderr",
     "output_type": "stream",
     "text": [
      "                                                                                \r"
     ]
    },
    {
     "name": "stdout",
     "output_type": "stream",
     "text": [
      "Saved gs://my-bigdata-project-cm/aggregated/part-00002-46806c41-417a-416a-b813-fb88281ee300-c000.snappy.parquet\n",
      "Processing cleaned/yellow_tripdata_2013-06.parquet/part-00003-46806c41-417a-416a-b813-fb88281ee300-c000.snappy.parquet:\n"
     ]
    },
    {
     "name": "stderr",
     "output_type": "stream",
     "text": [
      "                                                                                \r"
     ]
    },
    {
     "name": "stdout",
     "output_type": "stream",
     "text": [
      "Saved gs://my-bigdata-project-cm/aggregated/part-00003-46806c41-417a-416a-b813-fb88281ee300-c000.snappy.parquet\n",
      "Processing cleaned/yellow_tripdata_2013-06.parquet/part-00004-46806c41-417a-416a-b813-fb88281ee300-c000.snappy.parquet:\n"
     ]
    },
    {
     "name": "stderr",
     "output_type": "stream",
     "text": [
      "                                                                                \r"
     ]
    },
    {
     "name": "stdout",
     "output_type": "stream",
     "text": [
      "Saved gs://my-bigdata-project-cm/aggregated/part-00004-46806c41-417a-416a-b813-fb88281ee300-c000.snappy.parquet\n",
      "Processing cleaned/yellow_tripdata_2013-06.parquet/part-00005-46806c41-417a-416a-b813-fb88281ee300-c000.snappy.parquet:\n"
     ]
    },
    {
     "name": "stderr",
     "output_type": "stream",
     "text": [
      "                                                                                \r"
     ]
    },
    {
     "name": "stdout",
     "output_type": "stream",
     "text": [
      "Saved gs://my-bigdata-project-cm/aggregated/part-00005-46806c41-417a-416a-b813-fb88281ee300-c000.snappy.parquet\n",
      "Processing cleaned/yellow_tripdata_2013-06.parquet/part-00006-46806c41-417a-416a-b813-fb88281ee300-c000.snappy.parquet:\n"
     ]
    },
    {
     "name": "stderr",
     "output_type": "stream",
     "text": [
      "                                                                                \r"
     ]
    },
    {
     "name": "stdout",
     "output_type": "stream",
     "text": [
      "Saved gs://my-bigdata-project-cm/aggregated/part-00006-46806c41-417a-416a-b813-fb88281ee300-c000.snappy.parquet\n",
      "Processing cleaned/yellow_tripdata_2013-06.parquet/part-00007-46806c41-417a-416a-b813-fb88281ee300-c000.snappy.parquet:\n"
     ]
    },
    {
     "name": "stderr",
     "output_type": "stream",
     "text": [
      "                                                                                \r"
     ]
    },
    {
     "name": "stdout",
     "output_type": "stream",
     "text": [
      "Saved gs://my-bigdata-project-cm/aggregated/part-00007-46806c41-417a-416a-b813-fb88281ee300-c000.snappy.parquet\n",
      "Processing cleaned/yellow_tripdata_2013-06.parquet/part-00008-46806c41-417a-416a-b813-fb88281ee300-c000.snappy.parquet:\n"
     ]
    },
    {
     "name": "stderr",
     "output_type": "stream",
     "text": [
      "                                                                                \r"
     ]
    },
    {
     "name": "stdout",
     "output_type": "stream",
     "text": [
      "Saved gs://my-bigdata-project-cm/aggregated/part-00008-46806c41-417a-416a-b813-fb88281ee300-c000.snappy.parquet\n",
      "Processing cleaned/yellow_tripdata_2013-06.parquet/part-00009-46806c41-417a-416a-b813-fb88281ee300-c000.snappy.parquet:\n"
     ]
    },
    {
     "name": "stderr",
     "output_type": "stream",
     "text": [
      "                                                                                \r"
     ]
    },
    {
     "name": "stdout",
     "output_type": "stream",
     "text": [
      "Saved gs://my-bigdata-project-cm/aggregated/part-00009-46806c41-417a-416a-b813-fb88281ee300-c000.snappy.parquet\n",
      "Processing cleaned/yellow_tripdata_2013-06.parquet/part-00010-46806c41-417a-416a-b813-fb88281ee300-c000.snappy.parquet:\n"
     ]
    },
    {
     "name": "stderr",
     "output_type": "stream",
     "text": [
      "                                                                                \r"
     ]
    },
    {
     "name": "stdout",
     "output_type": "stream",
     "text": [
      "Saved gs://my-bigdata-project-cm/aggregated/part-00010-46806c41-417a-416a-b813-fb88281ee300-c000.snappy.parquet\n",
      "Processing cleaned/yellow_tripdata_2013-06.parquet/part-00011-46806c41-417a-416a-b813-fb88281ee300-c000.snappy.parquet:\n"
     ]
    },
    {
     "name": "stderr",
     "output_type": "stream",
     "text": [
      "                                                                                \r"
     ]
    },
    {
     "name": "stdout",
     "output_type": "stream",
     "text": [
      "Saved gs://my-bigdata-project-cm/aggregated/part-00011-46806c41-417a-416a-b813-fb88281ee300-c000.snappy.parquet\n",
      "Skipping file cleaned/yellow_tripdata_2013-07.parquet/\n",
      "Skipping file cleaned/yellow_tripdata_2013-07.parquet/_SUCCESS\n",
      "Processing cleaned/yellow_tripdata_2013-07.parquet/part-00000-1cdc8c26-a42b-41ca-ae23-3448d8368f77-c000.snappy.parquet:\n"
     ]
    },
    {
     "name": "stderr",
     "output_type": "stream",
     "text": [
      "                                                                                \r"
     ]
    },
    {
     "name": "stdout",
     "output_type": "stream",
     "text": [
      "Saved gs://my-bigdata-project-cm/aggregated/part-00000-1cdc8c26-a42b-41ca-ae23-3448d8368f77-c000.snappy.parquet\n",
      "Processing cleaned/yellow_tripdata_2013-07.parquet/part-00001-1cdc8c26-a42b-41ca-ae23-3448d8368f77-c000.snappy.parquet:\n"
     ]
    },
    {
     "name": "stderr",
     "output_type": "stream",
     "text": [
      "                                                                                \r"
     ]
    },
    {
     "name": "stdout",
     "output_type": "stream",
     "text": [
      "Saved gs://my-bigdata-project-cm/aggregated/part-00001-1cdc8c26-a42b-41ca-ae23-3448d8368f77-c000.snappy.parquet\n",
      "Processing cleaned/yellow_tripdata_2013-07.parquet/part-00002-1cdc8c26-a42b-41ca-ae23-3448d8368f77-c000.snappy.parquet:\n"
     ]
    },
    {
     "name": "stderr",
     "output_type": "stream",
     "text": [
      "                                                                                \r"
     ]
    },
    {
     "name": "stdout",
     "output_type": "stream",
     "text": [
      "Saved gs://my-bigdata-project-cm/aggregated/part-00002-1cdc8c26-a42b-41ca-ae23-3448d8368f77-c000.snappy.parquet\n",
      "Processing cleaned/yellow_tripdata_2013-07.parquet/part-00003-1cdc8c26-a42b-41ca-ae23-3448d8368f77-c000.snappy.parquet:\n"
     ]
    },
    {
     "name": "stderr",
     "output_type": "stream",
     "text": [
      "                                                                                \r"
     ]
    },
    {
     "name": "stdout",
     "output_type": "stream",
     "text": [
      "Saved gs://my-bigdata-project-cm/aggregated/part-00004-1cdc8c26-a42b-41ca-ae23-3448d8368f77-c000.snappy.parquet\n",
      "Processing cleaned/yellow_tripdata_2013-07.parquet/part-00005-1cdc8c26-a42b-41ca-ae23-3448d8368f77-c000.snappy.parquet:\n"
     ]
    },
    {
     "name": "stderr",
     "output_type": "stream",
     "text": [
      "                                                                                \r"
     ]
    },
    {
     "name": "stdout",
     "output_type": "stream",
     "text": [
      "Saved gs://my-bigdata-project-cm/aggregated/part-00005-1cdc8c26-a42b-41ca-ae23-3448d8368f77-c000.snappy.parquet\n",
      "Processing cleaned/yellow_tripdata_2013-07.parquet/part-00006-1cdc8c26-a42b-41ca-ae23-3448d8368f77-c000.snappy.parquet:\n"
     ]
    },
    {
     "name": "stderr",
     "output_type": "stream",
     "text": [
      "                                                                                \r"
     ]
    },
    {
     "name": "stdout",
     "output_type": "stream",
     "text": [
      "Saved gs://my-bigdata-project-cm/aggregated/part-00006-1cdc8c26-a42b-41ca-ae23-3448d8368f77-c000.snappy.parquet\n",
      "Processing cleaned/yellow_tripdata_2013-07.parquet/part-00007-1cdc8c26-a42b-41ca-ae23-3448d8368f77-c000.snappy.parquet:\n"
     ]
    },
    {
     "name": "stderr",
     "output_type": "stream",
     "text": [
      "                                                                                \r"
     ]
    },
    {
     "name": "stdout",
     "output_type": "stream",
     "text": [
      "Saved gs://my-bigdata-project-cm/aggregated/part-00007-1cdc8c26-a42b-41ca-ae23-3448d8368f77-c000.snappy.parquet\n",
      "Processing cleaned/yellow_tripdata_2013-07.parquet/part-00008-1cdc8c26-a42b-41ca-ae23-3448d8368f77-c000.snappy.parquet:\n"
     ]
    },
    {
     "name": "stderr",
     "output_type": "stream",
     "text": [
      "                                                                                \r"
     ]
    },
    {
     "name": "stdout",
     "output_type": "stream",
     "text": [
      "Saved gs://my-bigdata-project-cm/aggregated/part-00008-1cdc8c26-a42b-41ca-ae23-3448d8368f77-c000.snappy.parquet\n",
      "Processing cleaned/yellow_tripdata_2013-07.parquet/part-00009-1cdc8c26-a42b-41ca-ae23-3448d8368f77-c000.snappy.parquet:\n"
     ]
    },
    {
     "name": "stderr",
     "output_type": "stream",
     "text": [
      "                                                                                \r"
     ]
    },
    {
     "name": "stdout",
     "output_type": "stream",
     "text": [
      "Saved gs://my-bigdata-project-cm/aggregated/part-00009-1cdc8c26-a42b-41ca-ae23-3448d8368f77-c000.snappy.parquet\n",
      "Processing cleaned/yellow_tripdata_2013-07.parquet/part-00010-1cdc8c26-a42b-41ca-ae23-3448d8368f77-c000.snappy.parquet:\n"
     ]
    },
    {
     "name": "stderr",
     "output_type": "stream",
     "text": [
      "                                                                                \r"
     ]
    },
    {
     "name": "stdout",
     "output_type": "stream",
     "text": [
      "Saved gs://my-bigdata-project-cm/aggregated/part-00010-1cdc8c26-a42b-41ca-ae23-3448d8368f77-c000.snappy.parquet\n",
      "Processing cleaned/yellow_tripdata_2013-07.parquet/part-00011-1cdc8c26-a42b-41ca-ae23-3448d8368f77-c000.snappy.parquet:\n"
     ]
    },
    {
     "name": "stderr",
     "output_type": "stream",
     "text": [
      "                                                                                \r"
     ]
    },
    {
     "name": "stdout",
     "output_type": "stream",
     "text": [
      "Saved gs://my-bigdata-project-cm/aggregated/part-00011-1cdc8c26-a42b-41ca-ae23-3448d8368f77-c000.snappy.parquet\n",
      "Skipping file cleaned/yellow_tripdata_2013-08.parquet/\n",
      "Skipping file cleaned/yellow_tripdata_2013-08.parquet/_SUCCESS\n",
      "Processing cleaned/yellow_tripdata_2013-08.parquet/part-00000-4de3d28b-17e8-450e-a99c-ec4534e15289-c000.snappy.parquet:\n"
     ]
    },
    {
     "name": "stderr",
     "output_type": "stream",
     "text": [
      "                                                                                \r"
     ]
    },
    {
     "name": "stdout",
     "output_type": "stream",
     "text": [
      "Saved gs://my-bigdata-project-cm/aggregated/part-00000-4de3d28b-17e8-450e-a99c-ec4534e15289-c000.snappy.parquet\n",
      "Processing cleaned/yellow_tripdata_2013-08.parquet/part-00001-4de3d28b-17e8-450e-a99c-ec4534e15289-c000.snappy.parquet:\n"
     ]
    },
    {
     "name": "stderr",
     "output_type": "stream",
     "text": [
      "                                                                                \r"
     ]
    },
    {
     "name": "stdout",
     "output_type": "stream",
     "text": [
      "Saved gs://my-bigdata-project-cm/aggregated/part-00001-4de3d28b-17e8-450e-a99c-ec4534e15289-c000.snappy.parquet\n",
      "Processing cleaned/yellow_tripdata_2013-08.parquet/part-00002-4de3d28b-17e8-450e-a99c-ec4534e15289-c000.snappy.parquet:\n"
     ]
    },
    {
     "name": "stderr",
     "output_type": "stream",
     "text": [
      "                                                                                \r"
     ]
    },
    {
     "name": "stdout",
     "output_type": "stream",
     "text": [
      "Saved gs://my-bigdata-project-cm/aggregated/part-00002-4de3d28b-17e8-450e-a99c-ec4534e15289-c000.snappy.parquet\n",
      "Processing cleaned/yellow_tripdata_2013-08.parquet/part-00003-4de3d28b-17e8-450e-a99c-ec4534e15289-c000.snappy.parquet:\n"
     ]
    },
    {
     "name": "stderr",
     "output_type": "stream",
     "text": [
      "                                                                                \r"
     ]
    },
    {
     "name": "stdout",
     "output_type": "stream",
     "text": [
      "Saved gs://my-bigdata-project-cm/aggregated/part-00003-4de3d28b-17e8-450e-a99c-ec4534e15289-c000.snappy.parquet\n",
      "Processing cleaned/yellow_tripdata_2013-08.parquet/part-00004-4de3d28b-17e8-450e-a99c-ec4534e15289-c000.snappy.parquet:\n"
     ]
    },
    {
     "name": "stderr",
     "output_type": "stream",
     "text": [
      "                                                                                \r"
     ]
    },
    {
     "name": "stdout",
     "output_type": "stream",
     "text": [
      "Saved gs://my-bigdata-project-cm/aggregated/part-00004-4de3d28b-17e8-450e-a99c-ec4534e15289-c000.snappy.parquet\n",
      "Processing cleaned/yellow_tripdata_2013-08.parquet/part-00005-4de3d28b-17e8-450e-a99c-ec4534e15289-c000.snappy.parquet:\n"
     ]
    },
    {
     "name": "stderr",
     "output_type": "stream",
     "text": [
      "                                                                                \r"
     ]
    },
    {
     "name": "stdout",
     "output_type": "stream",
     "text": [
      "Saved gs://my-bigdata-project-cm/aggregated/part-00005-4de3d28b-17e8-450e-a99c-ec4534e15289-c000.snappy.parquet\n",
      "Processing cleaned/yellow_tripdata_2013-08.parquet/part-00006-4de3d28b-17e8-450e-a99c-ec4534e15289-c000.snappy.parquet:\n"
     ]
    },
    {
     "name": "stderr",
     "output_type": "stream",
     "text": [
      "                                                                                \r"
     ]
    },
    {
     "name": "stdout",
     "output_type": "stream",
     "text": [
      "Saved gs://my-bigdata-project-cm/aggregated/part-00006-4de3d28b-17e8-450e-a99c-ec4534e15289-c000.snappy.parquet\n",
      "Processing cleaned/yellow_tripdata_2013-08.parquet/part-00007-4de3d28b-17e8-450e-a99c-ec4534e15289-c000.snappy.parquet:\n"
     ]
    },
    {
     "name": "stderr",
     "output_type": "stream",
     "text": [
      "                                                                                \r"
     ]
    },
    {
     "name": "stdout",
     "output_type": "stream",
     "text": [
      "Saved gs://my-bigdata-project-cm/aggregated/part-00007-4de3d28b-17e8-450e-a99c-ec4534e15289-c000.snappy.parquet\n",
      "Processing cleaned/yellow_tripdata_2013-08.parquet/part-00008-4de3d28b-17e8-450e-a99c-ec4534e15289-c000.snappy.parquet:\n"
     ]
    },
    {
     "name": "stderr",
     "output_type": "stream",
     "text": [
      "                                                                                \r"
     ]
    },
    {
     "name": "stdout",
     "output_type": "stream",
     "text": [
      "Saved gs://my-bigdata-project-cm/aggregated/part-00008-4de3d28b-17e8-450e-a99c-ec4534e15289-c000.snappy.parquet\n",
      "Processing cleaned/yellow_tripdata_2013-08.parquet/part-00009-4de3d28b-17e8-450e-a99c-ec4534e15289-c000.snappy.parquet:\n"
     ]
    },
    {
     "name": "stderr",
     "output_type": "stream",
     "text": [
      "                                                                                \r"
     ]
    },
    {
     "name": "stdout",
     "output_type": "stream",
     "text": [
      "Saved gs://my-bigdata-project-cm/aggregated/part-00009-4de3d28b-17e8-450e-a99c-ec4534e15289-c000.snappy.parquet\n",
      "Skipping file cleaned/yellow_tripdata_2013-09.parquet/\n",
      "Skipping file cleaned/yellow_tripdata_2013-09.parquet/_SUCCESS\n",
      "Processing cleaned/yellow_tripdata_2013-09.parquet/part-00000-f32b6cb5-9f8e-4d49-a813-25cc6b1da68a-c000.snappy.parquet:\n"
     ]
    },
    {
     "name": "stderr",
     "output_type": "stream",
     "text": [
      "                                                                                \r"
     ]
    },
    {
     "name": "stdout",
     "output_type": "stream",
     "text": [
      "Saved gs://my-bigdata-project-cm/aggregated/part-00000-f32b6cb5-9f8e-4d49-a813-25cc6b1da68a-c000.snappy.parquet\n",
      "Processing cleaned/yellow_tripdata_2013-09.parquet/part-00001-f32b6cb5-9f8e-4d49-a813-25cc6b1da68a-c000.snappy.parquet:\n"
     ]
    },
    {
     "name": "stderr",
     "output_type": "stream",
     "text": [
      "                                                                                \r"
     ]
    },
    {
     "name": "stdout",
     "output_type": "stream",
     "text": [
      "Saved gs://my-bigdata-project-cm/aggregated/part-00001-f32b6cb5-9f8e-4d49-a813-25cc6b1da68a-c000.snappy.parquet\n",
      "Processing cleaned/yellow_tripdata_2013-09.parquet/part-00002-f32b6cb5-9f8e-4d49-a813-25cc6b1da68a-c000.snappy.parquet:\n"
     ]
    },
    {
     "name": "stderr",
     "output_type": "stream",
     "text": [
      "                                                                                \r"
     ]
    },
    {
     "name": "stdout",
     "output_type": "stream",
     "text": [
      "Saved gs://my-bigdata-project-cm/aggregated/part-00002-f32b6cb5-9f8e-4d49-a813-25cc6b1da68a-c000.snappy.parquet\n",
      "Processing cleaned/yellow_tripdata_2013-09.parquet/part-00003-f32b6cb5-9f8e-4d49-a813-25cc6b1da68a-c000.snappy.parquet:\n"
     ]
    },
    {
     "name": "stderr",
     "output_type": "stream",
     "text": [
      "                                                                                \r"
     ]
    },
    {
     "name": "stdout",
     "output_type": "stream",
     "text": [
      "Saved gs://my-bigdata-project-cm/aggregated/part-00003-f32b6cb5-9f8e-4d49-a813-25cc6b1da68a-c000.snappy.parquet\n",
      "Processing cleaned/yellow_tripdata_2013-09.parquet/part-00004-f32b6cb5-9f8e-4d49-a813-25cc6b1da68a-c000.snappy.parquet:\n"
     ]
    },
    {
     "name": "stderr",
     "output_type": "stream",
     "text": [
      "                                                                                \r"
     ]
    },
    {
     "name": "stdout",
     "output_type": "stream",
     "text": [
      "Saved gs://my-bigdata-project-cm/aggregated/part-00004-f32b6cb5-9f8e-4d49-a813-25cc6b1da68a-c000.snappy.parquet\n",
      "Processing cleaned/yellow_tripdata_2013-09.parquet/part-00005-f32b6cb5-9f8e-4d49-a813-25cc6b1da68a-c000.snappy.parquet:\n"
     ]
    },
    {
     "name": "stderr",
     "output_type": "stream",
     "text": [
      "                                                                                \r"
     ]
    },
    {
     "name": "stdout",
     "output_type": "stream",
     "text": [
      "Saved gs://my-bigdata-project-cm/aggregated/part-00005-f32b6cb5-9f8e-4d49-a813-25cc6b1da68a-c000.snappy.parquet\n",
      "Processing cleaned/yellow_tripdata_2013-09.parquet/part-00006-f32b6cb5-9f8e-4d49-a813-25cc6b1da68a-c000.snappy.parquet:\n"
     ]
    },
    {
     "name": "stderr",
     "output_type": "stream",
     "text": [
      "                                                                                \r"
     ]
    },
    {
     "name": "stdout",
     "output_type": "stream",
     "text": [
      "Saved gs://my-bigdata-project-cm/aggregated/part-00006-f32b6cb5-9f8e-4d49-a813-25cc6b1da68a-c000.snappy.parquet\n",
      "Processing cleaned/yellow_tripdata_2013-09.parquet/part-00007-f32b6cb5-9f8e-4d49-a813-25cc6b1da68a-c000.snappy.parquet:\n"
     ]
    },
    {
     "name": "stderr",
     "output_type": "stream",
     "text": [
      "                                                                                \r"
     ]
    },
    {
     "name": "stdout",
     "output_type": "stream",
     "text": [
      "Saved gs://my-bigdata-project-cm/aggregated/part-00007-f32b6cb5-9f8e-4d49-a813-25cc6b1da68a-c000.snappy.parquet\n",
      "Processing cleaned/yellow_tripdata_2013-09.parquet/part-00008-f32b6cb5-9f8e-4d49-a813-25cc6b1da68a-c000.snappy.parquet:\n"
     ]
    },
    {
     "name": "stderr",
     "output_type": "stream",
     "text": [
      "                                                                                \r"
     ]
    },
    {
     "name": "stdout",
     "output_type": "stream",
     "text": [
      "Saved gs://my-bigdata-project-cm/aggregated/part-00008-f32b6cb5-9f8e-4d49-a813-25cc6b1da68a-c000.snappy.parquet\n",
      "Processing cleaned/yellow_tripdata_2013-09.parquet/part-00009-f32b6cb5-9f8e-4d49-a813-25cc6b1da68a-c000.snappy.parquet:\n"
     ]
    },
    {
     "name": "stderr",
     "output_type": "stream",
     "text": [
      "                                                                                \r"
     ]
    },
    {
     "name": "stdout",
     "output_type": "stream",
     "text": [
      "Saved gs://my-bigdata-project-cm/aggregated/part-00009-f32b6cb5-9f8e-4d49-a813-25cc6b1da68a-c000.snappy.parquet\n",
      "Processing cleaned/yellow_tripdata_2013-09.parquet/part-00010-f32b6cb5-9f8e-4d49-a813-25cc6b1da68a-c000.snappy.parquet:\n"
     ]
    },
    {
     "name": "stderr",
     "output_type": "stream",
     "text": [
      "                                                                                \r"
     ]
    },
    {
     "name": "stdout",
     "output_type": "stream",
     "text": [
      "Saved gs://my-bigdata-project-cm/aggregated/part-00010-f32b6cb5-9f8e-4d49-a813-25cc6b1da68a-c000.snappy.parquet\n",
      "Processing cleaned/yellow_tripdata_2013-09.parquet/part-00011-f32b6cb5-9f8e-4d49-a813-25cc6b1da68a-c000.snappy.parquet:\n"
     ]
    },
    {
     "name": "stderr",
     "output_type": "stream",
     "text": [
      "                                                                                \r"
     ]
    },
    {
     "name": "stdout",
     "output_type": "stream",
     "text": [
      "Saved gs://my-bigdata-project-cm/aggregated/part-00011-f32b6cb5-9f8e-4d49-a813-25cc6b1da68a-c000.snappy.parquet\n",
      "Skipping file cleaned/yellow_tripdata_2013-10.parquet/\n",
      "Skipping file cleaned/yellow_tripdata_2013-10.parquet/_SUCCESS\n",
      "Processing cleaned/yellow_tripdata_2013-10.parquet/part-00000-46787d1a-1405-4364-b846-99cebfaf775c-c000.snappy.parquet:\n"
     ]
    },
    {
     "name": "stderr",
     "output_type": "stream",
     "text": [
      "                                                                                \r"
     ]
    },
    {
     "name": "stdout",
     "output_type": "stream",
     "text": [
      "Saved gs://my-bigdata-project-cm/aggregated/part-00000-46787d1a-1405-4364-b846-99cebfaf775c-c000.snappy.parquet\n",
      "Processing cleaned/yellow_tripdata_2013-10.parquet/part-00001-46787d1a-1405-4364-b846-99cebfaf775c-c000.snappy.parquet:\n"
     ]
    },
    {
     "name": "stderr",
     "output_type": "stream",
     "text": [
      "                                                                                \r"
     ]
    },
    {
     "name": "stdout",
     "output_type": "stream",
     "text": [
      "Saved gs://my-bigdata-project-cm/aggregated/part-00001-46787d1a-1405-4364-b846-99cebfaf775c-c000.snappy.parquet\n",
      "Processing cleaned/yellow_tripdata_2013-10.parquet/part-00002-46787d1a-1405-4364-b846-99cebfaf775c-c000.snappy.parquet:\n"
     ]
    },
    {
     "name": "stderr",
     "output_type": "stream",
     "text": [
      "                                                                                \r"
     ]
    },
    {
     "name": "stdout",
     "output_type": "stream",
     "text": [
      "Saved gs://my-bigdata-project-cm/aggregated/part-00002-46787d1a-1405-4364-b846-99cebfaf775c-c000.snappy.parquet\n",
      "Processing cleaned/yellow_tripdata_2013-10.parquet/part-00003-46787d1a-1405-4364-b846-99cebfaf775c-c000.snappy.parquet:\n"
     ]
    },
    {
     "name": "stderr",
     "output_type": "stream",
     "text": [
      "                                                                                \r"
     ]
    },
    {
     "name": "stdout",
     "output_type": "stream",
     "text": [
      "Saved gs://my-bigdata-project-cm/aggregated/part-00003-46787d1a-1405-4364-b846-99cebfaf775c-c000.snappy.parquet\n",
      "Processing cleaned/yellow_tripdata_2013-10.parquet/part-00004-46787d1a-1405-4364-b846-99cebfaf775c-c000.snappy.parquet:\n"
     ]
    },
    {
     "name": "stderr",
     "output_type": "stream",
     "text": [
      "                                                                                \r"
     ]
    },
    {
     "name": "stdout",
     "output_type": "stream",
     "text": [
      "Saved gs://my-bigdata-project-cm/aggregated/part-00004-46787d1a-1405-4364-b846-99cebfaf775c-c000.snappy.parquet\n",
      "Processing cleaned/yellow_tripdata_2013-10.parquet/part-00005-46787d1a-1405-4364-b846-99cebfaf775c-c000.snappy.parquet:\n"
     ]
    },
    {
     "name": "stderr",
     "output_type": "stream",
     "text": [
      "                                                                                \r"
     ]
    },
    {
     "name": "stdout",
     "output_type": "stream",
     "text": [
      "Saved gs://my-bigdata-project-cm/aggregated/part-00005-46787d1a-1405-4364-b846-99cebfaf775c-c000.snappy.parquet\n",
      "Processing cleaned/yellow_tripdata_2013-10.parquet/part-00006-46787d1a-1405-4364-b846-99cebfaf775c-c000.snappy.parquet:\n"
     ]
    },
    {
     "name": "stderr",
     "output_type": "stream",
     "text": [
      "                                                                                \r"
     ]
    },
    {
     "name": "stdout",
     "output_type": "stream",
     "text": [
      "Saved gs://my-bigdata-project-cm/aggregated/part-00006-46787d1a-1405-4364-b846-99cebfaf775c-c000.snappy.parquet\n",
      "Processing cleaned/yellow_tripdata_2013-10.parquet/part-00007-46787d1a-1405-4364-b846-99cebfaf775c-c000.snappy.parquet:\n"
     ]
    },
    {
     "name": "stderr",
     "output_type": "stream",
     "text": [
      "                                                                                \r"
     ]
    },
    {
     "name": "stdout",
     "output_type": "stream",
     "text": [
      "Saved gs://my-bigdata-project-cm/aggregated/part-00007-46787d1a-1405-4364-b846-99cebfaf775c-c000.snappy.parquet\n",
      "Processing cleaned/yellow_tripdata_2013-10.parquet/part-00008-46787d1a-1405-4364-b846-99cebfaf775c-c000.snappy.parquet:\n"
     ]
    },
    {
     "name": "stderr",
     "output_type": "stream",
     "text": [
      "                                                                                \r"
     ]
    },
    {
     "name": "stdout",
     "output_type": "stream",
     "text": [
      "Saved gs://my-bigdata-project-cm/aggregated/part-00008-46787d1a-1405-4364-b846-99cebfaf775c-c000.snappy.parquet\n",
      "Processing cleaned/yellow_tripdata_2013-10.parquet/part-00009-46787d1a-1405-4364-b846-99cebfaf775c-c000.snappy.parquet:\n"
     ]
    },
    {
     "name": "stderr",
     "output_type": "stream",
     "text": [
      "                                                                                \r"
     ]
    },
    {
     "name": "stdout",
     "output_type": "stream",
     "text": [
      "Saved gs://my-bigdata-project-cm/aggregated/part-00009-46787d1a-1405-4364-b846-99cebfaf775c-c000.snappy.parquet\n",
      "Processing cleaned/yellow_tripdata_2013-10.parquet/part-00010-46787d1a-1405-4364-b846-99cebfaf775c-c000.snappy.parquet:\n"
     ]
    },
    {
     "name": "stderr",
     "output_type": "stream",
     "text": [
      "                                                                                \r"
     ]
    },
    {
     "name": "stdout",
     "output_type": "stream",
     "text": [
      "Saved gs://my-bigdata-project-cm/aggregated/part-00010-46787d1a-1405-4364-b846-99cebfaf775c-c000.snappy.parquet\n",
      "Processing cleaned/yellow_tripdata_2013-10.parquet/part-00011-46787d1a-1405-4364-b846-99cebfaf775c-c000.snappy.parquet:\n"
     ]
    },
    {
     "name": "stderr",
     "output_type": "stream",
     "text": [
      "                                                                                \r"
     ]
    },
    {
     "name": "stdout",
     "output_type": "stream",
     "text": [
      "Saved gs://my-bigdata-project-cm/aggregated/part-00011-46787d1a-1405-4364-b846-99cebfaf775c-c000.snappy.parquet\n",
      "Skipping file cleaned/yellow_tripdata_2013-11.parquet/\n",
      "Skipping file cleaned/yellow_tripdata_2013-11.parquet/_SUCCESS\n",
      "Processing cleaned/yellow_tripdata_2013-11.parquet/part-00000-a492ce94-c23b-4c10-bd96-d74d43ecb765-c000.snappy.parquet:\n"
     ]
    },
    {
     "name": "stderr",
     "output_type": "stream",
     "text": [
      "                                                                                \r"
     ]
    },
    {
     "name": "stdout",
     "output_type": "stream",
     "text": [
      "Saved gs://my-bigdata-project-cm/aggregated/part-00000-a492ce94-c23b-4c10-bd96-d74d43ecb765-c000.snappy.parquet\n",
      "Processing cleaned/yellow_tripdata_2013-11.parquet/part-00001-a492ce94-c23b-4c10-bd96-d74d43ecb765-c000.snappy.parquet:\n"
     ]
    },
    {
     "name": "stderr",
     "output_type": "stream",
     "text": [
      "                                                                                \r"
     ]
    },
    {
     "name": "stdout",
     "output_type": "stream",
     "text": [
      "Saved gs://my-bigdata-project-cm/aggregated/part-00001-a492ce94-c23b-4c10-bd96-d74d43ecb765-c000.snappy.parquet\n",
      "Processing cleaned/yellow_tripdata_2013-11.parquet/part-00002-a492ce94-c23b-4c10-bd96-d74d43ecb765-c000.snappy.parquet:\n"
     ]
    },
    {
     "name": "stderr",
     "output_type": "stream",
     "text": [
      "                                                                                \r"
     ]
    },
    {
     "name": "stdout",
     "output_type": "stream",
     "text": [
      "Saved gs://my-bigdata-project-cm/aggregated/part-00002-a492ce94-c23b-4c10-bd96-d74d43ecb765-c000.snappy.parquet\n",
      "Processing cleaned/yellow_tripdata_2013-11.parquet/part-00003-a492ce94-c23b-4c10-bd96-d74d43ecb765-c000.snappy.parquet:\n"
     ]
    },
    {
     "name": "stderr",
     "output_type": "stream",
     "text": [
      "                                                                                \r"
     ]
    },
    {
     "name": "stdout",
     "output_type": "stream",
     "text": [
      "Saved gs://my-bigdata-project-cm/aggregated/part-00003-a492ce94-c23b-4c10-bd96-d74d43ecb765-c000.snappy.parquet\n",
      "Processing cleaned/yellow_tripdata_2013-11.parquet/part-00004-a492ce94-c23b-4c10-bd96-d74d43ecb765-c000.snappy.parquet:\n"
     ]
    },
    {
     "name": "stderr",
     "output_type": "stream",
     "text": [
      "                                                                                \r"
     ]
    },
    {
     "name": "stdout",
     "output_type": "stream",
     "text": [
      "Saved gs://my-bigdata-project-cm/aggregated/part-00004-a492ce94-c23b-4c10-bd96-d74d43ecb765-c000.snappy.parquet\n",
      "Processing cleaned/yellow_tripdata_2013-11.parquet/part-00005-a492ce94-c23b-4c10-bd96-d74d43ecb765-c000.snappy.parquet:\n"
     ]
    },
    {
     "name": "stderr",
     "output_type": "stream",
     "text": [
      "                                                                                \r"
     ]
    },
    {
     "name": "stdout",
     "output_type": "stream",
     "text": [
      "Saved gs://my-bigdata-project-cm/aggregated/part-00005-a492ce94-c23b-4c10-bd96-d74d43ecb765-c000.snappy.parquet\n",
      "Processing cleaned/yellow_tripdata_2013-11.parquet/part-00006-a492ce94-c23b-4c10-bd96-d74d43ecb765-c000.snappy.parquet:\n"
     ]
    },
    {
     "name": "stderr",
     "output_type": "stream",
     "text": [
      "                                                                                \r"
     ]
    },
    {
     "name": "stdout",
     "output_type": "stream",
     "text": [
      "Saved gs://my-bigdata-project-cm/aggregated/part-00006-a492ce94-c23b-4c10-bd96-d74d43ecb765-c000.snappy.parquet\n",
      "Processing cleaned/yellow_tripdata_2013-11.parquet/part-00007-a492ce94-c23b-4c10-bd96-d74d43ecb765-c000.snappy.parquet:\n"
     ]
    },
    {
     "name": "stderr",
     "output_type": "stream",
     "text": [
      "                                                                                \r"
     ]
    },
    {
     "name": "stdout",
     "output_type": "stream",
     "text": [
      "Saved gs://my-bigdata-project-cm/aggregated/part-00007-a492ce94-c23b-4c10-bd96-d74d43ecb765-c000.snappy.parquet\n",
      "Processing cleaned/yellow_tripdata_2013-11.parquet/part-00008-a492ce94-c23b-4c10-bd96-d74d43ecb765-c000.snappy.parquet:\n"
     ]
    },
    {
     "name": "stderr",
     "output_type": "stream",
     "text": [
      "                                                                                \r"
     ]
    },
    {
     "name": "stdout",
     "output_type": "stream",
     "text": [
      "Saved gs://my-bigdata-project-cm/aggregated/part-00008-a492ce94-c23b-4c10-bd96-d74d43ecb765-c000.snappy.parquet\n",
      "Processing cleaned/yellow_tripdata_2013-11.parquet/part-00009-a492ce94-c23b-4c10-bd96-d74d43ecb765-c000.snappy.parquet:\n"
     ]
    },
    {
     "name": "stderr",
     "output_type": "stream",
     "text": [
      "                                                                                \r"
     ]
    },
    {
     "name": "stdout",
     "output_type": "stream",
     "text": [
      "Saved gs://my-bigdata-project-cm/aggregated/part-00010-a492ce94-c23b-4c10-bd96-d74d43ecb765-c000.snappy.parquet\n",
      "Processing cleaned/yellow_tripdata_2013-11.parquet/part-00011-a492ce94-c23b-4c10-bd96-d74d43ecb765-c000.snappy.parquet:\n"
     ]
    },
    {
     "name": "stderr",
     "output_type": "stream",
     "text": [
      "                                                                                \r"
     ]
    },
    {
     "name": "stdout",
     "output_type": "stream",
     "text": [
      "Saved gs://my-bigdata-project-cm/aggregated/part-00011-a492ce94-c23b-4c10-bd96-d74d43ecb765-c000.snappy.parquet\n",
      "Skipping file cleaned/yellow_tripdata_2013-12.parquet/\n",
      "Skipping file cleaned/yellow_tripdata_2013-12.parquet/_SUCCESS\n",
      "Processing cleaned/yellow_tripdata_2013-12.parquet/part-00000-3e739e5f-b365-4973-b257-71b3909ef32c-c000.snappy.parquet:\n"
     ]
    },
    {
     "name": "stderr",
     "output_type": "stream",
     "text": [
      "                                                                                \r"
     ]
    },
    {
     "name": "stdout",
     "output_type": "stream",
     "text": [
      "Saved gs://my-bigdata-project-cm/aggregated/part-00000-3e739e5f-b365-4973-b257-71b3909ef32c-c000.snappy.parquet\n",
      "Processing cleaned/yellow_tripdata_2013-12.parquet/part-00001-3e739e5f-b365-4973-b257-71b3909ef32c-c000.snappy.parquet:\n"
     ]
    },
    {
     "name": "stderr",
     "output_type": "stream",
     "text": [
      "                                                                                \r"
     ]
    },
    {
     "name": "stdout",
     "output_type": "stream",
     "text": [
      "Saved gs://my-bigdata-project-cm/aggregated/part-00001-3e739e5f-b365-4973-b257-71b3909ef32c-c000.snappy.parquet\n",
      "Processing cleaned/yellow_tripdata_2013-12.parquet/part-00002-3e739e5f-b365-4973-b257-71b3909ef32c-c000.snappy.parquet:\n"
     ]
    },
    {
     "name": "stderr",
     "output_type": "stream",
     "text": [
      "                                                                                \r"
     ]
    },
    {
     "name": "stdout",
     "output_type": "stream",
     "text": [
      "Saved gs://my-bigdata-project-cm/aggregated/part-00002-3e739e5f-b365-4973-b257-71b3909ef32c-c000.snappy.parquet\n",
      "Processing cleaned/yellow_tripdata_2013-12.parquet/part-00003-3e739e5f-b365-4973-b257-71b3909ef32c-c000.snappy.parquet:\n"
     ]
    },
    {
     "name": "stderr",
     "output_type": "stream",
     "text": [
      "                                                                                \r"
     ]
    },
    {
     "name": "stdout",
     "output_type": "stream",
     "text": [
      "Saved gs://my-bigdata-project-cm/aggregated/part-00003-3e739e5f-b365-4973-b257-71b3909ef32c-c000.snappy.parquet\n",
      "Processing cleaned/yellow_tripdata_2013-12.parquet/part-00004-3e739e5f-b365-4973-b257-71b3909ef32c-c000.snappy.parquet:\n"
     ]
    },
    {
     "name": "stderr",
     "output_type": "stream",
     "text": [
      "                                                                                \r"
     ]
    },
    {
     "name": "stdout",
     "output_type": "stream",
     "text": [
      "Saved gs://my-bigdata-project-cm/aggregated/part-00004-3e739e5f-b365-4973-b257-71b3909ef32c-c000.snappy.parquet\n",
      "Processing cleaned/yellow_tripdata_2013-12.parquet/part-00005-3e739e5f-b365-4973-b257-71b3909ef32c-c000.snappy.parquet:\n"
     ]
    },
    {
     "name": "stderr",
     "output_type": "stream",
     "text": [
      "                                                                                \r"
     ]
    },
    {
     "name": "stdout",
     "output_type": "stream",
     "text": [
      "Saved gs://my-bigdata-project-cm/aggregated/part-00005-3e739e5f-b365-4973-b257-71b3909ef32c-c000.snappy.parquet\n",
      "Processing cleaned/yellow_tripdata_2013-12.parquet/part-00006-3e739e5f-b365-4973-b257-71b3909ef32c-c000.snappy.parquet:\n"
     ]
    },
    {
     "name": "stderr",
     "output_type": "stream",
     "text": [
      "                                                                                \r"
     ]
    },
    {
     "name": "stdout",
     "output_type": "stream",
     "text": [
      "Saved gs://my-bigdata-project-cm/aggregated/part-00006-3e739e5f-b365-4973-b257-71b3909ef32c-c000.snappy.parquet\n",
      "Processing cleaned/yellow_tripdata_2013-12.parquet/part-00007-3e739e5f-b365-4973-b257-71b3909ef32c-c000.snappy.parquet:\n"
     ]
    },
    {
     "name": "stderr",
     "output_type": "stream",
     "text": [
      "                                                                                \r"
     ]
    },
    {
     "name": "stdout",
     "output_type": "stream",
     "text": [
      "Saved gs://my-bigdata-project-cm/aggregated/part-00007-3e739e5f-b365-4973-b257-71b3909ef32c-c000.snappy.parquet\n",
      "Processing cleaned/yellow_tripdata_2013-12.parquet/part-00008-3e739e5f-b365-4973-b257-71b3909ef32c-c000.snappy.parquet:\n"
     ]
    },
    {
     "name": "stderr",
     "output_type": "stream",
     "text": [
      "                                                                                \r"
     ]
    },
    {
     "name": "stdout",
     "output_type": "stream",
     "text": [
      "Saved gs://my-bigdata-project-cm/aggregated/part-00008-3e739e5f-b365-4973-b257-71b3909ef32c-c000.snappy.parquet\n",
      "Processing cleaned/yellow_tripdata_2013-12.parquet/part-00009-3e739e5f-b365-4973-b257-71b3909ef32c-c000.snappy.parquet:\n"
     ]
    },
    {
     "name": "stderr",
     "output_type": "stream",
     "text": [
      "                                                                                \r"
     ]
    },
    {
     "name": "stdout",
     "output_type": "stream",
     "text": [
      "Saved gs://my-bigdata-project-cm/aggregated/part-00009-3e739e5f-b365-4973-b257-71b3909ef32c-c000.snappy.parquet\n",
      "Processing cleaned/yellow_tripdata_2013-12.parquet/part-00010-3e739e5f-b365-4973-b257-71b3909ef32c-c000.snappy.parquet:\n"
     ]
    },
    {
     "name": "stderr",
     "output_type": "stream",
     "text": [
      "                                                                                \r"
     ]
    },
    {
     "name": "stdout",
     "output_type": "stream",
     "text": [
      "Saved gs://my-bigdata-project-cm/aggregated/part-00010-3e739e5f-b365-4973-b257-71b3909ef32c-c000.snappy.parquet\n",
      "Processing cleaned/yellow_tripdata_2013-12.parquet/part-00011-3e739e5f-b365-4973-b257-71b3909ef32c-c000.snappy.parquet:\n"
     ]
    },
    {
     "name": "stderr",
     "output_type": "stream",
     "text": [
      "                                                                                \r"
     ]
    },
    {
     "name": "stdout",
     "output_type": "stream",
     "text": [
      "Saved gs://my-bigdata-project-cm/aggregated/part-00011-3e739e5f-b365-4973-b257-71b3909ef32c-c000.snappy.parquet\n",
      "Skipping file cleaned/yellow_tripdata_2014-01.parquet/\n",
      "Skipping file cleaned/yellow_tripdata_2014-01.parquet/_SUCCESS\n",
      "Processing cleaned/yellow_tripdata_2014-01.parquet/part-00000-2a2fa3fa-662e-4c8c-8648-b7e4f414b655-c000.snappy.parquet:\n"
     ]
    },
    {
     "name": "stderr",
     "output_type": "stream",
     "text": [
      "                                                                                \r"
     ]
    },
    {
     "name": "stdout",
     "output_type": "stream",
     "text": [
      "Saved gs://my-bigdata-project-cm/aggregated/part-00000-2a2fa3fa-662e-4c8c-8648-b7e4f414b655-c000.snappy.parquet\n",
      "Processing cleaned/yellow_tripdata_2014-01.parquet/part-00001-2a2fa3fa-662e-4c8c-8648-b7e4f414b655-c000.snappy.parquet:\n"
     ]
    },
    {
     "name": "stderr",
     "output_type": "stream",
     "text": [
      "                                                                                \r"
     ]
    },
    {
     "name": "stdout",
     "output_type": "stream",
     "text": [
      "Saved gs://my-bigdata-project-cm/aggregated/part-00001-2a2fa3fa-662e-4c8c-8648-b7e4f414b655-c000.snappy.parquet\n",
      "Processing cleaned/yellow_tripdata_2014-01.parquet/part-00002-2a2fa3fa-662e-4c8c-8648-b7e4f414b655-c000.snappy.parquet:\n"
     ]
    },
    {
     "name": "stderr",
     "output_type": "stream",
     "text": [
      "                                                                                \r"
     ]
    },
    {
     "name": "stdout",
     "output_type": "stream",
     "text": [
      "Saved gs://my-bigdata-project-cm/aggregated/part-00002-2a2fa3fa-662e-4c8c-8648-b7e4f414b655-c000.snappy.parquet\n",
      "Processing cleaned/yellow_tripdata_2014-01.parquet/part-00003-2a2fa3fa-662e-4c8c-8648-b7e4f414b655-c000.snappy.parquet:\n"
     ]
    },
    {
     "name": "stderr",
     "output_type": "stream",
     "text": [
      "                                                                                \r"
     ]
    },
    {
     "name": "stdout",
     "output_type": "stream",
     "text": [
      "Saved gs://my-bigdata-project-cm/aggregated/part-00003-2a2fa3fa-662e-4c8c-8648-b7e4f414b655-c000.snappy.parquet\n",
      "Processing cleaned/yellow_tripdata_2014-01.parquet/part-00004-2a2fa3fa-662e-4c8c-8648-b7e4f414b655-c000.snappy.parquet:\n"
     ]
    },
    {
     "name": "stderr",
     "output_type": "stream",
     "text": [
      "                                                                                \r"
     ]
    },
    {
     "name": "stdout",
     "output_type": "stream",
     "text": [
      "Saved gs://my-bigdata-project-cm/aggregated/part-00004-2a2fa3fa-662e-4c8c-8648-b7e4f414b655-c000.snappy.parquet\n",
      "Processing cleaned/yellow_tripdata_2014-01.parquet/part-00005-2a2fa3fa-662e-4c8c-8648-b7e4f414b655-c000.snappy.parquet:\n"
     ]
    },
    {
     "name": "stderr",
     "output_type": "stream",
     "text": [
      "                                                                                \r"
     ]
    },
    {
     "name": "stdout",
     "output_type": "stream",
     "text": [
      "Saved gs://my-bigdata-project-cm/aggregated/part-00005-2a2fa3fa-662e-4c8c-8648-b7e4f414b655-c000.snappy.parquet\n",
      "Processing cleaned/yellow_tripdata_2014-01.parquet/part-00006-2a2fa3fa-662e-4c8c-8648-b7e4f414b655-c000.snappy.parquet:\n"
     ]
    },
    {
     "name": "stderr",
     "output_type": "stream",
     "text": [
      "                                                                                \r"
     ]
    },
    {
     "name": "stdout",
     "output_type": "stream",
     "text": [
      "Saved gs://my-bigdata-project-cm/aggregated/part-00006-2a2fa3fa-662e-4c8c-8648-b7e4f414b655-c000.snappy.parquet\n",
      "Processing cleaned/yellow_tripdata_2014-01.parquet/part-00007-2a2fa3fa-662e-4c8c-8648-b7e4f414b655-c000.snappy.parquet:\n"
     ]
    },
    {
     "name": "stderr",
     "output_type": "stream",
     "text": [
      "                                                                                \r"
     ]
    },
    {
     "name": "stdout",
     "output_type": "stream",
     "text": [
      "Saved gs://my-bigdata-project-cm/aggregated/part-00007-2a2fa3fa-662e-4c8c-8648-b7e4f414b655-c000.snappy.parquet\n",
      "Processing cleaned/yellow_tripdata_2014-01.parquet/part-00008-2a2fa3fa-662e-4c8c-8648-b7e4f414b655-c000.snappy.parquet:\n"
     ]
    },
    {
     "name": "stderr",
     "output_type": "stream",
     "text": [
      "                                                                                \r"
     ]
    },
    {
     "name": "stdout",
     "output_type": "stream",
     "text": [
      "Saved gs://my-bigdata-project-cm/aggregated/part-00008-2a2fa3fa-662e-4c8c-8648-b7e4f414b655-c000.snappy.parquet\n",
      "Processing cleaned/yellow_tripdata_2014-01.parquet/part-00009-2a2fa3fa-662e-4c8c-8648-b7e4f414b655-c000.snappy.parquet:\n"
     ]
    },
    {
     "name": "stderr",
     "output_type": "stream",
     "text": [
      "                                                                                \r"
     ]
    },
    {
     "name": "stdout",
     "output_type": "stream",
     "text": [
      "Saved gs://my-bigdata-project-cm/aggregated/part-00009-2a2fa3fa-662e-4c8c-8648-b7e4f414b655-c000.snappy.parquet\n",
      "Processing cleaned/yellow_tripdata_2014-01.parquet/part-00010-2a2fa3fa-662e-4c8c-8648-b7e4f414b655-c000.snappy.parquet:\n"
     ]
    },
    {
     "name": "stderr",
     "output_type": "stream",
     "text": [
      "                                                                                \r"
     ]
    },
    {
     "name": "stdout",
     "output_type": "stream",
     "text": [
      "Saved gs://my-bigdata-project-cm/aggregated/part-00010-2a2fa3fa-662e-4c8c-8648-b7e4f414b655-c000.snappy.parquet\n",
      "Processing cleaned/yellow_tripdata_2014-01.parquet/part-00011-2a2fa3fa-662e-4c8c-8648-b7e4f414b655-c000.snappy.parquet:\n"
     ]
    },
    {
     "name": "stderr",
     "output_type": "stream",
     "text": [
      "                                                                                \r"
     ]
    },
    {
     "name": "stdout",
     "output_type": "stream",
     "text": [
      "Saved gs://my-bigdata-project-cm/aggregated/part-00011-2a2fa3fa-662e-4c8c-8648-b7e4f414b655-c000.snappy.parquet\n",
      "Skipping file cleaned/yellow_tripdata_2014-02.parquet/\n",
      "Skipping file cleaned/yellow_tripdata_2014-02.parquet/_SUCCESS\n",
      "Processing cleaned/yellow_tripdata_2014-02.parquet/part-00000-49ffd42b-b41f-4340-870f-d8ce46265907-c000.snappy.parquet:\n"
     ]
    },
    {
     "name": "stderr",
     "output_type": "stream",
     "text": [
      "                                                                                \r"
     ]
    },
    {
     "name": "stdout",
     "output_type": "stream",
     "text": [
      "Saved gs://my-bigdata-project-cm/aggregated/part-00000-49ffd42b-b41f-4340-870f-d8ce46265907-c000.snappy.parquet\n",
      "Processing cleaned/yellow_tripdata_2014-02.parquet/part-00001-49ffd42b-b41f-4340-870f-d8ce46265907-c000.snappy.parquet:\n"
     ]
    },
    {
     "name": "stderr",
     "output_type": "stream",
     "text": [
      "                                                                                \r"
     ]
    },
    {
     "name": "stdout",
     "output_type": "stream",
     "text": [
      "Saved gs://my-bigdata-project-cm/aggregated/part-00001-49ffd42b-b41f-4340-870f-d8ce46265907-c000.snappy.parquet\n",
      "Processing cleaned/yellow_tripdata_2014-02.parquet/part-00002-49ffd42b-b41f-4340-870f-d8ce46265907-c000.snappy.parquet:\n"
     ]
    },
    {
     "name": "stderr",
     "output_type": "stream",
     "text": [
      "                                                                                \r"
     ]
    },
    {
     "name": "stdout",
     "output_type": "stream",
     "text": [
      "Saved gs://my-bigdata-project-cm/aggregated/part-00002-49ffd42b-b41f-4340-870f-d8ce46265907-c000.snappy.parquet\n",
      "Processing cleaned/yellow_tripdata_2014-02.parquet/part-00003-49ffd42b-b41f-4340-870f-d8ce46265907-c000.snappy.parquet:\n"
     ]
    },
    {
     "name": "stderr",
     "output_type": "stream",
     "text": [
      "                                                                                \r"
     ]
    },
    {
     "name": "stdout",
     "output_type": "stream",
     "text": [
      "Saved gs://my-bigdata-project-cm/aggregated/part-00003-49ffd42b-b41f-4340-870f-d8ce46265907-c000.snappy.parquet\n",
      "Processing cleaned/yellow_tripdata_2014-02.parquet/part-00004-49ffd42b-b41f-4340-870f-d8ce46265907-c000.snappy.parquet:\n"
     ]
    },
    {
     "name": "stderr",
     "output_type": "stream",
     "text": [
      "                                                                                \r"
     ]
    },
    {
     "name": "stdout",
     "output_type": "stream",
     "text": [
      "Saved gs://my-bigdata-project-cm/aggregated/part-00004-49ffd42b-b41f-4340-870f-d8ce46265907-c000.snappy.parquet\n",
      "Processing cleaned/yellow_tripdata_2014-02.parquet/part-00005-49ffd42b-b41f-4340-870f-d8ce46265907-c000.snappy.parquet:\n"
     ]
    },
    {
     "name": "stderr",
     "output_type": "stream",
     "text": [
      "                                                                                \r"
     ]
    },
    {
     "name": "stdout",
     "output_type": "stream",
     "text": [
      "Saved gs://my-bigdata-project-cm/aggregated/part-00005-49ffd42b-b41f-4340-870f-d8ce46265907-c000.snappy.parquet\n",
      "Processing cleaned/yellow_tripdata_2014-02.parquet/part-00006-49ffd42b-b41f-4340-870f-d8ce46265907-c000.snappy.parquet:\n"
     ]
    },
    {
     "name": "stderr",
     "output_type": "stream",
     "text": [
      "                                                                                \r"
     ]
    },
    {
     "name": "stdout",
     "output_type": "stream",
     "text": [
      "Saved gs://my-bigdata-project-cm/aggregated/part-00006-49ffd42b-b41f-4340-870f-d8ce46265907-c000.snappy.parquet\n",
      "Processing cleaned/yellow_tripdata_2014-02.parquet/part-00007-49ffd42b-b41f-4340-870f-d8ce46265907-c000.snappy.parquet:\n"
     ]
    },
    {
     "name": "stderr",
     "output_type": "stream",
     "text": [
      "                                                                                \r"
     ]
    },
    {
     "name": "stdout",
     "output_type": "stream",
     "text": [
      "Saved gs://my-bigdata-project-cm/aggregated/part-00007-49ffd42b-b41f-4340-870f-d8ce46265907-c000.snappy.parquet\n",
      "Processing cleaned/yellow_tripdata_2014-02.parquet/part-00008-49ffd42b-b41f-4340-870f-d8ce46265907-c000.snappy.parquet:\n"
     ]
    },
    {
     "name": "stderr",
     "output_type": "stream",
     "text": [
      "                                                                                \r"
     ]
    },
    {
     "name": "stdout",
     "output_type": "stream",
     "text": [
      "Saved gs://my-bigdata-project-cm/aggregated/part-00008-49ffd42b-b41f-4340-870f-d8ce46265907-c000.snappy.parquet\n",
      "Processing cleaned/yellow_tripdata_2014-02.parquet/part-00009-49ffd42b-b41f-4340-870f-d8ce46265907-c000.snappy.parquet:\n"
     ]
    },
    {
     "name": "stderr",
     "output_type": "stream",
     "text": [
      "                                                                                \r"
     ]
    },
    {
     "name": "stdout",
     "output_type": "stream",
     "text": [
      "Saved gs://my-bigdata-project-cm/aggregated/part-00009-49ffd42b-b41f-4340-870f-d8ce46265907-c000.snappy.parquet\n",
      "Processing cleaned/yellow_tripdata_2014-02.parquet/part-00010-49ffd42b-b41f-4340-870f-d8ce46265907-c000.snappy.parquet:\n"
     ]
    },
    {
     "name": "stderr",
     "output_type": "stream",
     "text": [
      "                                                                                \r"
     ]
    },
    {
     "name": "stdout",
     "output_type": "stream",
     "text": [
      "Saved gs://my-bigdata-project-cm/aggregated/part-00010-49ffd42b-b41f-4340-870f-d8ce46265907-c000.snappy.parquet\n",
      "Skipping file cleaned/yellow_tripdata_2014-03.parquet/\n",
      "Skipping file cleaned/yellow_tripdata_2014-03.parquet/_SUCCESS\n",
      "Processing cleaned/yellow_tripdata_2014-03.parquet/part-00000-4664a6bd-4638-40f0-a5c9-6e79c1d98578-c000.snappy.parquet:\n"
     ]
    },
    {
     "name": "stderr",
     "output_type": "stream",
     "text": [
      "                                                                                \r"
     ]
    },
    {
     "name": "stdout",
     "output_type": "stream",
     "text": [
      "Saved gs://my-bigdata-project-cm/aggregated/part-00000-4664a6bd-4638-40f0-a5c9-6e79c1d98578-c000.snappy.parquet\n",
      "Processing cleaned/yellow_tripdata_2014-03.parquet/part-00001-4664a6bd-4638-40f0-a5c9-6e79c1d98578-c000.snappy.parquet:\n"
     ]
    },
    {
     "name": "stderr",
     "output_type": "stream",
     "text": [
      "                                                                                \r"
     ]
    },
    {
     "name": "stdout",
     "output_type": "stream",
     "text": [
      "Saved gs://my-bigdata-project-cm/aggregated/part-00001-4664a6bd-4638-40f0-a5c9-6e79c1d98578-c000.snappy.parquet\n",
      "Processing cleaned/yellow_tripdata_2014-03.parquet/part-00002-4664a6bd-4638-40f0-a5c9-6e79c1d98578-c000.snappy.parquet:\n"
     ]
    },
    {
     "name": "stderr",
     "output_type": "stream",
     "text": [
      "                                                                                \r"
     ]
    },
    {
     "name": "stdout",
     "output_type": "stream",
     "text": [
      "Saved gs://my-bigdata-project-cm/aggregated/part-00002-4664a6bd-4638-40f0-a5c9-6e79c1d98578-c000.snappy.parquet\n",
      "Processing cleaned/yellow_tripdata_2014-03.parquet/part-00003-4664a6bd-4638-40f0-a5c9-6e79c1d98578-c000.snappy.parquet:\n"
     ]
    },
    {
     "name": "stderr",
     "output_type": "stream",
     "text": [
      "                                                                                \r"
     ]
    },
    {
     "name": "stdout",
     "output_type": "stream",
     "text": [
      "Saved gs://my-bigdata-project-cm/aggregated/part-00003-4664a6bd-4638-40f0-a5c9-6e79c1d98578-c000.snappy.parquet\n",
      "Processing cleaned/yellow_tripdata_2014-03.parquet/part-00004-4664a6bd-4638-40f0-a5c9-6e79c1d98578-c000.snappy.parquet:\n"
     ]
    },
    {
     "name": "stderr",
     "output_type": "stream",
     "text": [
      "                                                                                \r"
     ]
    },
    {
     "name": "stdout",
     "output_type": "stream",
     "text": [
      "Saved gs://my-bigdata-project-cm/aggregated/part-00004-4664a6bd-4638-40f0-a5c9-6e79c1d98578-c000.snappy.parquet\n",
      "Processing cleaned/yellow_tripdata_2014-03.parquet/part-00005-4664a6bd-4638-40f0-a5c9-6e79c1d98578-c000.snappy.parquet:\n"
     ]
    },
    {
     "name": "stderr",
     "output_type": "stream",
     "text": [
      "                                                                                \r"
     ]
    },
    {
     "name": "stdout",
     "output_type": "stream",
     "text": [
      "Saved gs://my-bigdata-project-cm/aggregated/part-00005-4664a6bd-4638-40f0-a5c9-6e79c1d98578-c000.snappy.parquet\n",
      "Processing cleaned/yellow_tripdata_2014-03.parquet/part-00006-4664a6bd-4638-40f0-a5c9-6e79c1d98578-c000.snappy.parquet:\n"
     ]
    },
    {
     "name": "stderr",
     "output_type": "stream",
     "text": [
      "                                                                                \r"
     ]
    },
    {
     "name": "stdout",
     "output_type": "stream",
     "text": [
      "Saved gs://my-bigdata-project-cm/aggregated/part-00006-4664a6bd-4638-40f0-a5c9-6e79c1d98578-c000.snappy.parquet\n",
      "Processing cleaned/yellow_tripdata_2014-03.parquet/part-00007-4664a6bd-4638-40f0-a5c9-6e79c1d98578-c000.snappy.parquet:\n"
     ]
    },
    {
     "name": "stderr",
     "output_type": "stream",
     "text": [
      "                                                                                \r"
     ]
    },
    {
     "name": "stdout",
     "output_type": "stream",
     "text": [
      "Saved gs://my-bigdata-project-cm/aggregated/part-00007-4664a6bd-4638-40f0-a5c9-6e79c1d98578-c000.snappy.parquet\n",
      "Processing cleaned/yellow_tripdata_2014-03.parquet/part-00008-4664a6bd-4638-40f0-a5c9-6e79c1d98578-c000.snappy.parquet:\n"
     ]
    },
    {
     "name": "stderr",
     "output_type": "stream",
     "text": [
      "                                                                                \r"
     ]
    },
    {
     "name": "stdout",
     "output_type": "stream",
     "text": [
      "Saved gs://my-bigdata-project-cm/aggregated/part-00008-4664a6bd-4638-40f0-a5c9-6e79c1d98578-c000.snappy.parquet\n",
      "Processing cleaned/yellow_tripdata_2014-03.parquet/part-00009-4664a6bd-4638-40f0-a5c9-6e79c1d98578-c000.snappy.parquet:\n"
     ]
    },
    {
     "name": "stderr",
     "output_type": "stream",
     "text": [
      "                                                                                \r"
     ]
    },
    {
     "name": "stdout",
     "output_type": "stream",
     "text": [
      "Saved gs://my-bigdata-project-cm/aggregated/part-00009-4664a6bd-4638-40f0-a5c9-6e79c1d98578-c000.snappy.parquet\n",
      "Processing cleaned/yellow_tripdata_2014-03.parquet/part-00010-4664a6bd-4638-40f0-a5c9-6e79c1d98578-c000.snappy.parquet:\n"
     ]
    },
    {
     "name": "stderr",
     "output_type": "stream",
     "text": [
      "                                                                                \r"
     ]
    },
    {
     "name": "stdout",
     "output_type": "stream",
     "text": [
      "Saved gs://my-bigdata-project-cm/aggregated/part-00010-4664a6bd-4638-40f0-a5c9-6e79c1d98578-c000.snappy.parquet\n",
      "Processing cleaned/yellow_tripdata_2014-03.parquet/part-00011-4664a6bd-4638-40f0-a5c9-6e79c1d98578-c000.snappy.parquet:\n"
     ]
    },
    {
     "name": "stderr",
     "output_type": "stream",
     "text": [
      "                                                                                \r"
     ]
    },
    {
     "name": "stdout",
     "output_type": "stream",
     "text": [
      "Saved gs://my-bigdata-project-cm/aggregated/part-00011-4664a6bd-4638-40f0-a5c9-6e79c1d98578-c000.snappy.parquet\n",
      "Processing cleaned/yellow_tripdata_2014-03.parquet/part-00012-4664a6bd-4638-40f0-a5c9-6e79c1d98578-c000.snappy.parquet:\n"
     ]
    },
    {
     "name": "stderr",
     "output_type": "stream",
     "text": [
      "                                                                                \r"
     ]
    },
    {
     "name": "stdout",
     "output_type": "stream",
     "text": [
      "Saved gs://my-bigdata-project-cm/aggregated/part-00012-4664a6bd-4638-40f0-a5c9-6e79c1d98578-c000.snappy.parquet\n",
      "Skipping file cleaned/yellow_tripdata_2014-04.parquet/\n",
      "Skipping file cleaned/yellow_tripdata_2014-04.parquet/_SUCCESS\n",
      "Processing cleaned/yellow_tripdata_2014-04.parquet/part-00000-2994a90d-9897-4efc-9671-068aef1df095-c000.snappy.parquet:\n"
     ]
    },
    {
     "name": "stderr",
     "output_type": "stream",
     "text": [
      "                                                                                \r"
     ]
    },
    {
     "name": "stdout",
     "output_type": "stream",
     "text": [
      "Saved gs://my-bigdata-project-cm/aggregated/part-00000-2994a90d-9897-4efc-9671-068aef1df095-c000.snappy.parquet\n",
      "Processing cleaned/yellow_tripdata_2014-04.parquet/part-00001-2994a90d-9897-4efc-9671-068aef1df095-c000.snappy.parquet:\n"
     ]
    },
    {
     "name": "stderr",
     "output_type": "stream",
     "text": [
      "                                                                                \r"
     ]
    },
    {
     "name": "stdout",
     "output_type": "stream",
     "text": [
      "Saved gs://my-bigdata-project-cm/aggregated/part-00001-2994a90d-9897-4efc-9671-068aef1df095-c000.snappy.parquet\n",
      "Processing cleaned/yellow_tripdata_2014-04.parquet/part-00002-2994a90d-9897-4efc-9671-068aef1df095-c000.snappy.parquet:\n"
     ]
    },
    {
     "name": "stderr",
     "output_type": "stream",
     "text": [
      "                                                                                \r"
     ]
    },
    {
     "name": "stdout",
     "output_type": "stream",
     "text": [
      "Saved gs://my-bigdata-project-cm/aggregated/part-00002-2994a90d-9897-4efc-9671-068aef1df095-c000.snappy.parquet\n",
      "Processing cleaned/yellow_tripdata_2014-04.parquet/part-00003-2994a90d-9897-4efc-9671-068aef1df095-c000.snappy.parquet:\n"
     ]
    },
    {
     "name": "stderr",
     "output_type": "stream",
     "text": [
      "                                                                                \r"
     ]
    },
    {
     "name": "stdout",
     "output_type": "stream",
     "text": [
      "Saved gs://my-bigdata-project-cm/aggregated/part-00003-2994a90d-9897-4efc-9671-068aef1df095-c000.snappy.parquet\n",
      "Processing cleaned/yellow_tripdata_2014-04.parquet/part-00004-2994a90d-9897-4efc-9671-068aef1df095-c000.snappy.parquet:\n"
     ]
    },
    {
     "name": "stderr",
     "output_type": "stream",
     "text": [
      "                                                                                \r"
     ]
    },
    {
     "name": "stdout",
     "output_type": "stream",
     "text": [
      "Saved gs://my-bigdata-project-cm/aggregated/part-00004-2994a90d-9897-4efc-9671-068aef1df095-c000.snappy.parquet\n",
      "Processing cleaned/yellow_tripdata_2014-04.parquet/part-00005-2994a90d-9897-4efc-9671-068aef1df095-c000.snappy.parquet:\n"
     ]
    },
    {
     "name": "stderr",
     "output_type": "stream",
     "text": [
      "                                                                                \r"
     ]
    },
    {
     "name": "stdout",
     "output_type": "stream",
     "text": [
      "Saved gs://my-bigdata-project-cm/aggregated/part-00005-2994a90d-9897-4efc-9671-068aef1df095-c000.snappy.parquet\n",
      "Processing cleaned/yellow_tripdata_2014-04.parquet/part-00006-2994a90d-9897-4efc-9671-068aef1df095-c000.snappy.parquet:\n"
     ]
    },
    {
     "name": "stderr",
     "output_type": "stream",
     "text": [
      "                                                                                \r"
     ]
    },
    {
     "name": "stdout",
     "output_type": "stream",
     "text": [
      "Saved gs://my-bigdata-project-cm/aggregated/part-00006-2994a90d-9897-4efc-9671-068aef1df095-c000.snappy.parquet\n",
      "Processing cleaned/yellow_tripdata_2014-04.parquet/part-00007-2994a90d-9897-4efc-9671-068aef1df095-c000.snappy.parquet:\n"
     ]
    },
    {
     "name": "stderr",
     "output_type": "stream",
     "text": [
      "                                                                                \r"
     ]
    },
    {
     "name": "stdout",
     "output_type": "stream",
     "text": [
      "Saved gs://my-bigdata-project-cm/aggregated/part-00007-2994a90d-9897-4efc-9671-068aef1df095-c000.snappy.parquet\n",
      "Processing cleaned/yellow_tripdata_2014-04.parquet/part-00008-2994a90d-9897-4efc-9671-068aef1df095-c000.snappy.parquet:\n"
     ]
    },
    {
     "name": "stderr",
     "output_type": "stream",
     "text": [
      "                                                                                \r"
     ]
    },
    {
     "name": "stdout",
     "output_type": "stream",
     "text": [
      "Saved gs://my-bigdata-project-cm/aggregated/part-00008-2994a90d-9897-4efc-9671-068aef1df095-c000.snappy.parquet\n",
      "Processing cleaned/yellow_tripdata_2014-04.parquet/part-00009-2994a90d-9897-4efc-9671-068aef1df095-c000.snappy.parquet:\n"
     ]
    },
    {
     "name": "stderr",
     "output_type": "stream",
     "text": [
      "                                                                                \r"
     ]
    },
    {
     "name": "stdout",
     "output_type": "stream",
     "text": [
      "Saved gs://my-bigdata-project-cm/aggregated/part-00009-2994a90d-9897-4efc-9671-068aef1df095-c000.snappy.parquet\n",
      "Processing cleaned/yellow_tripdata_2014-04.parquet/part-00010-2994a90d-9897-4efc-9671-068aef1df095-c000.snappy.parquet:\n"
     ]
    },
    {
     "name": "stderr",
     "output_type": "stream",
     "text": [
      "                                                                                \r"
     ]
    },
    {
     "name": "stdout",
     "output_type": "stream",
     "text": [
      "Saved gs://my-bigdata-project-cm/aggregated/part-00010-2994a90d-9897-4efc-9671-068aef1df095-c000.snappy.parquet\n",
      "Processing cleaned/yellow_tripdata_2014-04.parquet/part-00011-2994a90d-9897-4efc-9671-068aef1df095-c000.snappy.parquet:\n"
     ]
    },
    {
     "name": "stderr",
     "output_type": "stream",
     "text": [
      "                                                                                \r"
     ]
    },
    {
     "name": "stdout",
     "output_type": "stream",
     "text": [
      "Saved gs://my-bigdata-project-cm/aggregated/part-00011-2994a90d-9897-4efc-9671-068aef1df095-c000.snappy.parquet\n",
      "Skipping file cleaned/yellow_tripdata_2014-05.parquet/\n",
      "Skipping file cleaned/yellow_tripdata_2014-05.parquet/_SUCCESS\n",
      "Processing cleaned/yellow_tripdata_2014-05.parquet/part-00000-13d04103-94f8-4e3f-a85a-952426676084-c000.snappy.parquet:\n"
     ]
    },
    {
     "name": "stderr",
     "output_type": "stream",
     "text": [
      "                                                                                \r"
     ]
    },
    {
     "name": "stdout",
     "output_type": "stream",
     "text": [
      "Saved gs://my-bigdata-project-cm/aggregated/part-00000-13d04103-94f8-4e3f-a85a-952426676084-c000.snappy.parquet\n",
      "Processing cleaned/yellow_tripdata_2014-05.parquet/part-00001-13d04103-94f8-4e3f-a85a-952426676084-c000.snappy.parquet:\n"
     ]
    },
    {
     "name": "stderr",
     "output_type": "stream",
     "text": [
      "                                                                                \r"
     ]
    },
    {
     "name": "stdout",
     "output_type": "stream",
     "text": [
      "Saved gs://my-bigdata-project-cm/aggregated/part-00001-13d04103-94f8-4e3f-a85a-952426676084-c000.snappy.parquet\n",
      "Processing cleaned/yellow_tripdata_2014-05.parquet/part-00002-13d04103-94f8-4e3f-a85a-952426676084-c000.snappy.parquet:\n"
     ]
    },
    {
     "name": "stderr",
     "output_type": "stream",
     "text": [
      "                                                                                \r"
     ]
    },
    {
     "name": "stdout",
     "output_type": "stream",
     "text": [
      "Saved gs://my-bigdata-project-cm/aggregated/part-00002-13d04103-94f8-4e3f-a85a-952426676084-c000.snappy.parquet\n",
      "Processing cleaned/yellow_tripdata_2014-05.parquet/part-00003-13d04103-94f8-4e3f-a85a-952426676084-c000.snappy.parquet:\n"
     ]
    },
    {
     "name": "stderr",
     "output_type": "stream",
     "text": [
      "                                                                                \r"
     ]
    },
    {
     "name": "stdout",
     "output_type": "stream",
     "text": [
      "Saved gs://my-bigdata-project-cm/aggregated/part-00003-13d04103-94f8-4e3f-a85a-952426676084-c000.snappy.parquet\n",
      "Processing cleaned/yellow_tripdata_2014-05.parquet/part-00004-13d04103-94f8-4e3f-a85a-952426676084-c000.snappy.parquet:\n"
     ]
    },
    {
     "name": "stderr",
     "output_type": "stream",
     "text": [
      "                                                                                \r"
     ]
    },
    {
     "name": "stdout",
     "output_type": "stream",
     "text": [
      "Saved gs://my-bigdata-project-cm/aggregated/part-00004-13d04103-94f8-4e3f-a85a-952426676084-c000.snappy.parquet\n",
      "Processing cleaned/yellow_tripdata_2014-05.parquet/part-00005-13d04103-94f8-4e3f-a85a-952426676084-c000.snappy.parquet:\n"
     ]
    },
    {
     "name": "stderr",
     "output_type": "stream",
     "text": [
      "                                                                                \r"
     ]
    },
    {
     "name": "stdout",
     "output_type": "stream",
     "text": [
      "Saved gs://my-bigdata-project-cm/aggregated/part-00005-13d04103-94f8-4e3f-a85a-952426676084-c000.snappy.parquet\n",
      "Processing cleaned/yellow_tripdata_2014-05.parquet/part-00006-13d04103-94f8-4e3f-a85a-952426676084-c000.snappy.parquet:\n"
     ]
    },
    {
     "name": "stderr",
     "output_type": "stream",
     "text": [
      "                                                                                \r"
     ]
    },
    {
     "name": "stdout",
     "output_type": "stream",
     "text": [
      "Saved gs://my-bigdata-project-cm/aggregated/part-00006-13d04103-94f8-4e3f-a85a-952426676084-c000.snappy.parquet\n",
      "Processing cleaned/yellow_tripdata_2014-05.parquet/part-00007-13d04103-94f8-4e3f-a85a-952426676084-c000.snappy.parquet:\n"
     ]
    },
    {
     "name": "stderr",
     "output_type": "stream",
     "text": [
      "                                                                                \r"
     ]
    },
    {
     "name": "stdout",
     "output_type": "stream",
     "text": [
      "Saved gs://my-bigdata-project-cm/aggregated/part-00007-13d04103-94f8-4e3f-a85a-952426676084-c000.snappy.parquet\n",
      "Processing cleaned/yellow_tripdata_2014-05.parquet/part-00008-13d04103-94f8-4e3f-a85a-952426676084-c000.snappy.parquet:\n"
     ]
    },
    {
     "name": "stderr",
     "output_type": "stream",
     "text": [
      "                                                                                \r"
     ]
    },
    {
     "name": "stdout",
     "output_type": "stream",
     "text": [
      "Saved gs://my-bigdata-project-cm/aggregated/part-00008-13d04103-94f8-4e3f-a85a-952426676084-c000.snappy.parquet\n",
      "Processing cleaned/yellow_tripdata_2014-05.parquet/part-00009-13d04103-94f8-4e3f-a85a-952426676084-c000.snappy.parquet:\n"
     ]
    },
    {
     "name": "stderr",
     "output_type": "stream",
     "text": [
      "                                                                                \r"
     ]
    },
    {
     "name": "stdout",
     "output_type": "stream",
     "text": [
      "Saved gs://my-bigdata-project-cm/aggregated/part-00009-13d04103-94f8-4e3f-a85a-952426676084-c000.snappy.parquet\n",
      "Processing cleaned/yellow_tripdata_2014-05.parquet/part-00010-13d04103-94f8-4e3f-a85a-952426676084-c000.snappy.parquet:\n"
     ]
    },
    {
     "name": "stderr",
     "output_type": "stream",
     "text": [
      "                                                                                \r"
     ]
    },
    {
     "name": "stdout",
     "output_type": "stream",
     "text": [
      "Saved gs://my-bigdata-project-cm/aggregated/part-00010-13d04103-94f8-4e3f-a85a-952426676084-c000.snappy.parquet\n",
      "Processing cleaned/yellow_tripdata_2014-05.parquet/part-00011-13d04103-94f8-4e3f-a85a-952426676084-c000.snappy.parquet:\n"
     ]
    },
    {
     "name": "stderr",
     "output_type": "stream",
     "text": [
      "                                                                                \r"
     ]
    },
    {
     "name": "stdout",
     "output_type": "stream",
     "text": [
      "Saved gs://my-bigdata-project-cm/aggregated/part-00011-13d04103-94f8-4e3f-a85a-952426676084-c000.snappy.parquet\n",
      "Skipping file cleaned/yellow_tripdata_2014-06.parquet/\n",
      "Skipping file cleaned/yellow_tripdata_2014-06.parquet/_SUCCESS\n",
      "Processing cleaned/yellow_tripdata_2014-06.parquet/part-00000-4ff228a3-5f19-4ea5-8da8-b6b8a0950151-c000.snappy.parquet:\n"
     ]
    },
    {
     "name": "stderr",
     "output_type": "stream",
     "text": [
      "                                                                                \r"
     ]
    },
    {
     "name": "stdout",
     "output_type": "stream",
     "text": [
      "Saved gs://my-bigdata-project-cm/aggregated/part-00000-4ff228a3-5f19-4ea5-8da8-b6b8a0950151-c000.snappy.parquet\n",
      "Processing cleaned/yellow_tripdata_2014-06.parquet/part-00001-4ff228a3-5f19-4ea5-8da8-b6b8a0950151-c000.snappy.parquet:\n"
     ]
    },
    {
     "name": "stderr",
     "output_type": "stream",
     "text": [
      "                                                                                \r"
     ]
    },
    {
     "name": "stdout",
     "output_type": "stream",
     "text": [
      "Saved gs://my-bigdata-project-cm/aggregated/part-00001-4ff228a3-5f19-4ea5-8da8-b6b8a0950151-c000.snappy.parquet\n",
      "Processing cleaned/yellow_tripdata_2014-06.parquet/part-00002-4ff228a3-5f19-4ea5-8da8-b6b8a0950151-c000.snappy.parquet:\n"
     ]
    },
    {
     "name": "stderr",
     "output_type": "stream",
     "text": [
      "                                                                                \r"
     ]
    },
    {
     "name": "stdout",
     "output_type": "stream",
     "text": [
      "Saved gs://my-bigdata-project-cm/aggregated/part-00002-4ff228a3-5f19-4ea5-8da8-b6b8a0950151-c000.snappy.parquet\n",
      "Processing cleaned/yellow_tripdata_2014-06.parquet/part-00003-4ff228a3-5f19-4ea5-8da8-b6b8a0950151-c000.snappy.parquet:\n"
     ]
    },
    {
     "name": "stderr",
     "output_type": "stream",
     "text": [
      "                                                                                \r"
     ]
    },
    {
     "name": "stdout",
     "output_type": "stream",
     "text": [
      "Saved gs://my-bigdata-project-cm/aggregated/part-00003-4ff228a3-5f19-4ea5-8da8-b6b8a0950151-c000.snappy.parquet\n",
      "Processing cleaned/yellow_tripdata_2014-06.parquet/part-00004-4ff228a3-5f19-4ea5-8da8-b6b8a0950151-c000.snappy.parquet:\n"
     ]
    },
    {
     "name": "stderr",
     "output_type": "stream",
     "text": [
      "                                                                                \r"
     ]
    },
    {
     "name": "stdout",
     "output_type": "stream",
     "text": [
      "Saved gs://my-bigdata-project-cm/aggregated/part-00004-4ff228a3-5f19-4ea5-8da8-b6b8a0950151-c000.snappy.parquet\n",
      "Processing cleaned/yellow_tripdata_2014-06.parquet/part-00005-4ff228a3-5f19-4ea5-8da8-b6b8a0950151-c000.snappy.parquet:\n"
     ]
    },
    {
     "name": "stderr",
     "output_type": "stream",
     "text": [
      "                                                                                \r"
     ]
    },
    {
     "name": "stdout",
     "output_type": "stream",
     "text": [
      "Saved gs://my-bigdata-project-cm/aggregated/part-00005-4ff228a3-5f19-4ea5-8da8-b6b8a0950151-c000.snappy.parquet\n",
      "Processing cleaned/yellow_tripdata_2014-06.parquet/part-00006-4ff228a3-5f19-4ea5-8da8-b6b8a0950151-c000.snappy.parquet:\n"
     ]
    },
    {
     "name": "stderr",
     "output_type": "stream",
     "text": [
      "                                                                                \r"
     ]
    },
    {
     "name": "stdout",
     "output_type": "stream",
     "text": [
      "Saved gs://my-bigdata-project-cm/aggregated/part-00006-4ff228a3-5f19-4ea5-8da8-b6b8a0950151-c000.snappy.parquet\n",
      "Processing cleaned/yellow_tripdata_2014-06.parquet/part-00007-4ff228a3-5f19-4ea5-8da8-b6b8a0950151-c000.snappy.parquet:\n"
     ]
    },
    {
     "name": "stderr",
     "output_type": "stream",
     "text": [
      "                                                                                \r"
     ]
    },
    {
     "name": "stdout",
     "output_type": "stream",
     "text": [
      "Saved gs://my-bigdata-project-cm/aggregated/part-00007-4ff228a3-5f19-4ea5-8da8-b6b8a0950151-c000.snappy.parquet\n",
      "Processing cleaned/yellow_tripdata_2014-06.parquet/part-00008-4ff228a3-5f19-4ea5-8da8-b6b8a0950151-c000.snappy.parquet:\n"
     ]
    },
    {
     "name": "stderr",
     "output_type": "stream",
     "text": [
      "                                                                                \r"
     ]
    },
    {
     "name": "stdout",
     "output_type": "stream",
     "text": [
      "Saved gs://my-bigdata-project-cm/aggregated/part-00008-4ff228a3-5f19-4ea5-8da8-b6b8a0950151-c000.snappy.parquet\n",
      "Processing cleaned/yellow_tripdata_2014-06.parquet/part-00009-4ff228a3-5f19-4ea5-8da8-b6b8a0950151-c000.snappy.parquet:\n"
     ]
    },
    {
     "name": "stderr",
     "output_type": "stream",
     "text": [
      "                                                                                \r"
     ]
    },
    {
     "name": "stdout",
     "output_type": "stream",
     "text": [
      "Saved gs://my-bigdata-project-cm/aggregated/part-00009-4ff228a3-5f19-4ea5-8da8-b6b8a0950151-c000.snappy.parquet\n",
      "Processing cleaned/yellow_tripdata_2014-06.parquet/part-00010-4ff228a3-5f19-4ea5-8da8-b6b8a0950151-c000.snappy.parquet:\n"
     ]
    },
    {
     "name": "stderr",
     "output_type": "stream",
     "text": [
      "                                                                                \r"
     ]
    },
    {
     "name": "stdout",
     "output_type": "stream",
     "text": [
      "Saved gs://my-bigdata-project-cm/aggregated/part-00010-4ff228a3-5f19-4ea5-8da8-b6b8a0950151-c000.snappy.parquet\n",
      "Processing cleaned/yellow_tripdata_2014-06.parquet/part-00011-4ff228a3-5f19-4ea5-8da8-b6b8a0950151-c000.snappy.parquet:\n"
     ]
    },
    {
     "name": "stderr",
     "output_type": "stream",
     "text": [
      "                                                                                \r"
     ]
    },
    {
     "name": "stdout",
     "output_type": "stream",
     "text": [
      "Saved gs://my-bigdata-project-cm/aggregated/part-00011-4ff228a3-5f19-4ea5-8da8-b6b8a0950151-c000.snappy.parquet\n",
      "Skipping file cleaned/yellow_tripdata_2014-07.parquet/\n",
      "Skipping file cleaned/yellow_tripdata_2014-07.parquet/_SUCCESS\n",
      "Processing cleaned/yellow_tripdata_2014-07.parquet/part-00000-2cc84101-b6a1-42f3-9547-5bd604c32c09-c000.snappy.parquet:\n"
     ]
    },
    {
     "name": "stderr",
     "output_type": "stream",
     "text": [
      "                                                                                \r"
     ]
    },
    {
     "name": "stdout",
     "output_type": "stream",
     "text": [
      "Saved gs://my-bigdata-project-cm/aggregated/part-00000-2cc84101-b6a1-42f3-9547-5bd604c32c09-c000.snappy.parquet\n",
      "Processing cleaned/yellow_tripdata_2014-07.parquet/part-00001-2cc84101-b6a1-42f3-9547-5bd604c32c09-c000.snappy.parquet:\n"
     ]
    },
    {
     "name": "stderr",
     "output_type": "stream",
     "text": [
      "                                                                                \r"
     ]
    },
    {
     "name": "stdout",
     "output_type": "stream",
     "text": [
      "Saved gs://my-bigdata-project-cm/aggregated/part-00001-2cc84101-b6a1-42f3-9547-5bd604c32c09-c000.snappy.parquet\n",
      "Processing cleaned/yellow_tripdata_2014-07.parquet/part-00002-2cc84101-b6a1-42f3-9547-5bd604c32c09-c000.snappy.parquet:\n"
     ]
    },
    {
     "name": "stderr",
     "output_type": "stream",
     "text": [
      "                                                                                \r"
     ]
    },
    {
     "name": "stdout",
     "output_type": "stream",
     "text": [
      "Saved gs://my-bigdata-project-cm/aggregated/part-00002-2cc84101-b6a1-42f3-9547-5bd604c32c09-c000.snappy.parquet\n",
      "Processing cleaned/yellow_tripdata_2014-07.parquet/part-00003-2cc84101-b6a1-42f3-9547-5bd604c32c09-c000.snappy.parquet:\n"
     ]
    },
    {
     "name": "stderr",
     "output_type": "stream",
     "text": [
      "                                                                                \r"
     ]
    },
    {
     "name": "stdout",
     "output_type": "stream",
     "text": [
      "Saved gs://my-bigdata-project-cm/aggregated/part-00003-2cc84101-b6a1-42f3-9547-5bd604c32c09-c000.snappy.parquet\n",
      "Processing cleaned/yellow_tripdata_2014-07.parquet/part-00004-2cc84101-b6a1-42f3-9547-5bd604c32c09-c000.snappy.parquet:\n"
     ]
    },
    {
     "name": "stderr",
     "output_type": "stream",
     "text": [
      "                                                                                \r"
     ]
    },
    {
     "name": "stdout",
     "output_type": "stream",
     "text": [
      "Saved gs://my-bigdata-project-cm/aggregated/part-00004-2cc84101-b6a1-42f3-9547-5bd604c32c09-c000.snappy.parquet\n",
      "Processing cleaned/yellow_tripdata_2014-07.parquet/part-00005-2cc84101-b6a1-42f3-9547-5bd604c32c09-c000.snappy.parquet:\n"
     ]
    },
    {
     "name": "stderr",
     "output_type": "stream",
     "text": [
      "                                                                                \r"
     ]
    },
    {
     "name": "stdout",
     "output_type": "stream",
     "text": [
      "Saved gs://my-bigdata-project-cm/aggregated/part-00005-2cc84101-b6a1-42f3-9547-5bd604c32c09-c000.snappy.parquet\n",
      "Processing cleaned/yellow_tripdata_2014-07.parquet/part-00006-2cc84101-b6a1-42f3-9547-5bd604c32c09-c000.snappy.parquet:\n"
     ]
    },
    {
     "name": "stderr",
     "output_type": "stream",
     "text": [
      "                                                                                \r"
     ]
    },
    {
     "name": "stdout",
     "output_type": "stream",
     "text": [
      "Saved gs://my-bigdata-project-cm/aggregated/part-00006-2cc84101-b6a1-42f3-9547-5bd604c32c09-c000.snappy.parquet\n",
      "Processing cleaned/yellow_tripdata_2014-07.parquet/part-00007-2cc84101-b6a1-42f3-9547-5bd604c32c09-c000.snappy.parquet:\n"
     ]
    },
    {
     "name": "stderr",
     "output_type": "stream",
     "text": [
      "                                                                                \r"
     ]
    },
    {
     "name": "stdout",
     "output_type": "stream",
     "text": [
      "Saved gs://my-bigdata-project-cm/aggregated/part-00007-2cc84101-b6a1-42f3-9547-5bd604c32c09-c000.snappy.parquet\n",
      "Processing cleaned/yellow_tripdata_2014-07.parquet/part-00008-2cc84101-b6a1-42f3-9547-5bd604c32c09-c000.snappy.parquet:\n"
     ]
    },
    {
     "name": "stderr",
     "output_type": "stream",
     "text": [
      "                                                                                \r"
     ]
    },
    {
     "name": "stdout",
     "output_type": "stream",
     "text": [
      "Saved gs://my-bigdata-project-cm/aggregated/part-00008-2cc84101-b6a1-42f3-9547-5bd604c32c09-c000.snappy.parquet\n",
      "Processing cleaned/yellow_tripdata_2014-07.parquet/part-00009-2cc84101-b6a1-42f3-9547-5bd604c32c09-c000.snappy.parquet:\n"
     ]
    },
    {
     "name": "stderr",
     "output_type": "stream",
     "text": [
      "                                                                                \r"
     ]
    },
    {
     "name": "stdout",
     "output_type": "stream",
     "text": [
      "Saved gs://my-bigdata-project-cm/aggregated/part-00009-2cc84101-b6a1-42f3-9547-5bd604c32c09-c000.snappy.parquet\n",
      "Processing cleaned/yellow_tripdata_2014-07.parquet/part-00010-2cc84101-b6a1-42f3-9547-5bd604c32c09-c000.snappy.parquet:\n"
     ]
    },
    {
     "name": "stderr",
     "output_type": "stream",
     "text": [
      "                                                                                \r"
     ]
    },
    {
     "name": "stdout",
     "output_type": "stream",
     "text": [
      "Saved gs://my-bigdata-project-cm/aggregated/part-00010-2cc84101-b6a1-42f3-9547-5bd604c32c09-c000.snappy.parquet\n",
      "Skipping file cleaned/yellow_tripdata_2014-08.parquet/\n",
      "Skipping file cleaned/yellow_tripdata_2014-08.parquet/_SUCCESS\n",
      "Processing cleaned/yellow_tripdata_2014-08.parquet/part-00000-345a4018-f42b-4923-ae0a-9913972b202a-c000.snappy.parquet:\n",
      "An error occurred on cleaned/yellow_tripdata_2014-08.parquet/part-00000-345a4018-f42b-4923-ae0a-9913972b202a-c000.snappy.parquet: unsupported operand type(s) for *: 'int' and 'NoneType'\n",
      "Skipping file cleaned/yellow_tripdata_2014-09.parquet/\n",
      "Skipping file cleaned/yellow_tripdata_2014-09.parquet/_SUCCESS\n",
      "Processing cleaned/yellow_tripdata_2014-09.parquet/part-00000-7918e989-0424-4f60-8d87-57629201ad00-c000.snappy.parquet:\n"
     ]
    },
    {
     "name": "stderr",
     "output_type": "stream",
     "text": [
      "                                                                                \r"
     ]
    },
    {
     "name": "stdout",
     "output_type": "stream",
     "text": [
      "Saved gs://my-bigdata-project-cm/aggregated/part-00000-7918e989-0424-4f60-8d87-57629201ad00-c000.snappy.parquet\n",
      "Skipping file cleaned/yellow_tripdata_2014-10.parquet/\n",
      "Skipping file cleaned/yellow_tripdata_2014-10.parquet/_SUCCESS\n",
      "Processing cleaned/yellow_tripdata_2014-10.parquet/part-00000-8f0c4ed1-c4d3-4b53-ae5c-92072cb6697a-c000.snappy.parquet:\n"
     ]
    },
    {
     "name": "stderr",
     "output_type": "stream",
     "text": [
      "                                                                                \r"
     ]
    },
    {
     "name": "stdout",
     "output_type": "stream",
     "text": [
      "Saved gs://my-bigdata-project-cm/aggregated/part-00000-8f0c4ed1-c4d3-4b53-ae5c-92072cb6697a-c000.snappy.parquet\n",
      "Skipping file cleaned/yellow_tripdata_2014-11.parquet/\n",
      "Skipping file cleaned/yellow_tripdata_2014-11.parquet/_SUCCESS\n",
      "Processing cleaned/yellow_tripdata_2014-11.parquet/part-00000-38a47e64-f0e9-48b5-b6ec-3f0c7c89cecc-c000.snappy.parquet:\n"
     ]
    },
    {
     "name": "stderr",
     "output_type": "stream",
     "text": [
      "                                                                                \r"
     ]
    },
    {
     "name": "stdout",
     "output_type": "stream",
     "text": [
      "Saved gs://my-bigdata-project-cm/aggregated/part-00000-38a47e64-f0e9-48b5-b6ec-3f0c7c89cecc-c000.snappy.parquet\n",
      "Skipping file cleaned/yellow_tripdata_2014-12.parquet/\n",
      "Skipping file cleaned/yellow_tripdata_2014-12.parquet/_SUCCESS\n",
      "Processing cleaned/yellow_tripdata_2014-12.parquet/part-00000-d5e5e2b0-9b35-4aee-846d-f23f2891dade-c000.snappy.parquet:\n"
     ]
    },
    {
     "name": "stderr",
     "output_type": "stream",
     "text": [
      "                                                                                \r"
     ]
    },
    {
     "name": "stdout",
     "output_type": "stream",
     "text": [
      "Saved gs://my-bigdata-project-cm/aggregated/part-00000-d5e5e2b0-9b35-4aee-846d-f23f2891dade-c000.snappy.parquet\n",
      "Processing cleaned/yellow_tripdata_2014-12.parquet/part-00001-d5e5e2b0-9b35-4aee-846d-f23f2891dade-c000.snappy.parquet:\n"
     ]
    },
    {
     "name": "stderr",
     "output_type": "stream",
     "text": [
      "                                                                                \r"
     ]
    },
    {
     "name": "stdout",
     "output_type": "stream",
     "text": [
      "Saved gs://my-bigdata-project-cm/aggregated/part-00001-d5e5e2b0-9b35-4aee-846d-f23f2891dade-c000.snappy.parquet\n",
      "Processing cleaned/yellow_tripdata_2014-12.parquet/part-00002-d5e5e2b0-9b35-4aee-846d-f23f2891dade-c000.snappy.parquet:\n"
     ]
    },
    {
     "name": "stderr",
     "output_type": "stream",
     "text": [
      "                                                                                \r"
     ]
    },
    {
     "name": "stdout",
     "output_type": "stream",
     "text": [
      "Saved gs://my-bigdata-project-cm/aggregated/part-00002-d5e5e2b0-9b35-4aee-846d-f23f2891dade-c000.snappy.parquet\n",
      "Processing cleaned/yellow_tripdata_2014-12.parquet/part-00003-d5e5e2b0-9b35-4aee-846d-f23f2891dade-c000.snappy.parquet:\n"
     ]
    },
    {
     "name": "stderr",
     "output_type": "stream",
     "text": [
      "                                                                                \r"
     ]
    },
    {
     "name": "stdout",
     "output_type": "stream",
     "text": [
      "Saved gs://my-bigdata-project-cm/aggregated/part-00003-d5e5e2b0-9b35-4aee-846d-f23f2891dade-c000.snappy.parquet\n",
      "Processing cleaned/yellow_tripdata_2014-12.parquet/part-00004-d5e5e2b0-9b35-4aee-846d-f23f2891dade-c000.snappy.parquet:\n"
     ]
    },
    {
     "name": "stderr",
     "output_type": "stream",
     "text": [
      "                                                                                \r"
     ]
    },
    {
     "name": "stdout",
     "output_type": "stream",
     "text": [
      "Saved gs://my-bigdata-project-cm/aggregated/part-00004-d5e5e2b0-9b35-4aee-846d-f23f2891dade-c000.snappy.parquet\n",
      "Processing cleaned/yellow_tripdata_2014-12.parquet/part-00005-d5e5e2b0-9b35-4aee-846d-f23f2891dade-c000.snappy.parquet:\n"
     ]
    },
    {
     "name": "stderr",
     "output_type": "stream",
     "text": [
      "                                                                                \r"
     ]
    },
    {
     "name": "stdout",
     "output_type": "stream",
     "text": [
      "Saved gs://my-bigdata-project-cm/aggregated/part-00005-d5e5e2b0-9b35-4aee-846d-f23f2891dade-c000.snappy.parquet\n",
      "Processing cleaned/yellow_tripdata_2014-12.parquet/part-00006-d5e5e2b0-9b35-4aee-846d-f23f2891dade-c000.snappy.parquet:\n"
     ]
    },
    {
     "name": "stderr",
     "output_type": "stream",
     "text": [
      "                                                                                \r"
     ]
    },
    {
     "name": "stdout",
     "output_type": "stream",
     "text": [
      "Saved gs://my-bigdata-project-cm/aggregated/part-00006-d5e5e2b0-9b35-4aee-846d-f23f2891dade-c000.snappy.parquet\n",
      "Processing cleaned/yellow_tripdata_2014-12.parquet/part-00007-d5e5e2b0-9b35-4aee-846d-f23f2891dade-c000.snappy.parquet:\n"
     ]
    },
    {
     "name": "stderr",
     "output_type": "stream",
     "text": [
      "                                                                                \r"
     ]
    },
    {
     "name": "stdout",
     "output_type": "stream",
     "text": [
      "Saved gs://my-bigdata-project-cm/aggregated/part-00007-d5e5e2b0-9b35-4aee-846d-f23f2891dade-c000.snappy.parquet\n",
      "Processing cleaned/yellow_tripdata_2014-12.parquet/part-00008-d5e5e2b0-9b35-4aee-846d-f23f2891dade-c000.snappy.parquet:\n"
     ]
    },
    {
     "name": "stderr",
     "output_type": "stream",
     "text": [
      "                                                                                \r"
     ]
    },
    {
     "name": "stdout",
     "output_type": "stream",
     "text": [
      "Saved gs://my-bigdata-project-cm/aggregated/part-00008-d5e5e2b0-9b35-4aee-846d-f23f2891dade-c000.snappy.parquet\n",
      "Processing cleaned/yellow_tripdata_2014-12.parquet/part-00009-d5e5e2b0-9b35-4aee-846d-f23f2891dade-c000.snappy.parquet:\n"
     ]
    },
    {
     "name": "stderr",
     "output_type": "stream",
     "text": [
      "                                                                                \r"
     ]
    },
    {
     "name": "stdout",
     "output_type": "stream",
     "text": [
      "Saved gs://my-bigdata-project-cm/aggregated/part-00009-d5e5e2b0-9b35-4aee-846d-f23f2891dade-c000.snappy.parquet\n",
      "Skipping file cleaned/yellow_tripdata_2015-01.parquet/\n",
      "Skipping file cleaned/yellow_tripdata_2015-01.parquet/_SUCCESS\n",
      "Processing cleaned/yellow_tripdata_2015-01.parquet/part-00000-b80a6e4c-20f0-422d-b1ea-f58ac0adc5f3-c000.snappy.parquet:\n"
     ]
    },
    {
     "name": "stderr",
     "output_type": "stream",
     "text": [
      "                                                                                \r"
     ]
    },
    {
     "name": "stdout",
     "output_type": "stream",
     "text": [
      "Saved gs://my-bigdata-project-cm/aggregated/part-00000-b80a6e4c-20f0-422d-b1ea-f58ac0adc5f3-c000.snappy.parquet\n",
      "Processing cleaned/yellow_tripdata_2015-01.parquet/part-00001-b80a6e4c-20f0-422d-b1ea-f58ac0adc5f3-c000.snappy.parquet:\n"
     ]
    },
    {
     "name": "stderr",
     "output_type": "stream",
     "text": [
      "                                                                                \r"
     ]
    },
    {
     "name": "stdout",
     "output_type": "stream",
     "text": [
      "Saved gs://my-bigdata-project-cm/aggregated/part-00001-b80a6e4c-20f0-422d-b1ea-f58ac0adc5f3-c000.snappy.parquet\n",
      "Processing cleaned/yellow_tripdata_2015-01.parquet/part-00002-b80a6e4c-20f0-422d-b1ea-f58ac0adc5f3-c000.snappy.parquet:\n"
     ]
    },
    {
     "name": "stderr",
     "output_type": "stream",
     "text": [
      "                                                                                \r"
     ]
    },
    {
     "name": "stdout",
     "output_type": "stream",
     "text": [
      "Saved gs://my-bigdata-project-cm/aggregated/part-00002-b80a6e4c-20f0-422d-b1ea-f58ac0adc5f3-c000.snappy.parquet\n",
      "Processing cleaned/yellow_tripdata_2015-01.parquet/part-00003-b80a6e4c-20f0-422d-b1ea-f58ac0adc5f3-c000.snappy.parquet:\n"
     ]
    },
    {
     "name": "stderr",
     "output_type": "stream",
     "text": [
      "                                                                                \r"
     ]
    },
    {
     "name": "stdout",
     "output_type": "stream",
     "text": [
      "Saved gs://my-bigdata-project-cm/aggregated/part-00003-b80a6e4c-20f0-422d-b1ea-f58ac0adc5f3-c000.snappy.parquet\n",
      "Processing cleaned/yellow_tripdata_2015-01.parquet/part-00004-b80a6e4c-20f0-422d-b1ea-f58ac0adc5f3-c000.snappy.parquet:\n"
     ]
    },
    {
     "name": "stderr",
     "output_type": "stream",
     "text": [
      "                                                                                \r"
     ]
    },
    {
     "name": "stdout",
     "output_type": "stream",
     "text": [
      "Saved gs://my-bigdata-project-cm/aggregated/part-00004-b80a6e4c-20f0-422d-b1ea-f58ac0adc5f3-c000.snappy.parquet\n",
      "Processing cleaned/yellow_tripdata_2015-01.parquet/part-00005-b80a6e4c-20f0-422d-b1ea-f58ac0adc5f3-c000.snappy.parquet:\n"
     ]
    },
    {
     "name": "stderr",
     "output_type": "stream",
     "text": [
      "                                                                                \r"
     ]
    },
    {
     "name": "stdout",
     "output_type": "stream",
     "text": [
      "Saved gs://my-bigdata-project-cm/aggregated/part-00005-b80a6e4c-20f0-422d-b1ea-f58ac0adc5f3-c000.snappy.parquet\n",
      "Processing cleaned/yellow_tripdata_2015-01.parquet/part-00006-b80a6e4c-20f0-422d-b1ea-f58ac0adc5f3-c000.snappy.parquet:\n"
     ]
    },
    {
     "name": "stderr",
     "output_type": "stream",
     "text": [
      "                                                                                \r"
     ]
    },
    {
     "name": "stdout",
     "output_type": "stream",
     "text": [
      "Saved gs://my-bigdata-project-cm/aggregated/part-00006-b80a6e4c-20f0-422d-b1ea-f58ac0adc5f3-c000.snappy.parquet\n",
      "Processing cleaned/yellow_tripdata_2015-01.parquet/part-00007-b80a6e4c-20f0-422d-b1ea-f58ac0adc5f3-c000.snappy.parquet:\n"
     ]
    },
    {
     "name": "stderr",
     "output_type": "stream",
     "text": [
      "                                                                                \r"
     ]
    },
    {
     "name": "stdout",
     "output_type": "stream",
     "text": [
      "Saved gs://my-bigdata-project-cm/aggregated/part-00007-b80a6e4c-20f0-422d-b1ea-f58ac0adc5f3-c000.snappy.parquet\n",
      "Processing cleaned/yellow_tripdata_2015-01.parquet/part-00008-b80a6e4c-20f0-422d-b1ea-f58ac0adc5f3-c000.snappy.parquet:\n"
     ]
    },
    {
     "name": "stderr",
     "output_type": "stream",
     "text": [
      "                                                                                \r"
     ]
    },
    {
     "name": "stdout",
     "output_type": "stream",
     "text": [
      "Saved gs://my-bigdata-project-cm/aggregated/part-00008-b80a6e4c-20f0-422d-b1ea-f58ac0adc5f3-c000.snappy.parquet\n",
      "Processing cleaned/yellow_tripdata_2015-01.parquet/part-00009-b80a6e4c-20f0-422d-b1ea-f58ac0adc5f3-c000.snappy.parquet:\n"
     ]
    },
    {
     "name": "stderr",
     "output_type": "stream",
     "text": [
      "                                                                                \r"
     ]
    },
    {
     "name": "stdout",
     "output_type": "stream",
     "text": [
      "Saved gs://my-bigdata-project-cm/aggregated/part-00009-b80a6e4c-20f0-422d-b1ea-f58ac0adc5f3-c000.snappy.parquet\n",
      "Skipping file cleaned/yellow_tripdata_2015-02.parquet/\n",
      "Skipping file cleaned/yellow_tripdata_2015-02.parquet/_SUCCESS\n",
      "Processing cleaned/yellow_tripdata_2015-02.parquet/part-00000-baa43e41-7709-4832-bb35-0018106a184c-c000.snappy.parquet:\n"
     ]
    },
    {
     "name": "stderr",
     "output_type": "stream",
     "text": [
      "                                                                                \r"
     ]
    },
    {
     "name": "stdout",
     "output_type": "stream",
     "text": [
      "Saved gs://my-bigdata-project-cm/aggregated/part-00000-baa43e41-7709-4832-bb35-0018106a184c-c000.snappy.parquet\n",
      "Processing cleaned/yellow_tripdata_2015-02.parquet/part-00001-baa43e41-7709-4832-bb35-0018106a184c-c000.snappy.parquet:\n"
     ]
    },
    {
     "name": "stderr",
     "output_type": "stream",
     "text": [
      "                                                                                \r"
     ]
    },
    {
     "name": "stdout",
     "output_type": "stream",
     "text": [
      "Saved gs://my-bigdata-project-cm/aggregated/part-00001-baa43e41-7709-4832-bb35-0018106a184c-c000.snappy.parquet\n",
      "Processing cleaned/yellow_tripdata_2015-02.parquet/part-00002-baa43e41-7709-4832-bb35-0018106a184c-c000.snappy.parquet:\n"
     ]
    },
    {
     "name": "stderr",
     "output_type": "stream",
     "text": [
      "                                                                                \r"
     ]
    },
    {
     "name": "stdout",
     "output_type": "stream",
     "text": [
      "Saved gs://my-bigdata-project-cm/aggregated/part-00002-baa43e41-7709-4832-bb35-0018106a184c-c000.snappy.parquet\n",
      "Processing cleaned/yellow_tripdata_2015-02.parquet/part-00003-baa43e41-7709-4832-bb35-0018106a184c-c000.snappy.parquet:\n"
     ]
    },
    {
     "name": "stderr",
     "output_type": "stream",
     "text": [
      "                                                                                \r"
     ]
    },
    {
     "name": "stdout",
     "output_type": "stream",
     "text": [
      "Saved gs://my-bigdata-project-cm/aggregated/part-00003-baa43e41-7709-4832-bb35-0018106a184c-c000.snappy.parquet\n",
      "Processing cleaned/yellow_tripdata_2015-02.parquet/part-00004-baa43e41-7709-4832-bb35-0018106a184c-c000.snappy.parquet:\n"
     ]
    },
    {
     "name": "stderr",
     "output_type": "stream",
     "text": [
      "                                                                                \r"
     ]
    },
    {
     "name": "stdout",
     "output_type": "stream",
     "text": [
      "Saved gs://my-bigdata-project-cm/aggregated/part-00004-baa43e41-7709-4832-bb35-0018106a184c-c000.snappy.parquet\n",
      "Processing cleaned/yellow_tripdata_2015-02.parquet/part-00005-baa43e41-7709-4832-bb35-0018106a184c-c000.snappy.parquet:\n"
     ]
    },
    {
     "name": "stderr",
     "output_type": "stream",
     "text": [
      "                                                                                \r"
     ]
    },
    {
     "name": "stdout",
     "output_type": "stream",
     "text": [
      "Saved gs://my-bigdata-project-cm/aggregated/part-00005-baa43e41-7709-4832-bb35-0018106a184c-c000.snappy.parquet\n",
      "Processing cleaned/yellow_tripdata_2015-02.parquet/part-00006-baa43e41-7709-4832-bb35-0018106a184c-c000.snappy.parquet:\n"
     ]
    },
    {
     "name": "stderr",
     "output_type": "stream",
     "text": [
      "                                                                                \r"
     ]
    },
    {
     "name": "stdout",
     "output_type": "stream",
     "text": [
      "Saved gs://my-bigdata-project-cm/aggregated/part-00006-baa43e41-7709-4832-bb35-0018106a184c-c000.snappy.parquet\n",
      "Processing cleaned/yellow_tripdata_2015-02.parquet/part-00007-baa43e41-7709-4832-bb35-0018106a184c-c000.snappy.parquet:\n"
     ]
    },
    {
     "name": "stderr",
     "output_type": "stream",
     "text": [
      "                                                                                \r"
     ]
    },
    {
     "name": "stdout",
     "output_type": "stream",
     "text": [
      "Saved gs://my-bigdata-project-cm/aggregated/part-00007-baa43e41-7709-4832-bb35-0018106a184c-c000.snappy.parquet\n",
      "Processing cleaned/yellow_tripdata_2015-02.parquet/part-00008-baa43e41-7709-4832-bb35-0018106a184c-c000.snappy.parquet:\n"
     ]
    },
    {
     "name": "stderr",
     "output_type": "stream",
     "text": [
      "                                                                                \r"
     ]
    },
    {
     "name": "stdout",
     "output_type": "stream",
     "text": [
      "Saved gs://my-bigdata-project-cm/aggregated/part-00008-baa43e41-7709-4832-bb35-0018106a184c-c000.snappy.parquet\n",
      "Processing cleaned/yellow_tripdata_2015-02.parquet/part-00009-baa43e41-7709-4832-bb35-0018106a184c-c000.snappy.parquet:\n"
     ]
    },
    {
     "name": "stderr",
     "output_type": "stream",
     "text": [
      "                                                                                \r"
     ]
    },
    {
     "name": "stdout",
     "output_type": "stream",
     "text": [
      "Saved gs://my-bigdata-project-cm/aggregated/part-00009-baa43e41-7709-4832-bb35-0018106a184c-c000.snappy.parquet\n",
      "Skipping file cleaned/yellow_tripdata_2015-03.parquet/\n",
      "Skipping file cleaned/yellow_tripdata_2015-03.parquet/_SUCCESS\n",
      "Processing cleaned/yellow_tripdata_2015-03.parquet/part-00000-32735b77-2144-47b1-9205-1ee3238d83f9-c000.snappy.parquet:\n"
     ]
    },
    {
     "name": "stderr",
     "output_type": "stream",
     "text": [
      "                                                                                \r"
     ]
    },
    {
     "name": "stdout",
     "output_type": "stream",
     "text": [
      "Saved gs://my-bigdata-project-cm/aggregated/part-00000-32735b77-2144-47b1-9205-1ee3238d83f9-c000.snappy.parquet\n",
      "Processing cleaned/yellow_tripdata_2015-03.parquet/part-00001-32735b77-2144-47b1-9205-1ee3238d83f9-c000.snappy.parquet:\n"
     ]
    },
    {
     "name": "stderr",
     "output_type": "stream",
     "text": [
      "                                                                                \r"
     ]
    },
    {
     "name": "stdout",
     "output_type": "stream",
     "text": [
      "Saved gs://my-bigdata-project-cm/aggregated/part-00001-32735b77-2144-47b1-9205-1ee3238d83f9-c000.snappy.parquet\n",
      "Processing cleaned/yellow_tripdata_2015-03.parquet/part-00002-32735b77-2144-47b1-9205-1ee3238d83f9-c000.snappy.parquet:\n"
     ]
    },
    {
     "name": "stderr",
     "output_type": "stream",
     "text": [
      "                                                                                \r"
     ]
    },
    {
     "name": "stdout",
     "output_type": "stream",
     "text": [
      "Saved gs://my-bigdata-project-cm/aggregated/part-00002-32735b77-2144-47b1-9205-1ee3238d83f9-c000.snappy.parquet\n",
      "Processing cleaned/yellow_tripdata_2015-03.parquet/part-00003-32735b77-2144-47b1-9205-1ee3238d83f9-c000.snappy.parquet:\n"
     ]
    },
    {
     "name": "stderr",
     "output_type": "stream",
     "text": [
      "                                                                                \r"
     ]
    },
    {
     "name": "stdout",
     "output_type": "stream",
     "text": [
      "Saved gs://my-bigdata-project-cm/aggregated/part-00003-32735b77-2144-47b1-9205-1ee3238d83f9-c000.snappy.parquet\n",
      "Processing cleaned/yellow_tripdata_2015-03.parquet/part-00004-32735b77-2144-47b1-9205-1ee3238d83f9-c000.snappy.parquet:\n"
     ]
    },
    {
     "name": "stderr",
     "output_type": "stream",
     "text": [
      "                                                                                \r"
     ]
    },
    {
     "name": "stdout",
     "output_type": "stream",
     "text": [
      "Saved gs://my-bigdata-project-cm/aggregated/part-00005-32735b77-2144-47b1-9205-1ee3238d83f9-c000.snappy.parquet\n",
      "Processing cleaned/yellow_tripdata_2015-03.parquet/part-00006-32735b77-2144-47b1-9205-1ee3238d83f9-c000.snappy.parquet:\n"
     ]
    },
    {
     "name": "stderr",
     "output_type": "stream",
     "text": [
      "                                                                                \r"
     ]
    },
    {
     "name": "stdout",
     "output_type": "stream",
     "text": [
      "Saved gs://my-bigdata-project-cm/aggregated/part-00006-32735b77-2144-47b1-9205-1ee3238d83f9-c000.snappy.parquet\n",
      "Processing cleaned/yellow_tripdata_2015-03.parquet/part-00007-32735b77-2144-47b1-9205-1ee3238d83f9-c000.snappy.parquet:\n"
     ]
    },
    {
     "name": "stderr",
     "output_type": "stream",
     "text": [
      "                                                                                \r"
     ]
    },
    {
     "name": "stdout",
     "output_type": "stream",
     "text": [
      "Saved gs://my-bigdata-project-cm/aggregated/part-00007-32735b77-2144-47b1-9205-1ee3238d83f9-c000.snappy.parquet\n",
      "Processing cleaned/yellow_tripdata_2015-03.parquet/part-00008-32735b77-2144-47b1-9205-1ee3238d83f9-c000.snappy.parquet:\n"
     ]
    },
    {
     "name": "stderr",
     "output_type": "stream",
     "text": [
      "                                                                                \r"
     ]
    },
    {
     "name": "stdout",
     "output_type": "stream",
     "text": [
      "Saved gs://my-bigdata-project-cm/aggregated/part-00008-32735b77-2144-47b1-9205-1ee3238d83f9-c000.snappy.parquet\n",
      "Processing cleaned/yellow_tripdata_2015-03.parquet/part-00009-32735b77-2144-47b1-9205-1ee3238d83f9-c000.snappy.parquet:\n"
     ]
    },
    {
     "name": "stderr",
     "output_type": "stream",
     "text": [
      "                                                                                \r"
     ]
    },
    {
     "name": "stdout",
     "output_type": "stream",
     "text": [
      "Saved gs://my-bigdata-project-cm/aggregated/part-00009-32735b77-2144-47b1-9205-1ee3238d83f9-c000.snappy.parquet\n",
      "Processing cleaned/yellow_tripdata_2015-03.parquet/part-00010-32735b77-2144-47b1-9205-1ee3238d83f9-c000.snappy.parquet:\n"
     ]
    },
    {
     "name": "stderr",
     "output_type": "stream",
     "text": [
      "                                                                                \r"
     ]
    },
    {
     "name": "stdout",
     "output_type": "stream",
     "text": [
      "Saved gs://my-bigdata-project-cm/aggregated/part-00010-32735b77-2144-47b1-9205-1ee3238d83f9-c000.snappy.parquet\n",
      "Skipping file cleaned/yellow_tripdata_2015-04.parquet/\n",
      "Skipping file cleaned/yellow_tripdata_2015-04.parquet/_SUCCESS\n",
      "Processing cleaned/yellow_tripdata_2015-04.parquet/part-00000-c1394a40-1d79-400d-8f80-5a2572f20355-c000.snappy.parquet:\n"
     ]
    },
    {
     "name": "stderr",
     "output_type": "stream",
     "text": [
      "                                                                                \r"
     ]
    },
    {
     "name": "stdout",
     "output_type": "stream",
     "text": [
      "Saved gs://my-bigdata-project-cm/aggregated/part-00000-c1394a40-1d79-400d-8f80-5a2572f20355-c000.snappy.parquet\n",
      "Processing cleaned/yellow_tripdata_2015-04.parquet/part-00001-c1394a40-1d79-400d-8f80-5a2572f20355-c000.snappy.parquet:\n"
     ]
    },
    {
     "name": "stderr",
     "output_type": "stream",
     "text": [
      "                                                                                \r"
     ]
    },
    {
     "name": "stdout",
     "output_type": "stream",
     "text": [
      "Saved gs://my-bigdata-project-cm/aggregated/part-00001-c1394a40-1d79-400d-8f80-5a2572f20355-c000.snappy.parquet\n",
      "Processing cleaned/yellow_tripdata_2015-04.parquet/part-00002-c1394a40-1d79-400d-8f80-5a2572f20355-c000.snappy.parquet:\n"
     ]
    },
    {
     "name": "stderr",
     "output_type": "stream",
     "text": [
      "                                                                                \r"
     ]
    },
    {
     "name": "stdout",
     "output_type": "stream",
     "text": [
      "Saved gs://my-bigdata-project-cm/aggregated/part-00002-c1394a40-1d79-400d-8f80-5a2572f20355-c000.snappy.parquet\n",
      "Processing cleaned/yellow_tripdata_2015-04.parquet/part-00003-c1394a40-1d79-400d-8f80-5a2572f20355-c000.snappy.parquet:\n"
     ]
    },
    {
     "name": "stderr",
     "output_type": "stream",
     "text": [
      "                                                                                \r"
     ]
    },
    {
     "name": "stdout",
     "output_type": "stream",
     "text": [
      "Saved gs://my-bigdata-project-cm/aggregated/part-00003-c1394a40-1d79-400d-8f80-5a2572f20355-c000.snappy.parquet\n",
      "Processing cleaned/yellow_tripdata_2015-04.parquet/part-00004-c1394a40-1d79-400d-8f80-5a2572f20355-c000.snappy.parquet:\n"
     ]
    },
    {
     "name": "stderr",
     "output_type": "stream",
     "text": [
      "                                                                                \r"
     ]
    },
    {
     "name": "stdout",
     "output_type": "stream",
     "text": [
      "Saved gs://my-bigdata-project-cm/aggregated/part-00004-c1394a40-1d79-400d-8f80-5a2572f20355-c000.snappy.parquet\n",
      "Processing cleaned/yellow_tripdata_2015-04.parquet/part-00005-c1394a40-1d79-400d-8f80-5a2572f20355-c000.snappy.parquet:\n"
     ]
    },
    {
     "name": "stderr",
     "output_type": "stream",
     "text": [
      "                                                                                \r"
     ]
    },
    {
     "name": "stdout",
     "output_type": "stream",
     "text": [
      "Saved gs://my-bigdata-project-cm/aggregated/part-00005-c1394a40-1d79-400d-8f80-5a2572f20355-c000.snappy.parquet\n",
      "Processing cleaned/yellow_tripdata_2015-04.parquet/part-00006-c1394a40-1d79-400d-8f80-5a2572f20355-c000.snappy.parquet:\n"
     ]
    },
    {
     "name": "stderr",
     "output_type": "stream",
     "text": [
      "                                                                                \r"
     ]
    },
    {
     "name": "stdout",
     "output_type": "stream",
     "text": [
      "Saved gs://my-bigdata-project-cm/aggregated/part-00006-c1394a40-1d79-400d-8f80-5a2572f20355-c000.snappy.parquet\n",
      "Processing cleaned/yellow_tripdata_2015-04.parquet/part-00007-c1394a40-1d79-400d-8f80-5a2572f20355-c000.snappy.parquet:\n"
     ]
    },
    {
     "name": "stderr",
     "output_type": "stream",
     "text": [
      "                                                                                \r"
     ]
    },
    {
     "name": "stdout",
     "output_type": "stream",
     "text": [
      "Saved gs://my-bigdata-project-cm/aggregated/part-00007-c1394a40-1d79-400d-8f80-5a2572f20355-c000.snappy.parquet\n",
      "Processing cleaned/yellow_tripdata_2015-04.parquet/part-00008-c1394a40-1d79-400d-8f80-5a2572f20355-c000.snappy.parquet:\n"
     ]
    },
    {
     "name": "stderr",
     "output_type": "stream",
     "text": [
      "                                                                                \r"
     ]
    },
    {
     "name": "stdout",
     "output_type": "stream",
     "text": [
      "Saved gs://my-bigdata-project-cm/aggregated/part-00008-c1394a40-1d79-400d-8f80-5a2572f20355-c000.snappy.parquet\n",
      "Processing cleaned/yellow_tripdata_2015-04.parquet/part-00009-c1394a40-1d79-400d-8f80-5a2572f20355-c000.snappy.parquet:\n"
     ]
    },
    {
     "name": "stderr",
     "output_type": "stream",
     "text": [
      "                                                                                \r"
     ]
    },
    {
     "name": "stdout",
     "output_type": "stream",
     "text": [
      "Saved gs://my-bigdata-project-cm/aggregated/part-00009-c1394a40-1d79-400d-8f80-5a2572f20355-c000.snappy.parquet\n",
      "Processing cleaned/yellow_tripdata_2015-04.parquet/part-00010-c1394a40-1d79-400d-8f80-5a2572f20355-c000.snappy.parquet:\n"
     ]
    },
    {
     "name": "stderr",
     "output_type": "stream",
     "text": [
      "                                                                                \r"
     ]
    },
    {
     "name": "stdout",
     "output_type": "stream",
     "text": [
      "Saved gs://my-bigdata-project-cm/aggregated/part-00010-c1394a40-1d79-400d-8f80-5a2572f20355-c000.snappy.parquet\n",
      "Processing cleaned/yellow_tripdata_2015-04.parquet/part-00011-c1394a40-1d79-400d-8f80-5a2572f20355-c000.snappy.parquet:\n"
     ]
    },
    {
     "name": "stderr",
     "output_type": "stream",
     "text": [
      "                                                                                \r"
     ]
    },
    {
     "name": "stdout",
     "output_type": "stream",
     "text": [
      "Saved gs://my-bigdata-project-cm/aggregated/part-00011-c1394a40-1d79-400d-8f80-5a2572f20355-c000.snappy.parquet\n",
      "Processing cleaned/yellow_tripdata_2015-04.parquet/part-00012-c1394a40-1d79-400d-8f80-5a2572f20355-c000.snappy.parquet:\n"
     ]
    },
    {
     "name": "stderr",
     "output_type": "stream",
     "text": [
      "                                                                                \r"
     ]
    },
    {
     "name": "stdout",
     "output_type": "stream",
     "text": [
      "Saved gs://my-bigdata-project-cm/aggregated/part-00012-c1394a40-1d79-400d-8f80-5a2572f20355-c000.snappy.parquet\n",
      "Skipping file cleaned/yellow_tripdata_2015-05.parquet/\n",
      "Skipping file cleaned/yellow_tripdata_2015-05.parquet/_SUCCESS\n",
      "Processing cleaned/yellow_tripdata_2015-05.parquet/part-00000-35a37114-0c24-49ce-85e9-06c74aa49ef7-c000.snappy.parquet:\n"
     ]
    },
    {
     "name": "stderr",
     "output_type": "stream",
     "text": [
      "                                                                                \r"
     ]
    },
    {
     "name": "stdout",
     "output_type": "stream",
     "text": [
      "Saved gs://my-bigdata-project-cm/aggregated/part-00000-35a37114-0c24-49ce-85e9-06c74aa49ef7-c000.snappy.parquet\n",
      "Processing cleaned/yellow_tripdata_2015-05.parquet/part-00001-35a37114-0c24-49ce-85e9-06c74aa49ef7-c000.snappy.parquet:\n"
     ]
    },
    {
     "name": "stderr",
     "output_type": "stream",
     "text": [
      "                                                                                \r"
     ]
    },
    {
     "name": "stdout",
     "output_type": "stream",
     "text": [
      "Saved gs://my-bigdata-project-cm/aggregated/part-00001-35a37114-0c24-49ce-85e9-06c74aa49ef7-c000.snappy.parquet\n",
      "Processing cleaned/yellow_tripdata_2015-05.parquet/part-00002-35a37114-0c24-49ce-85e9-06c74aa49ef7-c000.snappy.parquet:\n"
     ]
    },
    {
     "name": "stderr",
     "output_type": "stream",
     "text": [
      "                                                                                \r"
     ]
    },
    {
     "name": "stdout",
     "output_type": "stream",
     "text": [
      "Saved gs://my-bigdata-project-cm/aggregated/part-00002-35a37114-0c24-49ce-85e9-06c74aa49ef7-c000.snappy.parquet\n",
      "Processing cleaned/yellow_tripdata_2015-05.parquet/part-00003-35a37114-0c24-49ce-85e9-06c74aa49ef7-c000.snappy.parquet:\n"
     ]
    },
    {
     "name": "stderr",
     "output_type": "stream",
     "text": [
      "                                                                                \r"
     ]
    },
    {
     "name": "stdout",
     "output_type": "stream",
     "text": [
      "Saved gs://my-bigdata-project-cm/aggregated/part-00003-35a37114-0c24-49ce-85e9-06c74aa49ef7-c000.snappy.parquet\n",
      "Processing cleaned/yellow_tripdata_2015-05.parquet/part-00004-35a37114-0c24-49ce-85e9-06c74aa49ef7-c000.snappy.parquet:\n"
     ]
    },
    {
     "name": "stderr",
     "output_type": "stream",
     "text": [
      "                                                                                \r"
     ]
    },
    {
     "name": "stdout",
     "output_type": "stream",
     "text": [
      "Saved gs://my-bigdata-project-cm/aggregated/part-00004-35a37114-0c24-49ce-85e9-06c74aa49ef7-c000.snappy.parquet\n",
      "Processing cleaned/yellow_tripdata_2015-05.parquet/part-00005-35a37114-0c24-49ce-85e9-06c74aa49ef7-c000.snappy.parquet:\n"
     ]
    },
    {
     "name": "stderr",
     "output_type": "stream",
     "text": [
      "                                                                                \r"
     ]
    },
    {
     "name": "stdout",
     "output_type": "stream",
     "text": [
      "Saved gs://my-bigdata-project-cm/aggregated/part-00005-35a37114-0c24-49ce-85e9-06c74aa49ef7-c000.snappy.parquet\n",
      "Processing cleaned/yellow_tripdata_2015-05.parquet/part-00006-35a37114-0c24-49ce-85e9-06c74aa49ef7-c000.snappy.parquet:\n"
     ]
    },
    {
     "name": "stderr",
     "output_type": "stream",
     "text": [
      "                                                                                \r"
     ]
    },
    {
     "name": "stdout",
     "output_type": "stream",
     "text": [
      "Saved gs://my-bigdata-project-cm/aggregated/part-00006-35a37114-0c24-49ce-85e9-06c74aa49ef7-c000.snappy.parquet\n",
      "Processing cleaned/yellow_tripdata_2015-05.parquet/part-00007-35a37114-0c24-49ce-85e9-06c74aa49ef7-c000.snappy.parquet:\n"
     ]
    },
    {
     "name": "stderr",
     "output_type": "stream",
     "text": [
      "                                                                                \r"
     ]
    },
    {
     "name": "stdout",
     "output_type": "stream",
     "text": [
      "Saved gs://my-bigdata-project-cm/aggregated/part-00007-35a37114-0c24-49ce-85e9-06c74aa49ef7-c000.snappy.parquet\n",
      "Processing cleaned/yellow_tripdata_2015-05.parquet/part-00008-35a37114-0c24-49ce-85e9-06c74aa49ef7-c000.snappy.parquet:\n"
     ]
    },
    {
     "name": "stderr",
     "output_type": "stream",
     "text": [
      "                                                                                \r"
     ]
    },
    {
     "name": "stdout",
     "output_type": "stream",
     "text": [
      "Saved gs://my-bigdata-project-cm/aggregated/part-00008-35a37114-0c24-49ce-85e9-06c74aa49ef7-c000.snappy.parquet\n",
      "Processing cleaned/yellow_tripdata_2015-05.parquet/part-00009-35a37114-0c24-49ce-85e9-06c74aa49ef7-c000.snappy.parquet:\n"
     ]
    },
    {
     "name": "stderr",
     "output_type": "stream",
     "text": [
      "                                                                                \r"
     ]
    },
    {
     "name": "stdout",
     "output_type": "stream",
     "text": [
      "Saved gs://my-bigdata-project-cm/aggregated/part-00009-35a37114-0c24-49ce-85e9-06c74aa49ef7-c000.snappy.parquet\n",
      "Processing cleaned/yellow_tripdata_2015-05.parquet/part-00010-35a37114-0c24-49ce-85e9-06c74aa49ef7-c000.snappy.parquet:\n"
     ]
    },
    {
     "name": "stderr",
     "output_type": "stream",
     "text": [
      "                                                                                \r"
     ]
    },
    {
     "name": "stdout",
     "output_type": "stream",
     "text": [
      "Saved gs://my-bigdata-project-cm/aggregated/part-00010-35a37114-0c24-49ce-85e9-06c74aa49ef7-c000.snappy.parquet\n",
      "Skipping file cleaned/yellow_tripdata_2015-06.parquet/\n",
      "Skipping file cleaned/yellow_tripdata_2015-06.parquet/_SUCCESS\n",
      "Processing cleaned/yellow_tripdata_2015-06.parquet/part-00000-73aabae7-5449-4856-9d0f-4d0a6cab57f9-c000.snappy.parquet:\n"
     ]
    },
    {
     "name": "stderr",
     "output_type": "stream",
     "text": [
      "                                                                                \r"
     ]
    },
    {
     "name": "stdout",
     "output_type": "stream",
     "text": [
      "Saved gs://my-bigdata-project-cm/aggregated/part-00000-73aabae7-5449-4856-9d0f-4d0a6cab57f9-c000.snappy.parquet\n",
      "Processing cleaned/yellow_tripdata_2015-06.parquet/part-00001-73aabae7-5449-4856-9d0f-4d0a6cab57f9-c000.snappy.parquet:\n"
     ]
    },
    {
     "name": "stderr",
     "output_type": "stream",
     "text": [
      "                                                                                \r"
     ]
    },
    {
     "name": "stdout",
     "output_type": "stream",
     "text": [
      "Saved gs://my-bigdata-project-cm/aggregated/part-00001-73aabae7-5449-4856-9d0f-4d0a6cab57f9-c000.snappy.parquet\n",
      "Processing cleaned/yellow_tripdata_2015-06.parquet/part-00002-73aabae7-5449-4856-9d0f-4d0a6cab57f9-c000.snappy.parquet:\n"
     ]
    },
    {
     "name": "stderr",
     "output_type": "stream",
     "text": [
      "                                                                                \r"
     ]
    },
    {
     "name": "stdout",
     "output_type": "stream",
     "text": [
      "Saved gs://my-bigdata-project-cm/aggregated/part-00002-73aabae7-5449-4856-9d0f-4d0a6cab57f9-c000.snappy.parquet\n",
      "Processing cleaned/yellow_tripdata_2015-06.parquet/part-00003-73aabae7-5449-4856-9d0f-4d0a6cab57f9-c000.snappy.parquet:\n"
     ]
    },
    {
     "name": "stderr",
     "output_type": "stream",
     "text": [
      "                                                                                \r"
     ]
    },
    {
     "name": "stdout",
     "output_type": "stream",
     "text": [
      "Saved gs://my-bigdata-project-cm/aggregated/part-00003-73aabae7-5449-4856-9d0f-4d0a6cab57f9-c000.snappy.parquet\n",
      "Processing cleaned/yellow_tripdata_2015-06.parquet/part-00004-73aabae7-5449-4856-9d0f-4d0a6cab57f9-c000.snappy.parquet:\n"
     ]
    },
    {
     "name": "stderr",
     "output_type": "stream",
     "text": [
      "                                                                                \r"
     ]
    },
    {
     "name": "stdout",
     "output_type": "stream",
     "text": [
      "Saved gs://my-bigdata-project-cm/aggregated/part-00004-73aabae7-5449-4856-9d0f-4d0a6cab57f9-c000.snappy.parquet\n",
      "Processing cleaned/yellow_tripdata_2015-06.parquet/part-00005-73aabae7-5449-4856-9d0f-4d0a6cab57f9-c000.snappy.parquet:\n"
     ]
    },
    {
     "name": "stderr",
     "output_type": "stream",
     "text": [
      "                                                                                \r"
     ]
    },
    {
     "name": "stdout",
     "output_type": "stream",
     "text": [
      "Saved gs://my-bigdata-project-cm/aggregated/part-00005-73aabae7-5449-4856-9d0f-4d0a6cab57f9-c000.snappy.parquet\n",
      "Processing cleaned/yellow_tripdata_2015-06.parquet/part-00006-73aabae7-5449-4856-9d0f-4d0a6cab57f9-c000.snappy.parquet:\n"
     ]
    },
    {
     "name": "stderr",
     "output_type": "stream",
     "text": [
      "                                                                                \r"
     ]
    },
    {
     "name": "stdout",
     "output_type": "stream",
     "text": [
      "Saved gs://my-bigdata-project-cm/aggregated/part-00006-73aabae7-5449-4856-9d0f-4d0a6cab57f9-c000.snappy.parquet\n",
      "Processing cleaned/yellow_tripdata_2015-06.parquet/part-00007-73aabae7-5449-4856-9d0f-4d0a6cab57f9-c000.snappy.parquet:\n"
     ]
    },
    {
     "name": "stderr",
     "output_type": "stream",
     "text": [
      "                                                                                \r"
     ]
    },
    {
     "name": "stdout",
     "output_type": "stream",
     "text": [
      "Saved gs://my-bigdata-project-cm/aggregated/part-00007-73aabae7-5449-4856-9d0f-4d0a6cab57f9-c000.snappy.parquet\n",
      "Processing cleaned/yellow_tripdata_2015-06.parquet/part-00008-73aabae7-5449-4856-9d0f-4d0a6cab57f9-c000.snappy.parquet:\n"
     ]
    },
    {
     "name": "stderr",
     "output_type": "stream",
     "text": [
      "                                                                                \r"
     ]
    },
    {
     "name": "stdout",
     "output_type": "stream",
     "text": [
      "Saved gs://my-bigdata-project-cm/aggregated/part-00008-73aabae7-5449-4856-9d0f-4d0a6cab57f9-c000.snappy.parquet\n",
      "Processing cleaned/yellow_tripdata_2015-06.parquet/part-00009-73aabae7-5449-4856-9d0f-4d0a6cab57f9-c000.snappy.parquet:\n"
     ]
    },
    {
     "name": "stderr",
     "output_type": "stream",
     "text": [
      "                                                                                \r"
     ]
    },
    {
     "name": "stdout",
     "output_type": "stream",
     "text": [
      "Saved gs://my-bigdata-project-cm/aggregated/part-00009-73aabae7-5449-4856-9d0f-4d0a6cab57f9-c000.snappy.parquet\n",
      "Processing cleaned/yellow_tripdata_2015-06.parquet/part-00010-73aabae7-5449-4856-9d0f-4d0a6cab57f9-c000.snappy.parquet:\n"
     ]
    },
    {
     "name": "stderr",
     "output_type": "stream",
     "text": [
      "                                                                                \r"
     ]
    },
    {
     "name": "stdout",
     "output_type": "stream",
     "text": [
      "Saved gs://my-bigdata-project-cm/aggregated/part-00010-73aabae7-5449-4856-9d0f-4d0a6cab57f9-c000.snappy.parquet\n",
      "Processing cleaned/yellow_tripdata_2015-06.parquet/part-00011-73aabae7-5449-4856-9d0f-4d0a6cab57f9-c000.snappy.parquet:\n"
     ]
    },
    {
     "name": "stderr",
     "output_type": "stream",
     "text": [
      "                                                                                \r"
     ]
    },
    {
     "name": "stdout",
     "output_type": "stream",
     "text": [
      "Saved gs://my-bigdata-project-cm/aggregated/part-00011-73aabae7-5449-4856-9d0f-4d0a6cab57f9-c000.snappy.parquet\n",
      "Skipping file cleaned/yellow_tripdata_2015-07.parquet/\n",
      "Skipping file cleaned/yellow_tripdata_2015-07.parquet/_SUCCESS\n",
      "Processing cleaned/yellow_tripdata_2015-07.parquet/part-00000-fb234cb4-8de3-45e6-9598-df1d90cd18a3-c000.snappy.parquet:\n"
     ]
    },
    {
     "name": "stderr",
     "output_type": "stream",
     "text": [
      "                                                                                \r"
     ]
    },
    {
     "name": "stdout",
     "output_type": "stream",
     "text": [
      "Saved gs://my-bigdata-project-cm/aggregated/part-00000-fb234cb4-8de3-45e6-9598-df1d90cd18a3-c000.snappy.parquet\n",
      "Processing cleaned/yellow_tripdata_2015-07.parquet/part-00001-fb234cb4-8de3-45e6-9598-df1d90cd18a3-c000.snappy.parquet:\n"
     ]
    },
    {
     "name": "stderr",
     "output_type": "stream",
     "text": [
      "                                                                                \r"
     ]
    },
    {
     "name": "stdout",
     "output_type": "stream",
     "text": [
      "Saved gs://my-bigdata-project-cm/aggregated/part-00001-fb234cb4-8de3-45e6-9598-df1d90cd18a3-c000.snappy.parquet\n",
      "Processing cleaned/yellow_tripdata_2015-07.parquet/part-00002-fb234cb4-8de3-45e6-9598-df1d90cd18a3-c000.snappy.parquet:\n"
     ]
    },
    {
     "name": "stderr",
     "output_type": "stream",
     "text": [
      "                                                                                \r"
     ]
    },
    {
     "name": "stdout",
     "output_type": "stream",
     "text": [
      "Saved gs://my-bigdata-project-cm/aggregated/part-00002-fb234cb4-8de3-45e6-9598-df1d90cd18a3-c000.snappy.parquet\n",
      "Processing cleaned/yellow_tripdata_2015-07.parquet/part-00003-fb234cb4-8de3-45e6-9598-df1d90cd18a3-c000.snappy.parquet:\n"
     ]
    },
    {
     "name": "stderr",
     "output_type": "stream",
     "text": [
      "                                                                                \r"
     ]
    },
    {
     "name": "stdout",
     "output_type": "stream",
     "text": [
      "Saved gs://my-bigdata-project-cm/aggregated/part-00003-fb234cb4-8de3-45e6-9598-df1d90cd18a3-c000.snappy.parquet\n",
      "Processing cleaned/yellow_tripdata_2015-07.parquet/part-00004-fb234cb4-8de3-45e6-9598-df1d90cd18a3-c000.snappy.parquet:\n"
     ]
    },
    {
     "name": "stderr",
     "output_type": "stream",
     "text": [
      "                                                                                \r"
     ]
    },
    {
     "name": "stdout",
     "output_type": "stream",
     "text": [
      "Saved gs://my-bigdata-project-cm/aggregated/part-00004-fb234cb4-8de3-45e6-9598-df1d90cd18a3-c000.snappy.parquet\n",
      "Processing cleaned/yellow_tripdata_2015-07.parquet/part-00005-fb234cb4-8de3-45e6-9598-df1d90cd18a3-c000.snappy.parquet:\n"
     ]
    },
    {
     "name": "stderr",
     "output_type": "stream",
     "text": [
      "                                                                                \r"
     ]
    },
    {
     "name": "stdout",
     "output_type": "stream",
     "text": [
      "Saved gs://my-bigdata-project-cm/aggregated/part-00005-fb234cb4-8de3-45e6-9598-df1d90cd18a3-c000.snappy.parquet\n",
      "Processing cleaned/yellow_tripdata_2015-07.parquet/part-00006-fb234cb4-8de3-45e6-9598-df1d90cd18a3-c000.snappy.parquet:\n"
     ]
    },
    {
     "name": "stderr",
     "output_type": "stream",
     "text": [
      "                                                                                \r"
     ]
    },
    {
     "name": "stdout",
     "output_type": "stream",
     "text": [
      "Saved gs://my-bigdata-project-cm/aggregated/part-00006-fb234cb4-8de3-45e6-9598-df1d90cd18a3-c000.snappy.parquet\n",
      "Processing cleaned/yellow_tripdata_2015-07.parquet/part-00007-fb234cb4-8de3-45e6-9598-df1d90cd18a3-c000.snappy.parquet:\n"
     ]
    },
    {
     "name": "stderr",
     "output_type": "stream",
     "text": [
      "                                                                                \r"
     ]
    },
    {
     "name": "stdout",
     "output_type": "stream",
     "text": [
      "Saved gs://my-bigdata-project-cm/aggregated/part-00007-fb234cb4-8de3-45e6-9598-df1d90cd18a3-c000.snappy.parquet\n",
      "Processing cleaned/yellow_tripdata_2015-07.parquet/part-00008-fb234cb4-8de3-45e6-9598-df1d90cd18a3-c000.snappy.parquet:\n"
     ]
    },
    {
     "name": "stderr",
     "output_type": "stream",
     "text": [
      "                                                                                \r"
     ]
    },
    {
     "name": "stdout",
     "output_type": "stream",
     "text": [
      "Saved gs://my-bigdata-project-cm/aggregated/part-00008-fb234cb4-8de3-45e6-9598-df1d90cd18a3-c000.snappy.parquet\n",
      "Processing cleaned/yellow_tripdata_2015-07.parquet/part-00009-fb234cb4-8de3-45e6-9598-df1d90cd18a3-c000.snappy.parquet:\n"
     ]
    },
    {
     "name": "stderr",
     "output_type": "stream",
     "text": [
      "                                                                                \r"
     ]
    },
    {
     "name": "stdout",
     "output_type": "stream",
     "text": [
      "Saved gs://my-bigdata-project-cm/aggregated/part-00009-fb234cb4-8de3-45e6-9598-df1d90cd18a3-c000.snappy.parquet\n",
      "Processing cleaned/yellow_tripdata_2015-07.parquet/part-00010-fb234cb4-8de3-45e6-9598-df1d90cd18a3-c000.snappy.parquet:\n"
     ]
    },
    {
     "name": "stderr",
     "output_type": "stream",
     "text": [
      "                                                                                \r"
     ]
    },
    {
     "name": "stdout",
     "output_type": "stream",
     "text": [
      "Saved gs://my-bigdata-project-cm/aggregated/part-00010-fb234cb4-8de3-45e6-9598-df1d90cd18a3-c000.snappy.parquet\n",
      "Skipping file cleaned/yellow_tripdata_2015-08.parquet/\n",
      "Skipping file cleaned/yellow_tripdata_2015-08.parquet/_SUCCESS\n",
      "Processing cleaned/yellow_tripdata_2015-08.parquet/part-00000-88d8c4b7-0483-4d07-8c5a-288b481b8ee6-c000.snappy.parquet:\n"
     ]
    },
    {
     "name": "stderr",
     "output_type": "stream",
     "text": [
      "                                                                                \r"
     ]
    },
    {
     "name": "stdout",
     "output_type": "stream",
     "text": [
      "Saved gs://my-bigdata-project-cm/aggregated/part-00000-88d8c4b7-0483-4d07-8c5a-288b481b8ee6-c000.snappy.parquet\n",
      "Processing cleaned/yellow_tripdata_2015-08.parquet/part-00001-88d8c4b7-0483-4d07-8c5a-288b481b8ee6-c000.snappy.parquet:\n"
     ]
    },
    {
     "name": "stderr",
     "output_type": "stream",
     "text": [
      "                                                                                \r"
     ]
    },
    {
     "name": "stdout",
     "output_type": "stream",
     "text": [
      "Saved gs://my-bigdata-project-cm/aggregated/part-00001-88d8c4b7-0483-4d07-8c5a-288b481b8ee6-c000.snappy.parquet\n",
      "Processing cleaned/yellow_tripdata_2015-08.parquet/part-00002-88d8c4b7-0483-4d07-8c5a-288b481b8ee6-c000.snappy.parquet:\n"
     ]
    },
    {
     "name": "stderr",
     "output_type": "stream",
     "text": [
      "                                                                                \r"
     ]
    },
    {
     "name": "stdout",
     "output_type": "stream",
     "text": [
      "Saved gs://my-bigdata-project-cm/aggregated/part-00002-88d8c4b7-0483-4d07-8c5a-288b481b8ee6-c000.snappy.parquet\n",
      "Processing cleaned/yellow_tripdata_2015-08.parquet/part-00003-88d8c4b7-0483-4d07-8c5a-288b481b8ee6-c000.snappy.parquet:\n"
     ]
    },
    {
     "name": "stderr",
     "output_type": "stream",
     "text": [
      "                                                                                \r"
     ]
    },
    {
     "name": "stdout",
     "output_type": "stream",
     "text": [
      "Saved gs://my-bigdata-project-cm/aggregated/part-00003-88d8c4b7-0483-4d07-8c5a-288b481b8ee6-c000.snappy.parquet\n",
      "Processing cleaned/yellow_tripdata_2015-08.parquet/part-00004-88d8c4b7-0483-4d07-8c5a-288b481b8ee6-c000.snappy.parquet:\n"
     ]
    },
    {
     "name": "stderr",
     "output_type": "stream",
     "text": [
      "                                                                                \r"
     ]
    },
    {
     "name": "stdout",
     "output_type": "stream",
     "text": [
      "Saved gs://my-bigdata-project-cm/aggregated/part-00004-88d8c4b7-0483-4d07-8c5a-288b481b8ee6-c000.snappy.parquet\n",
      "Processing cleaned/yellow_tripdata_2015-08.parquet/part-00005-88d8c4b7-0483-4d07-8c5a-288b481b8ee6-c000.snappy.parquet:\n"
     ]
    },
    {
     "name": "stderr",
     "output_type": "stream",
     "text": [
      "                                                                                \r"
     ]
    },
    {
     "name": "stdout",
     "output_type": "stream",
     "text": [
      "Saved gs://my-bigdata-project-cm/aggregated/part-00005-88d8c4b7-0483-4d07-8c5a-288b481b8ee6-c000.snappy.parquet\n",
      "Processing cleaned/yellow_tripdata_2015-08.parquet/part-00006-88d8c4b7-0483-4d07-8c5a-288b481b8ee6-c000.snappy.parquet:\n"
     ]
    },
    {
     "name": "stderr",
     "output_type": "stream",
     "text": [
      "                                                                                \r"
     ]
    },
    {
     "name": "stdout",
     "output_type": "stream",
     "text": [
      "Saved gs://my-bigdata-project-cm/aggregated/part-00006-88d8c4b7-0483-4d07-8c5a-288b481b8ee6-c000.snappy.parquet\n",
      "Processing cleaned/yellow_tripdata_2015-08.parquet/part-00007-88d8c4b7-0483-4d07-8c5a-288b481b8ee6-c000.snappy.parquet:\n"
     ]
    },
    {
     "name": "stderr",
     "output_type": "stream",
     "text": [
      "                                                                                \r"
     ]
    },
    {
     "name": "stdout",
     "output_type": "stream",
     "text": [
      "Saved gs://my-bigdata-project-cm/aggregated/part-00007-88d8c4b7-0483-4d07-8c5a-288b481b8ee6-c000.snappy.parquet\n",
      "Processing cleaned/yellow_tripdata_2015-08.parquet/part-00008-88d8c4b7-0483-4d07-8c5a-288b481b8ee6-c000.snappy.parquet:\n"
     ]
    },
    {
     "name": "stderr",
     "output_type": "stream",
     "text": [
      "                                                                                \r"
     ]
    },
    {
     "name": "stdout",
     "output_type": "stream",
     "text": [
      "Saved gs://my-bigdata-project-cm/aggregated/part-00008-88d8c4b7-0483-4d07-8c5a-288b481b8ee6-c000.snappy.parquet\n",
      "Skipping file cleaned/yellow_tripdata_2015-09.parquet/\n",
      "Skipping file cleaned/yellow_tripdata_2015-09.parquet/_SUCCESS\n",
      "Processing cleaned/yellow_tripdata_2015-09.parquet/part-00000-8e2f4dbc-6615-4852-abfc-fca1334f093d-c000.snappy.parquet:\n"
     ]
    },
    {
     "name": "stderr",
     "output_type": "stream",
     "text": [
      "                                                                                \r"
     ]
    },
    {
     "name": "stdout",
     "output_type": "stream",
     "text": [
      "Saved gs://my-bigdata-project-cm/aggregated/part-00000-8e2f4dbc-6615-4852-abfc-fca1334f093d-c000.snappy.parquet\n",
      "Processing cleaned/yellow_tripdata_2015-09.parquet/part-00001-8e2f4dbc-6615-4852-abfc-fca1334f093d-c000.snappy.parquet:\n"
     ]
    },
    {
     "name": "stderr",
     "output_type": "stream",
     "text": [
      "                                                                                \r"
     ]
    },
    {
     "name": "stdout",
     "output_type": "stream",
     "text": [
      "Saved gs://my-bigdata-project-cm/aggregated/part-00001-8e2f4dbc-6615-4852-abfc-fca1334f093d-c000.snappy.parquet\n",
      "Processing cleaned/yellow_tripdata_2015-09.parquet/part-00002-8e2f4dbc-6615-4852-abfc-fca1334f093d-c000.snappy.parquet:\n"
     ]
    },
    {
     "name": "stderr",
     "output_type": "stream",
     "text": [
      "                                                                                \r"
     ]
    },
    {
     "name": "stdout",
     "output_type": "stream",
     "text": [
      "Saved gs://my-bigdata-project-cm/aggregated/part-00002-8e2f4dbc-6615-4852-abfc-fca1334f093d-c000.snappy.parquet\n",
      "Processing cleaned/yellow_tripdata_2015-09.parquet/part-00003-8e2f4dbc-6615-4852-abfc-fca1334f093d-c000.snappy.parquet:\n"
     ]
    },
    {
     "name": "stderr",
     "output_type": "stream",
     "text": [
      "                                                                                \r"
     ]
    },
    {
     "name": "stdout",
     "output_type": "stream",
     "text": [
      "Saved gs://my-bigdata-project-cm/aggregated/part-00003-8e2f4dbc-6615-4852-abfc-fca1334f093d-c000.snappy.parquet\n",
      "Processing cleaned/yellow_tripdata_2015-09.parquet/part-00004-8e2f4dbc-6615-4852-abfc-fca1334f093d-c000.snappy.parquet:\n"
     ]
    },
    {
     "name": "stderr",
     "output_type": "stream",
     "text": [
      "                                                                                \r"
     ]
    },
    {
     "name": "stdout",
     "output_type": "stream",
     "text": [
      "Saved gs://my-bigdata-project-cm/aggregated/part-00004-8e2f4dbc-6615-4852-abfc-fca1334f093d-c000.snappy.parquet\n",
      "Processing cleaned/yellow_tripdata_2015-09.parquet/part-00005-8e2f4dbc-6615-4852-abfc-fca1334f093d-c000.snappy.parquet:\n"
     ]
    },
    {
     "name": "stderr",
     "output_type": "stream",
     "text": [
      "                                                                                \r"
     ]
    },
    {
     "name": "stdout",
     "output_type": "stream",
     "text": [
      "Saved gs://my-bigdata-project-cm/aggregated/part-00005-8e2f4dbc-6615-4852-abfc-fca1334f093d-c000.snappy.parquet\n",
      "Processing cleaned/yellow_tripdata_2015-09.parquet/part-00006-8e2f4dbc-6615-4852-abfc-fca1334f093d-c000.snappy.parquet:\n"
     ]
    },
    {
     "name": "stderr",
     "output_type": "stream",
     "text": [
      "                                                                                \r"
     ]
    },
    {
     "name": "stdout",
     "output_type": "stream",
     "text": [
      "Saved gs://my-bigdata-project-cm/aggregated/part-00006-8e2f4dbc-6615-4852-abfc-fca1334f093d-c000.snappy.parquet\n",
      "Processing cleaned/yellow_tripdata_2015-09.parquet/part-00007-8e2f4dbc-6615-4852-abfc-fca1334f093d-c000.snappy.parquet:\n"
     ]
    },
    {
     "name": "stderr",
     "output_type": "stream",
     "text": [
      "                                                                                \r"
     ]
    },
    {
     "name": "stdout",
     "output_type": "stream",
     "text": [
      "Saved gs://my-bigdata-project-cm/aggregated/part-00007-8e2f4dbc-6615-4852-abfc-fca1334f093d-c000.snappy.parquet\n",
      "Processing cleaned/yellow_tripdata_2015-09.parquet/part-00008-8e2f4dbc-6615-4852-abfc-fca1334f093d-c000.snappy.parquet:\n"
     ]
    },
    {
     "name": "stderr",
     "output_type": "stream",
     "text": [
      "                                                                                \r"
     ]
    },
    {
     "name": "stdout",
     "output_type": "stream",
     "text": [
      "Saved gs://my-bigdata-project-cm/aggregated/part-00008-8e2f4dbc-6615-4852-abfc-fca1334f093d-c000.snappy.parquet\n",
      "Processing cleaned/yellow_tripdata_2015-09.parquet/part-00009-8e2f4dbc-6615-4852-abfc-fca1334f093d-c000.snappy.parquet:\n"
     ]
    },
    {
     "name": "stderr",
     "output_type": "stream",
     "text": [
      "                                                                                \r"
     ]
    },
    {
     "name": "stdout",
     "output_type": "stream",
     "text": [
      "Saved gs://my-bigdata-project-cm/aggregated/part-00009-8e2f4dbc-6615-4852-abfc-fca1334f093d-c000.snappy.parquet\n",
      "Skipping file cleaned/yellow_tripdata_2015-10.parquet/\n",
      "Skipping file cleaned/yellow_tripdata_2015-10.parquet/_SUCCESS\n",
      "Processing cleaned/yellow_tripdata_2015-10.parquet/part-00000-0199117e-a861-4086-81e9-e263ce2762f2-c000.snappy.parquet:\n"
     ]
    },
    {
     "name": "stderr",
     "output_type": "stream",
     "text": [
      "                                                                                \r"
     ]
    },
    {
     "name": "stdout",
     "output_type": "stream",
     "text": [
      "Saved gs://my-bigdata-project-cm/aggregated/part-00000-0199117e-a861-4086-81e9-e263ce2762f2-c000.snappy.parquet\n",
      "Processing cleaned/yellow_tripdata_2015-10.parquet/part-00001-0199117e-a861-4086-81e9-e263ce2762f2-c000.snappy.parquet:\n"
     ]
    },
    {
     "name": "stderr",
     "output_type": "stream",
     "text": [
      "                                                                                \r"
     ]
    },
    {
     "name": "stdout",
     "output_type": "stream",
     "text": [
      "Saved gs://my-bigdata-project-cm/aggregated/part-00001-0199117e-a861-4086-81e9-e263ce2762f2-c000.snappy.parquet\n",
      "Processing cleaned/yellow_tripdata_2015-10.parquet/part-00002-0199117e-a861-4086-81e9-e263ce2762f2-c000.snappy.parquet:\n"
     ]
    },
    {
     "name": "stderr",
     "output_type": "stream",
     "text": [
      "                                                                                \r"
     ]
    },
    {
     "name": "stdout",
     "output_type": "stream",
     "text": [
      "Saved gs://my-bigdata-project-cm/aggregated/part-00002-0199117e-a861-4086-81e9-e263ce2762f2-c000.snappy.parquet\n",
      "Processing cleaned/yellow_tripdata_2015-10.parquet/part-00003-0199117e-a861-4086-81e9-e263ce2762f2-c000.snappy.parquet:\n"
     ]
    },
    {
     "name": "stderr",
     "output_type": "stream",
     "text": [
      "                                                                                \r"
     ]
    },
    {
     "name": "stdout",
     "output_type": "stream",
     "text": [
      "Saved gs://my-bigdata-project-cm/aggregated/part-00003-0199117e-a861-4086-81e9-e263ce2762f2-c000.snappy.parquet\n",
      "Processing cleaned/yellow_tripdata_2015-10.parquet/part-00004-0199117e-a861-4086-81e9-e263ce2762f2-c000.snappy.parquet:\n"
     ]
    },
    {
     "name": "stderr",
     "output_type": "stream",
     "text": [
      "                                                                                \r"
     ]
    },
    {
     "name": "stdout",
     "output_type": "stream",
     "text": [
      "Saved gs://my-bigdata-project-cm/aggregated/part-00004-0199117e-a861-4086-81e9-e263ce2762f2-c000.snappy.parquet\n",
      "Processing cleaned/yellow_tripdata_2015-10.parquet/part-00005-0199117e-a861-4086-81e9-e263ce2762f2-c000.snappy.parquet:\n"
     ]
    },
    {
     "name": "stderr",
     "output_type": "stream",
     "text": [
      "                                                                                \r"
     ]
    },
    {
     "name": "stdout",
     "output_type": "stream",
     "text": [
      "Saved gs://my-bigdata-project-cm/aggregated/part-00005-0199117e-a861-4086-81e9-e263ce2762f2-c000.snappy.parquet\n",
      "Processing cleaned/yellow_tripdata_2015-10.parquet/part-00006-0199117e-a861-4086-81e9-e263ce2762f2-c000.snappy.parquet:\n"
     ]
    },
    {
     "name": "stderr",
     "output_type": "stream",
     "text": [
      "                                                                                \r"
     ]
    },
    {
     "name": "stdout",
     "output_type": "stream",
     "text": [
      "Saved gs://my-bigdata-project-cm/aggregated/part-00006-0199117e-a861-4086-81e9-e263ce2762f2-c000.snappy.parquet\n",
      "Processing cleaned/yellow_tripdata_2015-10.parquet/part-00007-0199117e-a861-4086-81e9-e263ce2762f2-c000.snappy.parquet:\n"
     ]
    },
    {
     "name": "stderr",
     "output_type": "stream",
     "text": [
      "                                                                                \r"
     ]
    },
    {
     "name": "stdout",
     "output_type": "stream",
     "text": [
      "Saved gs://my-bigdata-project-cm/aggregated/part-00007-0199117e-a861-4086-81e9-e263ce2762f2-c000.snappy.parquet\n",
      "Processing cleaned/yellow_tripdata_2015-10.parquet/part-00008-0199117e-a861-4086-81e9-e263ce2762f2-c000.snappy.parquet:\n"
     ]
    },
    {
     "name": "stderr",
     "output_type": "stream",
     "text": [
      "                                                                                \r"
     ]
    },
    {
     "name": "stdout",
     "output_type": "stream",
     "text": [
      "Saved gs://my-bigdata-project-cm/aggregated/part-00008-0199117e-a861-4086-81e9-e263ce2762f2-c000.snappy.parquet\n",
      "Processing cleaned/yellow_tripdata_2015-10.parquet/part-00009-0199117e-a861-4086-81e9-e263ce2762f2-c000.snappy.parquet:\n"
     ]
    },
    {
     "name": "stderr",
     "output_type": "stream",
     "text": [
      "                                                                                \r"
     ]
    },
    {
     "name": "stdout",
     "output_type": "stream",
     "text": [
      "Saved gs://my-bigdata-project-cm/aggregated/part-00000-2fcad1fd-ec7c-4b0c-8213-f3c6ffb6cbe4-c000.snappy.parquet\n",
      "Processing cleaned/yellow_tripdata_2015-11.parquet/part-00001-2fcad1fd-ec7c-4b0c-8213-f3c6ffb6cbe4-c000.snappy.parquet:\n"
     ]
    },
    {
     "name": "stderr",
     "output_type": "stream",
     "text": [
      "                                                                                \r"
     ]
    },
    {
     "name": "stdout",
     "output_type": "stream",
     "text": [
      "Saved gs://my-bigdata-project-cm/aggregated/part-00001-2fcad1fd-ec7c-4b0c-8213-f3c6ffb6cbe4-c000.snappy.parquet\n",
      "Processing cleaned/yellow_tripdata_2015-11.parquet/part-00002-2fcad1fd-ec7c-4b0c-8213-f3c6ffb6cbe4-c000.snappy.parquet:\n"
     ]
    },
    {
     "name": "stderr",
     "output_type": "stream",
     "text": [
      "                                                                                \r"
     ]
    },
    {
     "name": "stdout",
     "output_type": "stream",
     "text": [
      "Saved gs://my-bigdata-project-cm/aggregated/part-00002-2fcad1fd-ec7c-4b0c-8213-f3c6ffb6cbe4-c000.snappy.parquet\n",
      "Processing cleaned/yellow_tripdata_2015-11.parquet/part-00003-2fcad1fd-ec7c-4b0c-8213-f3c6ffb6cbe4-c000.snappy.parquet:\n"
     ]
    },
    {
     "name": "stderr",
     "output_type": "stream",
     "text": [
      "                                                                                \r"
     ]
    },
    {
     "name": "stdout",
     "output_type": "stream",
     "text": [
      "Saved gs://my-bigdata-project-cm/aggregated/part-00003-2fcad1fd-ec7c-4b0c-8213-f3c6ffb6cbe4-c000.snappy.parquet\n",
      "Processing cleaned/yellow_tripdata_2015-11.parquet/part-00004-2fcad1fd-ec7c-4b0c-8213-f3c6ffb6cbe4-c000.snappy.parquet:\n"
     ]
    },
    {
     "name": "stderr",
     "output_type": "stream",
     "text": [
      "                                                                                \r"
     ]
    },
    {
     "name": "stdout",
     "output_type": "stream",
     "text": [
      "Saved gs://my-bigdata-project-cm/aggregated/part-00004-2fcad1fd-ec7c-4b0c-8213-f3c6ffb6cbe4-c000.snappy.parquet\n",
      "Processing cleaned/yellow_tripdata_2015-11.parquet/part-00005-2fcad1fd-ec7c-4b0c-8213-f3c6ffb6cbe4-c000.snappy.parquet:\n"
     ]
    },
    {
     "name": "stderr",
     "output_type": "stream",
     "text": [
      "                                                                                \r"
     ]
    },
    {
     "name": "stdout",
     "output_type": "stream",
     "text": [
      "Saved gs://my-bigdata-project-cm/aggregated/part-00005-2fcad1fd-ec7c-4b0c-8213-f3c6ffb6cbe4-c000.snappy.parquet\n",
      "Processing cleaned/yellow_tripdata_2015-11.parquet/part-00006-2fcad1fd-ec7c-4b0c-8213-f3c6ffb6cbe4-c000.snappy.parquet:\n"
     ]
    },
    {
     "name": "stderr",
     "output_type": "stream",
     "text": [
      "                                                                                \r"
     ]
    },
    {
     "name": "stdout",
     "output_type": "stream",
     "text": [
      "Saved gs://my-bigdata-project-cm/aggregated/part-00006-2fcad1fd-ec7c-4b0c-8213-f3c6ffb6cbe4-c000.snappy.parquet\n",
      "Processing cleaned/yellow_tripdata_2015-11.parquet/part-00007-2fcad1fd-ec7c-4b0c-8213-f3c6ffb6cbe4-c000.snappy.parquet:\n"
     ]
    },
    {
     "name": "stderr",
     "output_type": "stream",
     "text": [
      "                                                                                \r"
     ]
    },
    {
     "name": "stdout",
     "output_type": "stream",
     "text": [
      "Saved gs://my-bigdata-project-cm/aggregated/part-00007-2fcad1fd-ec7c-4b0c-8213-f3c6ffb6cbe4-c000.snappy.parquet\n",
      "Processing cleaned/yellow_tripdata_2015-11.parquet/part-00008-2fcad1fd-ec7c-4b0c-8213-f3c6ffb6cbe4-c000.snappy.parquet:\n"
     ]
    },
    {
     "name": "stderr",
     "output_type": "stream",
     "text": [
      "                                                                                \r"
     ]
    },
    {
     "name": "stdout",
     "output_type": "stream",
     "text": [
      "Saved gs://my-bigdata-project-cm/aggregated/part-00008-2fcad1fd-ec7c-4b0c-8213-f3c6ffb6cbe4-c000.snappy.parquet\n",
      "Skipping file cleaned/yellow_tripdata_2015-12.parquet/\n",
      "Skipping file cleaned/yellow_tripdata_2015-12.parquet/_SUCCESS\n",
      "Processing cleaned/yellow_tripdata_2015-12.parquet/part-00000-357c454c-2a9e-4670-a448-329ec7f15274-c000.snappy.parquet:\n"
     ]
    },
    {
     "name": "stderr",
     "output_type": "stream",
     "text": [
      "                                                                                \r"
     ]
    },
    {
     "name": "stdout",
     "output_type": "stream",
     "text": [
      "Saved gs://my-bigdata-project-cm/aggregated/part-00000-357c454c-2a9e-4670-a448-329ec7f15274-c000.snappy.parquet\n",
      "Processing cleaned/yellow_tripdata_2015-12.parquet/part-00001-357c454c-2a9e-4670-a448-329ec7f15274-c000.snappy.parquet:\n"
     ]
    },
    {
     "name": "stderr",
     "output_type": "stream",
     "text": [
      "                                                                                \r"
     ]
    },
    {
     "name": "stdout",
     "output_type": "stream",
     "text": [
      "Saved gs://my-bigdata-project-cm/aggregated/part-00001-357c454c-2a9e-4670-a448-329ec7f15274-c000.snappy.parquet\n",
      "Processing cleaned/yellow_tripdata_2015-12.parquet/part-00002-357c454c-2a9e-4670-a448-329ec7f15274-c000.snappy.parquet:\n"
     ]
    },
    {
     "name": "stderr",
     "output_type": "stream",
     "text": [
      "                                                                                \r"
     ]
    },
    {
     "name": "stdout",
     "output_type": "stream",
     "text": [
      "Saved gs://my-bigdata-project-cm/aggregated/part-00002-357c454c-2a9e-4670-a448-329ec7f15274-c000.snappy.parquet\n",
      "Processing cleaned/yellow_tripdata_2015-12.parquet/part-00003-357c454c-2a9e-4670-a448-329ec7f15274-c000.snappy.parquet:\n"
     ]
    },
    {
     "name": "stderr",
     "output_type": "stream",
     "text": [
      "                                                                                \r"
     ]
    },
    {
     "name": "stdout",
     "output_type": "stream",
     "text": [
      "Saved gs://my-bigdata-project-cm/aggregated/part-00003-357c454c-2a9e-4670-a448-329ec7f15274-c000.snappy.parquet\n",
      "Processing cleaned/yellow_tripdata_2015-12.parquet/part-00004-357c454c-2a9e-4670-a448-329ec7f15274-c000.snappy.parquet:\n"
     ]
    },
    {
     "name": "stderr",
     "output_type": "stream",
     "text": [
      "                                                                                \r"
     ]
    },
    {
     "name": "stdout",
     "output_type": "stream",
     "text": [
      "Saved gs://my-bigdata-project-cm/aggregated/part-00004-357c454c-2a9e-4670-a448-329ec7f15274-c000.snappy.parquet\n",
      "Processing cleaned/yellow_tripdata_2015-12.parquet/part-00005-357c454c-2a9e-4670-a448-329ec7f15274-c000.snappy.parquet:\n"
     ]
    },
    {
     "name": "stderr",
     "output_type": "stream",
     "text": [
      "                                                                                \r"
     ]
    },
    {
     "name": "stdout",
     "output_type": "stream",
     "text": [
      "Saved gs://my-bigdata-project-cm/aggregated/part-00005-357c454c-2a9e-4670-a448-329ec7f15274-c000.snappy.parquet\n",
      "Processing cleaned/yellow_tripdata_2015-12.parquet/part-00006-357c454c-2a9e-4670-a448-329ec7f15274-c000.snappy.parquet:\n"
     ]
    },
    {
     "name": "stderr",
     "output_type": "stream",
     "text": [
      "                                                                                \r"
     ]
    },
    {
     "name": "stdout",
     "output_type": "stream",
     "text": [
      "Saved gs://my-bigdata-project-cm/aggregated/part-00006-357c454c-2a9e-4670-a448-329ec7f15274-c000.snappy.parquet\n",
      "Processing cleaned/yellow_tripdata_2015-12.parquet/part-00007-357c454c-2a9e-4670-a448-329ec7f15274-c000.snappy.parquet:\n"
     ]
    },
    {
     "name": "stderr",
     "output_type": "stream",
     "text": [
      "                                                                                \r"
     ]
    },
    {
     "name": "stdout",
     "output_type": "stream",
     "text": [
      "Saved gs://my-bigdata-project-cm/aggregated/part-00007-357c454c-2a9e-4670-a448-329ec7f15274-c000.snappy.parquet\n",
      "Processing cleaned/yellow_tripdata_2015-12.parquet/part-00008-357c454c-2a9e-4670-a448-329ec7f15274-c000.snappy.parquet:\n"
     ]
    },
    {
     "name": "stderr",
     "output_type": "stream",
     "text": [
      "                                                                                \r"
     ]
    },
    {
     "name": "stdout",
     "output_type": "stream",
     "text": [
      "Saved gs://my-bigdata-project-cm/aggregated/part-00008-357c454c-2a9e-4670-a448-329ec7f15274-c000.snappy.parquet\n",
      "Skipping file cleaned/yellow_tripdata_2016-01.parquet/\n",
      "Skipping file cleaned/yellow_tripdata_2016-01.parquet/_SUCCESS\n",
      "Processing cleaned/yellow_tripdata_2016-01.parquet/part-00000-77bfb837-3bad-45d5-b67c-14044726381e-c000.snappy.parquet:\n"
     ]
    },
    {
     "name": "stderr",
     "output_type": "stream",
     "text": [
      "                                                                                \r"
     ]
    },
    {
     "name": "stdout",
     "output_type": "stream",
     "text": [
      "Saved gs://my-bigdata-project-cm/aggregated/part-00000-77bfb837-3bad-45d5-b67c-14044726381e-c000.snappy.parquet\n",
      "Processing cleaned/yellow_tripdata_2016-01.parquet/part-00001-77bfb837-3bad-45d5-b67c-14044726381e-c000.snappy.parquet:\n"
     ]
    },
    {
     "name": "stderr",
     "output_type": "stream",
     "text": [
      "                                                                                \r"
     ]
    },
    {
     "name": "stdout",
     "output_type": "stream",
     "text": [
      "Saved gs://my-bigdata-project-cm/aggregated/part-00001-77bfb837-3bad-45d5-b67c-14044726381e-c000.snappy.parquet\n",
      "Processing cleaned/yellow_tripdata_2016-01.parquet/part-00002-77bfb837-3bad-45d5-b67c-14044726381e-c000.snappy.parquet:\n"
     ]
    },
    {
     "name": "stderr",
     "output_type": "stream",
     "text": [
      "                                                                                \r"
     ]
    },
    {
     "name": "stdout",
     "output_type": "stream",
     "text": [
      "Saved gs://my-bigdata-project-cm/aggregated/part-00002-77bfb837-3bad-45d5-b67c-14044726381e-c000.snappy.parquet\n",
      "Processing cleaned/yellow_tripdata_2016-01.parquet/part-00003-77bfb837-3bad-45d5-b67c-14044726381e-c000.snappy.parquet:\n"
     ]
    },
    {
     "name": "stderr",
     "output_type": "stream",
     "text": [
      "                                                                                \r"
     ]
    },
    {
     "name": "stdout",
     "output_type": "stream",
     "text": [
      "Saved gs://my-bigdata-project-cm/aggregated/part-00003-77bfb837-3bad-45d5-b67c-14044726381e-c000.snappy.parquet\n",
      "Processing cleaned/yellow_tripdata_2016-01.parquet/part-00004-77bfb837-3bad-45d5-b67c-14044726381e-c000.snappy.parquet:\n"
     ]
    },
    {
     "name": "stderr",
     "output_type": "stream",
     "text": [
      "                                                                                \r"
     ]
    },
    {
     "name": "stdout",
     "output_type": "stream",
     "text": [
      "Saved gs://my-bigdata-project-cm/aggregated/part-00004-77bfb837-3bad-45d5-b67c-14044726381e-c000.snappy.parquet\n",
      "Processing cleaned/yellow_tripdata_2016-01.parquet/part-00005-77bfb837-3bad-45d5-b67c-14044726381e-c000.snappy.parquet:\n"
     ]
    },
    {
     "name": "stderr",
     "output_type": "stream",
     "text": [
      "                                                                                \r"
     ]
    },
    {
     "name": "stdout",
     "output_type": "stream",
     "text": [
      "Saved gs://my-bigdata-project-cm/aggregated/part-00005-77bfb837-3bad-45d5-b67c-14044726381e-c000.snappy.parquet\n",
      "Processing cleaned/yellow_tripdata_2016-01.parquet/part-00006-77bfb837-3bad-45d5-b67c-14044726381e-c000.snappy.parquet:\n"
     ]
    },
    {
     "name": "stderr",
     "output_type": "stream",
     "text": [
      "                                                                                \r"
     ]
    },
    {
     "name": "stdout",
     "output_type": "stream",
     "text": [
      "Saved gs://my-bigdata-project-cm/aggregated/part-00006-77bfb837-3bad-45d5-b67c-14044726381e-c000.snappy.parquet\n",
      "Processing cleaned/yellow_tripdata_2016-01.parquet/part-00007-77bfb837-3bad-45d5-b67c-14044726381e-c000.snappy.parquet:\n"
     ]
    },
    {
     "name": "stderr",
     "output_type": "stream",
     "text": [
      "                                                                                \r"
     ]
    },
    {
     "name": "stdout",
     "output_type": "stream",
     "text": [
      "Saved gs://my-bigdata-project-cm/aggregated/part-00007-77bfb837-3bad-45d5-b67c-14044726381e-c000.snappy.parquet\n",
      "Processing cleaned/yellow_tripdata_2016-01.parquet/part-00008-77bfb837-3bad-45d5-b67c-14044726381e-c000.snappy.parquet:\n"
     ]
    },
    {
     "name": "stderr",
     "output_type": "stream",
     "text": [
      "                                                                                \r"
     ]
    },
    {
     "name": "stdout",
     "output_type": "stream",
     "text": [
      "Saved gs://my-bigdata-project-cm/aggregated/part-00008-77bfb837-3bad-45d5-b67c-14044726381e-c000.snappy.parquet\n",
      "Skipping file cleaned/yellow_tripdata_2016-02.parquet/\n",
      "Skipping file cleaned/yellow_tripdata_2016-02.parquet/_SUCCESS\n",
      "Processing cleaned/yellow_tripdata_2016-02.parquet/part-00000-3d7f0f8b-d6bb-4448-a32a-a165cc8a7c77-c000.snappy.parquet:\n"
     ]
    },
    {
     "name": "stderr",
     "output_type": "stream",
     "text": [
      "                                                                                \r"
     ]
    },
    {
     "name": "stdout",
     "output_type": "stream",
     "text": [
      "Saved gs://my-bigdata-project-cm/aggregated/part-00000-3d7f0f8b-d6bb-4448-a32a-a165cc8a7c77-c000.snappy.parquet\n",
      "Processing cleaned/yellow_tripdata_2016-02.parquet/part-00001-3d7f0f8b-d6bb-4448-a32a-a165cc8a7c77-c000.snappy.parquet:\n"
     ]
    },
    {
     "name": "stderr",
     "output_type": "stream",
     "text": [
      "                                                                                \r"
     ]
    },
    {
     "name": "stdout",
     "output_type": "stream",
     "text": [
      "Saved gs://my-bigdata-project-cm/aggregated/part-00001-3d7f0f8b-d6bb-4448-a32a-a165cc8a7c77-c000.snappy.parquet\n",
      "Processing cleaned/yellow_tripdata_2016-02.parquet/part-00002-3d7f0f8b-d6bb-4448-a32a-a165cc8a7c77-c000.snappy.parquet:\n"
     ]
    },
    {
     "name": "stderr",
     "output_type": "stream",
     "text": [
      "                                                                                \r"
     ]
    },
    {
     "name": "stdout",
     "output_type": "stream",
     "text": [
      "Saved gs://my-bigdata-project-cm/aggregated/part-00002-3d7f0f8b-d6bb-4448-a32a-a165cc8a7c77-c000.snappy.parquet\n",
      "Processing cleaned/yellow_tripdata_2016-02.parquet/part-00003-3d7f0f8b-d6bb-4448-a32a-a165cc8a7c77-c000.snappy.parquet:\n"
     ]
    },
    {
     "name": "stderr",
     "output_type": "stream",
     "text": [
      "                                                                                \r"
     ]
    },
    {
     "name": "stdout",
     "output_type": "stream",
     "text": [
      "Saved gs://my-bigdata-project-cm/aggregated/part-00003-3d7f0f8b-d6bb-4448-a32a-a165cc8a7c77-c000.snappy.parquet\n",
      "Processing cleaned/yellow_tripdata_2016-02.parquet/part-00004-3d7f0f8b-d6bb-4448-a32a-a165cc8a7c77-c000.snappy.parquet:\n"
     ]
    },
    {
     "name": "stderr",
     "output_type": "stream",
     "text": [
      "                                                                                \r"
     ]
    },
    {
     "name": "stdout",
     "output_type": "stream",
     "text": [
      "Saved gs://my-bigdata-project-cm/aggregated/part-00004-3d7f0f8b-d6bb-4448-a32a-a165cc8a7c77-c000.snappy.parquet\n",
      "Processing cleaned/yellow_tripdata_2016-02.parquet/part-00005-3d7f0f8b-d6bb-4448-a32a-a165cc8a7c77-c000.snappy.parquet:\n"
     ]
    },
    {
     "name": "stderr",
     "output_type": "stream",
     "text": [
      "                                                                                \r"
     ]
    },
    {
     "name": "stdout",
     "output_type": "stream",
     "text": [
      "Saved gs://my-bigdata-project-cm/aggregated/part-00005-3d7f0f8b-d6bb-4448-a32a-a165cc8a7c77-c000.snappy.parquet\n",
      "Processing cleaned/yellow_tripdata_2016-02.parquet/part-00006-3d7f0f8b-d6bb-4448-a32a-a165cc8a7c77-c000.snappy.parquet:\n"
     ]
    },
    {
     "name": "stderr",
     "output_type": "stream",
     "text": [
      "                                                                                \r"
     ]
    },
    {
     "name": "stdout",
     "output_type": "stream",
     "text": [
      "Saved gs://my-bigdata-project-cm/aggregated/part-00006-3d7f0f8b-d6bb-4448-a32a-a165cc8a7c77-c000.snappy.parquet\n",
      "Processing cleaned/yellow_tripdata_2016-02.parquet/part-00007-3d7f0f8b-d6bb-4448-a32a-a165cc8a7c77-c000.snappy.parquet:\n"
     ]
    },
    {
     "name": "stderr",
     "output_type": "stream",
     "text": [
      "                                                                                \r"
     ]
    },
    {
     "name": "stdout",
     "output_type": "stream",
     "text": [
      "Saved gs://my-bigdata-project-cm/aggregated/part-00007-3d7f0f8b-d6bb-4448-a32a-a165cc8a7c77-c000.snappy.parquet\n",
      "Processing cleaned/yellow_tripdata_2016-02.parquet/part-00008-3d7f0f8b-d6bb-4448-a32a-a165cc8a7c77-c000.snappy.parquet:\n"
     ]
    },
    {
     "name": "stderr",
     "output_type": "stream",
     "text": [
      "                                                                                \r"
     ]
    },
    {
     "name": "stdout",
     "output_type": "stream",
     "text": [
      "Saved gs://my-bigdata-project-cm/aggregated/part-00008-3d7f0f8b-d6bb-4448-a32a-a165cc8a7c77-c000.snappy.parquet\n",
      "Skipping file cleaned/yellow_tripdata_2016-03.parquet/\n",
      "Skipping file cleaned/yellow_tripdata_2016-03.parquet/_SUCCESS\n",
      "Processing cleaned/yellow_tripdata_2016-03.parquet/part-00000-ee0ff163-0ba3-4c89-ba0a-67b9f4513c60-c000.snappy.parquet:\n"
     ]
    },
    {
     "name": "stderr",
     "output_type": "stream",
     "text": [
      "                                                                                \r"
     ]
    },
    {
     "name": "stdout",
     "output_type": "stream",
     "text": [
      "Saved gs://my-bigdata-project-cm/aggregated/part-00000-ee0ff163-0ba3-4c89-ba0a-67b9f4513c60-c000.snappy.parquet\n",
      "Processing cleaned/yellow_tripdata_2016-03.parquet/part-00001-ee0ff163-0ba3-4c89-ba0a-67b9f4513c60-c000.snappy.parquet:\n"
     ]
    },
    {
     "name": "stderr",
     "output_type": "stream",
     "text": [
      "                                                                                \r"
     ]
    },
    {
     "name": "stdout",
     "output_type": "stream",
     "text": [
      "Saved gs://my-bigdata-project-cm/aggregated/part-00001-ee0ff163-0ba3-4c89-ba0a-67b9f4513c60-c000.snappy.parquet\n",
      "Processing cleaned/yellow_tripdata_2016-03.parquet/part-00002-ee0ff163-0ba3-4c89-ba0a-67b9f4513c60-c000.snappy.parquet:\n"
     ]
    },
    {
     "name": "stderr",
     "output_type": "stream",
     "text": [
      "                                                                                \r"
     ]
    },
    {
     "name": "stdout",
     "output_type": "stream",
     "text": [
      "Saved gs://my-bigdata-project-cm/aggregated/part-00002-ee0ff163-0ba3-4c89-ba0a-67b9f4513c60-c000.snappy.parquet\n",
      "Processing cleaned/yellow_tripdata_2016-03.parquet/part-00003-ee0ff163-0ba3-4c89-ba0a-67b9f4513c60-c000.snappy.parquet:\n"
     ]
    },
    {
     "name": "stderr",
     "output_type": "stream",
     "text": [
      "                                                                                \r"
     ]
    },
    {
     "name": "stdout",
     "output_type": "stream",
     "text": [
      "Saved gs://my-bigdata-project-cm/aggregated/part-00003-ee0ff163-0ba3-4c89-ba0a-67b9f4513c60-c000.snappy.parquet\n",
      "Processing cleaned/yellow_tripdata_2016-03.parquet/part-00004-ee0ff163-0ba3-4c89-ba0a-67b9f4513c60-c000.snappy.parquet:\n"
     ]
    },
    {
     "name": "stderr",
     "output_type": "stream",
     "text": [
      "                                                                                \r"
     ]
    },
    {
     "name": "stdout",
     "output_type": "stream",
     "text": [
      "Saved gs://my-bigdata-project-cm/aggregated/part-00004-ee0ff163-0ba3-4c89-ba0a-67b9f4513c60-c000.snappy.parquet\n",
      "Processing cleaned/yellow_tripdata_2016-03.parquet/part-00005-ee0ff163-0ba3-4c89-ba0a-67b9f4513c60-c000.snappy.parquet:\n",
      "Saved gs://my-bigdata-project-cm/aggregated/part-00005-ee0ff163-0ba3-4c89-ba0a-67b9f4513c60-c000.snappy.parquet\n",
      "Processing cleaned/yellow_tripdata_2016-03.parquet/part-00006-ee0ff163-0ba3-4c89-ba0a-67b9f4513c60-c000.snappy.parquet:\n"
     ]
    },
    {
     "name": "stderr",
     "output_type": "stream",
     "text": [
      "                                                                                \r"
     ]
    },
    {
     "name": "stdout",
     "output_type": "stream",
     "text": [
      "Saved gs://my-bigdata-project-cm/aggregated/part-00006-ee0ff163-0ba3-4c89-ba0a-67b9f4513c60-c000.snappy.parquet\n",
      "Processing cleaned/yellow_tripdata_2016-03.parquet/part-00007-ee0ff163-0ba3-4c89-ba0a-67b9f4513c60-c000.snappy.parquet:\n"
     ]
    },
    {
     "name": "stderr",
     "output_type": "stream",
     "text": [
      "                                                                                \r"
     ]
    },
    {
     "name": "stdout",
     "output_type": "stream",
     "text": [
      "Saved gs://my-bigdata-project-cm/aggregated/part-00007-ee0ff163-0ba3-4c89-ba0a-67b9f4513c60-c000.snappy.parquet\n",
      "Processing cleaned/yellow_tripdata_2016-03.parquet/part-00008-ee0ff163-0ba3-4c89-ba0a-67b9f4513c60-c000.snappy.parquet:\n"
     ]
    },
    {
     "name": "stderr",
     "output_type": "stream",
     "text": [
      "                                                                                \r"
     ]
    },
    {
     "name": "stdout",
     "output_type": "stream",
     "text": [
      "Saved gs://my-bigdata-project-cm/aggregated/part-00008-ee0ff163-0ba3-4c89-ba0a-67b9f4513c60-c000.snappy.parquet\n",
      "Processing cleaned/yellow_tripdata_2016-03.parquet/part-00009-ee0ff163-0ba3-4c89-ba0a-67b9f4513c60-c000.snappy.parquet:\n"
     ]
    },
    {
     "name": "stderr",
     "output_type": "stream",
     "text": [
      "                                                                                \r"
     ]
    },
    {
     "name": "stdout",
     "output_type": "stream",
     "text": [
      "Saved gs://my-bigdata-project-cm/aggregated/part-00009-ee0ff163-0ba3-4c89-ba0a-67b9f4513c60-c000.snappy.parquet\n",
      "Skipping file cleaned/yellow_tripdata_2016-04.parquet/\n",
      "Skipping file cleaned/yellow_tripdata_2016-04.parquet/_SUCCESS\n",
      "Processing cleaned/yellow_tripdata_2016-04.parquet/part-00000-149cda46-22cc-49e1-874b-a413f04846ee-c000.snappy.parquet:\n"
     ]
    },
    {
     "name": "stderr",
     "output_type": "stream",
     "text": [
      "                                                                                \r"
     ]
    },
    {
     "name": "stdout",
     "output_type": "stream",
     "text": [
      "Saved gs://my-bigdata-project-cm/aggregated/part-00000-149cda46-22cc-49e1-874b-a413f04846ee-c000.snappy.parquet\n",
      "Processing cleaned/yellow_tripdata_2016-04.parquet/part-00001-149cda46-22cc-49e1-874b-a413f04846ee-c000.snappy.parquet:\n"
     ]
    },
    {
     "name": "stderr",
     "output_type": "stream",
     "text": [
      "                                                                                \r"
     ]
    },
    {
     "name": "stdout",
     "output_type": "stream",
     "text": [
      "Saved gs://my-bigdata-project-cm/aggregated/part-00001-149cda46-22cc-49e1-874b-a413f04846ee-c000.snappy.parquet\n",
      "Processing cleaned/yellow_tripdata_2016-04.parquet/part-00002-149cda46-22cc-49e1-874b-a413f04846ee-c000.snappy.parquet:\n"
     ]
    },
    {
     "name": "stderr",
     "output_type": "stream",
     "text": [
      "                                                                                \r"
     ]
    },
    {
     "name": "stdout",
     "output_type": "stream",
     "text": [
      "Saved gs://my-bigdata-project-cm/aggregated/part-00002-149cda46-22cc-49e1-874b-a413f04846ee-c000.snappy.parquet\n",
      "Processing cleaned/yellow_tripdata_2016-04.parquet/part-00003-149cda46-22cc-49e1-874b-a413f04846ee-c000.snappy.parquet:\n"
     ]
    },
    {
     "name": "stderr",
     "output_type": "stream",
     "text": [
      "                                                                                \r"
     ]
    },
    {
     "name": "stdout",
     "output_type": "stream",
     "text": [
      "Saved gs://my-bigdata-project-cm/aggregated/part-00003-149cda46-22cc-49e1-874b-a413f04846ee-c000.snappy.parquet\n",
      "Processing cleaned/yellow_tripdata_2016-04.parquet/part-00004-149cda46-22cc-49e1-874b-a413f04846ee-c000.snappy.parquet:\n"
     ]
    },
    {
     "name": "stderr",
     "output_type": "stream",
     "text": [
      "                                                                                \r"
     ]
    },
    {
     "name": "stdout",
     "output_type": "stream",
     "text": [
      "Saved gs://my-bigdata-project-cm/aggregated/part-00004-149cda46-22cc-49e1-874b-a413f04846ee-c000.snappy.parquet\n",
      "Processing cleaned/yellow_tripdata_2016-04.parquet/part-00005-149cda46-22cc-49e1-874b-a413f04846ee-c000.snappy.parquet:\n"
     ]
    },
    {
     "name": "stderr",
     "output_type": "stream",
     "text": [
      "                                                                                \r"
     ]
    },
    {
     "name": "stdout",
     "output_type": "stream",
     "text": [
      "Saved gs://my-bigdata-project-cm/aggregated/part-00005-149cda46-22cc-49e1-874b-a413f04846ee-c000.snappy.parquet\n",
      "Processing cleaned/yellow_tripdata_2016-04.parquet/part-00006-149cda46-22cc-49e1-874b-a413f04846ee-c000.snappy.parquet:\n"
     ]
    },
    {
     "name": "stderr",
     "output_type": "stream",
     "text": [
      "                                                                                \r"
     ]
    },
    {
     "name": "stdout",
     "output_type": "stream",
     "text": [
      "Saved gs://my-bigdata-project-cm/aggregated/part-00006-149cda46-22cc-49e1-874b-a413f04846ee-c000.snappy.parquet\n",
      "Processing cleaned/yellow_tripdata_2016-04.parquet/part-00007-149cda46-22cc-49e1-874b-a413f04846ee-c000.snappy.parquet:\n"
     ]
    },
    {
     "name": "stderr",
     "output_type": "stream",
     "text": [
      "                                                                                \r"
     ]
    },
    {
     "name": "stdout",
     "output_type": "stream",
     "text": [
      "Saved gs://my-bigdata-project-cm/aggregated/part-00007-149cda46-22cc-49e1-874b-a413f04846ee-c000.snappy.parquet\n",
      "Processing cleaned/yellow_tripdata_2016-04.parquet/part-00008-149cda46-22cc-49e1-874b-a413f04846ee-c000.snappy.parquet:\n"
     ]
    },
    {
     "name": "stderr",
     "output_type": "stream",
     "text": [
      "                                                                                \r"
     ]
    },
    {
     "name": "stdout",
     "output_type": "stream",
     "text": [
      "Saved gs://my-bigdata-project-cm/aggregated/part-00008-149cda46-22cc-49e1-874b-a413f04846ee-c000.snappy.parquet\n",
      "Processing cleaned/yellow_tripdata_2016-04.parquet/part-00009-149cda46-22cc-49e1-874b-a413f04846ee-c000.snappy.parquet:\n"
     ]
    },
    {
     "name": "stderr",
     "output_type": "stream",
     "text": [
      "                                                                                \r"
     ]
    },
    {
     "name": "stdout",
     "output_type": "stream",
     "text": [
      "Saved gs://my-bigdata-project-cm/aggregated/part-00000-46218a8b-fbdf-49b4-b53b-77efb8d12cd6-c000.snappy.parquet\n",
      "Processing cleaned/yellow_tripdata_2016-05.parquet/part-00001-46218a8b-fbdf-49b4-b53b-77efb8d12cd6-c000.snappy.parquet:\n"
     ]
    },
    {
     "name": "stderr",
     "output_type": "stream",
     "text": [
      "                                                                                \r"
     ]
    },
    {
     "name": "stdout",
     "output_type": "stream",
     "text": [
      "Saved gs://my-bigdata-project-cm/aggregated/part-00001-46218a8b-fbdf-49b4-b53b-77efb8d12cd6-c000.snappy.parquet\n",
      "Processing cleaned/yellow_tripdata_2016-05.parquet/part-00002-46218a8b-fbdf-49b4-b53b-77efb8d12cd6-c000.snappy.parquet:\n"
     ]
    },
    {
     "name": "stderr",
     "output_type": "stream",
     "text": [
      "                                                                                \r"
     ]
    },
    {
     "name": "stdout",
     "output_type": "stream",
     "text": [
      "Saved gs://my-bigdata-project-cm/aggregated/part-00002-46218a8b-fbdf-49b4-b53b-77efb8d12cd6-c000.snappy.parquet\n",
      "Processing cleaned/yellow_tripdata_2016-05.parquet/part-00003-46218a8b-fbdf-49b4-b53b-77efb8d12cd6-c000.snappy.parquet:\n"
     ]
    },
    {
     "name": "stderr",
     "output_type": "stream",
     "text": [
      "                                                                                \r"
     ]
    },
    {
     "name": "stdout",
     "output_type": "stream",
     "text": [
      "Saved gs://my-bigdata-project-cm/aggregated/part-00003-46218a8b-fbdf-49b4-b53b-77efb8d12cd6-c000.snappy.parquet\n",
      "Processing cleaned/yellow_tripdata_2016-05.parquet/part-00004-46218a8b-fbdf-49b4-b53b-77efb8d12cd6-c000.snappy.parquet:\n"
     ]
    },
    {
     "name": "stderr",
     "output_type": "stream",
     "text": [
      "                                                                                \r"
     ]
    },
    {
     "name": "stdout",
     "output_type": "stream",
     "text": [
      "Saved gs://my-bigdata-project-cm/aggregated/part-00004-46218a8b-fbdf-49b4-b53b-77efb8d12cd6-c000.snappy.parquet\n",
      "Processing cleaned/yellow_tripdata_2016-05.parquet/part-00005-46218a8b-fbdf-49b4-b53b-77efb8d12cd6-c000.snappy.parquet:\n"
     ]
    },
    {
     "name": "stderr",
     "output_type": "stream",
     "text": [
      "                                                                                \r"
     ]
    },
    {
     "name": "stdout",
     "output_type": "stream",
     "text": [
      "Saved gs://my-bigdata-project-cm/aggregated/part-00005-46218a8b-fbdf-49b4-b53b-77efb8d12cd6-c000.snappy.parquet\n",
      "Processing cleaned/yellow_tripdata_2016-05.parquet/part-00006-46218a8b-fbdf-49b4-b53b-77efb8d12cd6-c000.snappy.parquet:\n"
     ]
    },
    {
     "name": "stderr",
     "output_type": "stream",
     "text": [
      "                                                                                \r"
     ]
    },
    {
     "name": "stdout",
     "output_type": "stream",
     "text": [
      "Saved gs://my-bigdata-project-cm/aggregated/part-00006-46218a8b-fbdf-49b4-b53b-77efb8d12cd6-c000.snappy.parquet\n",
      "Processing cleaned/yellow_tripdata_2016-05.parquet/part-00007-46218a8b-fbdf-49b4-b53b-77efb8d12cd6-c000.snappy.parquet:\n"
     ]
    },
    {
     "name": "stderr",
     "output_type": "stream",
     "text": [
      "                                                                                \r"
     ]
    },
    {
     "name": "stdout",
     "output_type": "stream",
     "text": [
      "Saved gs://my-bigdata-project-cm/aggregated/part-00007-46218a8b-fbdf-49b4-b53b-77efb8d12cd6-c000.snappy.parquet\n",
      "Processing cleaned/yellow_tripdata_2016-05.parquet/part-00008-46218a8b-fbdf-49b4-b53b-77efb8d12cd6-c000.snappy.parquet:\n"
     ]
    },
    {
     "name": "stderr",
     "output_type": "stream",
     "text": [
      "                                                                                \r"
     ]
    },
    {
     "name": "stdout",
     "output_type": "stream",
     "text": [
      "Saved gs://my-bigdata-project-cm/aggregated/part-00008-46218a8b-fbdf-49b4-b53b-77efb8d12cd6-c000.snappy.parquet\n",
      "Processing cleaned/yellow_tripdata_2016-05.parquet/part-00009-46218a8b-fbdf-49b4-b53b-77efb8d12cd6-c000.snappy.parquet:\n"
     ]
    },
    {
     "name": "stderr",
     "output_type": "stream",
     "text": [
      "                                                                                \r"
     ]
    },
    {
     "name": "stdout",
     "output_type": "stream",
     "text": [
      "Saved gs://my-bigdata-project-cm/aggregated/part-00009-46218a8b-fbdf-49b4-b53b-77efb8d12cd6-c000.snappy.parquet\n",
      "Processing cleaned/yellow_tripdata_2016-05.parquet/part-00010-46218a8b-fbdf-49b4-b53b-77efb8d12cd6-c000.snappy.parquet:\n"
     ]
    },
    {
     "name": "stderr",
     "output_type": "stream",
     "text": [
      "                                                                                \r"
     ]
    },
    {
     "name": "stdout",
     "output_type": "stream",
     "text": [
      "Saved gs://my-bigdata-project-cm/aggregated/part-00010-46218a8b-fbdf-49b4-b53b-77efb8d12cd6-c000.snappy.parquet\n",
      "Skipping file cleaned/yellow_tripdata_2016-06.parquet/\n",
      "Skipping file cleaned/yellow_tripdata_2016-06.parquet/_SUCCESS\n",
      "Processing cleaned/yellow_tripdata_2016-06.parquet/part-00000-d17f1e21-5777-498b-945a-a93503384fb1-c000.snappy.parquet:\n"
     ]
    },
    {
     "name": "stderr",
     "output_type": "stream",
     "text": [
      "                                                                                \r"
     ]
    },
    {
     "name": "stdout",
     "output_type": "stream",
     "text": [
      "Saved gs://my-bigdata-project-cm/aggregated/part-00000-d17f1e21-5777-498b-945a-a93503384fb1-c000.snappy.parquet\n",
      "Processing cleaned/yellow_tripdata_2016-06.parquet/part-00001-d17f1e21-5777-498b-945a-a93503384fb1-c000.snappy.parquet:\n"
     ]
    },
    {
     "name": "stderr",
     "output_type": "stream",
     "text": [
      "                                                                                \r"
     ]
    },
    {
     "name": "stdout",
     "output_type": "stream",
     "text": [
      "Saved gs://my-bigdata-project-cm/aggregated/part-00001-d17f1e21-5777-498b-945a-a93503384fb1-c000.snappy.parquet\n",
      "Processing cleaned/yellow_tripdata_2016-06.parquet/part-00002-d17f1e21-5777-498b-945a-a93503384fb1-c000.snappy.parquet:\n"
     ]
    },
    {
     "name": "stderr",
     "output_type": "stream",
     "text": [
      "                                                                                \r"
     ]
    },
    {
     "name": "stdout",
     "output_type": "stream",
     "text": [
      "Saved gs://my-bigdata-project-cm/aggregated/part-00002-d17f1e21-5777-498b-945a-a93503384fb1-c000.snappy.parquet\n",
      "Processing cleaned/yellow_tripdata_2016-06.parquet/part-00003-d17f1e21-5777-498b-945a-a93503384fb1-c000.snappy.parquet:\n"
     ]
    },
    {
     "name": "stderr",
     "output_type": "stream",
     "text": [
      "                                                                                \r"
     ]
    },
    {
     "name": "stdout",
     "output_type": "stream",
     "text": [
      "Saved gs://my-bigdata-project-cm/aggregated/part-00003-d17f1e21-5777-498b-945a-a93503384fb1-c000.snappy.parquet\n",
      "Processing cleaned/yellow_tripdata_2016-06.parquet/part-00004-d17f1e21-5777-498b-945a-a93503384fb1-c000.snappy.parquet:\n"
     ]
    },
    {
     "name": "stderr",
     "output_type": "stream",
     "text": [
      "                                                                                \r"
     ]
    },
    {
     "name": "stdout",
     "output_type": "stream",
     "text": [
      "Saved gs://my-bigdata-project-cm/aggregated/part-00004-d17f1e21-5777-498b-945a-a93503384fb1-c000.snappy.parquet\n",
      "Processing cleaned/yellow_tripdata_2016-06.parquet/part-00005-d17f1e21-5777-498b-945a-a93503384fb1-c000.snappy.parquet:\n"
     ]
    },
    {
     "name": "stderr",
     "output_type": "stream",
     "text": [
      "                                                                                \r"
     ]
    },
    {
     "name": "stdout",
     "output_type": "stream",
     "text": [
      "Saved gs://my-bigdata-project-cm/aggregated/part-00005-d17f1e21-5777-498b-945a-a93503384fb1-c000.snappy.parquet\n",
      "Processing cleaned/yellow_tripdata_2016-06.parquet/part-00006-d17f1e21-5777-498b-945a-a93503384fb1-c000.snappy.parquet:\n"
     ]
    },
    {
     "name": "stderr",
     "output_type": "stream",
     "text": [
      "                                                                                \r"
     ]
    },
    {
     "name": "stdout",
     "output_type": "stream",
     "text": [
      "Saved gs://my-bigdata-project-cm/aggregated/part-00006-d17f1e21-5777-498b-945a-a93503384fb1-c000.snappy.parquet\n",
      "Processing cleaned/yellow_tripdata_2016-06.parquet/part-00007-d17f1e21-5777-498b-945a-a93503384fb1-c000.snappy.parquet:\n"
     ]
    },
    {
     "name": "stderr",
     "output_type": "stream",
     "text": [
      "                                                                                \r"
     ]
    },
    {
     "name": "stdout",
     "output_type": "stream",
     "text": [
      "Saved gs://my-bigdata-project-cm/aggregated/part-00007-d17f1e21-5777-498b-945a-a93503384fb1-c000.snappy.parquet\n",
      "Processing cleaned/yellow_tripdata_2016-06.parquet/part-00008-d17f1e21-5777-498b-945a-a93503384fb1-c000.snappy.parquet:\n"
     ]
    },
    {
     "name": "stderr",
     "output_type": "stream",
     "text": [
      "                                                                                \r"
     ]
    },
    {
     "name": "stdout",
     "output_type": "stream",
     "text": [
      "Saved gs://my-bigdata-project-cm/aggregated/part-00008-d17f1e21-5777-498b-945a-a93503384fb1-c000.snappy.parquet\n",
      "Skipping file cleaned/yellow_tripdata_2016-07.parquet/\n",
      "Skipping file cleaned/yellow_tripdata_2016-07.parquet/_SUCCESS\n",
      "Processing cleaned/yellow_tripdata_2016-07.parquet/part-00000-f174569a-9e6b-4000-a892-d96f4075206b-c000.snappy.parquet:\n"
     ]
    },
    {
     "name": "stderr",
     "output_type": "stream",
     "text": [
      "                                                                                \r"
     ]
    },
    {
     "name": "stdout",
     "output_type": "stream",
     "text": [
      "Saved gs://my-bigdata-project-cm/aggregated/part-00000-f174569a-9e6b-4000-a892-d96f4075206b-c000.snappy.parquet\n",
      "Processing cleaned/yellow_tripdata_2016-07.parquet/part-00001-f174569a-9e6b-4000-a892-d96f4075206b-c000.snappy.parquet:\n"
     ]
    },
    {
     "name": "stderr",
     "output_type": "stream",
     "text": [
      "                                                                                \r"
     ]
    },
    {
     "name": "stdout",
     "output_type": "stream",
     "text": [
      "Saved gs://my-bigdata-project-cm/aggregated/part-00001-f174569a-9e6b-4000-a892-d96f4075206b-c000.snappy.parquet\n",
      "Processing cleaned/yellow_tripdata_2016-07.parquet/part-00002-f174569a-9e6b-4000-a892-d96f4075206b-c000.snappy.parquet:\n"
     ]
    },
    {
     "name": "stderr",
     "output_type": "stream",
     "text": [
      "                                                                                \r"
     ]
    },
    {
     "name": "stdout",
     "output_type": "stream",
     "text": [
      "Saved gs://my-bigdata-project-cm/aggregated/part-00002-f174569a-9e6b-4000-a892-d96f4075206b-c000.snappy.parquet\n",
      "Processing cleaned/yellow_tripdata_2016-07.parquet/part-00003-f174569a-9e6b-4000-a892-d96f4075206b-c000.snappy.parquet:\n"
     ]
    },
    {
     "name": "stderr",
     "output_type": "stream",
     "text": [
      "                                                                                \r"
     ]
    },
    {
     "name": "stdout",
     "output_type": "stream",
     "text": [
      "Saved gs://my-bigdata-project-cm/aggregated/part-00003-f174569a-9e6b-4000-a892-d96f4075206b-c000.snappy.parquet\n",
      "Processing cleaned/yellow_tripdata_2016-07.parquet/part-00004-f174569a-9e6b-4000-a892-d96f4075206b-c000.snappy.parquet:\n"
     ]
    },
    {
     "name": "stderr",
     "output_type": "stream",
     "text": [
      "                                                                                \r"
     ]
    },
    {
     "name": "stdout",
     "output_type": "stream",
     "text": [
      "Saved gs://my-bigdata-project-cm/aggregated/part-00004-f174569a-9e6b-4000-a892-d96f4075206b-c000.snappy.parquet\n",
      "Processing cleaned/yellow_tripdata_2016-07.parquet/part-00005-f174569a-9e6b-4000-a892-d96f4075206b-c000.snappy.parquet:\n"
     ]
    },
    {
     "name": "stderr",
     "output_type": "stream",
     "text": [
      "                                                                                \r"
     ]
    },
    {
     "name": "stdout",
     "output_type": "stream",
     "text": [
      "Saved gs://my-bigdata-project-cm/aggregated/part-00005-f174569a-9e6b-4000-a892-d96f4075206b-c000.snappy.parquet\n",
      "Processing cleaned/yellow_tripdata_2016-07.parquet/part-00006-f174569a-9e6b-4000-a892-d96f4075206b-c000.snappy.parquet:\n"
     ]
    },
    {
     "name": "stderr",
     "output_type": "stream",
     "text": [
      "                                                                                \r"
     ]
    },
    {
     "name": "stdout",
     "output_type": "stream",
     "text": [
      "Saved gs://my-bigdata-project-cm/aggregated/part-00006-f174569a-9e6b-4000-a892-d96f4075206b-c000.snappy.parquet\n",
      "Processing cleaned/yellow_tripdata_2016-07.parquet/part-00007-f174569a-9e6b-4000-a892-d96f4075206b-c000.snappy.parquet:\n"
     ]
    },
    {
     "name": "stderr",
     "output_type": "stream",
     "text": [
      "                                                                                \r"
     ]
    },
    {
     "name": "stdout",
     "output_type": "stream",
     "text": [
      "Saved gs://my-bigdata-project-cm/aggregated/part-00007-f174569a-9e6b-4000-a892-d96f4075206b-c000.snappy.parquet\n",
      "Skipping file cleaned/yellow_tripdata_2016-08.parquet/\n",
      "Skipping file cleaned/yellow_tripdata_2016-08.parquet/_SUCCESS\n",
      "Processing cleaned/yellow_tripdata_2016-08.parquet/part-00000-71758097-0b48-456b-a89e-d6ddfaf00aec-c000.snappy.parquet:\n"
     ]
    },
    {
     "name": "stderr",
     "output_type": "stream",
     "text": [
      "                                                                                \r"
     ]
    },
    {
     "name": "stdout",
     "output_type": "stream",
     "text": [
      "Saved gs://my-bigdata-project-cm/aggregated/part-00000-71758097-0b48-456b-a89e-d6ddfaf00aec-c000.snappy.parquet\n",
      "Processing cleaned/yellow_tripdata_2016-08.parquet/part-00001-71758097-0b48-456b-a89e-d6ddfaf00aec-c000.snappy.parquet:\n"
     ]
    },
    {
     "name": "stderr",
     "output_type": "stream",
     "text": [
      "                                                                                \r"
     ]
    },
    {
     "name": "stdout",
     "output_type": "stream",
     "text": [
      "Saved gs://my-bigdata-project-cm/aggregated/part-00001-71758097-0b48-456b-a89e-d6ddfaf00aec-c000.snappy.parquet\n",
      "Processing cleaned/yellow_tripdata_2016-08.parquet/part-00002-71758097-0b48-456b-a89e-d6ddfaf00aec-c000.snappy.parquet:\n"
     ]
    },
    {
     "name": "stderr",
     "output_type": "stream",
     "text": [
      "                                                                                \r"
     ]
    },
    {
     "name": "stdout",
     "output_type": "stream",
     "text": [
      "Saved gs://my-bigdata-project-cm/aggregated/part-00002-71758097-0b48-456b-a89e-d6ddfaf00aec-c000.snappy.parquet\n",
      "Processing cleaned/yellow_tripdata_2016-08.parquet/part-00003-71758097-0b48-456b-a89e-d6ddfaf00aec-c000.snappy.parquet:\n"
     ]
    },
    {
     "name": "stderr",
     "output_type": "stream",
     "text": [
      "                                                                                \r"
     ]
    },
    {
     "name": "stdout",
     "output_type": "stream",
     "text": [
      "Saved gs://my-bigdata-project-cm/aggregated/part-00003-71758097-0b48-456b-a89e-d6ddfaf00aec-c000.snappy.parquet\n",
      "Processing cleaned/yellow_tripdata_2016-08.parquet/part-00004-71758097-0b48-456b-a89e-d6ddfaf00aec-c000.snappy.parquet:\n"
     ]
    },
    {
     "name": "stderr",
     "output_type": "stream",
     "text": [
      "                                                                                \r"
     ]
    },
    {
     "name": "stdout",
     "output_type": "stream",
     "text": [
      "Saved gs://my-bigdata-project-cm/aggregated/part-00004-71758097-0b48-456b-a89e-d6ddfaf00aec-c000.snappy.parquet\n",
      "Processing cleaned/yellow_tripdata_2016-08.parquet/part-00005-71758097-0b48-456b-a89e-d6ddfaf00aec-c000.snappy.parquet:\n"
     ]
    },
    {
     "name": "stderr",
     "output_type": "stream",
     "text": [
      "                                                                                \r"
     ]
    },
    {
     "name": "stdout",
     "output_type": "stream",
     "text": [
      "Saved gs://my-bigdata-project-cm/aggregated/part-00005-71758097-0b48-456b-a89e-d6ddfaf00aec-c000.snappy.parquet\n",
      "Processing cleaned/yellow_tripdata_2016-08.parquet/part-00006-71758097-0b48-456b-a89e-d6ddfaf00aec-c000.snappy.parquet:\n"
     ]
    },
    {
     "name": "stderr",
     "output_type": "stream",
     "text": [
      "                                                                                \r"
     ]
    },
    {
     "name": "stdout",
     "output_type": "stream",
     "text": [
      "Saved gs://my-bigdata-project-cm/aggregated/part-00006-71758097-0b48-456b-a89e-d6ddfaf00aec-c000.snappy.parquet\n",
      "Processing cleaned/yellow_tripdata_2016-08.parquet/part-00007-71758097-0b48-456b-a89e-d6ddfaf00aec-c000.snappy.parquet:\n"
     ]
    },
    {
     "name": "stderr",
     "output_type": "stream",
     "text": [
      "                                                                                \r"
     ]
    },
    {
     "name": "stdout",
     "output_type": "stream",
     "text": [
      "Saved gs://my-bigdata-project-cm/aggregated/part-00007-71758097-0b48-456b-a89e-d6ddfaf00aec-c000.snappy.parquet\n",
      "Skipping file cleaned/yellow_tripdata_2016-09.parquet/\n",
      "Skipping file cleaned/yellow_tripdata_2016-09.parquet/_SUCCESS\n",
      "Processing cleaned/yellow_tripdata_2016-09.parquet/part-00000-05644413-56ed-496c-9ff3-cbde589fd80e-c000.snappy.parquet:\n"
     ]
    },
    {
     "name": "stderr",
     "output_type": "stream",
     "text": [
      "                                                                                \r"
     ]
    },
    {
     "name": "stdout",
     "output_type": "stream",
     "text": [
      "Saved gs://my-bigdata-project-cm/aggregated/part-00000-05644413-56ed-496c-9ff3-cbde589fd80e-c000.snappy.parquet\n",
      "Processing cleaned/yellow_tripdata_2016-09.parquet/part-00001-05644413-56ed-496c-9ff3-cbde589fd80e-c000.snappy.parquet:\n"
     ]
    },
    {
     "name": "stderr",
     "output_type": "stream",
     "text": [
      "                                                                                \r"
     ]
    },
    {
     "name": "stdout",
     "output_type": "stream",
     "text": [
      "Saved gs://my-bigdata-project-cm/aggregated/part-00001-05644413-56ed-496c-9ff3-cbde589fd80e-c000.snappy.parquet\n",
      "Processing cleaned/yellow_tripdata_2016-09.parquet/part-00002-05644413-56ed-496c-9ff3-cbde589fd80e-c000.snappy.parquet:\n"
     ]
    },
    {
     "name": "stderr",
     "output_type": "stream",
     "text": [
      "                                                                                \r"
     ]
    },
    {
     "name": "stdout",
     "output_type": "stream",
     "text": [
      "Saved gs://my-bigdata-project-cm/aggregated/part-00002-05644413-56ed-496c-9ff3-cbde589fd80e-c000.snappy.parquet\n",
      "Processing cleaned/yellow_tripdata_2016-09.parquet/part-00003-05644413-56ed-496c-9ff3-cbde589fd80e-c000.snappy.parquet:\n"
     ]
    },
    {
     "name": "stderr",
     "output_type": "stream",
     "text": [
      "                                                                                \r"
     ]
    },
    {
     "name": "stdout",
     "output_type": "stream",
     "text": [
      "Saved gs://my-bigdata-project-cm/aggregated/part-00003-05644413-56ed-496c-9ff3-cbde589fd80e-c000.snappy.parquet\n",
      "Processing cleaned/yellow_tripdata_2016-09.parquet/part-00004-05644413-56ed-496c-9ff3-cbde589fd80e-c000.snappy.parquet:\n"
     ]
    },
    {
     "name": "stderr",
     "output_type": "stream",
     "text": [
      "                                                                                \r"
     ]
    },
    {
     "name": "stdout",
     "output_type": "stream",
     "text": [
      "Saved gs://my-bigdata-project-cm/aggregated/part-00004-05644413-56ed-496c-9ff3-cbde589fd80e-c000.snappy.parquet\n",
      "Processing cleaned/yellow_tripdata_2016-09.parquet/part-00005-05644413-56ed-496c-9ff3-cbde589fd80e-c000.snappy.parquet:\n"
     ]
    },
    {
     "name": "stderr",
     "output_type": "stream",
     "text": [
      "                                                                                \r"
     ]
    },
    {
     "name": "stdout",
     "output_type": "stream",
     "text": [
      "Saved gs://my-bigdata-project-cm/aggregated/part-00005-05644413-56ed-496c-9ff3-cbde589fd80e-c000.snappy.parquet\n",
      "Processing cleaned/yellow_tripdata_2016-09.parquet/part-00006-05644413-56ed-496c-9ff3-cbde589fd80e-c000.snappy.parquet:\n"
     ]
    },
    {
     "name": "stderr",
     "output_type": "stream",
     "text": [
      "                                                                                \r"
     ]
    },
    {
     "name": "stdout",
     "output_type": "stream",
     "text": [
      "Saved gs://my-bigdata-project-cm/aggregated/part-00006-05644413-56ed-496c-9ff3-cbde589fd80e-c000.snappy.parquet\n",
      "Processing cleaned/yellow_tripdata_2016-09.parquet/part-00007-05644413-56ed-496c-9ff3-cbde589fd80e-c000.snappy.parquet:\n"
     ]
    },
    {
     "name": "stderr",
     "output_type": "stream",
     "text": [
      "                                                                                \r"
     ]
    },
    {
     "name": "stdout",
     "output_type": "stream",
     "text": [
      "Saved gs://my-bigdata-project-cm/aggregated/part-00007-05644413-56ed-496c-9ff3-cbde589fd80e-c000.snappy.parquet\n",
      "Skipping file cleaned/yellow_tripdata_2016-10.parquet/\n",
      "Skipping file cleaned/yellow_tripdata_2016-10.parquet/_SUCCESS\n",
      "Processing cleaned/yellow_tripdata_2016-10.parquet/part-00000-90211605-1953-476c-a251-4ff7cb0ace45-c000.snappy.parquet:\n"
     ]
    },
    {
     "name": "stderr",
     "output_type": "stream",
     "text": [
      "                                                                                \r"
     ]
    },
    {
     "name": "stdout",
     "output_type": "stream",
     "text": [
      "Saved gs://my-bigdata-project-cm/aggregated/part-00000-90211605-1953-476c-a251-4ff7cb0ace45-c000.snappy.parquet\n",
      "Processing cleaned/yellow_tripdata_2016-10.parquet/part-00001-90211605-1953-476c-a251-4ff7cb0ace45-c000.snappy.parquet:\n"
     ]
    },
    {
     "name": "stderr",
     "output_type": "stream",
     "text": [
      "                                                                                \r"
     ]
    },
    {
     "name": "stdout",
     "output_type": "stream",
     "text": [
      "Saved gs://my-bigdata-project-cm/aggregated/part-00001-90211605-1953-476c-a251-4ff7cb0ace45-c000.snappy.parquet\n",
      "Processing cleaned/yellow_tripdata_2016-10.parquet/part-00002-90211605-1953-476c-a251-4ff7cb0ace45-c000.snappy.parquet:\n"
     ]
    },
    {
     "name": "stderr",
     "output_type": "stream",
     "text": [
      "                                                                                \r"
     ]
    },
    {
     "name": "stdout",
     "output_type": "stream",
     "text": [
      "Saved gs://my-bigdata-project-cm/aggregated/part-00002-90211605-1953-476c-a251-4ff7cb0ace45-c000.snappy.parquet\n",
      "Processing cleaned/yellow_tripdata_2016-10.parquet/part-00003-90211605-1953-476c-a251-4ff7cb0ace45-c000.snappy.parquet:\n"
     ]
    },
    {
     "name": "stderr",
     "output_type": "stream",
     "text": [
      "                                                                                \r"
     ]
    },
    {
     "name": "stdout",
     "output_type": "stream",
     "text": [
      "Saved gs://my-bigdata-project-cm/aggregated/part-00003-90211605-1953-476c-a251-4ff7cb0ace45-c000.snappy.parquet\n",
      "Processing cleaned/yellow_tripdata_2016-10.parquet/part-00004-90211605-1953-476c-a251-4ff7cb0ace45-c000.snappy.parquet:\n"
     ]
    },
    {
     "name": "stderr",
     "output_type": "stream",
     "text": [
      "                                                                                \r"
     ]
    },
    {
     "name": "stdout",
     "output_type": "stream",
     "text": [
      "Saved gs://my-bigdata-project-cm/aggregated/part-00004-90211605-1953-476c-a251-4ff7cb0ace45-c000.snappy.parquet\n",
      "Processing cleaned/yellow_tripdata_2016-10.parquet/part-00005-90211605-1953-476c-a251-4ff7cb0ace45-c000.snappy.parquet:\n"
     ]
    },
    {
     "name": "stderr",
     "output_type": "stream",
     "text": [
      "                                                                                \r"
     ]
    },
    {
     "name": "stdout",
     "output_type": "stream",
     "text": [
      "Saved gs://my-bigdata-project-cm/aggregated/part-00005-90211605-1953-476c-a251-4ff7cb0ace45-c000.snappy.parquet\n",
      "Processing cleaned/yellow_tripdata_2016-10.parquet/part-00006-90211605-1953-476c-a251-4ff7cb0ace45-c000.snappy.parquet:\n"
     ]
    },
    {
     "name": "stderr",
     "output_type": "stream",
     "text": [
      "                                                                                \r"
     ]
    },
    {
     "name": "stdout",
     "output_type": "stream",
     "text": [
      "Saved gs://my-bigdata-project-cm/aggregated/part-00006-90211605-1953-476c-a251-4ff7cb0ace45-c000.snappy.parquet\n",
      "Processing cleaned/yellow_tripdata_2016-10.parquet/part-00007-90211605-1953-476c-a251-4ff7cb0ace45-c000.snappy.parquet:\n"
     ]
    },
    {
     "name": "stderr",
     "output_type": "stream",
     "text": [
      "                                                                                \r"
     ]
    },
    {
     "name": "stdout",
     "output_type": "stream",
     "text": [
      "Saved gs://my-bigdata-project-cm/aggregated/part-00007-90211605-1953-476c-a251-4ff7cb0ace45-c000.snappy.parquet\n",
      "Processing cleaned/yellow_tripdata_2016-10.parquet/part-00008-90211605-1953-476c-a251-4ff7cb0ace45-c000.snappy.parquet:\n"
     ]
    },
    {
     "name": "stderr",
     "output_type": "stream",
     "text": [
      "                                                                                \r"
     ]
    },
    {
     "name": "stdout",
     "output_type": "stream",
     "text": [
      "Saved gs://my-bigdata-project-cm/aggregated/part-00008-90211605-1953-476c-a251-4ff7cb0ace45-c000.snappy.parquet\n",
      "Skipping file cleaned/yellow_tripdata_2016-11.parquet/\n",
      "Skipping file cleaned/yellow_tripdata_2016-11.parquet/_SUCCESS\n",
      "Processing cleaned/yellow_tripdata_2016-11.parquet/part-00000-81a640be-242f-4a5e-beac-24b751a90468-c000.snappy.parquet:\n"
     ]
    },
    {
     "name": "stderr",
     "output_type": "stream",
     "text": [
      "                                                                                \r"
     ]
    },
    {
     "name": "stdout",
     "output_type": "stream",
     "text": [
      "Saved gs://my-bigdata-project-cm/aggregated/part-00000-81a640be-242f-4a5e-beac-24b751a90468-c000.snappy.parquet\n",
      "Processing cleaned/yellow_tripdata_2016-11.parquet/part-00001-81a640be-242f-4a5e-beac-24b751a90468-c000.snappy.parquet:\n"
     ]
    },
    {
     "name": "stderr",
     "output_type": "stream",
     "text": [
      "                                                                                \r"
     ]
    },
    {
     "name": "stdout",
     "output_type": "stream",
     "text": [
      "Saved gs://my-bigdata-project-cm/aggregated/part-00001-81a640be-242f-4a5e-beac-24b751a90468-c000.snappy.parquet\n",
      "Processing cleaned/yellow_tripdata_2016-11.parquet/part-00002-81a640be-242f-4a5e-beac-24b751a90468-c000.snappy.parquet:\n"
     ]
    },
    {
     "name": "stderr",
     "output_type": "stream",
     "text": [
      "                                                                                \r"
     ]
    },
    {
     "name": "stdout",
     "output_type": "stream",
     "text": [
      "Saved gs://my-bigdata-project-cm/aggregated/part-00002-81a640be-242f-4a5e-beac-24b751a90468-c000.snappy.parquet\n",
      "Processing cleaned/yellow_tripdata_2016-11.parquet/part-00003-81a640be-242f-4a5e-beac-24b751a90468-c000.snappy.parquet:\n"
     ]
    },
    {
     "name": "stderr",
     "output_type": "stream",
     "text": [
      "                                                                                \r"
     ]
    },
    {
     "name": "stdout",
     "output_type": "stream",
     "text": [
      "Saved gs://my-bigdata-project-cm/aggregated/part-00003-81a640be-242f-4a5e-beac-24b751a90468-c000.snappy.parquet\n",
      "Processing cleaned/yellow_tripdata_2016-11.parquet/part-00004-81a640be-242f-4a5e-beac-24b751a90468-c000.snappy.parquet:\n"
     ]
    },
    {
     "name": "stderr",
     "output_type": "stream",
     "text": [
      "                                                                                \r"
     ]
    },
    {
     "name": "stdout",
     "output_type": "stream",
     "text": [
      "Saved gs://my-bigdata-project-cm/aggregated/part-00004-81a640be-242f-4a5e-beac-24b751a90468-c000.snappy.parquet\n",
      "Processing cleaned/yellow_tripdata_2016-11.parquet/part-00005-81a640be-242f-4a5e-beac-24b751a90468-c000.snappy.parquet:\n"
     ]
    },
    {
     "name": "stderr",
     "output_type": "stream",
     "text": [
      "                                                                                \r"
     ]
    },
    {
     "name": "stdout",
     "output_type": "stream",
     "text": [
      "Saved gs://my-bigdata-project-cm/aggregated/part-00005-81a640be-242f-4a5e-beac-24b751a90468-c000.snappy.parquet\n",
      "Processing cleaned/yellow_tripdata_2016-11.parquet/part-00006-81a640be-242f-4a5e-beac-24b751a90468-c000.snappy.parquet:\n"
     ]
    },
    {
     "name": "stderr",
     "output_type": "stream",
     "text": [
      "                                                                                \r"
     ]
    },
    {
     "name": "stdout",
     "output_type": "stream",
     "text": [
      "Saved gs://my-bigdata-project-cm/aggregated/part-00006-81a640be-242f-4a5e-beac-24b751a90468-c000.snappy.parquet\n",
      "Processing cleaned/yellow_tripdata_2016-11.parquet/part-00007-81a640be-242f-4a5e-beac-24b751a90468-c000.snappy.parquet:\n"
     ]
    },
    {
     "name": "stderr",
     "output_type": "stream",
     "text": [
      "                                                                                \r"
     ]
    },
    {
     "name": "stdout",
     "output_type": "stream",
     "text": [
      "Saved gs://my-bigdata-project-cm/aggregated/part-00007-81a640be-242f-4a5e-beac-24b751a90468-c000.snappy.parquet\n",
      "Processing cleaned/yellow_tripdata_2016-11.parquet/part-00008-81a640be-242f-4a5e-beac-24b751a90468-c000.snappy.parquet:\n"
     ]
    },
    {
     "name": "stderr",
     "output_type": "stream",
     "text": [
      "                                                                                \r"
     ]
    },
    {
     "name": "stdout",
     "output_type": "stream",
     "text": [
      "Saved gs://my-bigdata-project-cm/aggregated/part-00008-81a640be-242f-4a5e-beac-24b751a90468-c000.snappy.parquet\n",
      "Processing cleaned/yellow_tripdata_2016-11.parquet/part-00009-81a640be-242f-4a5e-beac-24b751a90468-c000.snappy.parquet:\n"
     ]
    },
    {
     "name": "stderr",
     "output_type": "stream",
     "text": [
      "                                                                                \r"
     ]
    },
    {
     "name": "stdout",
     "output_type": "stream",
     "text": [
      "Saved gs://my-bigdata-project-cm/aggregated/part-00009-81a640be-242f-4a5e-beac-24b751a90468-c000.snappy.parquet\n",
      "Processing cleaned/yellow_tripdata_2016-11.parquet/part-00010-81a640be-242f-4a5e-beac-24b751a90468-c000.snappy.parquet:\n"
     ]
    },
    {
     "name": "stderr",
     "output_type": "stream",
     "text": [
      "                                                                                \r"
     ]
    },
    {
     "name": "stdout",
     "output_type": "stream",
     "text": [
      "Saved gs://my-bigdata-project-cm/aggregated/part-00010-81a640be-242f-4a5e-beac-24b751a90468-c000.snappy.parquet\n",
      "Processing cleaned/yellow_tripdata_2016-11.parquet/part-00011-81a640be-242f-4a5e-beac-24b751a90468-c000.snappy.parquet:\n"
     ]
    },
    {
     "name": "stderr",
     "output_type": "stream",
     "text": [
      "                                                                                \r"
     ]
    },
    {
     "name": "stdout",
     "output_type": "stream",
     "text": [
      "Saved gs://my-bigdata-project-cm/aggregated/part-00011-81a640be-242f-4a5e-beac-24b751a90468-c000.snappy.parquet\n",
      "Skipping file cleaned/yellow_tripdata_2016-12.parquet/\n",
      "Skipping file cleaned/yellow_tripdata_2016-12.parquet/_SUCCESS\n",
      "Processing cleaned/yellow_tripdata_2016-12.parquet/part-00000-dc68f3c8-b528-4772-b98b-87839556ee19-c000.snappy.parquet:\n"
     ]
    },
    {
     "name": "stderr",
     "output_type": "stream",
     "text": [
      "                                                                                \r"
     ]
    },
    {
     "name": "stdout",
     "output_type": "stream",
     "text": [
      "Saved gs://my-bigdata-project-cm/aggregated/part-00000-dc68f3c8-b528-4772-b98b-87839556ee19-c000.snappy.parquet\n",
      "Processing cleaned/yellow_tripdata_2016-12.parquet/part-00001-dc68f3c8-b528-4772-b98b-87839556ee19-c000.snappy.parquet:\n"
     ]
    },
    {
     "name": "stderr",
     "output_type": "stream",
     "text": [
      "                                                                                \r"
     ]
    },
    {
     "name": "stdout",
     "output_type": "stream",
     "text": [
      "Saved gs://my-bigdata-project-cm/aggregated/part-00001-dc68f3c8-b528-4772-b98b-87839556ee19-c000.snappy.parquet\n",
      "Processing cleaned/yellow_tripdata_2016-12.parquet/part-00002-dc68f3c8-b528-4772-b98b-87839556ee19-c000.snappy.parquet:\n"
     ]
    },
    {
     "name": "stderr",
     "output_type": "stream",
     "text": [
      "                                                                                \r"
     ]
    },
    {
     "name": "stdout",
     "output_type": "stream",
     "text": [
      "Saved gs://my-bigdata-project-cm/aggregated/part-00002-dc68f3c8-b528-4772-b98b-87839556ee19-c000.snappy.parquet\n",
      "Processing cleaned/yellow_tripdata_2016-12.parquet/part-00003-dc68f3c8-b528-4772-b98b-87839556ee19-c000.snappy.parquet:\n"
     ]
    },
    {
     "name": "stderr",
     "output_type": "stream",
     "text": [
      "                                                                                \r"
     ]
    },
    {
     "name": "stdout",
     "output_type": "stream",
     "text": [
      "Saved gs://my-bigdata-project-cm/aggregated/part-00003-dc68f3c8-b528-4772-b98b-87839556ee19-c000.snappy.parquet\n",
      "Processing cleaned/yellow_tripdata_2016-12.parquet/part-00004-dc68f3c8-b528-4772-b98b-87839556ee19-c000.snappy.parquet:\n"
     ]
    },
    {
     "name": "stderr",
     "output_type": "stream",
     "text": [
      "                                                                                \r"
     ]
    },
    {
     "name": "stdout",
     "output_type": "stream",
     "text": [
      "Saved gs://my-bigdata-project-cm/aggregated/part-00004-dc68f3c8-b528-4772-b98b-87839556ee19-c000.snappy.parquet\n",
      "Processing cleaned/yellow_tripdata_2016-12.parquet/part-00005-dc68f3c8-b528-4772-b98b-87839556ee19-c000.snappy.parquet:\n"
     ]
    },
    {
     "name": "stderr",
     "output_type": "stream",
     "text": [
      "                                                                                \r"
     ]
    },
    {
     "name": "stdout",
     "output_type": "stream",
     "text": [
      "Saved gs://my-bigdata-project-cm/aggregated/part-00005-dc68f3c8-b528-4772-b98b-87839556ee19-c000.snappy.parquet\n",
      "Processing cleaned/yellow_tripdata_2016-12.parquet/part-00006-dc68f3c8-b528-4772-b98b-87839556ee19-c000.snappy.parquet:\n"
     ]
    },
    {
     "name": "stderr",
     "output_type": "stream",
     "text": [
      "                                                                                \r"
     ]
    },
    {
     "name": "stdout",
     "output_type": "stream",
     "text": [
      "Saved gs://my-bigdata-project-cm/aggregated/part-00006-dc68f3c8-b528-4772-b98b-87839556ee19-c000.snappy.parquet\n",
      "Processing cleaned/yellow_tripdata_2016-12.parquet/part-00007-dc68f3c8-b528-4772-b98b-87839556ee19-c000.snappy.parquet:\n"
     ]
    },
    {
     "name": "stderr",
     "output_type": "stream",
     "text": [
      "                                                                                \r"
     ]
    },
    {
     "name": "stdout",
     "output_type": "stream",
     "text": [
      "Saved gs://my-bigdata-project-cm/aggregated/part-00007-dc68f3c8-b528-4772-b98b-87839556ee19-c000.snappy.parquet\n",
      "Processing cleaned/yellow_tripdata_2016-12.parquet/part-00008-dc68f3c8-b528-4772-b98b-87839556ee19-c000.snappy.parquet:\n"
     ]
    },
    {
     "name": "stderr",
     "output_type": "stream",
     "text": [
      "                                                                                \r"
     ]
    },
    {
     "name": "stdout",
     "output_type": "stream",
     "text": [
      "Saved gs://my-bigdata-project-cm/aggregated/part-00008-dc68f3c8-b528-4772-b98b-87839556ee19-c000.snappy.parquet\n",
      "Skipping file cleaned/yellow_tripdata_2017-01.parquet/\n",
      "Skipping file cleaned/yellow_tripdata_2017-01.parquet/_SUCCESS\n",
      "Processing cleaned/yellow_tripdata_2017-01.parquet/part-00000-64905110-e7c7-403c-a8e2-3950974a8a29-c000.snappy.parquet:\n"
     ]
    },
    {
     "name": "stderr",
     "output_type": "stream",
     "text": [
      "                                                                                \r"
     ]
    },
    {
     "name": "stdout",
     "output_type": "stream",
     "text": [
      "Saved gs://my-bigdata-project-cm/aggregated/part-00000-64905110-e7c7-403c-a8e2-3950974a8a29-c000.snappy.parquet\n",
      "Processing cleaned/yellow_tripdata_2017-01.parquet/part-00001-64905110-e7c7-403c-a8e2-3950974a8a29-c000.snappy.parquet:\n"
     ]
    },
    {
     "name": "stderr",
     "output_type": "stream",
     "text": [
      "                                                                                \r"
     ]
    },
    {
     "name": "stdout",
     "output_type": "stream",
     "text": [
      "Saved gs://my-bigdata-project-cm/aggregated/part-00001-64905110-e7c7-403c-a8e2-3950974a8a29-c000.snappy.parquet\n",
      "Processing cleaned/yellow_tripdata_2017-01.parquet/part-00002-64905110-e7c7-403c-a8e2-3950974a8a29-c000.snappy.parquet:\n"
     ]
    },
    {
     "name": "stderr",
     "output_type": "stream",
     "text": [
      "                                                                                \r"
     ]
    },
    {
     "name": "stdout",
     "output_type": "stream",
     "text": [
      "Saved gs://my-bigdata-project-cm/aggregated/part-00002-64905110-e7c7-403c-a8e2-3950974a8a29-c000.snappy.parquet\n",
      "Processing cleaned/yellow_tripdata_2017-01.parquet/part-00003-64905110-e7c7-403c-a8e2-3950974a8a29-c000.snappy.parquet:\n"
     ]
    },
    {
     "name": "stderr",
     "output_type": "stream",
     "text": [
      "                                                                                \r"
     ]
    },
    {
     "name": "stdout",
     "output_type": "stream",
     "text": [
      "Saved gs://my-bigdata-project-cm/aggregated/part-00003-64905110-e7c7-403c-a8e2-3950974a8a29-c000.snappy.parquet\n",
      "Processing cleaned/yellow_tripdata_2017-01.parquet/part-00004-64905110-e7c7-403c-a8e2-3950974a8a29-c000.snappy.parquet:\n"
     ]
    },
    {
     "name": "stderr",
     "output_type": "stream",
     "text": [
      "                                                                                \r"
     ]
    },
    {
     "name": "stdout",
     "output_type": "stream",
     "text": [
      "Saved gs://my-bigdata-project-cm/aggregated/part-00004-64905110-e7c7-403c-a8e2-3950974a8a29-c000.snappy.parquet\n",
      "Processing cleaned/yellow_tripdata_2017-01.parquet/part-00005-64905110-e7c7-403c-a8e2-3950974a8a29-c000.snappy.parquet:\n"
     ]
    },
    {
     "name": "stderr",
     "output_type": "stream",
     "text": [
      "                                                                                \r"
     ]
    },
    {
     "name": "stdout",
     "output_type": "stream",
     "text": [
      "Saved gs://my-bigdata-project-cm/aggregated/part-00005-64905110-e7c7-403c-a8e2-3950974a8a29-c000.snappy.parquet\n",
      "Processing cleaned/yellow_tripdata_2017-01.parquet/part-00006-64905110-e7c7-403c-a8e2-3950974a8a29-c000.snappy.parquet:\n"
     ]
    },
    {
     "name": "stderr",
     "output_type": "stream",
     "text": [
      "                                                                                \r"
     ]
    },
    {
     "name": "stdout",
     "output_type": "stream",
     "text": [
      "Saved gs://my-bigdata-project-cm/aggregated/part-00006-64905110-e7c7-403c-a8e2-3950974a8a29-c000.snappy.parquet\n",
      "Processing cleaned/yellow_tripdata_2017-01.parquet/part-00007-64905110-e7c7-403c-a8e2-3950974a8a29-c000.snappy.parquet:\n"
     ]
    },
    {
     "name": "stderr",
     "output_type": "stream",
     "text": [
      "                                                                                \r"
     ]
    },
    {
     "name": "stdout",
     "output_type": "stream",
     "text": [
      "Saved gs://my-bigdata-project-cm/aggregated/part-00007-64905110-e7c7-403c-a8e2-3950974a8a29-c000.snappy.parquet\n",
      "Processing cleaned/yellow_tripdata_2017-01.parquet/part-00008-64905110-e7c7-403c-a8e2-3950974a8a29-c000.snappy.parquet:\n"
     ]
    },
    {
     "name": "stderr",
     "output_type": "stream",
     "text": [
      "                                                                                \r"
     ]
    },
    {
     "name": "stdout",
     "output_type": "stream",
     "text": [
      "Saved gs://my-bigdata-project-cm/aggregated/part-00008-64905110-e7c7-403c-a8e2-3950974a8a29-c000.snappy.parquet\n",
      "Processing cleaned/yellow_tripdata_2017-01.parquet/part-00009-64905110-e7c7-403c-a8e2-3950974a8a29-c000.snappy.parquet:\n"
     ]
    },
    {
     "name": "stderr",
     "output_type": "stream",
     "text": [
      "                                                                                \r"
     ]
    },
    {
     "name": "stdout",
     "output_type": "stream",
     "text": [
      "Saved gs://my-bigdata-project-cm/aggregated/part-00009-64905110-e7c7-403c-a8e2-3950974a8a29-c000.snappy.parquet\n",
      "Processing cleaned/yellow_tripdata_2017-01.parquet/part-00010-64905110-e7c7-403c-a8e2-3950974a8a29-c000.snappy.parquet:\n"
     ]
    },
    {
     "name": "stderr",
     "output_type": "stream",
     "text": [
      "                                                                                \r"
     ]
    },
    {
     "name": "stdout",
     "output_type": "stream",
     "text": [
      "Saved gs://my-bigdata-project-cm/aggregated/part-00010-64905110-e7c7-403c-a8e2-3950974a8a29-c000.snappy.parquet\n",
      "Skipping file cleaned/yellow_tripdata_2017-02.parquet/\n",
      "Skipping file cleaned/yellow_tripdata_2017-02.parquet/_SUCCESS\n",
      "Processing cleaned/yellow_tripdata_2017-02.parquet/part-00000-bfe3c918-ad8c-41cd-b013-5720cf08c1a9-c000.snappy.parquet:\n"
     ]
    },
    {
     "name": "stderr",
     "output_type": "stream",
     "text": [
      "                                                                                \r"
     ]
    },
    {
     "name": "stdout",
     "output_type": "stream",
     "text": [
      "Saved gs://my-bigdata-project-cm/aggregated/part-00000-bfe3c918-ad8c-41cd-b013-5720cf08c1a9-c000.snappy.parquet\n",
      "Processing cleaned/yellow_tripdata_2017-02.parquet/part-00001-bfe3c918-ad8c-41cd-b013-5720cf08c1a9-c000.snappy.parquet:\n"
     ]
    },
    {
     "name": "stderr",
     "output_type": "stream",
     "text": [
      "                                                                                \r"
     ]
    },
    {
     "name": "stdout",
     "output_type": "stream",
     "text": [
      "Saved gs://my-bigdata-project-cm/aggregated/part-00001-bfe3c918-ad8c-41cd-b013-5720cf08c1a9-c000.snappy.parquet\n"
     ]
    },
    {
     "name": "stderr",
     "output_type": "stream",
     "text": [
      "\r",
      "[Stage 18363:>                                                      (0 + 1) / 1]\r",
      "\r",
      "                                                                                \r"
     ]
    },
    {
     "name": "stdout",
     "output_type": "stream",
     "text": [
      "Processing cleaned/yellow_tripdata_2017-02.parquet/part-00002-bfe3c918-ad8c-41cd-b013-5720cf08c1a9-c000.snappy.parquet:\n"
     ]
    },
    {
     "name": "stderr",
     "output_type": "stream",
     "text": [
      "                                                                                \r"
     ]
    },
    {
     "name": "stdout",
     "output_type": "stream",
     "text": [
      "Saved gs://my-bigdata-project-cm/aggregated/part-00002-bfe3c918-ad8c-41cd-b013-5720cf08c1a9-c000.snappy.parquet\n",
      "Processing cleaned/yellow_tripdata_2017-02.parquet/part-00003-bfe3c918-ad8c-41cd-b013-5720cf08c1a9-c000.snappy.parquet:\n"
     ]
    },
    {
     "name": "stderr",
     "output_type": "stream",
     "text": [
      "                                                                                \r"
     ]
    },
    {
     "name": "stdout",
     "output_type": "stream",
     "text": [
      "Saved gs://my-bigdata-project-cm/aggregated/part-00003-bfe3c918-ad8c-41cd-b013-5720cf08c1a9-c000.snappy.parquet\n",
      "Processing cleaned/yellow_tripdata_2017-02.parquet/part-00004-bfe3c918-ad8c-41cd-b013-5720cf08c1a9-c000.snappy.parquet:\n"
     ]
    },
    {
     "name": "stderr",
     "output_type": "stream",
     "text": [
      "                                                                                \r"
     ]
    },
    {
     "name": "stdout",
     "output_type": "stream",
     "text": [
      "Saved gs://my-bigdata-project-cm/aggregated/part-00004-bfe3c918-ad8c-41cd-b013-5720cf08c1a9-c000.snappy.parquet\n",
      "Processing cleaned/yellow_tripdata_2017-02.parquet/part-00005-bfe3c918-ad8c-41cd-b013-5720cf08c1a9-c000.snappy.parquet:\n"
     ]
    },
    {
     "name": "stderr",
     "output_type": "stream",
     "text": [
      "                                                                                \r"
     ]
    },
    {
     "name": "stdout",
     "output_type": "stream",
     "text": [
      "Saved gs://my-bigdata-project-cm/aggregated/part-00005-bfe3c918-ad8c-41cd-b013-5720cf08c1a9-c000.snappy.parquet\n",
      "Processing cleaned/yellow_tripdata_2017-02.parquet/part-00006-bfe3c918-ad8c-41cd-b013-5720cf08c1a9-c000.snappy.parquet:\n"
     ]
    },
    {
     "name": "stderr",
     "output_type": "stream",
     "text": [
      "                                                                                \r"
     ]
    },
    {
     "name": "stdout",
     "output_type": "stream",
     "text": [
      "Saved gs://my-bigdata-project-cm/aggregated/part-00006-bfe3c918-ad8c-41cd-b013-5720cf08c1a9-c000.snappy.parquet\n",
      "Processing cleaned/yellow_tripdata_2017-02.parquet/part-00007-bfe3c918-ad8c-41cd-b013-5720cf08c1a9-c000.snappy.parquet:\n"
     ]
    },
    {
     "name": "stderr",
     "output_type": "stream",
     "text": [
      "                                                                                \r"
     ]
    },
    {
     "name": "stdout",
     "output_type": "stream",
     "text": [
      "Saved gs://my-bigdata-project-cm/aggregated/part-00007-bfe3c918-ad8c-41cd-b013-5720cf08c1a9-c000.snappy.parquet\n",
      "Processing cleaned/yellow_tripdata_2017-02.parquet/part-00008-bfe3c918-ad8c-41cd-b013-5720cf08c1a9-c000.snappy.parquet:\n"
     ]
    },
    {
     "name": "stderr",
     "output_type": "stream",
     "text": [
      "                                                                                \r"
     ]
    },
    {
     "name": "stdout",
     "output_type": "stream",
     "text": [
      "Saved gs://my-bigdata-project-cm/aggregated/part-00008-bfe3c918-ad8c-41cd-b013-5720cf08c1a9-c000.snappy.parquet\n",
      "Processing cleaned/yellow_tripdata_2017-02.parquet/part-00009-bfe3c918-ad8c-41cd-b013-5720cf08c1a9-c000.snappy.parquet:\n"
     ]
    },
    {
     "name": "stderr",
     "output_type": "stream",
     "text": [
      "                                                                                \r"
     ]
    },
    {
     "name": "stdout",
     "output_type": "stream",
     "text": [
      "Saved gs://my-bigdata-project-cm/aggregated/part-00009-bfe3c918-ad8c-41cd-b013-5720cf08c1a9-c000.snappy.parquet\n",
      "Skipping file cleaned/yellow_tripdata_2017-03.parquet/\n",
      "Skipping file cleaned/yellow_tripdata_2017-03.parquet/_SUCCESS\n",
      "Processing cleaned/yellow_tripdata_2017-03.parquet/part-00000-dfb5bdbf-3be4-453a-80de-cdeaf4857417-c000.snappy.parquet:\n"
     ]
    },
    {
     "name": "stderr",
     "output_type": "stream",
     "text": [
      "                                                                                \r"
     ]
    },
    {
     "name": "stdout",
     "output_type": "stream",
     "text": [
      "Saved gs://my-bigdata-project-cm/aggregated/part-00000-dfb5bdbf-3be4-453a-80de-cdeaf4857417-c000.snappy.parquet\n",
      "Processing cleaned/yellow_tripdata_2017-03.parquet/part-00001-dfb5bdbf-3be4-453a-80de-cdeaf4857417-c000.snappy.parquet:\n"
     ]
    },
    {
     "name": "stderr",
     "output_type": "stream",
     "text": [
      "                                                                                \r"
     ]
    },
    {
     "name": "stdout",
     "output_type": "stream",
     "text": [
      "Saved gs://my-bigdata-project-cm/aggregated/part-00001-dfb5bdbf-3be4-453a-80de-cdeaf4857417-c000.snappy.parquet\n",
      "Processing cleaned/yellow_tripdata_2017-03.parquet/part-00002-dfb5bdbf-3be4-453a-80de-cdeaf4857417-c000.snappy.parquet:\n"
     ]
    },
    {
     "name": "stderr",
     "output_type": "stream",
     "text": [
      "                                                                                \r"
     ]
    },
    {
     "name": "stdout",
     "output_type": "stream",
     "text": [
      "Saved gs://my-bigdata-project-cm/aggregated/part-00002-dfb5bdbf-3be4-453a-80de-cdeaf4857417-c000.snappy.parquet\n",
      "Processing cleaned/yellow_tripdata_2017-03.parquet/part-00003-dfb5bdbf-3be4-453a-80de-cdeaf4857417-c000.snappy.parquet:\n"
     ]
    },
    {
     "name": "stderr",
     "output_type": "stream",
     "text": [
      "                                                                                \r"
     ]
    },
    {
     "name": "stdout",
     "output_type": "stream",
     "text": [
      "Saved gs://my-bigdata-project-cm/aggregated/part-00003-dfb5bdbf-3be4-453a-80de-cdeaf4857417-c000.snappy.parquet\n",
      "Processing cleaned/yellow_tripdata_2017-03.parquet/part-00004-dfb5bdbf-3be4-453a-80de-cdeaf4857417-c000.snappy.parquet:\n"
     ]
    },
    {
     "name": "stderr",
     "output_type": "stream",
     "text": [
      "                                                                                \r"
     ]
    },
    {
     "name": "stdout",
     "output_type": "stream",
     "text": [
      "Saved gs://my-bigdata-project-cm/aggregated/part-00004-dfb5bdbf-3be4-453a-80de-cdeaf4857417-c000.snappy.parquet\n",
      "Processing cleaned/yellow_tripdata_2017-03.parquet/part-00005-dfb5bdbf-3be4-453a-80de-cdeaf4857417-c000.snappy.parquet:\n"
     ]
    },
    {
     "name": "stderr",
     "output_type": "stream",
     "text": [
      "                                                                                \r"
     ]
    },
    {
     "name": "stdout",
     "output_type": "stream",
     "text": [
      "Saved gs://my-bigdata-project-cm/aggregated/part-00005-dfb5bdbf-3be4-453a-80de-cdeaf4857417-c000.snappy.parquet\n",
      "Processing cleaned/yellow_tripdata_2017-03.parquet/part-00006-dfb5bdbf-3be4-453a-80de-cdeaf4857417-c000.snappy.parquet:\n"
     ]
    },
    {
     "name": "stderr",
     "output_type": "stream",
     "text": [
      "                                                                                \r"
     ]
    },
    {
     "name": "stdout",
     "output_type": "stream",
     "text": [
      "Saved gs://my-bigdata-project-cm/aggregated/part-00006-dfb5bdbf-3be4-453a-80de-cdeaf4857417-c000.snappy.parquet\n",
      "Processing cleaned/yellow_tripdata_2017-03.parquet/part-00007-dfb5bdbf-3be4-453a-80de-cdeaf4857417-c000.snappy.parquet:\n"
     ]
    },
    {
     "name": "stderr",
     "output_type": "stream",
     "text": [
      "                                                                                \r"
     ]
    },
    {
     "name": "stdout",
     "output_type": "stream",
     "text": [
      "Saved gs://my-bigdata-project-cm/aggregated/part-00007-dfb5bdbf-3be4-453a-80de-cdeaf4857417-c000.snappy.parquet\n",
      "Processing cleaned/yellow_tripdata_2017-03.parquet/part-00008-dfb5bdbf-3be4-453a-80de-cdeaf4857417-c000.snappy.parquet:\n"
     ]
    },
    {
     "name": "stderr",
     "output_type": "stream",
     "text": [
      "                                                                                \r"
     ]
    },
    {
     "name": "stdout",
     "output_type": "stream",
     "text": [
      "Saved gs://my-bigdata-project-cm/aggregated/part-00008-dfb5bdbf-3be4-453a-80de-cdeaf4857417-c000.snappy.parquet\n",
      "Processing cleaned/yellow_tripdata_2017-03.parquet/part-00009-dfb5bdbf-3be4-453a-80de-cdeaf4857417-c000.snappy.parquet:\n"
     ]
    },
    {
     "name": "stderr",
     "output_type": "stream",
     "text": [
      "                                                                                \r"
     ]
    },
    {
     "name": "stdout",
     "output_type": "stream",
     "text": [
      "Saved gs://my-bigdata-project-cm/aggregated/part-00009-dfb5bdbf-3be4-453a-80de-cdeaf4857417-c000.snappy.parquet\n",
      "Processing cleaned/yellow_tripdata_2017-03.parquet/part-00010-dfb5bdbf-3be4-453a-80de-cdeaf4857417-c000.snappy.parquet:\n"
     ]
    },
    {
     "name": "stderr",
     "output_type": "stream",
     "text": [
      "                                                                                \r"
     ]
    },
    {
     "name": "stdout",
     "output_type": "stream",
     "text": [
      "Saved gs://my-bigdata-project-cm/aggregated/part-00010-dfb5bdbf-3be4-453a-80de-cdeaf4857417-c000.snappy.parquet\n",
      "Processing cleaned/yellow_tripdata_2017-03.parquet/part-00011-dfb5bdbf-3be4-453a-80de-cdeaf4857417-c000.snappy.parquet:\n"
     ]
    },
    {
     "name": "stderr",
     "output_type": "stream",
     "text": [
      "                                                                                \r"
     ]
    },
    {
     "name": "stdout",
     "output_type": "stream",
     "text": [
      "Saved gs://my-bigdata-project-cm/aggregated/part-00012-dfb5bdbf-3be4-453a-80de-cdeaf4857417-c000.snappy.parquet\n",
      "Skipping file cleaned/yellow_tripdata_2017-04.parquet/\n",
      "Skipping file cleaned/yellow_tripdata_2017-04.parquet/_SUCCESS\n",
      "Processing cleaned/yellow_tripdata_2017-04.parquet/part-00000-200c8963-9979-4eb9-9907-50ff91baa88d-c000.snappy.parquet:\n"
     ]
    },
    {
     "name": "stderr",
     "output_type": "stream",
     "text": [
      "                                                                                \r"
     ]
    },
    {
     "name": "stdout",
     "output_type": "stream",
     "text": [
      "Saved gs://my-bigdata-project-cm/aggregated/part-00000-200c8963-9979-4eb9-9907-50ff91baa88d-c000.snappy.parquet\n",
      "Processing cleaned/yellow_tripdata_2017-04.parquet/part-00001-200c8963-9979-4eb9-9907-50ff91baa88d-c000.snappy.parquet:\n"
     ]
    },
    {
     "name": "stderr",
     "output_type": "stream",
     "text": [
      "                                                                                \r"
     ]
    },
    {
     "name": "stdout",
     "output_type": "stream",
     "text": [
      "Saved gs://my-bigdata-project-cm/aggregated/part-00001-200c8963-9979-4eb9-9907-50ff91baa88d-c000.snappy.parquet\n",
      "Processing cleaned/yellow_tripdata_2017-04.parquet/part-00002-200c8963-9979-4eb9-9907-50ff91baa88d-c000.snappy.parquet:\n"
     ]
    },
    {
     "name": "stderr",
     "output_type": "stream",
     "text": [
      "                                                                                \r"
     ]
    },
    {
     "name": "stdout",
     "output_type": "stream",
     "text": [
      "Saved gs://my-bigdata-project-cm/aggregated/part-00002-200c8963-9979-4eb9-9907-50ff91baa88d-c000.snappy.parquet\n",
      "Processing cleaned/yellow_tripdata_2017-04.parquet/part-00003-200c8963-9979-4eb9-9907-50ff91baa88d-c000.snappy.parquet:\n"
     ]
    },
    {
     "name": "stderr",
     "output_type": "stream",
     "text": [
      "                                                                                \r"
     ]
    },
    {
     "name": "stdout",
     "output_type": "stream",
     "text": [
      "Saved gs://my-bigdata-project-cm/aggregated/part-00003-200c8963-9979-4eb9-9907-50ff91baa88d-c000.snappy.parquet\n",
      "Processing cleaned/yellow_tripdata_2017-04.parquet/part-00004-200c8963-9979-4eb9-9907-50ff91baa88d-c000.snappy.parquet:\n"
     ]
    },
    {
     "name": "stderr",
     "output_type": "stream",
     "text": [
      "                                                                                \r"
     ]
    },
    {
     "name": "stdout",
     "output_type": "stream",
     "text": [
      "Saved gs://my-bigdata-project-cm/aggregated/part-00004-200c8963-9979-4eb9-9907-50ff91baa88d-c000.snappy.parquet\n",
      "Processing cleaned/yellow_tripdata_2017-04.parquet/part-00005-200c8963-9979-4eb9-9907-50ff91baa88d-c000.snappy.parquet:\n"
     ]
    },
    {
     "name": "stderr",
     "output_type": "stream",
     "text": [
      "                                                                                \r"
     ]
    },
    {
     "name": "stdout",
     "output_type": "stream",
     "text": [
      "Saved gs://my-bigdata-project-cm/aggregated/part-00005-200c8963-9979-4eb9-9907-50ff91baa88d-c000.snappy.parquet\n",
      "Processing cleaned/yellow_tripdata_2017-04.parquet/part-00006-200c8963-9979-4eb9-9907-50ff91baa88d-c000.snappy.parquet:\n"
     ]
    },
    {
     "name": "stderr",
     "output_type": "stream",
     "text": [
      "                                                                                \r"
     ]
    },
    {
     "name": "stdout",
     "output_type": "stream",
     "text": [
      "Saved gs://my-bigdata-project-cm/aggregated/part-00006-200c8963-9979-4eb9-9907-50ff91baa88d-c000.snappy.parquet\n",
      "Processing cleaned/yellow_tripdata_2017-04.parquet/part-00007-200c8963-9979-4eb9-9907-50ff91baa88d-c000.snappy.parquet:\n"
     ]
    },
    {
     "name": "stderr",
     "output_type": "stream",
     "text": [
      "                                                                                \r"
     ]
    },
    {
     "name": "stdout",
     "output_type": "stream",
     "text": [
      "Saved gs://my-bigdata-project-cm/aggregated/part-00007-200c8963-9979-4eb9-9907-50ff91baa88d-c000.snappy.parquet\n",
      "Skipping file cleaned/yellow_tripdata_2017-05.parquet/\n",
      "Skipping file cleaned/yellow_tripdata_2017-05.parquet/_SUCCESS\n",
      "Processing cleaned/yellow_tripdata_2017-05.parquet/part-00000-eb85a706-64f9-4d32-a942-d742b3b432b6-c000.snappy.parquet:\n"
     ]
    },
    {
     "name": "stderr",
     "output_type": "stream",
     "text": [
      "                                                                                \r"
     ]
    },
    {
     "name": "stdout",
     "output_type": "stream",
     "text": [
      "Saved gs://my-bigdata-project-cm/aggregated/part-00000-eb85a706-64f9-4d32-a942-d742b3b432b6-c000.snappy.parquet\n",
      "Processing cleaned/yellow_tripdata_2017-05.parquet/part-00001-eb85a706-64f9-4d32-a942-d742b3b432b6-c000.snappy.parquet:\n"
     ]
    },
    {
     "name": "stderr",
     "output_type": "stream",
     "text": [
      "                                                                                \r"
     ]
    },
    {
     "name": "stdout",
     "output_type": "stream",
     "text": [
      "Saved gs://my-bigdata-project-cm/aggregated/part-00001-eb85a706-64f9-4d32-a942-d742b3b432b6-c000.snappy.parquet\n",
      "Processing cleaned/yellow_tripdata_2017-05.parquet/part-00002-eb85a706-64f9-4d32-a942-d742b3b432b6-c000.snappy.parquet:\n"
     ]
    },
    {
     "name": "stderr",
     "output_type": "stream",
     "text": [
      "                                                                                \r"
     ]
    },
    {
     "name": "stdout",
     "output_type": "stream",
     "text": [
      "Saved gs://my-bigdata-project-cm/aggregated/part-00002-eb85a706-64f9-4d32-a942-d742b3b432b6-c000.snappy.parquet\n",
      "Processing cleaned/yellow_tripdata_2017-05.parquet/part-00003-eb85a706-64f9-4d32-a942-d742b3b432b6-c000.snappy.parquet:\n"
     ]
    },
    {
     "name": "stderr",
     "output_type": "stream",
     "text": [
      "                                                                                \r"
     ]
    },
    {
     "name": "stdout",
     "output_type": "stream",
     "text": [
      "Saved gs://my-bigdata-project-cm/aggregated/part-00003-eb85a706-64f9-4d32-a942-d742b3b432b6-c000.snappy.parquet\n",
      "Processing cleaned/yellow_tripdata_2017-05.parquet/part-00004-eb85a706-64f9-4d32-a942-d742b3b432b6-c000.snappy.parquet:\n"
     ]
    },
    {
     "name": "stderr",
     "output_type": "stream",
     "text": [
      "                                                                                \r"
     ]
    },
    {
     "name": "stdout",
     "output_type": "stream",
     "text": [
      "Saved gs://my-bigdata-project-cm/aggregated/part-00004-eb85a706-64f9-4d32-a942-d742b3b432b6-c000.snappy.parquet\n",
      "Processing cleaned/yellow_tripdata_2017-05.parquet/part-00005-eb85a706-64f9-4d32-a942-d742b3b432b6-c000.snappy.parquet:\n"
     ]
    },
    {
     "name": "stderr",
     "output_type": "stream",
     "text": [
      "                                                                                \r"
     ]
    },
    {
     "name": "stdout",
     "output_type": "stream",
     "text": [
      "Saved gs://my-bigdata-project-cm/aggregated/part-00005-eb85a706-64f9-4d32-a942-d742b3b432b6-c000.snappy.parquet\n",
      "Processing cleaned/yellow_tripdata_2017-05.parquet/part-00006-eb85a706-64f9-4d32-a942-d742b3b432b6-c000.snappy.parquet:\n"
     ]
    },
    {
     "name": "stderr",
     "output_type": "stream",
     "text": [
      "                                                                                \r"
     ]
    },
    {
     "name": "stdout",
     "output_type": "stream",
     "text": [
      "Saved gs://my-bigdata-project-cm/aggregated/part-00006-eb85a706-64f9-4d32-a942-d742b3b432b6-c000.snappy.parquet\n",
      "Processing cleaned/yellow_tripdata_2017-05.parquet/part-00007-eb85a706-64f9-4d32-a942-d742b3b432b6-c000.snappy.parquet:\n"
     ]
    },
    {
     "name": "stderr",
     "output_type": "stream",
     "text": [
      "                                                                                \r"
     ]
    },
    {
     "name": "stdout",
     "output_type": "stream",
     "text": [
      "Saved gs://my-bigdata-project-cm/aggregated/part-00007-eb85a706-64f9-4d32-a942-d742b3b432b6-c000.snappy.parquet\n",
      "Processing cleaned/yellow_tripdata_2017-05.parquet/part-00008-eb85a706-64f9-4d32-a942-d742b3b432b6-c000.snappy.parquet:\n"
     ]
    },
    {
     "name": "stderr",
     "output_type": "stream",
     "text": [
      "                                                                                \r"
     ]
    },
    {
     "name": "stdout",
     "output_type": "stream",
     "text": [
      "Saved gs://my-bigdata-project-cm/aggregated/part-00008-eb85a706-64f9-4d32-a942-d742b3b432b6-c000.snappy.parquet\n",
      "Processing cleaned/yellow_tripdata_2017-05.parquet/part-00009-eb85a706-64f9-4d32-a942-d742b3b432b6-c000.snappy.parquet:\n"
     ]
    },
    {
     "name": "stderr",
     "output_type": "stream",
     "text": [
      "                                                                                \r"
     ]
    },
    {
     "name": "stdout",
     "output_type": "stream",
     "text": [
      "Saved gs://my-bigdata-project-cm/aggregated/part-00009-eb85a706-64f9-4d32-a942-d742b3b432b6-c000.snappy.parquet\n",
      "Processing cleaned/yellow_tripdata_2017-05.parquet/part-00010-eb85a706-64f9-4d32-a942-d742b3b432b6-c000.snappy.parquet:\n"
     ]
    },
    {
     "name": "stderr",
     "output_type": "stream",
     "text": [
      "                                                                                \r"
     ]
    },
    {
     "name": "stdout",
     "output_type": "stream",
     "text": [
      "Saved gs://my-bigdata-project-cm/aggregated/part-00010-eb85a706-64f9-4d32-a942-d742b3b432b6-c000.snappy.parquet\n",
      "Processing cleaned/yellow_tripdata_2017-05.parquet/part-00011-eb85a706-64f9-4d32-a942-d742b3b432b6-c000.snappy.parquet:\n"
     ]
    },
    {
     "name": "stderr",
     "output_type": "stream",
     "text": [
      "                                                                                \r"
     ]
    },
    {
     "name": "stdout",
     "output_type": "stream",
     "text": [
      "Saved gs://my-bigdata-project-cm/aggregated/part-00011-eb85a706-64f9-4d32-a942-d742b3b432b6-c000.snappy.parquet\n",
      "Processing cleaned/yellow_tripdata_2017-05.parquet/part-00012-eb85a706-64f9-4d32-a942-d742b3b432b6-c000.snappy.parquet:\n"
     ]
    },
    {
     "name": "stderr",
     "output_type": "stream",
     "text": [
      "                                                                                \r"
     ]
    },
    {
     "name": "stdout",
     "output_type": "stream",
     "text": [
      "Saved gs://my-bigdata-project-cm/aggregated/part-00012-eb85a706-64f9-4d32-a942-d742b3b432b6-c000.snappy.parquet\n",
      "Skipping file cleaned/yellow_tripdata_2017-06.parquet/\n",
      "Skipping file cleaned/yellow_tripdata_2017-06.parquet/_SUCCESS\n",
      "Processing cleaned/yellow_tripdata_2017-06.parquet/part-00000-af6f4f39-5fe8-441d-acd3-4b54faf2d97b-c000.snappy.parquet:\n"
     ]
    },
    {
     "name": "stderr",
     "output_type": "stream",
     "text": [
      "                                                                                \r"
     ]
    },
    {
     "name": "stdout",
     "output_type": "stream",
     "text": [
      "Saved gs://my-bigdata-project-cm/aggregated/part-00000-af6f4f39-5fe8-441d-acd3-4b54faf2d97b-c000.snappy.parquet\n",
      "Processing cleaned/yellow_tripdata_2017-06.parquet/part-00001-af6f4f39-5fe8-441d-acd3-4b54faf2d97b-c000.snappy.parquet:\n"
     ]
    },
    {
     "name": "stderr",
     "output_type": "stream",
     "text": [
      "                                                                                \r"
     ]
    },
    {
     "name": "stdout",
     "output_type": "stream",
     "text": [
      "Saved gs://my-bigdata-project-cm/aggregated/part-00001-af6f4f39-5fe8-441d-acd3-4b54faf2d97b-c000.snappy.parquet\n",
      "Processing cleaned/yellow_tripdata_2017-06.parquet/part-00002-af6f4f39-5fe8-441d-acd3-4b54faf2d97b-c000.snappy.parquet:\n"
     ]
    },
    {
     "name": "stderr",
     "output_type": "stream",
     "text": [
      "                                                                                \r"
     ]
    },
    {
     "name": "stdout",
     "output_type": "stream",
     "text": [
      "Saved gs://my-bigdata-project-cm/aggregated/part-00002-af6f4f39-5fe8-441d-acd3-4b54faf2d97b-c000.snappy.parquet\n",
      "Processing cleaned/yellow_tripdata_2017-06.parquet/part-00003-af6f4f39-5fe8-441d-acd3-4b54faf2d97b-c000.snappy.parquet:\n"
     ]
    },
    {
     "name": "stderr",
     "output_type": "stream",
     "text": [
      "                                                                                \r"
     ]
    },
    {
     "name": "stdout",
     "output_type": "stream",
     "text": [
      "Saved gs://my-bigdata-project-cm/aggregated/part-00003-af6f4f39-5fe8-441d-acd3-4b54faf2d97b-c000.snappy.parquet\n",
      "Processing cleaned/yellow_tripdata_2017-06.parquet/part-00004-af6f4f39-5fe8-441d-acd3-4b54faf2d97b-c000.snappy.parquet:\n"
     ]
    },
    {
     "name": "stderr",
     "output_type": "stream",
     "text": [
      "                                                                                \r"
     ]
    },
    {
     "name": "stdout",
     "output_type": "stream",
     "text": [
      "Saved gs://my-bigdata-project-cm/aggregated/part-00004-af6f4f39-5fe8-441d-acd3-4b54faf2d97b-c000.snappy.parquet\n",
      "Processing cleaned/yellow_tripdata_2017-06.parquet/part-00005-af6f4f39-5fe8-441d-acd3-4b54faf2d97b-c000.snappy.parquet:\n"
     ]
    },
    {
     "name": "stderr",
     "output_type": "stream",
     "text": [
      "                                                                                \r"
     ]
    },
    {
     "name": "stdout",
     "output_type": "stream",
     "text": [
      "Saved gs://my-bigdata-project-cm/aggregated/part-00005-af6f4f39-5fe8-441d-acd3-4b54faf2d97b-c000.snappy.parquet\n",
      "Processing cleaned/yellow_tripdata_2017-06.parquet/part-00006-af6f4f39-5fe8-441d-acd3-4b54faf2d97b-c000.snappy.parquet:\n"
     ]
    },
    {
     "name": "stderr",
     "output_type": "stream",
     "text": [
      "                                                                                \r"
     ]
    },
    {
     "name": "stdout",
     "output_type": "stream",
     "text": [
      "Saved gs://my-bigdata-project-cm/aggregated/part-00006-af6f4f39-5fe8-441d-acd3-4b54faf2d97b-c000.snappy.parquet\n",
      "Processing cleaned/yellow_tripdata_2017-06.parquet/part-00007-af6f4f39-5fe8-441d-acd3-4b54faf2d97b-c000.snappy.parquet:\n"
     ]
    },
    {
     "name": "stderr",
     "output_type": "stream",
     "text": [
      "                                                                                \r"
     ]
    },
    {
     "name": "stdout",
     "output_type": "stream",
     "text": [
      "Saved gs://my-bigdata-project-cm/aggregated/part-00007-af6f4f39-5fe8-441d-acd3-4b54faf2d97b-c000.snappy.parquet\n",
      "Processing cleaned/yellow_tripdata_2017-06.parquet/part-00008-af6f4f39-5fe8-441d-acd3-4b54faf2d97b-c000.snappy.parquet:\n"
     ]
    },
    {
     "name": "stderr",
     "output_type": "stream",
     "text": [
      "                                                                                \r"
     ]
    },
    {
     "name": "stdout",
     "output_type": "stream",
     "text": [
      "Saved gs://my-bigdata-project-cm/aggregated/part-00008-af6f4f39-5fe8-441d-acd3-4b54faf2d97b-c000.snappy.parquet\n",
      "Processing cleaned/yellow_tripdata_2017-06.parquet/part-00009-af6f4f39-5fe8-441d-acd3-4b54faf2d97b-c000.snappy.parquet:\n"
     ]
    },
    {
     "name": "stderr",
     "output_type": "stream",
     "text": [
      "                                                                                \r"
     ]
    },
    {
     "name": "stdout",
     "output_type": "stream",
     "text": [
      "Saved gs://my-bigdata-project-cm/aggregated/part-00009-af6f4f39-5fe8-441d-acd3-4b54faf2d97b-c000.snappy.parquet\n",
      "Processing cleaned/yellow_tripdata_2017-06.parquet/part-00010-af6f4f39-5fe8-441d-acd3-4b54faf2d97b-c000.snappy.parquet:\n"
     ]
    },
    {
     "name": "stderr",
     "output_type": "stream",
     "text": [
      "                                                                                \r"
     ]
    },
    {
     "name": "stdout",
     "output_type": "stream",
     "text": [
      "Saved gs://my-bigdata-project-cm/aggregated/part-00010-af6f4f39-5fe8-441d-acd3-4b54faf2d97b-c000.snappy.parquet\n",
      "Processing cleaned/yellow_tripdata_2017-06.parquet/part-00011-af6f4f39-5fe8-441d-acd3-4b54faf2d97b-c000.snappy.parquet:\n"
     ]
    },
    {
     "name": "stderr",
     "output_type": "stream",
     "text": [
      "                                                                                \r"
     ]
    },
    {
     "name": "stdout",
     "output_type": "stream",
     "text": [
      "Saved gs://my-bigdata-project-cm/aggregated/part-00011-af6f4f39-5fe8-441d-acd3-4b54faf2d97b-c000.snappy.parquet\n",
      "Processing cleaned/yellow_tripdata_2017-06.parquet/part-00012-af6f4f39-5fe8-441d-acd3-4b54faf2d97b-c000.snappy.parquet:\n"
     ]
    },
    {
     "name": "stderr",
     "output_type": "stream",
     "text": [
      "                                                                                \r"
     ]
    },
    {
     "name": "stdout",
     "output_type": "stream",
     "text": [
      "Saved gs://my-bigdata-project-cm/aggregated/part-00012-af6f4f39-5fe8-441d-acd3-4b54faf2d97b-c000.snappy.parquet\n",
      "Skipping file cleaned/yellow_tripdata_2017-07.parquet/\n",
      "Skipping file cleaned/yellow_tripdata_2017-07.parquet/_SUCCESS\n",
      "Processing cleaned/yellow_tripdata_2017-07.parquet/part-00000-a00bdf38-4d16-449d-ad84-af4851ac7664-c000.snappy.parquet:\n"
     ]
    },
    {
     "name": "stderr",
     "output_type": "stream",
     "text": [
      "                                                                                \r"
     ]
    },
    {
     "name": "stdout",
     "output_type": "stream",
     "text": [
      "Saved gs://my-bigdata-project-cm/aggregated/part-00000-a00bdf38-4d16-449d-ad84-af4851ac7664-c000.snappy.parquet\n",
      "Processing cleaned/yellow_tripdata_2017-07.parquet/part-00001-a00bdf38-4d16-449d-ad84-af4851ac7664-c000.snappy.parquet:\n"
     ]
    },
    {
     "name": "stderr",
     "output_type": "stream",
     "text": [
      "                                                                                \r"
     ]
    },
    {
     "name": "stdout",
     "output_type": "stream",
     "text": [
      "Saved gs://my-bigdata-project-cm/aggregated/part-00001-a00bdf38-4d16-449d-ad84-af4851ac7664-c000.snappy.parquet\n",
      "Processing cleaned/yellow_tripdata_2017-07.parquet/part-00002-a00bdf38-4d16-449d-ad84-af4851ac7664-c000.snappy.parquet:\n"
     ]
    },
    {
     "name": "stderr",
     "output_type": "stream",
     "text": [
      "                                                                                \r"
     ]
    },
    {
     "name": "stdout",
     "output_type": "stream",
     "text": [
      "Saved gs://my-bigdata-project-cm/aggregated/part-00002-a00bdf38-4d16-449d-ad84-af4851ac7664-c000.snappy.parquet\n",
      "Processing cleaned/yellow_tripdata_2017-07.parquet/part-00003-a00bdf38-4d16-449d-ad84-af4851ac7664-c000.snappy.parquet:\n"
     ]
    },
    {
     "name": "stderr",
     "output_type": "stream",
     "text": [
      "                                                                                \r"
     ]
    },
    {
     "name": "stdout",
     "output_type": "stream",
     "text": [
      "Saved gs://my-bigdata-project-cm/aggregated/part-00003-a00bdf38-4d16-449d-ad84-af4851ac7664-c000.snappy.parquet\n",
      "Processing cleaned/yellow_tripdata_2017-07.parquet/part-00004-a00bdf38-4d16-449d-ad84-af4851ac7664-c000.snappy.parquet:\n"
     ]
    },
    {
     "name": "stderr",
     "output_type": "stream",
     "text": [
      "                                                                                \r"
     ]
    },
    {
     "name": "stdout",
     "output_type": "stream",
     "text": [
      "Saved gs://my-bigdata-project-cm/aggregated/part-00004-a00bdf38-4d16-449d-ad84-af4851ac7664-c000.snappy.parquet\n",
      "Processing cleaned/yellow_tripdata_2017-07.parquet/part-00005-a00bdf38-4d16-449d-ad84-af4851ac7664-c000.snappy.parquet:\n"
     ]
    },
    {
     "name": "stderr",
     "output_type": "stream",
     "text": [
      "                                                                                \r"
     ]
    },
    {
     "name": "stdout",
     "output_type": "stream",
     "text": [
      "Saved gs://my-bigdata-project-cm/aggregated/part-00005-a00bdf38-4d16-449d-ad84-af4851ac7664-c000.snappy.parquet\n",
      "Processing cleaned/yellow_tripdata_2017-07.parquet/part-00006-a00bdf38-4d16-449d-ad84-af4851ac7664-c000.snappy.parquet:\n"
     ]
    },
    {
     "name": "stderr",
     "output_type": "stream",
     "text": [
      "                                                                                \r"
     ]
    },
    {
     "name": "stdout",
     "output_type": "stream",
     "text": [
      "Saved gs://my-bigdata-project-cm/aggregated/part-00006-a00bdf38-4d16-449d-ad84-af4851ac7664-c000.snappy.parquet\n",
      "Processing cleaned/yellow_tripdata_2017-07.parquet/part-00007-a00bdf38-4d16-449d-ad84-af4851ac7664-c000.snappy.parquet:\n"
     ]
    },
    {
     "name": "stderr",
     "output_type": "stream",
     "text": [
      "                                                                                \r"
     ]
    },
    {
     "name": "stdout",
     "output_type": "stream",
     "text": [
      "Saved gs://my-bigdata-project-cm/aggregated/part-00007-a00bdf38-4d16-449d-ad84-af4851ac7664-c000.snappy.parquet\n",
      "Processing cleaned/yellow_tripdata_2017-07.parquet/part-00008-a00bdf38-4d16-449d-ad84-af4851ac7664-c000.snappy.parquet:\n"
     ]
    },
    {
     "name": "stderr",
     "output_type": "stream",
     "text": [
      "                                                                                \r"
     ]
    },
    {
     "name": "stdout",
     "output_type": "stream",
     "text": [
      "Saved gs://my-bigdata-project-cm/aggregated/part-00008-a00bdf38-4d16-449d-ad84-af4851ac7664-c000.snappy.parquet\n",
      "Processing cleaned/yellow_tripdata_2017-07.parquet/part-00009-a00bdf38-4d16-449d-ad84-af4851ac7664-c000.snappy.parquet:\n"
     ]
    },
    {
     "name": "stderr",
     "output_type": "stream",
     "text": [
      "                                                                                \r"
     ]
    },
    {
     "name": "stdout",
     "output_type": "stream",
     "text": [
      "Saved gs://my-bigdata-project-cm/aggregated/part-00009-a00bdf38-4d16-449d-ad84-af4851ac7664-c000.snappy.parquet\n",
      "Processing cleaned/yellow_tripdata_2017-07.parquet/part-00010-a00bdf38-4d16-449d-ad84-af4851ac7664-c000.snappy.parquet:\n"
     ]
    },
    {
     "name": "stderr",
     "output_type": "stream",
     "text": [
      "                                                                                \r"
     ]
    },
    {
     "name": "stdout",
     "output_type": "stream",
     "text": [
      "Saved gs://my-bigdata-project-cm/aggregated/part-00010-a00bdf38-4d16-449d-ad84-af4851ac7664-c000.snappy.parquet\n",
      "Processing cleaned/yellow_tripdata_2017-07.parquet/part-00011-a00bdf38-4d16-449d-ad84-af4851ac7664-c000.snappy.parquet:\n"
     ]
    },
    {
     "name": "stderr",
     "output_type": "stream",
     "text": [
      "                                                                                \r"
     ]
    },
    {
     "name": "stdout",
     "output_type": "stream",
     "text": [
      "Saved gs://my-bigdata-project-cm/aggregated/part-00011-a00bdf38-4d16-449d-ad84-af4851ac7664-c000.snappy.parquet\n",
      "Skipping file cleaned/yellow_tripdata_2017-08.parquet/\n",
      "Skipping file cleaned/yellow_tripdata_2017-08.parquet/_SUCCESS\n",
      "Processing cleaned/yellow_tripdata_2017-08.parquet/part-00000-3eff0ef4-004a-49fa-a0af-eb09e205d01a-c000.snappy.parquet:\n"
     ]
    },
    {
     "name": "stderr",
     "output_type": "stream",
     "text": [
      "                                                                                \r"
     ]
    },
    {
     "name": "stdout",
     "output_type": "stream",
     "text": [
      "Saved gs://my-bigdata-project-cm/aggregated/part-00000-3eff0ef4-004a-49fa-a0af-eb09e205d01a-c000.snappy.parquet\n",
      "Processing cleaned/yellow_tripdata_2017-08.parquet/part-00001-3eff0ef4-004a-49fa-a0af-eb09e205d01a-c000.snappy.parquet:\n"
     ]
    },
    {
     "name": "stderr",
     "output_type": "stream",
     "text": [
      "                                                                                \r"
     ]
    },
    {
     "name": "stdout",
     "output_type": "stream",
     "text": [
      "Saved gs://my-bigdata-project-cm/aggregated/part-00001-3eff0ef4-004a-49fa-a0af-eb09e205d01a-c000.snappy.parquet\n",
      "Processing cleaned/yellow_tripdata_2017-08.parquet/part-00002-3eff0ef4-004a-49fa-a0af-eb09e205d01a-c000.snappy.parquet:\n"
     ]
    },
    {
     "name": "stderr",
     "output_type": "stream",
     "text": [
      "                                                                                \r"
     ]
    },
    {
     "name": "stdout",
     "output_type": "stream",
     "text": [
      "Saved gs://my-bigdata-project-cm/aggregated/part-00002-3eff0ef4-004a-49fa-a0af-eb09e205d01a-c000.snappy.parquet\n",
      "Processing cleaned/yellow_tripdata_2017-08.parquet/part-00003-3eff0ef4-004a-49fa-a0af-eb09e205d01a-c000.snappy.parquet:\n"
     ]
    },
    {
     "name": "stderr",
     "output_type": "stream",
     "text": [
      "                                                                                \r"
     ]
    },
    {
     "name": "stdout",
     "output_type": "stream",
     "text": [
      "Saved gs://my-bigdata-project-cm/aggregated/part-00003-3eff0ef4-004a-49fa-a0af-eb09e205d01a-c000.snappy.parquet\n",
      "Processing cleaned/yellow_tripdata_2017-08.parquet/part-00004-3eff0ef4-004a-49fa-a0af-eb09e205d01a-c000.snappy.parquet:\n"
     ]
    },
    {
     "name": "stderr",
     "output_type": "stream",
     "text": [
      "                                                                                \r"
     ]
    },
    {
     "name": "stdout",
     "output_type": "stream",
     "text": [
      "Saved gs://my-bigdata-project-cm/aggregated/part-00004-3eff0ef4-004a-49fa-a0af-eb09e205d01a-c000.snappy.parquet\n",
      "Processing cleaned/yellow_tripdata_2017-08.parquet/part-00005-3eff0ef4-004a-49fa-a0af-eb09e205d01a-c000.snappy.parquet:\n"
     ]
    },
    {
     "name": "stderr",
     "output_type": "stream",
     "text": [
      "                                                                                \r"
     ]
    },
    {
     "name": "stdout",
     "output_type": "stream",
     "text": [
      "Saved gs://my-bigdata-project-cm/aggregated/part-00005-3eff0ef4-004a-49fa-a0af-eb09e205d01a-c000.snappy.parquet\n",
      "Processing cleaned/yellow_tripdata_2017-08.parquet/part-00006-3eff0ef4-004a-49fa-a0af-eb09e205d01a-c000.snappy.parquet:\n"
     ]
    },
    {
     "name": "stderr",
     "output_type": "stream",
     "text": [
      "                                                                                \r"
     ]
    },
    {
     "name": "stdout",
     "output_type": "stream",
     "text": [
      "Saved gs://my-bigdata-project-cm/aggregated/part-00006-3eff0ef4-004a-49fa-a0af-eb09e205d01a-c000.snappy.parquet\n",
      "Processing cleaned/yellow_tripdata_2017-08.parquet/part-00007-3eff0ef4-004a-49fa-a0af-eb09e205d01a-c000.snappy.parquet:\n"
     ]
    },
    {
     "name": "stderr",
     "output_type": "stream",
     "text": [
      "                                                                                \r"
     ]
    },
    {
     "name": "stdout",
     "output_type": "stream",
     "text": [
      "Saved gs://my-bigdata-project-cm/aggregated/part-00007-3eff0ef4-004a-49fa-a0af-eb09e205d01a-c000.snappy.parquet\n",
      "Processing cleaned/yellow_tripdata_2017-08.parquet/part-00008-3eff0ef4-004a-49fa-a0af-eb09e205d01a-c000.snappy.parquet:\n"
     ]
    },
    {
     "name": "stderr",
     "output_type": "stream",
     "text": [
      "                                                                                \r"
     ]
    },
    {
     "name": "stdout",
     "output_type": "stream",
     "text": [
      "Saved gs://my-bigdata-project-cm/aggregated/part-00008-3eff0ef4-004a-49fa-a0af-eb09e205d01a-c000.snappy.parquet\n",
      "Skipping file cleaned/yellow_tripdata_2017-09.parquet/\n",
      "Skipping file cleaned/yellow_tripdata_2017-09.parquet/_SUCCESS\n",
      "Processing cleaned/yellow_tripdata_2017-09.parquet/part-00000-23298229-e8d7-4466-ad55-3569a40e0ff3-c000.snappy.parquet:\n"
     ]
    },
    {
     "name": "stderr",
     "output_type": "stream",
     "text": [
      "                                                                                \r"
     ]
    },
    {
     "name": "stdout",
     "output_type": "stream",
     "text": [
      "Saved gs://my-bigdata-project-cm/aggregated/part-00000-23298229-e8d7-4466-ad55-3569a40e0ff3-c000.snappy.parquet\n",
      "Processing cleaned/yellow_tripdata_2017-09.parquet/part-00001-23298229-e8d7-4466-ad55-3569a40e0ff3-c000.snappy.parquet:\n"
     ]
    },
    {
     "name": "stderr",
     "output_type": "stream",
     "text": [
      "                                                                                \r"
     ]
    },
    {
     "name": "stdout",
     "output_type": "stream",
     "text": [
      "Saved gs://my-bigdata-project-cm/aggregated/part-00001-23298229-e8d7-4466-ad55-3569a40e0ff3-c000.snappy.parquet\n",
      "Processing cleaned/yellow_tripdata_2017-09.parquet/part-00002-23298229-e8d7-4466-ad55-3569a40e0ff3-c000.snappy.parquet:\n"
     ]
    },
    {
     "name": "stderr",
     "output_type": "stream",
     "text": [
      "                                                                                \r"
     ]
    },
    {
     "name": "stdout",
     "output_type": "stream",
     "text": [
      "Saved gs://my-bigdata-project-cm/aggregated/part-00002-23298229-e8d7-4466-ad55-3569a40e0ff3-c000.snappy.parquet\n",
      "Processing cleaned/yellow_tripdata_2017-09.parquet/part-00003-23298229-e8d7-4466-ad55-3569a40e0ff3-c000.snappy.parquet:\n"
     ]
    },
    {
     "name": "stderr",
     "output_type": "stream",
     "text": [
      "                                                                                \r"
     ]
    },
    {
     "name": "stdout",
     "output_type": "stream",
     "text": [
      "Saved gs://my-bigdata-project-cm/aggregated/part-00003-23298229-e8d7-4466-ad55-3569a40e0ff3-c000.snappy.parquet\n",
      "Processing cleaned/yellow_tripdata_2017-09.parquet/part-00004-23298229-e8d7-4466-ad55-3569a40e0ff3-c000.snappy.parquet:\n"
     ]
    },
    {
     "name": "stderr",
     "output_type": "stream",
     "text": [
      "                                                                                \r"
     ]
    },
    {
     "name": "stdout",
     "output_type": "stream",
     "text": [
      "Saved gs://my-bigdata-project-cm/aggregated/part-00004-23298229-e8d7-4466-ad55-3569a40e0ff3-c000.snappy.parquet\n",
      "Processing cleaned/yellow_tripdata_2017-09.parquet/part-00005-23298229-e8d7-4466-ad55-3569a40e0ff3-c000.snappy.parquet:\n"
     ]
    },
    {
     "name": "stderr",
     "output_type": "stream",
     "text": [
      "                                                                                \r"
     ]
    },
    {
     "name": "stdout",
     "output_type": "stream",
     "text": [
      "Saved gs://my-bigdata-project-cm/aggregated/part-00005-23298229-e8d7-4466-ad55-3569a40e0ff3-c000.snappy.parquet\n",
      "Processing cleaned/yellow_tripdata_2017-09.parquet/part-00006-23298229-e8d7-4466-ad55-3569a40e0ff3-c000.snappy.parquet:\n"
     ]
    },
    {
     "name": "stderr",
     "output_type": "stream",
     "text": [
      "                                                                                \r"
     ]
    },
    {
     "name": "stdout",
     "output_type": "stream",
     "text": [
      "Saved gs://my-bigdata-project-cm/aggregated/part-00006-23298229-e8d7-4466-ad55-3569a40e0ff3-c000.snappy.parquet\n",
      "Processing cleaned/yellow_tripdata_2017-09.parquet/part-00007-23298229-e8d7-4466-ad55-3569a40e0ff3-c000.snappy.parquet:\n"
     ]
    },
    {
     "name": "stderr",
     "output_type": "stream",
     "text": [
      "                                                                                \r"
     ]
    },
    {
     "name": "stdout",
     "output_type": "stream",
     "text": [
      "Saved gs://my-bigdata-project-cm/aggregated/part-00007-23298229-e8d7-4466-ad55-3569a40e0ff3-c000.snappy.parquet\n",
      "Processing cleaned/yellow_tripdata_2017-09.parquet/part-00008-23298229-e8d7-4466-ad55-3569a40e0ff3-c000.snappy.parquet:\n"
     ]
    },
    {
     "name": "stderr",
     "output_type": "stream",
     "text": [
      "                                                                                \r"
     ]
    },
    {
     "name": "stdout",
     "output_type": "stream",
     "text": [
      "Saved gs://my-bigdata-project-cm/aggregated/part-00008-23298229-e8d7-4466-ad55-3569a40e0ff3-c000.snappy.parquet\n",
      "Processing cleaned/yellow_tripdata_2017-09.parquet/part-00009-23298229-e8d7-4466-ad55-3569a40e0ff3-c000.snappy.parquet:\n"
     ]
    },
    {
     "name": "stderr",
     "output_type": "stream",
     "text": [
      "                                                                                \r"
     ]
    },
    {
     "name": "stdout",
     "output_type": "stream",
     "text": [
      "Saved gs://my-bigdata-project-cm/aggregated/part-00009-23298229-e8d7-4466-ad55-3569a40e0ff3-c000.snappy.parquet\n",
      "Processing cleaned/yellow_tripdata_2017-09.parquet/part-00010-23298229-e8d7-4466-ad55-3569a40e0ff3-c000.snappy.parquet:\n"
     ]
    },
    {
     "name": "stderr",
     "output_type": "stream",
     "text": [
      "                                                                                \r"
     ]
    },
    {
     "name": "stdout",
     "output_type": "stream",
     "text": [
      "Saved gs://my-bigdata-project-cm/aggregated/part-00010-23298229-e8d7-4466-ad55-3569a40e0ff3-c000.snappy.parquet\n",
      "Processing cleaned/yellow_tripdata_2017-09.parquet/part-00011-23298229-e8d7-4466-ad55-3569a40e0ff3-c000.snappy.parquet:\n"
     ]
    },
    {
     "name": "stderr",
     "output_type": "stream",
     "text": [
      "                                                                                \r"
     ]
    },
    {
     "name": "stdout",
     "output_type": "stream",
     "text": [
      "Saved gs://my-bigdata-project-cm/aggregated/part-00011-23298229-e8d7-4466-ad55-3569a40e0ff3-c000.snappy.parquet\n",
      "Processing cleaned/yellow_tripdata_2017-09.parquet/part-00012-23298229-e8d7-4466-ad55-3569a40e0ff3-c000.snappy.parquet:\n"
     ]
    },
    {
     "name": "stderr",
     "output_type": "stream",
     "text": [
      "                                                                                \r"
     ]
    },
    {
     "name": "stdout",
     "output_type": "stream",
     "text": [
      "Saved gs://my-bigdata-project-cm/aggregated/part-00012-23298229-e8d7-4466-ad55-3569a40e0ff3-c000.snappy.parquet\n",
      "Skipping file cleaned/yellow_tripdata_2017-10.parquet/\n",
      "Skipping file cleaned/yellow_tripdata_2017-10.parquet/_SUCCESS\n",
      "Processing cleaned/yellow_tripdata_2017-10.parquet/part-00000-6dc3c0bb-850a-44e5-87aa-e00e66133cc3-c000.snappy.parquet:\n"
     ]
    },
    {
     "name": "stderr",
     "output_type": "stream",
     "text": [
      "                                                                                \r"
     ]
    },
    {
     "name": "stdout",
     "output_type": "stream",
     "text": [
      "Saved gs://my-bigdata-project-cm/aggregated/part-00000-6dc3c0bb-850a-44e5-87aa-e00e66133cc3-c000.snappy.parquet\n",
      "Processing cleaned/yellow_tripdata_2017-10.parquet/part-00001-6dc3c0bb-850a-44e5-87aa-e00e66133cc3-c000.snappy.parquet:\n"
     ]
    },
    {
     "name": "stderr",
     "output_type": "stream",
     "text": [
      "                                                                                \r"
     ]
    },
    {
     "name": "stdout",
     "output_type": "stream",
     "text": [
      "Saved gs://my-bigdata-project-cm/aggregated/part-00001-6dc3c0bb-850a-44e5-87aa-e00e66133cc3-c000.snappy.parquet\n",
      "Processing cleaned/yellow_tripdata_2017-10.parquet/part-00002-6dc3c0bb-850a-44e5-87aa-e00e66133cc3-c000.snappy.parquet:\n"
     ]
    },
    {
     "name": "stderr",
     "output_type": "stream",
     "text": [
      "                                                                                \r"
     ]
    },
    {
     "name": "stdout",
     "output_type": "stream",
     "text": [
      "Saved gs://my-bigdata-project-cm/aggregated/part-00002-6dc3c0bb-850a-44e5-87aa-e00e66133cc3-c000.snappy.parquet\n",
      "Processing cleaned/yellow_tripdata_2017-10.parquet/part-00003-6dc3c0bb-850a-44e5-87aa-e00e66133cc3-c000.snappy.parquet:\n"
     ]
    },
    {
     "name": "stderr",
     "output_type": "stream",
     "text": [
      "                                                                                \r"
     ]
    },
    {
     "name": "stdout",
     "output_type": "stream",
     "text": [
      "Saved gs://my-bigdata-project-cm/aggregated/part-00003-6dc3c0bb-850a-44e5-87aa-e00e66133cc3-c000.snappy.parquet\n",
      "Processing cleaned/yellow_tripdata_2017-10.parquet/part-00004-6dc3c0bb-850a-44e5-87aa-e00e66133cc3-c000.snappy.parquet:\n"
     ]
    },
    {
     "name": "stderr",
     "output_type": "stream",
     "text": [
      "                                                                                \r"
     ]
    },
    {
     "name": "stdout",
     "output_type": "stream",
     "text": [
      "Saved gs://my-bigdata-project-cm/aggregated/part-00004-6dc3c0bb-850a-44e5-87aa-e00e66133cc3-c000.snappy.parquet\n",
      "Processing cleaned/yellow_tripdata_2017-10.parquet/part-00005-6dc3c0bb-850a-44e5-87aa-e00e66133cc3-c000.snappy.parquet:\n"
     ]
    },
    {
     "name": "stderr",
     "output_type": "stream",
     "text": [
      "                                                                                \r"
     ]
    },
    {
     "name": "stdout",
     "output_type": "stream",
     "text": [
      "Saved gs://my-bigdata-project-cm/aggregated/part-00005-6dc3c0bb-850a-44e5-87aa-e00e66133cc3-c000.snappy.parquet\n",
      "Processing cleaned/yellow_tripdata_2017-10.parquet/part-00006-6dc3c0bb-850a-44e5-87aa-e00e66133cc3-c000.snappy.parquet:\n"
     ]
    },
    {
     "name": "stderr",
     "output_type": "stream",
     "text": [
      "                                                                                \r"
     ]
    },
    {
     "name": "stdout",
     "output_type": "stream",
     "text": [
      "Saved gs://my-bigdata-project-cm/aggregated/part-00006-6dc3c0bb-850a-44e5-87aa-e00e66133cc3-c000.snappy.parquet\n",
      "Processing cleaned/yellow_tripdata_2017-10.parquet/part-00007-6dc3c0bb-850a-44e5-87aa-e00e66133cc3-c000.snappy.parquet:\n"
     ]
    },
    {
     "name": "stderr",
     "output_type": "stream",
     "text": [
      "                                                                                \r"
     ]
    },
    {
     "name": "stdout",
     "output_type": "stream",
     "text": [
      "Saved gs://my-bigdata-project-cm/aggregated/part-00007-6dc3c0bb-850a-44e5-87aa-e00e66133cc3-c000.snappy.parquet\n",
      "Processing cleaned/yellow_tripdata_2017-10.parquet/part-00008-6dc3c0bb-850a-44e5-87aa-e00e66133cc3-c000.snappy.parquet:\n"
     ]
    },
    {
     "name": "stderr",
     "output_type": "stream",
     "text": [
      "                                                                                \r"
     ]
    },
    {
     "name": "stdout",
     "output_type": "stream",
     "text": [
      "Saved gs://my-bigdata-project-cm/aggregated/part-00008-6dc3c0bb-850a-44e5-87aa-e00e66133cc3-c000.snappy.parquet\n",
      "Processing cleaned/yellow_tripdata_2017-10.parquet/part-00009-6dc3c0bb-850a-44e5-87aa-e00e66133cc3-c000.snappy.parquet:\n"
     ]
    },
    {
     "name": "stderr",
     "output_type": "stream",
     "text": [
      "                                                                                \r"
     ]
    },
    {
     "name": "stdout",
     "output_type": "stream",
     "text": [
      "Saved gs://my-bigdata-project-cm/aggregated/part-00009-6dc3c0bb-850a-44e5-87aa-e00e66133cc3-c000.snappy.parquet\n",
      "Processing cleaned/yellow_tripdata_2017-10.parquet/part-00010-6dc3c0bb-850a-44e5-87aa-e00e66133cc3-c000.snappy.parquet:\n"
     ]
    },
    {
     "name": "stderr",
     "output_type": "stream",
     "text": [
      "                                                                                \r"
     ]
    },
    {
     "name": "stdout",
     "output_type": "stream",
     "text": [
      "Saved gs://my-bigdata-project-cm/aggregated/part-00010-6dc3c0bb-850a-44e5-87aa-e00e66133cc3-c000.snappy.parquet\n",
      "Processing cleaned/yellow_tripdata_2017-10.parquet/part-00011-6dc3c0bb-850a-44e5-87aa-e00e66133cc3-c000.snappy.parquet:\n"
     ]
    },
    {
     "name": "stderr",
     "output_type": "stream",
     "text": [
      "                                                                                \r"
     ]
    },
    {
     "name": "stdout",
     "output_type": "stream",
     "text": [
      "Saved gs://my-bigdata-project-cm/aggregated/part-00011-6dc3c0bb-850a-44e5-87aa-e00e66133cc3-c000.snappy.parquet\n",
      "Processing cleaned/yellow_tripdata_2017-10.parquet/part-00012-6dc3c0bb-850a-44e5-87aa-e00e66133cc3-c000.snappy.parquet:\n"
     ]
    },
    {
     "name": "stderr",
     "output_type": "stream",
     "text": [
      "                                                                                \r"
     ]
    },
    {
     "name": "stdout",
     "output_type": "stream",
     "text": [
      "Saved gs://my-bigdata-project-cm/aggregated/part-00012-6dc3c0bb-850a-44e5-87aa-e00e66133cc3-c000.snappy.parquet\n",
      "Skipping file cleaned/yellow_tripdata_2017-11.parquet/\n",
      "Skipping file cleaned/yellow_tripdata_2017-11.parquet/_SUCCESS\n",
      "Processing cleaned/yellow_tripdata_2017-11.parquet/part-00000-2004fe45-1a68-4a99-b37c-fac97c3ea1cf-c000.snappy.parquet:\n"
     ]
    },
    {
     "name": "stderr",
     "output_type": "stream",
     "text": [
      "                                                                                \r"
     ]
    },
    {
     "name": "stdout",
     "output_type": "stream",
     "text": [
      "Saved gs://my-bigdata-project-cm/aggregated/part-00000-2004fe45-1a68-4a99-b37c-fac97c3ea1cf-c000.snappy.parquet\n",
      "Processing cleaned/yellow_tripdata_2017-11.parquet/part-00001-2004fe45-1a68-4a99-b37c-fac97c3ea1cf-c000.snappy.parquet:\n",
      "Processing cleaned/yellow_tripdata_2017-11.parquet/part-00002-2004fe45-1a68-4a99-b37c-fac97c3ea1cf-c000.snappy.parquet:\n"
     ]
    },
    {
     "name": "stderr",
     "output_type": "stream",
     "text": [
      "                                                                                \r"
     ]
    },
    {
     "name": "stdout",
     "output_type": "stream",
     "text": [
      "Saved gs://my-bigdata-project-cm/aggregated/part-00002-2004fe45-1a68-4a99-b37c-fac97c3ea1cf-c000.snappy.parquet\n",
      "Processing cleaned/yellow_tripdata_2017-11.parquet/part-00003-2004fe45-1a68-4a99-b37c-fac97c3ea1cf-c000.snappy.parquet:\n"
     ]
    },
    {
     "name": "stderr",
     "output_type": "stream",
     "text": [
      "                                                                                \r"
     ]
    },
    {
     "name": "stdout",
     "output_type": "stream",
     "text": [
      "Saved gs://my-bigdata-project-cm/aggregated/part-00003-2004fe45-1a68-4a99-b37c-fac97c3ea1cf-c000.snappy.parquet\n",
      "Processing cleaned/yellow_tripdata_2017-11.parquet/part-00004-2004fe45-1a68-4a99-b37c-fac97c3ea1cf-c000.snappy.parquet:\n"
     ]
    },
    {
     "name": "stderr",
     "output_type": "stream",
     "text": [
      "                                                                                \r"
     ]
    },
    {
     "name": "stdout",
     "output_type": "stream",
     "text": [
      "Saved gs://my-bigdata-project-cm/aggregated/part-00004-2004fe45-1a68-4a99-b37c-fac97c3ea1cf-c000.snappy.parquet\n",
      "Processing cleaned/yellow_tripdata_2017-11.parquet/part-00005-2004fe45-1a68-4a99-b37c-fac97c3ea1cf-c000.snappy.parquet:\n"
     ]
    },
    {
     "name": "stderr",
     "output_type": "stream",
     "text": [
      "                                                                                \r"
     ]
    },
    {
     "name": "stdout",
     "output_type": "stream",
     "text": [
      "Saved gs://my-bigdata-project-cm/aggregated/part-00005-2004fe45-1a68-4a99-b37c-fac97c3ea1cf-c000.snappy.parquet\n",
      "Processing cleaned/yellow_tripdata_2017-11.parquet/part-00006-2004fe45-1a68-4a99-b37c-fac97c3ea1cf-c000.snappy.parquet:\n"
     ]
    },
    {
     "name": "stderr",
     "output_type": "stream",
     "text": [
      "                                                                                \r"
     ]
    },
    {
     "name": "stdout",
     "output_type": "stream",
     "text": [
      "Saved gs://my-bigdata-project-cm/aggregated/part-00006-2004fe45-1a68-4a99-b37c-fac97c3ea1cf-c000.snappy.parquet\n",
      "Processing cleaned/yellow_tripdata_2017-11.parquet/part-00007-2004fe45-1a68-4a99-b37c-fac97c3ea1cf-c000.snappy.parquet:\n"
     ]
    },
    {
     "name": "stderr",
     "output_type": "stream",
     "text": [
      "                                                                                \r"
     ]
    },
    {
     "name": "stdout",
     "output_type": "stream",
     "text": [
      "Saved gs://my-bigdata-project-cm/aggregated/part-00007-2004fe45-1a68-4a99-b37c-fac97c3ea1cf-c000.snappy.parquet\n",
      "Processing cleaned/yellow_tripdata_2017-11.parquet/part-00008-2004fe45-1a68-4a99-b37c-fac97c3ea1cf-c000.snappy.parquet:\n"
     ]
    },
    {
     "name": "stderr",
     "output_type": "stream",
     "text": [
      "                                                                                \r"
     ]
    },
    {
     "name": "stdout",
     "output_type": "stream",
     "text": [
      "Saved gs://my-bigdata-project-cm/aggregated/part-00008-2004fe45-1a68-4a99-b37c-fac97c3ea1cf-c000.snappy.parquet\n",
      "Processing cleaned/yellow_tripdata_2017-11.parquet/part-00009-2004fe45-1a68-4a99-b37c-fac97c3ea1cf-c000.snappy.parquet:\n"
     ]
    },
    {
     "name": "stderr",
     "output_type": "stream",
     "text": [
      "                                                                                \r"
     ]
    },
    {
     "name": "stdout",
     "output_type": "stream",
     "text": [
      "Saved gs://my-bigdata-project-cm/aggregated/part-00009-2004fe45-1a68-4a99-b37c-fac97c3ea1cf-c000.snappy.parquet\n",
      "Processing cleaned/yellow_tripdata_2017-11.parquet/part-00010-2004fe45-1a68-4a99-b37c-fac97c3ea1cf-c000.snappy.parquet:\n"
     ]
    },
    {
     "name": "stderr",
     "output_type": "stream",
     "text": [
      "                                                                                \r"
     ]
    },
    {
     "name": "stdout",
     "output_type": "stream",
     "text": [
      "Saved gs://my-bigdata-project-cm/aggregated/part-00010-2004fe45-1a68-4a99-b37c-fac97c3ea1cf-c000.snappy.parquet\n",
      "Processing cleaned/yellow_tripdata_2017-11.parquet/part-00011-2004fe45-1a68-4a99-b37c-fac97c3ea1cf-c000.snappy.parquet:\n"
     ]
    },
    {
     "name": "stderr",
     "output_type": "stream",
     "text": [
      "                                                                                \r"
     ]
    },
    {
     "name": "stdout",
     "output_type": "stream",
     "text": [
      "Saved gs://my-bigdata-project-cm/aggregated/part-00011-2004fe45-1a68-4a99-b37c-fac97c3ea1cf-c000.snappy.parquet\n",
      "Processing cleaned/yellow_tripdata_2017-11.parquet/part-00012-2004fe45-1a68-4a99-b37c-fac97c3ea1cf-c000.snappy.parquet:\n"
     ]
    },
    {
     "name": "stderr",
     "output_type": "stream",
     "text": [
      "                                                                                \r"
     ]
    },
    {
     "name": "stdout",
     "output_type": "stream",
     "text": [
      "Saved gs://my-bigdata-project-cm/aggregated/part-00012-2004fe45-1a68-4a99-b37c-fac97c3ea1cf-c000.snappy.parquet\n",
      "Skipping file cleaned/yellow_tripdata_2017-12.parquet/\n",
      "Skipping file cleaned/yellow_tripdata_2017-12.parquet/_SUCCESS\n",
      "Processing cleaned/yellow_tripdata_2017-12.parquet/part-00000-3a5f354a-acc6-47f7-8be3-b696ab6db6ef-c000.snappy.parquet:\n"
     ]
    },
    {
     "name": "stderr",
     "output_type": "stream",
     "text": [
      "                                                                                \r"
     ]
    },
    {
     "name": "stdout",
     "output_type": "stream",
     "text": [
      "Saved gs://my-bigdata-project-cm/aggregated/part-00000-3a5f354a-acc6-47f7-8be3-b696ab6db6ef-c000.snappy.parquet\n",
      "Processing cleaned/yellow_tripdata_2017-12.parquet/part-00001-3a5f354a-acc6-47f7-8be3-b696ab6db6ef-c000.snappy.parquet:\n"
     ]
    },
    {
     "name": "stderr",
     "output_type": "stream",
     "text": [
      "                                                                                \r"
     ]
    },
    {
     "name": "stdout",
     "output_type": "stream",
     "text": [
      "Saved gs://my-bigdata-project-cm/aggregated/part-00001-3a5f354a-acc6-47f7-8be3-b696ab6db6ef-c000.snappy.parquet\n",
      "Processing cleaned/yellow_tripdata_2017-12.parquet/part-00002-3a5f354a-acc6-47f7-8be3-b696ab6db6ef-c000.snappy.parquet:\n"
     ]
    },
    {
     "name": "stderr",
     "output_type": "stream",
     "text": [
      "                                                                                \r"
     ]
    },
    {
     "name": "stdout",
     "output_type": "stream",
     "text": [
      "Saved gs://my-bigdata-project-cm/aggregated/part-00002-3a5f354a-acc6-47f7-8be3-b696ab6db6ef-c000.snappy.parquet\n",
      "Processing cleaned/yellow_tripdata_2017-12.parquet/part-00003-3a5f354a-acc6-47f7-8be3-b696ab6db6ef-c000.snappy.parquet:\n"
     ]
    },
    {
     "name": "stderr",
     "output_type": "stream",
     "text": [
      "                                                                                \r"
     ]
    },
    {
     "name": "stdout",
     "output_type": "stream",
     "text": [
      "Saved gs://my-bigdata-project-cm/aggregated/part-00003-3a5f354a-acc6-47f7-8be3-b696ab6db6ef-c000.snappy.parquet\n",
      "Processing cleaned/yellow_tripdata_2017-12.parquet/part-00004-3a5f354a-acc6-47f7-8be3-b696ab6db6ef-c000.snappy.parquet:\n"
     ]
    },
    {
     "name": "stderr",
     "output_type": "stream",
     "text": [
      "                                                                                \r"
     ]
    },
    {
     "name": "stdout",
     "output_type": "stream",
     "text": [
      "Saved gs://my-bigdata-project-cm/aggregated/part-00004-3a5f354a-acc6-47f7-8be3-b696ab6db6ef-c000.snappy.parquet\n",
      "Processing cleaned/yellow_tripdata_2017-12.parquet/part-00005-3a5f354a-acc6-47f7-8be3-b696ab6db6ef-c000.snappy.parquet:\n"
     ]
    },
    {
     "name": "stderr",
     "output_type": "stream",
     "text": [
      "                                                                                \r"
     ]
    },
    {
     "name": "stdout",
     "output_type": "stream",
     "text": [
      "Saved gs://my-bigdata-project-cm/aggregated/part-00005-3a5f354a-acc6-47f7-8be3-b696ab6db6ef-c000.snappy.parquet\n",
      "Processing cleaned/yellow_tripdata_2017-12.parquet/part-00006-3a5f354a-acc6-47f7-8be3-b696ab6db6ef-c000.snappy.parquet:\n"
     ]
    },
    {
     "name": "stderr",
     "output_type": "stream",
     "text": [
      "                                                                                \r"
     ]
    },
    {
     "name": "stdout",
     "output_type": "stream",
     "text": [
      "Saved gs://my-bigdata-project-cm/aggregated/part-00006-3a5f354a-acc6-47f7-8be3-b696ab6db6ef-c000.snappy.parquet\n",
      "Processing cleaned/yellow_tripdata_2017-12.parquet/part-00007-3a5f354a-acc6-47f7-8be3-b696ab6db6ef-c000.snappy.parquet:\n"
     ]
    },
    {
     "name": "stderr",
     "output_type": "stream",
     "text": [
      "                                                                                \r"
     ]
    },
    {
     "name": "stdout",
     "output_type": "stream",
     "text": [
      "Saved gs://my-bigdata-project-cm/aggregated/part-00007-3a5f354a-acc6-47f7-8be3-b696ab6db6ef-c000.snappy.parquet\n",
      "Processing cleaned/yellow_tripdata_2017-12.parquet/part-00008-3a5f354a-acc6-47f7-8be3-b696ab6db6ef-c000.snappy.parquet:\n"
     ]
    },
    {
     "name": "stderr",
     "output_type": "stream",
     "text": [
      "                                                                                \r"
     ]
    },
    {
     "name": "stdout",
     "output_type": "stream",
     "text": [
      "Saved gs://my-bigdata-project-cm/aggregated/part-00008-3a5f354a-acc6-47f7-8be3-b696ab6db6ef-c000.snappy.parquet\n",
      "Processing cleaned/yellow_tripdata_2017-12.parquet/part-00009-3a5f354a-acc6-47f7-8be3-b696ab6db6ef-c000.snappy.parquet:\n"
     ]
    },
    {
     "name": "stderr",
     "output_type": "stream",
     "text": [
      "                                                                                \r"
     ]
    },
    {
     "name": "stdout",
     "output_type": "stream",
     "text": [
      "Saved gs://my-bigdata-project-cm/aggregated/part-00009-3a5f354a-acc6-47f7-8be3-b696ab6db6ef-c000.snappy.parquet\n",
      "Skipping file cleaned/yellow_tripdata_2018-01.parquet/\n",
      "Skipping file cleaned/yellow_tripdata_2018-01.parquet/_SUCCESS\n",
      "Processing cleaned/yellow_tripdata_2018-01.parquet/part-00000-411051a2-45e3-42b7-a275-c56cfcc228c9-c000.snappy.parquet:\n"
     ]
    },
    {
     "name": "stderr",
     "output_type": "stream",
     "text": [
      "                                                                                \r"
     ]
    },
    {
     "name": "stdout",
     "output_type": "stream",
     "text": [
      "Saved gs://my-bigdata-project-cm/aggregated/part-00000-411051a2-45e3-42b7-a275-c56cfcc228c9-c000.snappy.parquet\n",
      "Processing cleaned/yellow_tripdata_2018-01.parquet/part-00001-411051a2-45e3-42b7-a275-c56cfcc228c9-c000.snappy.parquet:\n"
     ]
    },
    {
     "name": "stderr",
     "output_type": "stream",
     "text": [
      "                                                                                \r"
     ]
    },
    {
     "name": "stdout",
     "output_type": "stream",
     "text": [
      "Saved gs://my-bigdata-project-cm/aggregated/part-00001-411051a2-45e3-42b7-a275-c56cfcc228c9-c000.snappy.parquet\n",
      "Processing cleaned/yellow_tripdata_2018-01.parquet/part-00002-411051a2-45e3-42b7-a275-c56cfcc228c9-c000.snappy.parquet:\n"
     ]
    },
    {
     "name": "stderr",
     "output_type": "stream",
     "text": [
      "                                                                                \r"
     ]
    },
    {
     "name": "stdout",
     "output_type": "stream",
     "text": [
      "Saved gs://my-bigdata-project-cm/aggregated/part-00002-411051a2-45e3-42b7-a275-c56cfcc228c9-c000.snappy.parquet\n",
      "Processing cleaned/yellow_tripdata_2018-01.parquet/part-00003-411051a2-45e3-42b7-a275-c56cfcc228c9-c000.snappy.parquet:\n"
     ]
    },
    {
     "name": "stderr",
     "output_type": "stream",
     "text": [
      "                                                                                \r"
     ]
    },
    {
     "name": "stdout",
     "output_type": "stream",
     "text": [
      "Saved gs://my-bigdata-project-cm/aggregated/part-00003-411051a2-45e3-42b7-a275-c56cfcc228c9-c000.snappy.parquet\n",
      "Processing cleaned/yellow_tripdata_2018-01.parquet/part-00004-411051a2-45e3-42b7-a275-c56cfcc228c9-c000.snappy.parquet:\n"
     ]
    },
    {
     "name": "stderr",
     "output_type": "stream",
     "text": [
      "                                                                                \r"
     ]
    },
    {
     "name": "stdout",
     "output_type": "stream",
     "text": [
      "Saved gs://my-bigdata-project-cm/aggregated/part-00004-411051a2-45e3-42b7-a275-c56cfcc228c9-c000.snappy.parquet\n",
      "Processing cleaned/yellow_tripdata_2018-01.parquet/part-00005-411051a2-45e3-42b7-a275-c56cfcc228c9-c000.snappy.parquet:\n"
     ]
    },
    {
     "name": "stderr",
     "output_type": "stream",
     "text": [
      "                                                                                \r"
     ]
    },
    {
     "name": "stdout",
     "output_type": "stream",
     "text": [
      "Saved gs://my-bigdata-project-cm/aggregated/part-00005-411051a2-45e3-42b7-a275-c56cfcc228c9-c000.snappy.parquet\n",
      "Processing cleaned/yellow_tripdata_2018-01.parquet/part-00006-411051a2-45e3-42b7-a275-c56cfcc228c9-c000.snappy.parquet:\n"
     ]
    },
    {
     "name": "stderr",
     "output_type": "stream",
     "text": [
      "                                                                                \r"
     ]
    },
    {
     "name": "stdout",
     "output_type": "stream",
     "text": [
      "Saved gs://my-bigdata-project-cm/aggregated/part-00006-411051a2-45e3-42b7-a275-c56cfcc228c9-c000.snappy.parquet\n",
      "Processing cleaned/yellow_tripdata_2018-01.parquet/part-00007-411051a2-45e3-42b7-a275-c56cfcc228c9-c000.snappy.parquet:\n"
     ]
    },
    {
     "name": "stderr",
     "output_type": "stream",
     "text": [
      "                                                                                \r"
     ]
    },
    {
     "name": "stdout",
     "output_type": "stream",
     "text": [
      "Saved gs://my-bigdata-project-cm/aggregated/part-00007-411051a2-45e3-42b7-a275-c56cfcc228c9-c000.snappy.parquet\n",
      "Processing cleaned/yellow_tripdata_2018-01.parquet/part-00008-411051a2-45e3-42b7-a275-c56cfcc228c9-c000.snappy.parquet:\n"
     ]
    },
    {
     "name": "stderr",
     "output_type": "stream",
     "text": [
      "                                                                                \r"
     ]
    },
    {
     "name": "stdout",
     "output_type": "stream",
     "text": [
      "Saved gs://my-bigdata-project-cm/aggregated/part-00008-411051a2-45e3-42b7-a275-c56cfcc228c9-c000.snappy.parquet\n",
      "Skipping file cleaned/yellow_tripdata_2018-02.parquet/\n",
      "Skipping file cleaned/yellow_tripdata_2018-02.parquet/_SUCCESS\n",
      "Processing cleaned/yellow_tripdata_2018-02.parquet/part-00000-3fbb8aaf-3cf8-496c-873d-0a007bb2a5f2-c000.snappy.parquet:\n"
     ]
    },
    {
     "name": "stderr",
     "output_type": "stream",
     "text": [
      "                                                                                \r"
     ]
    },
    {
     "name": "stdout",
     "output_type": "stream",
     "text": [
      "Saved gs://my-bigdata-project-cm/aggregated/part-00000-3fbb8aaf-3cf8-496c-873d-0a007bb2a5f2-c000.snappy.parquet\n",
      "Processing cleaned/yellow_tripdata_2018-02.parquet/part-00001-3fbb8aaf-3cf8-496c-873d-0a007bb2a5f2-c000.snappy.parquet:\n"
     ]
    },
    {
     "name": "stderr",
     "output_type": "stream",
     "text": [
      "                                                                                \r"
     ]
    },
    {
     "name": "stdout",
     "output_type": "stream",
     "text": [
      "Saved gs://my-bigdata-project-cm/aggregated/part-00001-3fbb8aaf-3cf8-496c-873d-0a007bb2a5f2-c000.snappy.parquet\n",
      "Processing cleaned/yellow_tripdata_2018-02.parquet/part-00002-3fbb8aaf-3cf8-496c-873d-0a007bb2a5f2-c000.snappy.parquet:\n"
     ]
    },
    {
     "name": "stderr",
     "output_type": "stream",
     "text": [
      "                                                                                \r"
     ]
    },
    {
     "name": "stdout",
     "output_type": "stream",
     "text": [
      "Saved gs://my-bigdata-project-cm/aggregated/part-00003-3fbb8aaf-3cf8-496c-873d-0a007bb2a5f2-c000.snappy.parquet\n",
      "Processing cleaned/yellow_tripdata_2018-02.parquet/part-00004-3fbb8aaf-3cf8-496c-873d-0a007bb2a5f2-c000.snappy.parquet:\n"
     ]
    },
    {
     "name": "stderr",
     "output_type": "stream",
     "text": [
      "                                                                                \r"
     ]
    },
    {
     "name": "stdout",
     "output_type": "stream",
     "text": [
      "Saved gs://my-bigdata-project-cm/aggregated/part-00004-3fbb8aaf-3cf8-496c-873d-0a007bb2a5f2-c000.snappy.parquet\n",
      "Processing cleaned/yellow_tripdata_2018-02.parquet/part-00005-3fbb8aaf-3cf8-496c-873d-0a007bb2a5f2-c000.snappy.parquet:\n"
     ]
    },
    {
     "name": "stderr",
     "output_type": "stream",
     "text": [
      "                                                                                \r"
     ]
    },
    {
     "name": "stdout",
     "output_type": "stream",
     "text": [
      "Saved gs://my-bigdata-project-cm/aggregated/part-00005-3fbb8aaf-3cf8-496c-873d-0a007bb2a5f2-c000.snappy.parquet\n",
      "Processing cleaned/yellow_tripdata_2018-02.parquet/part-00006-3fbb8aaf-3cf8-496c-873d-0a007bb2a5f2-c000.snappy.parquet:\n"
     ]
    },
    {
     "name": "stderr",
     "output_type": "stream",
     "text": [
      "                                                                                \r"
     ]
    },
    {
     "name": "stdout",
     "output_type": "stream",
     "text": [
      "Saved gs://my-bigdata-project-cm/aggregated/part-00006-3fbb8aaf-3cf8-496c-873d-0a007bb2a5f2-c000.snappy.parquet\n",
      "Processing cleaned/yellow_tripdata_2018-02.parquet/part-00007-3fbb8aaf-3cf8-496c-873d-0a007bb2a5f2-c000.snappy.parquet:\n"
     ]
    },
    {
     "name": "stderr",
     "output_type": "stream",
     "text": [
      "                                                                                \r"
     ]
    },
    {
     "name": "stdout",
     "output_type": "stream",
     "text": [
      "Saved gs://my-bigdata-project-cm/aggregated/part-00007-3fbb8aaf-3cf8-496c-873d-0a007bb2a5f2-c000.snappy.parquet\n",
      "Skipping file cleaned/yellow_tripdata_2018-03.parquet/\n",
      "Skipping file cleaned/yellow_tripdata_2018-03.parquet/_SUCCESS\n",
      "Processing cleaned/yellow_tripdata_2018-03.parquet/part-00000-76dae137-361c-40e7-bd07-9d86c943b86a-c000.snappy.parquet:\n"
     ]
    },
    {
     "name": "stderr",
     "output_type": "stream",
     "text": [
      "                                                                                \r"
     ]
    },
    {
     "name": "stdout",
     "output_type": "stream",
     "text": [
      "Saved gs://my-bigdata-project-cm/aggregated/part-00000-76dae137-361c-40e7-bd07-9d86c943b86a-c000.snappy.parquet\n",
      "Processing cleaned/yellow_tripdata_2018-03.parquet/part-00001-76dae137-361c-40e7-bd07-9d86c943b86a-c000.snappy.parquet:\n"
     ]
    },
    {
     "name": "stderr",
     "output_type": "stream",
     "text": [
      "                                                                                \r"
     ]
    },
    {
     "name": "stdout",
     "output_type": "stream",
     "text": [
      "Saved gs://my-bigdata-project-cm/aggregated/part-00001-76dae137-361c-40e7-bd07-9d86c943b86a-c000.snappy.parquet\n",
      "Processing cleaned/yellow_tripdata_2018-03.parquet/part-00002-76dae137-361c-40e7-bd07-9d86c943b86a-c000.snappy.parquet:\n"
     ]
    },
    {
     "name": "stderr",
     "output_type": "stream",
     "text": [
      "                                                                                \r"
     ]
    },
    {
     "name": "stdout",
     "output_type": "stream",
     "text": [
      "Saved gs://my-bigdata-project-cm/aggregated/part-00002-76dae137-361c-40e7-bd07-9d86c943b86a-c000.snappy.parquet\n",
      "Processing cleaned/yellow_tripdata_2018-03.parquet/part-00003-76dae137-361c-40e7-bd07-9d86c943b86a-c000.snappy.parquet:\n"
     ]
    },
    {
     "name": "stderr",
     "output_type": "stream",
     "text": [
      "                                                                                \r"
     ]
    },
    {
     "name": "stdout",
     "output_type": "stream",
     "text": [
      "Saved gs://my-bigdata-project-cm/aggregated/part-00003-76dae137-361c-40e7-bd07-9d86c943b86a-c000.snappy.parquet\n",
      "Processing cleaned/yellow_tripdata_2018-03.parquet/part-00004-76dae137-361c-40e7-bd07-9d86c943b86a-c000.snappy.parquet:\n"
     ]
    },
    {
     "name": "stderr",
     "output_type": "stream",
     "text": [
      "                                                                                \r"
     ]
    },
    {
     "name": "stdout",
     "output_type": "stream",
     "text": [
      "Saved gs://my-bigdata-project-cm/aggregated/part-00004-76dae137-361c-40e7-bd07-9d86c943b86a-c000.snappy.parquet\n",
      "Processing cleaned/yellow_tripdata_2018-03.parquet/part-00005-76dae137-361c-40e7-bd07-9d86c943b86a-c000.snappy.parquet:\n"
     ]
    },
    {
     "name": "stderr",
     "output_type": "stream",
     "text": [
      "                                                                                \r"
     ]
    },
    {
     "name": "stdout",
     "output_type": "stream",
     "text": [
      "Saved gs://my-bigdata-project-cm/aggregated/part-00005-76dae137-361c-40e7-bd07-9d86c943b86a-c000.snappy.parquet\n",
      "Processing cleaned/yellow_tripdata_2018-03.parquet/part-00006-76dae137-361c-40e7-bd07-9d86c943b86a-c000.snappy.parquet:\n"
     ]
    },
    {
     "name": "stderr",
     "output_type": "stream",
     "text": [
      "                                                                                \r"
     ]
    },
    {
     "name": "stdout",
     "output_type": "stream",
     "text": [
      "Saved gs://my-bigdata-project-cm/aggregated/part-00006-76dae137-361c-40e7-bd07-9d86c943b86a-c000.snappy.parquet\n",
      "Processing cleaned/yellow_tripdata_2018-03.parquet/part-00007-76dae137-361c-40e7-bd07-9d86c943b86a-c000.snappy.parquet:\n"
     ]
    },
    {
     "name": "stderr",
     "output_type": "stream",
     "text": [
      "                                                                                \r"
     ]
    },
    {
     "name": "stdout",
     "output_type": "stream",
     "text": [
      "Saved gs://my-bigdata-project-cm/aggregated/part-00007-76dae137-361c-40e7-bd07-9d86c943b86a-c000.snappy.parquet\n",
      "Skipping file cleaned/yellow_tripdata_2018-04.parquet/\n",
      "Skipping file cleaned/yellow_tripdata_2018-04.parquet/_SUCCESS\n",
      "Processing cleaned/yellow_tripdata_2018-04.parquet/part-00000-a972334c-472a-49f9-86fa-a80fb89a7149-c000.snappy.parquet:\n"
     ]
    },
    {
     "name": "stderr",
     "output_type": "stream",
     "text": [
      "                                                                                \r"
     ]
    },
    {
     "name": "stdout",
     "output_type": "stream",
     "text": [
      "Saved gs://my-bigdata-project-cm/aggregated/part-00000-a972334c-472a-49f9-86fa-a80fb89a7149-c000.snappy.parquet\n",
      "Processing cleaned/yellow_tripdata_2018-04.parquet/part-00001-a972334c-472a-49f9-86fa-a80fb89a7149-c000.snappy.parquet:\n"
     ]
    },
    {
     "name": "stderr",
     "output_type": "stream",
     "text": [
      "                                                                                \r"
     ]
    },
    {
     "name": "stdout",
     "output_type": "stream",
     "text": [
      "Saved gs://my-bigdata-project-cm/aggregated/part-00001-a972334c-472a-49f9-86fa-a80fb89a7149-c000.snappy.parquet\n",
      "Processing cleaned/yellow_tripdata_2018-04.parquet/part-00002-a972334c-472a-49f9-86fa-a80fb89a7149-c000.snappy.parquet:\n"
     ]
    },
    {
     "name": "stderr",
     "output_type": "stream",
     "text": [
      "                                                                                \r"
     ]
    },
    {
     "name": "stdout",
     "output_type": "stream",
     "text": [
      "Saved gs://my-bigdata-project-cm/aggregated/part-00002-a972334c-472a-49f9-86fa-a80fb89a7149-c000.snappy.parquet\n",
      "Processing cleaned/yellow_tripdata_2018-04.parquet/part-00003-a972334c-472a-49f9-86fa-a80fb89a7149-c000.snappy.parquet:\n"
     ]
    },
    {
     "name": "stderr",
     "output_type": "stream",
     "text": [
      "                                                                                \r"
     ]
    },
    {
     "name": "stdout",
     "output_type": "stream",
     "text": [
      "Saved gs://my-bigdata-project-cm/aggregated/part-00003-a972334c-472a-49f9-86fa-a80fb89a7149-c000.snappy.parquet\n",
      "Processing cleaned/yellow_tripdata_2018-04.parquet/part-00004-a972334c-472a-49f9-86fa-a80fb89a7149-c000.snappy.parquet:\n"
     ]
    },
    {
     "name": "stderr",
     "output_type": "stream",
     "text": [
      "                                                                                \r"
     ]
    },
    {
     "name": "stdout",
     "output_type": "stream",
     "text": [
      "Saved gs://my-bigdata-project-cm/aggregated/part-00004-a972334c-472a-49f9-86fa-a80fb89a7149-c000.snappy.parquet\n",
      "Processing cleaned/yellow_tripdata_2018-04.parquet/part-00005-a972334c-472a-49f9-86fa-a80fb89a7149-c000.snappy.parquet:\n"
     ]
    },
    {
     "name": "stderr",
     "output_type": "stream",
     "text": [
      "                                                                                \r"
     ]
    },
    {
     "name": "stdout",
     "output_type": "stream",
     "text": [
      "Saved gs://my-bigdata-project-cm/aggregated/part-00005-a972334c-472a-49f9-86fa-a80fb89a7149-c000.snappy.parquet\n",
      "Processing cleaned/yellow_tripdata_2018-04.parquet/part-00006-a972334c-472a-49f9-86fa-a80fb89a7149-c000.snappy.parquet:\n"
     ]
    },
    {
     "name": "stderr",
     "output_type": "stream",
     "text": [
      "                                                                                \r"
     ]
    },
    {
     "name": "stdout",
     "output_type": "stream",
     "text": [
      "Saved gs://my-bigdata-project-cm/aggregated/part-00006-a972334c-472a-49f9-86fa-a80fb89a7149-c000.snappy.parquet\n",
      "Processing cleaned/yellow_tripdata_2018-04.parquet/part-00007-a972334c-472a-49f9-86fa-a80fb89a7149-c000.snappy.parquet:\n"
     ]
    },
    {
     "name": "stderr",
     "output_type": "stream",
     "text": [
      "                                                                                \r"
     ]
    },
    {
     "name": "stdout",
     "output_type": "stream",
     "text": [
      "Saved gs://my-bigdata-project-cm/aggregated/part-00007-a972334c-472a-49f9-86fa-a80fb89a7149-c000.snappy.parquet\n",
      "Skipping file cleaned/yellow_tripdata_2018-05.parquet/\n",
      "Skipping file cleaned/yellow_tripdata_2018-05.parquet/_SUCCESS\n",
      "Processing cleaned/yellow_tripdata_2018-05.parquet/part-00000-d7d6b423-c578-4372-9943-707e62aea55d-c000.snappy.parquet:\n"
     ]
    },
    {
     "name": "stderr",
     "output_type": "stream",
     "text": [
      "                                                                                \r"
     ]
    },
    {
     "name": "stdout",
     "output_type": "stream",
     "text": [
      "Saved gs://my-bigdata-project-cm/aggregated/part-00000-d7d6b423-c578-4372-9943-707e62aea55d-c000.snappy.parquet\n",
      "Processing cleaned/yellow_tripdata_2018-05.parquet/part-00001-d7d6b423-c578-4372-9943-707e62aea55d-c000.snappy.parquet:\n"
     ]
    },
    {
     "name": "stderr",
     "output_type": "stream",
     "text": [
      "                                                                                \r"
     ]
    },
    {
     "name": "stdout",
     "output_type": "stream",
     "text": [
      "Saved gs://my-bigdata-project-cm/aggregated/part-00001-d7d6b423-c578-4372-9943-707e62aea55d-c000.snappy.parquet\n",
      "Processing cleaned/yellow_tripdata_2018-05.parquet/part-00002-d7d6b423-c578-4372-9943-707e62aea55d-c000.snappy.parquet:\n"
     ]
    },
    {
     "name": "stderr",
     "output_type": "stream",
     "text": [
      "                                                                                \r"
     ]
    },
    {
     "name": "stdout",
     "output_type": "stream",
     "text": [
      "Saved gs://my-bigdata-project-cm/aggregated/part-00002-d7d6b423-c578-4372-9943-707e62aea55d-c000.snappy.parquet\n",
      "Processing cleaned/yellow_tripdata_2018-05.parquet/part-00003-d7d6b423-c578-4372-9943-707e62aea55d-c000.snappy.parquet:\n"
     ]
    },
    {
     "name": "stderr",
     "output_type": "stream",
     "text": [
      "                                                                                \r"
     ]
    },
    {
     "name": "stdout",
     "output_type": "stream",
     "text": [
      "Saved gs://my-bigdata-project-cm/aggregated/part-00003-d7d6b423-c578-4372-9943-707e62aea55d-c000.snappy.parquet\n",
      "Processing cleaned/yellow_tripdata_2018-05.parquet/part-00004-d7d6b423-c578-4372-9943-707e62aea55d-c000.snappy.parquet:\n"
     ]
    },
    {
     "name": "stderr",
     "output_type": "stream",
     "text": [
      "                                                                                \r"
     ]
    },
    {
     "name": "stdout",
     "output_type": "stream",
     "text": [
      "Saved gs://my-bigdata-project-cm/aggregated/part-00004-d7d6b423-c578-4372-9943-707e62aea55d-c000.snappy.parquet\n",
      "Processing cleaned/yellow_tripdata_2018-05.parquet/part-00005-d7d6b423-c578-4372-9943-707e62aea55d-c000.snappy.parquet:\n"
     ]
    },
    {
     "name": "stderr",
     "output_type": "stream",
     "text": [
      "                                                                                \r"
     ]
    },
    {
     "name": "stdout",
     "output_type": "stream",
     "text": [
      "Saved gs://my-bigdata-project-cm/aggregated/part-00005-d7d6b423-c578-4372-9943-707e62aea55d-c000.snappy.parquet\n",
      "Processing cleaned/yellow_tripdata_2018-05.parquet/part-00006-d7d6b423-c578-4372-9943-707e62aea55d-c000.snappy.parquet:\n"
     ]
    },
    {
     "name": "stderr",
     "output_type": "stream",
     "text": [
      "                                                                                \r"
     ]
    },
    {
     "name": "stdout",
     "output_type": "stream",
     "text": [
      "Saved gs://my-bigdata-project-cm/aggregated/part-00006-d7d6b423-c578-4372-9943-707e62aea55d-c000.snappy.parquet\n",
      "Processing cleaned/yellow_tripdata_2018-05.parquet/part-00007-d7d6b423-c578-4372-9943-707e62aea55d-c000.snappy.parquet:\n"
     ]
    },
    {
     "name": "stderr",
     "output_type": "stream",
     "text": [
      "                                                                                \r"
     ]
    },
    {
     "name": "stdout",
     "output_type": "stream",
     "text": [
      "Saved gs://my-bigdata-project-cm/aggregated/part-00007-d7d6b423-c578-4372-9943-707e62aea55d-c000.snappy.parquet\n",
      "Processing cleaned/yellow_tripdata_2018-05.parquet/part-00008-d7d6b423-c578-4372-9943-707e62aea55d-c000.snappy.parquet:\n"
     ]
    },
    {
     "name": "stderr",
     "output_type": "stream",
     "text": [
      "                                                                                \r"
     ]
    },
    {
     "name": "stdout",
     "output_type": "stream",
     "text": [
      "Saved gs://my-bigdata-project-cm/aggregated/part-00008-d7d6b423-c578-4372-9943-707e62aea55d-c000.snappy.parquet\n",
      "Skipping file cleaned/yellow_tripdata_2018-06.parquet/\n",
      "Skipping file cleaned/yellow_tripdata_2018-06.parquet/_SUCCESS\n",
      "Processing cleaned/yellow_tripdata_2018-06.parquet/part-00000-98e7fee9-432a-4ea5-a863-7bfeadc2cd5d-c000.snappy.parquet:\n"
     ]
    },
    {
     "name": "stderr",
     "output_type": "stream",
     "text": [
      "                                                                                \r"
     ]
    },
    {
     "name": "stdout",
     "output_type": "stream",
     "text": [
      "Saved gs://my-bigdata-project-cm/aggregated/part-00000-98e7fee9-432a-4ea5-a863-7bfeadc2cd5d-c000.snappy.parquet\n",
      "Processing cleaned/yellow_tripdata_2018-06.parquet/part-00001-98e7fee9-432a-4ea5-a863-7bfeadc2cd5d-c000.snappy.parquet:\n"
     ]
    },
    {
     "name": "stderr",
     "output_type": "stream",
     "text": [
      "                                                                                \r"
     ]
    },
    {
     "name": "stdout",
     "output_type": "stream",
     "text": [
      "Saved gs://my-bigdata-project-cm/aggregated/part-00001-98e7fee9-432a-4ea5-a863-7bfeadc2cd5d-c000.snappy.parquet\n",
      "Processing cleaned/yellow_tripdata_2018-06.parquet/part-00002-98e7fee9-432a-4ea5-a863-7bfeadc2cd5d-c000.snappy.parquet:\n"
     ]
    },
    {
     "name": "stderr",
     "output_type": "stream",
     "text": [
      "                                                                                \r"
     ]
    },
    {
     "name": "stdout",
     "output_type": "stream",
     "text": [
      "Saved gs://my-bigdata-project-cm/aggregated/part-00002-98e7fee9-432a-4ea5-a863-7bfeadc2cd5d-c000.snappy.parquet\n",
      "Processing cleaned/yellow_tripdata_2018-06.parquet/part-00003-98e7fee9-432a-4ea5-a863-7bfeadc2cd5d-c000.snappy.parquet:\n"
     ]
    },
    {
     "name": "stderr",
     "output_type": "stream",
     "text": [
      "                                                                                \r"
     ]
    },
    {
     "name": "stdout",
     "output_type": "stream",
     "text": [
      "Saved gs://my-bigdata-project-cm/aggregated/part-00003-98e7fee9-432a-4ea5-a863-7bfeadc2cd5d-c000.snappy.parquet\n",
      "Processing cleaned/yellow_tripdata_2018-06.parquet/part-00004-98e7fee9-432a-4ea5-a863-7bfeadc2cd5d-c000.snappy.parquet:\n"
     ]
    },
    {
     "name": "stderr",
     "output_type": "stream",
     "text": [
      "                                                                                \r"
     ]
    },
    {
     "name": "stdout",
     "output_type": "stream",
     "text": [
      "Saved gs://my-bigdata-project-cm/aggregated/part-00004-98e7fee9-432a-4ea5-a863-7bfeadc2cd5d-c000.snappy.parquet\n",
      "Processing cleaned/yellow_tripdata_2018-06.parquet/part-00005-98e7fee9-432a-4ea5-a863-7bfeadc2cd5d-c000.snappy.parquet:\n"
     ]
    },
    {
     "name": "stderr",
     "output_type": "stream",
     "text": [
      "                                                                                \r"
     ]
    },
    {
     "name": "stdout",
     "output_type": "stream",
     "text": [
      "Saved gs://my-bigdata-project-cm/aggregated/part-00005-98e7fee9-432a-4ea5-a863-7bfeadc2cd5d-c000.snappy.parquet\n",
      "Processing cleaned/yellow_tripdata_2018-06.parquet/part-00006-98e7fee9-432a-4ea5-a863-7bfeadc2cd5d-c000.snappy.parquet:\n"
     ]
    },
    {
     "name": "stderr",
     "output_type": "stream",
     "text": [
      "                                                                                \r"
     ]
    },
    {
     "name": "stdout",
     "output_type": "stream",
     "text": [
      "Saved gs://my-bigdata-project-cm/aggregated/part-00006-98e7fee9-432a-4ea5-a863-7bfeadc2cd5d-c000.snappy.parquet\n",
      "Processing cleaned/yellow_tripdata_2018-06.parquet/part-00007-98e7fee9-432a-4ea5-a863-7bfeadc2cd5d-c000.snappy.parquet:\n"
     ]
    },
    {
     "name": "stderr",
     "output_type": "stream",
     "text": [
      "                                                                                \r"
     ]
    },
    {
     "name": "stdout",
     "output_type": "stream",
     "text": [
      "Saved gs://my-bigdata-project-cm/aggregated/part-00007-98e7fee9-432a-4ea5-a863-7bfeadc2cd5d-c000.snappy.parquet\n",
      "Processing cleaned/yellow_tripdata_2018-06.parquet/part-00008-98e7fee9-432a-4ea5-a863-7bfeadc2cd5d-c000.snappy.parquet:\n"
     ]
    },
    {
     "name": "stderr",
     "output_type": "stream",
     "text": [
      "                                                                                \r"
     ]
    },
    {
     "name": "stdout",
     "output_type": "stream",
     "text": [
      "Saved gs://my-bigdata-project-cm/aggregated/part-00008-98e7fee9-432a-4ea5-a863-7bfeadc2cd5d-c000.snappy.parquet\n",
      "Processing cleaned/yellow_tripdata_2018-06.parquet/part-00009-98e7fee9-432a-4ea5-a863-7bfeadc2cd5d-c000.snappy.parquet:\n"
     ]
    },
    {
     "name": "stderr",
     "output_type": "stream",
     "text": [
      "                                                                                \r"
     ]
    },
    {
     "name": "stdout",
     "output_type": "stream",
     "text": [
      "Saved gs://my-bigdata-project-cm/aggregated/part-00009-98e7fee9-432a-4ea5-a863-7bfeadc2cd5d-c000.snappy.parquet\n",
      "Processing cleaned/yellow_tripdata_2018-06.parquet/part-00010-98e7fee9-432a-4ea5-a863-7bfeadc2cd5d-c000.snappy.parquet:\n"
     ]
    },
    {
     "name": "stderr",
     "output_type": "stream",
     "text": [
      "                                                                                \r"
     ]
    },
    {
     "name": "stdout",
     "output_type": "stream",
     "text": [
      "Saved gs://my-bigdata-project-cm/aggregated/part-00010-98e7fee9-432a-4ea5-a863-7bfeadc2cd5d-c000.snappy.parquet\n",
      "Skipping file cleaned/yellow_tripdata_2018-07.parquet/\n",
      "Skipping file cleaned/yellow_tripdata_2018-07.parquet/_SUCCESS\n",
      "Processing cleaned/yellow_tripdata_2018-07.parquet/part-00000-134f02f2-d52d-46e8-a2fb-bda554bcee46-c000.snappy.parquet:\n"
     ]
    },
    {
     "name": "stderr",
     "output_type": "stream",
     "text": [
      "                                                                                \r"
     ]
    },
    {
     "name": "stdout",
     "output_type": "stream",
     "text": [
      "Saved gs://my-bigdata-project-cm/aggregated/part-00000-134f02f2-d52d-46e8-a2fb-bda554bcee46-c000.snappy.parquet\n",
      "Processing cleaned/yellow_tripdata_2018-07.parquet/part-00001-134f02f2-d52d-46e8-a2fb-bda554bcee46-c000.snappy.parquet:\n"
     ]
    },
    {
     "name": "stderr",
     "output_type": "stream",
     "text": [
      "                                                                                \r"
     ]
    },
    {
     "name": "stdout",
     "output_type": "stream",
     "text": [
      "Saved gs://my-bigdata-project-cm/aggregated/part-00001-134f02f2-d52d-46e8-a2fb-bda554bcee46-c000.snappy.parquet\n",
      "Processing cleaned/yellow_tripdata_2018-07.parquet/part-00002-134f02f2-d52d-46e8-a2fb-bda554bcee46-c000.snappy.parquet:\n"
     ]
    },
    {
     "name": "stderr",
     "output_type": "stream",
     "text": [
      "                                                                                \r"
     ]
    },
    {
     "name": "stdout",
     "output_type": "stream",
     "text": [
      "Saved gs://my-bigdata-project-cm/aggregated/part-00002-134f02f2-d52d-46e8-a2fb-bda554bcee46-c000.snappy.parquet\n",
      "Processing cleaned/yellow_tripdata_2018-07.parquet/part-00003-134f02f2-d52d-46e8-a2fb-bda554bcee46-c000.snappy.parquet:\n"
     ]
    },
    {
     "name": "stderr",
     "output_type": "stream",
     "text": [
      "                                                                                \r"
     ]
    },
    {
     "name": "stdout",
     "output_type": "stream",
     "text": [
      "Saved gs://my-bigdata-project-cm/aggregated/part-00003-134f02f2-d52d-46e8-a2fb-bda554bcee46-c000.snappy.parquet\n",
      "Processing cleaned/yellow_tripdata_2018-07.parquet/part-00004-134f02f2-d52d-46e8-a2fb-bda554bcee46-c000.snappy.parquet:\n"
     ]
    },
    {
     "name": "stderr",
     "output_type": "stream",
     "text": [
      "                                                                                \r"
     ]
    },
    {
     "name": "stdout",
     "output_type": "stream",
     "text": [
      "Saved gs://my-bigdata-project-cm/aggregated/part-00004-134f02f2-d52d-46e8-a2fb-bda554bcee46-c000.snappy.parquet\n",
      "Processing cleaned/yellow_tripdata_2018-07.parquet/part-00005-134f02f2-d52d-46e8-a2fb-bda554bcee46-c000.snappy.parquet:\n"
     ]
    },
    {
     "name": "stderr",
     "output_type": "stream",
     "text": [
      "                                                                                \r"
     ]
    },
    {
     "name": "stdout",
     "output_type": "stream",
     "text": [
      "Saved gs://my-bigdata-project-cm/aggregated/part-00005-134f02f2-d52d-46e8-a2fb-bda554bcee46-c000.snappy.parquet\n",
      "Processing cleaned/yellow_tripdata_2018-07.parquet/part-00006-134f02f2-d52d-46e8-a2fb-bda554bcee46-c000.snappy.parquet:\n"
     ]
    },
    {
     "name": "stderr",
     "output_type": "stream",
     "text": [
      "                                                                                \r"
     ]
    },
    {
     "name": "stdout",
     "output_type": "stream",
     "text": [
      "Saved gs://my-bigdata-project-cm/aggregated/part-00006-134f02f2-d52d-46e8-a2fb-bda554bcee46-c000.snappy.parquet\n",
      "Processing cleaned/yellow_tripdata_2018-07.parquet/part-00007-134f02f2-d52d-46e8-a2fb-bda554bcee46-c000.snappy.parquet:\n"
     ]
    },
    {
     "name": "stderr",
     "output_type": "stream",
     "text": [
      "                                                                                \r"
     ]
    },
    {
     "name": "stdout",
     "output_type": "stream",
     "text": [
      "Saved gs://my-bigdata-project-cm/aggregated/part-00007-134f02f2-d52d-46e8-a2fb-bda554bcee46-c000.snappy.parquet\n",
      "Processing cleaned/yellow_tripdata_2018-07.parquet/part-00008-134f02f2-d52d-46e8-a2fb-bda554bcee46-c000.snappy.parquet:\n"
     ]
    },
    {
     "name": "stderr",
     "output_type": "stream",
     "text": [
      "                                                                                \r"
     ]
    },
    {
     "name": "stdout",
     "output_type": "stream",
     "text": [
      "Saved gs://my-bigdata-project-cm/aggregated/part-00008-134f02f2-d52d-46e8-a2fb-bda554bcee46-c000.snappy.parquet\n",
      "Processing cleaned/yellow_tripdata_2018-07.parquet/part-00009-134f02f2-d52d-46e8-a2fb-bda554bcee46-c000.snappy.parquet:\n"
     ]
    },
    {
     "name": "stderr",
     "output_type": "stream",
     "text": [
      "                                                                                \r"
     ]
    },
    {
     "name": "stdout",
     "output_type": "stream",
     "text": [
      "Saved gs://my-bigdata-project-cm/aggregated/part-00009-134f02f2-d52d-46e8-a2fb-bda554bcee46-c000.snappy.parquet\n",
      "Skipping file cleaned/yellow_tripdata_2018-08.parquet/\n",
      "Skipping file cleaned/yellow_tripdata_2018-08.parquet/_SUCCESS\n",
      "Processing cleaned/yellow_tripdata_2018-08.parquet/part-00000-fbbcc32e-9a1e-4fcd-8031-a8d2165c5913-c000.snappy.parquet:\n"
     ]
    },
    {
     "name": "stderr",
     "output_type": "stream",
     "text": [
      "                                                                                \r"
     ]
    },
    {
     "name": "stdout",
     "output_type": "stream",
     "text": [
      "Saved gs://my-bigdata-project-cm/aggregated/part-00000-fbbcc32e-9a1e-4fcd-8031-a8d2165c5913-c000.snappy.parquet\n"
     ]
    },
    {
     "name": "stderr",
     "output_type": "stream",
     "text": [
      "\r",
      "[Stage 22710:>                                                      (0 + 1) / 1]\r",
      "\r",
      "                                                                                \r"
     ]
    },
    {
     "name": "stdout",
     "output_type": "stream",
     "text": [
      "Processing cleaned/yellow_tripdata_2018-08.parquet/part-00001-fbbcc32e-9a1e-4fcd-8031-a8d2165c5913-c000.snappy.parquet:\n"
     ]
    },
    {
     "name": "stderr",
     "output_type": "stream",
     "text": [
      "                                                                                \r"
     ]
    },
    {
     "name": "stdout",
     "output_type": "stream",
     "text": [
      "Saved gs://my-bigdata-project-cm/aggregated/part-00001-fbbcc32e-9a1e-4fcd-8031-a8d2165c5913-c000.snappy.parquet\n",
      "Processing cleaned/yellow_tripdata_2018-08.parquet/part-00002-fbbcc32e-9a1e-4fcd-8031-a8d2165c5913-c000.snappy.parquet:\n"
     ]
    },
    {
     "name": "stderr",
     "output_type": "stream",
     "text": [
      "                                                                                \r"
     ]
    },
    {
     "name": "stdout",
     "output_type": "stream",
     "text": [
      "Saved gs://my-bigdata-project-cm/aggregated/part-00002-fbbcc32e-9a1e-4fcd-8031-a8d2165c5913-c000.snappy.parquet\n",
      "Processing cleaned/yellow_tripdata_2018-08.parquet/part-00003-fbbcc32e-9a1e-4fcd-8031-a8d2165c5913-c000.snappy.parquet:\n"
     ]
    },
    {
     "name": "stderr",
     "output_type": "stream",
     "text": [
      "                                                                                \r"
     ]
    },
    {
     "name": "stdout",
     "output_type": "stream",
     "text": [
      "Saved gs://my-bigdata-project-cm/aggregated/part-00003-fbbcc32e-9a1e-4fcd-8031-a8d2165c5913-c000.snappy.parquet\n",
      "Processing cleaned/yellow_tripdata_2018-08.parquet/part-00004-fbbcc32e-9a1e-4fcd-8031-a8d2165c5913-c000.snappy.parquet:\n"
     ]
    },
    {
     "name": "stderr",
     "output_type": "stream",
     "text": [
      "                                                                                \r"
     ]
    },
    {
     "name": "stdout",
     "output_type": "stream",
     "text": [
      "Saved gs://my-bigdata-project-cm/aggregated/part-00004-fbbcc32e-9a1e-4fcd-8031-a8d2165c5913-c000.snappy.parquet\n",
      "Processing cleaned/yellow_tripdata_2018-08.parquet/part-00005-fbbcc32e-9a1e-4fcd-8031-a8d2165c5913-c000.snappy.parquet:\n"
     ]
    },
    {
     "name": "stderr",
     "output_type": "stream",
     "text": [
      "                                                                                \r"
     ]
    },
    {
     "name": "stdout",
     "output_type": "stream",
     "text": [
      "Saved gs://my-bigdata-project-cm/aggregated/part-00005-fbbcc32e-9a1e-4fcd-8031-a8d2165c5913-c000.snappy.parquet\n",
      "Processing cleaned/yellow_tripdata_2018-08.parquet/part-00006-fbbcc32e-9a1e-4fcd-8031-a8d2165c5913-c000.snappy.parquet:\n"
     ]
    },
    {
     "name": "stderr",
     "output_type": "stream",
     "text": [
      "                                                                                \r"
     ]
    },
    {
     "name": "stdout",
     "output_type": "stream",
     "text": [
      "Saved gs://my-bigdata-project-cm/aggregated/part-00006-fbbcc32e-9a1e-4fcd-8031-a8d2165c5913-c000.snappy.parquet\n",
      "Processing cleaned/yellow_tripdata_2018-08.parquet/part-00007-fbbcc32e-9a1e-4fcd-8031-a8d2165c5913-c000.snappy.parquet:\n"
     ]
    },
    {
     "name": "stderr",
     "output_type": "stream",
     "text": [
      "                                                                                \r"
     ]
    },
    {
     "name": "stdout",
     "output_type": "stream",
     "text": [
      "Saved gs://my-bigdata-project-cm/aggregated/part-00007-fbbcc32e-9a1e-4fcd-8031-a8d2165c5913-c000.snappy.parquet\n",
      "Processing cleaned/yellow_tripdata_2018-08.parquet/part-00008-fbbcc32e-9a1e-4fcd-8031-a8d2165c5913-c000.snappy.parquet:\n"
     ]
    },
    {
     "name": "stderr",
     "output_type": "stream",
     "text": [
      "                                                                                \r"
     ]
    },
    {
     "name": "stdout",
     "output_type": "stream",
     "text": [
      "Saved gs://my-bigdata-project-cm/aggregated/part-00008-fbbcc32e-9a1e-4fcd-8031-a8d2165c5913-c000.snappy.parquet\n",
      "Skipping file cleaned/yellow_tripdata_2018-09.parquet/\n",
      "Skipping file cleaned/yellow_tripdata_2018-09.parquet/_SUCCESS\n",
      "Processing cleaned/yellow_tripdata_2018-09.parquet/part-00000-3e6611a9-0974-4314-835b-d76f366dddf0-c000.snappy.parquet:\n"
     ]
    },
    {
     "name": "stderr",
     "output_type": "stream",
     "text": [
      "                                                                                \r"
     ]
    },
    {
     "name": "stdout",
     "output_type": "stream",
     "text": [
      "Saved gs://my-bigdata-project-cm/aggregated/part-00000-3e6611a9-0974-4314-835b-d76f366dddf0-c000.snappy.parquet\n",
      "Processing cleaned/yellow_tripdata_2018-09.parquet/part-00001-3e6611a9-0974-4314-835b-d76f366dddf0-c000.snappy.parquet:\n"
     ]
    },
    {
     "name": "stderr",
     "output_type": "stream",
     "text": [
      "                                                                                \r"
     ]
    },
    {
     "name": "stdout",
     "output_type": "stream",
     "text": [
      "Saved gs://my-bigdata-project-cm/aggregated/part-00001-3e6611a9-0974-4314-835b-d76f366dddf0-c000.snappy.parquet\n",
      "Processing cleaned/yellow_tripdata_2018-09.parquet/part-00002-3e6611a9-0974-4314-835b-d76f366dddf0-c000.snappy.parquet:\n"
     ]
    },
    {
     "name": "stderr",
     "output_type": "stream",
     "text": [
      "                                                                                \r"
     ]
    },
    {
     "name": "stdout",
     "output_type": "stream",
     "text": [
      "Saved gs://my-bigdata-project-cm/aggregated/part-00002-3e6611a9-0974-4314-835b-d76f366dddf0-c000.snappy.parquet\n",
      "Processing cleaned/yellow_tripdata_2018-09.parquet/part-00003-3e6611a9-0974-4314-835b-d76f366dddf0-c000.snappy.parquet:\n"
     ]
    },
    {
     "name": "stderr",
     "output_type": "stream",
     "text": [
      "                                                                                \r"
     ]
    },
    {
     "name": "stdout",
     "output_type": "stream",
     "text": [
      "Saved gs://my-bigdata-project-cm/aggregated/part-00003-3e6611a9-0974-4314-835b-d76f366dddf0-c000.snappy.parquet\n",
      "Processing cleaned/yellow_tripdata_2018-09.parquet/part-00004-3e6611a9-0974-4314-835b-d76f366dddf0-c000.snappy.parquet:\n"
     ]
    },
    {
     "name": "stderr",
     "output_type": "stream",
     "text": [
      "                                                                                \r"
     ]
    },
    {
     "name": "stdout",
     "output_type": "stream",
     "text": [
      "Saved gs://my-bigdata-project-cm/aggregated/part-00004-3e6611a9-0974-4314-835b-d76f366dddf0-c000.snappy.parquet\n",
      "Processing cleaned/yellow_tripdata_2018-09.parquet/part-00005-3e6611a9-0974-4314-835b-d76f366dddf0-c000.snappy.parquet:\n"
     ]
    },
    {
     "name": "stderr",
     "output_type": "stream",
     "text": [
      "                                                                                \r"
     ]
    },
    {
     "name": "stdout",
     "output_type": "stream",
     "text": [
      "Saved gs://my-bigdata-project-cm/aggregated/part-00005-3e6611a9-0974-4314-835b-d76f366dddf0-c000.snappy.parquet\n",
      "Processing cleaned/yellow_tripdata_2018-09.parquet/part-00006-3e6611a9-0974-4314-835b-d76f366dddf0-c000.snappy.parquet:\n"
     ]
    },
    {
     "name": "stderr",
     "output_type": "stream",
     "text": [
      "                                                                                \r"
     ]
    },
    {
     "name": "stdout",
     "output_type": "stream",
     "text": [
      "Saved gs://my-bigdata-project-cm/aggregated/part-00006-3e6611a9-0974-4314-835b-d76f366dddf0-c000.snappy.parquet\n",
      "Processing cleaned/yellow_tripdata_2018-09.parquet/part-00007-3e6611a9-0974-4314-835b-d76f366dddf0-c000.snappy.parquet:\n"
     ]
    },
    {
     "name": "stderr",
     "output_type": "stream",
     "text": [
      "                                                                                \r"
     ]
    },
    {
     "name": "stdout",
     "output_type": "stream",
     "text": [
      "Saved gs://my-bigdata-project-cm/aggregated/part-00007-3e6611a9-0974-4314-835b-d76f366dddf0-c000.snappy.parquet\n",
      "Processing cleaned/yellow_tripdata_2018-09.parquet/part-00008-3e6611a9-0974-4314-835b-d76f366dddf0-c000.snappy.parquet:\n"
     ]
    },
    {
     "name": "stderr",
     "output_type": "stream",
     "text": [
      "                                                                                \r"
     ]
    },
    {
     "name": "stdout",
     "output_type": "stream",
     "text": [
      "Saved gs://my-bigdata-project-cm/aggregated/part-00008-3e6611a9-0974-4314-835b-d76f366dddf0-c000.snappy.parquet\n",
      "Skipping file cleaned/yellow_tripdata_2018-10.parquet/\n",
      "Skipping file cleaned/yellow_tripdata_2018-10.parquet/_SUCCESS\n",
      "Processing cleaned/yellow_tripdata_2018-10.parquet/part-00000-4f112651-8f8e-4df9-9564-e4d2f684853b-c000.snappy.parquet:\n"
     ]
    },
    {
     "name": "stderr",
     "output_type": "stream",
     "text": [
      "                                                                                \r"
     ]
    },
    {
     "name": "stdout",
     "output_type": "stream",
     "text": [
      "Saved gs://my-bigdata-project-cm/aggregated/part-00000-4f112651-8f8e-4df9-9564-e4d2f684853b-c000.snappy.parquet\n",
      "Processing cleaned/yellow_tripdata_2018-10.parquet/part-00001-4f112651-8f8e-4df9-9564-e4d2f684853b-c000.snappy.parquet:\n"
     ]
    },
    {
     "name": "stderr",
     "output_type": "stream",
     "text": [
      "                                                                                \r"
     ]
    },
    {
     "name": "stdout",
     "output_type": "stream",
     "text": [
      "Saved gs://my-bigdata-project-cm/aggregated/part-00001-4f112651-8f8e-4df9-9564-e4d2f684853b-c000.snappy.parquet\n",
      "Processing cleaned/yellow_tripdata_2018-10.parquet/part-00002-4f112651-8f8e-4df9-9564-e4d2f684853b-c000.snappy.parquet:\n"
     ]
    },
    {
     "name": "stderr",
     "output_type": "stream",
     "text": [
      "                                                                                \r"
     ]
    },
    {
     "name": "stdout",
     "output_type": "stream",
     "text": [
      "Saved gs://my-bigdata-project-cm/aggregated/part-00002-4f112651-8f8e-4df9-9564-e4d2f684853b-c000.snappy.parquet\n",
      "Processing cleaned/yellow_tripdata_2018-10.parquet/part-00003-4f112651-8f8e-4df9-9564-e4d2f684853b-c000.snappy.parquet:\n"
     ]
    },
    {
     "name": "stderr",
     "output_type": "stream",
     "text": [
      "                                                                                \r"
     ]
    },
    {
     "name": "stdout",
     "output_type": "stream",
     "text": [
      "Saved gs://my-bigdata-project-cm/aggregated/part-00003-4f112651-8f8e-4df9-9564-e4d2f684853b-c000.snappy.parquet\n",
      "Processing cleaned/yellow_tripdata_2018-10.parquet/part-00004-4f112651-8f8e-4df9-9564-e4d2f684853b-c000.snappy.parquet:\n"
     ]
    },
    {
     "name": "stderr",
     "output_type": "stream",
     "text": [
      "                                                                                \r"
     ]
    },
    {
     "name": "stdout",
     "output_type": "stream",
     "text": [
      "Saved gs://my-bigdata-project-cm/aggregated/part-00004-4f112651-8f8e-4df9-9564-e4d2f684853b-c000.snappy.parquet\n",
      "Processing cleaned/yellow_tripdata_2018-10.parquet/part-00005-4f112651-8f8e-4df9-9564-e4d2f684853b-c000.snappy.parquet:\n"
     ]
    },
    {
     "name": "stderr",
     "output_type": "stream",
     "text": [
      "                                                                                \r"
     ]
    },
    {
     "name": "stdout",
     "output_type": "stream",
     "text": [
      "Saved gs://my-bigdata-project-cm/aggregated/part-00005-4f112651-8f8e-4df9-9564-e4d2f684853b-c000.snappy.parquet\n",
      "Processing cleaned/yellow_tripdata_2018-10.parquet/part-00006-4f112651-8f8e-4df9-9564-e4d2f684853b-c000.snappy.parquet:\n"
     ]
    },
    {
     "name": "stderr",
     "output_type": "stream",
     "text": [
      "                                                                                \r"
     ]
    },
    {
     "name": "stdout",
     "output_type": "stream",
     "text": [
      "Saved gs://my-bigdata-project-cm/aggregated/part-00006-4f112651-8f8e-4df9-9564-e4d2f684853b-c000.snappy.parquet\n",
      "Processing cleaned/yellow_tripdata_2018-10.parquet/part-00007-4f112651-8f8e-4df9-9564-e4d2f684853b-c000.snappy.parquet:\n"
     ]
    },
    {
     "name": "stderr",
     "output_type": "stream",
     "text": [
      "                                                                                \r"
     ]
    },
    {
     "name": "stdout",
     "output_type": "stream",
     "text": [
      "Saved gs://my-bigdata-project-cm/aggregated/part-00007-4f112651-8f8e-4df9-9564-e4d2f684853b-c000.snappy.parquet\n",
      "Processing cleaned/yellow_tripdata_2018-10.parquet/part-00008-4f112651-8f8e-4df9-9564-e4d2f684853b-c000.snappy.parquet:\n"
     ]
    },
    {
     "name": "stderr",
     "output_type": "stream",
     "text": [
      "                                                                                \r"
     ]
    },
    {
     "name": "stdout",
     "output_type": "stream",
     "text": [
      "Saved gs://my-bigdata-project-cm/aggregated/part-00008-4f112651-8f8e-4df9-9564-e4d2f684853b-c000.snappy.parquet\n",
      "Skipping file cleaned/yellow_tripdata_2018-11.parquet/\n",
      "Skipping file cleaned/yellow_tripdata_2018-11.parquet/_SUCCESS\n",
      "Processing cleaned/yellow_tripdata_2018-11.parquet/part-00000-5e9897a6-81a8-44ed-8a08-fbfb66b259ce-c000.snappy.parquet:\n"
     ]
    },
    {
     "name": "stderr",
     "output_type": "stream",
     "text": [
      "                                                                                \r"
     ]
    },
    {
     "name": "stdout",
     "output_type": "stream",
     "text": [
      "Saved gs://my-bigdata-project-cm/aggregated/part-00000-5e9897a6-81a8-44ed-8a08-fbfb66b259ce-c000.snappy.parquet\n",
      "Processing cleaned/yellow_tripdata_2018-11.parquet/part-00001-5e9897a6-81a8-44ed-8a08-fbfb66b259ce-c000.snappy.parquet:\n",
      "Saved gs://my-bigdata-project-cm/aggregated/part-00001-5e9897a6-81a8-44ed-8a08-fbfb66b259ce-c000.snappy.parquet\n",
      "Processing cleaned/yellow_tripdata_2018-11.parquet/part-00002-5e9897a6-81a8-44ed-8a08-fbfb66b259ce-c000.snappy.parquet:\n"
     ]
    },
    {
     "name": "stderr",
     "output_type": "stream",
     "text": [
      "                                                                                \r"
     ]
    },
    {
     "name": "stdout",
     "output_type": "stream",
     "text": [
      "Saved gs://my-bigdata-project-cm/aggregated/part-00002-5e9897a6-81a8-44ed-8a08-fbfb66b259ce-c000.snappy.parquet\n",
      "Processing cleaned/yellow_tripdata_2018-11.parquet/part-00003-5e9897a6-81a8-44ed-8a08-fbfb66b259ce-c000.snappy.parquet:\n"
     ]
    },
    {
     "name": "stderr",
     "output_type": "stream",
     "text": [
      "                                                                                \r"
     ]
    },
    {
     "name": "stdout",
     "output_type": "stream",
     "text": [
      "Saved gs://my-bigdata-project-cm/aggregated/part-00003-5e9897a6-81a8-44ed-8a08-fbfb66b259ce-c000.snappy.parquet\n",
      "Processing cleaned/yellow_tripdata_2018-11.parquet/part-00004-5e9897a6-81a8-44ed-8a08-fbfb66b259ce-c000.snappy.parquet:\n"
     ]
    },
    {
     "name": "stderr",
     "output_type": "stream",
     "text": [
      "                                                                                \r"
     ]
    },
    {
     "name": "stdout",
     "output_type": "stream",
     "text": [
      "Saved gs://my-bigdata-project-cm/aggregated/part-00004-5e9897a6-81a8-44ed-8a08-fbfb66b259ce-c000.snappy.parquet\n",
      "Processing cleaned/yellow_tripdata_2018-11.parquet/part-00005-5e9897a6-81a8-44ed-8a08-fbfb66b259ce-c000.snappy.parquet:\n"
     ]
    },
    {
     "name": "stderr",
     "output_type": "stream",
     "text": [
      "                                                                                \r"
     ]
    },
    {
     "name": "stdout",
     "output_type": "stream",
     "text": [
      "Saved gs://my-bigdata-project-cm/aggregated/part-00005-5e9897a6-81a8-44ed-8a08-fbfb66b259ce-c000.snappy.parquet\n",
      "Processing cleaned/yellow_tripdata_2018-11.parquet/part-00006-5e9897a6-81a8-44ed-8a08-fbfb66b259ce-c000.snappy.parquet:\n"
     ]
    },
    {
     "name": "stderr",
     "output_type": "stream",
     "text": [
      "                                                                                \r"
     ]
    },
    {
     "name": "stdout",
     "output_type": "stream",
     "text": [
      "Saved gs://my-bigdata-project-cm/aggregated/part-00006-5e9897a6-81a8-44ed-8a08-fbfb66b259ce-c000.snappy.parquet\n",
      "Processing cleaned/yellow_tripdata_2018-11.parquet/part-00007-5e9897a6-81a8-44ed-8a08-fbfb66b259ce-c000.snappy.parquet:\n"
     ]
    },
    {
     "name": "stderr",
     "output_type": "stream",
     "text": [
      "                                                                                \r"
     ]
    },
    {
     "name": "stdout",
     "output_type": "stream",
     "text": [
      "Saved gs://my-bigdata-project-cm/aggregated/part-00007-5e9897a6-81a8-44ed-8a08-fbfb66b259ce-c000.snappy.parquet\n",
      "Processing cleaned/yellow_tripdata_2018-11.parquet/part-00008-5e9897a6-81a8-44ed-8a08-fbfb66b259ce-c000.snappy.parquet:\n"
     ]
    },
    {
     "name": "stderr",
     "output_type": "stream",
     "text": [
      "                                                                                \r"
     ]
    },
    {
     "name": "stdout",
     "output_type": "stream",
     "text": [
      "Saved gs://my-bigdata-project-cm/aggregated/part-00008-5e9897a6-81a8-44ed-8a08-fbfb66b259ce-c000.snappy.parquet\n",
      "Skipping file cleaned/yellow_tripdata_2018-12.parquet/\n",
      "Skipping file cleaned/yellow_tripdata_2018-12.parquet/_SUCCESS\n",
      "Processing cleaned/yellow_tripdata_2018-12.parquet/part-00000-e167c283-e0db-4422-8af2-9249c641d0fe-c000.snappy.parquet:\n"
     ]
    },
    {
     "name": "stderr",
     "output_type": "stream",
     "text": [
      "                                                                                \r"
     ]
    },
    {
     "name": "stdout",
     "output_type": "stream",
     "text": [
      "Saved gs://my-bigdata-project-cm/aggregated/part-00000-e167c283-e0db-4422-8af2-9249c641d0fe-c000.snappy.parquet\n",
      "Processing cleaned/yellow_tripdata_2018-12.parquet/part-00001-e167c283-e0db-4422-8af2-9249c641d0fe-c000.snappy.parquet:\n"
     ]
    },
    {
     "name": "stderr",
     "output_type": "stream",
     "text": [
      "                                                                                \r"
     ]
    },
    {
     "name": "stdout",
     "output_type": "stream",
     "text": [
      "Saved gs://my-bigdata-project-cm/aggregated/part-00001-e167c283-e0db-4422-8af2-9249c641d0fe-c000.snappy.parquet\n",
      "Processing cleaned/yellow_tripdata_2018-12.parquet/part-00002-e167c283-e0db-4422-8af2-9249c641d0fe-c000.snappy.parquet:\n"
     ]
    },
    {
     "name": "stderr",
     "output_type": "stream",
     "text": [
      "                                                                                \r"
     ]
    },
    {
     "name": "stdout",
     "output_type": "stream",
     "text": [
      "Saved gs://my-bigdata-project-cm/aggregated/part-00002-e167c283-e0db-4422-8af2-9249c641d0fe-c000.snappy.parquet\n",
      "Processing cleaned/yellow_tripdata_2018-12.parquet/part-00003-e167c283-e0db-4422-8af2-9249c641d0fe-c000.snappy.parquet:\n"
     ]
    },
    {
     "name": "stderr",
     "output_type": "stream",
     "text": [
      "                                                                                \r"
     ]
    },
    {
     "name": "stdout",
     "output_type": "stream",
     "text": [
      "Saved gs://my-bigdata-project-cm/aggregated/part-00003-e167c283-e0db-4422-8af2-9249c641d0fe-c000.snappy.parquet\n",
      "Processing cleaned/yellow_tripdata_2018-12.parquet/part-00004-e167c283-e0db-4422-8af2-9249c641d0fe-c000.snappy.parquet:\n"
     ]
    },
    {
     "name": "stderr",
     "output_type": "stream",
     "text": [
      "                                                                                \r"
     ]
    },
    {
     "name": "stdout",
     "output_type": "stream",
     "text": [
      "Saved gs://my-bigdata-project-cm/aggregated/part-00004-e167c283-e0db-4422-8af2-9249c641d0fe-c000.snappy.parquet\n",
      "Processing cleaned/yellow_tripdata_2018-12.parquet/part-00005-e167c283-e0db-4422-8af2-9249c641d0fe-c000.snappy.parquet:\n"
     ]
    },
    {
     "name": "stderr",
     "output_type": "stream",
     "text": [
      "                                                                                \r"
     ]
    },
    {
     "name": "stdout",
     "output_type": "stream",
     "text": [
      "Saved gs://my-bigdata-project-cm/aggregated/part-00005-e167c283-e0db-4422-8af2-9249c641d0fe-c000.snappy.parquet\n",
      "Processing cleaned/yellow_tripdata_2018-12.parquet/part-00006-e167c283-e0db-4422-8af2-9249c641d0fe-c000.snappy.parquet:\n"
     ]
    },
    {
     "name": "stderr",
     "output_type": "stream",
     "text": [
      "                                                                                \r"
     ]
    },
    {
     "name": "stdout",
     "output_type": "stream",
     "text": [
      "Saved gs://my-bigdata-project-cm/aggregated/part-00006-e167c283-e0db-4422-8af2-9249c641d0fe-c000.snappy.parquet\n",
      "Skipping file cleaned/yellow_tripdata_2019-01.parquet/\n",
      "Skipping file cleaned/yellow_tripdata_2019-01.parquet/_SUCCESS\n",
      "Processing cleaned/yellow_tripdata_2019-01.parquet/part-00000-4f17aaa1-31af-4934-a271-c9b507c8db47-c000.snappy.parquet:\n"
     ]
    },
    {
     "name": "stderr",
     "output_type": "stream",
     "text": [
      "                                                                                \r"
     ]
    },
    {
     "name": "stdout",
     "output_type": "stream",
     "text": [
      "Saved gs://my-bigdata-project-cm/aggregated/part-00000-4f17aaa1-31af-4934-a271-c9b507c8db47-c000.snappy.parquet\n",
      "Processing cleaned/yellow_tripdata_2019-01.parquet/part-00001-4f17aaa1-31af-4934-a271-c9b507c8db47-c000.snappy.parquet:\n"
     ]
    },
    {
     "name": "stderr",
     "output_type": "stream",
     "text": [
      "                                                                                \r"
     ]
    },
    {
     "name": "stdout",
     "output_type": "stream",
     "text": [
      "Saved gs://my-bigdata-project-cm/aggregated/part-00001-4f17aaa1-31af-4934-a271-c9b507c8db47-c000.snappy.parquet\n",
      "Processing cleaned/yellow_tripdata_2019-01.parquet/part-00002-4f17aaa1-31af-4934-a271-c9b507c8db47-c000.snappy.parquet:\n"
     ]
    },
    {
     "name": "stderr",
     "output_type": "stream",
     "text": [
      "                                                                                \r"
     ]
    },
    {
     "name": "stdout",
     "output_type": "stream",
     "text": [
      "Saved gs://my-bigdata-project-cm/aggregated/part-00002-4f17aaa1-31af-4934-a271-c9b507c8db47-c000.snappy.parquet\n",
      "Processing cleaned/yellow_tripdata_2019-01.parquet/part-00003-4f17aaa1-31af-4934-a271-c9b507c8db47-c000.snappy.parquet:\n"
     ]
    },
    {
     "name": "stderr",
     "output_type": "stream",
     "text": [
      "                                                                                \r"
     ]
    },
    {
     "name": "stdout",
     "output_type": "stream",
     "text": [
      "Saved gs://my-bigdata-project-cm/aggregated/part-00003-4f17aaa1-31af-4934-a271-c9b507c8db47-c000.snappy.parquet\n",
      "Processing cleaned/yellow_tripdata_2019-01.parquet/part-00004-4f17aaa1-31af-4934-a271-c9b507c8db47-c000.snappy.parquet:\n"
     ]
    },
    {
     "name": "stderr",
     "output_type": "stream",
     "text": [
      "                                                                                \r"
     ]
    },
    {
     "name": "stdout",
     "output_type": "stream",
     "text": [
      "Saved gs://my-bigdata-project-cm/aggregated/part-00004-4f17aaa1-31af-4934-a271-c9b507c8db47-c000.snappy.parquet\n",
      "Processing cleaned/yellow_tripdata_2019-01.parquet/part-00005-4f17aaa1-31af-4934-a271-c9b507c8db47-c000.snappy.parquet:\n"
     ]
    },
    {
     "name": "stderr",
     "output_type": "stream",
     "text": [
      "                                                                                \r"
     ]
    },
    {
     "name": "stdout",
     "output_type": "stream",
     "text": [
      "Saved gs://my-bigdata-project-cm/aggregated/part-00005-4f17aaa1-31af-4934-a271-c9b507c8db47-c000.snappy.parquet\n",
      "Processing cleaned/yellow_tripdata_2019-01.parquet/part-00006-4f17aaa1-31af-4934-a271-c9b507c8db47-c000.snappy.parquet:\n"
     ]
    },
    {
     "name": "stderr",
     "output_type": "stream",
     "text": [
      "                                                                                \r"
     ]
    },
    {
     "name": "stdout",
     "output_type": "stream",
     "text": [
      "Saved gs://my-bigdata-project-cm/aggregated/part-00006-4f17aaa1-31af-4934-a271-c9b507c8db47-c000.snappy.parquet\n",
      "Processing cleaned/yellow_tripdata_2019-01.parquet/part-00007-4f17aaa1-31af-4934-a271-c9b507c8db47-c000.snappy.parquet:\n"
     ]
    },
    {
     "name": "stderr",
     "output_type": "stream",
     "text": [
      "                                                                                \r"
     ]
    },
    {
     "name": "stdout",
     "output_type": "stream",
     "text": [
      "Saved gs://my-bigdata-project-cm/aggregated/part-00007-4f17aaa1-31af-4934-a271-c9b507c8db47-c000.snappy.parquet\n",
      "Processing cleaned/yellow_tripdata_2019-01.parquet/part-00008-4f17aaa1-31af-4934-a271-c9b507c8db47-c000.snappy.parquet:\n"
     ]
    },
    {
     "name": "stderr",
     "output_type": "stream",
     "text": [
      "                                                                                \r"
     ]
    },
    {
     "name": "stdout",
     "output_type": "stream",
     "text": [
      "Saved gs://my-bigdata-project-cm/aggregated/part-00008-4f17aaa1-31af-4934-a271-c9b507c8db47-c000.snappy.parquet\n",
      "Processing cleaned/yellow_tripdata_2019-01.parquet/part-00009-4f17aaa1-31af-4934-a271-c9b507c8db47-c000.snappy.parquet:\n"
     ]
    },
    {
     "name": "stderr",
     "output_type": "stream",
     "text": [
      "                                                                                \r"
     ]
    },
    {
     "name": "stdout",
     "output_type": "stream",
     "text": [
      "Saved gs://my-bigdata-project-cm/aggregated/part-00009-4f17aaa1-31af-4934-a271-c9b507c8db47-c000.snappy.parquet\n",
      "Processing cleaned/yellow_tripdata_2019-01.parquet/part-00010-4f17aaa1-31af-4934-a271-c9b507c8db47-c000.snappy.parquet:\n"
     ]
    },
    {
     "name": "stderr",
     "output_type": "stream",
     "text": [
      "                                                                                \r"
     ]
    },
    {
     "name": "stdout",
     "output_type": "stream",
     "text": [
      "Saved gs://my-bigdata-project-cm/aggregated/part-00010-4f17aaa1-31af-4934-a271-c9b507c8db47-c000.snappy.parquet\n",
      "Processing cleaned/yellow_tripdata_2019-01.parquet/part-00011-4f17aaa1-31af-4934-a271-c9b507c8db47-c000.snappy.parquet:\n"
     ]
    },
    {
     "name": "stderr",
     "output_type": "stream",
     "text": [
      "                                                                                \r"
     ]
    },
    {
     "name": "stdout",
     "output_type": "stream",
     "text": [
      "Saved gs://my-bigdata-project-cm/aggregated/part-00011-4f17aaa1-31af-4934-a271-c9b507c8db47-c000.snappy.parquet\n",
      "Processing cleaned/yellow_tripdata_2019-01.parquet/part-00012-4f17aaa1-31af-4934-a271-c9b507c8db47-c000.snappy.parquet:\n"
     ]
    },
    {
     "name": "stderr",
     "output_type": "stream",
     "text": [
      "                                                                                \r"
     ]
    },
    {
     "name": "stdout",
     "output_type": "stream",
     "text": [
      "Saved gs://my-bigdata-project-cm/aggregated/part-00012-4f17aaa1-31af-4934-a271-c9b507c8db47-c000.snappy.parquet\n",
      "Skipping file cleaned/yellow_tripdata_2019-02.parquet/\n",
      "Skipping file cleaned/yellow_tripdata_2019-02.parquet/_SUCCESS\n",
      "Processing cleaned/yellow_tripdata_2019-02.parquet/part-00000-a45faab7-cef7-4a09-8b56-5bffea0e7aca-c000.snappy.parquet:\n"
     ]
    },
    {
     "name": "stderr",
     "output_type": "stream",
     "text": [
      "                                                                                \r"
     ]
    },
    {
     "name": "stdout",
     "output_type": "stream",
     "text": [
      "Saved gs://my-bigdata-project-cm/aggregated/part-00001-bced542e-aaba-4013-8138-138feef63c95-c000.snappy.parquet\n",
      "Processing cleaned/yellow_tripdata_2019-04.parquet/part-00002-bced542e-aaba-4013-8138-138feef63c95-c000.snappy.parquet:\n"
     ]
    },
    {
     "name": "stderr",
     "output_type": "stream",
     "text": [
      "                                                                                \r"
     ]
    },
    {
     "name": "stdout",
     "output_type": "stream",
     "text": [
      "Saved gs://my-bigdata-project-cm/aggregated/part-00002-bced542e-aaba-4013-8138-138feef63c95-c000.snappy.parquet\n",
      "Processing cleaned/yellow_tripdata_2019-04.parquet/part-00003-bced542e-aaba-4013-8138-138feef63c95-c000.snappy.parquet:\n"
     ]
    },
    {
     "name": "stderr",
     "output_type": "stream",
     "text": [
      "                                                                                \r"
     ]
    },
    {
     "name": "stdout",
     "output_type": "stream",
     "text": [
      "Saved gs://my-bigdata-project-cm/aggregated/part-00003-bced542e-aaba-4013-8138-138feef63c95-c000.snappy.parquet\n",
      "Processing cleaned/yellow_tripdata_2019-04.parquet/part-00004-bced542e-aaba-4013-8138-138feef63c95-c000.snappy.parquet:\n"
     ]
    },
    {
     "name": "stderr",
     "output_type": "stream",
     "text": [
      "                                                                                \r"
     ]
    },
    {
     "name": "stdout",
     "output_type": "stream",
     "text": [
      "Saved gs://my-bigdata-project-cm/aggregated/part-00004-bced542e-aaba-4013-8138-138feef63c95-c000.snappy.parquet\n",
      "Processing cleaned/yellow_tripdata_2019-04.parquet/part-00005-bced542e-aaba-4013-8138-138feef63c95-c000.snappy.parquet:\n"
     ]
    },
    {
     "name": "stderr",
     "output_type": "stream",
     "text": [
      "                                                                                \r"
     ]
    },
    {
     "name": "stdout",
     "output_type": "stream",
     "text": [
      "Saved gs://my-bigdata-project-cm/aggregated/part-00005-bced542e-aaba-4013-8138-138feef63c95-c000.snappy.parquet\n",
      "Processing cleaned/yellow_tripdata_2019-04.parquet/part-00006-bced542e-aaba-4013-8138-138feef63c95-c000.snappy.parquet:\n"
     ]
    },
    {
     "name": "stderr",
     "output_type": "stream",
     "text": [
      "                                                                                \r"
     ]
    },
    {
     "name": "stdout",
     "output_type": "stream",
     "text": [
      "Saved gs://my-bigdata-project-cm/aggregated/part-00006-bced542e-aaba-4013-8138-138feef63c95-c000.snappy.parquet\n",
      "Processing cleaned/yellow_tripdata_2019-04.parquet/part-00007-bced542e-aaba-4013-8138-138feef63c95-c000.snappy.parquet:\n"
     ]
    },
    {
     "name": "stderr",
     "output_type": "stream",
     "text": [
      "                                                                                \r"
     ]
    },
    {
     "name": "stdout",
     "output_type": "stream",
     "text": [
      "Saved gs://my-bigdata-project-cm/aggregated/part-00007-bced542e-aaba-4013-8138-138feef63c95-c000.snappy.parquet\n",
      "Processing cleaned/yellow_tripdata_2019-04.parquet/part-00008-bced542e-aaba-4013-8138-138feef63c95-c000.snappy.parquet:\n"
     ]
    },
    {
     "name": "stderr",
     "output_type": "stream",
     "text": [
      "                                                                                \r"
     ]
    },
    {
     "name": "stdout",
     "output_type": "stream",
     "text": [
      "Saved gs://my-bigdata-project-cm/aggregated/part-00008-bced542e-aaba-4013-8138-138feef63c95-c000.snappy.parquet\n",
      "Processing cleaned/yellow_tripdata_2019-04.parquet/part-00009-bced542e-aaba-4013-8138-138feef63c95-c000.snappy.parquet:\n"
     ]
    },
    {
     "name": "stderr",
     "output_type": "stream",
     "text": [
      "                                                                                \r"
     ]
    },
    {
     "name": "stdout",
     "output_type": "stream",
     "text": [
      "Saved gs://my-bigdata-project-cm/aggregated/part-00009-bced542e-aaba-4013-8138-138feef63c95-c000.snappy.parquet\n",
      "Skipping file cleaned/yellow_tripdata_2019-05.parquet/\n",
      "Skipping file cleaned/yellow_tripdata_2019-05.parquet/_SUCCESS\n",
      "Processing cleaned/yellow_tripdata_2019-05.parquet/part-00000-2fb75c15-356c-4272-9d7d-4fbb6bc81e5a-c000.snappy.parquet:\n"
     ]
    },
    {
     "name": "stderr",
     "output_type": "stream",
     "text": [
      "                                                                                \r"
     ]
    },
    {
     "name": "stdout",
     "output_type": "stream",
     "text": [
      "Saved gs://my-bigdata-project-cm/aggregated/part-00000-2fb75c15-356c-4272-9d7d-4fbb6bc81e5a-c000.snappy.parquet\n",
      "Processing cleaned/yellow_tripdata_2019-05.parquet/part-00001-2fb75c15-356c-4272-9d7d-4fbb6bc81e5a-c000.snappy.parquet:\n"
     ]
    },
    {
     "name": "stderr",
     "output_type": "stream",
     "text": [
      "                                                                                \r"
     ]
    },
    {
     "name": "stdout",
     "output_type": "stream",
     "text": [
      "Saved gs://my-bigdata-project-cm/aggregated/part-00001-2fb75c15-356c-4272-9d7d-4fbb6bc81e5a-c000.snappy.parquet\n",
      "Processing cleaned/yellow_tripdata_2019-05.parquet/part-00002-2fb75c15-356c-4272-9d7d-4fbb6bc81e5a-c000.snappy.parquet:\n",
      "Saved gs://my-bigdata-project-cm/aggregated/part-00002-2fb75c15-356c-4272-9d7d-4fbb6bc81e5a-c000.snappy.parquet\n",
      "Processing cleaned/yellow_tripdata_2019-05.parquet/part-00003-2fb75c15-356c-4272-9d7d-4fbb6bc81e5a-c000.snappy.parquet:\n"
     ]
    },
    {
     "name": "stderr",
     "output_type": "stream",
     "text": [
      "                                                                                \r"
     ]
    },
    {
     "name": "stdout",
     "output_type": "stream",
     "text": [
      "Saved gs://my-bigdata-project-cm/aggregated/part-00003-2fb75c15-356c-4272-9d7d-4fbb6bc81e5a-c000.snappy.parquet\n",
      "Processing cleaned/yellow_tripdata_2019-05.parquet/part-00004-2fb75c15-356c-4272-9d7d-4fbb6bc81e5a-c000.snappy.parquet:\n"
     ]
    },
    {
     "name": "stderr",
     "output_type": "stream",
     "text": [
      "                                                                                \r"
     ]
    },
    {
     "name": "stdout",
     "output_type": "stream",
     "text": [
      "Saved gs://my-bigdata-project-cm/aggregated/part-00004-2fb75c15-356c-4272-9d7d-4fbb6bc81e5a-c000.snappy.parquet\n",
      "Processing cleaned/yellow_tripdata_2019-05.parquet/part-00005-2fb75c15-356c-4272-9d7d-4fbb6bc81e5a-c000.snappy.parquet:\n"
     ]
    },
    {
     "name": "stderr",
     "output_type": "stream",
     "text": [
      "                                                                                \r"
     ]
    },
    {
     "name": "stdout",
     "output_type": "stream",
     "text": [
      "Saved gs://my-bigdata-project-cm/aggregated/part-00005-2fb75c15-356c-4272-9d7d-4fbb6bc81e5a-c000.snappy.parquet\n",
      "Processing cleaned/yellow_tripdata_2019-05.parquet/part-00006-2fb75c15-356c-4272-9d7d-4fbb6bc81e5a-c000.snappy.parquet:\n"
     ]
    },
    {
     "name": "stderr",
     "output_type": "stream",
     "text": [
      "                                                                                \r"
     ]
    },
    {
     "name": "stdout",
     "output_type": "stream",
     "text": [
      "Saved gs://my-bigdata-project-cm/aggregated/part-00006-2fb75c15-356c-4272-9d7d-4fbb6bc81e5a-c000.snappy.parquet\n",
      "Processing cleaned/yellow_tripdata_2019-05.parquet/part-00007-2fb75c15-356c-4272-9d7d-4fbb6bc81e5a-c000.snappy.parquet:\n"
     ]
    },
    {
     "name": "stderr",
     "output_type": "stream",
     "text": [
      "                                                                                \r"
     ]
    },
    {
     "name": "stdout",
     "output_type": "stream",
     "text": [
      "Saved gs://my-bigdata-project-cm/aggregated/part-00007-2fb75c15-356c-4272-9d7d-4fbb6bc81e5a-c000.snappy.parquet\n",
      "Processing cleaned/yellow_tripdata_2019-05.parquet/part-00008-2fb75c15-356c-4272-9d7d-4fbb6bc81e5a-c000.snappy.parquet:\n"
     ]
    },
    {
     "name": "stderr",
     "output_type": "stream",
     "text": [
      "                                                                                \r"
     ]
    },
    {
     "name": "stdout",
     "output_type": "stream",
     "text": [
      "Saved gs://my-bigdata-project-cm/aggregated/part-00008-2fb75c15-356c-4272-9d7d-4fbb6bc81e5a-c000.snappy.parquet\n",
      "Processing cleaned/yellow_tripdata_2019-05.parquet/part-00009-2fb75c15-356c-4272-9d7d-4fbb6bc81e5a-c000.snappy.parquet:\n"
     ]
    },
    {
     "name": "stderr",
     "output_type": "stream",
     "text": [
      "                                                                                \r"
     ]
    },
    {
     "name": "stdout",
     "output_type": "stream",
     "text": [
      "Saved gs://my-bigdata-project-cm/aggregated/part-00009-2fb75c15-356c-4272-9d7d-4fbb6bc81e5a-c000.snappy.parquet\n",
      "Processing cleaned/yellow_tripdata_2019-05.parquet/part-00010-2fb75c15-356c-4272-9d7d-4fbb6bc81e5a-c000.snappy.parquet:\n"
     ]
    },
    {
     "name": "stderr",
     "output_type": "stream",
     "text": [
      "                                                                                \r"
     ]
    },
    {
     "name": "stdout",
     "output_type": "stream",
     "text": [
      "Saved gs://my-bigdata-project-cm/aggregated/part-00010-2fb75c15-356c-4272-9d7d-4fbb6bc81e5a-c000.snappy.parquet\n",
      "Processing cleaned/yellow_tripdata_2019-05.parquet/part-00011-2fb75c15-356c-4272-9d7d-4fbb6bc81e5a-c000.snappy.parquet:\n"
     ]
    },
    {
     "name": "stderr",
     "output_type": "stream",
     "text": [
      "                                                                                \r"
     ]
    },
    {
     "name": "stdout",
     "output_type": "stream",
     "text": [
      "Saved gs://my-bigdata-project-cm/aggregated/part-00011-2fb75c15-356c-4272-9d7d-4fbb6bc81e5a-c000.snappy.parquet\n",
      "Processing cleaned/yellow_tripdata_2019-05.parquet/part-00012-2fb75c15-356c-4272-9d7d-4fbb6bc81e5a-c000.snappy.parquet:\n"
     ]
    },
    {
     "name": "stderr",
     "output_type": "stream",
     "text": [
      "                                                                                \r"
     ]
    },
    {
     "name": "stdout",
     "output_type": "stream",
     "text": [
      "Saved gs://my-bigdata-project-cm/aggregated/part-00012-2fb75c15-356c-4272-9d7d-4fbb6bc81e5a-c000.snappy.parquet\n",
      "Skipping file cleaned/yellow_tripdata_2019-06.parquet/\n",
      "Skipping file cleaned/yellow_tripdata_2019-06.parquet/_SUCCESS\n",
      "Processing cleaned/yellow_tripdata_2019-06.parquet/part-00000-ae111e6f-3227-4a40-82eb-197015bf765d-c000.snappy.parquet:\n"
     ]
    },
    {
     "name": "stderr",
     "output_type": "stream",
     "text": [
      "                                                                                \r"
     ]
    },
    {
     "name": "stdout",
     "output_type": "stream",
     "text": [
      "Saved gs://my-bigdata-project-cm/aggregated/part-00000-ae111e6f-3227-4a40-82eb-197015bf765d-c000.snappy.parquet\n",
      "Processing cleaned/yellow_tripdata_2019-06.parquet/part-00001-ae111e6f-3227-4a40-82eb-197015bf765d-c000.snappy.parquet:\n"
     ]
    },
    {
     "name": "stderr",
     "output_type": "stream",
     "text": [
      "                                                                                \r"
     ]
    },
    {
     "name": "stdout",
     "output_type": "stream",
     "text": [
      "Saved gs://my-bigdata-project-cm/aggregated/part-00001-ae111e6f-3227-4a40-82eb-197015bf765d-c000.snappy.parquet\n",
      "Processing cleaned/yellow_tripdata_2019-06.parquet/part-00002-ae111e6f-3227-4a40-82eb-197015bf765d-c000.snappy.parquet:\n"
     ]
    },
    {
     "name": "stderr",
     "output_type": "stream",
     "text": [
      "                                                                                \r"
     ]
    },
    {
     "name": "stdout",
     "output_type": "stream",
     "text": [
      "Saved gs://my-bigdata-project-cm/aggregated/part-00002-ae111e6f-3227-4a40-82eb-197015bf765d-c000.snappy.parquet\n",
      "Processing cleaned/yellow_tripdata_2019-06.parquet/part-00003-ae111e6f-3227-4a40-82eb-197015bf765d-c000.snappy.parquet:\n"
     ]
    },
    {
     "name": "stderr",
     "output_type": "stream",
     "text": [
      "                                                                                \r"
     ]
    },
    {
     "name": "stdout",
     "output_type": "stream",
     "text": [
      "Saved gs://my-bigdata-project-cm/aggregated/part-00003-ae111e6f-3227-4a40-82eb-197015bf765d-c000.snappy.parquet\n",
      "Processing cleaned/yellow_tripdata_2019-06.parquet/part-00004-ae111e6f-3227-4a40-82eb-197015bf765d-c000.snappy.parquet:\n"
     ]
    },
    {
     "name": "stderr",
     "output_type": "stream",
     "text": [
      "                                                                                \r"
     ]
    },
    {
     "name": "stdout",
     "output_type": "stream",
     "text": [
      "Saved gs://my-bigdata-project-cm/aggregated/part-00004-ae111e6f-3227-4a40-82eb-197015bf765d-c000.snappy.parquet\n",
      "Processing cleaned/yellow_tripdata_2019-06.parquet/part-00005-ae111e6f-3227-4a40-82eb-197015bf765d-c000.snappy.parquet:\n"
     ]
    },
    {
     "name": "stderr",
     "output_type": "stream",
     "text": [
      "                                                                                \r"
     ]
    },
    {
     "name": "stdout",
     "output_type": "stream",
     "text": [
      "Saved gs://my-bigdata-project-cm/aggregated/part-00005-ae111e6f-3227-4a40-82eb-197015bf765d-c000.snappy.parquet\n",
      "Processing cleaned/yellow_tripdata_2019-06.parquet/part-00006-ae111e6f-3227-4a40-82eb-197015bf765d-c000.snappy.parquet:\n"
     ]
    },
    {
     "name": "stderr",
     "output_type": "stream",
     "text": [
      "                                                                                \r"
     ]
    },
    {
     "name": "stdout",
     "output_type": "stream",
     "text": [
      "Saved gs://my-bigdata-project-cm/aggregated/part-00006-ae111e6f-3227-4a40-82eb-197015bf765d-c000.snappy.parquet\n",
      "Processing cleaned/yellow_tripdata_2019-06.parquet/part-00007-ae111e6f-3227-4a40-82eb-197015bf765d-c000.snappy.parquet:\n"
     ]
    },
    {
     "name": "stderr",
     "output_type": "stream",
     "text": [
      "                                                                                \r"
     ]
    },
    {
     "name": "stdout",
     "output_type": "stream",
     "text": [
      "Saved gs://my-bigdata-project-cm/aggregated/part-00007-ae111e6f-3227-4a40-82eb-197015bf765d-c000.snappy.parquet\n",
      "Processing cleaned/yellow_tripdata_2019-06.parquet/part-00008-ae111e6f-3227-4a40-82eb-197015bf765d-c000.snappy.parquet:\n"
     ]
    },
    {
     "name": "stderr",
     "output_type": "stream",
     "text": [
      "                                                                                \r"
     ]
    },
    {
     "name": "stdout",
     "output_type": "stream",
     "text": [
      "Saved gs://my-bigdata-project-cm/aggregated/part-00008-ae111e6f-3227-4a40-82eb-197015bf765d-c000.snappy.parquet\n",
      "Processing cleaned/yellow_tripdata_2019-06.parquet/part-00009-ae111e6f-3227-4a40-82eb-197015bf765d-c000.snappy.parquet:\n"
     ]
    },
    {
     "name": "stderr",
     "output_type": "stream",
     "text": [
      "                                                                                \r"
     ]
    },
    {
     "name": "stdout",
     "output_type": "stream",
     "text": [
      "Saved gs://my-bigdata-project-cm/aggregated/part-00009-ae111e6f-3227-4a40-82eb-197015bf765d-c000.snappy.parquet\n",
      "Processing cleaned/yellow_tripdata_2019-06.parquet/part-00010-ae111e6f-3227-4a40-82eb-197015bf765d-c000.snappy.parquet:\n"
     ]
    },
    {
     "name": "stderr",
     "output_type": "stream",
     "text": [
      "                                                                                \r"
     ]
    },
    {
     "name": "stdout",
     "output_type": "stream",
     "text": [
      "Saved gs://my-bigdata-project-cm/aggregated/part-00010-ae111e6f-3227-4a40-82eb-197015bf765d-c000.snappy.parquet\n",
      "Processing cleaned/yellow_tripdata_2019-06.parquet/part-00011-ae111e6f-3227-4a40-82eb-197015bf765d-c000.snappy.parquet:\n"
     ]
    },
    {
     "name": "stderr",
     "output_type": "stream",
     "text": [
      "                                                                                \r"
     ]
    },
    {
     "name": "stdout",
     "output_type": "stream",
     "text": [
      "Saved gs://my-bigdata-project-cm/aggregated/part-00011-ae111e6f-3227-4a40-82eb-197015bf765d-c000.snappy.parquet\n",
      "Processing cleaned/yellow_tripdata_2019-06.parquet/part-00012-ae111e6f-3227-4a40-82eb-197015bf765d-c000.snappy.parquet:\n"
     ]
    },
    {
     "name": "stderr",
     "output_type": "stream",
     "text": [
      "                                                                                \r"
     ]
    },
    {
     "name": "stdout",
     "output_type": "stream",
     "text": [
      "Saved gs://my-bigdata-project-cm/aggregated/part-00012-ae111e6f-3227-4a40-82eb-197015bf765d-c000.snappy.parquet\n",
      "Skipping file cleaned/yellow_tripdata_2019-07.parquet/\n",
      "Skipping file cleaned/yellow_tripdata_2019-07.parquet/_SUCCESS\n",
      "Processing cleaned/yellow_tripdata_2019-07.parquet/part-00000-757d0be0-aa4f-412a-8639-81950a515aa3-c000.snappy.parquet:\n"
     ]
    },
    {
     "name": "stderr",
     "output_type": "stream",
     "text": [
      "                                                                                \r"
     ]
    },
    {
     "name": "stdout",
     "output_type": "stream",
     "text": [
      "Saved gs://my-bigdata-project-cm/aggregated/part-00000-757d0be0-aa4f-412a-8639-81950a515aa3-c000.snappy.parquet\n",
      "Processing cleaned/yellow_tripdata_2019-07.parquet/part-00001-757d0be0-aa4f-412a-8639-81950a515aa3-c000.snappy.parquet:\n"
     ]
    },
    {
     "name": "stderr",
     "output_type": "stream",
     "text": [
      "                                                                                \r"
     ]
    },
    {
     "name": "stdout",
     "output_type": "stream",
     "text": [
      "Saved gs://my-bigdata-project-cm/aggregated/part-00001-757d0be0-aa4f-412a-8639-81950a515aa3-c000.snappy.parquet\n",
      "Processing cleaned/yellow_tripdata_2019-07.parquet/part-00002-757d0be0-aa4f-412a-8639-81950a515aa3-c000.snappy.parquet:\n"
     ]
    },
    {
     "name": "stderr",
     "output_type": "stream",
     "text": [
      "                                                                                \r"
     ]
    },
    {
     "name": "stdout",
     "output_type": "stream",
     "text": [
      "Saved gs://my-bigdata-project-cm/aggregated/part-00002-757d0be0-aa4f-412a-8639-81950a515aa3-c000.snappy.parquet\n",
      "Processing cleaned/yellow_tripdata_2019-07.parquet/part-00003-757d0be0-aa4f-412a-8639-81950a515aa3-c000.snappy.parquet:\n"
     ]
    },
    {
     "name": "stderr",
     "output_type": "stream",
     "text": [
      "                                                                                \r"
     ]
    },
    {
     "name": "stdout",
     "output_type": "stream",
     "text": [
      "Saved gs://my-bigdata-project-cm/aggregated/part-00003-757d0be0-aa4f-412a-8639-81950a515aa3-c000.snappy.parquet\n",
      "Processing cleaned/yellow_tripdata_2019-07.parquet/part-00004-757d0be0-aa4f-412a-8639-81950a515aa3-c000.snappy.parquet:\n"
     ]
    },
    {
     "name": "stderr",
     "output_type": "stream",
     "text": [
      "                                                                                \r"
     ]
    },
    {
     "name": "stdout",
     "output_type": "stream",
     "text": [
      "Saved gs://my-bigdata-project-cm/aggregated/part-00004-757d0be0-aa4f-412a-8639-81950a515aa3-c000.snappy.parquet\n",
      "Processing cleaned/yellow_tripdata_2019-07.parquet/part-00005-757d0be0-aa4f-412a-8639-81950a515aa3-c000.snappy.parquet:\n"
     ]
    },
    {
     "name": "stderr",
     "output_type": "stream",
     "text": [
      "                                                                                \r"
     ]
    },
    {
     "name": "stdout",
     "output_type": "stream",
     "text": [
      "Saved gs://my-bigdata-project-cm/aggregated/part-00005-757d0be0-aa4f-412a-8639-81950a515aa3-c000.snappy.parquet\n",
      "Processing cleaned/yellow_tripdata_2019-07.parquet/part-00006-757d0be0-aa4f-412a-8639-81950a515aa3-c000.snappy.parquet:\n"
     ]
    },
    {
     "name": "stderr",
     "output_type": "stream",
     "text": [
      "                                                                                \r"
     ]
    },
    {
     "name": "stdout",
     "output_type": "stream",
     "text": [
      "Saved gs://my-bigdata-project-cm/aggregated/part-00006-757d0be0-aa4f-412a-8639-81950a515aa3-c000.snappy.parquet\n",
      "Processing cleaned/yellow_tripdata_2019-07.parquet/part-00007-757d0be0-aa4f-412a-8639-81950a515aa3-c000.snappy.parquet:\n"
     ]
    },
    {
     "name": "stderr",
     "output_type": "stream",
     "text": [
      "                                                                                \r"
     ]
    },
    {
     "name": "stdout",
     "output_type": "stream",
     "text": [
      "Saved gs://my-bigdata-project-cm/aggregated/part-00007-757d0be0-aa4f-412a-8639-81950a515aa3-c000.snappy.parquet\n",
      "Processing cleaned/yellow_tripdata_2019-07.parquet/part-00008-757d0be0-aa4f-412a-8639-81950a515aa3-c000.snappy.parquet:\n"
     ]
    },
    {
     "name": "stderr",
     "output_type": "stream",
     "text": [
      "                                                                                \r"
     ]
    },
    {
     "name": "stdout",
     "output_type": "stream",
     "text": [
      "Saved gs://my-bigdata-project-cm/aggregated/part-00008-757d0be0-aa4f-412a-8639-81950a515aa3-c000.snappy.parquet\n",
      "Processing cleaned/yellow_tripdata_2019-07.parquet/part-00009-757d0be0-aa4f-412a-8639-81950a515aa3-c000.snappy.parquet:\n"
     ]
    },
    {
     "name": "stderr",
     "output_type": "stream",
     "text": [
      "                                                                                \r"
     ]
    },
    {
     "name": "stdout",
     "output_type": "stream",
     "text": [
      "Saved gs://my-bigdata-project-cm/aggregated/part-00009-757d0be0-aa4f-412a-8639-81950a515aa3-c000.snappy.parquet\n",
      "Processing cleaned/yellow_tripdata_2019-07.parquet/part-00010-757d0be0-aa4f-412a-8639-81950a515aa3-c000.snappy.parquet:\n"
     ]
    },
    {
     "name": "stderr",
     "output_type": "stream",
     "text": [
      "                                                                                \r"
     ]
    },
    {
     "name": "stdout",
     "output_type": "stream",
     "text": [
      "Saved gs://my-bigdata-project-cm/aggregated/part-00010-757d0be0-aa4f-412a-8639-81950a515aa3-c000.snappy.parquet\n",
      "Processing cleaned/yellow_tripdata_2019-07.parquet/part-00011-757d0be0-aa4f-412a-8639-81950a515aa3-c000.snappy.parquet:\n"
     ]
    },
    {
     "name": "stderr",
     "output_type": "stream",
     "text": [
      "                                                                                \r"
     ]
    },
    {
     "name": "stdout",
     "output_type": "stream",
     "text": [
      "Saved gs://my-bigdata-project-cm/aggregated/part-00011-757d0be0-aa4f-412a-8639-81950a515aa3-c000.snappy.parquet\n",
      "Processing cleaned/yellow_tripdata_2019-07.parquet/part-00012-757d0be0-aa4f-412a-8639-81950a515aa3-c000.snappy.parquet:\n"
     ]
    },
    {
     "name": "stderr",
     "output_type": "stream",
     "text": [
      "                                                                                \r"
     ]
    },
    {
     "name": "stdout",
     "output_type": "stream",
     "text": [
      "Saved gs://my-bigdata-project-cm/aggregated/part-00012-757d0be0-aa4f-412a-8639-81950a515aa3-c000.snappy.parquet\n",
      "Skipping file cleaned/yellow_tripdata_2019-08.parquet/\n",
      "Skipping file cleaned/yellow_tripdata_2019-08.parquet/_SUCCESS\n",
      "Processing cleaned/yellow_tripdata_2019-08.parquet/part-00000-ecb2360c-56b0-402d-b878-017951dd1c86-c000.snappy.parquet:\n"
     ]
    },
    {
     "name": "stderr",
     "output_type": "stream",
     "text": [
      "                                                                                \r"
     ]
    },
    {
     "name": "stdout",
     "output_type": "stream",
     "text": [
      "Saved gs://my-bigdata-project-cm/aggregated/part-00000-ecb2360c-56b0-402d-b878-017951dd1c86-c000.snappy.parquet\n",
      "Processing cleaned/yellow_tripdata_2019-08.parquet/part-00001-ecb2360c-56b0-402d-b878-017951dd1c86-c000.snappy.parquet:\n"
     ]
    },
    {
     "name": "stderr",
     "output_type": "stream",
     "text": [
      "                                                                                \r"
     ]
    },
    {
     "name": "stdout",
     "output_type": "stream",
     "text": [
      "Saved gs://my-bigdata-project-cm/aggregated/part-00001-ecb2360c-56b0-402d-b878-017951dd1c86-c000.snappy.parquet\n",
      "Processing cleaned/yellow_tripdata_2019-08.parquet/part-00002-ecb2360c-56b0-402d-b878-017951dd1c86-c000.snappy.parquet:\n"
     ]
    },
    {
     "name": "stderr",
     "output_type": "stream",
     "text": [
      "                                                                                \r"
     ]
    },
    {
     "name": "stdout",
     "output_type": "stream",
     "text": [
      "Saved gs://my-bigdata-project-cm/aggregated/part-00002-ecb2360c-56b0-402d-b878-017951dd1c86-c000.snappy.parquet\n",
      "Processing cleaned/yellow_tripdata_2019-08.parquet/part-00003-ecb2360c-56b0-402d-b878-017951dd1c86-c000.snappy.parquet:\n"
     ]
    },
    {
     "name": "stderr",
     "output_type": "stream",
     "text": [
      "                                                                                \r"
     ]
    },
    {
     "name": "stdout",
     "output_type": "stream",
     "text": [
      "Saved gs://my-bigdata-project-cm/aggregated/part-00003-ecb2360c-56b0-402d-b878-017951dd1c86-c000.snappy.parquet\n",
      "Processing cleaned/yellow_tripdata_2019-08.parquet/part-00004-ecb2360c-56b0-402d-b878-017951dd1c86-c000.snappy.parquet:\n"
     ]
    },
    {
     "name": "stderr",
     "output_type": "stream",
     "text": [
      "                                                                                \r"
     ]
    },
    {
     "name": "stdout",
     "output_type": "stream",
     "text": [
      "Saved gs://my-bigdata-project-cm/aggregated/part-00004-ecb2360c-56b0-402d-b878-017951dd1c86-c000.snappy.parquet\n",
      "Processing cleaned/yellow_tripdata_2019-08.parquet/part-00005-ecb2360c-56b0-402d-b878-017951dd1c86-c000.snappy.parquet:\n"
     ]
    },
    {
     "name": "stderr",
     "output_type": "stream",
     "text": [
      "                                                                                \r"
     ]
    },
    {
     "name": "stdout",
     "output_type": "stream",
     "text": [
      "Saved gs://my-bigdata-project-cm/aggregated/part-00005-ecb2360c-56b0-402d-b878-017951dd1c86-c000.snappy.parquet\n",
      "Processing cleaned/yellow_tripdata_2019-08.parquet/part-00006-ecb2360c-56b0-402d-b878-017951dd1c86-c000.snappy.parquet:\n"
     ]
    },
    {
     "name": "stderr",
     "output_type": "stream",
     "text": [
      "                                                                                \r"
     ]
    },
    {
     "name": "stdout",
     "output_type": "stream",
     "text": [
      "Saved gs://my-bigdata-project-cm/aggregated/part-00006-ecb2360c-56b0-402d-b878-017951dd1c86-c000.snappy.parquet\n",
      "Processing cleaned/yellow_tripdata_2019-08.parquet/part-00007-ecb2360c-56b0-402d-b878-017951dd1c86-c000.snappy.parquet:\n"
     ]
    },
    {
     "name": "stderr",
     "output_type": "stream",
     "text": [
      "                                                                                \r"
     ]
    },
    {
     "name": "stdout",
     "output_type": "stream",
     "text": [
      "Saved gs://my-bigdata-project-cm/aggregated/part-00007-ecb2360c-56b0-402d-b878-017951dd1c86-c000.snappy.parquet\n",
      "Processing cleaned/yellow_tripdata_2019-08.parquet/part-00008-ecb2360c-56b0-402d-b878-017951dd1c86-c000.snappy.parquet:\n"
     ]
    },
    {
     "name": "stderr",
     "output_type": "stream",
     "text": [
      "                                                                                \r"
     ]
    },
    {
     "name": "stdout",
     "output_type": "stream",
     "text": [
      "Saved gs://my-bigdata-project-cm/aggregated/part-00008-ecb2360c-56b0-402d-b878-017951dd1c86-c000.snappy.parquet\n",
      "Processing cleaned/yellow_tripdata_2019-08.parquet/part-00009-ecb2360c-56b0-402d-b878-017951dd1c86-c000.snappy.parquet:\n"
     ]
    },
    {
     "name": "stderr",
     "output_type": "stream",
     "text": [
      "                                                                                \r"
     ]
    },
    {
     "name": "stdout",
     "output_type": "stream",
     "text": [
      "Saved gs://my-bigdata-project-cm/aggregated/part-00009-ecb2360c-56b0-402d-b878-017951dd1c86-c000.snappy.parquet\n",
      "Processing cleaned/yellow_tripdata_2019-08.parquet/part-00010-ecb2360c-56b0-402d-b878-017951dd1c86-c000.snappy.parquet:\n"
     ]
    },
    {
     "name": "stderr",
     "output_type": "stream",
     "text": [
      "                                                                                \r"
     ]
    },
    {
     "name": "stdout",
     "output_type": "stream",
     "text": [
      "Saved gs://my-bigdata-project-cm/aggregated/part-00010-ecb2360c-56b0-402d-b878-017951dd1c86-c000.snappy.parquet\n",
      "Skipping file cleaned/yellow_tripdata_2019-09.parquet/\n",
      "Skipping file cleaned/yellow_tripdata_2019-09.parquet/_SUCCESS\n",
      "Processing cleaned/yellow_tripdata_2019-09.parquet/part-00000-5991b00f-ae2f-4c83-8b07-a31d4ab03021-c000.snappy.parquet:\n"
     ]
    },
    {
     "name": "stderr",
     "output_type": "stream",
     "text": [
      "                                                                                \r"
     ]
    },
    {
     "name": "stdout",
     "output_type": "stream",
     "text": [
      "Saved gs://my-bigdata-project-cm/aggregated/part-00000-5991b00f-ae2f-4c83-8b07-a31d4ab03021-c000.snappy.parquet\n",
      "Processing cleaned/yellow_tripdata_2019-09.parquet/part-00001-5991b00f-ae2f-4c83-8b07-a31d4ab03021-c000.snappy.parquet:\n"
     ]
    },
    {
     "name": "stderr",
     "output_type": "stream",
     "text": [
      "                                                                                \r"
     ]
    },
    {
     "name": "stdout",
     "output_type": "stream",
     "text": [
      "Saved gs://my-bigdata-project-cm/aggregated/part-00001-5991b00f-ae2f-4c83-8b07-a31d4ab03021-c000.snappy.parquet\n",
      "Processing cleaned/yellow_tripdata_2019-09.parquet/part-00002-5991b00f-ae2f-4c83-8b07-a31d4ab03021-c000.snappy.parquet:\n"
     ]
    },
    {
     "name": "stderr",
     "output_type": "stream",
     "text": [
      "                                                                                \r"
     ]
    },
    {
     "name": "stdout",
     "output_type": "stream",
     "text": [
      "Saved gs://my-bigdata-project-cm/aggregated/part-00002-5991b00f-ae2f-4c83-8b07-a31d4ab03021-c000.snappy.parquet\n",
      "Processing cleaned/yellow_tripdata_2019-09.parquet/part-00003-5991b00f-ae2f-4c83-8b07-a31d4ab03021-c000.snappy.parquet:\n"
     ]
    },
    {
     "name": "stderr",
     "output_type": "stream",
     "text": [
      "                                                                                \r"
     ]
    },
    {
     "name": "stdout",
     "output_type": "stream",
     "text": [
      "Saved gs://my-bigdata-project-cm/aggregated/part-00003-5991b00f-ae2f-4c83-8b07-a31d4ab03021-c000.snappy.parquet\n",
      "Processing cleaned/yellow_tripdata_2019-09.parquet/part-00004-5991b00f-ae2f-4c83-8b07-a31d4ab03021-c000.snappy.parquet:\n"
     ]
    },
    {
     "name": "stderr",
     "output_type": "stream",
     "text": [
      "                                                                                \r"
     ]
    },
    {
     "name": "stdout",
     "output_type": "stream",
     "text": [
      "Saved gs://my-bigdata-project-cm/aggregated/part-00004-5991b00f-ae2f-4c83-8b07-a31d4ab03021-c000.snappy.parquet\n",
      "Processing cleaned/yellow_tripdata_2019-09.parquet/part-00005-5991b00f-ae2f-4c83-8b07-a31d4ab03021-c000.snappy.parquet:\n"
     ]
    },
    {
     "name": "stderr",
     "output_type": "stream",
     "text": [
      "                                                                                \r"
     ]
    },
    {
     "name": "stdout",
     "output_type": "stream",
     "text": [
      "Saved gs://my-bigdata-project-cm/aggregated/part-00005-5991b00f-ae2f-4c83-8b07-a31d4ab03021-c000.snappy.parquet\n",
      "Processing cleaned/yellow_tripdata_2019-09.parquet/part-00006-5991b00f-ae2f-4c83-8b07-a31d4ab03021-c000.snappy.parquet:\n"
     ]
    },
    {
     "name": "stderr",
     "output_type": "stream",
     "text": [
      "                                                                                \r"
     ]
    },
    {
     "name": "stdout",
     "output_type": "stream",
     "text": [
      "Saved gs://my-bigdata-project-cm/aggregated/part-00006-5991b00f-ae2f-4c83-8b07-a31d4ab03021-c000.snappy.parquet\n",
      "Processing cleaned/yellow_tripdata_2019-09.parquet/part-00007-5991b00f-ae2f-4c83-8b07-a31d4ab03021-c000.snappy.parquet:\n"
     ]
    },
    {
     "name": "stderr",
     "output_type": "stream",
     "text": [
      "                                                                                \r"
     ]
    },
    {
     "name": "stdout",
     "output_type": "stream",
     "text": [
      "Saved gs://my-bigdata-project-cm/aggregated/part-00007-5991b00f-ae2f-4c83-8b07-a31d4ab03021-c000.snappy.parquet\n",
      "Processing cleaned/yellow_tripdata_2019-09.parquet/part-00008-5991b00f-ae2f-4c83-8b07-a31d4ab03021-c000.snappy.parquet:\n"
     ]
    },
    {
     "name": "stderr",
     "output_type": "stream",
     "text": [
      "                                                                                \r"
     ]
    },
    {
     "name": "stdout",
     "output_type": "stream",
     "text": [
      "Saved gs://my-bigdata-project-cm/aggregated/part-00008-5991b00f-ae2f-4c83-8b07-a31d4ab03021-c000.snappy.parquet\n",
      "Processing cleaned/yellow_tripdata_2019-09.parquet/part-00009-5991b00f-ae2f-4c83-8b07-a31d4ab03021-c000.snappy.parquet:\n"
     ]
    },
    {
     "name": "stderr",
     "output_type": "stream",
     "text": [
      "                                                                                \r"
     ]
    },
    {
     "name": "stdout",
     "output_type": "stream",
     "text": [
      "Saved gs://my-bigdata-project-cm/aggregated/part-00009-5991b00f-ae2f-4c83-8b07-a31d4ab03021-c000.snappy.parquet\n",
      "Processing cleaned/yellow_tripdata_2019-09.parquet/part-00010-5991b00f-ae2f-4c83-8b07-a31d4ab03021-c000.snappy.parquet:\n"
     ]
    },
    {
     "name": "stderr",
     "output_type": "stream",
     "text": [
      "                                                                                \r"
     ]
    },
    {
     "name": "stdout",
     "output_type": "stream",
     "text": [
      "Saved gs://my-bigdata-project-cm/aggregated/part-00010-5991b00f-ae2f-4c83-8b07-a31d4ab03021-c000.snappy.parquet\n",
      "Processing cleaned/yellow_tripdata_2019-09.parquet/part-00011-5991b00f-ae2f-4c83-8b07-a31d4ab03021-c000.snappy.parquet:\n"
     ]
    },
    {
     "name": "stderr",
     "output_type": "stream",
     "text": [
      "                                                                                \r"
     ]
    },
    {
     "name": "stdout",
     "output_type": "stream",
     "text": [
      "Saved gs://my-bigdata-project-cm/aggregated/part-00011-5991b00f-ae2f-4c83-8b07-a31d4ab03021-c000.snappy.parquet\n",
      "Processing cleaned/yellow_tripdata_2019-09.parquet/part-00012-5991b00f-ae2f-4c83-8b07-a31d4ab03021-c000.snappy.parquet:\n"
     ]
    },
    {
     "name": "stderr",
     "output_type": "stream",
     "text": [
      "                                                                                \r"
     ]
    },
    {
     "name": "stdout",
     "output_type": "stream",
     "text": [
      "Saved gs://my-bigdata-project-cm/aggregated/part-00012-5991b00f-ae2f-4c83-8b07-a31d4ab03021-c000.snappy.parquet\n",
      "Skipping file cleaned/yellow_tripdata_2019-10.parquet/\n",
      "Skipping file cleaned/yellow_tripdata_2019-10.parquet/_SUCCESS\n",
      "Processing cleaned/yellow_tripdata_2019-10.parquet/part-00000-1c07eaf9-bf02-4a20-a2a9-fbd9fdb3ad98-c000.snappy.parquet:\n"
     ]
    },
    {
     "name": "stderr",
     "output_type": "stream",
     "text": [
      "                                                                                \r"
     ]
    },
    {
     "name": "stdout",
     "output_type": "stream",
     "text": [
      "Saved gs://my-bigdata-project-cm/aggregated/part-00000-1c07eaf9-bf02-4a20-a2a9-fbd9fdb3ad98-c000.snappy.parquet\n",
      "Processing cleaned/yellow_tripdata_2019-10.parquet/part-00001-1c07eaf9-bf02-4a20-a2a9-fbd9fdb3ad98-c000.snappy.parquet:\n"
     ]
    },
    {
     "name": "stderr",
     "output_type": "stream",
     "text": [
      "                                                                                \r"
     ]
    },
    {
     "name": "stdout",
     "output_type": "stream",
     "text": [
      "Saved gs://my-bigdata-project-cm/aggregated/part-00001-1c07eaf9-bf02-4a20-a2a9-fbd9fdb3ad98-c000.snappy.parquet\n",
      "Processing cleaned/yellow_tripdata_2019-10.parquet/part-00002-1c07eaf9-bf02-4a20-a2a9-fbd9fdb3ad98-c000.snappy.parquet:\n"
     ]
    },
    {
     "name": "stderr",
     "output_type": "stream",
     "text": [
      "                                                                                \r"
     ]
    },
    {
     "name": "stdout",
     "output_type": "stream",
     "text": [
      "Saved gs://my-bigdata-project-cm/aggregated/part-00002-1c07eaf9-bf02-4a20-a2a9-fbd9fdb3ad98-c000.snappy.parquet\n",
      "Processing cleaned/yellow_tripdata_2019-10.parquet/part-00003-1c07eaf9-bf02-4a20-a2a9-fbd9fdb3ad98-c000.snappy.parquet:\n"
     ]
    },
    {
     "name": "stderr",
     "output_type": "stream",
     "text": [
      "                                                                                \r"
     ]
    },
    {
     "name": "stdout",
     "output_type": "stream",
     "text": [
      "Saved gs://my-bigdata-project-cm/aggregated/part-00003-1c07eaf9-bf02-4a20-a2a9-fbd9fdb3ad98-c000.snappy.parquet\n",
      "Processing cleaned/yellow_tripdata_2019-10.parquet/part-00004-1c07eaf9-bf02-4a20-a2a9-fbd9fdb3ad98-c000.snappy.parquet:\n"
     ]
    },
    {
     "name": "stderr",
     "output_type": "stream",
     "text": [
      "                                                                                \r"
     ]
    },
    {
     "name": "stdout",
     "output_type": "stream",
     "text": [
      "Saved gs://my-bigdata-project-cm/aggregated/part-00004-1c07eaf9-bf02-4a20-a2a9-fbd9fdb3ad98-c000.snappy.parquet\n",
      "Processing cleaned/yellow_tripdata_2019-10.parquet/part-00005-1c07eaf9-bf02-4a20-a2a9-fbd9fdb3ad98-c000.snappy.parquet:\n"
     ]
    },
    {
     "name": "stderr",
     "output_type": "stream",
     "text": [
      "                                                                                \r"
     ]
    },
    {
     "name": "stdout",
     "output_type": "stream",
     "text": [
      "Saved gs://my-bigdata-project-cm/aggregated/part-00005-1c07eaf9-bf02-4a20-a2a9-fbd9fdb3ad98-c000.snappy.parquet\n",
      "Processing cleaned/yellow_tripdata_2019-10.parquet/part-00006-1c07eaf9-bf02-4a20-a2a9-fbd9fdb3ad98-c000.snappy.parquet:\n"
     ]
    },
    {
     "name": "stderr",
     "output_type": "stream",
     "text": [
      "                                                                                \r"
     ]
    },
    {
     "name": "stdout",
     "output_type": "stream",
     "text": [
      "Saved gs://my-bigdata-project-cm/aggregated/part-00006-1c07eaf9-bf02-4a20-a2a9-fbd9fdb3ad98-c000.snappy.parquet\n",
      "Processing cleaned/yellow_tripdata_2019-10.parquet/part-00007-1c07eaf9-bf02-4a20-a2a9-fbd9fdb3ad98-c000.snappy.parquet:\n"
     ]
    },
    {
     "name": "stderr",
     "output_type": "stream",
     "text": [
      "                                                                                \r"
     ]
    },
    {
     "name": "stdout",
     "output_type": "stream",
     "text": [
      "Saved gs://my-bigdata-project-cm/aggregated/part-00007-1c07eaf9-bf02-4a20-a2a9-fbd9fdb3ad98-c000.snappy.parquet\n",
      "Processing cleaned/yellow_tripdata_2019-10.parquet/part-00008-1c07eaf9-bf02-4a20-a2a9-fbd9fdb3ad98-c000.snappy.parquet:\n"
     ]
    },
    {
     "name": "stderr",
     "output_type": "stream",
     "text": [
      "                                                                                \r"
     ]
    },
    {
     "name": "stdout",
     "output_type": "stream",
     "text": [
      "Saved gs://my-bigdata-project-cm/aggregated/part-00008-1c07eaf9-bf02-4a20-a2a9-fbd9fdb3ad98-c000.snappy.parquet\n",
      "Processing cleaned/yellow_tripdata_2019-10.parquet/part-00009-1c07eaf9-bf02-4a20-a2a9-fbd9fdb3ad98-c000.snappy.parquet:\n"
     ]
    },
    {
     "name": "stderr",
     "output_type": "stream",
     "text": [
      "                                                                                \r"
     ]
    },
    {
     "name": "stdout",
     "output_type": "stream",
     "text": [
      "Saved gs://my-bigdata-project-cm/aggregated/part-00009-1c07eaf9-bf02-4a20-a2a9-fbd9fdb3ad98-c000.snappy.parquet\n",
      "Processing cleaned/yellow_tripdata_2019-10.parquet/part-00010-1c07eaf9-bf02-4a20-a2a9-fbd9fdb3ad98-c000.snappy.parquet:\n"
     ]
    },
    {
     "name": "stderr",
     "output_type": "stream",
     "text": [
      "                                                                                \r"
     ]
    },
    {
     "name": "stdout",
     "output_type": "stream",
     "text": [
      "Saved gs://my-bigdata-project-cm/aggregated/part-00010-1c07eaf9-bf02-4a20-a2a9-fbd9fdb3ad98-c000.snappy.parquet\n",
      "Processing cleaned/yellow_tripdata_2019-10.parquet/part-00011-1c07eaf9-bf02-4a20-a2a9-fbd9fdb3ad98-c000.snappy.parquet:\n"
     ]
    },
    {
     "name": "stderr",
     "output_type": "stream",
     "text": [
      "                                                                                \r"
     ]
    },
    {
     "name": "stdout",
     "output_type": "stream",
     "text": [
      "Saved gs://my-bigdata-project-cm/aggregated/part-00011-1c07eaf9-bf02-4a20-a2a9-fbd9fdb3ad98-c000.snappy.parquet\n",
      "Processing cleaned/yellow_tripdata_2019-10.parquet/part-00012-1c07eaf9-bf02-4a20-a2a9-fbd9fdb3ad98-c000.snappy.parquet:\n"
     ]
    },
    {
     "name": "stderr",
     "output_type": "stream",
     "text": [
      "                                                                                \r"
     ]
    },
    {
     "name": "stdout",
     "output_type": "stream",
     "text": [
      "Saved gs://my-bigdata-project-cm/aggregated/part-00012-1c07eaf9-bf02-4a20-a2a9-fbd9fdb3ad98-c000.snappy.parquet\n",
      "Skipping file cleaned/yellow_tripdata_2019-11.parquet/\n",
      "Skipping file cleaned/yellow_tripdata_2019-11.parquet/_SUCCESS\n",
      "Processing cleaned/yellow_tripdata_2019-11.parquet/part-00000-5ee9c783-ae2b-459a-bcf7-953bb22efeaf-c000.snappy.parquet:\n"
     ]
    },
    {
     "name": "stderr",
     "output_type": "stream",
     "text": [
      "                                                                                \r"
     ]
    },
    {
     "name": "stdout",
     "output_type": "stream",
     "text": [
      "Saved gs://my-bigdata-project-cm/aggregated/part-00000-5ee9c783-ae2b-459a-bcf7-953bb22efeaf-c000.snappy.parquet\n",
      "Processing cleaned/yellow_tripdata_2019-11.parquet/part-00001-5ee9c783-ae2b-459a-bcf7-953bb22efeaf-c000.snappy.parquet:\n"
     ]
    },
    {
     "name": "stderr",
     "output_type": "stream",
     "text": [
      "                                                                                \r"
     ]
    },
    {
     "name": "stdout",
     "output_type": "stream",
     "text": [
      "Saved gs://my-bigdata-project-cm/aggregated/part-00001-5ee9c783-ae2b-459a-bcf7-953bb22efeaf-c000.snappy.parquet\n",
      "Processing cleaned/yellow_tripdata_2019-11.parquet/part-00002-5ee9c783-ae2b-459a-bcf7-953bb22efeaf-c000.snappy.parquet:\n"
     ]
    },
    {
     "name": "stderr",
     "output_type": "stream",
     "text": [
      "                                                                                \r"
     ]
    },
    {
     "name": "stdout",
     "output_type": "stream",
     "text": [
      "Saved gs://my-bigdata-project-cm/aggregated/part-00002-5ee9c783-ae2b-459a-bcf7-953bb22efeaf-c000.snappy.parquet\n",
      "Processing cleaned/yellow_tripdata_2019-11.parquet/part-00003-5ee9c783-ae2b-459a-bcf7-953bb22efeaf-c000.snappy.parquet:\n"
     ]
    },
    {
     "name": "stderr",
     "output_type": "stream",
     "text": [
      "                                                                                \r"
     ]
    },
    {
     "name": "stdout",
     "output_type": "stream",
     "text": [
      "Saved gs://my-bigdata-project-cm/aggregated/part-00003-5ee9c783-ae2b-459a-bcf7-953bb22efeaf-c000.snappy.parquet\n",
      "Processing cleaned/yellow_tripdata_2019-11.parquet/part-00004-5ee9c783-ae2b-459a-bcf7-953bb22efeaf-c000.snappy.parquet:\n"
     ]
    },
    {
     "name": "stderr",
     "output_type": "stream",
     "text": [
      "                                                                                \r"
     ]
    },
    {
     "name": "stdout",
     "output_type": "stream",
     "text": [
      "Saved gs://my-bigdata-project-cm/aggregated/part-00004-5ee9c783-ae2b-459a-bcf7-953bb22efeaf-c000.snappy.parquet\n",
      "Processing cleaned/yellow_tripdata_2019-11.parquet/part-00005-5ee9c783-ae2b-459a-bcf7-953bb22efeaf-c000.snappy.parquet:\n"
     ]
    },
    {
     "name": "stderr",
     "output_type": "stream",
     "text": [
      "                                                                                \r"
     ]
    },
    {
     "name": "stdout",
     "output_type": "stream",
     "text": [
      "Saved gs://my-bigdata-project-cm/aggregated/part-00005-5ee9c783-ae2b-459a-bcf7-953bb22efeaf-c000.snappy.parquet\n",
      "Processing cleaned/yellow_tripdata_2019-11.parquet/part-00006-5ee9c783-ae2b-459a-bcf7-953bb22efeaf-c000.snappy.parquet:\n"
     ]
    },
    {
     "name": "stderr",
     "output_type": "stream",
     "text": [
      "                                                                                \r"
     ]
    },
    {
     "name": "stdout",
     "output_type": "stream",
     "text": [
      "Saved gs://my-bigdata-project-cm/aggregated/part-00006-5ee9c783-ae2b-459a-bcf7-953bb22efeaf-c000.snappy.parquet\n",
      "Processing cleaned/yellow_tripdata_2019-11.parquet/part-00007-5ee9c783-ae2b-459a-bcf7-953bb22efeaf-c000.snappy.parquet:\n"
     ]
    },
    {
     "name": "stderr",
     "output_type": "stream",
     "text": [
      "                                                                                \r"
     ]
    },
    {
     "name": "stdout",
     "output_type": "stream",
     "text": [
      "Saved gs://my-bigdata-project-cm/aggregated/part-00007-5ee9c783-ae2b-459a-bcf7-953bb22efeaf-c000.snappy.parquet\n",
      "Processing cleaned/yellow_tripdata_2019-11.parquet/part-00008-5ee9c783-ae2b-459a-bcf7-953bb22efeaf-c000.snappy.parquet:\n"
     ]
    },
    {
     "name": "stderr",
     "output_type": "stream",
     "text": [
      "                                                                                \r"
     ]
    },
    {
     "name": "stdout",
     "output_type": "stream",
     "text": [
      "Saved gs://my-bigdata-project-cm/aggregated/part-00008-5ee9c783-ae2b-459a-bcf7-953bb22efeaf-c000.snappy.parquet\n",
      "Processing cleaned/yellow_tripdata_2019-11.parquet/part-00009-5ee9c783-ae2b-459a-bcf7-953bb22efeaf-c000.snappy.parquet:\n"
     ]
    },
    {
     "name": "stderr",
     "output_type": "stream",
     "text": [
      "                                                                                \r"
     ]
    },
    {
     "name": "stdout",
     "output_type": "stream",
     "text": [
      "Saved gs://my-bigdata-project-cm/aggregated/part-00009-5ee9c783-ae2b-459a-bcf7-953bb22efeaf-c000.snappy.parquet\n",
      "Processing cleaned/yellow_tripdata_2019-11.parquet/part-00010-5ee9c783-ae2b-459a-bcf7-953bb22efeaf-c000.snappy.parquet:\n"
     ]
    },
    {
     "name": "stderr",
     "output_type": "stream",
     "text": [
      "                                                                                \r"
     ]
    },
    {
     "name": "stdout",
     "output_type": "stream",
     "text": [
      "Saved gs://my-bigdata-project-cm/aggregated/part-00010-5ee9c783-ae2b-459a-bcf7-953bb22efeaf-c000.snappy.parquet\n",
      "Processing cleaned/yellow_tripdata_2019-11.parquet/part-00011-5ee9c783-ae2b-459a-bcf7-953bb22efeaf-c000.snappy.parquet:\n"
     ]
    },
    {
     "name": "stderr",
     "output_type": "stream",
     "text": [
      "                                                                                \r"
     ]
    },
    {
     "name": "stdout",
     "output_type": "stream",
     "text": [
      "Saved gs://my-bigdata-project-cm/aggregated/part-00011-5ee9c783-ae2b-459a-bcf7-953bb22efeaf-c000.snappy.parquet\n",
      "Processing cleaned/yellow_tripdata_2019-11.parquet/part-00012-5ee9c783-ae2b-459a-bcf7-953bb22efeaf-c000.snappy.parquet:\n"
     ]
    },
    {
     "name": "stderr",
     "output_type": "stream",
     "text": [
      "                                                                                \r"
     ]
    },
    {
     "name": "stdout",
     "output_type": "stream",
     "text": [
      "Saved gs://my-bigdata-project-cm/aggregated/part-00012-5ee9c783-ae2b-459a-bcf7-953bb22efeaf-c000.snappy.parquet\n",
      "Skipping file cleaned/yellow_tripdata_2019-12.parquet/\n",
      "Skipping file cleaned/yellow_tripdata_2019-12.parquet/_SUCCESS\n",
      "Processing cleaned/yellow_tripdata_2019-12.parquet/part-00000-1accf1c3-6102-4320-9d62-c7d75ff9524d-c000.snappy.parquet:\n"
     ]
    },
    {
     "name": "stderr",
     "output_type": "stream",
     "text": [
      "                                                                                \r"
     ]
    },
    {
     "name": "stdout",
     "output_type": "stream",
     "text": [
      "Saved gs://my-bigdata-project-cm/aggregated/part-00000-1accf1c3-6102-4320-9d62-c7d75ff9524d-c000.snappy.parquet\n",
      "Processing cleaned/yellow_tripdata_2019-12.parquet/part-00001-1accf1c3-6102-4320-9d62-c7d75ff9524d-c000.snappy.parquet:\n"
     ]
    },
    {
     "name": "stderr",
     "output_type": "stream",
     "text": [
      "                                                                                \r"
     ]
    },
    {
     "name": "stdout",
     "output_type": "stream",
     "text": [
      "Saved gs://my-bigdata-project-cm/aggregated/part-00001-1accf1c3-6102-4320-9d62-c7d75ff9524d-c000.snappy.parquet\n",
      "Processing cleaned/yellow_tripdata_2019-12.parquet/part-00002-1accf1c3-6102-4320-9d62-c7d75ff9524d-c000.snappy.parquet:\n"
     ]
    },
    {
     "name": "stderr",
     "output_type": "stream",
     "text": [
      "                                                                                \r"
     ]
    },
    {
     "name": "stdout",
     "output_type": "stream",
     "text": [
      "Saved gs://my-bigdata-project-cm/aggregated/part-00002-1accf1c3-6102-4320-9d62-c7d75ff9524d-c000.snappy.parquet\n",
      "Processing cleaned/yellow_tripdata_2019-12.parquet/part-00003-1accf1c3-6102-4320-9d62-c7d75ff9524d-c000.snappy.parquet:\n"
     ]
    },
    {
     "name": "stderr",
     "output_type": "stream",
     "text": [
      "                                                                                \r"
     ]
    },
    {
     "name": "stdout",
     "output_type": "stream",
     "text": [
      "Saved gs://my-bigdata-project-cm/aggregated/part-00003-1accf1c3-6102-4320-9d62-c7d75ff9524d-c000.snappy.parquet\n",
      "Processing cleaned/yellow_tripdata_2019-12.parquet/part-00004-1accf1c3-6102-4320-9d62-c7d75ff9524d-c000.snappy.parquet:\n"
     ]
    },
    {
     "name": "stderr",
     "output_type": "stream",
     "text": [
      "                                                                                \r"
     ]
    },
    {
     "name": "stdout",
     "output_type": "stream",
     "text": [
      "Saved gs://my-bigdata-project-cm/aggregated/part-00004-1accf1c3-6102-4320-9d62-c7d75ff9524d-c000.snappy.parquet\n",
      "Processing cleaned/yellow_tripdata_2019-12.parquet/part-00005-1accf1c3-6102-4320-9d62-c7d75ff9524d-c000.snappy.parquet:\n"
     ]
    },
    {
     "name": "stderr",
     "output_type": "stream",
     "text": [
      "                                                                                \r"
     ]
    },
    {
     "name": "stdout",
     "output_type": "stream",
     "text": [
      "Saved gs://my-bigdata-project-cm/aggregated/part-00005-1accf1c3-6102-4320-9d62-c7d75ff9524d-c000.snappy.parquet\n",
      "Processing cleaned/yellow_tripdata_2019-12.parquet/part-00006-1accf1c3-6102-4320-9d62-c7d75ff9524d-c000.snappy.parquet:\n"
     ]
    },
    {
     "name": "stderr",
     "output_type": "stream",
     "text": [
      "                                                                                \r"
     ]
    },
    {
     "name": "stdout",
     "output_type": "stream",
     "text": [
      "Saved gs://my-bigdata-project-cm/aggregated/part-00006-1accf1c3-6102-4320-9d62-c7d75ff9524d-c000.snappy.parquet\n",
      "Processing cleaned/yellow_tripdata_2019-12.parquet/part-00007-1accf1c3-6102-4320-9d62-c7d75ff9524d-c000.snappy.parquet:\n"
     ]
    },
    {
     "name": "stderr",
     "output_type": "stream",
     "text": [
      "                                                                                \r"
     ]
    },
    {
     "name": "stdout",
     "output_type": "stream",
     "text": [
      "Saved gs://my-bigdata-project-cm/aggregated/part-00007-1accf1c3-6102-4320-9d62-c7d75ff9524d-c000.snappy.parquet\n",
      "Processing cleaned/yellow_tripdata_2019-12.parquet/part-00008-1accf1c3-6102-4320-9d62-c7d75ff9524d-c000.snappy.parquet:\n"
     ]
    },
    {
     "name": "stderr",
     "output_type": "stream",
     "text": [
      "                                                                                \r"
     ]
    },
    {
     "name": "stdout",
     "output_type": "stream",
     "text": [
      "Saved gs://my-bigdata-project-cm/aggregated/part-00008-1accf1c3-6102-4320-9d62-c7d75ff9524d-c000.snappy.parquet\n",
      "Processing cleaned/yellow_tripdata_2019-12.parquet/part-00009-1accf1c3-6102-4320-9d62-c7d75ff9524d-c000.snappy.parquet:\n"
     ]
    },
    {
     "name": "stderr",
     "output_type": "stream",
     "text": [
      "                                                                                \r"
     ]
    },
    {
     "name": "stdout",
     "output_type": "stream",
     "text": [
      "Saved gs://my-bigdata-project-cm/aggregated/part-00009-1accf1c3-6102-4320-9d62-c7d75ff9524d-c000.snappy.parquet\n",
      "Processing cleaned/yellow_tripdata_2019-12.parquet/part-00010-1accf1c3-6102-4320-9d62-c7d75ff9524d-c000.snappy.parquet:\n"
     ]
    },
    {
     "name": "stderr",
     "output_type": "stream",
     "text": [
      "                                                                                \r"
     ]
    },
    {
     "name": "stdout",
     "output_type": "stream",
     "text": [
      "Saved gs://my-bigdata-project-cm/aggregated/part-00010-1accf1c3-6102-4320-9d62-c7d75ff9524d-c000.snappy.parquet\n",
      "Processing cleaned/yellow_tripdata_2019-12.parquet/part-00011-1accf1c3-6102-4320-9d62-c7d75ff9524d-c000.snappy.parquet:\n"
     ]
    },
    {
     "name": "stderr",
     "output_type": "stream",
     "text": [
      "                                                                                \r"
     ]
    },
    {
     "name": "stdout",
     "output_type": "stream",
     "text": [
      "Saved gs://my-bigdata-project-cm/aggregated/part-00011-1accf1c3-6102-4320-9d62-c7d75ff9524d-c000.snappy.parquet\n",
      "Skipping file cleaned/yellow_tripdata_2020-01.parquet/\n",
      "Skipping file cleaned/yellow_tripdata_2020-01.parquet/_SUCCESS\n",
      "Processing cleaned/yellow_tripdata_2020-01.parquet/part-00000-59a43224-9795-4bb2-a133-9fa22f47dfe8-c000.snappy.parquet:\n"
     ]
    },
    {
     "name": "stderr",
     "output_type": "stream",
     "text": [
      "                                                                                \r"
     ]
    },
    {
     "name": "stdout",
     "output_type": "stream",
     "text": [
      "Saved gs://my-bigdata-project-cm/aggregated/part-00000-59a43224-9795-4bb2-a133-9fa22f47dfe8-c000.snappy.parquet\n",
      "Processing cleaned/yellow_tripdata_2020-01.parquet/part-00001-59a43224-9795-4bb2-a133-9fa22f47dfe8-c000.snappy.parquet:\n"
     ]
    },
    {
     "name": "stderr",
     "output_type": "stream",
     "text": [
      "                                                                                \r"
     ]
    },
    {
     "name": "stdout",
     "output_type": "stream",
     "text": [
      "Saved gs://my-bigdata-project-cm/aggregated/part-00001-59a43224-9795-4bb2-a133-9fa22f47dfe8-c000.snappy.parquet\n",
      "Processing cleaned/yellow_tripdata_2020-01.parquet/part-00002-59a43224-9795-4bb2-a133-9fa22f47dfe8-c000.snappy.parquet:\n"
     ]
    },
    {
     "name": "stderr",
     "output_type": "stream",
     "text": [
      "                                                                                \r"
     ]
    },
    {
     "name": "stdout",
     "output_type": "stream",
     "text": [
      "Saved gs://my-bigdata-project-cm/aggregated/part-00002-59a43224-9795-4bb2-a133-9fa22f47dfe8-c000.snappy.parquet\n",
      "Processing cleaned/yellow_tripdata_2020-01.parquet/part-00003-59a43224-9795-4bb2-a133-9fa22f47dfe8-c000.snappy.parquet:\n"
     ]
    },
    {
     "name": "stderr",
     "output_type": "stream",
     "text": [
      "                                                                                \r"
     ]
    },
    {
     "name": "stdout",
     "output_type": "stream",
     "text": [
      "Saved gs://my-bigdata-project-cm/aggregated/part-00003-59a43224-9795-4bb2-a133-9fa22f47dfe8-c000.snappy.parquet\n",
      "Processing cleaned/yellow_tripdata_2020-01.parquet/part-00004-59a43224-9795-4bb2-a133-9fa22f47dfe8-c000.snappy.parquet:\n"
     ]
    },
    {
     "name": "stderr",
     "output_type": "stream",
     "text": [
      "                                                                                \r"
     ]
    },
    {
     "name": "stdout",
     "output_type": "stream",
     "text": [
      "Saved gs://my-bigdata-project-cm/aggregated/part-00004-59a43224-9795-4bb2-a133-9fa22f47dfe8-c000.snappy.parquet\n",
      "Processing cleaned/yellow_tripdata_2020-01.parquet/part-00005-59a43224-9795-4bb2-a133-9fa22f47dfe8-c000.snappy.parquet:\n"
     ]
    },
    {
     "name": "stderr",
     "output_type": "stream",
     "text": [
      "                                                                                \r"
     ]
    },
    {
     "name": "stdout",
     "output_type": "stream",
     "text": [
      "Saved gs://my-bigdata-project-cm/aggregated/part-00005-59a43224-9795-4bb2-a133-9fa22f47dfe8-c000.snappy.parquet\n",
      "Processing cleaned/yellow_tripdata_2020-01.parquet/part-00006-59a43224-9795-4bb2-a133-9fa22f47dfe8-c000.snappy.parquet:\n"
     ]
    },
    {
     "name": "stderr",
     "output_type": "stream",
     "text": [
      "                                                                                \r"
     ]
    },
    {
     "name": "stdout",
     "output_type": "stream",
     "text": [
      "Saved gs://my-bigdata-project-cm/aggregated/part-00006-59a43224-9795-4bb2-a133-9fa22f47dfe8-c000.snappy.parquet\n",
      "Processing cleaned/yellow_tripdata_2020-01.parquet/part-00007-59a43224-9795-4bb2-a133-9fa22f47dfe8-c000.snappy.parquet:\n"
     ]
    },
    {
     "name": "stderr",
     "output_type": "stream",
     "text": [
      "                                                                                \r"
     ]
    },
    {
     "name": "stdout",
     "output_type": "stream",
     "text": [
      "Saved gs://my-bigdata-project-cm/aggregated/part-00007-59a43224-9795-4bb2-a133-9fa22f47dfe8-c000.snappy.parquet\n",
      "Processing cleaned/yellow_tripdata_2020-01.parquet/part-00008-59a43224-9795-4bb2-a133-9fa22f47dfe8-c000.snappy.parquet:\n"
     ]
    },
    {
     "name": "stderr",
     "output_type": "stream",
     "text": [
      "                                                                                \r"
     ]
    },
    {
     "name": "stdout",
     "output_type": "stream",
     "text": [
      "Saved gs://my-bigdata-project-cm/aggregated/part-00008-59a43224-9795-4bb2-a133-9fa22f47dfe8-c000.snappy.parquet\n",
      "Processing cleaned/yellow_tripdata_2020-01.parquet/part-00009-59a43224-9795-4bb2-a133-9fa22f47dfe8-c000.snappy.parquet:\n"
     ]
    },
    {
     "name": "stderr",
     "output_type": "stream",
     "text": [
      "                                                                                \r"
     ]
    },
    {
     "name": "stdout",
     "output_type": "stream",
     "text": [
      "Saved gs://my-bigdata-project-cm/aggregated/part-00009-59a43224-9795-4bb2-a133-9fa22f47dfe8-c000.snappy.parquet\n",
      "Processing cleaned/yellow_tripdata_2020-01.parquet/part-00010-59a43224-9795-4bb2-a133-9fa22f47dfe8-c000.snappy.parquet:\n"
     ]
    },
    {
     "name": "stderr",
     "output_type": "stream",
     "text": [
      "                                                                                \r"
     ]
    },
    {
     "name": "stdout",
     "output_type": "stream",
     "text": [
      "Saved gs://my-bigdata-project-cm/aggregated/part-00010-59a43224-9795-4bb2-a133-9fa22f47dfe8-c000.snappy.parquet\n",
      "Processing cleaned/yellow_tripdata_2020-01.parquet/part-00011-59a43224-9795-4bb2-a133-9fa22f47dfe8-c000.snappy.parquet:\n"
     ]
    },
    {
     "name": "stderr",
     "output_type": "stream",
     "text": [
      "                                                                                \r"
     ]
    },
    {
     "name": "stdout",
     "output_type": "stream",
     "text": [
      "Saved gs://my-bigdata-project-cm/aggregated/part-00011-59a43224-9795-4bb2-a133-9fa22f47dfe8-c000.snappy.parquet\n",
      "Processing cleaned/yellow_tripdata_2020-01.parquet/part-00012-59a43224-9795-4bb2-a133-9fa22f47dfe8-c000.snappy.parquet:\n"
     ]
    },
    {
     "name": "stderr",
     "output_type": "stream",
     "text": [
      "                                                                                \r"
     ]
    },
    {
     "name": "stdout",
     "output_type": "stream",
     "text": [
      "Saved gs://my-bigdata-project-cm/aggregated/part-00012-59a43224-9795-4bb2-a133-9fa22f47dfe8-c000.snappy.parquet\n",
      "Skipping file cleaned/yellow_tripdata_2020-02.parquet/\n",
      "Skipping file cleaned/yellow_tripdata_2020-02.parquet/_SUCCESS\n",
      "Processing cleaned/yellow_tripdata_2020-02.parquet/part-00000-c032b279-7551-4c9f-90e0-52dfdae78367-c000.snappy.parquet:\n"
     ]
    },
    {
     "name": "stderr",
     "output_type": "stream",
     "text": [
      "                                                                                \r"
     ]
    },
    {
     "name": "stdout",
     "output_type": "stream",
     "text": [
      "Saved gs://my-bigdata-project-cm/aggregated/part-00000-c032b279-7551-4c9f-90e0-52dfdae78367-c000.snappy.parquet\n",
      "Processing cleaned/yellow_tripdata_2020-02.parquet/part-00001-c032b279-7551-4c9f-90e0-52dfdae78367-c000.snappy.parquet:\n"
     ]
    },
    {
     "name": "stderr",
     "output_type": "stream",
     "text": [
      "                                                                                \r"
     ]
    },
    {
     "name": "stdout",
     "output_type": "stream",
     "text": [
      "Saved gs://my-bigdata-project-cm/aggregated/part-00001-c032b279-7551-4c9f-90e0-52dfdae78367-c000.snappy.parquet\n"
     ]
    },
    {
     "name": "stderr",
     "output_type": "stream",
     "text": [
      "                                                                                \r"
     ]
    },
    {
     "name": "stdout",
     "output_type": "stream",
     "text": [
      "Processing cleaned/yellow_tripdata_2020-02.parquet/part-00002-c032b279-7551-4c9f-90e0-52dfdae78367-c000.snappy.parquet:\n"
     ]
    },
    {
     "name": "stderr",
     "output_type": "stream",
     "text": [
      "                                                                                \r"
     ]
    },
    {
     "name": "stdout",
     "output_type": "stream",
     "text": [
      "Saved gs://my-bigdata-project-cm/aggregated/part-00002-c032b279-7551-4c9f-90e0-52dfdae78367-c000.snappy.parquet\n",
      "Processing cleaned/yellow_tripdata_2020-02.parquet/part-00003-c032b279-7551-4c9f-90e0-52dfdae78367-c000.snappy.parquet:\n"
     ]
    },
    {
     "name": "stderr",
     "output_type": "stream",
     "text": [
      "                                                                                \r"
     ]
    },
    {
     "name": "stdout",
     "output_type": "stream",
     "text": [
      "Saved gs://my-bigdata-project-cm/aggregated/part-00003-c032b279-7551-4c9f-90e0-52dfdae78367-c000.snappy.parquet\n",
      "Processing cleaned/yellow_tripdata_2020-02.parquet/part-00004-c032b279-7551-4c9f-90e0-52dfdae78367-c000.snappy.parquet:\n"
     ]
    },
    {
     "name": "stderr",
     "output_type": "stream",
     "text": [
      "                                                                                \r"
     ]
    },
    {
     "name": "stdout",
     "output_type": "stream",
     "text": [
      "Saved gs://my-bigdata-project-cm/aggregated/part-00004-c032b279-7551-4c9f-90e0-52dfdae78367-c000.snappy.parquet\n",
      "Processing cleaned/yellow_tripdata_2020-02.parquet/part-00005-c032b279-7551-4c9f-90e0-52dfdae78367-c000.snappy.parquet:\n"
     ]
    },
    {
     "name": "stderr",
     "output_type": "stream",
     "text": [
      "                                                                                \r"
     ]
    },
    {
     "name": "stdout",
     "output_type": "stream",
     "text": [
      "Saved gs://my-bigdata-project-cm/aggregated/part-00005-c032b279-7551-4c9f-90e0-52dfdae78367-c000.snappy.parquet\n",
      "Processing cleaned/yellow_tripdata_2020-02.parquet/part-00006-c032b279-7551-4c9f-90e0-52dfdae78367-c000.snappy.parquet:\n"
     ]
    },
    {
     "name": "stderr",
     "output_type": "stream",
     "text": [
      "                                                                                \r"
     ]
    },
    {
     "name": "stdout",
     "output_type": "stream",
     "text": [
      "Saved gs://my-bigdata-project-cm/aggregated/part-00006-c032b279-7551-4c9f-90e0-52dfdae78367-c000.snappy.parquet\n",
      "Processing cleaned/yellow_tripdata_2020-02.parquet/part-00007-c032b279-7551-4c9f-90e0-52dfdae78367-c000.snappy.parquet:\n"
     ]
    },
    {
     "name": "stderr",
     "output_type": "stream",
     "text": [
      "                                                                                \r"
     ]
    },
    {
     "name": "stdout",
     "output_type": "stream",
     "text": [
      "Saved gs://my-bigdata-project-cm/aggregated/part-00007-c032b279-7551-4c9f-90e0-52dfdae78367-c000.snappy.parquet\n",
      "Processing cleaned/yellow_tripdata_2020-02.parquet/part-00008-c032b279-7551-4c9f-90e0-52dfdae78367-c000.snappy.parquet:\n"
     ]
    },
    {
     "name": "stderr",
     "output_type": "stream",
     "text": [
      "                                                                                \r"
     ]
    },
    {
     "name": "stdout",
     "output_type": "stream",
     "text": [
      "Saved gs://my-bigdata-project-cm/aggregated/part-00008-c032b279-7551-4c9f-90e0-52dfdae78367-c000.snappy.parquet\n",
      "Processing cleaned/yellow_tripdata_2020-02.parquet/part-00009-c032b279-7551-4c9f-90e0-52dfdae78367-c000.snappy.parquet:\n"
     ]
    },
    {
     "name": "stderr",
     "output_type": "stream",
     "text": [
      "                                                                                \r"
     ]
    },
    {
     "name": "stdout",
     "output_type": "stream",
     "text": [
      "Saved gs://my-bigdata-project-cm/aggregated/part-00009-c032b279-7551-4c9f-90e0-52dfdae78367-c000.snappy.parquet\n",
      "Processing cleaned/yellow_tripdata_2020-02.parquet/part-00010-c032b279-7551-4c9f-90e0-52dfdae78367-c000.snappy.parquet:\n"
     ]
    },
    {
     "name": "stderr",
     "output_type": "stream",
     "text": [
      "                                                                                \r"
     ]
    },
    {
     "name": "stdout",
     "output_type": "stream",
     "text": [
      "Saved gs://my-bigdata-project-cm/aggregated/part-00010-c032b279-7551-4c9f-90e0-52dfdae78367-c000.snappy.parquet\n",
      "Processing cleaned/yellow_tripdata_2020-02.parquet/part-00011-c032b279-7551-4c9f-90e0-52dfdae78367-c000.snappy.parquet:\n"
     ]
    },
    {
     "name": "stderr",
     "output_type": "stream",
     "text": [
      "                                                                                \r"
     ]
    },
    {
     "name": "stdout",
     "output_type": "stream",
     "text": [
      "Saved gs://my-bigdata-project-cm/aggregated/part-00011-c032b279-7551-4c9f-90e0-52dfdae78367-c000.snappy.parquet\n",
      "Processing cleaned/yellow_tripdata_2020-02.parquet/part-00012-c032b279-7551-4c9f-90e0-52dfdae78367-c000.snappy.parquet:\n"
     ]
    },
    {
     "name": "stderr",
     "output_type": "stream",
     "text": [
      "                                                                                \r"
     ]
    },
    {
     "name": "stdout",
     "output_type": "stream",
     "text": [
      "Saved gs://my-bigdata-project-cm/aggregated/part-00012-c032b279-7551-4c9f-90e0-52dfdae78367-c000.snappy.parquet\n",
      "Skipping file cleaned/yellow_tripdata_2020-03.parquet/\n",
      "Skipping file cleaned/yellow_tripdata_2020-03.parquet/_SUCCESS\n",
      "Processing cleaned/yellow_tripdata_2020-03.parquet/part-00000-674fe248-11d6-4e7c-9d78-8a273c7cc15b-c000.snappy.parquet:\n"
     ]
    },
    {
     "name": "stderr",
     "output_type": "stream",
     "text": [
      "                                                                                \r"
     ]
    },
    {
     "name": "stdout",
     "output_type": "stream",
     "text": [
      "Saved gs://my-bigdata-project-cm/aggregated/part-00000-674fe248-11d6-4e7c-9d78-8a273c7cc15b-c000.snappy.parquet\n",
      "Processing cleaned/yellow_tripdata_2020-03.parquet/part-00001-674fe248-11d6-4e7c-9d78-8a273c7cc15b-c000.snappy.parquet:\n"
     ]
    },
    {
     "name": "stderr",
     "output_type": "stream",
     "text": [
      "                                                                                \r"
     ]
    },
    {
     "name": "stdout",
     "output_type": "stream",
     "text": [
      "Saved gs://my-bigdata-project-cm/aggregated/part-00001-674fe248-11d6-4e7c-9d78-8a273c7cc15b-c000.snappy.parquet\n",
      "Processing cleaned/yellow_tripdata_2020-03.parquet/part-00002-674fe248-11d6-4e7c-9d78-8a273c7cc15b-c000.snappy.parquet:\n"
     ]
    },
    {
     "name": "stderr",
     "output_type": "stream",
     "text": [
      "                                                                                \r"
     ]
    },
    {
     "name": "stdout",
     "output_type": "stream",
     "text": [
      "Saved gs://my-bigdata-project-cm/aggregated/part-00002-674fe248-11d6-4e7c-9d78-8a273c7cc15b-c000.snappy.parquet\n",
      "Processing cleaned/yellow_tripdata_2020-03.parquet/part-00003-674fe248-11d6-4e7c-9d78-8a273c7cc15b-c000.snappy.parquet:\n"
     ]
    },
    {
     "name": "stderr",
     "output_type": "stream",
     "text": [
      "                                                                                \r"
     ]
    },
    {
     "name": "stdout",
     "output_type": "stream",
     "text": [
      "Saved gs://my-bigdata-project-cm/aggregated/part-00003-674fe248-11d6-4e7c-9d78-8a273c7cc15b-c000.snappy.parquet\n",
      "Processing cleaned/yellow_tripdata_2020-03.parquet/part-00004-674fe248-11d6-4e7c-9d78-8a273c7cc15b-c000.snappy.parquet:\n"
     ]
    },
    {
     "name": "stderr",
     "output_type": "stream",
     "text": [
      "                                                                                \r"
     ]
    },
    {
     "name": "stdout",
     "output_type": "stream",
     "text": [
      "Saved gs://my-bigdata-project-cm/aggregated/part-00004-674fe248-11d6-4e7c-9d78-8a273c7cc15b-c000.snappy.parquet\n",
      "Processing cleaned/yellow_tripdata_2020-03.parquet/part-00005-674fe248-11d6-4e7c-9d78-8a273c7cc15b-c000.snappy.parquet:\n"
     ]
    },
    {
     "name": "stderr",
     "output_type": "stream",
     "text": [
      "                                                                                \r"
     ]
    },
    {
     "name": "stdout",
     "output_type": "stream",
     "text": [
      "Saved gs://my-bigdata-project-cm/aggregated/part-00005-674fe248-11d6-4e7c-9d78-8a273c7cc15b-c000.snappy.parquet\n",
      "Processing cleaned/yellow_tripdata_2020-03.parquet/part-00006-674fe248-11d6-4e7c-9d78-8a273c7cc15b-c000.snappy.parquet:\n"
     ]
    },
    {
     "name": "stderr",
     "output_type": "stream",
     "text": [
      "                                                                                \r"
     ]
    },
    {
     "name": "stdout",
     "output_type": "stream",
     "text": [
      "Saved gs://my-bigdata-project-cm/aggregated/part-00006-674fe248-11d6-4e7c-9d78-8a273c7cc15b-c000.snappy.parquet\n",
      "Processing cleaned/yellow_tripdata_2020-03.parquet/part-00007-674fe248-11d6-4e7c-9d78-8a273c7cc15b-c000.snappy.parquet:\n"
     ]
    },
    {
     "name": "stderr",
     "output_type": "stream",
     "text": [
      "                                                                                \r"
     ]
    },
    {
     "name": "stdout",
     "output_type": "stream",
     "text": [
      "Saved gs://my-bigdata-project-cm/aggregated/part-00007-674fe248-11d6-4e7c-9d78-8a273c7cc15b-c000.snappy.parquet\n",
      "Processing cleaned/yellow_tripdata_2020-03.parquet/part-00008-674fe248-11d6-4e7c-9d78-8a273c7cc15b-c000.snappy.parquet:\n"
     ]
    },
    {
     "name": "stderr",
     "output_type": "stream",
     "text": [
      "                                                                                \r"
     ]
    },
    {
     "name": "stdout",
     "output_type": "stream",
     "text": [
      "Saved gs://my-bigdata-project-cm/aggregated/part-00008-674fe248-11d6-4e7c-9d78-8a273c7cc15b-c000.snappy.parquet\n",
      "Processing cleaned/yellow_tripdata_2020-03.parquet/part-00009-674fe248-11d6-4e7c-9d78-8a273c7cc15b-c000.snappy.parquet:\n"
     ]
    },
    {
     "name": "stderr",
     "output_type": "stream",
     "text": [
      "                                                                                \r"
     ]
    },
    {
     "name": "stdout",
     "output_type": "stream",
     "text": [
      "Saved gs://my-bigdata-project-cm/aggregated/part-00009-674fe248-11d6-4e7c-9d78-8a273c7cc15b-c000.snappy.parquet\n",
      "Processing cleaned/yellow_tripdata_2020-03.parquet/part-00010-674fe248-11d6-4e7c-9d78-8a273c7cc15b-c000.snappy.parquet:\n"
     ]
    },
    {
     "name": "stderr",
     "output_type": "stream",
     "text": [
      "                                                                                \r"
     ]
    },
    {
     "name": "stdout",
     "output_type": "stream",
     "text": [
      "Saved gs://my-bigdata-project-cm/aggregated/part-00010-674fe248-11d6-4e7c-9d78-8a273c7cc15b-c000.snappy.parquet\n",
      "Processing cleaned/yellow_tripdata_2020-03.parquet/part-00011-674fe248-11d6-4e7c-9d78-8a273c7cc15b-c000.snappy.parquet:\n"
     ]
    },
    {
     "name": "stderr",
     "output_type": "stream",
     "text": [
      "                                                                                \r"
     ]
    },
    {
     "name": "stdout",
     "output_type": "stream",
     "text": [
      "Saved gs://my-bigdata-project-cm/aggregated/part-00011-674fe248-11d6-4e7c-9d78-8a273c7cc15b-c000.snappy.parquet\n",
      "Processing cleaned/yellow_tripdata_2020-03.parquet/part-00012-674fe248-11d6-4e7c-9d78-8a273c7cc15b-c000.snappy.parquet:\n"
     ]
    },
    {
     "name": "stderr",
     "output_type": "stream",
     "text": [
      "                                                                                \r"
     ]
    },
    {
     "name": "stdout",
     "output_type": "stream",
     "text": [
      "Saved gs://my-bigdata-project-cm/aggregated/part-00012-674fe248-11d6-4e7c-9d78-8a273c7cc15b-c000.snappy.parquet\n",
      "Skipping file cleaned/yellow_tripdata_2020-04.parquet/\n",
      "Skipping file cleaned/yellow_tripdata_2020-04.parquet/_SUCCESS\n",
      "Processing cleaned/yellow_tripdata_2020-04.parquet/part-00000-215104af-016a-4a30-833d-e797e0bfa667-c000.snappy.parquet:\n"
     ]
    },
    {
     "name": "stderr",
     "output_type": "stream",
     "text": [
      "                                                                                \r"
     ]
    },
    {
     "name": "stdout",
     "output_type": "stream",
     "text": [
      "Saved gs://my-bigdata-project-cm/aggregated/part-00000-215104af-016a-4a30-833d-e797e0bfa667-c000.snappy.parquet\n",
      "Processing cleaned/yellow_tripdata_2020-04.parquet/part-00001-215104af-016a-4a30-833d-e797e0bfa667-c000.snappy.parquet:\n"
     ]
    },
    {
     "name": "stderr",
     "output_type": "stream",
     "text": [
      "                                                                                \r"
     ]
    },
    {
     "name": "stdout",
     "output_type": "stream",
     "text": [
      "Saved gs://my-bigdata-project-cm/aggregated/part-00001-215104af-016a-4a30-833d-e797e0bfa667-c000.snappy.parquet\n",
      "Processing cleaned/yellow_tripdata_2020-04.parquet/part-00002-215104af-016a-4a30-833d-e797e0bfa667-c000.snappy.parquet:\n"
     ]
    },
    {
     "name": "stderr",
     "output_type": "stream",
     "text": [
      "                                                                                \r"
     ]
    },
    {
     "name": "stdout",
     "output_type": "stream",
     "text": [
      "Saved gs://my-bigdata-project-cm/aggregated/part-00002-215104af-016a-4a30-833d-e797e0bfa667-c000.snappy.parquet\n",
      "Processing cleaned/yellow_tripdata_2020-04.parquet/part-00003-215104af-016a-4a30-833d-e797e0bfa667-c000.snappy.parquet:\n"
     ]
    },
    {
     "name": "stderr",
     "output_type": "stream",
     "text": [
      "                                                                                \r"
     ]
    },
    {
     "name": "stdout",
     "output_type": "stream",
     "text": [
      "Saved gs://my-bigdata-project-cm/aggregated/part-00003-215104af-016a-4a30-833d-e797e0bfa667-c000.snappy.parquet\n",
      "Processing cleaned/yellow_tripdata_2020-04.parquet/part-00004-215104af-016a-4a30-833d-e797e0bfa667-c000.snappy.parquet:\n"
     ]
    },
    {
     "name": "stderr",
     "output_type": "stream",
     "text": [
      "                                                                                \r"
     ]
    },
    {
     "name": "stdout",
     "output_type": "stream",
     "text": [
      "Saved gs://my-bigdata-project-cm/aggregated/part-00004-215104af-016a-4a30-833d-e797e0bfa667-c000.snappy.parquet\n",
      "Processing cleaned/yellow_tripdata_2020-04.parquet/part-00005-215104af-016a-4a30-833d-e797e0bfa667-c000.snappy.parquet:\n"
     ]
    },
    {
     "name": "stderr",
     "output_type": "stream",
     "text": [
      "                                                                                \r"
     ]
    },
    {
     "name": "stdout",
     "output_type": "stream",
     "text": [
      "Saved gs://my-bigdata-project-cm/aggregated/part-00005-215104af-016a-4a30-833d-e797e0bfa667-c000.snappy.parquet\n",
      "Processing cleaned/yellow_tripdata_2020-04.parquet/part-00006-215104af-016a-4a30-833d-e797e0bfa667-c000.snappy.parquet:\n"
     ]
    },
    {
     "name": "stderr",
     "output_type": "stream",
     "text": [
      "                                                                                \r"
     ]
    },
    {
     "name": "stdout",
     "output_type": "stream",
     "text": [
      "Saved gs://my-bigdata-project-cm/aggregated/part-00006-215104af-016a-4a30-833d-e797e0bfa667-c000.snappy.parquet\n",
      "Processing cleaned/yellow_tripdata_2020-04.parquet/part-00007-215104af-016a-4a30-833d-e797e0bfa667-c000.snappy.parquet:\n"
     ]
    },
    {
     "name": "stderr",
     "output_type": "stream",
     "text": [
      "                                                                                \r"
     ]
    },
    {
     "name": "stdout",
     "output_type": "stream",
     "text": [
      "Saved gs://my-bigdata-project-cm/aggregated/part-00007-215104af-016a-4a30-833d-e797e0bfa667-c000.snappy.parquet\n",
      "Processing cleaned/yellow_tripdata_2020-04.parquet/part-00008-215104af-016a-4a30-833d-e797e0bfa667-c000.snappy.parquet:\n"
     ]
    },
    {
     "name": "stderr",
     "output_type": "stream",
     "text": [
      "                                                                                \r"
     ]
    },
    {
     "name": "stdout",
     "output_type": "stream",
     "text": [
      "Saved gs://my-bigdata-project-cm/aggregated/part-00008-215104af-016a-4a30-833d-e797e0bfa667-c000.snappy.parquet\n",
      "Processing cleaned/yellow_tripdata_2020-04.parquet/part-00009-215104af-016a-4a30-833d-e797e0bfa667-c000.snappy.parquet:\n"
     ]
    },
    {
     "name": "stderr",
     "output_type": "stream",
     "text": [
      "                                                                                \r"
     ]
    },
    {
     "name": "stdout",
     "output_type": "stream",
     "text": [
      "Saved gs://my-bigdata-project-cm/aggregated/part-00009-215104af-016a-4a30-833d-e797e0bfa667-c000.snappy.parquet\n",
      "Processing cleaned/yellow_tripdata_2020-04.parquet/part-00010-215104af-016a-4a30-833d-e797e0bfa667-c000.snappy.parquet:\n"
     ]
    },
    {
     "name": "stderr",
     "output_type": "stream",
     "text": [
      "                                                                                \r"
     ]
    },
    {
     "name": "stdout",
     "output_type": "stream",
     "text": [
      "Saved gs://my-bigdata-project-cm/aggregated/part-00010-215104af-016a-4a30-833d-e797e0bfa667-c000.snappy.parquet\n",
      "Processing cleaned/yellow_tripdata_2020-04.parquet/part-00011-215104af-016a-4a30-833d-e797e0bfa667-c000.snappy.parquet:\n"
     ]
    },
    {
     "name": "stderr",
     "output_type": "stream",
     "text": [
      "                                                                                \r"
     ]
    },
    {
     "name": "stdout",
     "output_type": "stream",
     "text": [
      "Saved gs://my-bigdata-project-cm/aggregated/part-00011-215104af-016a-4a30-833d-e797e0bfa667-c000.snappy.parquet\n",
      "Skipping file cleaned/yellow_tripdata_2020-05.parquet/\n",
      "Skipping file cleaned/yellow_tripdata_2020-05.parquet/_SUCCESS\n",
      "Processing cleaned/yellow_tripdata_2020-05.parquet/part-00000-e4342d55-fbd2-4d97-b0a2-72452fc28d49-c000.snappy.parquet:\n"
     ]
    },
    {
     "name": "stderr",
     "output_type": "stream",
     "text": [
      "                                                                                \r"
     ]
    },
    {
     "name": "stdout",
     "output_type": "stream",
     "text": [
      "Saved gs://my-bigdata-project-cm/aggregated/part-00000-e4342d55-fbd2-4d97-b0a2-72452fc28d49-c000.snappy.parquet\n",
      "Processing cleaned/yellow_tripdata_2020-05.parquet/part-00001-e4342d55-fbd2-4d97-b0a2-72452fc28d49-c000.snappy.parquet:\n"
     ]
    },
    {
     "name": "stderr",
     "output_type": "stream",
     "text": [
      "                                                                                \r"
     ]
    },
    {
     "name": "stdout",
     "output_type": "stream",
     "text": [
      "Saved gs://my-bigdata-project-cm/aggregated/part-00001-e4342d55-fbd2-4d97-b0a2-72452fc28d49-c000.snappy.parquet\n",
      "Processing cleaned/yellow_tripdata_2020-05.parquet/part-00002-e4342d55-fbd2-4d97-b0a2-72452fc28d49-c000.snappy.parquet:\n"
     ]
    },
    {
     "name": "stderr",
     "output_type": "stream",
     "text": [
      "                                                                                \r"
     ]
    },
    {
     "name": "stdout",
     "output_type": "stream",
     "text": [
      "Saved gs://my-bigdata-project-cm/aggregated/part-00002-e4342d55-fbd2-4d97-b0a2-72452fc28d49-c000.snappy.parquet\n",
      "Processing cleaned/yellow_tripdata_2020-05.parquet/part-00003-e4342d55-fbd2-4d97-b0a2-72452fc28d49-c000.snappy.parquet:\n"
     ]
    },
    {
     "name": "stderr",
     "output_type": "stream",
     "text": [
      "                                                                                \r"
     ]
    },
    {
     "name": "stdout",
     "output_type": "stream",
     "text": [
      "Saved gs://my-bigdata-project-cm/aggregated/part-00003-e4342d55-fbd2-4d97-b0a2-72452fc28d49-c000.snappy.parquet\n",
      "Processing cleaned/yellow_tripdata_2020-05.parquet/part-00004-e4342d55-fbd2-4d97-b0a2-72452fc28d49-c000.snappy.parquet:\n"
     ]
    },
    {
     "name": "stderr",
     "output_type": "stream",
     "text": [
      "                                                                                \r"
     ]
    },
    {
     "name": "stdout",
     "output_type": "stream",
     "text": [
      "Saved gs://my-bigdata-project-cm/aggregated/part-00004-e4342d55-fbd2-4d97-b0a2-72452fc28d49-c000.snappy.parquet\n",
      "Processing cleaned/yellow_tripdata_2020-05.parquet/part-00005-e4342d55-fbd2-4d97-b0a2-72452fc28d49-c000.snappy.parquet:\n"
     ]
    },
    {
     "name": "stderr",
     "output_type": "stream",
     "text": [
      "                                                                                \r"
     ]
    },
    {
     "name": "stdout",
     "output_type": "stream",
     "text": [
      "Saved gs://my-bigdata-project-cm/aggregated/part-00005-e4342d55-fbd2-4d97-b0a2-72452fc28d49-c000.snappy.parquet\n",
      "Processing cleaned/yellow_tripdata_2020-05.parquet/part-00006-e4342d55-fbd2-4d97-b0a2-72452fc28d49-c000.snappy.parquet:\n"
     ]
    },
    {
     "name": "stderr",
     "output_type": "stream",
     "text": [
      "                                                                                \r"
     ]
    },
    {
     "name": "stdout",
     "output_type": "stream",
     "text": [
      "Saved gs://my-bigdata-project-cm/aggregated/part-00006-e4342d55-fbd2-4d97-b0a2-72452fc28d49-c000.snappy.parquet\n",
      "Processing cleaned/yellow_tripdata_2020-05.parquet/part-00007-e4342d55-fbd2-4d97-b0a2-72452fc28d49-c000.snappy.parquet:\n"
     ]
    },
    {
     "name": "stderr",
     "output_type": "stream",
     "text": [
      "                                                                                \r"
     ]
    },
    {
     "name": "stdout",
     "output_type": "stream",
     "text": [
      "Saved gs://my-bigdata-project-cm/aggregated/part-00007-e4342d55-fbd2-4d97-b0a2-72452fc28d49-c000.snappy.parquet\n",
      "Processing cleaned/yellow_tripdata_2020-05.parquet/part-00008-e4342d55-fbd2-4d97-b0a2-72452fc28d49-c000.snappy.parquet:\n"
     ]
    },
    {
     "name": "stderr",
     "output_type": "stream",
     "text": [
      "                                                                                \r"
     ]
    },
    {
     "name": "stdout",
     "output_type": "stream",
     "text": [
      "Saved gs://my-bigdata-project-cm/aggregated/part-00008-e4342d55-fbd2-4d97-b0a2-72452fc28d49-c000.snappy.parquet\n",
      "Processing cleaned/yellow_tripdata_2020-05.parquet/part-00009-e4342d55-fbd2-4d97-b0a2-72452fc28d49-c000.snappy.parquet:\n"
     ]
    },
    {
     "name": "stderr",
     "output_type": "stream",
     "text": [
      "                                                                                \r"
     ]
    },
    {
     "name": "stdout",
     "output_type": "stream",
     "text": [
      "Saved gs://my-bigdata-project-cm/aggregated/part-00009-e4342d55-fbd2-4d97-b0a2-72452fc28d49-c000.snappy.parquet\n",
      "Processing cleaned/yellow_tripdata_2020-05.parquet/part-00010-e4342d55-fbd2-4d97-b0a2-72452fc28d49-c000.snappy.parquet:\n"
     ]
    },
    {
     "name": "stderr",
     "output_type": "stream",
     "text": [
      "                                                                                \r"
     ]
    },
    {
     "name": "stdout",
     "output_type": "stream",
     "text": [
      "Saved gs://my-bigdata-project-cm/aggregated/part-00010-e4342d55-fbd2-4d97-b0a2-72452fc28d49-c000.snappy.parquet\n",
      "Processing cleaned/yellow_tripdata_2020-05.parquet/part-00011-e4342d55-fbd2-4d97-b0a2-72452fc28d49-c000.snappy.parquet:\n"
     ]
    },
    {
     "name": "stderr",
     "output_type": "stream",
     "text": [
      "                                                                                \r"
     ]
    },
    {
     "name": "stdout",
     "output_type": "stream",
     "text": [
      "Saved gs://my-bigdata-project-cm/aggregated/part-00011-e4342d55-fbd2-4d97-b0a2-72452fc28d49-c000.snappy.parquet\n",
      "Skipping file cleaned/yellow_tripdata_2020-06.parquet/\n",
      "Skipping file cleaned/yellow_tripdata_2020-06.parquet/_SUCCESS\n",
      "Processing cleaned/yellow_tripdata_2020-06.parquet/part-00000-5cad2298-40fe-493d-a6a3-de1f3f15eba1-c000.snappy.parquet:\n"
     ]
    },
    {
     "name": "stderr",
     "output_type": "stream",
     "text": [
      "                                                                                \r"
     ]
    },
    {
     "name": "stdout",
     "output_type": "stream",
     "text": [
      "Saved gs://my-bigdata-project-cm/aggregated/part-00000-5cad2298-40fe-493d-a6a3-de1f3f15eba1-c000.snappy.parquet\n",
      "Processing cleaned/yellow_tripdata_2020-06.parquet/part-00001-5cad2298-40fe-493d-a6a3-de1f3f15eba1-c000.snappy.parquet:\n"
     ]
    },
    {
     "name": "stderr",
     "output_type": "stream",
     "text": [
      "                                                                                \r"
     ]
    },
    {
     "name": "stdout",
     "output_type": "stream",
     "text": [
      "Saved gs://my-bigdata-project-cm/aggregated/part-00001-5cad2298-40fe-493d-a6a3-de1f3f15eba1-c000.snappy.parquet\n",
      "Processing cleaned/yellow_tripdata_2020-06.parquet/part-00002-5cad2298-40fe-493d-a6a3-de1f3f15eba1-c000.snappy.parquet:\n"
     ]
    },
    {
     "name": "stderr",
     "output_type": "stream",
     "text": [
      "                                                                                \r"
     ]
    },
    {
     "name": "stdout",
     "output_type": "stream",
     "text": [
      "Saved gs://my-bigdata-project-cm/aggregated/part-00002-5cad2298-40fe-493d-a6a3-de1f3f15eba1-c000.snappy.parquet\n",
      "Processing cleaned/yellow_tripdata_2020-06.parquet/part-00003-5cad2298-40fe-493d-a6a3-de1f3f15eba1-c000.snappy.parquet:\n"
     ]
    },
    {
     "name": "stderr",
     "output_type": "stream",
     "text": [
      "                                                                                \r"
     ]
    },
    {
     "name": "stdout",
     "output_type": "stream",
     "text": [
      "Saved gs://my-bigdata-project-cm/aggregated/part-00003-5cad2298-40fe-493d-a6a3-de1f3f15eba1-c000.snappy.parquet\n",
      "Processing cleaned/yellow_tripdata_2020-06.parquet/part-00004-5cad2298-40fe-493d-a6a3-de1f3f15eba1-c000.snappy.parquet:\n"
     ]
    },
    {
     "name": "stderr",
     "output_type": "stream",
     "text": [
      "                                                                                \r"
     ]
    },
    {
     "name": "stdout",
     "output_type": "stream",
     "text": [
      "Saved gs://my-bigdata-project-cm/aggregated/part-00004-5cad2298-40fe-493d-a6a3-de1f3f15eba1-c000.snappy.parquet\n",
      "Processing cleaned/yellow_tripdata_2020-06.parquet/part-00005-5cad2298-40fe-493d-a6a3-de1f3f15eba1-c000.snappy.parquet:\n"
     ]
    },
    {
     "name": "stderr",
     "output_type": "stream",
     "text": [
      "                                                                                \r"
     ]
    },
    {
     "name": "stdout",
     "output_type": "stream",
     "text": [
      "Saved gs://my-bigdata-project-cm/aggregated/part-00005-5cad2298-40fe-493d-a6a3-de1f3f15eba1-c000.snappy.parquet\n",
      "Processing cleaned/yellow_tripdata_2020-06.parquet/part-00006-5cad2298-40fe-493d-a6a3-de1f3f15eba1-c000.snappy.parquet:\n"
     ]
    },
    {
     "name": "stderr",
     "output_type": "stream",
     "text": [
      "                                                                                \r"
     ]
    },
    {
     "name": "stdout",
     "output_type": "stream",
     "text": [
      "Saved gs://my-bigdata-project-cm/aggregated/part-00006-5cad2298-40fe-493d-a6a3-de1f3f15eba1-c000.snappy.parquet\n",
      "Processing cleaned/yellow_tripdata_2020-06.parquet/part-00007-5cad2298-40fe-493d-a6a3-de1f3f15eba1-c000.snappy.parquet:\n"
     ]
    },
    {
     "name": "stderr",
     "output_type": "stream",
     "text": [
      "                                                                                \r"
     ]
    },
    {
     "name": "stdout",
     "output_type": "stream",
     "text": [
      "Saved gs://my-bigdata-project-cm/aggregated/part-00007-5cad2298-40fe-493d-a6a3-de1f3f15eba1-c000.snappy.parquet\n",
      "Processing cleaned/yellow_tripdata_2020-06.parquet/part-00008-5cad2298-40fe-493d-a6a3-de1f3f15eba1-c000.snappy.parquet:\n"
     ]
    },
    {
     "name": "stderr",
     "output_type": "stream",
     "text": [
      "                                                                                \r"
     ]
    },
    {
     "name": "stdout",
     "output_type": "stream",
     "text": [
      "Saved gs://my-bigdata-project-cm/aggregated/part-00008-5cad2298-40fe-493d-a6a3-de1f3f15eba1-c000.snappy.parquet\n",
      "Processing cleaned/yellow_tripdata_2020-06.parquet/part-00009-5cad2298-40fe-493d-a6a3-de1f3f15eba1-c000.snappy.parquet:\n"
     ]
    },
    {
     "name": "stderr",
     "output_type": "stream",
     "text": [
      "                                                                                \r"
     ]
    },
    {
     "name": "stdout",
     "output_type": "stream",
     "text": [
      "Saved gs://my-bigdata-project-cm/aggregated/part-00009-5cad2298-40fe-493d-a6a3-de1f3f15eba1-c000.snappy.parquet\n",
      "Processing cleaned/yellow_tripdata_2020-06.parquet/part-00010-5cad2298-40fe-493d-a6a3-de1f3f15eba1-c000.snappy.parquet:\n"
     ]
    },
    {
     "name": "stderr",
     "output_type": "stream",
     "text": [
      "                                                                                \r"
     ]
    },
    {
     "name": "stdout",
     "output_type": "stream",
     "text": [
      "Saved gs://my-bigdata-project-cm/aggregated/part-00010-5cad2298-40fe-493d-a6a3-de1f3f15eba1-c000.snappy.parquet\n",
      "Processing cleaned/yellow_tripdata_2020-06.parquet/part-00011-5cad2298-40fe-493d-a6a3-de1f3f15eba1-c000.snappy.parquet:\n"
     ]
    },
    {
     "name": "stderr",
     "output_type": "stream",
     "text": [
      "                                                                                \r"
     ]
    },
    {
     "name": "stdout",
     "output_type": "stream",
     "text": [
      "Saved gs://my-bigdata-project-cm/aggregated/part-00011-5cad2298-40fe-493d-a6a3-de1f3f15eba1-c000.snappy.parquet\n",
      "Skipping file cleaned/yellow_tripdata_2020-07.parquet/\n",
      "Skipping file cleaned/yellow_tripdata_2020-07.parquet/_SUCCESS\n",
      "Processing cleaned/yellow_tripdata_2020-07.parquet/part-00000-138013c0-9122-451a-9595-9434c8b92697-c000.snappy.parquet:\n"
     ]
    },
    {
     "name": "stderr",
     "output_type": "stream",
     "text": [
      "                                                                                \r"
     ]
    },
    {
     "name": "stdout",
     "output_type": "stream",
     "text": [
      "Saved gs://my-bigdata-project-cm/aggregated/part-00000-138013c0-9122-451a-9595-9434c8b92697-c000.snappy.parquet\n",
      "Processing cleaned/yellow_tripdata_2020-07.parquet/part-00001-138013c0-9122-451a-9595-9434c8b92697-c000.snappy.parquet:\n"
     ]
    },
    {
     "name": "stderr",
     "output_type": "stream",
     "text": [
      "                                                                                \r"
     ]
    },
    {
     "name": "stdout",
     "output_type": "stream",
     "text": [
      "Saved gs://my-bigdata-project-cm/aggregated/part-00001-138013c0-9122-451a-9595-9434c8b92697-c000.snappy.parquet\n",
      "Processing cleaned/yellow_tripdata_2020-07.parquet/part-00002-138013c0-9122-451a-9595-9434c8b92697-c000.snappy.parquet:\n"
     ]
    },
    {
     "name": "stderr",
     "output_type": "stream",
     "text": [
      "                                                                                \r"
     ]
    },
    {
     "name": "stdout",
     "output_type": "stream",
     "text": [
      "Saved gs://my-bigdata-project-cm/aggregated/part-00002-138013c0-9122-451a-9595-9434c8b92697-c000.snappy.parquet\n",
      "Processing cleaned/yellow_tripdata_2020-07.parquet/part-00003-138013c0-9122-451a-9595-9434c8b92697-c000.snappy.parquet:\n"
     ]
    },
    {
     "name": "stderr",
     "output_type": "stream",
     "text": [
      "                                                                                \r"
     ]
    },
    {
     "name": "stdout",
     "output_type": "stream",
     "text": [
      "Saved gs://my-bigdata-project-cm/aggregated/part-00003-138013c0-9122-451a-9595-9434c8b92697-c000.snappy.parquet\n",
      "Processing cleaned/yellow_tripdata_2020-07.parquet/part-00004-138013c0-9122-451a-9595-9434c8b92697-c000.snappy.parquet:\n"
     ]
    },
    {
     "name": "stderr",
     "output_type": "stream",
     "text": [
      "                                                                                \r"
     ]
    },
    {
     "name": "stdout",
     "output_type": "stream",
     "text": [
      "Saved gs://my-bigdata-project-cm/aggregated/part-00004-138013c0-9122-451a-9595-9434c8b92697-c000.snappy.parquet\n",
      "Processing cleaned/yellow_tripdata_2020-07.parquet/part-00005-138013c0-9122-451a-9595-9434c8b92697-c000.snappy.parquet:\n"
     ]
    },
    {
     "name": "stderr",
     "output_type": "stream",
     "text": [
      "                                                                                \r"
     ]
    },
    {
     "name": "stdout",
     "output_type": "stream",
     "text": [
      "Saved gs://my-bigdata-project-cm/aggregated/part-00005-138013c0-9122-451a-9595-9434c8b92697-c000.snappy.parquet\n",
      "Processing cleaned/yellow_tripdata_2020-07.parquet/part-00006-138013c0-9122-451a-9595-9434c8b92697-c000.snappy.parquet:\n"
     ]
    },
    {
     "name": "stderr",
     "output_type": "stream",
     "text": [
      "                                                                                \r"
     ]
    },
    {
     "name": "stdout",
     "output_type": "stream",
     "text": [
      "Saved gs://my-bigdata-project-cm/aggregated/part-00006-138013c0-9122-451a-9595-9434c8b92697-c000.snappy.parquet\n",
      "Processing cleaned/yellow_tripdata_2020-07.parquet/part-00007-138013c0-9122-451a-9595-9434c8b92697-c000.snappy.parquet:\n"
     ]
    },
    {
     "name": "stderr",
     "output_type": "stream",
     "text": [
      "                                                                                \r"
     ]
    },
    {
     "name": "stdout",
     "output_type": "stream",
     "text": [
      "Saved gs://my-bigdata-project-cm/aggregated/part-00007-138013c0-9122-451a-9595-9434c8b92697-c000.snappy.parquet\n",
      "Processing cleaned/yellow_tripdata_2020-07.parquet/part-00008-138013c0-9122-451a-9595-9434c8b92697-c000.snappy.parquet:\n"
     ]
    },
    {
     "name": "stderr",
     "output_type": "stream",
     "text": [
      "                                                                                \r"
     ]
    },
    {
     "name": "stdout",
     "output_type": "stream",
     "text": [
      "Saved gs://my-bigdata-project-cm/aggregated/part-00008-138013c0-9122-451a-9595-9434c8b92697-c000.snappy.parquet\n",
      "Processing cleaned/yellow_tripdata_2020-07.parquet/part-00009-138013c0-9122-451a-9595-9434c8b92697-c000.snappy.parquet:\n"
     ]
    },
    {
     "name": "stderr",
     "output_type": "stream",
     "text": [
      "                                                                                \r"
     ]
    },
    {
     "name": "stdout",
     "output_type": "stream",
     "text": [
      "Saved gs://my-bigdata-project-cm/aggregated/part-00009-138013c0-9122-451a-9595-9434c8b92697-c000.snappy.parquet\n",
      "Processing cleaned/yellow_tripdata_2020-07.parquet/part-00010-138013c0-9122-451a-9595-9434c8b92697-c000.snappy.parquet:\n"
     ]
    },
    {
     "name": "stderr",
     "output_type": "stream",
     "text": [
      "                                                                                \r"
     ]
    },
    {
     "name": "stdout",
     "output_type": "stream",
     "text": [
      "Saved gs://my-bigdata-project-cm/aggregated/part-00010-138013c0-9122-451a-9595-9434c8b92697-c000.snappy.parquet\n",
      "Processing cleaned/yellow_tripdata_2020-07.parquet/part-00011-138013c0-9122-451a-9595-9434c8b92697-c000.snappy.parquet:\n"
     ]
    },
    {
     "name": "stderr",
     "output_type": "stream",
     "text": [
      "                                                                                \r"
     ]
    },
    {
     "name": "stdout",
     "output_type": "stream",
     "text": [
      "Saved gs://my-bigdata-project-cm/aggregated/part-00011-138013c0-9122-451a-9595-9434c8b92697-c000.snappy.parquet\n",
      "Skipping file cleaned/yellow_tripdata_2020-08.parquet/\n",
      "Skipping file cleaned/yellow_tripdata_2020-08.parquet/_SUCCESS\n",
      "Processing cleaned/yellow_tripdata_2020-08.parquet/part-00000-3c9d45de-0ed9-4dea-9765-7adfd3b02d1c-c000.snappy.parquet:\n"
     ]
    },
    {
     "name": "stderr",
     "output_type": "stream",
     "text": [
      "                                                                                \r"
     ]
    },
    {
     "name": "stdout",
     "output_type": "stream",
     "text": [
      "Saved gs://my-bigdata-project-cm/aggregated/part-00000-3c9d45de-0ed9-4dea-9765-7adfd3b02d1c-c000.snappy.parquet\n",
      "Processing cleaned/yellow_tripdata_2020-08.parquet/part-00001-3c9d45de-0ed9-4dea-9765-7adfd3b02d1c-c000.snappy.parquet:\n"
     ]
    },
    {
     "name": "stderr",
     "output_type": "stream",
     "text": [
      "                                                                                \r"
     ]
    },
    {
     "name": "stdout",
     "output_type": "stream",
     "text": [
      "Saved gs://my-bigdata-project-cm/aggregated/part-00001-3c9d45de-0ed9-4dea-9765-7adfd3b02d1c-c000.snappy.parquet\n",
      "Processing cleaned/yellow_tripdata_2020-08.parquet/part-00002-3c9d45de-0ed9-4dea-9765-7adfd3b02d1c-c000.snappy.parquet:\n"
     ]
    },
    {
     "name": "stderr",
     "output_type": "stream",
     "text": [
      "                                                                                \r"
     ]
    },
    {
     "name": "stdout",
     "output_type": "stream",
     "text": [
      "Saved gs://my-bigdata-project-cm/aggregated/part-00002-3c9d45de-0ed9-4dea-9765-7adfd3b02d1c-c000.snappy.parquet\n",
      "Processing cleaned/yellow_tripdata_2020-08.parquet/part-00003-3c9d45de-0ed9-4dea-9765-7adfd3b02d1c-c000.snappy.parquet:\n"
     ]
    },
    {
     "name": "stderr",
     "output_type": "stream",
     "text": [
      "                                                                                \r"
     ]
    },
    {
     "name": "stdout",
     "output_type": "stream",
     "text": [
      "Saved gs://my-bigdata-project-cm/aggregated/part-00003-3c9d45de-0ed9-4dea-9765-7adfd3b02d1c-c000.snappy.parquet\n",
      "Processing cleaned/yellow_tripdata_2020-08.parquet/part-00004-3c9d45de-0ed9-4dea-9765-7adfd3b02d1c-c000.snappy.parquet:\n"
     ]
    },
    {
     "name": "stderr",
     "output_type": "stream",
     "text": [
      "                                                                                \r"
     ]
    },
    {
     "name": "stdout",
     "output_type": "stream",
     "text": [
      "Saved gs://my-bigdata-project-cm/aggregated/part-00004-3c9d45de-0ed9-4dea-9765-7adfd3b02d1c-c000.snappy.parquet\n",
      "Processing cleaned/yellow_tripdata_2020-08.parquet/part-00005-3c9d45de-0ed9-4dea-9765-7adfd3b02d1c-c000.snappy.parquet:\n"
     ]
    },
    {
     "name": "stderr",
     "output_type": "stream",
     "text": [
      "                                                                                \r"
     ]
    },
    {
     "name": "stdout",
     "output_type": "stream",
     "text": [
      "Saved gs://my-bigdata-project-cm/aggregated/part-00005-3c9d45de-0ed9-4dea-9765-7adfd3b02d1c-c000.snappy.parquet\n",
      "Processing cleaned/yellow_tripdata_2020-08.parquet/part-00006-3c9d45de-0ed9-4dea-9765-7adfd3b02d1c-c000.snappy.parquet:\n"
     ]
    },
    {
     "name": "stderr",
     "output_type": "stream",
     "text": [
      "                                                                                \r"
     ]
    },
    {
     "name": "stdout",
     "output_type": "stream",
     "text": [
      "Saved gs://my-bigdata-project-cm/aggregated/part-00006-3c9d45de-0ed9-4dea-9765-7adfd3b02d1c-c000.snappy.parquet\n",
      "Processing cleaned/yellow_tripdata_2020-08.parquet/part-00007-3c9d45de-0ed9-4dea-9765-7adfd3b02d1c-c000.snappy.parquet:\n"
     ]
    },
    {
     "name": "stderr",
     "output_type": "stream",
     "text": [
      "                                                                                \r"
     ]
    },
    {
     "name": "stdout",
     "output_type": "stream",
     "text": [
      "Saved gs://my-bigdata-project-cm/aggregated/part-00007-3c9d45de-0ed9-4dea-9765-7adfd3b02d1c-c000.snappy.parquet\n",
      "Processing cleaned/yellow_tripdata_2020-08.parquet/part-00008-3c9d45de-0ed9-4dea-9765-7adfd3b02d1c-c000.snappy.parquet:\n"
     ]
    },
    {
     "name": "stderr",
     "output_type": "stream",
     "text": [
      "                                                                                \r"
     ]
    },
    {
     "name": "stdout",
     "output_type": "stream",
     "text": [
      "Saved gs://my-bigdata-project-cm/aggregated/part-00008-3c9d45de-0ed9-4dea-9765-7adfd3b02d1c-c000.snappy.parquet\n",
      "Processing cleaned/yellow_tripdata_2020-08.parquet/part-00009-3c9d45de-0ed9-4dea-9765-7adfd3b02d1c-c000.snappy.parquet:\n"
     ]
    },
    {
     "name": "stderr",
     "output_type": "stream",
     "text": [
      "                                                                                \r"
     ]
    },
    {
     "name": "stdout",
     "output_type": "stream",
     "text": [
      "Saved gs://my-bigdata-project-cm/aggregated/part-00009-3c9d45de-0ed9-4dea-9765-7adfd3b02d1c-c000.snappy.parquet\n",
      "Processing cleaned/yellow_tripdata_2020-08.parquet/part-00010-3c9d45de-0ed9-4dea-9765-7adfd3b02d1c-c000.snappy.parquet:\n"
     ]
    },
    {
     "name": "stderr",
     "output_type": "stream",
     "text": [
      "                                                                                \r"
     ]
    },
    {
     "name": "stdout",
     "output_type": "stream",
     "text": [
      "Saved gs://my-bigdata-project-cm/aggregated/part-00010-3c9d45de-0ed9-4dea-9765-7adfd3b02d1c-c000.snappy.parquet\n",
      "Processing cleaned/yellow_tripdata_2020-08.parquet/part-00011-3c9d45de-0ed9-4dea-9765-7adfd3b02d1c-c000.snappy.parquet:\n"
     ]
    },
    {
     "name": "stderr",
     "output_type": "stream",
     "text": [
      "                                                                                \r"
     ]
    },
    {
     "name": "stdout",
     "output_type": "stream",
     "text": [
      "Saved gs://my-bigdata-project-cm/aggregated/part-00011-3c9d45de-0ed9-4dea-9765-7adfd3b02d1c-c000.snappy.parquet\n",
      "Skipping file cleaned/yellow_tripdata_2020-09.parquet/\n",
      "Skipping file cleaned/yellow_tripdata_2020-09.parquet/_SUCCESS\n",
      "Processing cleaned/yellow_tripdata_2020-09.parquet/part-00000-54ef7edf-ac20-45d3-bf76-08971b8b71fe-c000.snappy.parquet:\n"
     ]
    },
    {
     "name": "stderr",
     "output_type": "stream",
     "text": [
      "                                                                                \r"
     ]
    },
    {
     "name": "stdout",
     "output_type": "stream",
     "text": [
      "Saved gs://my-bigdata-project-cm/aggregated/part-00000-54ef7edf-ac20-45d3-bf76-08971b8b71fe-c000.snappy.parquet\n",
      "Processing cleaned/yellow_tripdata_2020-09.parquet/part-00001-54ef7edf-ac20-45d3-bf76-08971b8b71fe-c000.snappy.parquet:\n"
     ]
    },
    {
     "name": "stderr",
     "output_type": "stream",
     "text": [
      "                                                                                \r"
     ]
    },
    {
     "name": "stdout",
     "output_type": "stream",
     "text": [
      "Saved gs://my-bigdata-project-cm/aggregated/part-00001-54ef7edf-ac20-45d3-bf76-08971b8b71fe-c000.snappy.parquet\n",
      "Processing cleaned/yellow_tripdata_2020-09.parquet/part-00002-54ef7edf-ac20-45d3-bf76-08971b8b71fe-c000.snappy.parquet:\n"
     ]
    },
    {
     "name": "stderr",
     "output_type": "stream",
     "text": [
      "                                                                                \r"
     ]
    },
    {
     "name": "stdout",
     "output_type": "stream",
     "text": [
      "Saved gs://my-bigdata-project-cm/aggregated/part-00002-54ef7edf-ac20-45d3-bf76-08971b8b71fe-c000.snappy.parquet\n",
      "Processing cleaned/yellow_tripdata_2020-09.parquet/part-00003-54ef7edf-ac20-45d3-bf76-08971b8b71fe-c000.snappy.parquet:\n"
     ]
    },
    {
     "name": "stderr",
     "output_type": "stream",
     "text": [
      "                                                                                \r"
     ]
    },
    {
     "name": "stdout",
     "output_type": "stream",
     "text": [
      "Saved gs://my-bigdata-project-cm/aggregated/part-00003-54ef7edf-ac20-45d3-bf76-08971b8b71fe-c000.snappy.parquet\n",
      "Processing cleaned/yellow_tripdata_2020-09.parquet/part-00004-54ef7edf-ac20-45d3-bf76-08971b8b71fe-c000.snappy.parquet:\n"
     ]
    },
    {
     "name": "stderr",
     "output_type": "stream",
     "text": [
      "                                                                                \r"
     ]
    },
    {
     "name": "stdout",
     "output_type": "stream",
     "text": [
      "Saved gs://my-bigdata-project-cm/aggregated/part-00004-54ef7edf-ac20-45d3-bf76-08971b8b71fe-c000.snappy.parquet\n",
      "Processing cleaned/yellow_tripdata_2020-09.parquet/part-00005-54ef7edf-ac20-45d3-bf76-08971b8b71fe-c000.snappy.parquet:\n"
     ]
    },
    {
     "name": "stderr",
     "output_type": "stream",
     "text": [
      "                                                                                \r"
     ]
    },
    {
     "name": "stdout",
     "output_type": "stream",
     "text": [
      "Saved gs://my-bigdata-project-cm/aggregated/part-00005-54ef7edf-ac20-45d3-bf76-08971b8b71fe-c000.snappy.parquet\n",
      "Processing cleaned/yellow_tripdata_2020-09.parquet/part-00006-54ef7edf-ac20-45d3-bf76-08971b8b71fe-c000.snappy.parquet:\n"
     ]
    },
    {
     "name": "stderr",
     "output_type": "stream",
     "text": [
      "                                                                                \r"
     ]
    },
    {
     "name": "stdout",
     "output_type": "stream",
     "text": [
      "Saved gs://my-bigdata-project-cm/aggregated/part-00006-54ef7edf-ac20-45d3-bf76-08971b8b71fe-c000.snappy.parquet\n",
      "Processing cleaned/yellow_tripdata_2020-09.parquet/part-00007-54ef7edf-ac20-45d3-bf76-08971b8b71fe-c000.snappy.parquet:\n"
     ]
    },
    {
     "name": "stderr",
     "output_type": "stream",
     "text": [
      "                                                                                \r"
     ]
    },
    {
     "name": "stdout",
     "output_type": "stream",
     "text": [
      "Saved gs://my-bigdata-project-cm/aggregated/part-00007-54ef7edf-ac20-45d3-bf76-08971b8b71fe-c000.snappy.parquet\n",
      "Processing cleaned/yellow_tripdata_2020-09.parquet/part-00008-54ef7edf-ac20-45d3-bf76-08971b8b71fe-c000.snappy.parquet:\n"
     ]
    },
    {
     "name": "stderr",
     "output_type": "stream",
     "text": [
      "                                                                                \r"
     ]
    },
    {
     "name": "stdout",
     "output_type": "stream",
     "text": [
      "Saved gs://my-bigdata-project-cm/aggregated/part-00008-54ef7edf-ac20-45d3-bf76-08971b8b71fe-c000.snappy.parquet\n",
      "Processing cleaned/yellow_tripdata_2020-09.parquet/part-00009-54ef7edf-ac20-45d3-bf76-08971b8b71fe-c000.snappy.parquet:\n"
     ]
    },
    {
     "name": "stderr",
     "output_type": "stream",
     "text": [
      "                                                                                \r"
     ]
    },
    {
     "name": "stdout",
     "output_type": "stream",
     "text": [
      "Saved gs://my-bigdata-project-cm/aggregated/part-00009-54ef7edf-ac20-45d3-bf76-08971b8b71fe-c000.snappy.parquet\n",
      "Processing cleaned/yellow_tripdata_2020-09.parquet/part-00010-54ef7edf-ac20-45d3-bf76-08971b8b71fe-c000.snappy.parquet:\n"
     ]
    },
    {
     "name": "stderr",
     "output_type": "stream",
     "text": [
      "                                                                                \r"
     ]
    },
    {
     "name": "stdout",
     "output_type": "stream",
     "text": [
      "Saved gs://my-bigdata-project-cm/aggregated/part-00010-54ef7edf-ac20-45d3-bf76-08971b8b71fe-c000.snappy.parquet\n",
      "Processing cleaned/yellow_tripdata_2020-09.parquet/part-00011-54ef7edf-ac20-45d3-bf76-08971b8b71fe-c000.snappy.parquet:\n"
     ]
    },
    {
     "name": "stderr",
     "output_type": "stream",
     "text": [
      "                                                                                \r"
     ]
    },
    {
     "name": "stdout",
     "output_type": "stream",
     "text": [
      "Saved gs://my-bigdata-project-cm/aggregated/part-00011-54ef7edf-ac20-45d3-bf76-08971b8b71fe-c000.snappy.parquet\n",
      "Skipping file cleaned/yellow_tripdata_2020-10.parquet/\n",
      "Skipping file cleaned/yellow_tripdata_2020-10.parquet/_SUCCESS\n",
      "Processing cleaned/yellow_tripdata_2020-10.parquet/part-00000-41b7e589-f3cf-4d65-8920-61d0d004bb62-c000.snappy.parquet:\n"
     ]
    },
    {
     "name": "stderr",
     "output_type": "stream",
     "text": [
      "                                                                                \r"
     ]
    },
    {
     "name": "stdout",
     "output_type": "stream",
     "text": [
      "Saved gs://my-bigdata-project-cm/aggregated/part-00000-41b7e589-f3cf-4d65-8920-61d0d004bb62-c000.snappy.parquet\n",
      "Processing cleaned/yellow_tripdata_2020-10.parquet/part-00001-41b7e589-f3cf-4d65-8920-61d0d004bb62-c000.snappy.parquet:\n"
     ]
    },
    {
     "name": "stderr",
     "output_type": "stream",
     "text": [
      "                                                                                \r"
     ]
    },
    {
     "name": "stdout",
     "output_type": "stream",
     "text": [
      "Saved gs://my-bigdata-project-cm/aggregated/part-00001-41b7e589-f3cf-4d65-8920-61d0d004bb62-c000.snappy.parquet\n",
      "Processing cleaned/yellow_tripdata_2020-10.parquet/part-00002-41b7e589-f3cf-4d65-8920-61d0d004bb62-c000.snappy.parquet:\n"
     ]
    },
    {
     "name": "stderr",
     "output_type": "stream",
     "text": [
      "                                                                                \r"
     ]
    },
    {
     "name": "stdout",
     "output_type": "stream",
     "text": [
      "Saved gs://my-bigdata-project-cm/aggregated/part-00002-41b7e589-f3cf-4d65-8920-61d0d004bb62-c000.snappy.parquet\n",
      "Processing cleaned/yellow_tripdata_2020-10.parquet/part-00003-41b7e589-f3cf-4d65-8920-61d0d004bb62-c000.snappy.parquet:\n"
     ]
    },
    {
     "name": "stderr",
     "output_type": "stream",
     "text": [
      "                                                                                \r"
     ]
    },
    {
     "name": "stdout",
     "output_type": "stream",
     "text": [
      "Saved gs://my-bigdata-project-cm/aggregated/part-00003-41b7e589-f3cf-4d65-8920-61d0d004bb62-c000.snappy.parquet\n",
      "Processing cleaned/yellow_tripdata_2020-10.parquet/part-00004-41b7e589-f3cf-4d65-8920-61d0d004bb62-c000.snappy.parquet:\n"
     ]
    },
    {
     "name": "stderr",
     "output_type": "stream",
     "text": [
      "                                                                                \r"
     ]
    },
    {
     "name": "stdout",
     "output_type": "stream",
     "text": [
      "Saved gs://my-bigdata-project-cm/aggregated/part-00004-41b7e589-f3cf-4d65-8920-61d0d004bb62-c000.snappy.parquet\n",
      "Processing cleaned/yellow_tripdata_2020-10.parquet/part-00005-41b7e589-f3cf-4d65-8920-61d0d004bb62-c000.snappy.parquet:\n"
     ]
    },
    {
     "name": "stderr",
     "output_type": "stream",
     "text": [
      "                                                                                \r"
     ]
    },
    {
     "name": "stdout",
     "output_type": "stream",
     "text": [
      "Saved gs://my-bigdata-project-cm/aggregated/part-00005-41b7e589-f3cf-4d65-8920-61d0d004bb62-c000.snappy.parquet\n",
      "Processing cleaned/yellow_tripdata_2020-10.parquet/part-00006-41b7e589-f3cf-4d65-8920-61d0d004bb62-c000.snappy.parquet:\n"
     ]
    },
    {
     "name": "stderr",
     "output_type": "stream",
     "text": [
      "                                                                                \r"
     ]
    },
    {
     "name": "stdout",
     "output_type": "stream",
     "text": [
      "Saved gs://my-bigdata-project-cm/aggregated/part-00006-41b7e589-f3cf-4d65-8920-61d0d004bb62-c000.snappy.parquet\n",
      "Processing cleaned/yellow_tripdata_2020-10.parquet/part-00007-41b7e589-f3cf-4d65-8920-61d0d004bb62-c000.snappy.parquet:\n"
     ]
    },
    {
     "name": "stderr",
     "output_type": "stream",
     "text": [
      "                                                                                \r"
     ]
    },
    {
     "name": "stdout",
     "output_type": "stream",
     "text": [
      "Saved gs://my-bigdata-project-cm/aggregated/part-00007-41b7e589-f3cf-4d65-8920-61d0d004bb62-c000.snappy.parquet\n",
      "Processing cleaned/yellow_tripdata_2020-10.parquet/part-00008-41b7e589-f3cf-4d65-8920-61d0d004bb62-c000.snappy.parquet:\n"
     ]
    },
    {
     "name": "stderr",
     "output_type": "stream",
     "text": [
      "                                                                                \r"
     ]
    },
    {
     "name": "stdout",
     "output_type": "stream",
     "text": [
      "Saved gs://my-bigdata-project-cm/aggregated/part-00008-41b7e589-f3cf-4d65-8920-61d0d004bb62-c000.snappy.parquet\n",
      "Processing cleaned/yellow_tripdata_2020-10.parquet/part-00009-41b7e589-f3cf-4d65-8920-61d0d004bb62-c000.snappy.parquet:\n"
     ]
    },
    {
     "name": "stderr",
     "output_type": "stream",
     "text": [
      "                                                                                \r"
     ]
    },
    {
     "name": "stdout",
     "output_type": "stream",
     "text": [
      "Saved gs://my-bigdata-project-cm/aggregated/part-00009-41b7e589-f3cf-4d65-8920-61d0d004bb62-c000.snappy.parquet\n",
      "Processing cleaned/yellow_tripdata_2020-10.parquet/part-00010-41b7e589-f3cf-4d65-8920-61d0d004bb62-c000.snappy.parquet:\n"
     ]
    },
    {
     "name": "stderr",
     "output_type": "stream",
     "text": [
      "                                                                                \r"
     ]
    },
    {
     "name": "stdout",
     "output_type": "stream",
     "text": [
      "Saved gs://my-bigdata-project-cm/aggregated/part-00010-41b7e589-f3cf-4d65-8920-61d0d004bb62-c000.snappy.parquet\n",
      "Processing cleaned/yellow_tripdata_2020-10.parquet/part-00011-41b7e589-f3cf-4d65-8920-61d0d004bb62-c000.snappy.parquet:\n"
     ]
    },
    {
     "name": "stderr",
     "output_type": "stream",
     "text": [
      "                                                                                \r"
     ]
    },
    {
     "name": "stdout",
     "output_type": "stream",
     "text": [
      "Saved gs://my-bigdata-project-cm/aggregated/part-00011-41b7e589-f3cf-4d65-8920-61d0d004bb62-c000.snappy.parquet\n",
      "Skipping file cleaned/yellow_tripdata_2020-11.parquet/\n",
      "Skipping file cleaned/yellow_tripdata_2020-11.parquet/_SUCCESS\n",
      "Processing cleaned/yellow_tripdata_2020-11.parquet/part-00000-af1e844f-026a-4107-8d43-0799d7951b2f-c000.snappy.parquet:\n"
     ]
    },
    {
     "name": "stderr",
     "output_type": "stream",
     "text": [
      "                                                                                \r"
     ]
    },
    {
     "name": "stdout",
     "output_type": "stream",
     "text": [
      "Saved gs://my-bigdata-project-cm/aggregated/part-00000-af1e844f-026a-4107-8d43-0799d7951b2f-c000.snappy.parquet\n",
      "Processing cleaned/yellow_tripdata_2020-11.parquet/part-00001-af1e844f-026a-4107-8d43-0799d7951b2f-c000.snappy.parquet:\n"
     ]
    },
    {
     "name": "stderr",
     "output_type": "stream",
     "text": [
      "                                                                                \r"
     ]
    },
    {
     "name": "stdout",
     "output_type": "stream",
     "text": [
      "Saved gs://my-bigdata-project-cm/aggregated/part-00001-af1e844f-026a-4107-8d43-0799d7951b2f-c000.snappy.parquet\n",
      "Processing cleaned/yellow_tripdata_2020-11.parquet/part-00002-af1e844f-026a-4107-8d43-0799d7951b2f-c000.snappy.parquet:\n"
     ]
    },
    {
     "name": "stderr",
     "output_type": "stream",
     "text": [
      "                                                                                \r"
     ]
    },
    {
     "name": "stdout",
     "output_type": "stream",
     "text": [
      "Saved gs://my-bigdata-project-cm/aggregated/part-00002-af1e844f-026a-4107-8d43-0799d7951b2f-c000.snappy.parquet\n",
      "Processing cleaned/yellow_tripdata_2020-11.parquet/part-00003-af1e844f-026a-4107-8d43-0799d7951b2f-c000.snappy.parquet:\n"
     ]
    },
    {
     "name": "stderr",
     "output_type": "stream",
     "text": [
      "                                                                                \r"
     ]
    },
    {
     "name": "stdout",
     "output_type": "stream",
     "text": [
      "Saved gs://my-bigdata-project-cm/aggregated/part-00003-af1e844f-026a-4107-8d43-0799d7951b2f-c000.snappy.parquet\n",
      "Processing cleaned/yellow_tripdata_2020-11.parquet/part-00004-af1e844f-026a-4107-8d43-0799d7951b2f-c000.snappy.parquet:\n"
     ]
    },
    {
     "name": "stderr",
     "output_type": "stream",
     "text": [
      "                                                                                \r"
     ]
    },
    {
     "name": "stdout",
     "output_type": "stream",
     "text": [
      "Saved gs://my-bigdata-project-cm/aggregated/part-00004-af1e844f-026a-4107-8d43-0799d7951b2f-c000.snappy.parquet\n",
      "Processing cleaned/yellow_tripdata_2020-11.parquet/part-00005-af1e844f-026a-4107-8d43-0799d7951b2f-c000.snappy.parquet:\n"
     ]
    },
    {
     "name": "stderr",
     "output_type": "stream",
     "text": [
      "                                                                                \r"
     ]
    },
    {
     "name": "stdout",
     "output_type": "stream",
     "text": [
      "Saved gs://my-bigdata-project-cm/aggregated/part-00005-af1e844f-026a-4107-8d43-0799d7951b2f-c000.snappy.parquet\n",
      "Processing cleaned/yellow_tripdata_2020-11.parquet/part-00006-af1e844f-026a-4107-8d43-0799d7951b2f-c000.snappy.parquet:\n"
     ]
    },
    {
     "name": "stderr",
     "output_type": "stream",
     "text": [
      "                                                                                \r"
     ]
    },
    {
     "name": "stdout",
     "output_type": "stream",
     "text": [
      "Saved gs://my-bigdata-project-cm/aggregated/part-00006-af1e844f-026a-4107-8d43-0799d7951b2f-c000.snappy.parquet\n",
      "Processing cleaned/yellow_tripdata_2020-11.parquet/part-00007-af1e844f-026a-4107-8d43-0799d7951b2f-c000.snappy.parquet:\n"
     ]
    },
    {
     "name": "stderr",
     "output_type": "stream",
     "text": [
      "                                                                                \r"
     ]
    },
    {
     "name": "stdout",
     "output_type": "stream",
     "text": [
      "Saved gs://my-bigdata-project-cm/aggregated/part-00007-af1e844f-026a-4107-8d43-0799d7951b2f-c000.snappy.parquet\n",
      "Processing cleaned/yellow_tripdata_2020-11.parquet/part-00008-af1e844f-026a-4107-8d43-0799d7951b2f-c000.snappy.parquet:\n"
     ]
    },
    {
     "name": "stderr",
     "output_type": "stream",
     "text": [
      "                                                                                \r"
     ]
    },
    {
     "name": "stdout",
     "output_type": "stream",
     "text": [
      "Saved gs://my-bigdata-project-cm/aggregated/part-00008-af1e844f-026a-4107-8d43-0799d7951b2f-c000.snappy.parquet\n",
      "Processing cleaned/yellow_tripdata_2020-11.parquet/part-00009-af1e844f-026a-4107-8d43-0799d7951b2f-c000.snappy.parquet:\n"
     ]
    },
    {
     "name": "stderr",
     "output_type": "stream",
     "text": [
      "                                                                                \r"
     ]
    },
    {
     "name": "stdout",
     "output_type": "stream",
     "text": [
      "Saved gs://my-bigdata-project-cm/aggregated/part-00009-af1e844f-026a-4107-8d43-0799d7951b2f-c000.snappy.parquet\n",
      "Processing cleaned/yellow_tripdata_2020-11.parquet/part-00010-af1e844f-026a-4107-8d43-0799d7951b2f-c000.snappy.parquet:\n"
     ]
    },
    {
     "name": "stderr",
     "output_type": "stream",
     "text": [
      "                                                                                \r"
     ]
    },
    {
     "name": "stdout",
     "output_type": "stream",
     "text": [
      "Saved gs://my-bigdata-project-cm/aggregated/part-00010-af1e844f-026a-4107-8d43-0799d7951b2f-c000.snappy.parquet\n",
      "Processing cleaned/yellow_tripdata_2020-11.parquet/part-00011-af1e844f-026a-4107-8d43-0799d7951b2f-c000.snappy.parquet:\n"
     ]
    },
    {
     "name": "stderr",
     "output_type": "stream",
     "text": [
      "                                                                                \r"
     ]
    },
    {
     "name": "stdout",
     "output_type": "stream",
     "text": [
      "Saved gs://my-bigdata-project-cm/aggregated/part-00011-af1e844f-026a-4107-8d43-0799d7951b2f-c000.snappy.parquet\n",
      "Skipping file cleaned/yellow_tripdata_2020-12.parquet/\n",
      "Skipping file cleaned/yellow_tripdata_2020-12.parquet/_SUCCESS\n",
      "Processing cleaned/yellow_tripdata_2020-12.parquet/part-00000-f00894fe-7aec-4434-a251-c5faa8cebe18-c000.snappy.parquet:\n"
     ]
    },
    {
     "name": "stderr",
     "output_type": "stream",
     "text": [
      "                                                                                \r"
     ]
    },
    {
     "name": "stdout",
     "output_type": "stream",
     "text": [
      "Saved gs://my-bigdata-project-cm/aggregated/part-00000-f00894fe-7aec-4434-a251-c5faa8cebe18-c000.snappy.parquet\n",
      "Processing cleaned/yellow_tripdata_2020-12.parquet/part-00001-f00894fe-7aec-4434-a251-c5faa8cebe18-c000.snappy.parquet:\n"
     ]
    },
    {
     "name": "stderr",
     "output_type": "stream",
     "text": [
      "                                                                                \r"
     ]
    },
    {
     "name": "stdout",
     "output_type": "stream",
     "text": [
      "Saved gs://my-bigdata-project-cm/aggregated/part-00001-f00894fe-7aec-4434-a251-c5faa8cebe18-c000.snappy.parquet\n",
      "Processing cleaned/yellow_tripdata_2020-12.parquet/part-00002-f00894fe-7aec-4434-a251-c5faa8cebe18-c000.snappy.parquet:\n"
     ]
    },
    {
     "name": "stderr",
     "output_type": "stream",
     "text": [
      "                                                                                \r"
     ]
    },
    {
     "name": "stdout",
     "output_type": "stream",
     "text": [
      "Saved gs://my-bigdata-project-cm/aggregated/part-00002-f00894fe-7aec-4434-a251-c5faa8cebe18-c000.snappy.parquet\n",
      "Processing cleaned/yellow_tripdata_2020-12.parquet/part-00003-f00894fe-7aec-4434-a251-c5faa8cebe18-c000.snappy.parquet:\n"
     ]
    },
    {
     "name": "stderr",
     "output_type": "stream",
     "text": [
      "                                                                                \r"
     ]
    },
    {
     "name": "stdout",
     "output_type": "stream",
     "text": [
      "Saved gs://my-bigdata-project-cm/aggregated/part-00003-f00894fe-7aec-4434-a251-c5faa8cebe18-c000.snappy.parquet\n",
      "Processing cleaned/yellow_tripdata_2020-12.parquet/part-00004-f00894fe-7aec-4434-a251-c5faa8cebe18-c000.snappy.parquet:\n"
     ]
    },
    {
     "name": "stderr",
     "output_type": "stream",
     "text": [
      "                                                                                \r"
     ]
    },
    {
     "name": "stdout",
     "output_type": "stream",
     "text": [
      "Saved gs://my-bigdata-project-cm/aggregated/part-00004-f00894fe-7aec-4434-a251-c5faa8cebe18-c000.snappy.parquet\n",
      "Processing cleaned/yellow_tripdata_2020-12.parquet/part-00005-f00894fe-7aec-4434-a251-c5faa8cebe18-c000.snappy.parquet:\n"
     ]
    },
    {
     "name": "stderr",
     "output_type": "stream",
     "text": [
      "                                                                                \r"
     ]
    },
    {
     "name": "stdout",
     "output_type": "stream",
     "text": [
      "Saved gs://my-bigdata-project-cm/aggregated/part-00005-f00894fe-7aec-4434-a251-c5faa8cebe18-c000.snappy.parquet\n",
      "Processing cleaned/yellow_tripdata_2020-12.parquet/part-00006-f00894fe-7aec-4434-a251-c5faa8cebe18-c000.snappy.parquet:\n"
     ]
    },
    {
     "name": "stderr",
     "output_type": "stream",
     "text": [
      "                                                                                \r"
     ]
    },
    {
     "name": "stdout",
     "output_type": "stream",
     "text": [
      "Saved gs://my-bigdata-project-cm/aggregated/part-00006-f00894fe-7aec-4434-a251-c5faa8cebe18-c000.snappy.parquet\n",
      "Processing cleaned/yellow_tripdata_2020-12.parquet/part-00007-f00894fe-7aec-4434-a251-c5faa8cebe18-c000.snappy.parquet:\n"
     ]
    },
    {
     "name": "stderr",
     "output_type": "stream",
     "text": [
      "                                                                                \r"
     ]
    },
    {
     "name": "stdout",
     "output_type": "stream",
     "text": [
      "Saved gs://my-bigdata-project-cm/aggregated/part-00007-f00894fe-7aec-4434-a251-c5faa8cebe18-c000.snappy.parquet\n",
      "Processing cleaned/yellow_tripdata_2020-12.parquet/part-00008-f00894fe-7aec-4434-a251-c5faa8cebe18-c000.snappy.parquet:\n"
     ]
    },
    {
     "name": "stderr",
     "output_type": "stream",
     "text": [
      "                                                                                \r"
     ]
    },
    {
     "name": "stdout",
     "output_type": "stream",
     "text": [
      "Saved gs://my-bigdata-project-cm/aggregated/part-00008-f00894fe-7aec-4434-a251-c5faa8cebe18-c000.snappy.parquet\n",
      "Processing cleaned/yellow_tripdata_2020-12.parquet/part-00009-f00894fe-7aec-4434-a251-c5faa8cebe18-c000.snappy.parquet:\n"
     ]
    },
    {
     "name": "stderr",
     "output_type": "stream",
     "text": [
      "                                                                                \r"
     ]
    },
    {
     "name": "stdout",
     "output_type": "stream",
     "text": [
      "Saved gs://my-bigdata-project-cm/aggregated/part-00009-f00894fe-7aec-4434-a251-c5faa8cebe18-c000.snappy.parquet\n",
      "Processing cleaned/yellow_tripdata_2020-12.parquet/part-00010-f00894fe-7aec-4434-a251-c5faa8cebe18-c000.snappy.parquet:\n"
     ]
    },
    {
     "name": "stderr",
     "output_type": "stream",
     "text": [
      "                                                                                \r"
     ]
    },
    {
     "name": "stdout",
     "output_type": "stream",
     "text": [
      "Saved gs://my-bigdata-project-cm/aggregated/part-00000-561b4ef9-3266-4b79-8cc8-54c4c5a06090-c000.snappy.parquet\n",
      "Processing cleaned/yellow_tripdata_2021-01.parquet/part-00001-561b4ef9-3266-4b79-8cc8-54c4c5a06090-c000.snappy.parquet:\n"
     ]
    },
    {
     "name": "stderr",
     "output_type": "stream",
     "text": [
      "                                                                                \r"
     ]
    },
    {
     "name": "stdout",
     "output_type": "stream",
     "text": [
      "Saved gs://my-bigdata-project-cm/aggregated/part-00001-561b4ef9-3266-4b79-8cc8-54c4c5a06090-c000.snappy.parquet\n",
      "Processing cleaned/yellow_tripdata_2021-01.parquet/part-00002-561b4ef9-3266-4b79-8cc8-54c4c5a06090-c000.snappy.parquet:\n"
     ]
    },
    {
     "name": "stderr",
     "output_type": "stream",
     "text": [
      "                                                                                \r"
     ]
    },
    {
     "name": "stdout",
     "output_type": "stream",
     "text": [
      "Saved gs://my-bigdata-project-cm/aggregated/part-00002-561b4ef9-3266-4b79-8cc8-54c4c5a06090-c000.snappy.parquet\n",
      "Processing cleaned/yellow_tripdata_2021-01.parquet/part-00003-561b4ef9-3266-4b79-8cc8-54c4c5a06090-c000.snappy.parquet:\n"
     ]
    },
    {
     "name": "stderr",
     "output_type": "stream",
     "text": [
      "                                                                                \r"
     ]
    },
    {
     "name": "stdout",
     "output_type": "stream",
     "text": [
      "Saved gs://my-bigdata-project-cm/aggregated/part-00003-561b4ef9-3266-4b79-8cc8-54c4c5a06090-c000.snappy.parquet\n",
      "Processing cleaned/yellow_tripdata_2021-01.parquet/part-00004-561b4ef9-3266-4b79-8cc8-54c4c5a06090-c000.snappy.parquet:\n"
     ]
    },
    {
     "name": "stderr",
     "output_type": "stream",
     "text": [
      "                                                                                \r"
     ]
    },
    {
     "name": "stdout",
     "output_type": "stream",
     "text": [
      "Saved gs://my-bigdata-project-cm/aggregated/part-00004-561b4ef9-3266-4b79-8cc8-54c4c5a06090-c000.snappy.parquet\n",
      "Processing cleaned/yellow_tripdata_2021-01.parquet/part-00005-561b4ef9-3266-4b79-8cc8-54c4c5a06090-c000.snappy.parquet:\n"
     ]
    },
    {
     "name": "stderr",
     "output_type": "stream",
     "text": [
      "                                                                                \r"
     ]
    },
    {
     "name": "stdout",
     "output_type": "stream",
     "text": [
      "Saved gs://my-bigdata-project-cm/aggregated/part-00005-561b4ef9-3266-4b79-8cc8-54c4c5a06090-c000.snappy.parquet\n",
      "Processing cleaned/yellow_tripdata_2021-01.parquet/part-00006-561b4ef9-3266-4b79-8cc8-54c4c5a06090-c000.snappy.parquet:\n"
     ]
    },
    {
     "name": "stderr",
     "output_type": "stream",
     "text": [
      "                                                                                \r"
     ]
    },
    {
     "name": "stdout",
     "output_type": "stream",
     "text": [
      "Saved gs://my-bigdata-project-cm/aggregated/part-00006-561b4ef9-3266-4b79-8cc8-54c4c5a06090-c000.snappy.parquet\n",
      "Processing cleaned/yellow_tripdata_2021-01.parquet/part-00007-561b4ef9-3266-4b79-8cc8-54c4c5a06090-c000.snappy.parquet:\n"
     ]
    },
    {
     "name": "stderr",
     "output_type": "stream",
     "text": [
      "                                                                                \r"
     ]
    },
    {
     "name": "stdout",
     "output_type": "stream",
     "text": [
      "Saved gs://my-bigdata-project-cm/aggregated/part-00007-561b4ef9-3266-4b79-8cc8-54c4c5a06090-c000.snappy.parquet\n",
      "Processing cleaned/yellow_tripdata_2021-01.parquet/part-00008-561b4ef9-3266-4b79-8cc8-54c4c5a06090-c000.snappy.parquet:\n"
     ]
    },
    {
     "name": "stderr",
     "output_type": "stream",
     "text": [
      "                                                                                \r"
     ]
    },
    {
     "name": "stdout",
     "output_type": "stream",
     "text": [
      "Saved gs://my-bigdata-project-cm/aggregated/part-00008-561b4ef9-3266-4b79-8cc8-54c4c5a06090-c000.snappy.parquet\n",
      "Processing cleaned/yellow_tripdata_2021-01.parquet/part-00009-561b4ef9-3266-4b79-8cc8-54c4c5a06090-c000.snappy.parquet:\n"
     ]
    },
    {
     "name": "stderr",
     "output_type": "stream",
     "text": [
      "                                                                                \r"
     ]
    },
    {
     "name": "stdout",
     "output_type": "stream",
     "text": [
      "Saved gs://my-bigdata-project-cm/aggregated/part-00009-561b4ef9-3266-4b79-8cc8-54c4c5a06090-c000.snappy.parquet\n",
      "Processing cleaned/yellow_tripdata_2021-01.parquet/part-00010-561b4ef9-3266-4b79-8cc8-54c4c5a06090-c000.snappy.parquet:\n"
     ]
    },
    {
     "name": "stderr",
     "output_type": "stream",
     "text": [
      "                                                                                \r"
     ]
    },
    {
     "name": "stdout",
     "output_type": "stream",
     "text": [
      "Saved gs://my-bigdata-project-cm/aggregated/part-00010-561b4ef9-3266-4b79-8cc8-54c4c5a06090-c000.snappy.parquet\n",
      "Processing cleaned/yellow_tripdata_2021-01.parquet/part-00011-561b4ef9-3266-4b79-8cc8-54c4c5a06090-c000.snappy.parquet:\n"
     ]
    },
    {
     "name": "stderr",
     "output_type": "stream",
     "text": [
      "                                                                                \r"
     ]
    },
    {
     "name": "stdout",
     "output_type": "stream",
     "text": [
      "Saved gs://my-bigdata-project-cm/aggregated/part-00011-561b4ef9-3266-4b79-8cc8-54c4c5a06090-c000.snappy.parquet\n",
      "Skipping file cleaned/yellow_tripdata_2021-02.parquet/\n",
      "Skipping file cleaned/yellow_tripdata_2021-02.parquet/_SUCCESS\n",
      "Processing cleaned/yellow_tripdata_2021-02.parquet/part-00000-5f175a05-1fe5-402c-a7d4-78c5cd399541-c000.snappy.parquet:\n"
     ]
    },
    {
     "name": "stderr",
     "output_type": "stream",
     "text": [
      "                                                                                \r"
     ]
    },
    {
     "name": "stdout",
     "output_type": "stream",
     "text": [
      "Saved gs://my-bigdata-project-cm/aggregated/part-00000-5f175a05-1fe5-402c-a7d4-78c5cd399541-c000.snappy.parquet\n",
      "Processing cleaned/yellow_tripdata_2021-02.parquet/part-00001-5f175a05-1fe5-402c-a7d4-78c5cd399541-c000.snappy.parquet:\n"
     ]
    },
    {
     "name": "stderr",
     "output_type": "stream",
     "text": [
      "                                                                                \r"
     ]
    },
    {
     "name": "stdout",
     "output_type": "stream",
     "text": [
      "Saved gs://my-bigdata-project-cm/aggregated/part-00002-5f175a05-1fe5-402c-a7d4-78c5cd399541-c000.snappy.parquet\n",
      "Processing cleaned/yellow_tripdata_2021-02.parquet/part-00003-5f175a05-1fe5-402c-a7d4-78c5cd399541-c000.snappy.parquet:\n"
     ]
    },
    {
     "name": "stderr",
     "output_type": "stream",
     "text": [
      "                                                                                \r"
     ]
    },
    {
     "name": "stdout",
     "output_type": "stream",
     "text": [
      "Saved gs://my-bigdata-project-cm/aggregated/part-00003-5f175a05-1fe5-402c-a7d4-78c5cd399541-c000.snappy.parquet\n",
      "Processing cleaned/yellow_tripdata_2021-02.parquet/part-00004-5f175a05-1fe5-402c-a7d4-78c5cd399541-c000.snappy.parquet:\n"
     ]
    },
    {
     "name": "stderr",
     "output_type": "stream",
     "text": [
      "                                                                                \r"
     ]
    },
    {
     "name": "stdout",
     "output_type": "stream",
     "text": [
      "Saved gs://my-bigdata-project-cm/aggregated/part-00004-5f175a05-1fe5-402c-a7d4-78c5cd399541-c000.snappy.parquet\n",
      "Processing cleaned/yellow_tripdata_2021-02.parquet/part-00005-5f175a05-1fe5-402c-a7d4-78c5cd399541-c000.snappy.parquet:\n"
     ]
    },
    {
     "name": "stderr",
     "output_type": "stream",
     "text": [
      "                                                                                \r"
     ]
    },
    {
     "name": "stdout",
     "output_type": "stream",
     "text": [
      "Saved gs://my-bigdata-project-cm/aggregated/part-00005-5f175a05-1fe5-402c-a7d4-78c5cd399541-c000.snappy.parquet\n",
      "Processing cleaned/yellow_tripdata_2021-02.parquet/part-00006-5f175a05-1fe5-402c-a7d4-78c5cd399541-c000.snappy.parquet:\n"
     ]
    },
    {
     "name": "stderr",
     "output_type": "stream",
     "text": [
      "                                                                                \r"
     ]
    },
    {
     "name": "stdout",
     "output_type": "stream",
     "text": [
      "Saved gs://my-bigdata-project-cm/aggregated/part-00006-5f175a05-1fe5-402c-a7d4-78c5cd399541-c000.snappy.parquet\n",
      "Processing cleaned/yellow_tripdata_2021-02.parquet/part-00007-5f175a05-1fe5-402c-a7d4-78c5cd399541-c000.snappy.parquet:\n"
     ]
    },
    {
     "name": "stderr",
     "output_type": "stream",
     "text": [
      "                                                                                \r"
     ]
    },
    {
     "name": "stdout",
     "output_type": "stream",
     "text": [
      "Saved gs://my-bigdata-project-cm/aggregated/part-00007-5f175a05-1fe5-402c-a7d4-78c5cd399541-c000.snappy.parquet\n",
      "Processing cleaned/yellow_tripdata_2021-02.parquet/part-00008-5f175a05-1fe5-402c-a7d4-78c5cd399541-c000.snappy.parquet:\n"
     ]
    },
    {
     "name": "stderr",
     "output_type": "stream",
     "text": [
      "                                                                                \r"
     ]
    },
    {
     "name": "stdout",
     "output_type": "stream",
     "text": [
      "Saved gs://my-bigdata-project-cm/aggregated/part-00008-5f175a05-1fe5-402c-a7d4-78c5cd399541-c000.snappy.parquet\n",
      "Processing cleaned/yellow_tripdata_2021-02.parquet/part-00009-5f175a05-1fe5-402c-a7d4-78c5cd399541-c000.snappy.parquet:\n"
     ]
    },
    {
     "name": "stderr",
     "output_type": "stream",
     "text": [
      "                                                                                \r"
     ]
    },
    {
     "name": "stdout",
     "output_type": "stream",
     "text": [
      "Saved gs://my-bigdata-project-cm/aggregated/part-00009-5f175a05-1fe5-402c-a7d4-78c5cd399541-c000.snappy.parquet\n",
      "Processing cleaned/yellow_tripdata_2021-02.parquet/part-00010-5f175a05-1fe5-402c-a7d4-78c5cd399541-c000.snappy.parquet:\n"
     ]
    },
    {
     "name": "stderr",
     "output_type": "stream",
     "text": [
      "                                                                                \r"
     ]
    },
    {
     "name": "stdout",
     "output_type": "stream",
     "text": [
      "Saved gs://my-bigdata-project-cm/aggregated/part-00010-5f175a05-1fe5-402c-a7d4-78c5cd399541-c000.snappy.parquet\n",
      "Processing cleaned/yellow_tripdata_2021-02.parquet/part-00011-5f175a05-1fe5-402c-a7d4-78c5cd399541-c000.snappy.parquet:\n"
     ]
    },
    {
     "name": "stderr",
     "output_type": "stream",
     "text": [
      "                                                                                \r"
     ]
    },
    {
     "name": "stdout",
     "output_type": "stream",
     "text": [
      "Saved gs://my-bigdata-project-cm/aggregated/part-00011-5f175a05-1fe5-402c-a7d4-78c5cd399541-c000.snappy.parquet\n",
      "Skipping file cleaned/yellow_tripdata_2021-03.parquet/\n",
      "Skipping file cleaned/yellow_tripdata_2021-03.parquet/_SUCCESS\n",
      "Processing cleaned/yellow_tripdata_2021-03.parquet/part-00000-e958a199-8b5c-4b69-83f3-4bbc5da4e0cf-c000.snappy.parquet:\n"
     ]
    },
    {
     "name": "stderr",
     "output_type": "stream",
     "text": [
      "                                                                                \r"
     ]
    },
    {
     "name": "stdout",
     "output_type": "stream",
     "text": [
      "Saved gs://my-bigdata-project-cm/aggregated/part-00000-e958a199-8b5c-4b69-83f3-4bbc5da4e0cf-c000.snappy.parquet\n",
      "Processing cleaned/yellow_tripdata_2021-03.parquet/part-00001-e958a199-8b5c-4b69-83f3-4bbc5da4e0cf-c000.snappy.parquet:\n"
     ]
    },
    {
     "name": "stderr",
     "output_type": "stream",
     "text": [
      "                                                                                \r"
     ]
    },
    {
     "name": "stdout",
     "output_type": "stream",
     "text": [
      "Saved gs://my-bigdata-project-cm/aggregated/part-00001-e958a199-8b5c-4b69-83f3-4bbc5da4e0cf-c000.snappy.parquet\n",
      "Processing cleaned/yellow_tripdata_2021-03.parquet/part-00002-e958a199-8b5c-4b69-83f3-4bbc5da4e0cf-c000.snappy.parquet:\n"
     ]
    },
    {
     "name": "stderr",
     "output_type": "stream",
     "text": [
      "                                                                                \r"
     ]
    },
    {
     "name": "stdout",
     "output_type": "stream",
     "text": [
      "Saved gs://my-bigdata-project-cm/aggregated/part-00002-e958a199-8b5c-4b69-83f3-4bbc5da4e0cf-c000.snappy.parquet\n",
      "Processing cleaned/yellow_tripdata_2021-03.parquet/part-00003-e958a199-8b5c-4b69-83f3-4bbc5da4e0cf-c000.snappy.parquet:\n"
     ]
    },
    {
     "name": "stderr",
     "output_type": "stream",
     "text": [
      "                                                                                \r"
     ]
    },
    {
     "name": "stdout",
     "output_type": "stream",
     "text": [
      "Saved gs://my-bigdata-project-cm/aggregated/part-00003-e958a199-8b5c-4b69-83f3-4bbc5da4e0cf-c000.snappy.parquet\n",
      "Processing cleaned/yellow_tripdata_2021-03.parquet/part-00004-e958a199-8b5c-4b69-83f3-4bbc5da4e0cf-c000.snappy.parquet:\n"
     ]
    },
    {
     "name": "stderr",
     "output_type": "stream",
     "text": [
      "                                                                                \r"
     ]
    },
    {
     "name": "stdout",
     "output_type": "stream",
     "text": [
      "Saved gs://my-bigdata-project-cm/aggregated/part-00004-e958a199-8b5c-4b69-83f3-4bbc5da4e0cf-c000.snappy.parquet\n",
      "Processing cleaned/yellow_tripdata_2021-03.parquet/part-00005-e958a199-8b5c-4b69-83f3-4bbc5da4e0cf-c000.snappy.parquet:\n"
     ]
    },
    {
     "name": "stderr",
     "output_type": "stream",
     "text": [
      "                                                                                \r"
     ]
    },
    {
     "name": "stdout",
     "output_type": "stream",
     "text": [
      "Saved gs://my-bigdata-project-cm/aggregated/part-00005-e958a199-8b5c-4b69-83f3-4bbc5da4e0cf-c000.snappy.parquet\n",
      "Processing cleaned/yellow_tripdata_2021-03.parquet/part-00006-e958a199-8b5c-4b69-83f3-4bbc5da4e0cf-c000.snappy.parquet:\n"
     ]
    },
    {
     "name": "stderr",
     "output_type": "stream",
     "text": [
      "                                                                                \r"
     ]
    },
    {
     "name": "stdout",
     "output_type": "stream",
     "text": [
      "Saved gs://my-bigdata-project-cm/aggregated/part-00006-e958a199-8b5c-4b69-83f3-4bbc5da4e0cf-c000.snappy.parquet\n",
      "Processing cleaned/yellow_tripdata_2021-03.parquet/part-00007-e958a199-8b5c-4b69-83f3-4bbc5da4e0cf-c000.snappy.parquet:\n"
     ]
    },
    {
     "name": "stderr",
     "output_type": "stream",
     "text": [
      "                                                                                \r"
     ]
    },
    {
     "name": "stdout",
     "output_type": "stream",
     "text": [
      "Saved gs://my-bigdata-project-cm/aggregated/part-00007-e958a199-8b5c-4b69-83f3-4bbc5da4e0cf-c000.snappy.parquet\n",
      "Processing cleaned/yellow_tripdata_2021-03.parquet/part-00008-e958a199-8b5c-4b69-83f3-4bbc5da4e0cf-c000.snappy.parquet:\n"
     ]
    },
    {
     "name": "stderr",
     "output_type": "stream",
     "text": [
      "                                                                                \r"
     ]
    },
    {
     "name": "stdout",
     "output_type": "stream",
     "text": [
      "Saved gs://my-bigdata-project-cm/aggregated/part-00008-e958a199-8b5c-4b69-83f3-4bbc5da4e0cf-c000.snappy.parquet\n",
      "Processing cleaned/yellow_tripdata_2021-03.parquet/part-00009-e958a199-8b5c-4b69-83f3-4bbc5da4e0cf-c000.snappy.parquet:\n"
     ]
    },
    {
     "name": "stderr",
     "output_type": "stream",
     "text": [
      "                                                                                \r"
     ]
    },
    {
     "name": "stdout",
     "output_type": "stream",
     "text": [
      "Saved gs://my-bigdata-project-cm/aggregated/part-00009-e958a199-8b5c-4b69-83f3-4bbc5da4e0cf-c000.snappy.parquet\n",
      "Processing cleaned/yellow_tripdata_2021-03.parquet/part-00010-e958a199-8b5c-4b69-83f3-4bbc5da4e0cf-c000.snappy.parquet:\n"
     ]
    },
    {
     "name": "stderr",
     "output_type": "stream",
     "text": [
      "                                                                                \r"
     ]
    },
    {
     "name": "stdout",
     "output_type": "stream",
     "text": [
      "Saved gs://my-bigdata-project-cm/aggregated/part-00010-e958a199-8b5c-4b69-83f3-4bbc5da4e0cf-c000.snappy.parquet\n",
      "Processing cleaned/yellow_tripdata_2021-03.parquet/part-00011-e958a199-8b5c-4b69-83f3-4bbc5da4e0cf-c000.snappy.parquet:\n"
     ]
    },
    {
     "name": "stderr",
     "output_type": "stream",
     "text": [
      "                                                                                \r"
     ]
    },
    {
     "name": "stdout",
     "output_type": "stream",
     "text": [
      "Saved gs://my-bigdata-project-cm/aggregated/part-00011-e958a199-8b5c-4b69-83f3-4bbc5da4e0cf-c000.snappy.parquet\n",
      "Skipping file cleaned/yellow_tripdata_2021-04.parquet/\n",
      "Skipping file cleaned/yellow_tripdata_2021-04.parquet/_SUCCESS\n",
      "Processing cleaned/yellow_tripdata_2021-04.parquet/part-00000-d5d08721-e6a0-46f1-9544-7b8191f7a797-c000.snappy.parquet:\n"
     ]
    },
    {
     "name": "stderr",
     "output_type": "stream",
     "text": [
      "                                                                                \r"
     ]
    },
    {
     "name": "stdout",
     "output_type": "stream",
     "text": [
      "Saved gs://my-bigdata-project-cm/aggregated/part-00000-d5d08721-e6a0-46f1-9544-7b8191f7a797-c000.snappy.parquet\n",
      "Processing cleaned/yellow_tripdata_2021-04.parquet/part-00001-d5d08721-e6a0-46f1-9544-7b8191f7a797-c000.snappy.parquet:\n"
     ]
    },
    {
     "name": "stderr",
     "output_type": "stream",
     "text": [
      "                                                                                \r"
     ]
    },
    {
     "name": "stdout",
     "output_type": "stream",
     "text": [
      "Saved gs://my-bigdata-project-cm/aggregated/part-00001-d5d08721-e6a0-46f1-9544-7b8191f7a797-c000.snappy.parquet\n",
      "Processing cleaned/yellow_tripdata_2021-04.parquet/part-00002-d5d08721-e6a0-46f1-9544-7b8191f7a797-c000.snappy.parquet:\n"
     ]
    },
    {
     "name": "stderr",
     "output_type": "stream",
     "text": [
      "                                                                                \r"
     ]
    },
    {
     "name": "stdout",
     "output_type": "stream",
     "text": [
      "Saved gs://my-bigdata-project-cm/aggregated/part-00002-d5d08721-e6a0-46f1-9544-7b8191f7a797-c000.snappy.parquet\n",
      "Processing cleaned/yellow_tripdata_2021-04.parquet/part-00003-d5d08721-e6a0-46f1-9544-7b8191f7a797-c000.snappy.parquet:\n"
     ]
    },
    {
     "name": "stderr",
     "output_type": "stream",
     "text": [
      "                                                                                \r"
     ]
    },
    {
     "name": "stdout",
     "output_type": "stream",
     "text": [
      "Saved gs://my-bigdata-project-cm/aggregated/part-00003-d5d08721-e6a0-46f1-9544-7b8191f7a797-c000.snappy.parquet\n",
      "Processing cleaned/yellow_tripdata_2021-04.parquet/part-00004-d5d08721-e6a0-46f1-9544-7b8191f7a797-c000.snappy.parquet:\n"
     ]
    },
    {
     "name": "stderr",
     "output_type": "stream",
     "text": [
      "                                                                                \r"
     ]
    },
    {
     "name": "stdout",
     "output_type": "stream",
     "text": [
      "Saved gs://my-bigdata-project-cm/aggregated/part-00004-d5d08721-e6a0-46f1-9544-7b8191f7a797-c000.snappy.parquet\n",
      "Processing cleaned/yellow_tripdata_2021-04.parquet/part-00005-d5d08721-e6a0-46f1-9544-7b8191f7a797-c000.snappy.parquet:\n"
     ]
    },
    {
     "name": "stderr",
     "output_type": "stream",
     "text": [
      "                                                                                \r"
     ]
    },
    {
     "name": "stdout",
     "output_type": "stream",
     "text": [
      "Saved gs://my-bigdata-project-cm/aggregated/part-00005-d5d08721-e6a0-46f1-9544-7b8191f7a797-c000.snappy.parquet\n",
      "Processing cleaned/yellow_tripdata_2021-04.parquet/part-00006-d5d08721-e6a0-46f1-9544-7b8191f7a797-c000.snappy.parquet:\n"
     ]
    },
    {
     "name": "stderr",
     "output_type": "stream",
     "text": [
      "                                                                                \r"
     ]
    },
    {
     "name": "stdout",
     "output_type": "stream",
     "text": [
      "Saved gs://my-bigdata-project-cm/aggregated/part-00006-d5d08721-e6a0-46f1-9544-7b8191f7a797-c000.snappy.parquet\n",
      "Processing cleaned/yellow_tripdata_2021-04.parquet/part-00007-d5d08721-e6a0-46f1-9544-7b8191f7a797-c000.snappy.parquet:\n"
     ]
    },
    {
     "name": "stderr",
     "output_type": "stream",
     "text": [
      "                                                                                \r"
     ]
    },
    {
     "name": "stdout",
     "output_type": "stream",
     "text": [
      "Saved gs://my-bigdata-project-cm/aggregated/part-00007-d5d08721-e6a0-46f1-9544-7b8191f7a797-c000.snappy.parquet\n",
      "Processing cleaned/yellow_tripdata_2021-04.parquet/part-00008-d5d08721-e6a0-46f1-9544-7b8191f7a797-c000.snappy.parquet:\n"
     ]
    },
    {
     "name": "stderr",
     "output_type": "stream",
     "text": [
      "                                                                                \r"
     ]
    },
    {
     "name": "stdout",
     "output_type": "stream",
     "text": [
      "Saved gs://my-bigdata-project-cm/aggregated/part-00008-d5d08721-e6a0-46f1-9544-7b8191f7a797-c000.snappy.parquet\n",
      "Processing cleaned/yellow_tripdata_2021-04.parquet/part-00009-d5d08721-e6a0-46f1-9544-7b8191f7a797-c000.snappy.parquet:\n"
     ]
    },
    {
     "name": "stderr",
     "output_type": "stream",
     "text": [
      "                                                                                \r"
     ]
    },
    {
     "name": "stdout",
     "output_type": "stream",
     "text": [
      "Saved gs://my-bigdata-project-cm/aggregated/part-00009-d5d08721-e6a0-46f1-9544-7b8191f7a797-c000.snappy.parquet\n",
      "Processing cleaned/yellow_tripdata_2021-04.parquet/part-00010-d5d08721-e6a0-46f1-9544-7b8191f7a797-c000.snappy.parquet:\n"
     ]
    },
    {
     "name": "stderr",
     "output_type": "stream",
     "text": [
      "                                                                                \r"
     ]
    },
    {
     "name": "stdout",
     "output_type": "stream",
     "text": [
      "Saved gs://my-bigdata-project-cm/aggregated/part-00010-d5d08721-e6a0-46f1-9544-7b8191f7a797-c000.snappy.parquet\n",
      "Processing cleaned/yellow_tripdata_2021-04.parquet/part-00011-d5d08721-e6a0-46f1-9544-7b8191f7a797-c000.snappy.parquet:\n"
     ]
    },
    {
     "name": "stderr",
     "output_type": "stream",
     "text": [
      "                                                                                \r"
     ]
    },
    {
     "name": "stdout",
     "output_type": "stream",
     "text": [
      "Saved gs://my-bigdata-project-cm/aggregated/part-00011-d5d08721-e6a0-46f1-9544-7b8191f7a797-c000.snappy.parquet\n",
      "Skipping file cleaned/yellow_tripdata_2021-05.parquet/\n",
      "Skipping file cleaned/yellow_tripdata_2021-05.parquet/_SUCCESS\n",
      "Processing cleaned/yellow_tripdata_2021-05.parquet/part-00000-6d09092c-6368-44d5-a8ed-e6aa52c98483-c000.snappy.parquet:\n"
     ]
    },
    {
     "name": "stderr",
     "output_type": "stream",
     "text": [
      "                                                                                \r"
     ]
    },
    {
     "name": "stdout",
     "output_type": "stream",
     "text": [
      "Saved gs://my-bigdata-project-cm/aggregated/part-00000-6d09092c-6368-44d5-a8ed-e6aa52c98483-c000.snappy.parquet\n",
      "Processing cleaned/yellow_tripdata_2021-05.parquet/part-00001-6d09092c-6368-44d5-a8ed-e6aa52c98483-c000.snappy.parquet:\n"
     ]
    },
    {
     "name": "stderr",
     "output_type": "stream",
     "text": [
      "                                                                                \r"
     ]
    },
    {
     "name": "stdout",
     "output_type": "stream",
     "text": [
      "Saved gs://my-bigdata-project-cm/aggregated/part-00001-6d09092c-6368-44d5-a8ed-e6aa52c98483-c000.snappy.parquet\n",
      "Processing cleaned/yellow_tripdata_2021-05.parquet/part-00002-6d09092c-6368-44d5-a8ed-e6aa52c98483-c000.snappy.parquet:\n"
     ]
    },
    {
     "name": "stderr",
     "output_type": "stream",
     "text": [
      "                                                                                \r"
     ]
    },
    {
     "name": "stdout",
     "output_type": "stream",
     "text": [
      "Saved gs://my-bigdata-project-cm/aggregated/part-00002-6d09092c-6368-44d5-a8ed-e6aa52c98483-c000.snappy.parquet\n",
      "Processing cleaned/yellow_tripdata_2021-05.parquet/part-00003-6d09092c-6368-44d5-a8ed-e6aa52c98483-c000.snappy.parquet:\n"
     ]
    },
    {
     "name": "stderr",
     "output_type": "stream",
     "text": [
      "                                                                                \r"
     ]
    },
    {
     "name": "stdout",
     "output_type": "stream",
     "text": [
      "Saved gs://my-bigdata-project-cm/aggregated/part-00003-6d09092c-6368-44d5-a8ed-e6aa52c98483-c000.snappy.parquet\n",
      "Processing cleaned/yellow_tripdata_2021-05.parquet/part-00004-6d09092c-6368-44d5-a8ed-e6aa52c98483-c000.snappy.parquet:\n"
     ]
    },
    {
     "name": "stderr",
     "output_type": "stream",
     "text": [
      "                                                                                \r"
     ]
    },
    {
     "name": "stdout",
     "output_type": "stream",
     "text": [
      "Saved gs://my-bigdata-project-cm/aggregated/part-00004-6d09092c-6368-44d5-a8ed-e6aa52c98483-c000.snappy.parquet\n",
      "Processing cleaned/yellow_tripdata_2021-05.parquet/part-00005-6d09092c-6368-44d5-a8ed-e6aa52c98483-c000.snappy.parquet:\n"
     ]
    },
    {
     "name": "stderr",
     "output_type": "stream",
     "text": [
      "                                                                                \r"
     ]
    },
    {
     "name": "stdout",
     "output_type": "stream",
     "text": [
      "Saved gs://my-bigdata-project-cm/aggregated/part-00005-6d09092c-6368-44d5-a8ed-e6aa52c98483-c000.snappy.parquet\n",
      "Processing cleaned/yellow_tripdata_2021-05.parquet/part-00006-6d09092c-6368-44d5-a8ed-e6aa52c98483-c000.snappy.parquet:\n"
     ]
    },
    {
     "name": "stderr",
     "output_type": "stream",
     "text": [
      "                                                                                \r"
     ]
    },
    {
     "name": "stdout",
     "output_type": "stream",
     "text": [
      "Saved gs://my-bigdata-project-cm/aggregated/part-00006-6d09092c-6368-44d5-a8ed-e6aa52c98483-c000.snappy.parquet\n",
      "Processing cleaned/yellow_tripdata_2021-05.parquet/part-00007-6d09092c-6368-44d5-a8ed-e6aa52c98483-c000.snappy.parquet:\n"
     ]
    },
    {
     "name": "stderr",
     "output_type": "stream",
     "text": [
      "                                                                                \r"
     ]
    },
    {
     "name": "stdout",
     "output_type": "stream",
     "text": [
      "Saved gs://my-bigdata-project-cm/aggregated/part-00007-6d09092c-6368-44d5-a8ed-e6aa52c98483-c000.snappy.parquet\n",
      "Processing cleaned/yellow_tripdata_2021-05.parquet/part-00008-6d09092c-6368-44d5-a8ed-e6aa52c98483-c000.snappy.parquet:\n"
     ]
    },
    {
     "name": "stderr",
     "output_type": "stream",
     "text": [
      "                                                                                \r"
     ]
    },
    {
     "name": "stdout",
     "output_type": "stream",
     "text": [
      "Saved gs://my-bigdata-project-cm/aggregated/part-00008-6d09092c-6368-44d5-a8ed-e6aa52c98483-c000.snappy.parquet\n",
      "Processing cleaned/yellow_tripdata_2021-05.parquet/part-00009-6d09092c-6368-44d5-a8ed-e6aa52c98483-c000.snappy.parquet:\n"
     ]
    },
    {
     "name": "stderr",
     "output_type": "stream",
     "text": [
      "                                                                                \r"
     ]
    },
    {
     "name": "stdout",
     "output_type": "stream",
     "text": [
      "Saved gs://my-bigdata-project-cm/aggregated/part-00009-6d09092c-6368-44d5-a8ed-e6aa52c98483-c000.snappy.parquet\n",
      "Processing cleaned/yellow_tripdata_2021-05.parquet/part-00010-6d09092c-6368-44d5-a8ed-e6aa52c98483-c000.snappy.parquet:\n"
     ]
    },
    {
     "name": "stderr",
     "output_type": "stream",
     "text": [
      "                                                                                \r"
     ]
    },
    {
     "name": "stdout",
     "output_type": "stream",
     "text": [
      "Saved gs://my-bigdata-project-cm/aggregated/part-00010-6d09092c-6368-44d5-a8ed-e6aa52c98483-c000.snappy.parquet\n",
      "Processing cleaned/yellow_tripdata_2021-05.parquet/part-00011-6d09092c-6368-44d5-a8ed-e6aa52c98483-c000.snappy.parquet:\n"
     ]
    },
    {
     "name": "stderr",
     "output_type": "stream",
     "text": [
      "                                                                                \r"
     ]
    },
    {
     "name": "stdout",
     "output_type": "stream",
     "text": [
      "Saved gs://my-bigdata-project-cm/aggregated/part-00011-6d09092c-6368-44d5-a8ed-e6aa52c98483-c000.snappy.parquet\n",
      "Skipping file cleaned/yellow_tripdata_2021-06.parquet/\n",
      "Skipping file cleaned/yellow_tripdata_2021-06.parquet/_SUCCESS\n",
      "Processing cleaned/yellow_tripdata_2021-06.parquet/part-00000-414d8a27-a30c-4777-982a-286a3dc6058d-c000.snappy.parquet:\n"
     ]
    },
    {
     "name": "stderr",
     "output_type": "stream",
     "text": [
      "                                                                                \r"
     ]
    },
    {
     "name": "stdout",
     "output_type": "stream",
     "text": [
      "Saved gs://my-bigdata-project-cm/aggregated/part-00000-414d8a27-a30c-4777-982a-286a3dc6058d-c000.snappy.parquet\n",
      "Processing cleaned/yellow_tripdata_2021-06.parquet/part-00001-414d8a27-a30c-4777-982a-286a3dc6058d-c000.snappy.parquet:\n"
     ]
    },
    {
     "name": "stderr",
     "output_type": "stream",
     "text": [
      "                                                                                \r"
     ]
    },
    {
     "name": "stdout",
     "output_type": "stream",
     "text": [
      "Saved gs://my-bigdata-project-cm/aggregated/part-00001-414d8a27-a30c-4777-982a-286a3dc6058d-c000.snappy.parquet\n",
      "Processing cleaned/yellow_tripdata_2021-06.parquet/part-00002-414d8a27-a30c-4777-982a-286a3dc6058d-c000.snappy.parquet:\n"
     ]
    },
    {
     "name": "stderr",
     "output_type": "stream",
     "text": [
      "                                                                                \r"
     ]
    },
    {
     "name": "stdout",
     "output_type": "stream",
     "text": [
      "Saved gs://my-bigdata-project-cm/aggregated/part-00002-414d8a27-a30c-4777-982a-286a3dc6058d-c000.snappy.parquet\n",
      "Processing cleaned/yellow_tripdata_2021-06.parquet/part-00003-414d8a27-a30c-4777-982a-286a3dc6058d-c000.snappy.parquet:\n"
     ]
    },
    {
     "name": "stderr",
     "output_type": "stream",
     "text": [
      "                                                                                \r"
     ]
    },
    {
     "name": "stdout",
     "output_type": "stream",
     "text": [
      "Saved gs://my-bigdata-project-cm/aggregated/part-00003-414d8a27-a30c-4777-982a-286a3dc6058d-c000.snappy.parquet\n",
      "Processing cleaned/yellow_tripdata_2021-06.parquet/part-00004-414d8a27-a30c-4777-982a-286a3dc6058d-c000.snappy.parquet:\n"
     ]
    },
    {
     "name": "stderr",
     "output_type": "stream",
     "text": [
      "                                                                                \r"
     ]
    },
    {
     "name": "stdout",
     "output_type": "stream",
     "text": [
      "Saved gs://my-bigdata-project-cm/aggregated/part-00004-414d8a27-a30c-4777-982a-286a3dc6058d-c000.snappy.parquet\n",
      "Processing cleaned/yellow_tripdata_2021-06.parquet/part-00005-414d8a27-a30c-4777-982a-286a3dc6058d-c000.snappy.parquet:\n"
     ]
    },
    {
     "name": "stderr",
     "output_type": "stream",
     "text": [
      "                                                                                \r"
     ]
    },
    {
     "name": "stdout",
     "output_type": "stream",
     "text": [
      "Saved gs://my-bigdata-project-cm/aggregated/part-00005-414d8a27-a30c-4777-982a-286a3dc6058d-c000.snappy.parquet\n",
      "Processing cleaned/yellow_tripdata_2021-06.parquet/part-00006-414d8a27-a30c-4777-982a-286a3dc6058d-c000.snappy.parquet:\n"
     ]
    },
    {
     "name": "stderr",
     "output_type": "stream",
     "text": [
      "                                                                                \r"
     ]
    },
    {
     "name": "stdout",
     "output_type": "stream",
     "text": [
      "Saved gs://my-bigdata-project-cm/aggregated/part-00006-414d8a27-a30c-4777-982a-286a3dc6058d-c000.snappy.parquet\n",
      "Processing cleaned/yellow_tripdata_2021-06.parquet/part-00007-414d8a27-a30c-4777-982a-286a3dc6058d-c000.snappy.parquet:\n"
     ]
    },
    {
     "name": "stderr",
     "output_type": "stream",
     "text": [
      "                                                                                \r"
     ]
    },
    {
     "name": "stdout",
     "output_type": "stream",
     "text": [
      "Saved gs://my-bigdata-project-cm/aggregated/part-00007-414d8a27-a30c-4777-982a-286a3dc6058d-c000.snappy.parquet\n",
      "Processing cleaned/yellow_tripdata_2021-06.parquet/part-00008-414d8a27-a30c-4777-982a-286a3dc6058d-c000.snappy.parquet:\n"
     ]
    },
    {
     "name": "stderr",
     "output_type": "stream",
     "text": [
      "                                                                                \r"
     ]
    },
    {
     "name": "stdout",
     "output_type": "stream",
     "text": [
      "Saved gs://my-bigdata-project-cm/aggregated/part-00008-414d8a27-a30c-4777-982a-286a3dc6058d-c000.snappy.parquet\n",
      "Processing cleaned/yellow_tripdata_2021-06.parquet/part-00009-414d8a27-a30c-4777-982a-286a3dc6058d-c000.snappy.parquet:\n"
     ]
    },
    {
     "name": "stderr",
     "output_type": "stream",
     "text": [
      "                                                                                \r"
     ]
    },
    {
     "name": "stdout",
     "output_type": "stream",
     "text": [
      "Saved gs://my-bigdata-project-cm/aggregated/part-00009-414d8a27-a30c-4777-982a-286a3dc6058d-c000.snappy.parquet\n",
      "Processing cleaned/yellow_tripdata_2021-06.parquet/part-00010-414d8a27-a30c-4777-982a-286a3dc6058d-c000.snappy.parquet:\n"
     ]
    },
    {
     "name": "stderr",
     "output_type": "stream",
     "text": [
      "                                                                                \r"
     ]
    },
    {
     "name": "stdout",
     "output_type": "stream",
     "text": [
      "Saved gs://my-bigdata-project-cm/aggregated/part-00010-414d8a27-a30c-4777-982a-286a3dc6058d-c000.snappy.parquet\n",
      "Processing cleaned/yellow_tripdata_2021-06.parquet/part-00011-414d8a27-a30c-4777-982a-286a3dc6058d-c000.snappy.parquet:\n"
     ]
    },
    {
     "name": "stderr",
     "output_type": "stream",
     "text": [
      "                                                                                \r"
     ]
    },
    {
     "name": "stdout",
     "output_type": "stream",
     "text": [
      "Saved gs://my-bigdata-project-cm/aggregated/part-00011-414d8a27-a30c-4777-982a-286a3dc6058d-c000.snappy.parquet\n",
      "Skipping file cleaned/yellow_tripdata_2021-07.parquet/\n",
      "Skipping file cleaned/yellow_tripdata_2021-07.parquet/_SUCCESS\n",
      "Processing cleaned/yellow_tripdata_2021-07.parquet/part-00000-3c665ee9-71cb-4ad1-a540-dc0c4c24554b-c000.snappy.parquet:\n"
     ]
    },
    {
     "name": "stderr",
     "output_type": "stream",
     "text": [
      "                                                                                \r"
     ]
    },
    {
     "name": "stdout",
     "output_type": "stream",
     "text": [
      "Saved gs://my-bigdata-project-cm/aggregated/part-00000-3c665ee9-71cb-4ad1-a540-dc0c4c24554b-c000.snappy.parquet\n",
      "Processing cleaned/yellow_tripdata_2021-07.parquet/part-00001-3c665ee9-71cb-4ad1-a540-dc0c4c24554b-c000.snappy.parquet:\n"
     ]
    },
    {
     "name": "stderr",
     "output_type": "stream",
     "text": [
      "                                                                                \r"
     ]
    },
    {
     "name": "stdout",
     "output_type": "stream",
     "text": [
      "Saved gs://my-bigdata-project-cm/aggregated/part-00001-3c665ee9-71cb-4ad1-a540-dc0c4c24554b-c000.snappy.parquet\n",
      "Processing cleaned/yellow_tripdata_2021-07.parquet/part-00002-3c665ee9-71cb-4ad1-a540-dc0c4c24554b-c000.snappy.parquet:\n"
     ]
    },
    {
     "name": "stderr",
     "output_type": "stream",
     "text": [
      "                                                                                \r"
     ]
    },
    {
     "name": "stdout",
     "output_type": "stream",
     "text": [
      "Saved gs://my-bigdata-project-cm/aggregated/part-00002-3c665ee9-71cb-4ad1-a540-dc0c4c24554b-c000.snappy.parquet\n",
      "Processing cleaned/yellow_tripdata_2021-07.parquet/part-00003-3c665ee9-71cb-4ad1-a540-dc0c4c24554b-c000.snappy.parquet:\n"
     ]
    },
    {
     "name": "stderr",
     "output_type": "stream",
     "text": [
      "                                                                                \r"
     ]
    },
    {
     "name": "stdout",
     "output_type": "stream",
     "text": [
      "Saved gs://my-bigdata-project-cm/aggregated/part-00003-3c665ee9-71cb-4ad1-a540-dc0c4c24554b-c000.snappy.parquet\n",
      "Processing cleaned/yellow_tripdata_2021-07.parquet/part-00004-3c665ee9-71cb-4ad1-a540-dc0c4c24554b-c000.snappy.parquet:\n"
     ]
    },
    {
     "name": "stderr",
     "output_type": "stream",
     "text": [
      "                                                                                \r"
     ]
    },
    {
     "name": "stdout",
     "output_type": "stream",
     "text": [
      "Saved gs://my-bigdata-project-cm/aggregated/part-00004-3c665ee9-71cb-4ad1-a540-dc0c4c24554b-c000.snappy.parquet\n",
      "Processing cleaned/yellow_tripdata_2021-07.parquet/part-00005-3c665ee9-71cb-4ad1-a540-dc0c4c24554b-c000.snappy.parquet:\n"
     ]
    },
    {
     "name": "stderr",
     "output_type": "stream",
     "text": [
      "                                                                                \r"
     ]
    },
    {
     "name": "stdout",
     "output_type": "stream",
     "text": [
      "Saved gs://my-bigdata-project-cm/aggregated/part-00005-3c665ee9-71cb-4ad1-a540-dc0c4c24554b-c000.snappy.parquet\n",
      "Processing cleaned/yellow_tripdata_2021-07.parquet/part-00006-3c665ee9-71cb-4ad1-a540-dc0c4c24554b-c000.snappy.parquet:\n"
     ]
    },
    {
     "name": "stderr",
     "output_type": "stream",
     "text": [
      "                                                                                \r"
     ]
    },
    {
     "name": "stdout",
     "output_type": "stream",
     "text": [
      "Saved gs://my-bigdata-project-cm/aggregated/part-00006-3c665ee9-71cb-4ad1-a540-dc0c4c24554b-c000.snappy.parquet\n",
      "Processing cleaned/yellow_tripdata_2021-07.parquet/part-00007-3c665ee9-71cb-4ad1-a540-dc0c4c24554b-c000.snappy.parquet:\n"
     ]
    },
    {
     "name": "stderr",
     "output_type": "stream",
     "text": [
      "                                                                                \r"
     ]
    },
    {
     "name": "stdout",
     "output_type": "stream",
     "text": [
      "Saved gs://my-bigdata-project-cm/aggregated/part-00007-3c665ee9-71cb-4ad1-a540-dc0c4c24554b-c000.snappy.parquet\n",
      "Processing cleaned/yellow_tripdata_2021-07.parquet/part-00008-3c665ee9-71cb-4ad1-a540-dc0c4c24554b-c000.snappy.parquet:\n"
     ]
    },
    {
     "name": "stderr",
     "output_type": "stream",
     "text": [
      "                                                                                \r"
     ]
    },
    {
     "name": "stdout",
     "output_type": "stream",
     "text": [
      "Saved gs://my-bigdata-project-cm/aggregated/part-00008-3c665ee9-71cb-4ad1-a540-dc0c4c24554b-c000.snappy.parquet\n",
      "Processing cleaned/yellow_tripdata_2021-07.parquet/part-00009-3c665ee9-71cb-4ad1-a540-dc0c4c24554b-c000.snappy.parquet:\n"
     ]
    },
    {
     "name": "stderr",
     "output_type": "stream",
     "text": [
      "                                                                                \r"
     ]
    },
    {
     "name": "stdout",
     "output_type": "stream",
     "text": [
      "Saved gs://my-bigdata-project-cm/aggregated/part-00009-3c665ee9-71cb-4ad1-a540-dc0c4c24554b-c000.snappy.parquet\n",
      "Processing cleaned/yellow_tripdata_2021-07.parquet/part-00010-3c665ee9-71cb-4ad1-a540-dc0c4c24554b-c000.snappy.parquet:\n"
     ]
    },
    {
     "name": "stderr",
     "output_type": "stream",
     "text": [
      "                                                                                \r"
     ]
    },
    {
     "name": "stdout",
     "output_type": "stream",
     "text": [
      "Saved gs://my-bigdata-project-cm/aggregated/part-00010-3c665ee9-71cb-4ad1-a540-dc0c4c24554b-c000.snappy.parquet\n",
      "Processing cleaned/yellow_tripdata_2021-07.parquet/part-00011-3c665ee9-71cb-4ad1-a540-dc0c4c24554b-c000.snappy.parquet:\n"
     ]
    },
    {
     "name": "stderr",
     "output_type": "stream",
     "text": [
      "                                                                                \r"
     ]
    },
    {
     "name": "stdout",
     "output_type": "stream",
     "text": [
      "Saved gs://my-bigdata-project-cm/aggregated/part-00011-3c665ee9-71cb-4ad1-a540-dc0c4c24554b-c000.snappy.parquet\n",
      "Skipping file cleaned/yellow_tripdata_2021-08.parquet/\n",
      "Skipping file cleaned/yellow_tripdata_2021-08.parquet/_SUCCESS\n",
      "Processing cleaned/yellow_tripdata_2021-08.parquet/part-00000-8dd1a9c7-77f6-4261-b01f-745115e27731-c000.snappy.parquet:\n"
     ]
    },
    {
     "name": "stderr",
     "output_type": "stream",
     "text": [
      "                                                                                \r"
     ]
    },
    {
     "name": "stdout",
     "output_type": "stream",
     "text": [
      "Saved gs://my-bigdata-project-cm/aggregated/part-00000-8dd1a9c7-77f6-4261-b01f-745115e27731-c000.snappy.parquet\n",
      "Processing cleaned/yellow_tripdata_2021-08.parquet/part-00001-8dd1a9c7-77f6-4261-b01f-745115e27731-c000.snappy.parquet:\n"
     ]
    },
    {
     "name": "stderr",
     "output_type": "stream",
     "text": [
      "                                                                                \r"
     ]
    },
    {
     "name": "stdout",
     "output_type": "stream",
     "text": [
      "Saved gs://my-bigdata-project-cm/aggregated/part-00001-8dd1a9c7-77f6-4261-b01f-745115e27731-c000.snappy.parquet\n",
      "Processing cleaned/yellow_tripdata_2021-08.parquet/part-00002-8dd1a9c7-77f6-4261-b01f-745115e27731-c000.snappy.parquet:\n"
     ]
    },
    {
     "name": "stderr",
     "output_type": "stream",
     "text": [
      "                                                                                \r"
     ]
    },
    {
     "name": "stdout",
     "output_type": "stream",
     "text": [
      "Saved gs://my-bigdata-project-cm/aggregated/part-00002-8dd1a9c7-77f6-4261-b01f-745115e27731-c000.snappy.parquet\n",
      "Processing cleaned/yellow_tripdata_2021-08.parquet/part-00003-8dd1a9c7-77f6-4261-b01f-745115e27731-c000.snappy.parquet:\n"
     ]
    },
    {
     "name": "stderr",
     "output_type": "stream",
     "text": [
      "                                                                                \r"
     ]
    },
    {
     "name": "stdout",
     "output_type": "stream",
     "text": [
      "Saved gs://my-bigdata-project-cm/aggregated/part-00003-8dd1a9c7-77f6-4261-b01f-745115e27731-c000.snappy.parquet\n",
      "Processing cleaned/yellow_tripdata_2021-08.parquet/part-00004-8dd1a9c7-77f6-4261-b01f-745115e27731-c000.snappy.parquet:\n"
     ]
    },
    {
     "name": "stderr",
     "output_type": "stream",
     "text": [
      "                                                                                \r"
     ]
    },
    {
     "name": "stdout",
     "output_type": "stream",
     "text": [
      "Saved gs://my-bigdata-project-cm/aggregated/part-00004-8dd1a9c7-77f6-4261-b01f-745115e27731-c000.snappy.parquet\n",
      "Processing cleaned/yellow_tripdata_2021-08.parquet/part-00005-8dd1a9c7-77f6-4261-b01f-745115e27731-c000.snappy.parquet:\n"
     ]
    },
    {
     "name": "stderr",
     "output_type": "stream",
     "text": [
      "                                                                                \r"
     ]
    },
    {
     "name": "stdout",
     "output_type": "stream",
     "text": [
      "Saved gs://my-bigdata-project-cm/aggregated/part-00005-8dd1a9c7-77f6-4261-b01f-745115e27731-c000.snappy.parquet\n",
      "Processing cleaned/yellow_tripdata_2021-08.parquet/part-00006-8dd1a9c7-77f6-4261-b01f-745115e27731-c000.snappy.parquet:\n"
     ]
    },
    {
     "name": "stderr",
     "output_type": "stream",
     "text": [
      "                                                                                \r"
     ]
    },
    {
     "name": "stdout",
     "output_type": "stream",
     "text": [
      "Saved gs://my-bigdata-project-cm/aggregated/part-00006-8dd1a9c7-77f6-4261-b01f-745115e27731-c000.snappy.parquet\n",
      "Processing cleaned/yellow_tripdata_2021-08.parquet/part-00007-8dd1a9c7-77f6-4261-b01f-745115e27731-c000.snappy.parquet:\n"
     ]
    },
    {
     "name": "stderr",
     "output_type": "stream",
     "text": [
      "                                                                                \r"
     ]
    },
    {
     "name": "stdout",
     "output_type": "stream",
     "text": [
      "Saved gs://my-bigdata-project-cm/aggregated/part-00007-8dd1a9c7-77f6-4261-b01f-745115e27731-c000.snappy.parquet\n",
      "Processing cleaned/yellow_tripdata_2021-08.parquet/part-00008-8dd1a9c7-77f6-4261-b01f-745115e27731-c000.snappy.parquet:\n"
     ]
    },
    {
     "name": "stderr",
     "output_type": "stream",
     "text": [
      "                                                                                \r"
     ]
    },
    {
     "name": "stdout",
     "output_type": "stream",
     "text": [
      "Saved gs://my-bigdata-project-cm/aggregated/part-00008-8dd1a9c7-77f6-4261-b01f-745115e27731-c000.snappy.parquet\n",
      "Processing cleaned/yellow_tripdata_2021-08.parquet/part-00009-8dd1a9c7-77f6-4261-b01f-745115e27731-c000.snappy.parquet:\n"
     ]
    },
    {
     "name": "stderr",
     "output_type": "stream",
     "text": [
      "                                                                                \r"
     ]
    },
    {
     "name": "stdout",
     "output_type": "stream",
     "text": [
      "Saved gs://my-bigdata-project-cm/aggregated/part-00009-8dd1a9c7-77f6-4261-b01f-745115e27731-c000.snappy.parquet\n",
      "Processing cleaned/yellow_tripdata_2021-08.parquet/part-00010-8dd1a9c7-77f6-4261-b01f-745115e27731-c000.snappy.parquet:\n"
     ]
    },
    {
     "name": "stderr",
     "output_type": "stream",
     "text": [
      "                                                                                \r"
     ]
    },
    {
     "name": "stdout",
     "output_type": "stream",
     "text": [
      "Saved gs://my-bigdata-project-cm/aggregated/part-00010-8dd1a9c7-77f6-4261-b01f-745115e27731-c000.snappy.parquet\n",
      "Processing cleaned/yellow_tripdata_2021-08.parquet/part-00011-8dd1a9c7-77f6-4261-b01f-745115e27731-c000.snappy.parquet:\n"
     ]
    },
    {
     "name": "stderr",
     "output_type": "stream",
     "text": [
      "                                                                                \r"
     ]
    },
    {
     "name": "stdout",
     "output_type": "stream",
     "text": [
      "Saved gs://my-bigdata-project-cm/aggregated/part-00011-8dd1a9c7-77f6-4261-b01f-745115e27731-c000.snappy.parquet\n",
      "Skipping file cleaned/yellow_tripdata_2021-09.parquet/\n",
      "Skipping file cleaned/yellow_tripdata_2021-09.parquet/_SUCCESS\n",
      "Processing cleaned/yellow_tripdata_2021-09.parquet/part-00000-bad4b2ff-b68c-4208-8935-b267cfb64c02-c000.snappy.parquet:\n"
     ]
    },
    {
     "name": "stderr",
     "output_type": "stream",
     "text": [
      "                                                                                \r"
     ]
    },
    {
     "name": "stdout",
     "output_type": "stream",
     "text": [
      "Saved gs://my-bigdata-project-cm/aggregated/part-00000-bad4b2ff-b68c-4208-8935-b267cfb64c02-c000.snappy.parquet\n",
      "Processing cleaned/yellow_tripdata_2021-09.parquet/part-00001-bad4b2ff-b68c-4208-8935-b267cfb64c02-c000.snappy.parquet:\n"
     ]
    },
    {
     "name": "stderr",
     "output_type": "stream",
     "text": [
      "                                                                                \r"
     ]
    },
    {
     "name": "stdout",
     "output_type": "stream",
     "text": [
      "Saved gs://my-bigdata-project-cm/aggregated/part-00001-bad4b2ff-b68c-4208-8935-b267cfb64c02-c000.snappy.parquet\n",
      "Processing cleaned/yellow_tripdata_2021-09.parquet/part-00002-bad4b2ff-b68c-4208-8935-b267cfb64c02-c000.snappy.parquet:\n"
     ]
    },
    {
     "name": "stderr",
     "output_type": "stream",
     "text": [
      "                                                                                \r"
     ]
    },
    {
     "name": "stdout",
     "output_type": "stream",
     "text": [
      "Saved gs://my-bigdata-project-cm/aggregated/part-00002-bad4b2ff-b68c-4208-8935-b267cfb64c02-c000.snappy.parquet\n",
      "Processing cleaned/yellow_tripdata_2021-09.parquet/part-00003-bad4b2ff-b68c-4208-8935-b267cfb64c02-c000.snappy.parquet:\n"
     ]
    },
    {
     "name": "stderr",
     "output_type": "stream",
     "text": [
      "                                                                                \r"
     ]
    },
    {
     "name": "stdout",
     "output_type": "stream",
     "text": [
      "Saved gs://my-bigdata-project-cm/aggregated/part-00003-bad4b2ff-b68c-4208-8935-b267cfb64c02-c000.snappy.parquet\n",
      "Processing cleaned/yellow_tripdata_2021-09.parquet/part-00004-bad4b2ff-b68c-4208-8935-b267cfb64c02-c000.snappy.parquet:\n"
     ]
    },
    {
     "name": "stderr",
     "output_type": "stream",
     "text": [
      "                                                                                \r"
     ]
    },
    {
     "name": "stdout",
     "output_type": "stream",
     "text": [
      "Saved gs://my-bigdata-project-cm/aggregated/part-00004-bad4b2ff-b68c-4208-8935-b267cfb64c02-c000.snappy.parquet\n",
      "Processing cleaned/yellow_tripdata_2021-09.parquet/part-00005-bad4b2ff-b68c-4208-8935-b267cfb64c02-c000.snappy.parquet:\n"
     ]
    },
    {
     "name": "stderr",
     "output_type": "stream",
     "text": [
      "                                                                                \r"
     ]
    },
    {
     "name": "stdout",
     "output_type": "stream",
     "text": [
      "Saved gs://my-bigdata-project-cm/aggregated/part-00005-bad4b2ff-b68c-4208-8935-b267cfb64c02-c000.snappy.parquet\n",
      "Processing cleaned/yellow_tripdata_2021-09.parquet/part-00006-bad4b2ff-b68c-4208-8935-b267cfb64c02-c000.snappy.parquet:\n"
     ]
    },
    {
     "name": "stderr",
     "output_type": "stream",
     "text": [
      "                                                                                \r"
     ]
    },
    {
     "name": "stdout",
     "output_type": "stream",
     "text": [
      "Saved gs://my-bigdata-project-cm/aggregated/part-00006-bad4b2ff-b68c-4208-8935-b267cfb64c02-c000.snappy.parquet\n",
      "Processing cleaned/yellow_tripdata_2021-09.parquet/part-00007-bad4b2ff-b68c-4208-8935-b267cfb64c02-c000.snappy.parquet:\n"
     ]
    },
    {
     "name": "stderr",
     "output_type": "stream",
     "text": [
      "                                                                                \r"
     ]
    },
    {
     "name": "stdout",
     "output_type": "stream",
     "text": [
      "Saved gs://my-bigdata-project-cm/aggregated/part-00007-bad4b2ff-b68c-4208-8935-b267cfb64c02-c000.snappy.parquet\n",
      "Processing cleaned/yellow_tripdata_2021-09.parquet/part-00008-bad4b2ff-b68c-4208-8935-b267cfb64c02-c000.snappy.parquet:\n"
     ]
    },
    {
     "name": "stderr",
     "output_type": "stream",
     "text": [
      "                                                                                \r"
     ]
    },
    {
     "name": "stdout",
     "output_type": "stream",
     "text": [
      "Saved gs://my-bigdata-project-cm/aggregated/part-00008-bad4b2ff-b68c-4208-8935-b267cfb64c02-c000.snappy.parquet\n",
      "Processing cleaned/yellow_tripdata_2021-09.parquet/part-00009-bad4b2ff-b68c-4208-8935-b267cfb64c02-c000.snappy.parquet:\n"
     ]
    },
    {
     "name": "stderr",
     "output_type": "stream",
     "text": [
      "                                                                                \r"
     ]
    },
    {
     "name": "stdout",
     "output_type": "stream",
     "text": [
      "Saved gs://my-bigdata-project-cm/aggregated/part-00009-bad4b2ff-b68c-4208-8935-b267cfb64c02-c000.snappy.parquet\n",
      "Processing cleaned/yellow_tripdata_2021-09.parquet/part-00010-bad4b2ff-b68c-4208-8935-b267cfb64c02-c000.snappy.parquet:\n"
     ]
    },
    {
     "name": "stderr",
     "output_type": "stream",
     "text": [
      "                                                                                \r"
     ]
    },
    {
     "name": "stdout",
     "output_type": "stream",
     "text": [
      "Saved gs://my-bigdata-project-cm/aggregated/part-00010-bad4b2ff-b68c-4208-8935-b267cfb64c02-c000.snappy.parquet\n",
      "Processing cleaned/yellow_tripdata_2021-09.parquet/part-00011-bad4b2ff-b68c-4208-8935-b267cfb64c02-c000.snappy.parquet:\n"
     ]
    },
    {
     "name": "stderr",
     "output_type": "stream",
     "text": [
      "                                                                                \r"
     ]
    },
    {
     "name": "stdout",
     "output_type": "stream",
     "text": [
      "Saved gs://my-bigdata-project-cm/aggregated/part-00011-bad4b2ff-b68c-4208-8935-b267cfb64c02-c000.snappy.parquet\n",
      "Processing cleaned/yellow_tripdata_2021-09.parquet/part-00012-bad4b2ff-b68c-4208-8935-b267cfb64c02-c000.snappy.parquet:\n"
     ]
    },
    {
     "name": "stderr",
     "output_type": "stream",
     "text": [
      "                                                                                \r"
     ]
    },
    {
     "name": "stdout",
     "output_type": "stream",
     "text": [
      "Saved gs://my-bigdata-project-cm/aggregated/part-00012-bad4b2ff-b68c-4208-8935-b267cfb64c02-c000.snappy.parquet\n",
      "Skipping file cleaned/yellow_tripdata_2021-10.parquet/\n",
      "Skipping file cleaned/yellow_tripdata_2021-10.parquet/_SUCCESS\n",
      "Processing cleaned/yellow_tripdata_2021-10.parquet/part-00000-cfc4d823-b079-478e-92b1-8954dd7e2609-c000.snappy.parquet:\n"
     ]
    },
    {
     "name": "stderr",
     "output_type": "stream",
     "text": [
      "                                                                                \r"
     ]
    },
    {
     "name": "stdout",
     "output_type": "stream",
     "text": [
      "Saved gs://my-bigdata-project-cm/aggregated/part-00000-cfc4d823-b079-478e-92b1-8954dd7e2609-c000.snappy.parquet\n",
      "Processing cleaned/yellow_tripdata_2021-10.parquet/part-00001-cfc4d823-b079-478e-92b1-8954dd7e2609-c000.snappy.parquet:\n"
     ]
    },
    {
     "name": "stderr",
     "output_type": "stream",
     "text": [
      "                                                                                \r"
     ]
    },
    {
     "name": "stdout",
     "output_type": "stream",
     "text": [
      "Saved gs://my-bigdata-project-cm/aggregated/part-00001-cfc4d823-b079-478e-92b1-8954dd7e2609-c000.snappy.parquet\n",
      "Processing cleaned/yellow_tripdata_2021-10.parquet/part-00002-cfc4d823-b079-478e-92b1-8954dd7e2609-c000.snappy.parquet:\n"
     ]
    },
    {
     "name": "stderr",
     "output_type": "stream",
     "text": [
      "                                                                                \r"
     ]
    },
    {
     "name": "stdout",
     "output_type": "stream",
     "text": [
      "Saved gs://my-bigdata-project-cm/aggregated/part-00002-cfc4d823-b079-478e-92b1-8954dd7e2609-c000.snappy.parquet\n",
      "Processing cleaned/yellow_tripdata_2021-10.parquet/part-00003-cfc4d823-b079-478e-92b1-8954dd7e2609-c000.snappy.parquet:\n"
     ]
    },
    {
     "name": "stderr",
     "output_type": "stream",
     "text": [
      "                                                                                \r"
     ]
    },
    {
     "name": "stdout",
     "output_type": "stream",
     "text": [
      "Saved gs://my-bigdata-project-cm/aggregated/part-00004-cfc4d823-b079-478e-92b1-8954dd7e2609-c000.snappy.parquet\n",
      "Processing cleaned/yellow_tripdata_2021-10.parquet/part-00005-cfc4d823-b079-478e-92b1-8954dd7e2609-c000.snappy.parquet:\n"
     ]
    },
    {
     "name": "stderr",
     "output_type": "stream",
     "text": [
      "                                                                                \r"
     ]
    },
    {
     "name": "stdout",
     "output_type": "stream",
     "text": [
      "Saved gs://my-bigdata-project-cm/aggregated/part-00005-cfc4d823-b079-478e-92b1-8954dd7e2609-c000.snappy.parquet\n",
      "Processing cleaned/yellow_tripdata_2021-10.parquet/part-00006-cfc4d823-b079-478e-92b1-8954dd7e2609-c000.snappy.parquet:\n"
     ]
    },
    {
     "name": "stderr",
     "output_type": "stream",
     "text": [
      "                                                                                \r"
     ]
    },
    {
     "name": "stdout",
     "output_type": "stream",
     "text": [
      "Saved gs://my-bigdata-project-cm/aggregated/part-00006-cfc4d823-b079-478e-92b1-8954dd7e2609-c000.snappy.parquet\n",
      "Processing cleaned/yellow_tripdata_2021-10.parquet/part-00007-cfc4d823-b079-478e-92b1-8954dd7e2609-c000.snappy.parquet:\n"
     ]
    },
    {
     "name": "stderr",
     "output_type": "stream",
     "text": [
      "                                                                                \r"
     ]
    },
    {
     "name": "stdout",
     "output_type": "stream",
     "text": [
      "Saved gs://my-bigdata-project-cm/aggregated/part-00007-cfc4d823-b079-478e-92b1-8954dd7e2609-c000.snappy.parquet\n",
      "Processing cleaned/yellow_tripdata_2021-10.parquet/part-00008-cfc4d823-b079-478e-92b1-8954dd7e2609-c000.snappy.parquet:\n"
     ]
    },
    {
     "name": "stderr",
     "output_type": "stream",
     "text": [
      "                                                                                \r"
     ]
    },
    {
     "name": "stdout",
     "output_type": "stream",
     "text": [
      "Saved gs://my-bigdata-project-cm/aggregated/part-00008-cfc4d823-b079-478e-92b1-8954dd7e2609-c000.snappy.parquet\n",
      "Processing cleaned/yellow_tripdata_2021-10.parquet/part-00009-cfc4d823-b079-478e-92b1-8954dd7e2609-c000.snappy.parquet:\n"
     ]
    },
    {
     "name": "stderr",
     "output_type": "stream",
     "text": [
      "                                                                                \r"
     ]
    },
    {
     "name": "stdout",
     "output_type": "stream",
     "text": [
      "Saved gs://my-bigdata-project-cm/aggregated/part-00009-cfc4d823-b079-478e-92b1-8954dd7e2609-c000.snappy.parquet\n",
      "Processing cleaned/yellow_tripdata_2021-10.parquet/part-00010-cfc4d823-b079-478e-92b1-8954dd7e2609-c000.snappy.parquet:\n"
     ]
    },
    {
     "name": "stderr",
     "output_type": "stream",
     "text": [
      "                                                                                \r"
     ]
    },
    {
     "name": "stdout",
     "output_type": "stream",
     "text": [
      "Saved gs://my-bigdata-project-cm/aggregated/part-00010-cfc4d823-b079-478e-92b1-8954dd7e2609-c000.snappy.parquet\n",
      "Processing cleaned/yellow_tripdata_2021-10.parquet/part-00011-cfc4d823-b079-478e-92b1-8954dd7e2609-c000.snappy.parquet:\n"
     ]
    },
    {
     "name": "stderr",
     "output_type": "stream",
     "text": [
      "                                                                                \r"
     ]
    },
    {
     "name": "stdout",
     "output_type": "stream",
     "text": [
      "Saved gs://my-bigdata-project-cm/aggregated/part-00011-cfc4d823-b079-478e-92b1-8954dd7e2609-c000.snappy.parquet\n",
      "Skipping file cleaned/yellow_tripdata_2021-11.parquet/\n",
      "Skipping file cleaned/yellow_tripdata_2021-11.parquet/_SUCCESS\n",
      "Processing cleaned/yellow_tripdata_2021-11.parquet/part-00000-0bdce76e-aadf-45e4-b3dd-c2abdb43c11e-c000.snappy.parquet:\n"
     ]
    },
    {
     "name": "stderr",
     "output_type": "stream",
     "text": [
      "                                                                                \r"
     ]
    },
    {
     "name": "stdout",
     "output_type": "stream",
     "text": [
      "Saved gs://my-bigdata-project-cm/aggregated/part-00000-0bdce76e-aadf-45e4-b3dd-c2abdb43c11e-c000.snappy.parquet\n",
      "Processing cleaned/yellow_tripdata_2021-11.parquet/part-00001-0bdce76e-aadf-45e4-b3dd-c2abdb43c11e-c000.snappy.parquet:\n"
     ]
    },
    {
     "name": "stderr",
     "output_type": "stream",
     "text": [
      "                                                                                \r"
     ]
    },
    {
     "name": "stdout",
     "output_type": "stream",
     "text": [
      "Saved gs://my-bigdata-project-cm/aggregated/part-00001-0bdce76e-aadf-45e4-b3dd-c2abdb43c11e-c000.snappy.parquet\n",
      "Processing cleaned/yellow_tripdata_2021-11.parquet/part-00002-0bdce76e-aadf-45e4-b3dd-c2abdb43c11e-c000.snappy.parquet:\n"
     ]
    },
    {
     "name": "stderr",
     "output_type": "stream",
     "text": [
      "                                                                                \r"
     ]
    },
    {
     "name": "stdout",
     "output_type": "stream",
     "text": [
      "Saved gs://my-bigdata-project-cm/aggregated/part-00002-0bdce76e-aadf-45e4-b3dd-c2abdb43c11e-c000.snappy.parquet\n",
      "Processing cleaned/yellow_tripdata_2021-11.parquet/part-00003-0bdce76e-aadf-45e4-b3dd-c2abdb43c11e-c000.snappy.parquet:\n"
     ]
    },
    {
     "name": "stderr",
     "output_type": "stream",
     "text": [
      "                                                                                \r"
     ]
    },
    {
     "name": "stdout",
     "output_type": "stream",
     "text": [
      "Saved gs://my-bigdata-project-cm/aggregated/part-00003-0bdce76e-aadf-45e4-b3dd-c2abdb43c11e-c000.snappy.parquet\n",
      "Processing cleaned/yellow_tripdata_2021-11.parquet/part-00004-0bdce76e-aadf-45e4-b3dd-c2abdb43c11e-c000.snappy.parquet:\n"
     ]
    },
    {
     "name": "stderr",
     "output_type": "stream",
     "text": [
      "                                                                                \r"
     ]
    },
    {
     "name": "stdout",
     "output_type": "stream",
     "text": [
      "Saved gs://my-bigdata-project-cm/aggregated/part-00004-0bdce76e-aadf-45e4-b3dd-c2abdb43c11e-c000.snappy.parquet\n",
      "Processing cleaned/yellow_tripdata_2021-11.parquet/part-00005-0bdce76e-aadf-45e4-b3dd-c2abdb43c11e-c000.snappy.parquet:\n"
     ]
    },
    {
     "name": "stderr",
     "output_type": "stream",
     "text": [
      "                                                                                \r"
     ]
    },
    {
     "name": "stdout",
     "output_type": "stream",
     "text": [
      "Saved gs://my-bigdata-project-cm/aggregated/part-00005-0bdce76e-aadf-45e4-b3dd-c2abdb43c11e-c000.snappy.parquet\n",
      "Processing cleaned/yellow_tripdata_2021-11.parquet/part-00006-0bdce76e-aadf-45e4-b3dd-c2abdb43c11e-c000.snappy.parquet:\n"
     ]
    },
    {
     "name": "stderr",
     "output_type": "stream",
     "text": [
      "                                                                                \r"
     ]
    },
    {
     "name": "stdout",
     "output_type": "stream",
     "text": [
      "Saved gs://my-bigdata-project-cm/aggregated/part-00006-0bdce76e-aadf-45e4-b3dd-c2abdb43c11e-c000.snappy.parquet\n",
      "Processing cleaned/yellow_tripdata_2021-11.parquet/part-00007-0bdce76e-aadf-45e4-b3dd-c2abdb43c11e-c000.snappy.parquet:\n"
     ]
    },
    {
     "name": "stderr",
     "output_type": "stream",
     "text": [
      "                                                                                \r"
     ]
    },
    {
     "name": "stdout",
     "output_type": "stream",
     "text": [
      "Saved gs://my-bigdata-project-cm/aggregated/part-00007-0bdce76e-aadf-45e4-b3dd-c2abdb43c11e-c000.snappy.parquet\n",
      "Processing cleaned/yellow_tripdata_2021-11.parquet/part-00008-0bdce76e-aadf-45e4-b3dd-c2abdb43c11e-c000.snappy.parquet:\n"
     ]
    },
    {
     "name": "stderr",
     "output_type": "stream",
     "text": [
      "                                                                                \r"
     ]
    },
    {
     "name": "stdout",
     "output_type": "stream",
     "text": [
      "Saved gs://my-bigdata-project-cm/aggregated/part-00008-0bdce76e-aadf-45e4-b3dd-c2abdb43c11e-c000.snappy.parquet\n",
      "Processing cleaned/yellow_tripdata_2021-11.parquet/part-00009-0bdce76e-aadf-45e4-b3dd-c2abdb43c11e-c000.snappy.parquet:\n"
     ]
    },
    {
     "name": "stderr",
     "output_type": "stream",
     "text": [
      "                                                                                \r"
     ]
    },
    {
     "name": "stdout",
     "output_type": "stream",
     "text": [
      "Saved gs://my-bigdata-project-cm/aggregated/part-00009-0bdce76e-aadf-45e4-b3dd-c2abdb43c11e-c000.snappy.parquet\n",
      "Processing cleaned/yellow_tripdata_2021-11.parquet/part-00010-0bdce76e-aadf-45e4-b3dd-c2abdb43c11e-c000.snappy.parquet:\n"
     ]
    },
    {
     "name": "stderr",
     "output_type": "stream",
     "text": [
      "                                                                                \r"
     ]
    },
    {
     "name": "stdout",
     "output_type": "stream",
     "text": [
      "Saved gs://my-bigdata-project-cm/aggregated/part-00010-0bdce76e-aadf-45e4-b3dd-c2abdb43c11e-c000.snappy.parquet\n",
      "Processing cleaned/yellow_tripdata_2021-11.parquet/part-00011-0bdce76e-aadf-45e4-b3dd-c2abdb43c11e-c000.snappy.parquet:\n"
     ]
    },
    {
     "name": "stderr",
     "output_type": "stream",
     "text": [
      "                                                                                \r"
     ]
    },
    {
     "name": "stdout",
     "output_type": "stream",
     "text": [
      "Saved gs://my-bigdata-project-cm/aggregated/part-00011-0bdce76e-aadf-45e4-b3dd-c2abdb43c11e-c000.snappy.parquet\n",
      "Skipping file cleaned/yellow_tripdata_2021-12.parquet/\n",
      "Skipping file cleaned/yellow_tripdata_2021-12.parquet/_SUCCESS\n",
      "Processing cleaned/yellow_tripdata_2021-12.parquet/part-00000-68fb87b0-d55d-4595-9f30-3eb9b2b34313-c000.snappy.parquet:\n"
     ]
    },
    {
     "name": "stderr",
     "output_type": "stream",
     "text": [
      "                                                                                \r"
     ]
    },
    {
     "name": "stdout",
     "output_type": "stream",
     "text": [
      "Saved gs://my-bigdata-project-cm/aggregated/part-00000-68fb87b0-d55d-4595-9f30-3eb9b2b34313-c000.snappy.parquet\n",
      "Processing cleaned/yellow_tripdata_2021-12.parquet/part-00001-68fb87b0-d55d-4595-9f30-3eb9b2b34313-c000.snappy.parquet:\n"
     ]
    },
    {
     "name": "stderr",
     "output_type": "stream",
     "text": [
      "                                                                                \r"
     ]
    },
    {
     "name": "stdout",
     "output_type": "stream",
     "text": [
      "Saved gs://my-bigdata-project-cm/aggregated/part-00001-68fb87b0-d55d-4595-9f30-3eb9b2b34313-c000.snappy.parquet\n",
      "Processing cleaned/yellow_tripdata_2021-12.parquet/part-00002-68fb87b0-d55d-4595-9f30-3eb9b2b34313-c000.snappy.parquet:\n"
     ]
    },
    {
     "name": "stderr",
     "output_type": "stream",
     "text": [
      "                                                                                \r"
     ]
    },
    {
     "name": "stdout",
     "output_type": "stream",
     "text": [
      "Saved gs://my-bigdata-project-cm/aggregated/part-00002-68fb87b0-d55d-4595-9f30-3eb9b2b34313-c000.snappy.parquet\n",
      "Processing cleaned/yellow_tripdata_2021-12.parquet/part-00003-68fb87b0-d55d-4595-9f30-3eb9b2b34313-c000.snappy.parquet:\n"
     ]
    },
    {
     "name": "stderr",
     "output_type": "stream",
     "text": [
      "                                                                                \r"
     ]
    },
    {
     "name": "stdout",
     "output_type": "stream",
     "text": [
      "Saved gs://my-bigdata-project-cm/aggregated/part-00003-68fb87b0-d55d-4595-9f30-3eb9b2b34313-c000.snappy.parquet\n",
      "Processing cleaned/yellow_tripdata_2021-12.parquet/part-00004-68fb87b0-d55d-4595-9f30-3eb9b2b34313-c000.snappy.parquet:\n"
     ]
    },
    {
     "name": "stderr",
     "output_type": "stream",
     "text": [
      "                                                                                \r"
     ]
    },
    {
     "name": "stdout",
     "output_type": "stream",
     "text": [
      "Saved gs://my-bigdata-project-cm/aggregated/part-00004-68fb87b0-d55d-4595-9f30-3eb9b2b34313-c000.snappy.parquet\n",
      "Processing cleaned/yellow_tripdata_2021-12.parquet/part-00005-68fb87b0-d55d-4595-9f30-3eb9b2b34313-c000.snappy.parquet:\n"
     ]
    },
    {
     "name": "stderr",
     "output_type": "stream",
     "text": [
      "                                                                                \r"
     ]
    },
    {
     "name": "stdout",
     "output_type": "stream",
     "text": [
      "Saved gs://my-bigdata-project-cm/aggregated/part-00005-68fb87b0-d55d-4595-9f30-3eb9b2b34313-c000.snappy.parquet\n",
      "Processing cleaned/yellow_tripdata_2021-12.parquet/part-00006-68fb87b0-d55d-4595-9f30-3eb9b2b34313-c000.snappy.parquet:\n"
     ]
    },
    {
     "name": "stderr",
     "output_type": "stream",
     "text": [
      "                                                                                \r"
     ]
    },
    {
     "name": "stdout",
     "output_type": "stream",
     "text": [
      "Saved gs://my-bigdata-project-cm/aggregated/part-00006-68fb87b0-d55d-4595-9f30-3eb9b2b34313-c000.snappy.parquet\n",
      "Processing cleaned/yellow_tripdata_2021-12.parquet/part-00007-68fb87b0-d55d-4595-9f30-3eb9b2b34313-c000.snappy.parquet:\n"
     ]
    },
    {
     "name": "stderr",
     "output_type": "stream",
     "text": [
      "                                                                                \r"
     ]
    },
    {
     "name": "stdout",
     "output_type": "stream",
     "text": [
      "Saved gs://my-bigdata-project-cm/aggregated/part-00007-68fb87b0-d55d-4595-9f30-3eb9b2b34313-c000.snappy.parquet\n",
      "Processing cleaned/yellow_tripdata_2021-12.parquet/part-00008-68fb87b0-d55d-4595-9f30-3eb9b2b34313-c000.snappy.parquet:\n"
     ]
    },
    {
     "name": "stderr",
     "output_type": "stream",
     "text": [
      "                                                                                \r"
     ]
    },
    {
     "name": "stdout",
     "output_type": "stream",
     "text": [
      "Saved gs://my-bigdata-project-cm/aggregated/part-00008-68fb87b0-d55d-4595-9f30-3eb9b2b34313-c000.snappy.parquet\n",
      "Processing cleaned/yellow_tripdata_2021-12.parquet/part-00009-68fb87b0-d55d-4595-9f30-3eb9b2b34313-c000.snappy.parquet:\n"
     ]
    },
    {
     "name": "stderr",
     "output_type": "stream",
     "text": [
      "                                                                                \r"
     ]
    },
    {
     "name": "stdout",
     "output_type": "stream",
     "text": [
      "Saved gs://my-bigdata-project-cm/aggregated/part-00009-68fb87b0-d55d-4595-9f30-3eb9b2b34313-c000.snappy.parquet\n",
      "Processing cleaned/yellow_tripdata_2021-12.parquet/part-00010-68fb87b0-d55d-4595-9f30-3eb9b2b34313-c000.snappy.parquet:\n"
     ]
    },
    {
     "name": "stderr",
     "output_type": "stream",
     "text": [
      "                                                                                \r"
     ]
    },
    {
     "name": "stdout",
     "output_type": "stream",
     "text": [
      "Saved gs://my-bigdata-project-cm/aggregated/part-00010-68fb87b0-d55d-4595-9f30-3eb9b2b34313-c000.snappy.parquet\n",
      "Processing cleaned/yellow_tripdata_2021-12.parquet/part-00011-68fb87b0-d55d-4595-9f30-3eb9b2b34313-c000.snappy.parquet:\n"
     ]
    },
    {
     "name": "stderr",
     "output_type": "stream",
     "text": [
      "                                                                                \r"
     ]
    },
    {
     "name": "stdout",
     "output_type": "stream",
     "text": [
      "Saved gs://my-bigdata-project-cm/aggregated/part-00011-68fb87b0-d55d-4595-9f30-3eb9b2b34313-c000.snappy.parquet\n",
      "Skipping file cleaned/yellow_tripdata_2022-01.parquet/\n",
      "Skipping file cleaned/yellow_tripdata_2022-01.parquet/_SUCCESS\n",
      "Processing cleaned/yellow_tripdata_2022-01.parquet/part-00000-5340854b-de55-470e-95bf-5e2e32573df3-c000.snappy.parquet:\n"
     ]
    },
    {
     "name": "stderr",
     "output_type": "stream",
     "text": [
      "                                                                                \r"
     ]
    },
    {
     "name": "stdout",
     "output_type": "stream",
     "text": [
      "Saved gs://my-bigdata-project-cm/aggregated/part-00000-5340854b-de55-470e-95bf-5e2e32573df3-c000.snappy.parquet\n",
      "Processing cleaned/yellow_tripdata_2022-01.parquet/part-00001-5340854b-de55-470e-95bf-5e2e32573df3-c000.snappy.parquet:\n"
     ]
    },
    {
     "name": "stderr",
     "output_type": "stream",
     "text": [
      "                                                                                \r"
     ]
    },
    {
     "name": "stdout",
     "output_type": "stream",
     "text": [
      "Saved gs://my-bigdata-project-cm/aggregated/part-00001-5340854b-de55-470e-95bf-5e2e32573df3-c000.snappy.parquet\n",
      "Processing cleaned/yellow_tripdata_2022-01.parquet/part-00002-5340854b-de55-470e-95bf-5e2e32573df3-c000.snappy.parquet:\n"
     ]
    },
    {
     "name": "stderr",
     "output_type": "stream",
     "text": [
      "                                                                                \r"
     ]
    },
    {
     "name": "stdout",
     "output_type": "stream",
     "text": [
      "Saved gs://my-bigdata-project-cm/aggregated/part-00002-5340854b-de55-470e-95bf-5e2e32573df3-c000.snappy.parquet\n",
      "Processing cleaned/yellow_tripdata_2022-01.parquet/part-00003-5340854b-de55-470e-95bf-5e2e32573df3-c000.snappy.parquet:\n"
     ]
    },
    {
     "name": "stderr",
     "output_type": "stream",
     "text": [
      "                                                                                \r"
     ]
    },
    {
     "name": "stdout",
     "output_type": "stream",
     "text": [
      "Saved gs://my-bigdata-project-cm/aggregated/part-00003-5340854b-de55-470e-95bf-5e2e32573df3-c000.snappy.parquet\n",
      "Processing cleaned/yellow_tripdata_2022-01.parquet/part-00004-5340854b-de55-470e-95bf-5e2e32573df3-c000.snappy.parquet:\n"
     ]
    },
    {
     "name": "stderr",
     "output_type": "stream",
     "text": [
      "                                                                                \r"
     ]
    },
    {
     "name": "stdout",
     "output_type": "stream",
     "text": [
      "Saved gs://my-bigdata-project-cm/aggregated/part-00004-5340854b-de55-470e-95bf-5e2e32573df3-c000.snappy.parquet\n",
      "Processing cleaned/yellow_tripdata_2022-01.parquet/part-00005-5340854b-de55-470e-95bf-5e2e32573df3-c000.snappy.parquet:\n"
     ]
    },
    {
     "name": "stderr",
     "output_type": "stream",
     "text": [
      "                                                                                \r"
     ]
    },
    {
     "name": "stdout",
     "output_type": "stream",
     "text": [
      "Saved gs://my-bigdata-project-cm/aggregated/part-00005-5340854b-de55-470e-95bf-5e2e32573df3-c000.snappy.parquet\n",
      "Processing cleaned/yellow_tripdata_2022-01.parquet/part-00006-5340854b-de55-470e-95bf-5e2e32573df3-c000.snappy.parquet:\n"
     ]
    },
    {
     "name": "stderr",
     "output_type": "stream",
     "text": [
      "                                                                                \r"
     ]
    },
    {
     "name": "stdout",
     "output_type": "stream",
     "text": [
      "Saved gs://my-bigdata-project-cm/aggregated/part-00006-5340854b-de55-470e-95bf-5e2e32573df3-c000.snappy.parquet\n",
      "Processing cleaned/yellow_tripdata_2022-01.parquet/part-00007-5340854b-de55-470e-95bf-5e2e32573df3-c000.snappy.parquet:\n"
     ]
    },
    {
     "name": "stderr",
     "output_type": "stream",
     "text": [
      "                                                                                \r"
     ]
    },
    {
     "name": "stdout",
     "output_type": "stream",
     "text": [
      "Saved gs://my-bigdata-project-cm/aggregated/part-00007-5340854b-de55-470e-95bf-5e2e32573df3-c000.snappy.parquet\n",
      "Processing cleaned/yellow_tripdata_2022-01.parquet/part-00008-5340854b-de55-470e-95bf-5e2e32573df3-c000.snappy.parquet:\n"
     ]
    },
    {
     "name": "stderr",
     "output_type": "stream",
     "text": [
      "                                                                                \r"
     ]
    },
    {
     "name": "stdout",
     "output_type": "stream",
     "text": [
      "Saved gs://my-bigdata-project-cm/aggregated/part-00008-5340854b-de55-470e-95bf-5e2e32573df3-c000.snappy.parquet\n",
      "Processing cleaned/yellow_tripdata_2022-01.parquet/part-00009-5340854b-de55-470e-95bf-5e2e32573df3-c000.snappy.parquet:\n"
     ]
    },
    {
     "name": "stderr",
     "output_type": "stream",
     "text": [
      "                                                                                \r"
     ]
    },
    {
     "name": "stdout",
     "output_type": "stream",
     "text": [
      "Saved gs://my-bigdata-project-cm/aggregated/part-00009-5340854b-de55-470e-95bf-5e2e32573df3-c000.snappy.parquet\n",
      "Processing cleaned/yellow_tripdata_2022-01.parquet/part-00010-5340854b-de55-470e-95bf-5e2e32573df3-c000.snappy.parquet:\n"
     ]
    },
    {
     "name": "stderr",
     "output_type": "stream",
     "text": [
      "                                                                                \r"
     ]
    },
    {
     "name": "stdout",
     "output_type": "stream",
     "text": [
      "Saved gs://my-bigdata-project-cm/aggregated/part-00010-5340854b-de55-470e-95bf-5e2e32573df3-c000.snappy.parquet\n",
      "Processing cleaned/yellow_tripdata_2022-01.parquet/part-00011-5340854b-de55-470e-95bf-5e2e32573df3-c000.snappy.parquet:\n"
     ]
    },
    {
     "name": "stderr",
     "output_type": "stream",
     "text": [
      "                                                                                \r"
     ]
    },
    {
     "name": "stdout",
     "output_type": "stream",
     "text": [
      "Saved gs://my-bigdata-project-cm/aggregated/part-00011-5340854b-de55-470e-95bf-5e2e32573df3-c000.snappy.parquet\n",
      "Skipping file cleaned/yellow_tripdata_2022-02.parquet/\n",
      "Skipping file cleaned/yellow_tripdata_2022-02.parquet/_SUCCESS\n",
      "Processing cleaned/yellow_tripdata_2022-02.parquet/part-00000-b97dc211-80a9-493e-84d1-6ff673501572-c000.snappy.parquet:\n"
     ]
    },
    {
     "name": "stderr",
     "output_type": "stream",
     "text": [
      "                                                                                \r"
     ]
    },
    {
     "name": "stdout",
     "output_type": "stream",
     "text": [
      "Saved gs://my-bigdata-project-cm/aggregated/part-00000-b97dc211-80a9-493e-84d1-6ff673501572-c000.snappy.parquet\n",
      "Processing cleaned/yellow_tripdata_2022-02.parquet/part-00001-b97dc211-80a9-493e-84d1-6ff673501572-c000.snappy.parquet:\n"
     ]
    },
    {
     "name": "stderr",
     "output_type": "stream",
     "text": [
      "                                                                                \r"
     ]
    },
    {
     "name": "stdout",
     "output_type": "stream",
     "text": [
      "Saved gs://my-bigdata-project-cm/aggregated/part-00001-b97dc211-80a9-493e-84d1-6ff673501572-c000.snappy.parquet\n",
      "Processing cleaned/yellow_tripdata_2022-02.parquet/part-00002-b97dc211-80a9-493e-84d1-6ff673501572-c000.snappy.parquet:\n"
     ]
    },
    {
     "name": "stderr",
     "output_type": "stream",
     "text": [
      "                                                                                \r"
     ]
    },
    {
     "name": "stdout",
     "output_type": "stream",
     "text": [
      "Saved gs://my-bigdata-project-cm/aggregated/part-00002-b97dc211-80a9-493e-84d1-6ff673501572-c000.snappy.parquet\n",
      "Processing cleaned/yellow_tripdata_2022-02.parquet/part-00003-b97dc211-80a9-493e-84d1-6ff673501572-c000.snappy.parquet:\n"
     ]
    },
    {
     "name": "stderr",
     "output_type": "stream",
     "text": [
      "                                                                                \r"
     ]
    },
    {
     "name": "stdout",
     "output_type": "stream",
     "text": [
      "Saved gs://my-bigdata-project-cm/aggregated/part-00003-b97dc211-80a9-493e-84d1-6ff673501572-c000.snappy.parquet\n",
      "Processing cleaned/yellow_tripdata_2022-02.parquet/part-00004-b97dc211-80a9-493e-84d1-6ff673501572-c000.snappy.parquet:\n"
     ]
    },
    {
     "name": "stderr",
     "output_type": "stream",
     "text": [
      "                                                                                \r"
     ]
    },
    {
     "name": "stdout",
     "output_type": "stream",
     "text": [
      "Saved gs://my-bigdata-project-cm/aggregated/part-00004-b97dc211-80a9-493e-84d1-6ff673501572-c000.snappy.parquet\n",
      "Processing cleaned/yellow_tripdata_2022-02.parquet/part-00005-b97dc211-80a9-493e-84d1-6ff673501572-c000.snappy.parquet:\n"
     ]
    },
    {
     "name": "stderr",
     "output_type": "stream",
     "text": [
      "                                                                                \r"
     ]
    },
    {
     "name": "stdout",
     "output_type": "stream",
     "text": [
      "Saved gs://my-bigdata-project-cm/aggregated/part-00005-b97dc211-80a9-493e-84d1-6ff673501572-c000.snappy.parquet\n",
      "Processing cleaned/yellow_tripdata_2022-02.parquet/part-00006-b97dc211-80a9-493e-84d1-6ff673501572-c000.snappy.parquet:\n"
     ]
    },
    {
     "name": "stderr",
     "output_type": "stream",
     "text": [
      "                                                                                \r"
     ]
    },
    {
     "name": "stdout",
     "output_type": "stream",
     "text": [
      "Saved gs://my-bigdata-project-cm/aggregated/part-00006-b97dc211-80a9-493e-84d1-6ff673501572-c000.snappy.parquet\n",
      "Processing cleaned/yellow_tripdata_2022-02.parquet/part-00007-b97dc211-80a9-493e-84d1-6ff673501572-c000.snappy.parquet:\n"
     ]
    },
    {
     "name": "stderr",
     "output_type": "stream",
     "text": [
      "                                                                                \r"
     ]
    },
    {
     "name": "stdout",
     "output_type": "stream",
     "text": [
      "Saved gs://my-bigdata-project-cm/aggregated/part-00007-b97dc211-80a9-493e-84d1-6ff673501572-c000.snappy.parquet\n",
      "Processing cleaned/yellow_tripdata_2022-02.parquet/part-00008-b97dc211-80a9-493e-84d1-6ff673501572-c000.snappy.parquet:\n"
     ]
    },
    {
     "name": "stderr",
     "output_type": "stream",
     "text": [
      "                                                                                \r"
     ]
    },
    {
     "name": "stdout",
     "output_type": "stream",
     "text": [
      "Saved gs://my-bigdata-project-cm/aggregated/part-00008-b97dc211-80a9-493e-84d1-6ff673501572-c000.snappy.parquet\n",
      "Processing cleaned/yellow_tripdata_2022-02.parquet/part-00009-b97dc211-80a9-493e-84d1-6ff673501572-c000.snappy.parquet:\n"
     ]
    },
    {
     "name": "stderr",
     "output_type": "stream",
     "text": [
      "                                                                                \r"
     ]
    },
    {
     "name": "stdout",
     "output_type": "stream",
     "text": [
      "Saved gs://my-bigdata-project-cm/aggregated/part-00009-b97dc211-80a9-493e-84d1-6ff673501572-c000.snappy.parquet\n",
      "Processing cleaned/yellow_tripdata_2022-02.parquet/part-00010-b97dc211-80a9-493e-84d1-6ff673501572-c000.snappy.parquet:\n"
     ]
    },
    {
     "name": "stderr",
     "output_type": "stream",
     "text": [
      "                                                                                \r"
     ]
    },
    {
     "name": "stdout",
     "output_type": "stream",
     "text": [
      "Saved gs://my-bigdata-project-cm/aggregated/part-00010-b97dc211-80a9-493e-84d1-6ff673501572-c000.snappy.parquet\n",
      "Processing cleaned/yellow_tripdata_2022-02.parquet/part-00011-b97dc211-80a9-493e-84d1-6ff673501572-c000.snappy.parquet:\n"
     ]
    },
    {
     "name": "stderr",
     "output_type": "stream",
     "text": [
      "                                                                                \r"
     ]
    },
    {
     "name": "stdout",
     "output_type": "stream",
     "text": [
      "Saved gs://my-bigdata-project-cm/aggregated/part-00011-b97dc211-80a9-493e-84d1-6ff673501572-c000.snappy.parquet\n",
      "Skipping file cleaned/yellow_tripdata_2022-03.parquet/\n",
      "Skipping file cleaned/yellow_tripdata_2022-03.parquet/_SUCCESS\n",
      "Processing cleaned/yellow_tripdata_2022-03.parquet/part-00000-8e25316e-ac0f-46bd-9681-d89703ada6c1-c000.snappy.parquet:\n"
     ]
    },
    {
     "name": "stderr",
     "output_type": "stream",
     "text": [
      "                                                                                \r"
     ]
    },
    {
     "name": "stdout",
     "output_type": "stream",
     "text": [
      "Saved gs://my-bigdata-project-cm/aggregated/part-00000-8e25316e-ac0f-46bd-9681-d89703ada6c1-c000.snappy.parquet\n",
      "Processing cleaned/yellow_tripdata_2022-03.parquet/part-00001-8e25316e-ac0f-46bd-9681-d89703ada6c1-c000.snappy.parquet:\n"
     ]
    },
    {
     "name": "stderr",
     "output_type": "stream",
     "text": [
      "                                                                                \r"
     ]
    },
    {
     "name": "stdout",
     "output_type": "stream",
     "text": [
      "Saved gs://my-bigdata-project-cm/aggregated/part-00001-8e25316e-ac0f-46bd-9681-d89703ada6c1-c000.snappy.parquet\n",
      "Processing cleaned/yellow_tripdata_2022-03.parquet/part-00002-8e25316e-ac0f-46bd-9681-d89703ada6c1-c000.snappy.parquet:\n"
     ]
    },
    {
     "name": "stderr",
     "output_type": "stream",
     "text": [
      "                                                                                \r"
     ]
    },
    {
     "name": "stdout",
     "output_type": "stream",
     "text": [
      "Saved gs://my-bigdata-project-cm/aggregated/part-00002-8e25316e-ac0f-46bd-9681-d89703ada6c1-c000.snappy.parquet\n",
      "Processing cleaned/yellow_tripdata_2022-03.parquet/part-00003-8e25316e-ac0f-46bd-9681-d89703ada6c1-c000.snappy.parquet:\n"
     ]
    },
    {
     "name": "stderr",
     "output_type": "stream",
     "text": [
      "                                                                                \r"
     ]
    },
    {
     "name": "stdout",
     "output_type": "stream",
     "text": [
      "Saved gs://my-bigdata-project-cm/aggregated/part-00003-8e25316e-ac0f-46bd-9681-d89703ada6c1-c000.snappy.parquet\n",
      "Processing cleaned/yellow_tripdata_2022-03.parquet/part-00004-8e25316e-ac0f-46bd-9681-d89703ada6c1-c000.snappy.parquet:\n"
     ]
    },
    {
     "name": "stderr",
     "output_type": "stream",
     "text": [
      "                                                                                \r"
     ]
    },
    {
     "name": "stdout",
     "output_type": "stream",
     "text": [
      "Saved gs://my-bigdata-project-cm/aggregated/part-00004-8e25316e-ac0f-46bd-9681-d89703ada6c1-c000.snappy.parquet\n",
      "Processing cleaned/yellow_tripdata_2022-03.parquet/part-00005-8e25316e-ac0f-46bd-9681-d89703ada6c1-c000.snappy.parquet:\n"
     ]
    },
    {
     "name": "stderr",
     "output_type": "stream",
     "text": [
      "                                                                                \r"
     ]
    },
    {
     "name": "stdout",
     "output_type": "stream",
     "text": [
      "Saved gs://my-bigdata-project-cm/aggregated/part-00005-8e25316e-ac0f-46bd-9681-d89703ada6c1-c000.snappy.parquet\n",
      "Processing cleaned/yellow_tripdata_2022-03.parquet/part-00006-8e25316e-ac0f-46bd-9681-d89703ada6c1-c000.snappy.parquet:\n"
     ]
    },
    {
     "name": "stderr",
     "output_type": "stream",
     "text": [
      "                                                                                \r"
     ]
    },
    {
     "name": "stdout",
     "output_type": "stream",
     "text": [
      "Saved gs://my-bigdata-project-cm/aggregated/part-00006-8e25316e-ac0f-46bd-9681-d89703ada6c1-c000.snappy.parquet\n",
      "Processing cleaned/yellow_tripdata_2022-03.parquet/part-00007-8e25316e-ac0f-46bd-9681-d89703ada6c1-c000.snappy.parquet:\n"
     ]
    },
    {
     "name": "stderr",
     "output_type": "stream",
     "text": [
      "                                                                                \r"
     ]
    },
    {
     "name": "stdout",
     "output_type": "stream",
     "text": [
      "Saved gs://my-bigdata-project-cm/aggregated/part-00007-8e25316e-ac0f-46bd-9681-d89703ada6c1-c000.snappy.parquet\n",
      "Processing cleaned/yellow_tripdata_2022-03.parquet/part-00008-8e25316e-ac0f-46bd-9681-d89703ada6c1-c000.snappy.parquet:\n"
     ]
    },
    {
     "name": "stderr",
     "output_type": "stream",
     "text": [
      "                                                                                \r"
     ]
    },
    {
     "name": "stdout",
     "output_type": "stream",
     "text": [
      "Saved gs://my-bigdata-project-cm/aggregated/part-00008-8e25316e-ac0f-46bd-9681-d89703ada6c1-c000.snappy.parquet\n",
      "Processing cleaned/yellow_tripdata_2022-03.parquet/part-00009-8e25316e-ac0f-46bd-9681-d89703ada6c1-c000.snappy.parquet:\n"
     ]
    },
    {
     "name": "stderr",
     "output_type": "stream",
     "text": [
      "                                                                                \r"
     ]
    },
    {
     "name": "stdout",
     "output_type": "stream",
     "text": [
      "Saved gs://my-bigdata-project-cm/aggregated/part-00009-8e25316e-ac0f-46bd-9681-d89703ada6c1-c000.snappy.parquet\n",
      "Processing cleaned/yellow_tripdata_2022-03.parquet/part-00010-8e25316e-ac0f-46bd-9681-d89703ada6c1-c000.snappy.parquet:\n"
     ]
    },
    {
     "name": "stderr",
     "output_type": "stream",
     "text": [
      "                                                                                \r"
     ]
    },
    {
     "name": "stdout",
     "output_type": "stream",
     "text": [
      "Saved gs://my-bigdata-project-cm/aggregated/part-00010-8e25316e-ac0f-46bd-9681-d89703ada6c1-c000.snappy.parquet\n",
      "Processing cleaned/yellow_tripdata_2022-03.parquet/part-00011-8e25316e-ac0f-46bd-9681-d89703ada6c1-c000.snappy.parquet:\n"
     ]
    },
    {
     "name": "stderr",
     "output_type": "stream",
     "text": [
      "                                                                                \r"
     ]
    },
    {
     "name": "stdout",
     "output_type": "stream",
     "text": [
      "Saved gs://my-bigdata-project-cm/aggregated/part-00011-8e25316e-ac0f-46bd-9681-d89703ada6c1-c000.snappy.parquet\n",
      "Processing cleaned/yellow_tripdata_2022-03.parquet/part-00012-8e25316e-ac0f-46bd-9681-d89703ada6c1-c000.snappy.parquet:\n"
     ]
    },
    {
     "name": "stderr",
     "output_type": "stream",
     "text": [
      "                                                                                \r"
     ]
    },
    {
     "name": "stdout",
     "output_type": "stream",
     "text": [
      "Saved gs://my-bigdata-project-cm/aggregated/part-00012-8e25316e-ac0f-46bd-9681-d89703ada6c1-c000.snappy.parquet\n",
      "Skipping file cleaned/yellow_tripdata_2022-04.parquet/\n",
      "Skipping file cleaned/yellow_tripdata_2022-04.parquet/_SUCCESS\n",
      "Processing cleaned/yellow_tripdata_2022-04.parquet/part-00000-c392a21a-8cc5-4e58-9cf3-8a075f88ef76-c000.snappy.parquet:\n"
     ]
    },
    {
     "name": "stderr",
     "output_type": "stream",
     "text": [
      "                                                                                \r"
     ]
    },
    {
     "name": "stdout",
     "output_type": "stream",
     "text": [
      "Saved gs://my-bigdata-project-cm/aggregated/part-00000-c392a21a-8cc5-4e58-9cf3-8a075f88ef76-c000.snappy.parquet\n",
      "Processing cleaned/yellow_tripdata_2022-04.parquet/part-00001-c392a21a-8cc5-4e58-9cf3-8a075f88ef76-c000.snappy.parquet:\n"
     ]
    },
    {
     "name": "stderr",
     "output_type": "stream",
     "text": [
      "                                                                                \r"
     ]
    },
    {
     "name": "stdout",
     "output_type": "stream",
     "text": [
      "Saved gs://my-bigdata-project-cm/aggregated/part-00001-c392a21a-8cc5-4e58-9cf3-8a075f88ef76-c000.snappy.parquet\n",
      "Processing cleaned/yellow_tripdata_2022-04.parquet/part-00002-c392a21a-8cc5-4e58-9cf3-8a075f88ef76-c000.snappy.parquet:\n"
     ]
    },
    {
     "name": "stderr",
     "output_type": "stream",
     "text": [
      "                                                                                \r"
     ]
    },
    {
     "name": "stdout",
     "output_type": "stream",
     "text": [
      "Saved gs://my-bigdata-project-cm/aggregated/part-00002-c392a21a-8cc5-4e58-9cf3-8a075f88ef76-c000.snappy.parquet\n",
      "Processing cleaned/yellow_tripdata_2022-04.parquet/part-00003-c392a21a-8cc5-4e58-9cf3-8a075f88ef76-c000.snappy.parquet:\n"
     ]
    },
    {
     "name": "stderr",
     "output_type": "stream",
     "text": [
      "                                                                                \r"
     ]
    },
    {
     "name": "stdout",
     "output_type": "stream",
     "text": [
      "Saved gs://my-bigdata-project-cm/aggregated/part-00003-c392a21a-8cc5-4e58-9cf3-8a075f88ef76-c000.snappy.parquet\n",
      "Processing cleaned/yellow_tripdata_2022-04.parquet/part-00004-c392a21a-8cc5-4e58-9cf3-8a075f88ef76-c000.snappy.parquet:\n"
     ]
    },
    {
     "name": "stderr",
     "output_type": "stream",
     "text": [
      "                                                                                \r"
     ]
    },
    {
     "name": "stdout",
     "output_type": "stream",
     "text": [
      "Saved gs://my-bigdata-project-cm/aggregated/part-00004-c392a21a-8cc5-4e58-9cf3-8a075f88ef76-c000.snappy.parquet\n",
      "Processing cleaned/yellow_tripdata_2022-04.parquet/part-00005-c392a21a-8cc5-4e58-9cf3-8a075f88ef76-c000.snappy.parquet:\n"
     ]
    },
    {
     "name": "stderr",
     "output_type": "stream",
     "text": [
      "                                                                                \r"
     ]
    },
    {
     "name": "stdout",
     "output_type": "stream",
     "text": [
      "Saved gs://my-bigdata-project-cm/aggregated/part-00005-c392a21a-8cc5-4e58-9cf3-8a075f88ef76-c000.snappy.parquet\n",
      "Processing cleaned/yellow_tripdata_2022-04.parquet/part-00006-c392a21a-8cc5-4e58-9cf3-8a075f88ef76-c000.snappy.parquet:\n"
     ]
    },
    {
     "name": "stderr",
     "output_type": "stream",
     "text": [
      "                                                                                \r"
     ]
    },
    {
     "name": "stdout",
     "output_type": "stream",
     "text": [
      "Saved gs://my-bigdata-project-cm/aggregated/part-00006-c392a21a-8cc5-4e58-9cf3-8a075f88ef76-c000.snappy.parquet\n",
      "Processing cleaned/yellow_tripdata_2022-04.parquet/part-00007-c392a21a-8cc5-4e58-9cf3-8a075f88ef76-c000.snappy.parquet:\n"
     ]
    },
    {
     "name": "stderr",
     "output_type": "stream",
     "text": [
      "                                                                                \r"
     ]
    },
    {
     "name": "stdout",
     "output_type": "stream",
     "text": [
      "Saved gs://my-bigdata-project-cm/aggregated/part-00007-c392a21a-8cc5-4e58-9cf3-8a075f88ef76-c000.snappy.parquet\n",
      "Processing cleaned/yellow_tripdata_2022-04.parquet/part-00008-c392a21a-8cc5-4e58-9cf3-8a075f88ef76-c000.snappy.parquet:\n"
     ]
    },
    {
     "name": "stderr",
     "output_type": "stream",
     "text": [
      "                                                                                \r"
     ]
    },
    {
     "name": "stdout",
     "output_type": "stream",
     "text": [
      "Saved gs://my-bigdata-project-cm/aggregated/part-00008-c392a21a-8cc5-4e58-9cf3-8a075f88ef76-c000.snappy.parquet\n",
      "Processing cleaned/yellow_tripdata_2022-04.parquet/part-00009-c392a21a-8cc5-4e58-9cf3-8a075f88ef76-c000.snappy.parquet:\n"
     ]
    },
    {
     "name": "stderr",
     "output_type": "stream",
     "text": [
      "                                                                                \r"
     ]
    },
    {
     "name": "stdout",
     "output_type": "stream",
     "text": [
      "Saved gs://my-bigdata-project-cm/aggregated/part-00009-c392a21a-8cc5-4e58-9cf3-8a075f88ef76-c000.snappy.parquet\n",
      "Processing cleaned/yellow_tripdata_2022-04.parquet/part-00010-c392a21a-8cc5-4e58-9cf3-8a075f88ef76-c000.snappy.parquet:\n"
     ]
    },
    {
     "name": "stderr",
     "output_type": "stream",
     "text": [
      "                                                                                \r"
     ]
    },
    {
     "name": "stdout",
     "output_type": "stream",
     "text": [
      "Saved gs://my-bigdata-project-cm/aggregated/part-00010-c392a21a-8cc5-4e58-9cf3-8a075f88ef76-c000.snappy.parquet\n",
      "Processing cleaned/yellow_tripdata_2022-04.parquet/part-00011-c392a21a-8cc5-4e58-9cf3-8a075f88ef76-c000.snappy.parquet:\n"
     ]
    },
    {
     "name": "stderr",
     "output_type": "stream",
     "text": [
      "                                                                                \r"
     ]
    },
    {
     "name": "stdout",
     "output_type": "stream",
     "text": [
      "Saved gs://my-bigdata-project-cm/aggregated/part-00011-c392a21a-8cc5-4e58-9cf3-8a075f88ef76-c000.snappy.parquet\n",
      "Skipping file cleaned/yellow_tripdata_2022-05.parquet/\n",
      "Skipping file cleaned/yellow_tripdata_2022-05.parquet/_SUCCESS\n",
      "Processing cleaned/yellow_tripdata_2022-05.parquet/part-00000-6d38c0a4-94e3-4513-a5e8-c8ac01536224-c000.snappy.parquet:\n"
     ]
    },
    {
     "name": "stderr",
     "output_type": "stream",
     "text": [
      "                                                                                \r"
     ]
    },
    {
     "name": "stdout",
     "output_type": "stream",
     "text": [
      "Saved gs://my-bigdata-project-cm/aggregated/part-00000-6d38c0a4-94e3-4513-a5e8-c8ac01536224-c000.snappy.parquet\n",
      "Processing cleaned/yellow_tripdata_2022-05.parquet/part-00001-6d38c0a4-94e3-4513-a5e8-c8ac01536224-c000.snappy.parquet:\n"
     ]
    },
    {
     "name": "stderr",
     "output_type": "stream",
     "text": [
      "                                                                                \r"
     ]
    },
    {
     "name": "stdout",
     "output_type": "stream",
     "text": [
      "Saved gs://my-bigdata-project-cm/aggregated/part-00001-6d38c0a4-94e3-4513-a5e8-c8ac01536224-c000.snappy.parquet\n",
      "Processing cleaned/yellow_tripdata_2022-05.parquet/part-00002-6d38c0a4-94e3-4513-a5e8-c8ac01536224-c000.snappy.parquet:\n"
     ]
    },
    {
     "name": "stderr",
     "output_type": "stream",
     "text": [
      "                                                                                \r"
     ]
    },
    {
     "name": "stdout",
     "output_type": "stream",
     "text": [
      "Saved gs://my-bigdata-project-cm/aggregated/part-00002-6d38c0a4-94e3-4513-a5e8-c8ac01536224-c000.snappy.parquet\n",
      "Processing cleaned/yellow_tripdata_2022-05.parquet/part-00003-6d38c0a4-94e3-4513-a5e8-c8ac01536224-c000.snappy.parquet:\n"
     ]
    },
    {
     "name": "stderr",
     "output_type": "stream",
     "text": [
      "                                                                                \r"
     ]
    },
    {
     "name": "stdout",
     "output_type": "stream",
     "text": [
      "Saved gs://my-bigdata-project-cm/aggregated/part-00003-6d38c0a4-94e3-4513-a5e8-c8ac01536224-c000.snappy.parquet\n",
      "Processing cleaned/yellow_tripdata_2022-05.parquet/part-00004-6d38c0a4-94e3-4513-a5e8-c8ac01536224-c000.snappy.parquet:\n"
     ]
    },
    {
     "name": "stderr",
     "output_type": "stream",
     "text": [
      "                                                                                \r"
     ]
    },
    {
     "name": "stdout",
     "output_type": "stream",
     "text": [
      "Saved gs://my-bigdata-project-cm/aggregated/part-00004-6d38c0a4-94e3-4513-a5e8-c8ac01536224-c000.snappy.parquet\n",
      "Processing cleaned/yellow_tripdata_2022-05.parquet/part-00005-6d38c0a4-94e3-4513-a5e8-c8ac01536224-c000.snappy.parquet:\n"
     ]
    },
    {
     "name": "stderr",
     "output_type": "stream",
     "text": [
      "                                                                                \r"
     ]
    },
    {
     "name": "stdout",
     "output_type": "stream",
     "text": [
      "Saved gs://my-bigdata-project-cm/aggregated/part-00005-6d38c0a4-94e3-4513-a5e8-c8ac01536224-c000.snappy.parquet\n",
      "Processing cleaned/yellow_tripdata_2022-05.parquet/part-00006-6d38c0a4-94e3-4513-a5e8-c8ac01536224-c000.snappy.parquet:\n"
     ]
    },
    {
     "name": "stderr",
     "output_type": "stream",
     "text": [
      "                                                                                \r"
     ]
    },
    {
     "name": "stdout",
     "output_type": "stream",
     "text": [
      "Saved gs://my-bigdata-project-cm/aggregated/part-00006-6d38c0a4-94e3-4513-a5e8-c8ac01536224-c000.snappy.parquet\n",
      "Processing cleaned/yellow_tripdata_2022-05.parquet/part-00007-6d38c0a4-94e3-4513-a5e8-c8ac01536224-c000.snappy.parquet:\n"
     ]
    },
    {
     "name": "stderr",
     "output_type": "stream",
     "text": [
      "                                                                                \r"
     ]
    },
    {
     "name": "stdout",
     "output_type": "stream",
     "text": [
      "Saved gs://my-bigdata-project-cm/aggregated/part-00007-6d38c0a4-94e3-4513-a5e8-c8ac01536224-c000.snappy.parquet\n",
      "Processing cleaned/yellow_tripdata_2022-05.parquet/part-00008-6d38c0a4-94e3-4513-a5e8-c8ac01536224-c000.snappy.parquet:\n"
     ]
    },
    {
     "name": "stderr",
     "output_type": "stream",
     "text": [
      "                                                                                \r"
     ]
    },
    {
     "name": "stdout",
     "output_type": "stream",
     "text": [
      "Saved gs://my-bigdata-project-cm/aggregated/part-00008-6d38c0a4-94e3-4513-a5e8-c8ac01536224-c000.snappy.parquet\n",
      "Processing cleaned/yellow_tripdata_2022-05.parquet/part-00009-6d38c0a4-94e3-4513-a5e8-c8ac01536224-c000.snappy.parquet:\n"
     ]
    },
    {
     "name": "stderr",
     "output_type": "stream",
     "text": [
      "                                                                                \r"
     ]
    },
    {
     "name": "stdout",
     "output_type": "stream",
     "text": [
      "Saved gs://my-bigdata-project-cm/aggregated/part-00009-6d38c0a4-94e3-4513-a5e8-c8ac01536224-c000.snappy.parquet\n",
      "Processing cleaned/yellow_tripdata_2022-05.parquet/part-00010-6d38c0a4-94e3-4513-a5e8-c8ac01536224-c000.snappy.parquet:\n"
     ]
    },
    {
     "name": "stderr",
     "output_type": "stream",
     "text": [
      "                                                                                \r"
     ]
    },
    {
     "name": "stdout",
     "output_type": "stream",
     "text": [
      "Saved gs://my-bigdata-project-cm/aggregated/part-00010-6d38c0a4-94e3-4513-a5e8-c8ac01536224-c000.snappy.parquet\n",
      "Processing cleaned/yellow_tripdata_2022-05.parquet/part-00011-6d38c0a4-94e3-4513-a5e8-c8ac01536224-c000.snappy.parquet:\n"
     ]
    },
    {
     "name": "stderr",
     "output_type": "stream",
     "text": [
      "                                                                                \r"
     ]
    },
    {
     "name": "stdout",
     "output_type": "stream",
     "text": [
      "Saved gs://my-bigdata-project-cm/aggregated/part-00011-6d38c0a4-94e3-4513-a5e8-c8ac01536224-c000.snappy.parquet\n",
      "Processing cleaned/yellow_tripdata_2022-05.parquet/part-00012-6d38c0a4-94e3-4513-a5e8-c8ac01536224-c000.snappy.parquet:\n"
     ]
    },
    {
     "name": "stderr",
     "output_type": "stream",
     "text": [
      "                                                                                \r"
     ]
    },
    {
     "name": "stdout",
     "output_type": "stream",
     "text": [
      "Saved gs://my-bigdata-project-cm/aggregated/part-00012-6d38c0a4-94e3-4513-a5e8-c8ac01536224-c000.snappy.parquet\n",
      "Skipping file cleaned/yellow_tripdata_2022-06.parquet/\n",
      "Skipping file cleaned/yellow_tripdata_2022-06.parquet/_SUCCESS\n",
      "Processing cleaned/yellow_tripdata_2022-06.parquet/part-00000-2a2d3d12-26e5-4785-9099-5339485f2001-c000.snappy.parquet:\n"
     ]
    },
    {
     "name": "stderr",
     "output_type": "stream",
     "text": [
      "                                                                                \r"
     ]
    },
    {
     "name": "stdout",
     "output_type": "stream",
     "text": [
      "Saved gs://my-bigdata-project-cm/aggregated/part-00000-2a2d3d12-26e5-4785-9099-5339485f2001-c000.snappy.parquet\n",
      "Processing cleaned/yellow_tripdata_2022-06.parquet/part-00001-2a2d3d12-26e5-4785-9099-5339485f2001-c000.snappy.parquet:\n"
     ]
    },
    {
     "name": "stderr",
     "output_type": "stream",
     "text": [
      "                                                                                \r"
     ]
    },
    {
     "name": "stdout",
     "output_type": "stream",
     "text": [
      "Saved gs://my-bigdata-project-cm/aggregated/part-00001-2a2d3d12-26e5-4785-9099-5339485f2001-c000.snappy.parquet\n",
      "Processing cleaned/yellow_tripdata_2022-06.parquet/part-00002-2a2d3d12-26e5-4785-9099-5339485f2001-c000.snappy.parquet:\n"
     ]
    },
    {
     "name": "stderr",
     "output_type": "stream",
     "text": [
      "                                                                                \r"
     ]
    },
    {
     "name": "stdout",
     "output_type": "stream",
     "text": [
      "Saved gs://my-bigdata-project-cm/aggregated/part-00002-2a2d3d12-26e5-4785-9099-5339485f2001-c000.snappy.parquet\n",
      "Processing cleaned/yellow_tripdata_2022-06.parquet/part-00003-2a2d3d12-26e5-4785-9099-5339485f2001-c000.snappy.parquet:\n"
     ]
    },
    {
     "name": "stderr",
     "output_type": "stream",
     "text": [
      "                                                                                \r"
     ]
    },
    {
     "name": "stdout",
     "output_type": "stream",
     "text": [
      "Saved gs://my-bigdata-project-cm/aggregated/part-00003-2a2d3d12-26e5-4785-9099-5339485f2001-c000.snappy.parquet\n",
      "Processing cleaned/yellow_tripdata_2022-06.parquet/part-00004-2a2d3d12-26e5-4785-9099-5339485f2001-c000.snappy.parquet:\n"
     ]
    },
    {
     "name": "stderr",
     "output_type": "stream",
     "text": [
      "                                                                                \r"
     ]
    },
    {
     "name": "stdout",
     "output_type": "stream",
     "text": [
      "Saved gs://my-bigdata-project-cm/aggregated/part-00004-2a2d3d12-26e5-4785-9099-5339485f2001-c000.snappy.parquet\n",
      "Processing cleaned/yellow_tripdata_2022-06.parquet/part-00005-2a2d3d12-26e5-4785-9099-5339485f2001-c000.snappy.parquet:\n"
     ]
    },
    {
     "name": "stderr",
     "output_type": "stream",
     "text": [
      "                                                                                \r"
     ]
    },
    {
     "name": "stdout",
     "output_type": "stream",
     "text": [
      "Saved gs://my-bigdata-project-cm/aggregated/part-00006-2a2d3d12-26e5-4785-9099-5339485f2001-c000.snappy.parquet\n",
      "Processing cleaned/yellow_tripdata_2022-06.parquet/part-00007-2a2d3d12-26e5-4785-9099-5339485f2001-c000.snappy.parquet:\n"
     ]
    },
    {
     "name": "stderr",
     "output_type": "stream",
     "text": [
      "                                                                                \r"
     ]
    },
    {
     "name": "stdout",
     "output_type": "stream",
     "text": [
      "Saved gs://my-bigdata-project-cm/aggregated/part-00007-2a2d3d12-26e5-4785-9099-5339485f2001-c000.snappy.parquet\n",
      "Processing cleaned/yellow_tripdata_2022-06.parquet/part-00008-2a2d3d12-26e5-4785-9099-5339485f2001-c000.snappy.parquet:\n"
     ]
    },
    {
     "name": "stderr",
     "output_type": "stream",
     "text": [
      "                                                                                \r"
     ]
    },
    {
     "name": "stdout",
     "output_type": "stream",
     "text": [
      "Saved gs://my-bigdata-project-cm/aggregated/part-00008-2a2d3d12-26e5-4785-9099-5339485f2001-c000.snappy.parquet\n",
      "Processing cleaned/yellow_tripdata_2022-06.parquet/part-00009-2a2d3d12-26e5-4785-9099-5339485f2001-c000.snappy.parquet:\n"
     ]
    },
    {
     "name": "stderr",
     "output_type": "stream",
     "text": [
      "                                                                                \r"
     ]
    },
    {
     "name": "stdout",
     "output_type": "stream",
     "text": [
      "Saved gs://my-bigdata-project-cm/aggregated/part-00009-2a2d3d12-26e5-4785-9099-5339485f2001-c000.snappy.parquet\n",
      "Processing cleaned/yellow_tripdata_2022-06.parquet/part-00010-2a2d3d12-26e5-4785-9099-5339485f2001-c000.snappy.parquet:\n"
     ]
    },
    {
     "name": "stderr",
     "output_type": "stream",
     "text": [
      "                                                                                \r"
     ]
    },
    {
     "name": "stdout",
     "output_type": "stream",
     "text": [
      "Saved gs://my-bigdata-project-cm/aggregated/part-00010-2a2d3d12-26e5-4785-9099-5339485f2001-c000.snappy.parquet\n",
      "Processing cleaned/yellow_tripdata_2022-06.parquet/part-00011-2a2d3d12-26e5-4785-9099-5339485f2001-c000.snappy.parquet:\n"
     ]
    },
    {
     "name": "stderr",
     "output_type": "stream",
     "text": [
      "                                                                                \r"
     ]
    },
    {
     "name": "stdout",
     "output_type": "stream",
     "text": [
      "Saved gs://my-bigdata-project-cm/aggregated/part-00011-2a2d3d12-26e5-4785-9099-5339485f2001-c000.snappy.parquet\n",
      "Processing cleaned/yellow_tripdata_2022-06.parquet/part-00012-2a2d3d12-26e5-4785-9099-5339485f2001-c000.snappy.parquet:\n"
     ]
    },
    {
     "name": "stderr",
     "output_type": "stream",
     "text": [
      "                                                                                \r"
     ]
    },
    {
     "name": "stdout",
     "output_type": "stream",
     "text": [
      "Saved gs://my-bigdata-project-cm/aggregated/part-00012-2a2d3d12-26e5-4785-9099-5339485f2001-c000.snappy.parquet\n",
      "Skipping file cleaned/yellow_tripdata_2022-07.parquet/\n",
      "Skipping file cleaned/yellow_tripdata_2022-07.parquet/_SUCCESS\n",
      "Processing cleaned/yellow_tripdata_2022-07.parquet/part-00000-648055bd-2e77-419f-90b9-75b84ce878cc-c000.snappy.parquet:\n"
     ]
    },
    {
     "name": "stderr",
     "output_type": "stream",
     "text": [
      "                                                                                \r"
     ]
    },
    {
     "name": "stdout",
     "output_type": "stream",
     "text": [
      "Saved gs://my-bigdata-project-cm/aggregated/part-00000-648055bd-2e77-419f-90b9-75b84ce878cc-c000.snappy.parquet\n",
      "Processing cleaned/yellow_tripdata_2022-07.parquet/part-00001-648055bd-2e77-419f-90b9-75b84ce878cc-c000.snappy.parquet:\n"
     ]
    },
    {
     "name": "stderr",
     "output_type": "stream",
     "text": [
      "                                                                                \r"
     ]
    },
    {
     "name": "stdout",
     "output_type": "stream",
     "text": [
      "Saved gs://my-bigdata-project-cm/aggregated/part-00001-648055bd-2e77-419f-90b9-75b84ce878cc-c000.snappy.parquet\n",
      "Processing cleaned/yellow_tripdata_2022-07.parquet/part-00002-648055bd-2e77-419f-90b9-75b84ce878cc-c000.snappy.parquet:\n"
     ]
    },
    {
     "name": "stderr",
     "output_type": "stream",
     "text": [
      "                                                                                \r"
     ]
    },
    {
     "name": "stdout",
     "output_type": "stream",
     "text": [
      "Saved gs://my-bigdata-project-cm/aggregated/part-00003-648055bd-2e77-419f-90b9-75b84ce878cc-c000.snappy.parquet\n",
      "Processing cleaned/yellow_tripdata_2022-07.parquet/part-00004-648055bd-2e77-419f-90b9-75b84ce878cc-c000.snappy.parquet:\n"
     ]
    },
    {
     "name": "stderr",
     "output_type": "stream",
     "text": [
      "                                                                                \r"
     ]
    },
    {
     "name": "stdout",
     "output_type": "stream",
     "text": [
      "Saved gs://my-bigdata-project-cm/aggregated/part-00004-648055bd-2e77-419f-90b9-75b84ce878cc-c000.snappy.parquet\n",
      "Processing cleaned/yellow_tripdata_2022-07.parquet/part-00005-648055bd-2e77-419f-90b9-75b84ce878cc-c000.snappy.parquet:\n"
     ]
    },
    {
     "name": "stderr",
     "output_type": "stream",
     "text": [
      "                                                                                \r"
     ]
    },
    {
     "name": "stdout",
     "output_type": "stream",
     "text": [
      "Saved gs://my-bigdata-project-cm/aggregated/part-00005-648055bd-2e77-419f-90b9-75b84ce878cc-c000.snappy.parquet\n",
      "Processing cleaned/yellow_tripdata_2022-07.parquet/part-00006-648055bd-2e77-419f-90b9-75b84ce878cc-c000.snappy.parquet:\n"
     ]
    },
    {
     "name": "stderr",
     "output_type": "stream",
     "text": [
      "                                                                                \r"
     ]
    },
    {
     "name": "stdout",
     "output_type": "stream",
     "text": [
      "Saved gs://my-bigdata-project-cm/aggregated/part-00006-648055bd-2e77-419f-90b9-75b84ce878cc-c000.snappy.parquet\n",
      "Processing cleaned/yellow_tripdata_2022-07.parquet/part-00007-648055bd-2e77-419f-90b9-75b84ce878cc-c000.snappy.parquet:\n"
     ]
    },
    {
     "name": "stderr",
     "output_type": "stream",
     "text": [
      "                                                                                \r"
     ]
    },
    {
     "name": "stdout",
     "output_type": "stream",
     "text": [
      "Saved gs://my-bigdata-project-cm/aggregated/part-00007-648055bd-2e77-419f-90b9-75b84ce878cc-c000.snappy.parquet\n",
      "Processing cleaned/yellow_tripdata_2022-07.parquet/part-00008-648055bd-2e77-419f-90b9-75b84ce878cc-c000.snappy.parquet:\n"
     ]
    },
    {
     "name": "stderr",
     "output_type": "stream",
     "text": [
      "                                                                                \r"
     ]
    },
    {
     "name": "stdout",
     "output_type": "stream",
     "text": [
      "Saved gs://my-bigdata-project-cm/aggregated/part-00008-648055bd-2e77-419f-90b9-75b84ce878cc-c000.snappy.parquet\n",
      "Processing cleaned/yellow_tripdata_2022-07.parquet/part-00009-648055bd-2e77-419f-90b9-75b84ce878cc-c000.snappy.parquet:\n"
     ]
    },
    {
     "name": "stderr",
     "output_type": "stream",
     "text": [
      "                                                                                \r"
     ]
    },
    {
     "name": "stdout",
     "output_type": "stream",
     "text": [
      "Saved gs://my-bigdata-project-cm/aggregated/part-00009-648055bd-2e77-419f-90b9-75b84ce878cc-c000.snappy.parquet\n",
      "Processing cleaned/yellow_tripdata_2022-07.parquet/part-00010-648055bd-2e77-419f-90b9-75b84ce878cc-c000.snappy.parquet:\n"
     ]
    },
    {
     "name": "stderr",
     "output_type": "stream",
     "text": [
      "                                                                                \r"
     ]
    },
    {
     "name": "stdout",
     "output_type": "stream",
     "text": [
      "Saved gs://my-bigdata-project-cm/aggregated/part-00010-648055bd-2e77-419f-90b9-75b84ce878cc-c000.snappy.parquet\n",
      "Processing cleaned/yellow_tripdata_2022-07.parquet/part-00011-648055bd-2e77-419f-90b9-75b84ce878cc-c000.snappy.parquet:\n"
     ]
    },
    {
     "name": "stderr",
     "output_type": "stream",
     "text": [
      "                                                                                \r"
     ]
    },
    {
     "name": "stdout",
     "output_type": "stream",
     "text": [
      "Saved gs://my-bigdata-project-cm/aggregated/part-00011-648055bd-2e77-419f-90b9-75b84ce878cc-c000.snappy.parquet\n",
      "Skipping file cleaned/yellow_tripdata_2022-08.parquet/\n",
      "Skipping file cleaned/yellow_tripdata_2022-08.parquet/_SUCCESS\n",
      "Processing cleaned/yellow_tripdata_2022-08.parquet/part-00000-5fc023d0-8476-4fad-8b22-3f7fd5f84954-c000.snappy.parquet:\n"
     ]
    },
    {
     "name": "stderr",
     "output_type": "stream",
     "text": [
      "                                                                                \r"
     ]
    },
    {
     "name": "stdout",
     "output_type": "stream",
     "text": [
      "Saved gs://my-bigdata-project-cm/aggregated/part-00000-5fc023d0-8476-4fad-8b22-3f7fd5f84954-c000.snappy.parquet\n",
      "Processing cleaned/yellow_tripdata_2022-08.parquet/part-00001-5fc023d0-8476-4fad-8b22-3f7fd5f84954-c000.snappy.parquet:\n"
     ]
    },
    {
     "name": "stderr",
     "output_type": "stream",
     "text": [
      "                                                                                \r"
     ]
    },
    {
     "name": "stdout",
     "output_type": "stream",
     "text": [
      "Saved gs://my-bigdata-project-cm/aggregated/part-00001-5fc023d0-8476-4fad-8b22-3f7fd5f84954-c000.snappy.parquet\n",
      "Processing cleaned/yellow_tripdata_2022-08.parquet/part-00002-5fc023d0-8476-4fad-8b22-3f7fd5f84954-c000.snappy.parquet:\n"
     ]
    },
    {
     "name": "stderr",
     "output_type": "stream",
     "text": [
      "                                                                                \r"
     ]
    },
    {
     "name": "stdout",
     "output_type": "stream",
     "text": [
      "Saved gs://my-bigdata-project-cm/aggregated/part-00002-5fc023d0-8476-4fad-8b22-3f7fd5f84954-c000.snappy.parquet\n",
      "Processing cleaned/yellow_tripdata_2022-08.parquet/part-00003-5fc023d0-8476-4fad-8b22-3f7fd5f84954-c000.snappy.parquet:\n"
     ]
    },
    {
     "name": "stderr",
     "output_type": "stream",
     "text": [
      "                                                                                \r"
     ]
    },
    {
     "name": "stdout",
     "output_type": "stream",
     "text": [
      "Saved gs://my-bigdata-project-cm/aggregated/part-00003-5fc023d0-8476-4fad-8b22-3f7fd5f84954-c000.snappy.parquet\n",
      "Processing cleaned/yellow_tripdata_2022-08.parquet/part-00004-5fc023d0-8476-4fad-8b22-3f7fd5f84954-c000.snappy.parquet:\n"
     ]
    },
    {
     "name": "stderr",
     "output_type": "stream",
     "text": [
      "                                                                                \r"
     ]
    },
    {
     "name": "stdout",
     "output_type": "stream",
     "text": [
      "Saved gs://my-bigdata-project-cm/aggregated/part-00004-5fc023d0-8476-4fad-8b22-3f7fd5f84954-c000.snappy.parquet\n",
      "Processing cleaned/yellow_tripdata_2022-08.parquet/part-00005-5fc023d0-8476-4fad-8b22-3f7fd5f84954-c000.snappy.parquet:\n"
     ]
    },
    {
     "name": "stderr",
     "output_type": "stream",
     "text": [
      "                                                                                \r"
     ]
    },
    {
     "name": "stdout",
     "output_type": "stream",
     "text": [
      "Saved gs://my-bigdata-project-cm/aggregated/part-00005-5fc023d0-8476-4fad-8b22-3f7fd5f84954-c000.snappy.parquet\n",
      "Processing cleaned/yellow_tripdata_2022-08.parquet/part-00006-5fc023d0-8476-4fad-8b22-3f7fd5f84954-c000.snappy.parquet:\n"
     ]
    },
    {
     "name": "stderr",
     "output_type": "stream",
     "text": [
      "                                                                                \r"
     ]
    },
    {
     "name": "stdout",
     "output_type": "stream",
     "text": [
      "Saved gs://my-bigdata-project-cm/aggregated/part-00006-5fc023d0-8476-4fad-8b22-3f7fd5f84954-c000.snappy.parquet\n",
      "Processing cleaned/yellow_tripdata_2022-08.parquet/part-00007-5fc023d0-8476-4fad-8b22-3f7fd5f84954-c000.snappy.parquet:\n"
     ]
    },
    {
     "name": "stderr",
     "output_type": "stream",
     "text": [
      "                                                                                \r"
     ]
    },
    {
     "name": "stdout",
     "output_type": "stream",
     "text": [
      "Saved gs://my-bigdata-project-cm/aggregated/part-00007-5fc023d0-8476-4fad-8b22-3f7fd5f84954-c000.snappy.parquet\n",
      "Processing cleaned/yellow_tripdata_2022-08.parquet/part-00008-5fc023d0-8476-4fad-8b22-3f7fd5f84954-c000.snappy.parquet:\n"
     ]
    },
    {
     "name": "stderr",
     "output_type": "stream",
     "text": [
      "                                                                                \r"
     ]
    },
    {
     "name": "stdout",
     "output_type": "stream",
     "text": [
      "Saved gs://my-bigdata-project-cm/aggregated/part-00008-5fc023d0-8476-4fad-8b22-3f7fd5f84954-c000.snappy.parquet\n",
      "Processing cleaned/yellow_tripdata_2022-08.parquet/part-00009-5fc023d0-8476-4fad-8b22-3f7fd5f84954-c000.snappy.parquet:\n"
     ]
    },
    {
     "name": "stderr",
     "output_type": "stream",
     "text": [
      "                                                                                \r"
     ]
    },
    {
     "name": "stdout",
     "output_type": "stream",
     "text": [
      "Saved gs://my-bigdata-project-cm/aggregated/part-00009-5fc023d0-8476-4fad-8b22-3f7fd5f84954-c000.snappy.parquet\n",
      "Processing cleaned/yellow_tripdata_2022-08.parquet/part-00010-5fc023d0-8476-4fad-8b22-3f7fd5f84954-c000.snappy.parquet:\n"
     ]
    },
    {
     "name": "stderr",
     "output_type": "stream",
     "text": [
      "                                                                                \r"
     ]
    },
    {
     "name": "stdout",
     "output_type": "stream",
     "text": [
      "Saved gs://my-bigdata-project-cm/aggregated/part-00010-5fc023d0-8476-4fad-8b22-3f7fd5f84954-c000.snappy.parquet\n",
      "Processing cleaned/yellow_tripdata_2022-08.parquet/part-00011-5fc023d0-8476-4fad-8b22-3f7fd5f84954-c000.snappy.parquet:\n"
     ]
    },
    {
     "name": "stderr",
     "output_type": "stream",
     "text": [
      "                                                                                \r"
     ]
    },
    {
     "name": "stdout",
     "output_type": "stream",
     "text": [
      "Saved gs://my-bigdata-project-cm/aggregated/part-00011-5fc023d0-8476-4fad-8b22-3f7fd5f84954-c000.snappy.parquet\n",
      "Skipping file cleaned/yellow_tripdata_2022-09.parquet/\n",
      "Skipping file cleaned/yellow_tripdata_2022-09.parquet/_SUCCESS\n",
      "Processing cleaned/yellow_tripdata_2022-09.parquet/part-00000-9a2ce83d-2edc-4ff8-b697-29b22f45a9db-c000.snappy.parquet:\n"
     ]
    },
    {
     "name": "stderr",
     "output_type": "stream",
     "text": [
      "                                                                                \r"
     ]
    },
    {
     "name": "stdout",
     "output_type": "stream",
     "text": [
      "Saved gs://my-bigdata-project-cm/aggregated/part-00000-9a2ce83d-2edc-4ff8-b697-29b22f45a9db-c000.snappy.parquet\n",
      "Processing cleaned/yellow_tripdata_2022-09.parquet/part-00001-9a2ce83d-2edc-4ff8-b697-29b22f45a9db-c000.snappy.parquet:\n"
     ]
    },
    {
     "name": "stderr",
     "output_type": "stream",
     "text": [
      "                                                                                \r"
     ]
    },
    {
     "name": "stdout",
     "output_type": "stream",
     "text": [
      "Saved gs://my-bigdata-project-cm/aggregated/part-00001-9a2ce83d-2edc-4ff8-b697-29b22f45a9db-c000.snappy.parquet\n",
      "Processing cleaned/yellow_tripdata_2022-09.parquet/part-00002-9a2ce83d-2edc-4ff8-b697-29b22f45a9db-c000.snappy.parquet:\n"
     ]
    },
    {
     "name": "stderr",
     "output_type": "stream",
     "text": [
      "                                                                                \r"
     ]
    },
    {
     "name": "stdout",
     "output_type": "stream",
     "text": [
      "Saved gs://my-bigdata-project-cm/aggregated/part-00002-9a2ce83d-2edc-4ff8-b697-29b22f45a9db-c000.snappy.parquet\n",
      "Processing cleaned/yellow_tripdata_2022-09.parquet/part-00003-9a2ce83d-2edc-4ff8-b697-29b22f45a9db-c000.snappy.parquet:\n"
     ]
    },
    {
     "name": "stderr",
     "output_type": "stream",
     "text": [
      "                                                                                \r"
     ]
    },
    {
     "name": "stdout",
     "output_type": "stream",
     "text": [
      "Saved gs://my-bigdata-project-cm/aggregated/part-00003-9a2ce83d-2edc-4ff8-b697-29b22f45a9db-c000.snappy.parquet\n",
      "Processing cleaned/yellow_tripdata_2022-09.parquet/part-00004-9a2ce83d-2edc-4ff8-b697-29b22f45a9db-c000.snappy.parquet:\n"
     ]
    },
    {
     "name": "stderr",
     "output_type": "stream",
     "text": [
      "                                                                                \r"
     ]
    },
    {
     "name": "stdout",
     "output_type": "stream",
     "text": [
      "Saved gs://my-bigdata-project-cm/aggregated/part-00004-9a2ce83d-2edc-4ff8-b697-29b22f45a9db-c000.snappy.parquet\n",
      "Processing cleaned/yellow_tripdata_2022-09.parquet/part-00005-9a2ce83d-2edc-4ff8-b697-29b22f45a9db-c000.snappy.parquet:\n"
     ]
    },
    {
     "name": "stderr",
     "output_type": "stream",
     "text": [
      "                                                                                \r"
     ]
    },
    {
     "name": "stdout",
     "output_type": "stream",
     "text": [
      "Saved gs://my-bigdata-project-cm/aggregated/part-00005-9a2ce83d-2edc-4ff8-b697-29b22f45a9db-c000.snappy.parquet\n",
      "Processing cleaned/yellow_tripdata_2022-09.parquet/part-00006-9a2ce83d-2edc-4ff8-b697-29b22f45a9db-c000.snappy.parquet:\n"
     ]
    },
    {
     "name": "stderr",
     "output_type": "stream",
     "text": [
      "                                                                                \r"
     ]
    },
    {
     "name": "stdout",
     "output_type": "stream",
     "text": [
      "Saved gs://my-bigdata-project-cm/aggregated/part-00006-9a2ce83d-2edc-4ff8-b697-29b22f45a9db-c000.snappy.parquet\n",
      "Processing cleaned/yellow_tripdata_2022-09.parquet/part-00007-9a2ce83d-2edc-4ff8-b697-29b22f45a9db-c000.snappy.parquet:\n"
     ]
    },
    {
     "name": "stderr",
     "output_type": "stream",
     "text": [
      "                                                                                \r"
     ]
    },
    {
     "name": "stdout",
     "output_type": "stream",
     "text": [
      "Saved gs://my-bigdata-project-cm/aggregated/part-00007-9a2ce83d-2edc-4ff8-b697-29b22f45a9db-c000.snappy.parquet\n",
      "Processing cleaned/yellow_tripdata_2022-09.parquet/part-00008-9a2ce83d-2edc-4ff8-b697-29b22f45a9db-c000.snappy.parquet:\n"
     ]
    },
    {
     "name": "stderr",
     "output_type": "stream",
     "text": [
      "                                                                                \r"
     ]
    },
    {
     "name": "stdout",
     "output_type": "stream",
     "text": [
      "Saved gs://my-bigdata-project-cm/aggregated/part-00008-9a2ce83d-2edc-4ff8-b697-29b22f45a9db-c000.snappy.parquet\n",
      "Processing cleaned/yellow_tripdata_2022-09.parquet/part-00009-9a2ce83d-2edc-4ff8-b697-29b22f45a9db-c000.snappy.parquet:\n"
     ]
    },
    {
     "name": "stderr",
     "output_type": "stream",
     "text": [
      "                                                                                \r"
     ]
    },
    {
     "name": "stdout",
     "output_type": "stream",
     "text": [
      "Saved gs://my-bigdata-project-cm/aggregated/part-00009-9a2ce83d-2edc-4ff8-b697-29b22f45a9db-c000.snappy.parquet\n",
      "Processing cleaned/yellow_tripdata_2022-09.parquet/part-00010-9a2ce83d-2edc-4ff8-b697-29b22f45a9db-c000.snappy.parquet:\n"
     ]
    },
    {
     "name": "stderr",
     "output_type": "stream",
     "text": [
      "                                                                                \r"
     ]
    },
    {
     "name": "stdout",
     "output_type": "stream",
     "text": [
      "Saved gs://my-bigdata-project-cm/aggregated/part-00010-9a2ce83d-2edc-4ff8-b697-29b22f45a9db-c000.snappy.parquet\n",
      "Processing cleaned/yellow_tripdata_2022-09.parquet/part-00011-9a2ce83d-2edc-4ff8-b697-29b22f45a9db-c000.snappy.parquet:\n"
     ]
    },
    {
     "name": "stderr",
     "output_type": "stream",
     "text": [
      "                                                                                \r"
     ]
    },
    {
     "name": "stdout",
     "output_type": "stream",
     "text": [
      "Saved gs://my-bigdata-project-cm/aggregated/part-00011-9a2ce83d-2edc-4ff8-b697-29b22f45a9db-c000.snappy.parquet\n",
      "Processing cleaned/yellow_tripdata_2022-09.parquet/part-00012-9a2ce83d-2edc-4ff8-b697-29b22f45a9db-c000.snappy.parquet:\n"
     ]
    },
    {
     "name": "stderr",
     "output_type": "stream",
     "text": [
      "                                                                                \r"
     ]
    },
    {
     "name": "stdout",
     "output_type": "stream",
     "text": [
      "Saved gs://my-bigdata-project-cm/aggregated/part-00012-9a2ce83d-2edc-4ff8-b697-29b22f45a9db-c000.snappy.parquet\n",
      "Skipping file cleaned/yellow_tripdata_2022-10.parquet/\n",
      "Skipping file cleaned/yellow_tripdata_2022-10.parquet/_SUCCESS\n",
      "Processing cleaned/yellow_tripdata_2022-10.parquet/part-00000-1ea96ec9-fb7a-4527-998b-85a61f7e530f-c000.snappy.parquet:\n"
     ]
    },
    {
     "name": "stderr",
     "output_type": "stream",
     "text": [
      "                                                                                \r"
     ]
    },
    {
     "name": "stdout",
     "output_type": "stream",
     "text": [
      "Saved gs://my-bigdata-project-cm/aggregated/part-00000-1ea96ec9-fb7a-4527-998b-85a61f7e530f-c000.snappy.parquet\n",
      "Processing cleaned/yellow_tripdata_2022-10.parquet/part-00001-1ea96ec9-fb7a-4527-998b-85a61f7e530f-c000.snappy.parquet:\n"
     ]
    },
    {
     "name": "stderr",
     "output_type": "stream",
     "text": [
      "                                                                                \r"
     ]
    },
    {
     "name": "stdout",
     "output_type": "stream",
     "text": [
      "Saved gs://my-bigdata-project-cm/aggregated/part-00001-1ea96ec9-fb7a-4527-998b-85a61f7e530f-c000.snappy.parquet\n",
      "Processing cleaned/yellow_tripdata_2022-10.parquet/part-00002-1ea96ec9-fb7a-4527-998b-85a61f7e530f-c000.snappy.parquet:\n"
     ]
    },
    {
     "name": "stderr",
     "output_type": "stream",
     "text": [
      "                                                                                \r"
     ]
    },
    {
     "name": "stdout",
     "output_type": "stream",
     "text": [
      "Saved gs://my-bigdata-project-cm/aggregated/part-00002-1ea96ec9-fb7a-4527-998b-85a61f7e530f-c000.snappy.parquet\n",
      "Processing cleaned/yellow_tripdata_2022-10.parquet/part-00003-1ea96ec9-fb7a-4527-998b-85a61f7e530f-c000.snappy.parquet:\n"
     ]
    },
    {
     "name": "stderr",
     "output_type": "stream",
     "text": [
      "                                                                                \r"
     ]
    },
    {
     "name": "stdout",
     "output_type": "stream",
     "text": [
      "Saved gs://my-bigdata-project-cm/aggregated/part-00003-1ea96ec9-fb7a-4527-998b-85a61f7e530f-c000.snappy.parquet\n",
      "Processing cleaned/yellow_tripdata_2022-10.parquet/part-00004-1ea96ec9-fb7a-4527-998b-85a61f7e530f-c000.snappy.parquet:\n"
     ]
    },
    {
     "name": "stderr",
     "output_type": "stream",
     "text": [
      "                                                                                \r"
     ]
    },
    {
     "name": "stdout",
     "output_type": "stream",
     "text": [
      "Saved gs://my-bigdata-project-cm/aggregated/part-00004-1ea96ec9-fb7a-4527-998b-85a61f7e530f-c000.snappy.parquet\n",
      "Processing cleaned/yellow_tripdata_2022-10.parquet/part-00005-1ea96ec9-fb7a-4527-998b-85a61f7e530f-c000.snappy.parquet:\n"
     ]
    },
    {
     "name": "stderr",
     "output_type": "stream",
     "text": [
      "                                                                                \r"
     ]
    },
    {
     "name": "stdout",
     "output_type": "stream",
     "text": [
      "Saved gs://my-bigdata-project-cm/aggregated/part-00005-1ea96ec9-fb7a-4527-998b-85a61f7e530f-c000.snappy.parquet\n",
      "Processing cleaned/yellow_tripdata_2022-10.parquet/part-00006-1ea96ec9-fb7a-4527-998b-85a61f7e530f-c000.snappy.parquet:\n"
     ]
    },
    {
     "name": "stderr",
     "output_type": "stream",
     "text": [
      "                                                                                \r"
     ]
    },
    {
     "name": "stdout",
     "output_type": "stream",
     "text": [
      "Saved gs://my-bigdata-project-cm/aggregated/part-00006-1ea96ec9-fb7a-4527-998b-85a61f7e530f-c000.snappy.parquet\n",
      "Processing cleaned/yellow_tripdata_2022-10.parquet/part-00007-1ea96ec9-fb7a-4527-998b-85a61f7e530f-c000.snappy.parquet:\n"
     ]
    },
    {
     "name": "stderr",
     "output_type": "stream",
     "text": [
      "                                                                                \r"
     ]
    },
    {
     "name": "stdout",
     "output_type": "stream",
     "text": [
      "Saved gs://my-bigdata-project-cm/aggregated/part-00007-1ea96ec9-fb7a-4527-998b-85a61f7e530f-c000.snappy.parquet\n",
      "Processing cleaned/yellow_tripdata_2022-10.parquet/part-00008-1ea96ec9-fb7a-4527-998b-85a61f7e530f-c000.snappy.parquet:\n"
     ]
    },
    {
     "name": "stderr",
     "output_type": "stream",
     "text": [
      "                                                                                \r"
     ]
    },
    {
     "name": "stdout",
     "output_type": "stream",
     "text": [
      "Saved gs://my-bigdata-project-cm/aggregated/part-00008-1ea96ec9-fb7a-4527-998b-85a61f7e530f-c000.snappy.parquet\n",
      "Processing cleaned/yellow_tripdata_2022-10.parquet/part-00009-1ea96ec9-fb7a-4527-998b-85a61f7e530f-c000.snappy.parquet:\n"
     ]
    },
    {
     "name": "stderr",
     "output_type": "stream",
     "text": [
      "                                                                                \r"
     ]
    },
    {
     "name": "stdout",
     "output_type": "stream",
     "text": [
      "Saved gs://my-bigdata-project-cm/aggregated/part-00009-1ea96ec9-fb7a-4527-998b-85a61f7e530f-c000.snappy.parquet\n",
      "Processing cleaned/yellow_tripdata_2022-10.parquet/part-00010-1ea96ec9-fb7a-4527-998b-85a61f7e530f-c000.snappy.parquet:\n"
     ]
    },
    {
     "name": "stderr",
     "output_type": "stream",
     "text": [
      "                                                                                \r"
     ]
    },
    {
     "name": "stdout",
     "output_type": "stream",
     "text": [
      "Saved gs://my-bigdata-project-cm/aggregated/part-00010-1ea96ec9-fb7a-4527-998b-85a61f7e530f-c000.snappy.parquet\n",
      "Processing cleaned/yellow_tripdata_2022-10.parquet/part-00011-1ea96ec9-fb7a-4527-998b-85a61f7e530f-c000.snappy.parquet:\n"
     ]
    },
    {
     "name": "stderr",
     "output_type": "stream",
     "text": [
      "                                                                                \r"
     ]
    },
    {
     "name": "stdout",
     "output_type": "stream",
     "text": [
      "Saved gs://my-bigdata-project-cm/aggregated/part-00011-1ea96ec9-fb7a-4527-998b-85a61f7e530f-c000.snappy.parquet\n",
      "Processing cleaned/yellow_tripdata_2022-10.parquet/part-00012-1ea96ec9-fb7a-4527-998b-85a61f7e530f-c000.snappy.parquet:\n"
     ]
    },
    {
     "name": "stderr",
     "output_type": "stream",
     "text": [
      "                                                                                \r"
     ]
    },
    {
     "name": "stdout",
     "output_type": "stream",
     "text": [
      "Saved gs://my-bigdata-project-cm/aggregated/part-00012-1ea96ec9-fb7a-4527-998b-85a61f7e530f-c000.snappy.parquet\n",
      "Skipping file cleaned/yellow_tripdata_2022-11.parquet/\n",
      "Skipping file cleaned/yellow_tripdata_2022-11.parquet/_SUCCESS\n",
      "Processing cleaned/yellow_tripdata_2022-11.parquet/part-00000-8de3ec91-29a0-487b-8b45-79c208a6130b-c000.snappy.parquet:\n"
     ]
    },
    {
     "name": "stderr",
     "output_type": "stream",
     "text": [
      "                                                                                \r"
     ]
    },
    {
     "name": "stdout",
     "output_type": "stream",
     "text": [
      "Saved gs://my-bigdata-project-cm/aggregated/part-00000-8de3ec91-29a0-487b-8b45-79c208a6130b-c000.snappy.parquet\n",
      "Processing cleaned/yellow_tripdata_2022-11.parquet/part-00001-8de3ec91-29a0-487b-8b45-79c208a6130b-c000.snappy.parquet:\n"
     ]
    },
    {
     "name": "stderr",
     "output_type": "stream",
     "text": [
      "                                                                                \r"
     ]
    },
    {
     "name": "stdout",
     "output_type": "stream",
     "text": [
      "Saved gs://my-bigdata-project-cm/aggregated/part-00001-8de3ec91-29a0-487b-8b45-79c208a6130b-c000.snappy.parquet\n",
      "Processing cleaned/yellow_tripdata_2022-11.parquet/part-00002-8de3ec91-29a0-487b-8b45-79c208a6130b-c000.snappy.parquet:\n"
     ]
    },
    {
     "name": "stderr",
     "output_type": "stream",
     "text": [
      "                                                                                \r"
     ]
    },
    {
     "name": "stdout",
     "output_type": "stream",
     "text": [
      "Saved gs://my-bigdata-project-cm/aggregated/part-00002-8de3ec91-29a0-487b-8b45-79c208a6130b-c000.snappy.parquet\n",
      "Processing cleaned/yellow_tripdata_2022-11.parquet/part-00003-8de3ec91-29a0-487b-8b45-79c208a6130b-c000.snappy.parquet:\n"
     ]
    },
    {
     "name": "stderr",
     "output_type": "stream",
     "text": [
      "                                                                                \r"
     ]
    },
    {
     "name": "stdout",
     "output_type": "stream",
     "text": [
      "Saved gs://my-bigdata-project-cm/aggregated/part-00003-8de3ec91-29a0-487b-8b45-79c208a6130b-c000.snappy.parquet\n",
      "Processing cleaned/yellow_tripdata_2022-11.parquet/part-00004-8de3ec91-29a0-487b-8b45-79c208a6130b-c000.snappy.parquet:\n"
     ]
    },
    {
     "name": "stderr",
     "output_type": "stream",
     "text": [
      "                                                                                \r"
     ]
    },
    {
     "name": "stdout",
     "output_type": "stream",
     "text": [
      "Saved gs://my-bigdata-project-cm/aggregated/part-00004-8de3ec91-29a0-487b-8b45-79c208a6130b-c000.snappy.parquet\n",
      "Processing cleaned/yellow_tripdata_2022-11.parquet/part-00005-8de3ec91-29a0-487b-8b45-79c208a6130b-c000.snappy.parquet:\n"
     ]
    },
    {
     "name": "stderr",
     "output_type": "stream",
     "text": [
      "                                                                                \r"
     ]
    },
    {
     "name": "stdout",
     "output_type": "stream",
     "text": [
      "Saved gs://my-bigdata-project-cm/aggregated/part-00005-8de3ec91-29a0-487b-8b45-79c208a6130b-c000.snappy.parquet\n",
      "Processing cleaned/yellow_tripdata_2022-11.parquet/part-00006-8de3ec91-29a0-487b-8b45-79c208a6130b-c000.snappy.parquet:\n"
     ]
    },
    {
     "name": "stderr",
     "output_type": "stream",
     "text": [
      "                                                                                \r"
     ]
    },
    {
     "name": "stdout",
     "output_type": "stream",
     "text": [
      "Saved gs://my-bigdata-project-cm/aggregated/part-00006-8de3ec91-29a0-487b-8b45-79c208a6130b-c000.snappy.parquet\n",
      "Processing cleaned/yellow_tripdata_2022-11.parquet/part-00007-8de3ec91-29a0-487b-8b45-79c208a6130b-c000.snappy.parquet:\n"
     ]
    },
    {
     "name": "stderr",
     "output_type": "stream",
     "text": [
      "                                                                                \r"
     ]
    },
    {
     "name": "stdout",
     "output_type": "stream",
     "text": [
      "Saved gs://my-bigdata-project-cm/aggregated/part-00007-8de3ec91-29a0-487b-8b45-79c208a6130b-c000.snappy.parquet\n",
      "Processing cleaned/yellow_tripdata_2022-11.parquet/part-00008-8de3ec91-29a0-487b-8b45-79c208a6130b-c000.snappy.parquet:\n"
     ]
    },
    {
     "name": "stderr",
     "output_type": "stream",
     "text": [
      "                                                                                \r"
     ]
    },
    {
     "name": "stdout",
     "output_type": "stream",
     "text": [
      "Saved gs://my-bigdata-project-cm/aggregated/part-00008-8de3ec91-29a0-487b-8b45-79c208a6130b-c000.snappy.parquet\n",
      "Processing cleaned/yellow_tripdata_2022-11.parquet/part-00009-8de3ec91-29a0-487b-8b45-79c208a6130b-c000.snappy.parquet:\n"
     ]
    },
    {
     "name": "stderr",
     "output_type": "stream",
     "text": [
      "                                                                                \r"
     ]
    },
    {
     "name": "stdout",
     "output_type": "stream",
     "text": [
      "Saved gs://my-bigdata-project-cm/aggregated/part-00009-8de3ec91-29a0-487b-8b45-79c208a6130b-c000.snappy.parquet\n",
      "Processing cleaned/yellow_tripdata_2022-11.parquet/part-00010-8de3ec91-29a0-487b-8b45-79c208a6130b-c000.snappy.parquet:\n"
     ]
    },
    {
     "name": "stderr",
     "output_type": "stream",
     "text": [
      "                                                                                \r"
     ]
    },
    {
     "name": "stdout",
     "output_type": "stream",
     "text": [
      "Saved gs://my-bigdata-project-cm/aggregated/part-00010-8de3ec91-29a0-487b-8b45-79c208a6130b-c000.snappy.parquet\n",
      "Processing cleaned/yellow_tripdata_2022-11.parquet/part-00011-8de3ec91-29a0-487b-8b45-79c208a6130b-c000.snappy.parquet:\n"
     ]
    },
    {
     "name": "stderr",
     "output_type": "stream",
     "text": [
      "                                                                                \r"
     ]
    },
    {
     "name": "stdout",
     "output_type": "stream",
     "text": [
      "Saved gs://my-bigdata-project-cm/aggregated/part-00011-8de3ec91-29a0-487b-8b45-79c208a6130b-c000.snappy.parquet\n",
      "Skipping file cleaned/yellow_tripdata_2022-12.parquet/\n",
      "Skipping file cleaned/yellow_tripdata_2022-12.parquet/_SUCCESS\n",
      "Processing cleaned/yellow_tripdata_2022-12.parquet/part-00000-d2de5d86-286e-46cb-b186-972e11da8b55-c000.snappy.parquet:\n"
     ]
    },
    {
     "name": "stderr",
     "output_type": "stream",
     "text": [
      "                                                                                \r"
     ]
    },
    {
     "name": "stdout",
     "output_type": "stream",
     "text": [
      "Saved gs://my-bigdata-project-cm/aggregated/part-00000-d2de5d86-286e-46cb-b186-972e11da8b55-c000.snappy.parquet\n",
      "Processing cleaned/yellow_tripdata_2022-12.parquet/part-00001-d2de5d86-286e-46cb-b186-972e11da8b55-c000.snappy.parquet:\n"
     ]
    },
    {
     "name": "stderr",
     "output_type": "stream",
     "text": [
      "                                                                                \r"
     ]
    },
    {
     "name": "stdout",
     "output_type": "stream",
     "text": [
      "Saved gs://my-bigdata-project-cm/aggregated/part-00001-d2de5d86-286e-46cb-b186-972e11da8b55-c000.snappy.parquet\n",
      "Processing cleaned/yellow_tripdata_2022-12.parquet/part-00002-d2de5d86-286e-46cb-b186-972e11da8b55-c000.snappy.parquet:\n"
     ]
    },
    {
     "name": "stderr",
     "output_type": "stream",
     "text": [
      "                                                                                \r"
     ]
    },
    {
     "name": "stdout",
     "output_type": "stream",
     "text": [
      "Saved gs://my-bigdata-project-cm/aggregated/part-00002-d2de5d86-286e-46cb-b186-972e11da8b55-c000.snappy.parquet\n",
      "Processing cleaned/yellow_tripdata_2022-12.parquet/part-00003-d2de5d86-286e-46cb-b186-972e11da8b55-c000.snappy.parquet:\n"
     ]
    },
    {
     "name": "stderr",
     "output_type": "stream",
     "text": [
      "                                                                                \r"
     ]
    },
    {
     "name": "stdout",
     "output_type": "stream",
     "text": [
      "Saved gs://my-bigdata-project-cm/aggregated/part-00003-d2de5d86-286e-46cb-b186-972e11da8b55-c000.snappy.parquet\n",
      "Processing cleaned/yellow_tripdata_2022-12.parquet/part-00004-d2de5d86-286e-46cb-b186-972e11da8b55-c000.snappy.parquet:\n"
     ]
    },
    {
     "name": "stderr",
     "output_type": "stream",
     "text": [
      "                                                                                \r"
     ]
    },
    {
     "name": "stdout",
     "output_type": "stream",
     "text": [
      "Saved gs://my-bigdata-project-cm/aggregated/part-00004-d2de5d86-286e-46cb-b186-972e11da8b55-c000.snappy.parquet\n",
      "Processing cleaned/yellow_tripdata_2022-12.parquet/part-00005-d2de5d86-286e-46cb-b186-972e11da8b55-c000.snappy.parquet:\n"
     ]
    },
    {
     "name": "stderr",
     "output_type": "stream",
     "text": [
      "                                                                                \r"
     ]
    },
    {
     "name": "stdout",
     "output_type": "stream",
     "text": [
      "Saved gs://my-bigdata-project-cm/aggregated/part-00005-d2de5d86-286e-46cb-b186-972e11da8b55-c000.snappy.parquet\n",
      "Processing cleaned/yellow_tripdata_2022-12.parquet/part-00006-d2de5d86-286e-46cb-b186-972e11da8b55-c000.snappy.parquet:\n"
     ]
    },
    {
     "name": "stderr",
     "output_type": "stream",
     "text": [
      "                                                                                \r"
     ]
    },
    {
     "name": "stdout",
     "output_type": "stream",
     "text": [
      "Saved gs://my-bigdata-project-cm/aggregated/part-00006-d2de5d86-286e-46cb-b186-972e11da8b55-c000.snappy.parquet\n",
      "Processing cleaned/yellow_tripdata_2022-12.parquet/part-00007-d2de5d86-286e-46cb-b186-972e11da8b55-c000.snappy.parquet:\n"
     ]
    },
    {
     "name": "stderr",
     "output_type": "stream",
     "text": [
      "                                                                                \r"
     ]
    },
    {
     "name": "stdout",
     "output_type": "stream",
     "text": [
      "Saved gs://my-bigdata-project-cm/aggregated/part-00007-d2de5d86-286e-46cb-b186-972e11da8b55-c000.snappy.parquet\n",
      "Processing cleaned/yellow_tripdata_2022-12.parquet/part-00008-d2de5d86-286e-46cb-b186-972e11da8b55-c000.snappy.parquet:\n"
     ]
    },
    {
     "name": "stderr",
     "output_type": "stream",
     "text": [
      "                                                                                \r"
     ]
    },
    {
     "name": "stdout",
     "output_type": "stream",
     "text": [
      "Saved gs://my-bigdata-project-cm/aggregated/part-00008-d2de5d86-286e-46cb-b186-972e11da8b55-c000.snappy.parquet\n",
      "Processing cleaned/yellow_tripdata_2022-12.parquet/part-00009-d2de5d86-286e-46cb-b186-972e11da8b55-c000.snappy.parquet:\n"
     ]
    },
    {
     "name": "stderr",
     "output_type": "stream",
     "text": [
      "                                                                                \r"
     ]
    },
    {
     "name": "stdout",
     "output_type": "stream",
     "text": [
      "Saved gs://my-bigdata-project-cm/aggregated/part-00009-d2de5d86-286e-46cb-b186-972e11da8b55-c000.snappy.parquet\n",
      "Processing cleaned/yellow_tripdata_2022-12.parquet/part-00010-d2de5d86-286e-46cb-b186-972e11da8b55-c000.snappy.parquet:\n"
     ]
    },
    {
     "name": "stderr",
     "output_type": "stream",
     "text": [
      "                                                                                \r"
     ]
    },
    {
     "name": "stdout",
     "output_type": "stream",
     "text": [
      "Saved gs://my-bigdata-project-cm/aggregated/part-00010-d2de5d86-286e-46cb-b186-972e11da8b55-c000.snappy.parquet\n",
      "Processing cleaned/yellow_tripdata_2022-12.parquet/part-00011-d2de5d86-286e-46cb-b186-972e11da8b55-c000.snappy.parquet:\n"
     ]
    },
    {
     "name": "stderr",
     "output_type": "stream",
     "text": [
      "                                                                                \r"
     ]
    },
    {
     "name": "stdout",
     "output_type": "stream",
     "text": [
      "Saved gs://my-bigdata-project-cm/aggregated/part-00011-d2de5d86-286e-46cb-b186-972e11da8b55-c000.snappy.parquet\n",
      "Skipping file cleaned/yellow_tripdata_2023-01.parquet/\n",
      "Skipping file cleaned/yellow_tripdata_2023-01.parquet/_SUCCESS\n",
      "Processing cleaned/yellow_tripdata_2023-01.parquet/part-00000-7278b404-3ae1-4823-a2ca-fd8452e75249-c000.snappy.parquet:\n"
     ]
    },
    {
     "name": "stderr",
     "output_type": "stream",
     "text": [
      "                                                                                \r"
     ]
    },
    {
     "name": "stdout",
     "output_type": "stream",
     "text": [
      "Saved gs://my-bigdata-project-cm/aggregated/part-00000-7278b404-3ae1-4823-a2ca-fd8452e75249-c000.snappy.parquet\n",
      "Processing cleaned/yellow_tripdata_2023-01.parquet/part-00001-7278b404-3ae1-4823-a2ca-fd8452e75249-c000.snappy.parquet:\n"
     ]
    },
    {
     "name": "stderr",
     "output_type": "stream",
     "text": [
      "                                                                                \r"
     ]
    },
    {
     "name": "stdout",
     "output_type": "stream",
     "text": [
      "Saved gs://my-bigdata-project-cm/aggregated/part-00001-7278b404-3ae1-4823-a2ca-fd8452e75249-c000.snappy.parquet\n",
      "Processing cleaned/yellow_tripdata_2023-01.parquet/part-00002-7278b404-3ae1-4823-a2ca-fd8452e75249-c000.snappy.parquet:\n"
     ]
    },
    {
     "name": "stderr",
     "output_type": "stream",
     "text": [
      "                                                                                \r"
     ]
    },
    {
     "name": "stdout",
     "output_type": "stream",
     "text": [
      "Saved gs://my-bigdata-project-cm/aggregated/part-00002-7278b404-3ae1-4823-a2ca-fd8452e75249-c000.snappy.parquet\n",
      "Processing cleaned/yellow_tripdata_2023-01.parquet/part-00003-7278b404-3ae1-4823-a2ca-fd8452e75249-c000.snappy.parquet:\n"
     ]
    },
    {
     "name": "stderr",
     "output_type": "stream",
     "text": [
      "                                                                                \r"
     ]
    },
    {
     "name": "stdout",
     "output_type": "stream",
     "text": [
      "Saved gs://my-bigdata-project-cm/aggregated/part-00003-7278b404-3ae1-4823-a2ca-fd8452e75249-c000.snappy.parquet\n",
      "Processing cleaned/yellow_tripdata_2023-01.parquet/part-00004-7278b404-3ae1-4823-a2ca-fd8452e75249-c000.snappy.parquet:\n"
     ]
    },
    {
     "name": "stderr",
     "output_type": "stream",
     "text": [
      "                                                                                \r"
     ]
    },
    {
     "name": "stdout",
     "output_type": "stream",
     "text": [
      "Saved gs://my-bigdata-project-cm/aggregated/part-00004-7278b404-3ae1-4823-a2ca-fd8452e75249-c000.snappy.parquet\n",
      "Processing cleaned/yellow_tripdata_2023-01.parquet/part-00005-7278b404-3ae1-4823-a2ca-fd8452e75249-c000.snappy.parquet:\n"
     ]
    },
    {
     "name": "stderr",
     "output_type": "stream",
     "text": [
      "                                                                                \r"
     ]
    },
    {
     "name": "stdout",
     "output_type": "stream",
     "text": [
      "Saved gs://my-bigdata-project-cm/aggregated/part-00005-7278b404-3ae1-4823-a2ca-fd8452e75249-c000.snappy.parquet\n",
      "Processing cleaned/yellow_tripdata_2023-01.parquet/part-00006-7278b404-3ae1-4823-a2ca-fd8452e75249-c000.snappy.parquet:\n"
     ]
    },
    {
     "name": "stderr",
     "output_type": "stream",
     "text": [
      "                                                                                \r"
     ]
    },
    {
     "name": "stdout",
     "output_type": "stream",
     "text": [
      "Saved gs://my-bigdata-project-cm/aggregated/part-00006-7278b404-3ae1-4823-a2ca-fd8452e75249-c000.snappy.parquet\n",
      "Processing cleaned/yellow_tripdata_2023-01.parquet/part-00007-7278b404-3ae1-4823-a2ca-fd8452e75249-c000.snappy.parquet:\n"
     ]
    },
    {
     "name": "stderr",
     "output_type": "stream",
     "text": [
      "                                                                                \r"
     ]
    },
    {
     "name": "stdout",
     "output_type": "stream",
     "text": [
      "Saved gs://my-bigdata-project-cm/aggregated/part-00008-7278b404-3ae1-4823-a2ca-fd8452e75249-c000.snappy.parquet\n",
      "Processing cleaned/yellow_tripdata_2023-01.parquet/part-00009-7278b404-3ae1-4823-a2ca-fd8452e75249-c000.snappy.parquet:\n"
     ]
    },
    {
     "name": "stderr",
     "output_type": "stream",
     "text": [
      "                                                                                \r"
     ]
    },
    {
     "name": "stdout",
     "output_type": "stream",
     "text": [
      "Saved gs://my-bigdata-project-cm/aggregated/part-00009-7278b404-3ae1-4823-a2ca-fd8452e75249-c000.snappy.parquet\n",
      "Processing cleaned/yellow_tripdata_2023-01.parquet/part-00010-7278b404-3ae1-4823-a2ca-fd8452e75249-c000.snappy.parquet:\n"
     ]
    },
    {
     "name": "stderr",
     "output_type": "stream",
     "text": [
      "                                                                                \r"
     ]
    },
    {
     "name": "stdout",
     "output_type": "stream",
     "text": [
      "Saved gs://my-bigdata-project-cm/aggregated/part-00010-7278b404-3ae1-4823-a2ca-fd8452e75249-c000.snappy.parquet\n",
      "Processing cleaned/yellow_tripdata_2023-01.parquet/part-00011-7278b404-3ae1-4823-a2ca-fd8452e75249-c000.snappy.parquet:\n"
     ]
    },
    {
     "name": "stderr",
     "output_type": "stream",
     "text": [
      "                                                                                \r"
     ]
    },
    {
     "name": "stdout",
     "output_type": "stream",
     "text": [
      "Saved gs://my-bigdata-project-cm/aggregated/part-00011-7278b404-3ae1-4823-a2ca-fd8452e75249-c000.snappy.parquet\n",
      "Skipping file cleaned/yellow_tripdata_2023-02.parquet/\n",
      "Skipping file cleaned/yellow_tripdata_2023-02.parquet/_SUCCESS\n",
      "Processing cleaned/yellow_tripdata_2023-02.parquet/part-00000-d0cda176-2ae7-4b38-a4ec-f1fe01e6b122-c000.snappy.parquet:\n"
     ]
    },
    {
     "name": "stderr",
     "output_type": "stream",
     "text": [
      "                                                                                \r"
     ]
    },
    {
     "name": "stdout",
     "output_type": "stream",
     "text": [
      "Saved gs://my-bigdata-project-cm/aggregated/part-00000-d0cda176-2ae7-4b38-a4ec-f1fe01e6b122-c000.snappy.parquet\n",
      "Processing cleaned/yellow_tripdata_2023-02.parquet/part-00001-d0cda176-2ae7-4b38-a4ec-f1fe01e6b122-c000.snappy.parquet:\n"
     ]
    },
    {
     "name": "stderr",
     "output_type": "stream",
     "text": [
      "                                                                                \r"
     ]
    },
    {
     "name": "stdout",
     "output_type": "stream",
     "text": [
      "Saved gs://my-bigdata-project-cm/aggregated/part-00001-d0cda176-2ae7-4b38-a4ec-f1fe01e6b122-c000.snappy.parquet\n",
      "Processing cleaned/yellow_tripdata_2023-02.parquet/part-00002-d0cda176-2ae7-4b38-a4ec-f1fe01e6b122-c000.snappy.parquet:\n"
     ]
    },
    {
     "name": "stderr",
     "output_type": "stream",
     "text": [
      "                                                                                \r"
     ]
    },
    {
     "name": "stdout",
     "output_type": "stream",
     "text": [
      "Saved gs://my-bigdata-project-cm/aggregated/part-00002-d0cda176-2ae7-4b38-a4ec-f1fe01e6b122-c000.snappy.parquet\n",
      "Processing cleaned/yellow_tripdata_2023-02.parquet/part-00003-d0cda176-2ae7-4b38-a4ec-f1fe01e6b122-c000.snappy.parquet:\n"
     ]
    },
    {
     "name": "stderr",
     "output_type": "stream",
     "text": [
      "                                                                                \r"
     ]
    },
    {
     "name": "stdout",
     "output_type": "stream",
     "text": [
      "Saved gs://my-bigdata-project-cm/aggregated/part-00003-d0cda176-2ae7-4b38-a4ec-f1fe01e6b122-c000.snappy.parquet\n",
      "Processing cleaned/yellow_tripdata_2023-02.parquet/part-00004-d0cda176-2ae7-4b38-a4ec-f1fe01e6b122-c000.snappy.parquet:\n"
     ]
    },
    {
     "name": "stderr",
     "output_type": "stream",
     "text": [
      "                                                                                \r"
     ]
    },
    {
     "name": "stdout",
     "output_type": "stream",
     "text": [
      "Saved gs://my-bigdata-project-cm/aggregated/part-00004-d0cda176-2ae7-4b38-a4ec-f1fe01e6b122-c000.snappy.parquet\n",
      "Processing cleaned/yellow_tripdata_2023-02.parquet/part-00005-d0cda176-2ae7-4b38-a4ec-f1fe01e6b122-c000.snappy.parquet:\n"
     ]
    },
    {
     "name": "stderr",
     "output_type": "stream",
     "text": [
      "                                                                                \r"
     ]
    },
    {
     "name": "stdout",
     "output_type": "stream",
     "text": [
      "Saved gs://my-bigdata-project-cm/aggregated/part-00005-d0cda176-2ae7-4b38-a4ec-f1fe01e6b122-c000.snappy.parquet\n",
      "Processing cleaned/yellow_tripdata_2023-02.parquet/part-00006-d0cda176-2ae7-4b38-a4ec-f1fe01e6b122-c000.snappy.parquet:\n"
     ]
    },
    {
     "name": "stderr",
     "output_type": "stream",
     "text": [
      "                                                                                \r"
     ]
    },
    {
     "name": "stdout",
     "output_type": "stream",
     "text": [
      "Saved gs://my-bigdata-project-cm/aggregated/part-00006-d0cda176-2ae7-4b38-a4ec-f1fe01e6b122-c000.snappy.parquet\n",
      "Processing cleaned/yellow_tripdata_2023-02.parquet/part-00007-d0cda176-2ae7-4b38-a4ec-f1fe01e6b122-c000.snappy.parquet:\n"
     ]
    },
    {
     "name": "stderr",
     "output_type": "stream",
     "text": [
      "                                                                                \r"
     ]
    },
    {
     "name": "stdout",
     "output_type": "stream",
     "text": [
      "Saved gs://my-bigdata-project-cm/aggregated/part-00007-d0cda176-2ae7-4b38-a4ec-f1fe01e6b122-c000.snappy.parquet\n",
      "Processing cleaned/yellow_tripdata_2023-02.parquet/part-00008-d0cda176-2ae7-4b38-a4ec-f1fe01e6b122-c000.snappy.parquet:\n"
     ]
    },
    {
     "name": "stderr",
     "output_type": "stream",
     "text": [
      "                                                                                \r"
     ]
    },
    {
     "name": "stdout",
     "output_type": "stream",
     "text": [
      "Saved gs://my-bigdata-project-cm/aggregated/part-00008-d0cda176-2ae7-4b38-a4ec-f1fe01e6b122-c000.snappy.parquet\n",
      "Processing cleaned/yellow_tripdata_2023-02.parquet/part-00009-d0cda176-2ae7-4b38-a4ec-f1fe01e6b122-c000.snappy.parquet:\n"
     ]
    },
    {
     "name": "stderr",
     "output_type": "stream",
     "text": [
      "                                                                                \r"
     ]
    },
    {
     "name": "stdout",
     "output_type": "stream",
     "text": [
      "Saved gs://my-bigdata-project-cm/aggregated/part-00009-d0cda176-2ae7-4b38-a4ec-f1fe01e6b122-c000.snappy.parquet\n",
      "Processing cleaned/yellow_tripdata_2023-02.parquet/part-00010-d0cda176-2ae7-4b38-a4ec-f1fe01e6b122-c000.snappy.parquet:\n"
     ]
    },
    {
     "name": "stderr",
     "output_type": "stream",
     "text": [
      "                                                                                \r"
     ]
    },
    {
     "name": "stdout",
     "output_type": "stream",
     "text": [
      "Saved gs://my-bigdata-project-cm/aggregated/part-00010-d0cda176-2ae7-4b38-a4ec-f1fe01e6b122-c000.snappy.parquet\n",
      "Processing cleaned/yellow_tripdata_2023-02.parquet/part-00011-d0cda176-2ae7-4b38-a4ec-f1fe01e6b122-c000.snappy.parquet:\n"
     ]
    },
    {
     "name": "stderr",
     "output_type": "stream",
     "text": [
      "                                                                                \r"
     ]
    },
    {
     "name": "stdout",
     "output_type": "stream",
     "text": [
      "Saved gs://my-bigdata-project-cm/aggregated/part-00011-d0cda176-2ae7-4b38-a4ec-f1fe01e6b122-c000.snappy.parquet\n",
      "Skipping file cleaned/yellow_tripdata_2023-03.parquet/\n",
      "Skipping file cleaned/yellow_tripdata_2023-03.parquet/_SUCCESS\n",
      "Processing cleaned/yellow_tripdata_2023-03.parquet/part-00000-e4944bf4-53e1-410e-87c8-3d39c55873bc-c000.snappy.parquet:\n"
     ]
    },
    {
     "name": "stderr",
     "output_type": "stream",
     "text": [
      "                                                                                \r"
     ]
    },
    {
     "name": "stdout",
     "output_type": "stream",
     "text": [
      "Saved gs://my-bigdata-project-cm/aggregated/part-00000-e4944bf4-53e1-410e-87c8-3d39c55873bc-c000.snappy.parquet\n",
      "Processing cleaned/yellow_tripdata_2023-03.parquet/part-00001-e4944bf4-53e1-410e-87c8-3d39c55873bc-c000.snappy.parquet:\n"
     ]
    },
    {
     "name": "stderr",
     "output_type": "stream",
     "text": [
      "                                                                                \r"
     ]
    },
    {
     "name": "stdout",
     "output_type": "stream",
     "text": [
      "Saved gs://my-bigdata-project-cm/aggregated/part-00001-e4944bf4-53e1-410e-87c8-3d39c55873bc-c000.snappy.parquet\n",
      "Processing cleaned/yellow_tripdata_2023-03.parquet/part-00002-e4944bf4-53e1-410e-87c8-3d39c55873bc-c000.snappy.parquet:\n"
     ]
    },
    {
     "name": "stderr",
     "output_type": "stream",
     "text": [
      "                                                                                \r"
     ]
    },
    {
     "name": "stdout",
     "output_type": "stream",
     "text": [
      "Saved gs://my-bigdata-project-cm/aggregated/part-00002-e4944bf4-53e1-410e-87c8-3d39c55873bc-c000.snappy.parquet\n",
      "Processing cleaned/yellow_tripdata_2023-03.parquet/part-00003-e4944bf4-53e1-410e-87c8-3d39c55873bc-c000.snappy.parquet:\n"
     ]
    },
    {
     "name": "stderr",
     "output_type": "stream",
     "text": [
      "                                                                                \r"
     ]
    },
    {
     "name": "stdout",
     "output_type": "stream",
     "text": [
      "Saved gs://my-bigdata-project-cm/aggregated/part-00003-e4944bf4-53e1-410e-87c8-3d39c55873bc-c000.snappy.parquet\n",
      "Processing cleaned/yellow_tripdata_2023-03.parquet/part-00004-e4944bf4-53e1-410e-87c8-3d39c55873bc-c000.snappy.parquet:\n"
     ]
    },
    {
     "name": "stderr",
     "output_type": "stream",
     "text": [
      "                                                                                \r"
     ]
    },
    {
     "name": "stdout",
     "output_type": "stream",
     "text": [
      "Saved gs://my-bigdata-project-cm/aggregated/part-00004-e4944bf4-53e1-410e-87c8-3d39c55873bc-c000.snappy.parquet\n",
      "Processing cleaned/yellow_tripdata_2023-03.parquet/part-00005-e4944bf4-53e1-410e-87c8-3d39c55873bc-c000.snappy.parquet:\n"
     ]
    },
    {
     "name": "stderr",
     "output_type": "stream",
     "text": [
      "                                                                                \r"
     ]
    },
    {
     "name": "stdout",
     "output_type": "stream",
     "text": [
      "Saved gs://my-bigdata-project-cm/aggregated/part-00005-e4944bf4-53e1-410e-87c8-3d39c55873bc-c000.snappy.parquet\n",
      "Processing cleaned/yellow_tripdata_2023-03.parquet/part-00006-e4944bf4-53e1-410e-87c8-3d39c55873bc-c000.snappy.parquet:\n"
     ]
    },
    {
     "name": "stderr",
     "output_type": "stream",
     "text": [
      "                                                                                \r"
     ]
    },
    {
     "name": "stdout",
     "output_type": "stream",
     "text": [
      "Saved gs://my-bigdata-project-cm/aggregated/part-00006-e4944bf4-53e1-410e-87c8-3d39c55873bc-c000.snappy.parquet\n",
      "Processing cleaned/yellow_tripdata_2023-03.parquet/part-00007-e4944bf4-53e1-410e-87c8-3d39c55873bc-c000.snappy.parquet:\n"
     ]
    },
    {
     "name": "stderr",
     "output_type": "stream",
     "text": [
      "                                                                                \r"
     ]
    },
    {
     "name": "stdout",
     "output_type": "stream",
     "text": [
      "Saved gs://my-bigdata-project-cm/aggregated/part-00007-e4944bf4-53e1-410e-87c8-3d39c55873bc-c000.snappy.parquet\n",
      "Processing cleaned/yellow_tripdata_2023-03.parquet/part-00008-e4944bf4-53e1-410e-87c8-3d39c55873bc-c000.snappy.parquet:\n"
     ]
    },
    {
     "name": "stderr",
     "output_type": "stream",
     "text": [
      "                                                                                \r"
     ]
    },
    {
     "name": "stdout",
     "output_type": "stream",
     "text": [
      "Saved gs://my-bigdata-project-cm/aggregated/part-00008-e4944bf4-53e1-410e-87c8-3d39c55873bc-c000.snappy.parquet\n",
      "Processing cleaned/yellow_tripdata_2023-03.parquet/part-00009-e4944bf4-53e1-410e-87c8-3d39c55873bc-c000.snappy.parquet:\n"
     ]
    },
    {
     "name": "stderr",
     "output_type": "stream",
     "text": [
      "                                                                                \r"
     ]
    },
    {
     "name": "stdout",
     "output_type": "stream",
     "text": [
      "Saved gs://my-bigdata-project-cm/aggregated/part-00009-e4944bf4-53e1-410e-87c8-3d39c55873bc-c000.snappy.parquet\n",
      "Processing cleaned/yellow_tripdata_2023-03.parquet/part-00010-e4944bf4-53e1-410e-87c8-3d39c55873bc-c000.snappy.parquet:\n"
     ]
    },
    {
     "name": "stderr",
     "output_type": "stream",
     "text": [
      "                                                                                \r"
     ]
    },
    {
     "name": "stdout",
     "output_type": "stream",
     "text": [
      "Saved gs://my-bigdata-project-cm/aggregated/part-00010-e4944bf4-53e1-410e-87c8-3d39c55873bc-c000.snappy.parquet\n",
      "Processing cleaned/yellow_tripdata_2023-03.parquet/part-00011-e4944bf4-53e1-410e-87c8-3d39c55873bc-c000.snappy.parquet:\n"
     ]
    },
    {
     "name": "stderr",
     "output_type": "stream",
     "text": [
      "                                                                                \r"
     ]
    },
    {
     "name": "stdout",
     "output_type": "stream",
     "text": [
      "Saved gs://my-bigdata-project-cm/aggregated/part-00011-e4944bf4-53e1-410e-87c8-3d39c55873bc-c000.snappy.parquet\n",
      "Processing cleaned/yellow_tripdata_2023-03.parquet/part-00012-e4944bf4-53e1-410e-87c8-3d39c55873bc-c000.snappy.parquet:\n"
     ]
    },
    {
     "name": "stderr",
     "output_type": "stream",
     "text": [
      "                                                                                \r"
     ]
    },
    {
     "name": "stdout",
     "output_type": "stream",
     "text": [
      "Saved gs://my-bigdata-project-cm/aggregated/part-00012-e4944bf4-53e1-410e-87c8-3d39c55873bc-c000.snappy.parquet\n",
      "Skipping file cleaned/yellow_tripdata_2023-04.parquet/\n",
      "Skipping file cleaned/yellow_tripdata_2023-04.parquet/_SUCCESS\n",
      "Processing cleaned/yellow_tripdata_2023-04.parquet/part-00000-51a2fb95-a732-497b-b5e3-ede531a26489-c000.snappy.parquet:\n"
     ]
    },
    {
     "name": "stderr",
     "output_type": "stream",
     "text": [
      "                                                                                \r"
     ]
    },
    {
     "name": "stdout",
     "output_type": "stream",
     "text": [
      "Saved gs://my-bigdata-project-cm/aggregated/part-00000-51a2fb95-a732-497b-b5e3-ede531a26489-c000.snappy.parquet\n",
      "Processing cleaned/yellow_tripdata_2023-04.parquet/part-00001-51a2fb95-a732-497b-b5e3-ede531a26489-c000.snappy.parquet:\n"
     ]
    },
    {
     "name": "stderr",
     "output_type": "stream",
     "text": [
      "                                                                                \r"
     ]
    },
    {
     "name": "stdout",
     "output_type": "stream",
     "text": [
      "Saved gs://my-bigdata-project-cm/aggregated/part-00001-51a2fb95-a732-497b-b5e3-ede531a26489-c000.snappy.parquet\n",
      "Processing cleaned/yellow_tripdata_2023-04.parquet/part-00002-51a2fb95-a732-497b-b5e3-ede531a26489-c000.snappy.parquet:\n"
     ]
    },
    {
     "name": "stderr",
     "output_type": "stream",
     "text": [
      "                                                                                \r"
     ]
    },
    {
     "name": "stdout",
     "output_type": "stream",
     "text": [
      "Saved gs://my-bigdata-project-cm/aggregated/part-00002-51a2fb95-a732-497b-b5e3-ede531a26489-c000.snappy.parquet\n",
      "Processing cleaned/yellow_tripdata_2023-04.parquet/part-00003-51a2fb95-a732-497b-b5e3-ede531a26489-c000.snappy.parquet:\n"
     ]
    },
    {
     "name": "stderr",
     "output_type": "stream",
     "text": [
      "                                                                                \r"
     ]
    },
    {
     "name": "stdout",
     "output_type": "stream",
     "text": [
      "Saved gs://my-bigdata-project-cm/aggregated/part-00003-51a2fb95-a732-497b-b5e3-ede531a26489-c000.snappy.parquet\n",
      "Processing cleaned/yellow_tripdata_2023-04.parquet/part-00004-51a2fb95-a732-497b-b5e3-ede531a26489-c000.snappy.parquet:\n"
     ]
    },
    {
     "name": "stderr",
     "output_type": "stream",
     "text": [
      "                                                                                \r"
     ]
    },
    {
     "name": "stdout",
     "output_type": "stream",
     "text": [
      "Saved gs://my-bigdata-project-cm/aggregated/part-00004-51a2fb95-a732-497b-b5e3-ede531a26489-c000.snappy.parquet\n",
      "Processing cleaned/yellow_tripdata_2023-04.parquet/part-00005-51a2fb95-a732-497b-b5e3-ede531a26489-c000.snappy.parquet:\n"
     ]
    },
    {
     "name": "stderr",
     "output_type": "stream",
     "text": [
      "                                                                                \r"
     ]
    },
    {
     "name": "stdout",
     "output_type": "stream",
     "text": [
      "Saved gs://my-bigdata-project-cm/aggregated/part-00005-51a2fb95-a732-497b-b5e3-ede531a26489-c000.snappy.parquet\n",
      "Processing cleaned/yellow_tripdata_2023-04.parquet/part-00006-51a2fb95-a732-497b-b5e3-ede531a26489-c000.snappy.parquet:\n"
     ]
    },
    {
     "name": "stderr",
     "output_type": "stream",
     "text": [
      "                                                                                \r"
     ]
    },
    {
     "name": "stdout",
     "output_type": "stream",
     "text": [
      "Saved gs://my-bigdata-project-cm/aggregated/part-00006-51a2fb95-a732-497b-b5e3-ede531a26489-c000.snappy.parquet\n",
      "Processing cleaned/yellow_tripdata_2023-04.parquet/part-00007-51a2fb95-a732-497b-b5e3-ede531a26489-c000.snappy.parquet:\n"
     ]
    },
    {
     "name": "stderr",
     "output_type": "stream",
     "text": [
      "                                                                                \r"
     ]
    },
    {
     "name": "stdout",
     "output_type": "stream",
     "text": [
      "Saved gs://my-bigdata-project-cm/aggregated/part-00007-51a2fb95-a732-497b-b5e3-ede531a26489-c000.snappy.parquet\n",
      "Processing cleaned/yellow_tripdata_2023-04.parquet/part-00008-51a2fb95-a732-497b-b5e3-ede531a26489-c000.snappy.parquet:\n"
     ]
    },
    {
     "name": "stderr",
     "output_type": "stream",
     "text": [
      "                                                                                \r"
     ]
    },
    {
     "name": "stdout",
     "output_type": "stream",
     "text": [
      "Saved gs://my-bigdata-project-cm/aggregated/part-00008-51a2fb95-a732-497b-b5e3-ede531a26489-c000.snappy.parquet\n",
      "Processing cleaned/yellow_tripdata_2023-04.parquet/part-00009-51a2fb95-a732-497b-b5e3-ede531a26489-c000.snappy.parquet:\n"
     ]
    },
    {
     "name": "stderr",
     "output_type": "stream",
     "text": [
      "                                                                                \r"
     ]
    },
    {
     "name": "stdout",
     "output_type": "stream",
     "text": [
      "Saved gs://my-bigdata-project-cm/aggregated/part-00009-51a2fb95-a732-497b-b5e3-ede531a26489-c000.snappy.parquet\n",
      "Processing cleaned/yellow_tripdata_2023-04.parquet/part-00010-51a2fb95-a732-497b-b5e3-ede531a26489-c000.snappy.parquet:\n"
     ]
    },
    {
     "name": "stderr",
     "output_type": "stream",
     "text": [
      "                                                                                \r"
     ]
    },
    {
     "name": "stdout",
     "output_type": "stream",
     "text": [
      "Saved gs://my-bigdata-project-cm/aggregated/part-00010-51a2fb95-a732-497b-b5e3-ede531a26489-c000.snappy.parquet\n",
      "Processing cleaned/yellow_tripdata_2023-04.parquet/part-00011-51a2fb95-a732-497b-b5e3-ede531a26489-c000.snappy.parquet:\n"
     ]
    },
    {
     "name": "stderr",
     "output_type": "stream",
     "text": [
      "                                                                                \r"
     ]
    },
    {
     "name": "stdout",
     "output_type": "stream",
     "text": [
      "Saved gs://my-bigdata-project-cm/aggregated/part-00011-51a2fb95-a732-497b-b5e3-ede531a26489-c000.snappy.parquet\n",
      "Skipping file cleaned/yellow_tripdata_2023-05.parquet/\n",
      "Skipping file cleaned/yellow_tripdata_2023-05.parquet/_SUCCESS\n",
      "Processing cleaned/yellow_tripdata_2023-05.parquet/part-00000-7d56c2e9-67c7-479c-ad9e-012e388e8be2-c000.snappy.parquet:\n"
     ]
    },
    {
     "name": "stderr",
     "output_type": "stream",
     "text": [
      "                                                                                \r"
     ]
    },
    {
     "name": "stdout",
     "output_type": "stream",
     "text": [
      "Saved gs://my-bigdata-project-cm/aggregated/part-00000-7d56c2e9-67c7-479c-ad9e-012e388e8be2-c000.snappy.parquet\n",
      "Processing cleaned/yellow_tripdata_2023-05.parquet/part-00001-7d56c2e9-67c7-479c-ad9e-012e388e8be2-c000.snappy.parquet:\n"
     ]
    },
    {
     "name": "stderr",
     "output_type": "stream",
     "text": [
      "                                                                                \r"
     ]
    },
    {
     "name": "stdout",
     "output_type": "stream",
     "text": [
      "Saved gs://my-bigdata-project-cm/aggregated/part-00001-7d56c2e9-67c7-479c-ad9e-012e388e8be2-c000.snappy.parquet\n",
      "Processing cleaned/yellow_tripdata_2023-05.parquet/part-00002-7d56c2e9-67c7-479c-ad9e-012e388e8be2-c000.snappy.parquet:\n"
     ]
    },
    {
     "name": "stderr",
     "output_type": "stream",
     "text": [
      "                                                                                \r"
     ]
    },
    {
     "name": "stdout",
     "output_type": "stream",
     "text": [
      "Saved gs://my-bigdata-project-cm/aggregated/part-00002-7d56c2e9-67c7-479c-ad9e-012e388e8be2-c000.snappy.parquet\n",
      "Processing cleaned/yellow_tripdata_2023-05.parquet/part-00003-7d56c2e9-67c7-479c-ad9e-012e388e8be2-c000.snappy.parquet:\n"
     ]
    },
    {
     "name": "stderr",
     "output_type": "stream",
     "text": [
      "                                                                                \r"
     ]
    },
    {
     "name": "stdout",
     "output_type": "stream",
     "text": [
      "Saved gs://my-bigdata-project-cm/aggregated/part-00003-7d56c2e9-67c7-479c-ad9e-012e388e8be2-c000.snappy.parquet\n",
      "Processing cleaned/yellow_tripdata_2023-05.parquet/part-00004-7d56c2e9-67c7-479c-ad9e-012e388e8be2-c000.snappy.parquet:\n"
     ]
    },
    {
     "name": "stderr",
     "output_type": "stream",
     "text": [
      "                                                                                \r"
     ]
    },
    {
     "name": "stdout",
     "output_type": "stream",
     "text": [
      "Saved gs://my-bigdata-project-cm/aggregated/part-00004-7d56c2e9-67c7-479c-ad9e-012e388e8be2-c000.snappy.parquet\n",
      "Processing cleaned/yellow_tripdata_2023-05.parquet/part-00005-7d56c2e9-67c7-479c-ad9e-012e388e8be2-c000.snappy.parquet:\n"
     ]
    },
    {
     "name": "stderr",
     "output_type": "stream",
     "text": [
      "                                                                                \r"
     ]
    },
    {
     "name": "stdout",
     "output_type": "stream",
     "text": [
      "Saved gs://my-bigdata-project-cm/aggregated/part-00005-7d56c2e9-67c7-479c-ad9e-012e388e8be2-c000.snappy.parquet\n",
      "Processing cleaned/yellow_tripdata_2023-05.parquet/part-00006-7d56c2e9-67c7-479c-ad9e-012e388e8be2-c000.snappy.parquet:\n"
     ]
    },
    {
     "name": "stderr",
     "output_type": "stream",
     "text": [
      "                                                                                \r"
     ]
    },
    {
     "name": "stdout",
     "output_type": "stream",
     "text": [
      "Saved gs://my-bigdata-project-cm/aggregated/part-00006-7d56c2e9-67c7-479c-ad9e-012e388e8be2-c000.snappy.parquet\n",
      "Processing cleaned/yellow_tripdata_2023-05.parquet/part-00007-7d56c2e9-67c7-479c-ad9e-012e388e8be2-c000.snappy.parquet:\n"
     ]
    },
    {
     "name": "stderr",
     "output_type": "stream",
     "text": [
      "                                                                                \r"
     ]
    },
    {
     "name": "stdout",
     "output_type": "stream",
     "text": [
      "Saved gs://my-bigdata-project-cm/aggregated/part-00007-7d56c2e9-67c7-479c-ad9e-012e388e8be2-c000.snappy.parquet\n",
      "Processing cleaned/yellow_tripdata_2023-05.parquet/part-00008-7d56c2e9-67c7-479c-ad9e-012e388e8be2-c000.snappy.parquet:\n"
     ]
    },
    {
     "name": "stderr",
     "output_type": "stream",
     "text": [
      "                                                                                \r"
     ]
    },
    {
     "name": "stdout",
     "output_type": "stream",
     "text": [
      "Saved gs://my-bigdata-project-cm/aggregated/part-00008-7d56c2e9-67c7-479c-ad9e-012e388e8be2-c000.snappy.parquet\n",
      "Processing cleaned/yellow_tripdata_2023-05.parquet/part-00009-7d56c2e9-67c7-479c-ad9e-012e388e8be2-c000.snappy.parquet:\n"
     ]
    },
    {
     "name": "stderr",
     "output_type": "stream",
     "text": [
      "                                                                                \r"
     ]
    },
    {
     "name": "stdout",
     "output_type": "stream",
     "text": [
      "Saved gs://my-bigdata-project-cm/aggregated/part-00009-7d56c2e9-67c7-479c-ad9e-012e388e8be2-c000.snappy.parquet\n",
      "Processing cleaned/yellow_tripdata_2023-05.parquet/part-00010-7d56c2e9-67c7-479c-ad9e-012e388e8be2-c000.snappy.parquet:\n"
     ]
    },
    {
     "name": "stderr",
     "output_type": "stream",
     "text": [
      "                                                                                \r"
     ]
    },
    {
     "name": "stdout",
     "output_type": "stream",
     "text": [
      "Saved gs://my-bigdata-project-cm/aggregated/part-00010-7d56c2e9-67c7-479c-ad9e-012e388e8be2-c000.snappy.parquet\n",
      "Processing cleaned/yellow_tripdata_2023-05.parquet/part-00011-7d56c2e9-67c7-479c-ad9e-012e388e8be2-c000.snappy.parquet:\n"
     ]
    },
    {
     "name": "stderr",
     "output_type": "stream",
     "text": [
      "                                                                                \r"
     ]
    },
    {
     "name": "stdout",
     "output_type": "stream",
     "text": [
      "Saved gs://my-bigdata-project-cm/aggregated/part-00011-7d56c2e9-67c7-479c-ad9e-012e388e8be2-c000.snappy.parquet\n",
      "Skipping file cleaned/yellow_tripdata_2023-06.parquet/\n",
      "Skipping file cleaned/yellow_tripdata_2023-06.parquet/_SUCCESS\n",
      "Processing cleaned/yellow_tripdata_2023-06.parquet/part-00000-116561a3-b212-4f5d-8754-28b556329de3-c000.snappy.parquet:\n"
     ]
    },
    {
     "name": "stderr",
     "output_type": "stream",
     "text": [
      "                                                                                \r"
     ]
    },
    {
     "name": "stdout",
     "output_type": "stream",
     "text": [
      "Saved gs://my-bigdata-project-cm/aggregated/part-00000-116561a3-b212-4f5d-8754-28b556329de3-c000.snappy.parquet\n",
      "Processing cleaned/yellow_tripdata_2023-06.parquet/part-00001-116561a3-b212-4f5d-8754-28b556329de3-c000.snappy.parquet:\n"
     ]
    },
    {
     "name": "stderr",
     "output_type": "stream",
     "text": [
      "                                                                                \r"
     ]
    },
    {
     "name": "stdout",
     "output_type": "stream",
     "text": [
      "Saved gs://my-bigdata-project-cm/aggregated/part-00001-116561a3-b212-4f5d-8754-28b556329de3-c000.snappy.parquet\n",
      "Processing cleaned/yellow_tripdata_2023-06.parquet/part-00002-116561a3-b212-4f5d-8754-28b556329de3-c000.snappy.parquet:\n"
     ]
    },
    {
     "name": "stderr",
     "output_type": "stream",
     "text": [
      "                                                                                \r"
     ]
    },
    {
     "name": "stdout",
     "output_type": "stream",
     "text": [
      "Saved gs://my-bigdata-project-cm/aggregated/part-00002-116561a3-b212-4f5d-8754-28b556329de3-c000.snappy.parquet\n",
      "Processing cleaned/yellow_tripdata_2023-06.parquet/part-00003-116561a3-b212-4f5d-8754-28b556329de3-c000.snappy.parquet:\n"
     ]
    },
    {
     "name": "stderr",
     "output_type": "stream",
     "text": [
      "                                                                                \r"
     ]
    },
    {
     "name": "stdout",
     "output_type": "stream",
     "text": [
      "Saved gs://my-bigdata-project-cm/aggregated/part-00003-116561a3-b212-4f5d-8754-28b556329de3-c000.snappy.parquet\n",
      "Processing cleaned/yellow_tripdata_2023-06.parquet/part-00004-116561a3-b212-4f5d-8754-28b556329de3-c000.snappy.parquet:\n"
     ]
    },
    {
     "name": "stderr",
     "output_type": "stream",
     "text": [
      "                                                                                \r"
     ]
    },
    {
     "name": "stdout",
     "output_type": "stream",
     "text": [
      "Saved gs://my-bigdata-project-cm/aggregated/part-00004-116561a3-b212-4f5d-8754-28b556329de3-c000.snappy.parquet\n",
      "Processing cleaned/yellow_tripdata_2023-06.parquet/part-00005-116561a3-b212-4f5d-8754-28b556329de3-c000.snappy.parquet:\n"
     ]
    },
    {
     "name": "stderr",
     "output_type": "stream",
     "text": [
      "                                                                                \r"
     ]
    },
    {
     "name": "stdout",
     "output_type": "stream",
     "text": [
      "Saved gs://my-bigdata-project-cm/aggregated/part-00005-116561a3-b212-4f5d-8754-28b556329de3-c000.snappy.parquet\n",
      "Processing cleaned/yellow_tripdata_2023-06.parquet/part-00006-116561a3-b212-4f5d-8754-28b556329de3-c000.snappy.parquet:\n"
     ]
    },
    {
     "name": "stderr",
     "output_type": "stream",
     "text": [
      "                                                                                \r"
     ]
    },
    {
     "name": "stdout",
     "output_type": "stream",
     "text": [
      "Saved gs://my-bigdata-project-cm/aggregated/part-00006-116561a3-b212-4f5d-8754-28b556329de3-c000.snappy.parquet\n",
      "Processing cleaned/yellow_tripdata_2023-06.parquet/part-00007-116561a3-b212-4f5d-8754-28b556329de3-c000.snappy.parquet:\n"
     ]
    },
    {
     "name": "stderr",
     "output_type": "stream",
     "text": [
      "                                                                                \r"
     ]
    },
    {
     "name": "stdout",
     "output_type": "stream",
     "text": [
      "Saved gs://my-bigdata-project-cm/aggregated/part-00007-116561a3-b212-4f5d-8754-28b556329de3-c000.snappy.parquet\n",
      "Processing cleaned/yellow_tripdata_2023-06.parquet/part-00008-116561a3-b212-4f5d-8754-28b556329de3-c000.snappy.parquet:\n"
     ]
    },
    {
     "name": "stderr",
     "output_type": "stream",
     "text": [
      "                                                                                \r"
     ]
    },
    {
     "name": "stdout",
     "output_type": "stream",
     "text": [
      "Saved gs://my-bigdata-project-cm/aggregated/part-00008-116561a3-b212-4f5d-8754-28b556329de3-c000.snappy.parquet\n",
      "Processing cleaned/yellow_tripdata_2023-06.parquet/part-00009-116561a3-b212-4f5d-8754-28b556329de3-c000.snappy.parquet:\n"
     ]
    },
    {
     "name": "stderr",
     "output_type": "stream",
     "text": [
      "                                                                                \r"
     ]
    },
    {
     "name": "stdout",
     "output_type": "stream",
     "text": [
      "Saved gs://my-bigdata-project-cm/aggregated/part-00009-116561a3-b212-4f5d-8754-28b556329de3-c000.snappy.parquet\n",
      "Processing cleaned/yellow_tripdata_2023-06.parquet/part-00010-116561a3-b212-4f5d-8754-28b556329de3-c000.snappy.parquet:\n"
     ]
    },
    {
     "name": "stderr",
     "output_type": "stream",
     "text": [
      "                                                                                \r"
     ]
    },
    {
     "name": "stdout",
     "output_type": "stream",
     "text": [
      "Saved gs://my-bigdata-project-cm/aggregated/part-00010-116561a3-b212-4f5d-8754-28b556329de3-c000.snappy.parquet\n",
      "Processing cleaned/yellow_tripdata_2023-06.parquet/part-00011-116561a3-b212-4f5d-8754-28b556329de3-c000.snappy.parquet:\n"
     ]
    },
    {
     "name": "stderr",
     "output_type": "stream",
     "text": [
      "                                                                                \r"
     ]
    },
    {
     "name": "stdout",
     "output_type": "stream",
     "text": [
      "Saved gs://my-bigdata-project-cm/aggregated/part-00011-116561a3-b212-4f5d-8754-28b556329de3-c000.snappy.parquet\n",
      "Processing cleaned/yellow_tripdata_2023-06.parquet/part-00012-116561a3-b212-4f5d-8754-28b556329de3-c000.snappy.parquet:\n"
     ]
    },
    {
     "name": "stderr",
     "output_type": "stream",
     "text": [
      "                                                                                \r"
     ]
    },
    {
     "name": "stdout",
     "output_type": "stream",
     "text": [
      "Saved gs://my-bigdata-project-cm/aggregated/part-00012-116561a3-b212-4f5d-8754-28b556329de3-c000.snappy.parquet\n",
      "Skipping file cleaned/yellow_tripdata_2023-07.parquet/\n",
      "Skipping file cleaned/yellow_tripdata_2023-07.parquet/_SUCCESS\n",
      "Processing cleaned/yellow_tripdata_2023-07.parquet/part-00000-7a0340c3-a5e5-4542-99ff-a0bbf9e98288-c000.snappy.parquet:\n"
     ]
    },
    {
     "name": "stderr",
     "output_type": "stream",
     "text": [
      "                                                                                \r"
     ]
    },
    {
     "name": "stdout",
     "output_type": "stream",
     "text": [
      "Saved gs://my-bigdata-project-cm/aggregated/part-00000-7a0340c3-a5e5-4542-99ff-a0bbf9e98288-c000.snappy.parquet\n",
      "Processing cleaned/yellow_tripdata_2023-07.parquet/part-00001-7a0340c3-a5e5-4542-99ff-a0bbf9e98288-c000.snappy.parquet:\n"
     ]
    },
    {
     "name": "stderr",
     "output_type": "stream",
     "text": [
      "                                                                                \r"
     ]
    },
    {
     "name": "stdout",
     "output_type": "stream",
     "text": [
      "Saved gs://my-bigdata-project-cm/aggregated/part-00001-7a0340c3-a5e5-4542-99ff-a0bbf9e98288-c000.snappy.parquet\n",
      "Processing cleaned/yellow_tripdata_2023-07.parquet/part-00002-7a0340c3-a5e5-4542-99ff-a0bbf9e98288-c000.snappy.parquet:\n"
     ]
    },
    {
     "name": "stderr",
     "output_type": "stream",
     "text": [
      "                                                                                \r"
     ]
    },
    {
     "name": "stdout",
     "output_type": "stream",
     "text": [
      "Saved gs://my-bigdata-project-cm/aggregated/part-00002-7a0340c3-a5e5-4542-99ff-a0bbf9e98288-c000.snappy.parquet\n",
      "Processing cleaned/yellow_tripdata_2023-07.parquet/part-00003-7a0340c3-a5e5-4542-99ff-a0bbf9e98288-c000.snappy.parquet:\n"
     ]
    },
    {
     "name": "stderr",
     "output_type": "stream",
     "text": [
      "                                                                                \r"
     ]
    },
    {
     "name": "stdout",
     "output_type": "stream",
     "text": [
      "Saved gs://my-bigdata-project-cm/aggregated/part-00003-7a0340c3-a5e5-4542-99ff-a0bbf9e98288-c000.snappy.parquet\n",
      "Processing cleaned/yellow_tripdata_2023-07.parquet/part-00004-7a0340c3-a5e5-4542-99ff-a0bbf9e98288-c000.snappy.parquet:\n"
     ]
    },
    {
     "name": "stderr",
     "output_type": "stream",
     "text": [
      "                                                                                \r"
     ]
    },
    {
     "name": "stdout",
     "output_type": "stream",
     "text": [
      "Saved gs://my-bigdata-project-cm/aggregated/part-00004-7a0340c3-a5e5-4542-99ff-a0bbf9e98288-c000.snappy.parquet\n",
      "Processing cleaned/yellow_tripdata_2023-07.parquet/part-00005-7a0340c3-a5e5-4542-99ff-a0bbf9e98288-c000.snappy.parquet:\n"
     ]
    },
    {
     "name": "stderr",
     "output_type": "stream",
     "text": [
      "                                                                                \r"
     ]
    },
    {
     "name": "stdout",
     "output_type": "stream",
     "text": [
      "Saved gs://my-bigdata-project-cm/aggregated/part-00005-7a0340c3-a5e5-4542-99ff-a0bbf9e98288-c000.snappy.parquet\n",
      "Processing cleaned/yellow_tripdata_2023-07.parquet/part-00006-7a0340c3-a5e5-4542-99ff-a0bbf9e98288-c000.snappy.parquet:\n"
     ]
    },
    {
     "name": "stderr",
     "output_type": "stream",
     "text": [
      "                                                                                \r"
     ]
    },
    {
     "name": "stdout",
     "output_type": "stream",
     "text": [
      "Saved gs://my-bigdata-project-cm/aggregated/part-00006-7a0340c3-a5e5-4542-99ff-a0bbf9e98288-c000.snappy.parquet\n",
      "Processing cleaned/yellow_tripdata_2023-07.parquet/part-00007-7a0340c3-a5e5-4542-99ff-a0bbf9e98288-c000.snappy.parquet:\n"
     ]
    },
    {
     "name": "stderr",
     "output_type": "stream",
     "text": [
      "                                                                                \r"
     ]
    },
    {
     "name": "stdout",
     "output_type": "stream",
     "text": [
      "Saved gs://my-bigdata-project-cm/aggregated/part-00008-7a0340c3-a5e5-4542-99ff-a0bbf9e98288-c000.snappy.parquet\n",
      "Processing cleaned/yellow_tripdata_2023-07.parquet/part-00009-7a0340c3-a5e5-4542-99ff-a0bbf9e98288-c000.snappy.parquet:\n"
     ]
    },
    {
     "name": "stderr",
     "output_type": "stream",
     "text": [
      "                                                                                \r"
     ]
    },
    {
     "name": "stdout",
     "output_type": "stream",
     "text": [
      "Saved gs://my-bigdata-project-cm/aggregated/part-00009-7a0340c3-a5e5-4542-99ff-a0bbf9e98288-c000.snappy.parquet\n",
      "Processing cleaned/yellow_tripdata_2023-07.parquet/part-00010-7a0340c3-a5e5-4542-99ff-a0bbf9e98288-c000.snappy.parquet:\n"
     ]
    },
    {
     "name": "stderr",
     "output_type": "stream",
     "text": [
      "                                                                                \r"
     ]
    },
    {
     "name": "stdout",
     "output_type": "stream",
     "text": [
      "Saved gs://my-bigdata-project-cm/aggregated/part-00010-7a0340c3-a5e5-4542-99ff-a0bbf9e98288-c000.snappy.parquet\n",
      "Processing cleaned/yellow_tripdata_2023-07.parquet/part-00011-7a0340c3-a5e5-4542-99ff-a0bbf9e98288-c000.snappy.parquet:\n"
     ]
    },
    {
     "name": "stderr",
     "output_type": "stream",
     "text": [
      "                                                                                \r"
     ]
    },
    {
     "name": "stdout",
     "output_type": "stream",
     "text": [
      "Saved gs://my-bigdata-project-cm/aggregated/part-00011-7a0340c3-a5e5-4542-99ff-a0bbf9e98288-c000.snappy.parquet\n",
      "Skipping file cleaned/yellow_tripdata_2023-08.parquet/\n",
      "Skipping file cleaned/yellow_tripdata_2023-08.parquet/_SUCCESS\n",
      "Processing cleaned/yellow_tripdata_2023-08.parquet/part-00000-a0fc81ab-1750-43fe-9f77-b3d06fb35bcf-c000.snappy.parquet:\n"
     ]
    },
    {
     "name": "stderr",
     "output_type": "stream",
     "text": [
      "                                                                                \r"
     ]
    },
    {
     "name": "stdout",
     "output_type": "stream",
     "text": [
      "Saved gs://my-bigdata-project-cm/aggregated/part-00000-a0fc81ab-1750-43fe-9f77-b3d06fb35bcf-c000.snappy.parquet\n",
      "Processing cleaned/yellow_tripdata_2023-08.parquet/part-00001-a0fc81ab-1750-43fe-9f77-b3d06fb35bcf-c000.snappy.parquet:\n"
     ]
    },
    {
     "name": "stderr",
     "output_type": "stream",
     "text": [
      "                                                                                \r"
     ]
    },
    {
     "name": "stdout",
     "output_type": "stream",
     "text": [
      "Saved gs://my-bigdata-project-cm/aggregated/part-00001-a0fc81ab-1750-43fe-9f77-b3d06fb35bcf-c000.snappy.parquet\n",
      "Processing cleaned/yellow_tripdata_2023-08.parquet/part-00002-a0fc81ab-1750-43fe-9f77-b3d06fb35bcf-c000.snappy.parquet:\n"
     ]
    },
    {
     "name": "stderr",
     "output_type": "stream",
     "text": [
      "                                                                                \r"
     ]
    },
    {
     "name": "stdout",
     "output_type": "stream",
     "text": [
      "Saved gs://my-bigdata-project-cm/aggregated/part-00002-a0fc81ab-1750-43fe-9f77-b3d06fb35bcf-c000.snappy.parquet\n",
      "Processing cleaned/yellow_tripdata_2023-08.parquet/part-00003-a0fc81ab-1750-43fe-9f77-b3d06fb35bcf-c000.snappy.parquet:\n"
     ]
    },
    {
     "name": "stderr",
     "output_type": "stream",
     "text": [
      "                                                                                \r"
     ]
    },
    {
     "name": "stdout",
     "output_type": "stream",
     "text": [
      "Saved gs://my-bigdata-project-cm/aggregated/part-00003-a0fc81ab-1750-43fe-9f77-b3d06fb35bcf-c000.snappy.parquet\n",
      "Processing cleaned/yellow_tripdata_2023-08.parquet/part-00004-a0fc81ab-1750-43fe-9f77-b3d06fb35bcf-c000.snappy.parquet:\n"
     ]
    },
    {
     "name": "stderr",
     "output_type": "stream",
     "text": [
      "                                                                                \r"
     ]
    },
    {
     "name": "stdout",
     "output_type": "stream",
     "text": [
      "Saved gs://my-bigdata-project-cm/aggregated/part-00004-a0fc81ab-1750-43fe-9f77-b3d06fb35bcf-c000.snappy.parquet\n",
      "Processing cleaned/yellow_tripdata_2023-08.parquet/part-00005-a0fc81ab-1750-43fe-9f77-b3d06fb35bcf-c000.snappy.parquet:\n"
     ]
    },
    {
     "name": "stderr",
     "output_type": "stream",
     "text": [
      "                                                                                \r"
     ]
    },
    {
     "name": "stdout",
     "output_type": "stream",
     "text": [
      "Saved gs://my-bigdata-project-cm/aggregated/part-00005-a0fc81ab-1750-43fe-9f77-b3d06fb35bcf-c000.snappy.parquet\n",
      "Processing cleaned/yellow_tripdata_2023-08.parquet/part-00006-a0fc81ab-1750-43fe-9f77-b3d06fb35bcf-c000.snappy.parquet:\n"
     ]
    },
    {
     "name": "stderr",
     "output_type": "stream",
     "text": [
      "                                                                                \r"
     ]
    },
    {
     "name": "stdout",
     "output_type": "stream",
     "text": [
      "Saved gs://my-bigdata-project-cm/aggregated/part-00006-a0fc81ab-1750-43fe-9f77-b3d06fb35bcf-c000.snappy.parquet\n",
      "Processing cleaned/yellow_tripdata_2023-08.parquet/part-00007-a0fc81ab-1750-43fe-9f77-b3d06fb35bcf-c000.snappy.parquet:\n"
     ]
    },
    {
     "name": "stderr",
     "output_type": "stream",
     "text": [
      "                                                                                \r"
     ]
    },
    {
     "name": "stdout",
     "output_type": "stream",
     "text": [
      "Saved gs://my-bigdata-project-cm/aggregated/part-00007-a0fc81ab-1750-43fe-9f77-b3d06fb35bcf-c000.snappy.parquet\n",
      "Processing cleaned/yellow_tripdata_2023-08.parquet/part-00008-a0fc81ab-1750-43fe-9f77-b3d06fb35bcf-c000.snappy.parquet:\n"
     ]
    },
    {
     "name": "stderr",
     "output_type": "stream",
     "text": [
      "                                                                                \r"
     ]
    },
    {
     "name": "stdout",
     "output_type": "stream",
     "text": [
      "Saved gs://my-bigdata-project-cm/aggregated/part-00008-a0fc81ab-1750-43fe-9f77-b3d06fb35bcf-c000.snappy.parquet\n",
      "Processing cleaned/yellow_tripdata_2023-08.parquet/part-00009-a0fc81ab-1750-43fe-9f77-b3d06fb35bcf-c000.snappy.parquet:\n"
     ]
    },
    {
     "name": "stderr",
     "output_type": "stream",
     "text": [
      "                                                                                \r"
     ]
    },
    {
     "name": "stdout",
     "output_type": "stream",
     "text": [
      "Saved gs://my-bigdata-project-cm/aggregated/part-00009-a0fc81ab-1750-43fe-9f77-b3d06fb35bcf-c000.snappy.parquet\n",
      "Processing cleaned/yellow_tripdata_2023-08.parquet/part-00010-a0fc81ab-1750-43fe-9f77-b3d06fb35bcf-c000.snappy.parquet:\n"
     ]
    },
    {
     "name": "stderr",
     "output_type": "stream",
     "text": [
      "                                                                                \r"
     ]
    },
    {
     "name": "stdout",
     "output_type": "stream",
     "text": [
      "Saved gs://my-bigdata-project-cm/aggregated/part-00010-a0fc81ab-1750-43fe-9f77-b3d06fb35bcf-c000.snappy.parquet\n",
      "Processing cleaned/yellow_tripdata_2023-08.parquet/part-00011-a0fc81ab-1750-43fe-9f77-b3d06fb35bcf-c000.snappy.parquet:\n"
     ]
    },
    {
     "name": "stderr",
     "output_type": "stream",
     "text": [
      "                                                                                \r"
     ]
    },
    {
     "name": "stdout",
     "output_type": "stream",
     "text": [
      "Saved gs://my-bigdata-project-cm/aggregated/part-00011-a0fc81ab-1750-43fe-9f77-b3d06fb35bcf-c000.snappy.parquet\n",
      "Processing cleaned/yellow_tripdata_2023-08.parquet/part-00012-a0fc81ab-1750-43fe-9f77-b3d06fb35bcf-c000.snappy.parquet:\n"
     ]
    },
    {
     "name": "stderr",
     "output_type": "stream",
     "text": [
      "                                                                                \r"
     ]
    },
    {
     "name": "stdout",
     "output_type": "stream",
     "text": [
      "Saved gs://my-bigdata-project-cm/aggregated/part-00012-a0fc81ab-1750-43fe-9f77-b3d06fb35bcf-c000.snappy.parquet\n",
      "Skipping file cleaned/yellow_tripdata_2023-09.parquet/\n",
      "Skipping file cleaned/yellow_tripdata_2023-09.parquet/_SUCCESS\n",
      "Processing cleaned/yellow_tripdata_2023-09.parquet/part-00000-6768d138-4143-40ff-b96a-994cc561dfdd-c000.snappy.parquet:\n"
     ]
    },
    {
     "name": "stderr",
     "output_type": "stream",
     "text": [
      "                                                                                \r"
     ]
    },
    {
     "name": "stdout",
     "output_type": "stream",
     "text": [
      "Saved gs://my-bigdata-project-cm/aggregated/part-00000-6768d138-4143-40ff-b96a-994cc561dfdd-c000.snappy.parquet\n",
      "Processing cleaned/yellow_tripdata_2023-09.parquet/part-00001-6768d138-4143-40ff-b96a-994cc561dfdd-c000.snappy.parquet:\n"
     ]
    },
    {
     "name": "stderr",
     "output_type": "stream",
     "text": [
      "                                                                                \r"
     ]
    },
    {
     "name": "stdout",
     "output_type": "stream",
     "text": [
      "Saved gs://my-bigdata-project-cm/aggregated/part-00001-6768d138-4143-40ff-b96a-994cc561dfdd-c000.snappy.parquet\n",
      "Processing cleaned/yellow_tripdata_2023-09.parquet/part-00002-6768d138-4143-40ff-b96a-994cc561dfdd-c000.snappy.parquet:\n"
     ]
    },
    {
     "name": "stderr",
     "output_type": "stream",
     "text": [
      "                                                                                \r"
     ]
    },
    {
     "name": "stdout",
     "output_type": "stream",
     "text": [
      "Saved gs://my-bigdata-project-cm/aggregated/part-00002-6768d138-4143-40ff-b96a-994cc561dfdd-c000.snappy.parquet\n",
      "Processing cleaned/yellow_tripdata_2023-09.parquet/part-00003-6768d138-4143-40ff-b96a-994cc561dfdd-c000.snappy.parquet:\n"
     ]
    },
    {
     "name": "stderr",
     "output_type": "stream",
     "text": [
      "                                                                                \r"
     ]
    },
    {
     "name": "stdout",
     "output_type": "stream",
     "text": [
      "Saved gs://my-bigdata-project-cm/aggregated/part-00003-6768d138-4143-40ff-b96a-994cc561dfdd-c000.snappy.parquet\n",
      "Processing cleaned/yellow_tripdata_2023-09.parquet/part-00004-6768d138-4143-40ff-b96a-994cc561dfdd-c000.snappy.parquet:\n"
     ]
    },
    {
     "name": "stderr",
     "output_type": "stream",
     "text": [
      "                                                                                \r"
     ]
    },
    {
     "name": "stdout",
     "output_type": "stream",
     "text": [
      "Saved gs://my-bigdata-project-cm/aggregated/part-00004-6768d138-4143-40ff-b96a-994cc561dfdd-c000.snappy.parquet\n",
      "Processing cleaned/yellow_tripdata_2023-09.parquet/part-00005-6768d138-4143-40ff-b96a-994cc561dfdd-c000.snappy.parquet:\n"
     ]
    },
    {
     "name": "stderr",
     "output_type": "stream",
     "text": [
      "                                                                                \r"
     ]
    },
    {
     "name": "stdout",
     "output_type": "stream",
     "text": [
      "Saved gs://my-bigdata-project-cm/aggregated/part-00005-6768d138-4143-40ff-b96a-994cc561dfdd-c000.snappy.parquet\n",
      "Processing cleaned/yellow_tripdata_2023-09.parquet/part-00006-6768d138-4143-40ff-b96a-994cc561dfdd-c000.snappy.parquet:\n"
     ]
    },
    {
     "name": "stderr",
     "output_type": "stream",
     "text": [
      "                                                                                \r"
     ]
    },
    {
     "name": "stdout",
     "output_type": "stream",
     "text": [
      "Saved gs://my-bigdata-project-cm/aggregated/part-00006-6768d138-4143-40ff-b96a-994cc561dfdd-c000.snappy.parquet\n",
      "Processing cleaned/yellow_tripdata_2023-09.parquet/part-00007-6768d138-4143-40ff-b96a-994cc561dfdd-c000.snappy.parquet:\n"
     ]
    },
    {
     "name": "stderr",
     "output_type": "stream",
     "text": [
      "                                                                                \r"
     ]
    },
    {
     "name": "stdout",
     "output_type": "stream",
     "text": [
      "Saved gs://my-bigdata-project-cm/aggregated/part-00007-6768d138-4143-40ff-b96a-994cc561dfdd-c000.snappy.parquet\n",
      "Processing cleaned/yellow_tripdata_2023-09.parquet/part-00008-6768d138-4143-40ff-b96a-994cc561dfdd-c000.snappy.parquet:\n"
     ]
    },
    {
     "name": "stderr",
     "output_type": "stream",
     "text": [
      "                                                                                \r"
     ]
    },
    {
     "name": "stdout",
     "output_type": "stream",
     "text": [
      "Saved gs://my-bigdata-project-cm/aggregated/part-00008-6768d138-4143-40ff-b96a-994cc561dfdd-c000.snappy.parquet\n",
      "Processing cleaned/yellow_tripdata_2023-09.parquet/part-00009-6768d138-4143-40ff-b96a-994cc561dfdd-c000.snappy.parquet:\n"
     ]
    },
    {
     "name": "stderr",
     "output_type": "stream",
     "text": [
      "                                                                                \r"
     ]
    },
    {
     "name": "stdout",
     "output_type": "stream",
     "text": [
      "Saved gs://my-bigdata-project-cm/aggregated/part-00009-6768d138-4143-40ff-b96a-994cc561dfdd-c000.snappy.parquet\n",
      "Processing cleaned/yellow_tripdata_2023-09.parquet/part-00010-6768d138-4143-40ff-b96a-994cc561dfdd-c000.snappy.parquet:\n"
     ]
    },
    {
     "name": "stderr",
     "output_type": "stream",
     "text": [
      "                                                                                \r"
     ]
    },
    {
     "name": "stdout",
     "output_type": "stream",
     "text": [
      "Saved gs://my-bigdata-project-cm/aggregated/part-00010-6768d138-4143-40ff-b96a-994cc561dfdd-c000.snappy.parquet\n",
      "Processing cleaned/yellow_tripdata_2023-09.parquet/part-00011-6768d138-4143-40ff-b96a-994cc561dfdd-c000.snappy.parquet:\n"
     ]
    },
    {
     "name": "stderr",
     "output_type": "stream",
     "text": [
      "                                                                                \r"
     ]
    },
    {
     "name": "stdout",
     "output_type": "stream",
     "text": [
      "Saved gs://my-bigdata-project-cm/aggregated/part-00011-6768d138-4143-40ff-b96a-994cc561dfdd-c000.snappy.parquet\n",
      "Skipping file cleaned/yellow_tripdata_2023-10.parquet/\n",
      "Skipping file cleaned/yellow_tripdata_2023-10.parquet/_SUCCESS\n",
      "Processing cleaned/yellow_tripdata_2023-10.parquet/part-00000-1877150d-83d4-484d-9a2c-99daddc12b8c-c000.snappy.parquet:\n"
     ]
    },
    {
     "name": "stderr",
     "output_type": "stream",
     "text": [
      "                                                                                \r"
     ]
    },
    {
     "name": "stdout",
     "output_type": "stream",
     "text": [
      "Saved gs://my-bigdata-project-cm/aggregated/part-00000-1877150d-83d4-484d-9a2c-99daddc12b8c-c000.snappy.parquet\n",
      "Processing cleaned/yellow_tripdata_2023-10.parquet/part-00001-1877150d-83d4-484d-9a2c-99daddc12b8c-c000.snappy.parquet:\n"
     ]
    },
    {
     "name": "stderr",
     "output_type": "stream",
     "text": [
      "                                                                                \r"
     ]
    },
    {
     "name": "stdout",
     "output_type": "stream",
     "text": [
      "Saved gs://my-bigdata-project-cm/aggregated/part-00001-1877150d-83d4-484d-9a2c-99daddc12b8c-c000.snappy.parquet\n",
      "Processing cleaned/yellow_tripdata_2023-10.parquet/part-00002-1877150d-83d4-484d-9a2c-99daddc12b8c-c000.snappy.parquet:\n"
     ]
    },
    {
     "name": "stderr",
     "output_type": "stream",
     "text": [
      "                                                                                \r"
     ]
    },
    {
     "name": "stdout",
     "output_type": "stream",
     "text": [
      "Saved gs://my-bigdata-project-cm/aggregated/part-00002-1877150d-83d4-484d-9a2c-99daddc12b8c-c000.snappy.parquet\n",
      "Processing cleaned/yellow_tripdata_2023-10.parquet/part-00003-1877150d-83d4-484d-9a2c-99daddc12b8c-c000.snappy.parquet:\n"
     ]
    },
    {
     "name": "stderr",
     "output_type": "stream",
     "text": [
      "                                                                                \r"
     ]
    },
    {
     "name": "stdout",
     "output_type": "stream",
     "text": [
      "Saved gs://my-bigdata-project-cm/aggregated/part-00003-1877150d-83d4-484d-9a2c-99daddc12b8c-c000.snappy.parquet\n",
      "Processing cleaned/yellow_tripdata_2023-10.parquet/part-00004-1877150d-83d4-484d-9a2c-99daddc12b8c-c000.snappy.parquet:\n"
     ]
    },
    {
     "name": "stderr",
     "output_type": "stream",
     "text": [
      "                                                                                \r"
     ]
    },
    {
     "name": "stdout",
     "output_type": "stream",
     "text": [
      "Saved gs://my-bigdata-project-cm/aggregated/part-00004-1877150d-83d4-484d-9a2c-99daddc12b8c-c000.snappy.parquet\n",
      "Processing cleaned/yellow_tripdata_2023-10.parquet/part-00005-1877150d-83d4-484d-9a2c-99daddc12b8c-c000.snappy.parquet:\n"
     ]
    },
    {
     "name": "stderr",
     "output_type": "stream",
     "text": [
      "                                                                                \r"
     ]
    },
    {
     "name": "stdout",
     "output_type": "stream",
     "text": [
      "Saved gs://my-bigdata-project-cm/aggregated/part-00005-1877150d-83d4-484d-9a2c-99daddc12b8c-c000.snappy.parquet\n",
      "Processing cleaned/yellow_tripdata_2023-10.parquet/part-00006-1877150d-83d4-484d-9a2c-99daddc12b8c-c000.snappy.parquet:\n"
     ]
    },
    {
     "name": "stderr",
     "output_type": "stream",
     "text": [
      "                                                                                \r"
     ]
    },
    {
     "name": "stdout",
     "output_type": "stream",
     "text": [
      "Saved gs://my-bigdata-project-cm/aggregated/part-00006-1877150d-83d4-484d-9a2c-99daddc12b8c-c000.snappy.parquet\n",
      "Processing cleaned/yellow_tripdata_2023-10.parquet/part-00007-1877150d-83d4-484d-9a2c-99daddc12b8c-c000.snappy.parquet:\n"
     ]
    },
    {
     "name": "stderr",
     "output_type": "stream",
     "text": [
      "                                                                                \r"
     ]
    },
    {
     "name": "stdout",
     "output_type": "stream",
     "text": [
      "Saved gs://my-bigdata-project-cm/aggregated/part-00007-1877150d-83d4-484d-9a2c-99daddc12b8c-c000.snappy.parquet\n",
      "Processing cleaned/yellow_tripdata_2023-10.parquet/part-00008-1877150d-83d4-484d-9a2c-99daddc12b8c-c000.snappy.parquet:\n"
     ]
    },
    {
     "name": "stderr",
     "output_type": "stream",
     "text": [
      "                                                                                \r"
     ]
    },
    {
     "name": "stdout",
     "output_type": "stream",
     "text": [
      "Saved gs://my-bigdata-project-cm/aggregated/part-00008-1877150d-83d4-484d-9a2c-99daddc12b8c-c000.snappy.parquet\n",
      "Processing cleaned/yellow_tripdata_2023-10.parquet/part-00009-1877150d-83d4-484d-9a2c-99daddc12b8c-c000.snappy.parquet:\n"
     ]
    },
    {
     "name": "stderr",
     "output_type": "stream",
     "text": [
      "                                                                                \r"
     ]
    },
    {
     "name": "stdout",
     "output_type": "stream",
     "text": [
      "Saved gs://my-bigdata-project-cm/aggregated/part-00009-1877150d-83d4-484d-9a2c-99daddc12b8c-c000.snappy.parquet\n",
      "Processing cleaned/yellow_tripdata_2023-10.parquet/part-00010-1877150d-83d4-484d-9a2c-99daddc12b8c-c000.snappy.parquet:\n"
     ]
    },
    {
     "name": "stderr",
     "output_type": "stream",
     "text": [
      "                                                                                \r"
     ]
    },
    {
     "name": "stdout",
     "output_type": "stream",
     "text": [
      "Saved gs://my-bigdata-project-cm/aggregated/part-00010-1877150d-83d4-484d-9a2c-99daddc12b8c-c000.snappy.parquet\n",
      "Processing cleaned/yellow_tripdata_2023-10.parquet/part-00011-1877150d-83d4-484d-9a2c-99daddc12b8c-c000.snappy.parquet:\n"
     ]
    },
    {
     "name": "stderr",
     "output_type": "stream",
     "text": [
      "                                                                                \r"
     ]
    },
    {
     "name": "stdout",
     "output_type": "stream",
     "text": [
      "Saved gs://my-bigdata-project-cm/aggregated/part-00011-1877150d-83d4-484d-9a2c-99daddc12b8c-c000.snappy.parquet\n",
      "Skipping file cleaned/yellow_tripdata_2023-11.parquet/\n",
      "Skipping file cleaned/yellow_tripdata_2023-11.parquet/_SUCCESS\n",
      "Processing cleaned/yellow_tripdata_2023-11.parquet/part-00000-712fa325-a43b-46d7-b3af-25cbc8ba6d2e-c000.snappy.parquet:\n"
     ]
    },
    {
     "name": "stderr",
     "output_type": "stream",
     "text": [
      "                                                                                \r"
     ]
    },
    {
     "name": "stdout",
     "output_type": "stream",
     "text": [
      "Saved gs://my-bigdata-project-cm/aggregated/part-00000-712fa325-a43b-46d7-b3af-25cbc8ba6d2e-c000.snappy.parquet\n",
      "Processing cleaned/yellow_tripdata_2023-11.parquet/part-00001-712fa325-a43b-46d7-b3af-25cbc8ba6d2e-c000.snappy.parquet:\n"
     ]
    },
    {
     "name": "stderr",
     "output_type": "stream",
     "text": [
      "                                                                                \r"
     ]
    },
    {
     "name": "stdout",
     "output_type": "stream",
     "text": [
      "Saved gs://my-bigdata-project-cm/aggregated/part-00001-712fa325-a43b-46d7-b3af-25cbc8ba6d2e-c000.snappy.parquet\n",
      "Processing cleaned/yellow_tripdata_2023-11.parquet/part-00002-712fa325-a43b-46d7-b3af-25cbc8ba6d2e-c000.snappy.parquet:\n"
     ]
    },
    {
     "name": "stderr",
     "output_type": "stream",
     "text": [
      "                                                                                \r"
     ]
    },
    {
     "name": "stdout",
     "output_type": "stream",
     "text": [
      "Saved gs://my-bigdata-project-cm/aggregated/part-00002-712fa325-a43b-46d7-b3af-25cbc8ba6d2e-c000.snappy.parquet\n",
      "Processing cleaned/yellow_tripdata_2023-11.parquet/part-00003-712fa325-a43b-46d7-b3af-25cbc8ba6d2e-c000.snappy.parquet:\n"
     ]
    },
    {
     "name": "stderr",
     "output_type": "stream",
     "text": [
      "                                                                                \r"
     ]
    },
    {
     "name": "stdout",
     "output_type": "stream",
     "text": [
      "Saved gs://my-bigdata-project-cm/aggregated/part-00003-712fa325-a43b-46d7-b3af-25cbc8ba6d2e-c000.snappy.parquet\n",
      "Processing cleaned/yellow_tripdata_2023-11.parquet/part-00004-712fa325-a43b-46d7-b3af-25cbc8ba6d2e-c000.snappy.parquet:\n"
     ]
    },
    {
     "name": "stderr",
     "output_type": "stream",
     "text": [
      "                                                                                \r"
     ]
    },
    {
     "name": "stdout",
     "output_type": "stream",
     "text": [
      "Saved gs://my-bigdata-project-cm/aggregated/part-00004-712fa325-a43b-46d7-b3af-25cbc8ba6d2e-c000.snappy.parquet\n",
      "Processing cleaned/yellow_tripdata_2023-11.parquet/part-00005-712fa325-a43b-46d7-b3af-25cbc8ba6d2e-c000.snappy.parquet:\n"
     ]
    },
    {
     "name": "stderr",
     "output_type": "stream",
     "text": [
      "                                                                                \r"
     ]
    },
    {
     "name": "stdout",
     "output_type": "stream",
     "text": [
      "Saved gs://my-bigdata-project-cm/aggregated/part-00005-712fa325-a43b-46d7-b3af-25cbc8ba6d2e-c000.snappy.parquet\n",
      "Processing cleaned/yellow_tripdata_2023-11.parquet/part-00006-712fa325-a43b-46d7-b3af-25cbc8ba6d2e-c000.snappy.parquet:\n"
     ]
    },
    {
     "name": "stderr",
     "output_type": "stream",
     "text": [
      "                                                                                \r"
     ]
    },
    {
     "name": "stdout",
     "output_type": "stream",
     "text": [
      "Saved gs://my-bigdata-project-cm/aggregated/part-00006-712fa325-a43b-46d7-b3af-25cbc8ba6d2e-c000.snappy.parquet\n",
      "Processing cleaned/yellow_tripdata_2023-11.parquet/part-00007-712fa325-a43b-46d7-b3af-25cbc8ba6d2e-c000.snappy.parquet:\n"
     ]
    },
    {
     "name": "stderr",
     "output_type": "stream",
     "text": [
      "                                                                                \r"
     ]
    },
    {
     "name": "stdout",
     "output_type": "stream",
     "text": [
      "Saved gs://my-bigdata-project-cm/aggregated/part-00007-712fa325-a43b-46d7-b3af-25cbc8ba6d2e-c000.snappy.parquet\n",
      "Processing cleaned/yellow_tripdata_2023-11.parquet/part-00008-712fa325-a43b-46d7-b3af-25cbc8ba6d2e-c000.snappy.parquet:\n"
     ]
    },
    {
     "name": "stderr",
     "output_type": "stream",
     "text": [
      "                                                                                \r"
     ]
    },
    {
     "name": "stdout",
     "output_type": "stream",
     "text": [
      "Saved gs://my-bigdata-project-cm/aggregated/part-00008-712fa325-a43b-46d7-b3af-25cbc8ba6d2e-c000.snappy.parquet\n",
      "Processing cleaned/yellow_tripdata_2023-11.parquet/part-00009-712fa325-a43b-46d7-b3af-25cbc8ba6d2e-c000.snappy.parquet:\n"
     ]
    },
    {
     "name": "stderr",
     "output_type": "stream",
     "text": [
      "                                                                                \r"
     ]
    },
    {
     "name": "stdout",
     "output_type": "stream",
     "text": [
      "Saved gs://my-bigdata-project-cm/aggregated/part-00009-712fa325-a43b-46d7-b3af-25cbc8ba6d2e-c000.snappy.parquet\n",
      "Processing cleaned/yellow_tripdata_2023-11.parquet/part-00010-712fa325-a43b-46d7-b3af-25cbc8ba6d2e-c000.snappy.parquet:\n"
     ]
    },
    {
     "name": "stderr",
     "output_type": "stream",
     "text": [
      "                                                                                \r"
     ]
    },
    {
     "name": "stdout",
     "output_type": "stream",
     "text": [
      "Saved gs://my-bigdata-project-cm/aggregated/part-00010-712fa325-a43b-46d7-b3af-25cbc8ba6d2e-c000.snappy.parquet\n",
      "Processing cleaned/yellow_tripdata_2023-11.parquet/part-00011-712fa325-a43b-46d7-b3af-25cbc8ba6d2e-c000.snappy.parquet:\n"
     ]
    },
    {
     "name": "stderr",
     "output_type": "stream",
     "text": [
      "                                                                                \r"
     ]
    },
    {
     "name": "stdout",
     "output_type": "stream",
     "text": [
      "Saved gs://my-bigdata-project-cm/aggregated/part-00011-712fa325-a43b-46d7-b3af-25cbc8ba6d2e-c000.snappy.parquet\n",
      "Skipping file cleaned/yellow_tripdata_2023-12.parquet/\n",
      "Skipping file cleaned/yellow_tripdata_2023-12.parquet/_SUCCESS\n",
      "Processing cleaned/yellow_tripdata_2023-12.parquet/part-00000-e8d46610-a494-4488-a349-555d689edbe8-c000.snappy.parquet:\n"
     ]
    },
    {
     "name": "stderr",
     "output_type": "stream",
     "text": [
      "                                                                                \r"
     ]
    },
    {
     "name": "stdout",
     "output_type": "stream",
     "text": [
      "Saved gs://my-bigdata-project-cm/aggregated/part-00000-e8d46610-a494-4488-a349-555d689edbe8-c000.snappy.parquet\n",
      "Processing cleaned/yellow_tripdata_2023-12.parquet/part-00001-e8d46610-a494-4488-a349-555d689edbe8-c000.snappy.parquet:\n"
     ]
    },
    {
     "name": "stderr",
     "output_type": "stream",
     "text": [
      "                                                                                \r"
     ]
    },
    {
     "name": "stdout",
     "output_type": "stream",
     "text": [
      "Saved gs://my-bigdata-project-cm/aggregated/part-00001-e8d46610-a494-4488-a349-555d689edbe8-c000.snappy.parquet\n",
      "Processing cleaned/yellow_tripdata_2023-12.parquet/part-00002-e8d46610-a494-4488-a349-555d689edbe8-c000.snappy.parquet:\n"
     ]
    },
    {
     "name": "stderr",
     "output_type": "stream",
     "text": [
      "                                                                                \r"
     ]
    },
    {
     "name": "stdout",
     "output_type": "stream",
     "text": [
      "Saved gs://my-bigdata-project-cm/aggregated/part-00002-e8d46610-a494-4488-a349-555d689edbe8-c000.snappy.parquet\n",
      "Processing cleaned/yellow_tripdata_2023-12.parquet/part-00003-e8d46610-a494-4488-a349-555d689edbe8-c000.snappy.parquet:\n"
     ]
    },
    {
     "name": "stderr",
     "output_type": "stream",
     "text": [
      "                                                                                \r"
     ]
    },
    {
     "name": "stdout",
     "output_type": "stream",
     "text": [
      "Saved gs://my-bigdata-project-cm/aggregated/part-00003-e8d46610-a494-4488-a349-555d689edbe8-c000.snappy.parquet\n",
      "Processing cleaned/yellow_tripdata_2023-12.parquet/part-00004-e8d46610-a494-4488-a349-555d689edbe8-c000.snappy.parquet:\n"
     ]
    },
    {
     "name": "stderr",
     "output_type": "stream",
     "text": [
      "                                                                                \r"
     ]
    },
    {
     "name": "stdout",
     "output_type": "stream",
     "text": [
      "Saved gs://my-bigdata-project-cm/aggregated/part-00004-e8d46610-a494-4488-a349-555d689edbe8-c000.snappy.parquet\n",
      "Processing cleaned/yellow_tripdata_2023-12.parquet/part-00005-e8d46610-a494-4488-a349-555d689edbe8-c000.snappy.parquet:\n"
     ]
    },
    {
     "name": "stderr",
     "output_type": "stream",
     "text": [
      "                                                                                \r"
     ]
    },
    {
     "name": "stdout",
     "output_type": "stream",
     "text": [
      "Saved gs://my-bigdata-project-cm/aggregated/part-00005-e8d46610-a494-4488-a349-555d689edbe8-c000.snappy.parquet\n",
      "Processing cleaned/yellow_tripdata_2023-12.parquet/part-00006-e8d46610-a494-4488-a349-555d689edbe8-c000.snappy.parquet:\n"
     ]
    },
    {
     "name": "stderr",
     "output_type": "stream",
     "text": [
      "                                                                                \r"
     ]
    },
    {
     "name": "stdout",
     "output_type": "stream",
     "text": [
      "Saved gs://my-bigdata-project-cm/aggregated/part-00006-e8d46610-a494-4488-a349-555d689edbe8-c000.snappy.parquet\n",
      "Processing cleaned/yellow_tripdata_2023-12.parquet/part-00007-e8d46610-a494-4488-a349-555d689edbe8-c000.snappy.parquet:\n"
     ]
    },
    {
     "name": "stderr",
     "output_type": "stream",
     "text": [
      "                                                                                \r"
     ]
    },
    {
     "name": "stdout",
     "output_type": "stream",
     "text": [
      "Saved gs://my-bigdata-project-cm/aggregated/part-00007-e8d46610-a494-4488-a349-555d689edbe8-c000.snappy.parquet\n",
      "Processing cleaned/yellow_tripdata_2023-12.parquet/part-00008-e8d46610-a494-4488-a349-555d689edbe8-c000.snappy.parquet:\n"
     ]
    },
    {
     "name": "stderr",
     "output_type": "stream",
     "text": [
      "                                                                                \r"
     ]
    },
    {
     "name": "stdout",
     "output_type": "stream",
     "text": [
      "Saved gs://my-bigdata-project-cm/aggregated/part-00008-e8d46610-a494-4488-a349-555d689edbe8-c000.snappy.parquet\n",
      "Processing cleaned/yellow_tripdata_2023-12.parquet/part-00009-e8d46610-a494-4488-a349-555d689edbe8-c000.snappy.parquet:\n"
     ]
    },
    {
     "name": "stderr",
     "output_type": "stream",
     "text": [
      "                                                                                \r"
     ]
    },
    {
     "name": "stdout",
     "output_type": "stream",
     "text": [
      "Saved gs://my-bigdata-project-cm/aggregated/part-00009-e8d46610-a494-4488-a349-555d689edbe8-c000.snappy.parquet\n",
      "Processing cleaned/yellow_tripdata_2023-12.parquet/part-00010-e8d46610-a494-4488-a349-555d689edbe8-c000.snappy.parquet:\n"
     ]
    },
    {
     "name": "stderr",
     "output_type": "stream",
     "text": [
      "                                                                                \r"
     ]
    },
    {
     "name": "stdout",
     "output_type": "stream",
     "text": [
      "Saved gs://my-bigdata-project-cm/aggregated/part-00010-e8d46610-a494-4488-a349-555d689edbe8-c000.snappy.parquet\n",
      "Processing cleaned/yellow_tripdata_2023-12.parquet/part-00011-e8d46610-a494-4488-a349-555d689edbe8-c000.snappy.parquet:\n"
     ]
    },
    {
     "name": "stderr",
     "output_type": "stream",
     "text": [
      "                                                                                \r"
     ]
    },
    {
     "name": "stdout",
     "output_type": "stream",
     "text": [
      "Saved gs://my-bigdata-project-cm/aggregated/part-00011-e8d46610-a494-4488-a349-555d689edbe8-c000.snappy.parquet\n"
     ]
    }
   ],
   "source": [
    "# Create a client object that points to GCS\n",
    "storage_client = storage.Client()\n",
    "\n",
    "# Get a list of the 'blobs' (objects or files) in the bucket\n",
    "blobs = storage_client.list_blobs('my-bigdata-project-cm', prefix=\"cleaned/\")\n",
    "\n",
    "# Read the boroughs_sdf dataframe\n",
    "boroughs_sdf = spark.read.csv('gs://my-bigdata-project-cm/external_data/taxi_zone_lookup.csv', inferSchema=True, header=True)\n",
    "columns_to_drop = ['Zone', 'service_zone']\n",
    "boroughs_sdf = boroughs_sdf.drop(*columns_to_drop)\n",
    "\n",
    "# Run through the my-bigdata-project-cm bucket.\n",
    "for blob in blobs:\n",
    "    file_path = f'gs://my-bigdata-project-cm/{blob.name}'\n",
    "    \n",
    "    # Exclude the file title.\n",
    "    if not blob.name.endswith('.parquet') or blob.name == 'cleaned/':\n",
    "        print(f\"Skipping file {blob.name}\")\n",
    "        continue\n",
    "        \n",
    "    try:\n",
    "        # Read Parquet file from Google Cloud Storage\n",
    "        sdf = spark.read.parquet(file_path)\n",
    "        \n",
    "        # Drop unneeded columns\n",
    "        columns_to_drop = ['store_and_fwd_flag', 'VendorID']\n",
    "        sdf = sdf.drop(*columns_to_drop)\n",
    "        \n",
    "        # Sum up the numerical values of the trip fee columns\n",
    "        sdf = sdf.withColumn(\"total_amount\", expr(\"total_amount + congestion_surcharge + airport_fee\"))\n",
    "            \n",
    "        # Drop the columns related to the trip fee, as they are now redundant\n",
    "        columns_to_drop = [\"fare_amount\",\"extra\",\"mta_tax\",\"tolls_amount\",\"improvement_surcharge\",\"congestion_surcharge\",\"airport_fee\"]\n",
    "        sdf = sdf.drop(*columns_to_drop)\n",
    "        \n",
    "        print(f\"Processing {blob.name}:\")\n",
    "        \n",
    "        # Remove outliers from columns\n",
    "        sdf = remove_outliers_in_columns(sdf, 'passenger_count')\n",
    "        sdf = remove_outliers_in_columns(sdf, 'trip_distance')\n",
    "        sdf = remove_outliers_in_columns(sdf, 'tip_amount')\n",
    "\n",
    "        # Calculate the absolute difference in months between pickup and dropoff datetime\n",
    "        sdf = sdf.withColumn(\"pickup_dropoff_month_diff\", expr(\"abs(months_between(tpep_dropoff_datetime, tpep_pickup_datetime))\"))\n",
    "        # Filter out rows where the absolute difference is more than 2 months\n",
    "        sdf = sdf.filter(col(\"pickup_dropoff_month_diff\") <= 2)\n",
    "        sdf = sdf.drop('pickup_dropoff_month_diff')\n",
    "\n",
    "        # Joining boroughs_sdf with boroughs_sdf based on PULocationID\n",
    "        sdf = sdf.join(boroughs_sdf, sdf['PULocationID'] == boroughs_sdf['LocationID'], 'left') \\\n",
    "            .drop('LocationID') \\\n",
    "            .withColumnRenamed('Borough', 'Pickup_Borough')\n",
    "\n",
    "        # Creating new columns for pickup_month, pickup_year, and pickup_hour using date_format\n",
    "        sdf = sdf.withColumn('pickup_month', date_format('tpep_pickup_datetime', 'MM'))\n",
    "        sdf = sdf.withColumn('pickup_year', date_format('tpep_pickup_datetime', 'yyyy'))\n",
    "        sdf = sdf.withColumn('pickup_hour', date_format('tpep_pickup_datetime', 'HH'))\n",
    "\n",
    "        # Aggregations\n",
    "        tp_pc_borough_time = sdf.groupBy('Pickup_Borough', 'pickup_hour', 'pickup_year', 'pickup_month').agg(avg('passenger_count'), avg('tip_amount'), avg('total_amount'), count('*'))\n",
    "\n",
    "        # Save the DataFrame to GCS in Parquet format\n",
    "        file_path_tp_pc_borough_time = f'gs://my-bigdata-project-cm/aggregated/{blob.name.split(\"/\")[-1]}'\n",
    "        tp_pc_borough_time.write.parquet(file_path_tp_pc_borough_time, mode='overwrite')\n",
    "        \n",
    "        print(f\"Saved {file_path_tp_pc_borough_time}\")\n",
    "\n",
    "    except Exception as e:\n",
    "        print(f\"An error occurred on {blob.name}:\", str(e))\n",
    "        \n",
    "        # Check if the error is related to SparkContext\n",
    "        if \"Cannot call methods on a stopped SparkContext\" in str(e):\n",
    "            print(\"SparkContext error occurred. Stopping the program.\")\n",
    "            break  # Exit the loop\n",
    "        continue"
   ]
  },
  {
   "cell_type": "markdown",
   "id": "067866fd",
   "metadata": {},
   "source": [
    "# Iterate over each column in tp_pc_borough_time_df\n",
    "for col_name in tp_pc_borough_time_df.columns:\n",
    "    # Find the distinct values in the column\n",
    "    distinct_values = tp_pc_borough_time_df.select(col_name).distinct().collect()\n",
    "    # Print the column name and its distinct values\n",
    "    print(f\"Unique values in column '{col_name}':\")\n",
    "    for row in distinct_values:\n",
    "        print(row[0])\n"
   ]
  }
 ],
 "metadata": {
  "kernelspec": {
   "display_name": "Python 3 (ipykernel)",
   "language": "python",
   "name": "python3"
  },
  "language_info": {
   "codemirror_mode": {
    "name": "ipython",
    "version": 3
   },
   "file_extension": ".py",
   "mimetype": "text/x-python",
   "name": "python",
   "nbconvert_exporter": "python",
   "pygments_lexer": "ipython3",
   "version": "3.11.4"
  }
 },
 "nbformat": 4,
 "nbformat_minor": 5
}
