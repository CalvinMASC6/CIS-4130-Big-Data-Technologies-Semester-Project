{
 "cells": [
  {
   "cell_type": "code",
   "execution_count": 1,
   "id": "21e5a25b",
   "metadata": {},
   "outputs": [],
   "source": [
    "from pyspark.sql import SparkSession\n",
    "from pyspark import SparkContext\n",
    "from google.cloud import storage\n",
    "from pyspark.sql.functions import col, mean, stddev, expr, date_format, count, avg\n",
    "from pyspark.sql import DataFrame"
   ]
  },
  {
   "cell_type": "markdown",
   "id": "75f943fb",
   "metadata": {},
   "source": [
    "# Create SparkContext\n",
    "sc = SparkContext.getOrCreate()\n",
    "\n",
    "# Set the log level to ERROR to suppress INFO messages\n",
    "sc.setLogLevel(\"ERROR\")"
   ]
  },
  {
   "cell_type": "code",
   "execution_count": 3,
   "id": "eb127c56",
   "metadata": {},
   "outputs": [
    {
     "data": {
      "text/html": [
       "<style>pre {white-space: pre !important}</style>"
      ],
      "text/plain": [
       "<IPython.core.display.HTML object>"
      ]
     },
     "metadata": {},
     "output_type": "display_data"
    }
   ],
   "source": [
    "#fix the formating of the shows, so they don't overlap.\n",
    "def hscroll(activate=True):\n",
    "  \"\"\"activate/deactivate horizontal scrolling for wide output cells\"\"\"\n",
    "  from IPython.display import display, HTML\n",
    "  style = ('pre-wrap','pre')[activate] # select white-space style\n",
    "  display(HTML(\"<style>pre {white-space: %s !important}</style>\" % style))\n",
    "hscroll()"
   ]
  },
  {
   "cell_type": "code",
   "execution_count": 4,
   "id": "047a50b1",
   "metadata": {},
   "outputs": [],
   "source": [
    "#removes rows were outliers are present in the selected column\n",
    "def remove_outliers_in_columns(df, column_name, threshold=2):\n",
    "    # Calculate mean and standard deviation\n",
    "    mean_val = df.select(mean(col(column_name))).collect()[0][0]\n",
    "    std_val = df.select(stddev(col(column_name))).collect()[0][0]\n",
    "\n",
    "    # Calculate lower and upper bounds\n",
    "    lower_bound = mean_val - threshold * std_val\n",
    "    upper_bound = mean_val + threshold * std_val\n",
    "\n",
    "    # Filter out rows outside the threshold\n",
    "    filtered_df = df.filter((col(column_name) >= lower_bound) & (col(column_name) <= upper_bound))\n",
    "\n",
    "    return filtered_df"
   ]
  },
  {
   "cell_type": "code",
   "execution_count": null,
   "id": "3728f2a7",
   "metadata": {},
   "outputs": [],
   "source": [
    "# Create SparkSession\n",
    "spark = SparkSession.builder.getOrCreate()\n",
    "\n",
    "# Initialize DataFrames to hold the joined results\n",
    "tp_pc_borough_time_df = None\n",
    "\n",
    "# Create a client object that points to GCS\n",
    "storage_client = storage.Client()\n",
    "\n",
    "#import the boroughs_sdf dataframe\n",
    "boroughs_sdf = spark.read.csv('gs://my-bigdata-project-cm/external_data/taxi_zone_lookup.csv', inferSchema=True, header=True)\n",
    "columns_to_drop = ['Zone','service_zone']\n",
    "boroughs_sdf = boroughs_sdf.drop(*columns_to_drop)\n",
    "\n",
    "# Get a list of the 'blobs' (objects or files) in the bucket\n",
    "blobs = storage_client.list_blobs('my-bigdata-project-cm', prefix=\"cleaned/\")\n",
    "\n",
    "#run through the my-bigdata-project-cm bucket.\n",
    "for blob in blobs:\n",
    "    file_path = f'gs://my-bigdata-project-cm/{blob.name}'\n",
    "    \n",
    "    #exscluding the file title.\n",
    "    if not blob.name.endswith('.parquet') or blob.name == 'cleaned/':\n",
    "        print(f\"Skipping file {blob.name}\")\n",
    "        continue\n",
    "        \n",
    "    try:\n",
    "        # Read Parquet file from Google Cloud Storage\n",
    "        sdf = spark.read.parquet(file_path)\n",
    "        #sdf = sdf.sample(False, 0.2)\n",
    "        \n",
    "        #drop unneeded columns\n",
    "        columns_to_drop = ['store_and_fwd_flag', 'VendorID']\n",
    "        sdf = sdf.drop(*columns_to_drop)\n",
    "        \n",
    "        # Sum up the numerical values of the trip fee columns\n",
    "        sdf = sdf.withColumn(\"total_amount\", expr(\"total_amount + congestion_surcharge + airport_fee\"))\n",
    "            \n",
    "        # Drop the columns related to the trip fee, as they are now redundant\n",
    "        columns_to_drop = [\"fare_amount\",\"extra\",\"mta_tax\",\"tolls_amount\",\"improvement_surcharge\",\"congestion_surcharge\",\"airport_fee\"]\n",
    "        sdf = sdf.drop(*columns_to_drop)\n",
    "        \n",
    "        print(f\"Processing {blob.name}:\")\n",
    "        \n",
    "\n",
    "        #removes outliers from the passenger_count column\n",
    "        sdf = remove_outliers_in_columns(sdf, 'passenger_count')\n",
    "        #removes outliers from the trip_distance column\n",
    "        sdf = remove_outliers_in_columns(sdf, 'trip_distance')\n",
    "        #removes outliers from the tip_amount column\n",
    "        sdf = remove_outliers_in_columns(sdf, 'tip_amount')\n",
    "\n",
    "        # Calculate the absolute difference in months between pickup and dropoff datetime\n",
    "        sdf = sdf.withColumn(\"pickup_dropoff_month_diff\", expr(\"abs(months_between(tpep_dropoff_datetime, tpep_pickup_datetime))\"))\n",
    "        # Filter out rows where the absolute difference is more than 2 months\n",
    "        sdf = sdf.filter(col(\"pickup_dropoff_month_diff\") <= 2)\n",
    "        sdf = sdf.drop('pickup_dropoff_month_diff')\n",
    "\n",
    "        # Joining boroughs_sdf with boroughs_sdf based on PULocationID\n",
    "        sdf = sdf.join(boroughs_sdf, sdf['PULocationID'] == boroughs_sdf['LocationID'], 'left') \\\n",
    "            .drop('LocationID') \\\n",
    "            .withColumnRenamed('Borough', 'Pickup_Borough')\n",
    "\n",
    "\n",
    "        # Creating new columns for pickup_month, pickup_year, and pickup_hour using date_format\n",
    "        sdf = sdf.withColumn('pickup_month', date_format('tpep_pickup_datetime', 'MM'))\n",
    "        sdf = sdf.withColumn('pickup_year', date_format('tpep_pickup_datetime', 'yyyy'))\n",
    "        sdf = sdf.withColumn('pickup_hour', date_format('tpep_pickup_datetime', 'HH'))\n",
    "\n",
    "        # Aggregations remain the same as before\n",
    "        tp_pc_borough_time = sdf.groupBy('Pickup_Borough', 'pickup_hour', 'pickup_year', 'pickup_month').agg(avg('passenger_count'), avg('tip_amount'), avg('total_amount'),count('*'))\n",
    "\n",
    "        # Combine the DataFrames each loop\n",
    "        if tp_pc_borough_time_df is not None:\n",
    "            tp_pc_borough_time_df = tp_pc_borough_time_df.union(tp_pc_borough_time)\n",
    "        else:\n",
    "            tp_pc_borough_time_df = tp_pc_borough_time\n",
    "\n",
    "        #break\n",
    "    except Exception as e:\n",
    "        print(f\"An error occurred on {blob.name}:\", str(e))\n",
    "        continue\n",
    "        \n",
    "# Save the DataFrames to GCS in Parquet format\n",
    "file_path_tp_pc_borough_time = 'gs://my-bigdata-project-cm/aggregated/tp_pc_borough_time.parquet'\n",
    "tp_pc_borough_time_df.write.parquet(file_path_tp_pc_borough_time, mode='overwrite')\n",
    "\n",
    "\n",
    "# Display the first few rows of the Pandas DataFrame\n",
    "print(f'tp_pc_borough_time_df:{tp_pc_borough_time_df.count()}')\n",
    "print(tp_pc_borough_time_df.show(5))"
   ]
  },
  {
   "cell_type": "markdown",
   "id": "067866fd",
   "metadata": {},
   "source": [
    "# Iterate over each column in tp_pc_borough_time_df\n",
    "for col_name in tp_pc_borough_time_df.columns:\n",
    "    # Find the distinct values in the column\n",
    "    distinct_values = tp_pc_borough_time_df.select(col_name).distinct().collect()\n",
    "    # Print the column name and its distinct values\n",
    "    print(f\"Unique values in column '{col_name}':\")\n",
    "    for row in distinct_values:\n",
    "        print(row[0])\n"
   ]
  },
  {
   "cell_type": "markdown",
   "id": "c4457ece",
   "metadata": {},
   "source": [
    "# Define the file paths in GCS to save the DataFrames\n",
    "file_path_tp_pc_borough_time = 'gs://my-bigdata-project-cm/aggregated/tp_pc_borough_time.parquet'\n",
    "#file_path_trips_over_time = 'gs://my-bigdata-project-cm/aggregated/trips_over_time.parquet'\n",
    "\n",
    "# Save the DataFrames to Parquet format\n",
    "tp_pc_borough_time_df.write.parquet(file_path_tp_pc_borough_time, mode='overwrite')\n",
    "#trips_over_time_df.write.parquet(file_path_trips_over_time, mode='overwrite')\n"
   ]
  }
 ],
 "metadata": {
  "kernelspec": {
   "display_name": "Python 3 (ipykernel)",
   "language": "python",
   "name": "python3"
  },
  "language_info": {
   "codemirror_mode": {
    "name": "ipython",
    "version": 3
   },
   "file_extension": ".py",
   "mimetype": "text/x-python",
   "name": "python",
   "nbconvert_exporter": "python",
   "pygments_lexer": "ipython3",
   "version": "3.11.4"
  }
 },
 "nbformat": 4,
 "nbformat_minor": 5
}
