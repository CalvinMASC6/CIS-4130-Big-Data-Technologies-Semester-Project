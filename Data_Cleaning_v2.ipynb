{
 "cells": [
  {
   "cell_type": "markdown",
   "id": "946aec1a",
   "metadata": {},
   "source": [
    "pip install pyspark\n",
    "pip install shapely"
   ]
  },
  {
   "cell_type": "code",
   "execution_count": 2,
   "id": "d5d78e04",
   "metadata": {},
   "outputs": [],
   "source": [
    "#import spark functions\n",
    "from pyspark.sql import SparkSession\n",
    "from pyspark.sql.functions import when, col#, to_timestamp, lit, concat, udf, expr, round\n",
    "from pyspark.sql.column import Column#, _to_java_column, _to_seq\n",
    "from pyspark.sql.types import StringType, StructType, StructField, FloatType, IntegerType, BooleanType, TimestampType, DoubleType\n",
    "from pyspark import SparkContext\n",
    "import pandas as pd\n",
    "# Import the storage module\n",
    "from google.cloud import storage\n",
    "import requests"
   ]
  },
  {
   "cell_type": "code",
   "execution_count": 3,
   "id": "3371f615",
   "metadata": {},
   "outputs": [],
   "source": [
    "# Create SparkContext\n",
    "sc = SparkContext.getOrCreate()\n",
    "\n",
    "# Set the log level to ERROR to suppress INFO messages\n",
    "sc.setLogLevel(\"ERROR\")"
   ]
  },
  {
   "cell_type": "code",
   "execution_count": 4,
   "id": "10a28bc2",
   "metadata": {},
   "outputs": [
    {
     "data": {
      "text/html": [
       "<style>pre {white-space: pre !important}</style>"
      ],
      "text/plain": [
       "<IPython.core.display.HTML object>"
      ]
     },
     "metadata": {},
     "output_type": "display_data"
    }
   ],
   "source": [
    "#fix the formating of the shows, so they don't overlap.\n",
    "def hscroll(activate=True):\n",
    "  \"\"\"activate/deactivate horizontal scrolling for wide output cells\"\"\"\n",
    "  from IPython.display import display, HTML\n",
    "  style = ('pre-wrap','pre')[activate] # select white-space style\n",
    "  display(HTML(\"<style>pre {white-space: %s !important}</style>\" % style))\n",
    "hscroll()"
   ]
  },
  {
   "cell_type": "code",
   "execution_count": 5,
   "id": "b84fba1d",
   "metadata": {},
   "outputs": [],
   "source": [
    "def store_and_fwd_flag_filling(df): #cleans store_and_fwd_flag data\n",
    "\n",
    "    # Replace \"0\" and \"Null\" with \"False\" and \"1\" with \"True\" in store_and_fwd_flag column\n",
    "    df = df.withColumn(\"store_and_fwd_flag\",\n",
    "                       when((df[\"store_and_fwd_flag\"] == \"0\") | (df[\"store_and_fwd_flag\"] == \"N\"), False)\n",
    "                       .when((df[\"store_and_fwd_flag\"] == \"1\") | (df[\"store_and_fwd_flag\"] == \"Y\"), True) \n",
    "                       .otherwise(False)\n",
    "                       .cast(\"boolean\"))\n",
    "    return df"
   ]
  },
  {
   "cell_type": "code",
   "execution_count": 6,
   "id": "da385e03",
   "metadata": {},
   "outputs": [],
   "source": [
    "def month_year(blob):\n",
    "    # Create a dictionary mapping month names to numbers\n",
    "    month_mapping = {\n",
    "        \"January\": \"01\",\n",
    "        \"February\": \"02\",\n",
    "        \"March\": \"03\",\n",
    "        \"April\": \"04\",\n",
    "        \"May\": \"05\",\n",
    "        \"June\": \"06\",\n",
    "        \"July\": \"07\",\n",
    "        \"August\": \"08\",\n",
    "        \"September\": \"09\",\n",
    "        \"October\": \"10\",\n",
    "        \"November\": \"11\",\n",
    "        \"December\": \"12\"\n",
    "    }\n",
    "\n",
    "    # Extract year and month name from the blob name\n",
    "    year_month = blob.name.split('/')[2].split('_')\n",
    "    year = int(year_month[0])\n",
    "    month_name = year_month[1].split('.')[0]\n",
    "\n",
    "    # Get the numeric value of the month from the dictionary\n",
    "    month_number = month_mapping.get(month_name)\n",
    "\n",
    "    return year, month_number"
   ]
  },
  {
   "cell_type": "code",
   "execution_count": 7,
   "id": "3a507a38",
   "metadata": {},
   "outputs": [],
   "source": [
    "def transform_schema(df):\n",
    "    # Convert columns to the desired data types\n",
    "    df_transformed = df.withColumn(\"store_and_fwd_flag\", col(\"store_and_fwd_flag\").cast(BooleanType())) \\\n",
    "        .withColumn(\"tpep_pickup_datetime\", col(\"tpep_pickup_datetime\").cast(TimestampType())) \\\n",
    "        .withColumn(\"tpep_dropoff_datetime\", col(\"tpep_dropoff_datetime\").cast(TimestampType())) \\\n",
    "        .withColumn(\"VendorID\", col(\"VendorID\").cast(IntegerType())) \\\n",
    "        .withColumn(\"PULocationID\", col(\"PULocationID\").cast(IntegerType())) \\\n",
    "        .withColumn(\"DOLocationID\", col(\"DOLocationID\").cast(IntegerType())) \\\n",
    "        .withColumn(\"payment_type\", col(\"payment_type\").cast(IntegerType())) \\\n",
    "        .withColumn(\"passenger_count\", col(\"passenger_count\").cast(IntegerType())) \\\n",
    "        .withColumn(\"RatecodeID\", col(\"RatecodeID\").cast(IntegerType())) \\\n",
    "        .withColumn(\"fare_amount\", col(\"fare_amount\").cast(DoubleType())) \\\n",
    "        .withColumn(\"extra\", col(\"extra\").cast(DoubleType())) \\\n",
    "        .withColumn(\"mta_tax\", col(\"mta_tax\").cast(DoubleType())) \\\n",
    "        .withColumn(\"tip_amount\", col(\"tip_amount\").cast(DoubleType())) \\\n",
    "        .withColumn(\"tolls_amount\", col(\"tolls_amount\").cast(DoubleType())) \\\n",
    "        .withColumn(\"improvement_surcharge\", col(\"improvement_surcharge\").cast(DoubleType())) \\\n",
    "        .withColumn(\"total_amount\", col(\"total_amount\").cast(DoubleType())) \\\n",
    "        .withColumn(\"congestion_surcharge\", col(\"congestion_surcharge\").cast(DoubleType())) \\\n",
    "        .withColumn(\"airport_fee\", col(\"airport_fee\").cast(DoubleType()))\n",
    "\n",
    "    return df_transformed"
   ]
  },
  {
   "cell_type": "code",
   "execution_count": null,
   "id": "e21e9eab",
   "metadata": {
    "scrolled": true
   },
   "outputs": [
    {
     "name": "stdout",
     "output_type": "stream",
     "text": [
      "Skipping file landing/\n",
      "Skipping file landing/2009/2009_April.parquet from the year 2009\n",
      "Skipping file landing/2009/2009_August.parquet from the year 2009\n",
      "Skipping file landing/2009/2009_December.parquet from the year 2009\n",
      "Skipping file landing/2009/2009_February.parquet from the year 2009\n",
      "Skipping file landing/2009/2009_January.parquet from the year 2009\n",
      "Skipping file landing/2009/2009_July.parquet from the year 2009\n",
      "Skipping file landing/2009/2009_June.parquet from the year 2009\n",
      "Skipping file landing/2009/2009_March.parquet from the year 2009\n",
      "Skipping file landing/2009/2009_May.parquet from the year 2009\n",
      "Skipping file landing/2009/2009_November.parquet from the year 2009\n",
      "Skipping file landing/2009/2009_October.parquet from the year 2009\n",
      "Skipping file landing/2009/2009_September.parquet from the year 2009\n",
      "Skipping file landing/2010/2010_April.parquet from the year 2010\n",
      "Skipping file landing/2010/2010_August.parquet from the year 2010\n",
      "Skipping file landing/2010/2010_December.parquet from the year 2010\n",
      "Skipping file landing/2010/2010_February.parquet from the year 2010\n",
      "Skipping file landing/2010/2010_January.parquet from the year 2010\n",
      "Skipping file landing/2010/2010_July.parquet from the year 2010\n",
      "Skipping file landing/2010/2010_June.parquet from the year 2010\n",
      "Skipping file landing/2010/2010_March.parquet from the year 2010\n",
      "Skipping file landing/2010/2010_May.parquet from the year 2010\n",
      "Skipping file landing/2010/2010_November.parquet from the year 2010\n",
      "Skipping file landing/2010/2010_October.parquet from the year 2010\n",
      "Skipping file landing/2010/2010_September.parquet from the year 2010\n"
     ]
    },
    {
     "name": "stderr",
     "output_type": "stream",
     "text": [
      "                                                                                \r"
     ]
    },
    {
     "name": "stdout",
     "output_type": "stream",
     "text": [
      "Processing landing/2011/2011_April.parquet:\n"
     ]
    },
    {
     "name": "stderr",
     "output_type": "stream",
     "text": [
      "                                                                                \r"
     ]
    },
    {
     "name": "stdout",
     "output_type": "stream",
     "text": [
      "Number of rows pre-cleaning: 14718973\n"
     ]
    },
    {
     "name": "stderr",
     "output_type": "stream",
     "text": [
      "                                                                                \r"
     ]
    },
    {
     "name": "stdout",
     "output_type": "stream",
     "text": [
      "Number of rows post-cleaning: 14718854\n"
     ]
    },
    {
     "name": "stderr",
     "output_type": "stream",
     "text": [
      "                                                                                \r"
     ]
    },
    {
     "name": "stdout",
     "output_type": "stream",
     "text": [
      "File sucesfully processed and uploaded.\n",
      "\n"
     ]
    },
    {
     "name": "stderr",
     "output_type": "stream",
     "text": [
      "\r",
      "[Stage 13:>                                                         (0 + 1) / 1]\r",
      "\r",
      "                                                                                \r"
     ]
    },
    {
     "name": "stdout",
     "output_type": "stream",
     "text": [
      "Processing landing/2011/2011_August.parquet:\n"
     ]
    },
    {
     "name": "stderr",
     "output_type": "stream",
     "text": [
      "[Stage 14:====================================>                     (5 + 3) / 8]\r"
     ]
    },
    {
     "name": "stdout",
     "output_type": "stream",
     "text": [
      "Number of rows pre-cleaning: 13262441\n"
     ]
    },
    {
     "name": "stderr",
     "output_type": "stream",
     "text": [
      "                                                                                \r"
     ]
    },
    {
     "name": "stdout",
     "output_type": "stream",
     "text": [
      "Number of rows post-cleaning: 13262350\n"
     ]
    },
    {
     "name": "stderr",
     "output_type": "stream",
     "text": [
      "                                                                                \r"
     ]
    },
    {
     "name": "stdout",
     "output_type": "stream",
     "text": [
      "File sucesfully processed and uploaded.\n",
      "\n"
     ]
    },
    {
     "name": "stderr",
     "output_type": "stream",
     "text": [
      "                                                                                \r"
     ]
    },
    {
     "name": "stdout",
     "output_type": "stream",
     "text": [
      "Processing landing/2011/2011_December.parquet:\n"
     ]
    },
    {
     "name": "stderr",
     "output_type": "stream",
     "text": [
      "                                                                                \r"
     ]
    },
    {
     "name": "stdout",
     "output_type": "stream",
     "text": [
      "Number of rows pre-cleaning: 14925983\n"
     ]
    },
    {
     "name": "stderr",
     "output_type": "stream",
     "text": [
      "                                                                                \r"
     ]
    },
    {
     "name": "stdout",
     "output_type": "stream",
     "text": [
      "Number of rows post-cleaning: 14925842\n"
     ]
    },
    {
     "name": "stderr",
     "output_type": "stream",
     "text": [
      "                                                                                \r"
     ]
    },
    {
     "name": "stdout",
     "output_type": "stream",
     "text": [
      "File sucesfully processed and uploaded.\n",
      "\n",
      "Processing landing/2011/2011_February.parquet:\n"
     ]
    },
    {
     "name": "stderr",
     "output_type": "stream",
     "text": [
      "                                                                                \r"
     ]
    },
    {
     "name": "stdout",
     "output_type": "stream",
     "text": [
      "Number of rows pre-cleaning: 14202809\n"
     ]
    },
    {
     "name": "stderr",
     "output_type": "stream",
     "text": [
      "                                                                                \r"
     ]
    },
    {
     "name": "stdout",
     "output_type": "stream",
     "text": [
      "Number of rows post-cleaning: 14202689\n"
     ]
    },
    {
     "name": "stderr",
     "output_type": "stream",
     "text": [
      "                                                                                \r"
     ]
    },
    {
     "name": "stdout",
     "output_type": "stream",
     "text": [
      "File sucesfully processed and uploaded.\n",
      "\n",
      "Processing landing/2011/2011_January.parquet:\n"
     ]
    },
    {
     "name": "stderr",
     "output_type": "stream",
     "text": [
      "                                                                                \r"
     ]
    },
    {
     "name": "stdout",
     "output_type": "stream",
     "text": [
      "Number of rows pre-cleaning: 13464997\n"
     ]
    },
    {
     "name": "stderr",
     "output_type": "stream",
     "text": [
      "                                                                                \r"
     ]
    },
    {
     "name": "stdout",
     "output_type": "stream",
     "text": [
      "Number of rows post-cleaning: 13464885\n"
     ]
    },
    {
     "name": "stderr",
     "output_type": "stream",
     "text": [
      "                                                                                \r"
     ]
    },
    {
     "name": "stdout",
     "output_type": "stream",
     "text": [
      "File sucesfully processed and uploaded.\n",
      "\n"
     ]
    },
    {
     "name": "stderr",
     "output_type": "stream",
     "text": [
      "\r",
      "[Stage 65:>                                                         (0 + 1) / 1]\r",
      "\r",
      "                                                                                \r"
     ]
    },
    {
     "name": "stdout",
     "output_type": "stream",
     "text": [
      "Processing landing/2011/2011_July.parquet:\n"
     ]
    },
    {
     "name": "stderr",
     "output_type": "stream",
     "text": [
      "                                                                                \r"
     ]
    },
    {
     "name": "stdout",
     "output_type": "stream",
     "text": [
      "Number of rows pre-cleaning: 14742561\n"
     ]
    },
    {
     "name": "stderr",
     "output_type": "stream",
     "text": [
      "                                                                                \r"
     ]
    },
    {
     "name": "stdout",
     "output_type": "stream",
     "text": [
      "Number of rows post-cleaning: 14742455\n"
     ]
    },
    {
     "name": "stderr",
     "output_type": "stream",
     "text": [
      "                                                                                \r"
     ]
    },
    {
     "name": "stdout",
     "output_type": "stream",
     "text": [
      "File sucesfully processed and uploaded.\n",
      "\n"
     ]
    },
    {
     "name": "stderr",
     "output_type": "stream",
     "text": [
      "                                                                                \r"
     ]
    },
    {
     "name": "stdout",
     "output_type": "stream",
     "text": [
      "Processing landing/2011/2011_June.parquet:\n"
     ]
    },
    {
     "name": "stderr",
     "output_type": "stream",
     "text": [
      "                                                                                \r"
     ]
    },
    {
     "name": "stdout",
     "output_type": "stream",
     "text": [
      "Number of rows pre-cleaning: 15097861\n"
     ]
    },
    {
     "name": "stderr",
     "output_type": "stream",
     "text": [
      "24/04/01 22:09:21 ERROR TransportResponseHandler: Still have 1 requests outstanding when connection from /10.128.0.26:54824 is closed\n",
      "24/04/01 22:09:21 WARN BlockManagerMasterEndpoint: Error trying to remove shuffle 21 from block manager BlockManagerId(70, cluster-f375-w-2.us-central1-b.c.cis-4130-project-413301.internal, 37461, None)\n",
      "java.io.IOException: Connection from /10.128.0.26:54824 closed\n",
      "\tat org.apache.spark.network.client.TransportResponseHandler.channelInactive(TransportResponseHandler.java:147) ~[spark-network-common_2.12-3.5.0.jar:3.5.0]\n",
      "\tat org.apache.spark.network.server.TransportChannelHandler.channelInactive(TransportChannelHandler.java:117) ~[spark-network-common_2.12-3.5.0.jar:3.5.0]\n",
      "\tat io.netty.channel.AbstractChannelHandlerContext.invokeChannelInactive(AbstractChannelHandlerContext.java:305) ~[netty-transport-4.1.100.Final.jar:4.1.100.Final]\n",
      "\tat io.netty.channel.AbstractChannelHandlerContext.invokeChannelInactive(AbstractChannelHandlerContext.java:281) ~[netty-transport-4.1.100.Final.jar:4.1.100.Final]\n",
      "\tat io.netty.channel.AbstractChannelHandlerContext.fireChannelInactive(AbstractChannelHandlerContext.java:274) ~[netty-transport-4.1.100.Final.jar:4.1.100.Final]\n",
      "\tat io.netty.channel.ChannelInboundHandlerAdapter.channelInactive(ChannelInboundHandlerAdapter.java:81) ~[netty-transport-4.1.100.Final.jar:4.1.100.Final]\n",
      "\tat io.netty.handler.timeout.IdleStateHandler.channelInactive(IdleStateHandler.java:277) ~[netty-handler-4.1.100.Final.jar:4.1.100.Final]\n",
      "\tat io.netty.channel.AbstractChannelHandlerContext.invokeChannelInactive(AbstractChannelHandlerContext.java:303) ~[netty-transport-4.1.100.Final.jar:4.1.100.Final]\n",
      "\tat io.netty.channel.AbstractChannelHandlerContext.invokeChannelInactive(AbstractChannelHandlerContext.java:281) ~[netty-transport-4.1.100.Final.jar:4.1.100.Final]\n",
      "\tat io.netty.channel.AbstractChannelHandlerContext.fireChannelInactive(AbstractChannelHandlerContext.java:274) ~[netty-transport-4.1.100.Final.jar:4.1.100.Final]\n",
      "\tat io.netty.channel.ChannelInboundHandlerAdapter.channelInactive(ChannelInboundHandlerAdapter.java:81) ~[netty-transport-4.1.100.Final.jar:4.1.100.Final]\n",
      "\tat org.apache.spark.network.util.TransportFrameDecoder.channelInactive(TransportFrameDecoder.java:225) ~[spark-network-common_2.12-3.5.0.jar:3.5.0]\n",
      "\tat io.netty.channel.AbstractChannelHandlerContext.invokeChannelInactive(AbstractChannelHandlerContext.java:305) ~[netty-transport-4.1.100.Final.jar:4.1.100.Final]\n",
      "\tat io.netty.channel.AbstractChannelHandlerContext.invokeChannelInactive(AbstractChannelHandlerContext.java:281) ~[netty-transport-4.1.100.Final.jar:4.1.100.Final]\n",
      "\tat io.netty.channel.AbstractChannelHandlerContext.fireChannelInactive(AbstractChannelHandlerContext.java:274) ~[netty-transport-4.1.100.Final.jar:4.1.100.Final]\n",
      "\tat io.netty.channel.DefaultChannelPipeline$HeadContext.channelInactive(DefaultChannelPipeline.java:1405) ~[netty-transport-4.1.100.Final.jar:4.1.100.Final]\n",
      "\tat io.netty.channel.AbstractChannelHandlerContext.invokeChannelInactive(AbstractChannelHandlerContext.java:301) ~[netty-transport-4.1.100.Final.jar:4.1.100.Final]\n",
      "\tat io.netty.channel.AbstractChannelHandlerContext.invokeChannelInactive(AbstractChannelHandlerContext.java:281) ~[netty-transport-4.1.100.Final.jar:4.1.100.Final]\n",
      "\tat io.netty.channel.DefaultChannelPipeline.fireChannelInactive(DefaultChannelPipeline.java:901) ~[netty-transport-4.1.100.Final.jar:4.1.100.Final]\n",
      "\tat io.netty.channel.AbstractChannel$AbstractUnsafe$7.run(AbstractChannel.java:813) ~[netty-transport-4.1.100.Final.jar:4.1.100.Final]\n",
      "\tat io.netty.util.concurrent.AbstractEventExecutor.runTask(AbstractEventExecutor.java:173) ~[netty-common-4.1.100.Final.jar:4.1.100.Final]\n",
      "\tat io.netty.util.concurrent.AbstractEventExecutor.safeExecute(AbstractEventExecutor.java:166) ~[netty-common-4.1.100.Final.jar:4.1.100.Final]\n",
      "\tat io.netty.util.concurrent.SingleThreadEventExecutor.runAllTasks(SingleThreadEventExecutor.java:470) ~[netty-common-4.1.100.Final.jar:4.1.100.Final]\n",
      "\tat io.netty.channel.nio.NioEventLoop.run(NioEventLoop.java:566) ~[netty-transport-4.1.100.Final.jar:4.1.100.Final]\n",
      "\tat io.netty.util.concurrent.SingleThreadEventExecutor$4.run(SingleThreadEventExecutor.java:997) ~[netty-common-4.1.100.Final.jar:4.1.100.Final]\n",
      "\tat io.netty.util.internal.ThreadExecutorMap$2.run(ThreadExecutorMap.java:74) ~[netty-common-4.1.100.Final.jar:4.1.100.Final]\n",
      "\tat io.netty.util.concurrent.FastThreadLocalRunnable.run(FastThreadLocalRunnable.java:30) ~[netty-common-4.1.100.Final.jar:4.1.100.Final]\n",
      "\tat java.base/java.lang.Thread.run(Thread.java:829) [?:?]\n",
      "                                                                                \r"
     ]
    },
    {
     "name": "stdout",
     "output_type": "stream",
     "text": [
      "Number of rows post-cleaning: 15097741\n"
     ]
    },
    {
     "name": "stderr",
     "output_type": "stream",
     "text": [
      "                                                                                \r"
     ]
    },
    {
     "name": "stdout",
     "output_type": "stream",
     "text": [
      "File sucesfully processed and uploaded.\n",
      "\n"
     ]
    },
    {
     "name": "stderr",
     "output_type": "stream",
     "text": [
      "\r",
      "[Stage 91:>                                                         (0 + 1) / 1]\r",
      "\r",
      "                                                                                \r"
     ]
    },
    {
     "name": "stdout",
     "output_type": "stream",
     "text": [
      "Processing landing/2011/2011_March.parquet:\n"
     ]
    },
    {
     "name": "stderr",
     "output_type": "stream",
     "text": [
      "                                                                                \r"
     ]
    },
    {
     "name": "stdout",
     "output_type": "stream",
     "text": [
      "Number of rows pre-cleaning: 16066351\n"
     ]
    },
    {
     "name": "stderr",
     "output_type": "stream",
     "text": [
      "                                                                                \r"
     ]
    },
    {
     "name": "stdout",
     "output_type": "stream",
     "text": [
      "Number of rows post-cleaning: 16066191\n"
     ]
    },
    {
     "name": "stderr",
     "output_type": "stream",
     "text": [
      "                                                                                \r"
     ]
    },
    {
     "name": "stdout",
     "output_type": "stream",
     "text": [
      "File sucesfully processed and uploaded.\n",
      "\n",
      "Processing landing/2011/2011_May.parquet:\n"
     ]
    },
    {
     "name": "stderr",
     "output_type": "stream",
     "text": [
      "                                                                                \r"
     ]
    },
    {
     "name": "stdout",
     "output_type": "stream",
     "text": [
      "Number of rows pre-cleaning: 15554868\n"
     ]
    },
    {
     "name": "stderr",
     "output_type": "stream",
     "text": [
      "                                                                                \r"
     ]
    },
    {
     "name": "stdout",
     "output_type": "stream",
     "text": [
      "Number of rows post-cleaning: 15554750\n"
     ]
    },
    {
     "name": "stderr",
     "output_type": "stream",
     "text": [
      "                                                                                \r"
     ]
    },
    {
     "name": "stdout",
     "output_type": "stream",
     "text": [
      "File sucesfully processed and uploaded.\n",
      "\n"
     ]
    },
    {
     "name": "stderr",
     "output_type": "stream",
     "text": [
      "\r",
      "[Stage 117:>                                                        (0 + 1) / 1]\r",
      "\r",
      "                                                                                \r"
     ]
    },
    {
     "name": "stdout",
     "output_type": "stream",
     "text": [
      "Processing landing/2011/2011_November.parquet:\n"
     ]
    },
    {
     "name": "stderr",
     "output_type": "stream",
     "text": [
      "                                                                                \r"
     ]
    },
    {
     "name": "stdout",
     "output_type": "stream",
     "text": [
      "Number of rows pre-cleaning: 14525863\n"
     ]
    },
    {
     "name": "stderr",
     "output_type": "stream",
     "text": [
      "                                                                                \r"
     ]
    },
    {
     "name": "stdout",
     "output_type": "stream",
     "text": [
      "Number of rows post-cleaning: 14525737\n"
     ]
    },
    {
     "name": "stderr",
     "output_type": "stream",
     "text": [
      "                                                                                \r"
     ]
    },
    {
     "name": "stdout",
     "output_type": "stream",
     "text": [
      "File sucesfully processed and uploaded.\n",
      "\n"
     ]
    },
    {
     "name": "stderr",
     "output_type": "stream",
     "text": [
      "                                                                                \r"
     ]
    },
    {
     "name": "stdout",
     "output_type": "stream",
     "text": [
      "Processing landing/2011/2011_October.parquet:\n"
     ]
    },
    {
     "name": "stderr",
     "output_type": "stream",
     "text": [
      "                                                                                \r"
     ]
    },
    {
     "name": "stdout",
     "output_type": "stream",
     "text": [
      "Number of rows pre-cleaning: 15697804\n"
     ]
    },
    {
     "name": "stderr",
     "output_type": "stream",
     "text": [
      "                                                                                \r"
     ]
    },
    {
     "name": "stdout",
     "output_type": "stream",
     "text": [
      "Number of rows post-cleaning: 15697666\n"
     ]
    },
    {
     "name": "stderr",
     "output_type": "stream",
     "text": [
      "                                                                                \r"
     ]
    },
    {
     "name": "stdout",
     "output_type": "stream",
     "text": [
      "File sucesfully processed and uploaded.\n",
      "\n"
     ]
    },
    {
     "name": "stderr",
     "output_type": "stream",
     "text": [
      "                                                                                \r"
     ]
    },
    {
     "name": "stdout",
     "output_type": "stream",
     "text": [
      "Processing landing/2011/2011_September.parquet:\n"
     ]
    },
    {
     "name": "stderr",
     "output_type": "stream",
     "text": [
      "                                                                                \r"
     ]
    },
    {
     "name": "stdout",
     "output_type": "stream",
     "text": [
      "Number of rows pre-cleaning: 14626748\n"
     ]
    },
    {
     "name": "stderr",
     "output_type": "stream",
     "text": [
      "                                                                                \r"
     ]
    },
    {
     "name": "stdout",
     "output_type": "stream",
     "text": [
      "Number of rows post-cleaning: 14626616\n"
     ]
    },
    {
     "name": "stderr",
     "output_type": "stream",
     "text": [
      "                                                                                \r"
     ]
    },
    {
     "name": "stdout",
     "output_type": "stream",
     "text": [
      "File sucesfully processed and uploaded.\n",
      "\n"
     ]
    },
    {
     "name": "stderr",
     "output_type": "stream",
     "text": [
      "\r",
      "[Stage 156:>                                                        (0 + 1) / 1]\r",
      "\r",
      "                                                                                \r"
     ]
    },
    {
     "name": "stdout",
     "output_type": "stream",
     "text": [
      "Processing landing/2012/2012_April.parquet:\n"
     ]
    },
    {
     "name": "stderr",
     "output_type": "stream",
     "text": [
      "                                                                                \r"
     ]
    },
    {
     "name": "stdout",
     "output_type": "stream",
     "text": [
      "Number of rows pre-cleaning: 13427802\n"
     ]
    },
    {
     "name": "stderr",
     "output_type": "stream",
     "text": [
      "                                                                                \r"
     ]
    },
    {
     "name": "stdout",
     "output_type": "stream",
     "text": [
      "Number of rows post-cleaning: 13427720\n"
     ]
    },
    {
     "name": "stderr",
     "output_type": "stream",
     "text": [
      "                                                                                \r"
     ]
    },
    {
     "name": "stdout",
     "output_type": "stream",
     "text": [
      "File sucesfully processed and uploaded.\n",
      "\n"
     ]
    },
    {
     "name": "stderr",
     "output_type": "stream",
     "text": [
      "                                                                                \r"
     ]
    },
    {
     "name": "stdout",
     "output_type": "stream",
     "text": [
      "Processing landing/2012/2012_August.parquet:\n"
     ]
    },
    {
     "name": "stderr",
     "output_type": "stream",
     "text": [
      "                                                                                \r"
     ]
    },
    {
     "name": "stdout",
     "output_type": "stream",
     "text": [
      "Number of rows pre-cleaning: 14381752\n"
     ]
    },
    {
     "name": "stderr",
     "output_type": "stream",
     "text": [
      "[Stage 175:==================================================>    (12 + 1) / 13]\r"
     ]
    },
    {
     "name": "stdout",
     "output_type": "stream",
     "text": [
      "Number of rows post-cleaning: 14381514\n"
     ]
    },
    {
     "name": "stderr",
     "output_type": "stream",
     "text": [
      "                                                                                \r"
     ]
    },
    {
     "name": "stdout",
     "output_type": "stream",
     "text": [
      "File sucesfully processed and uploaded.\n",
      "\n"
     ]
    },
    {
     "name": "stderr",
     "output_type": "stream",
     "text": [
      "\r",
      "[Stage 182:>                                                        (0 + 1) / 1]\r",
      "\r",
      "                                                                                \r"
     ]
    },
    {
     "name": "stdout",
     "output_type": "stream",
     "text": [
      "Processing landing/2012/2012_December.parquet:\n"
     ]
    },
    {
     "name": "stderr",
     "output_type": "stream",
     "text": [
      "                                                                                \r"
     ]
    },
    {
     "name": "stdout",
     "output_type": "stream",
     "text": [
      "Number of rows pre-cleaning: 14696610\n"
     ]
    },
    {
     "name": "stderr",
     "output_type": "stream",
     "text": [
      "                                                                                \r"
     ]
    },
    {
     "name": "stdout",
     "output_type": "stream",
     "text": [
      "Number of rows post-cleaning: 14696490\n"
     ]
    },
    {
     "name": "stderr",
     "output_type": "stream",
     "text": [
      "                                                                                \r"
     ]
    },
    {
     "name": "stdout",
     "output_type": "stream",
     "text": [
      "File sucesfully processed and uploaded.\n",
      "\n"
     ]
    },
    {
     "name": "stderr",
     "output_type": "stream",
     "text": [
      "\r",
      "[Stage 195:>                                                        (0 + 1) / 1]\r",
      "\r",
      "                                                                                \r"
     ]
    },
    {
     "name": "stdout",
     "output_type": "stream",
     "text": [
      "Processing landing/2012/2012_February.parquet:\n"
     ]
    },
    {
     "name": "stderr",
     "output_type": "stream",
     "text": [
      "                                                                                \r"
     ]
    },
    {
     "name": "stdout",
     "output_type": "stream",
     "text": [
      "Number of rows pre-cleaning: 13361345\n"
     ]
    },
    {
     "name": "stderr",
     "output_type": "stream",
     "text": [
      "                                                                                \r"
     ]
    },
    {
     "name": "stdout",
     "output_type": "stream",
     "text": [
      "Number of rows post-cleaning: 13361253\n"
     ]
    },
    {
     "name": "stderr",
     "output_type": "stream",
     "text": [
      "                                                                                \r"
     ]
    },
    {
     "name": "stdout",
     "output_type": "stream",
     "text": [
      "File sucesfully processed and uploaded.\n",
      "\n"
     ]
    },
    {
     "name": "stderr",
     "output_type": "stream",
     "text": [
      "                                                                                \r"
     ]
    },
    {
     "name": "stdout",
     "output_type": "stream",
     "text": [
      "Processing landing/2012/2012_January.parquet:\n"
     ]
    },
    {
     "name": "stderr",
     "output_type": "stream",
     "text": [
      "                                                                                \r"
     ]
    },
    {
     "name": "stdout",
     "output_type": "stream",
     "text": [
      "Number of rows pre-cleaning: 13058348\n"
     ]
    },
    {
     "name": "stderr",
     "output_type": "stream",
     "text": [
      "                                                                                \r"
     ]
    },
    {
     "name": "stdout",
     "output_type": "stream",
     "text": [
      "Number of rows post-cleaning: 13058279\n"
     ]
    },
    {
     "name": "stderr",
     "output_type": "stream",
     "text": [
      "                                                                                \r"
     ]
    },
    {
     "name": "stdout",
     "output_type": "stream",
     "text": [
      "File sucesfully processed and uploaded.\n",
      "\n",
      "Processing landing/2012/2012_July.parquet:\n"
     ]
    },
    {
     "name": "stderr",
     "output_type": "stream",
     "text": [
      "                                                                                \r"
     ]
    },
    {
     "name": "stdout",
     "output_type": "stream",
     "text": [
      "Number of rows pre-cleaning: 14379307\n"
     ]
    },
    {
     "name": "stderr",
     "output_type": "stream",
     "text": [
      "                                                                                \r"
     ]
    },
    {
     "name": "stdout",
     "output_type": "stream",
     "text": [
      "Number of rows post-cleaning: 14379174\n"
     ]
    },
    {
     "name": "stderr",
     "output_type": "stream",
     "text": [
      "                                                                                \r"
     ]
    },
    {
     "name": "stdout",
     "output_type": "stream",
     "text": [
      "File sucesfully processed and uploaded.\n",
      "\n"
     ]
    },
    {
     "name": "stderr",
     "output_type": "stream",
     "text": [
      "\r",
      "[Stage 247:>                                                        (0 + 1) / 1]\r",
      "\r",
      "                                                                                \r"
     ]
    },
    {
     "name": "stdout",
     "output_type": "stream",
     "text": [
      "Processing landing/2012/2012_March.parquet:\n"
     ]
    },
    {
     "name": "stderr",
     "output_type": "stream",
     "text": [
      "                                                                                \r"
     ]
    },
    {
     "name": "stdout",
     "output_type": "stream",
     "text": [
      "Number of rows pre-cleaning: 16146923\n"
     ]
    },
    {
     "name": "stderr",
     "output_type": "stream",
     "text": [
      "                                                                                \r"
     ]
    },
    {
     "name": "stdout",
     "output_type": "stream",
     "text": [
      "Number of rows post-cleaning: 16146743\n"
     ]
    },
    {
     "name": "stderr",
     "output_type": "stream",
     "text": [
      "                                                                                \r"
     ]
    },
    {
     "name": "stdout",
     "output_type": "stream",
     "text": [
      "File sucesfully processed and uploaded.\n",
      "\n"
     ]
    },
    {
     "name": "stderr",
     "output_type": "stream",
     "text": [
      "\r",
      "[Stage 260:>                                                        (0 + 1) / 1]\r",
      "\r",
      "                                                                                \r"
     ]
    },
    {
     "name": "stdout",
     "output_type": "stream",
     "text": [
      "Processing landing/2012/2012_May.parquet:\n"
     ]
    },
    {
     "name": "stderr",
     "output_type": "stream",
     "text": [
      "                                                                                \r"
     ]
    },
    {
     "name": "stdout",
     "output_type": "stream",
     "text": [
      "Number of rows pre-cleaning: 13965253\n"
     ]
    },
    {
     "name": "stderr",
     "output_type": "stream",
     "text": [
      "                                                                                \r"
     ]
    },
    {
     "name": "stdout",
     "output_type": "stream",
     "text": [
      "Number of rows post-cleaning: 13965172\n"
     ]
    },
    {
     "name": "stderr",
     "output_type": "stream",
     "text": [
      "                                                                                \r"
     ]
    },
    {
     "name": "stdout",
     "output_type": "stream",
     "text": [
      "File sucesfully processed and uploaded.\n",
      "\n"
     ]
    },
    {
     "name": "stderr",
     "output_type": "stream",
     "text": [
      "\r",
      "[Stage 273:>                                                        (0 + 1) / 1]\r",
      "\r",
      "                                                                                \r"
     ]
    },
    {
     "name": "stdout",
     "output_type": "stream",
     "text": [
      "Processing landing/2012/2012_November.parquet:\n"
     ]
    },
    {
     "name": "stderr",
     "output_type": "stream",
     "text": [
      "                                                                                \r"
     ]
    },
    {
     "name": "stdout",
     "output_type": "stream",
     "text": [
      "Number of rows pre-cleaning: 13776030\n"
     ]
    },
    {
     "name": "stderr",
     "output_type": "stream",
     "text": [
      "                                                                                \r"
     ]
    },
    {
     "name": "stdout",
     "output_type": "stream",
     "text": [
      "Number of rows post-cleaning: 13775828\n"
     ]
    },
    {
     "name": "stderr",
     "output_type": "stream",
     "text": [
      "                                                                                \r"
     ]
    },
    {
     "name": "stdout",
     "output_type": "stream",
     "text": [
      "File sucesfully processed and uploaded.\n",
      "\n"
     ]
    },
    {
     "name": "stderr",
     "output_type": "stream",
     "text": [
      "\r",
      "[Stage 286:>                                                        (0 + 1) / 1]\r",
      "\r",
      "                                                                                \r"
     ]
    },
    {
     "name": "stdout",
     "output_type": "stream",
     "text": [
      "Processing landing/2012/2012_October.parquet:\n"
     ]
    },
    {
     "name": "stderr",
     "output_type": "stream",
     "text": [
      "                                                                                \r"
     ]
    },
    {
     "name": "stdout",
     "output_type": "stream",
     "text": [
      "Number of rows pre-cleaning: 14522315\n"
     ]
    },
    {
     "name": "stderr",
     "output_type": "stream",
     "text": [
      "                                                                                \r"
     ]
    },
    {
     "name": "stdout",
     "output_type": "stream",
     "text": [
      "Number of rows post-cleaning: 14522180\n"
     ]
    },
    {
     "name": "stderr",
     "output_type": "stream",
     "text": [
      "                                                                                \r"
     ]
    },
    {
     "name": "stdout",
     "output_type": "stream",
     "text": [
      "File sucesfully processed and uploaded.\n",
      "\n",
      "Processing landing/2012/2012_September.parquet:\n"
     ]
    },
    {
     "name": "stderr",
     "output_type": "stream",
     "text": [
      "                                                                                \r"
     ]
    },
    {
     "name": "stdout",
     "output_type": "stream",
     "text": [
      "Number of rows pre-cleaning: 14546854\n"
     ]
    },
    {
     "name": "stderr",
     "output_type": "stream",
     "text": [
      "                                                                                \r"
     ]
    },
    {
     "name": "stdout",
     "output_type": "stream",
     "text": [
      "Number of rows post-cleaning: 14546701\n"
     ]
    },
    {
     "name": "stderr",
     "output_type": "stream",
     "text": [
      "                                                                                \r"
     ]
    },
    {
     "name": "stdout",
     "output_type": "stream",
     "text": [
      "File sucesfully processed and uploaded.\n",
      "\n"
     ]
    },
    {
     "name": "stderr",
     "output_type": "stream",
     "text": [
      "                                                                                \r"
     ]
    },
    {
     "name": "stdout",
     "output_type": "stream",
     "text": [
      "Processing landing/2013/2013_April.parquet:\n"
     ]
    },
    {
     "name": "stderr",
     "output_type": "stream",
     "text": [
      "                                                                                \r"
     ]
    },
    {
     "name": "stdout",
     "output_type": "stream",
     "text": [
      "Number of rows pre-cleaning: 14652628\n"
     ]
    },
    {
     "name": "stderr",
     "output_type": "stream",
     "text": [
      "                                                                                \r"
     ]
    },
    {
     "name": "stdout",
     "output_type": "stream",
     "text": [
      "Number of rows post-cleaning: 14652459\n"
     ]
    },
    {
     "name": "stderr",
     "output_type": "stream",
     "text": [
      "                                                                                \r"
     ]
    },
    {
     "name": "stdout",
     "output_type": "stream",
     "text": [
      "File sucesfully processed and uploaded.\n",
      "\n"
     ]
    },
    {
     "name": "stderr",
     "output_type": "stream",
     "text": [
      "\r",
      "[Stage 325:>                                                        (0 + 1) / 1]\r",
      "\r",
      "                                                                                \r"
     ]
    },
    {
     "name": "stdout",
     "output_type": "stream",
     "text": [
      "Processing landing/2013/2013_August.parquet:\n"
     ]
    },
    {
     "name": "stderr",
     "output_type": "stream",
     "text": [
      "                                                                                \r"
     ]
    },
    {
     "name": "stdout",
     "output_type": "stream",
     "text": [
      "Number of rows pre-cleaning: 11681525\n"
     ]
    },
    {
     "name": "stderr",
     "output_type": "stream",
     "text": [
      "                                                                                \r"
     ]
    },
    {
     "name": "stdout",
     "output_type": "stream",
     "text": [
      "Number of rows post-cleaning: 11681426\n"
     ]
    },
    {
     "name": "stderr",
     "output_type": "stream",
     "text": [
      "[Stage 335:================================================>        (6 + 1) / 7]\r"
     ]
    }
   ],
   "source": [
    "# Create SparkSession\n",
    "spark = SparkSession.builder.getOrCreate()\n",
    "\n",
    "# Create a client object that points to GCS\n",
    "storage_client = storage.Client()\n",
    "\n",
    "# Get a list of the 'blobs' (objects or files) in the bucket\n",
    "blobs = storage_client.list_blobs('my-bigdata-project-cm', prefix=\"landing/\")\n",
    "\n",
    "#run through the my-bigdata-project-cm bucket.\n",
    "for blob in blobs:\n",
    "    file_path = f'gs://my-bigdata-project-cm/{blob.name}'\n",
    "    \n",
    "    year, month = month_year(blob)#call returns the month and year of the file\n",
    "    \n",
    "    #exscluding the file title.\n",
    "    if not blob.name.endswith('.parquet') or blob.name == 'landing/':\n",
    "        print(f\"Skipping file {blob.name}\")\n",
    "        continue\n",
    "    \n",
    "    if year <= 2010:# skip 2009 and 2010\n",
    "        print(f\"Skipping file {blob.name} from the year {year}\")\n",
    "        continue\n",
    "    \n",
    "    try:\n",
    "        # Read Parquet file from Google Cloud Storage\n",
    "        df = spark.read.parquet(file_path)\n",
    "        \n",
    "        print(f\"Processing {blob.name}:\")\n",
    "        # Print the row count pre-cleaning.\n",
    "        #print(\"Number of rows pre-cleaning:\", df.count())\n",
    "\n",
    "        # Show the first row of the DataFrame pre-cleaning\n",
    "        #print(df.show(1))\n",
    "\n",
    "    except Exception as e:\n",
    "        print(f\"An error occurred on {blob.name}:\", str(e))\n",
    "        continue\n",
    "\n",
    "    #drop duplicate column\n",
    "    df = df.dropDuplicates()\n",
    "\n",
    "    #clean store_and_fwd_flag\n",
    "    df = store_and_fwd_flag_filling(df)\n",
    "\n",
    "    #change passenger_count to int\n",
    "    df = df.withColumn(\"passenger_count\", col(\"passenger_count\").cast(\"int\"))\n",
    "\n",
    "    #change RatecodeID to int\n",
    "    df = df.withColumn(\"RatecodeID\", col(\"RatecodeID\").cast(\"int\"))\n",
    "\n",
    "    #Replace null values in the \"congestion_surcharge\" and \"Airport_fee\" columns with 0\n",
    "    df = df.fillna({'congestion_surcharge': 0.0, 'Airport_fee': 0.0})\n",
    "\n",
    "    # Drop rows where trip_distance is equal to 0.0\n",
    "    #df = df.filter(df[\"trip_distance\"] != 0.0) #leaving incase i want to look at cancled trips.\n",
    "\n",
    "    #drop all null rows.\n",
    "    df = df.dropna()\n",
    "\n",
    "    df = transform_schema(df)#enforce schema\n",
    "    \n",
    "    # Print the row count post-cleaning.\n",
    "    #print(\"Number of rows post-cleaning:\", df.count())\n",
    "\n",
    "    # Show the first row of the DataFrame post-cleaning\n",
    "    #print(df.show(1))\n",
    "    \n",
    "    # Print schema to see data types of all columns\n",
    "    #print(df.printSchema())\n",
    "    \n",
    "    # Save the cleaned dataframe as Parquet\n",
    "    output_file_path=f\"gs://my-bigdata-project-cm/cleaned/yellow_tripdata_{year}-{month}.parquet\"\n",
    "    df.write.parquet(output_file_path)\n",
    "    print(\"File successfully processed and uploaded.\\n\")\n",
    "print(\"All files finished processing.\")\n",
    "spark.stop()"
   ]
  }
 ],
 "metadata": {
  "kernelspec": {
   "display_name": "Python 3 (ipykernel)",
   "language": "python",
   "name": "python3"
  },
  "language_info": {
   "codemirror_mode": {
    "name": "ipython",
    "version": 3
   },
   "file_extension": ".py",
   "mimetype": "text/x-python",
   "name": "python",
   "nbconvert_exporter": "python",
   "pygments_lexer": "ipython3",
   "version": "3.11.4"
  }
 },
 "nbformat": 4,
 "nbformat_minor": 5
}
